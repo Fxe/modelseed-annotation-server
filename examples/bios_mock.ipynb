{
 "cells": [
  {
   "cell_type": "code",
   "execution_count": 1,
   "metadata": {},
   "outputs": [],
   "source": [
    "%run ../../scripts/bios_utils.py\n",
    "%run ../bios_mock.py"
   ]
  },
  {
   "cell_type": "code",
   "execution_count": 17,
   "metadata": {},
   "outputs": [],
   "source": [
    "import logging\n",
    "import json\n",
    "logger = logging.getLogger(__name__)"
   ]
  },
  {
   "cell_type": "code",
   "execution_count": 3,
   "metadata": {},
   "outputs": [],
   "source": [
    "data_path = '../data/bios_cache_fungi.json'\n",
    "with open(data_path, 'r') as f:\n",
    "    all_data = json.loads(f.read())"
   ]
  },
  {
   "cell_type": "code",
   "execution_count": 4,
   "metadata": {},
   "outputs": [
    {
     "data": {
      "text/plain": [
       "dict_keys(['iMM904', 'iJDZ836', 'iAL1006', 'iWV1213', 'iCT646', 'iJO1366', 'iCac802', 'iAF1260', 'iML1515', 'iSS884', 'iMA871', 'iLC915', 'iNL895', 'iRL766', 'iTO977', 'yeast_7.6', 'iOD907', 'yeast_6.06'])"
      ]
     },
     "execution_count": 4,
     "metadata": {},
     "output_type": "execute_result"
    }
   ],
   "source": [
    "all_data.keys()"
   ]
  },
  {
   "cell_type": "code",
   "execution_count": 2,
   "metadata": {},
   "outputs": [
    {
     "name": "stderr",
     "output_type": "stream",
     "text": [
      "[iWV1213] missing id\n",
      "[iWV1213] missing id\n",
      "[iWV1213] missing id\n",
      "[iWV1213] missing id\n",
      "[iWV1213] missing id\n",
      "[iWV1213] missing id\n",
      "[iWV1213] missing id\n"
     ]
    }
   ],
   "source": [
    "bios= BIOS_MOCK('../data/bios_cache_fungi.json')"
   ]
  },
  {
   "cell_type": "code",
   "execution_count": 23,
   "metadata": {},
   "outputs": [
    {
     "name": "stderr",
     "output_type": "stream",
     "text": [
      "[iWV1213] missing id\n",
      "[iWV1213] missing id\n",
      "[iWV1213] missing id\n",
      "[iWV1213] missing id\n",
      "[iWV1213] missing id\n",
      "[iWV1213] missing id\n",
      "[iWV1213] missing id\n"
     ]
    }
   ],
   "source": [
    "def index_data(model_data):\n",
    "    model_spi = {}\n",
    "    model_rxn = {}\n",
    "    for model_id in model_data:\n",
    "        model_spi[model_id] = {}\n",
    "        model_rxn[model_id] = {}\n",
    "        for o in model_data[model_id]['spi']:\n",
    "            if 'id' in o:\n",
    "                if o['id'] in model_spi[model_id]:\n",
    "                    print('1')\n",
    "                model_spi[model_id][o['id']] = o\n",
    "            else:\n",
    "                logger.warning('[%s] missing id', model_id)\n",
    "        for o in model_data[model_id]['rxn']:\n",
    "            if 'id' in o:\n",
    "                if o['id'] in model_rxn[model_id]:\n",
    "                    print('1')\n",
    "                model_rxn[model_id][o['id']] = o\n",
    "            else:\n",
    "                logger.warning('[%s] missing id', model_id)\n",
    "    return model_spi, model_rxn\n",
    "model_spi, model_rxn = index_data(all_data)"
   ]
  },
  {
   "cell_type": "code",
   "execution_count": 3,
   "metadata": {},
   "outputs": [
    {
     "data": {
      "text/plain": [
       "{'major_label': 'MetaboliteSpecie',\n",
       " 'annotation': '<annotation>\\n          <rdf:RDF xmlns:rdf=\"http://www.w3.org/1999/02/22-rdf-syntax-ns#\" xmlns:bqbiol=\"http://biomodels.net/biology-qualifiers/\">\\n            <rdf:Description rdf:about=\"#M_h2o_c\">\\n              <bqbiol:is>\\n                <rdf:Bag>\\n                  <rdf:li rdf:resource=\"http://identifiers.org/bigg.metabolite/h2o\"/>\\n                  <rdf:li rdf:resource=\"http://identifiers.org/biocyc/META:CPD-15815\"/>\\n                  <rdf:li rdf:resource=\"http://identifiers.org/biocyc/META:HYDROXYL-GROUP\"/>\\n                  <rdf:li rdf:resource=\"http://identifiers.org/biocyc/META:OH\"/>\\n                  <rdf:li rdf:resource=\"http://identifiers.org/biocyc/META:OXONIUM\"/>\\n                  <rdf:li rdf:resource=\"http://identifiers.org/biocyc/META:WATER\"/>\\n                  <rdf:li rdf:resource=\"http://identifiers.org/chebi/CHEBI:10743\"/>\\n                  <rdf:li rdf:resource=\"http://identifiers.org/chebi/CHEBI:13352\"/>\\n                  <rdf:li rdf:resource=\"http://identifiers.org/chebi/CHEBI:13365\"/>\\n                  <rdf:li rdf:resource=\"http://identifiers.org/chebi/CHEBI:13419\"/>\\n                  <rdf:li rdf:resource=\"http://identifiers.org/chebi/CHEBI:15377\"/>\\n                  <rdf:li rdf:resource=\"http://identifiers.org/chebi/CHEBI:16234\"/>\\n                  <rdf:li rdf:resource=\"http://identifiers.org/chebi/CHEBI:27313\"/>\\n                  <rdf:li rdf:resource=\"http://identifiers.org/chebi/CHEBI:29356\"/>\\n                  <rdf:li rdf:resource=\"http://identifiers.org/chebi/CHEBI:29373\"/>\\n                  <rdf:li rdf:resource=\"http://identifiers.org/chebi/CHEBI:29374\"/>\\n                  <rdf:li rdf:resource=\"http://identifiers.org/chebi/CHEBI:29375\"/>\\n                  <rdf:li rdf:resource=\"http://identifiers.org/chebi/CHEBI:29412\"/>\\n                  <rdf:li rdf:resource=\"http://identifiers.org/chebi/CHEBI:30490\"/>\\n                  <rdf:li rdf:resource=\"http://identifiers.org/chebi/CHEBI:33806\"/>\\n                  <rdf:li rdf:resource=\"http://identifiers.org/chebi/CHEBI:33811\"/>\\n                  <rdf:li rdf:resource=\"http://identifiers.org/chebi/CHEBI:33813\"/>\\n                  <rdf:li rdf:resource=\"http://identifiers.org/chebi/CHEBI:41979\"/>\\n                  <rdf:li rdf:resource=\"http://identifiers.org/chebi/CHEBI:41981\"/>\\n                  <rdf:li rdf:resource=\"http://identifiers.org/chebi/CHEBI:42043\"/>\\n                  <rdf:li rdf:resource=\"http://identifiers.org/chebi/CHEBI:42857\"/>\\n                  <rdf:li rdf:resource=\"http://identifiers.org/chebi/CHEBI:43228\"/>\\n                  <rdf:li rdf:resource=\"http://identifiers.org/chebi/CHEBI:44292\"/>\\n                  <rdf:li rdf:resource=\"http://identifiers.org/chebi/CHEBI:44641\"/>\\n                  <rdf:li rdf:resource=\"http://identifiers.org/chebi/CHEBI:44701\"/>\\n                  <rdf:li rdf:resource=\"http://identifiers.org/chebi/CHEBI:44819\"/>\\n                  <rdf:li rdf:resource=\"http://identifiers.org/chebi/CHEBI:5585\"/>\\n                  <rdf:li rdf:resource=\"http://identifiers.org/chebi/CHEBI:5594\"/>\\n                  <rdf:li rdf:resource=\"http://identifiers.org/hmdb/HMDB02111\"/>\\n                  <rdf:li rdf:resource=\"http://identifiers.org/kegg.compound/C00001\"/>\\n                  <rdf:li rdf:resource=\"http://identifiers.org/kegg.compound/C01328\"/>\\n                  <rdf:li rdf:resource=\"http://identifiers.org/kegg.compound/C18714\"/>\\n                  <rdf:li rdf:resource=\"http://identifiers.org/kegg.drug/D00001\"/>\\n                  <rdf:li rdf:resource=\"http://identifiers.org/kegg.drug/D03703\"/>\\n                  <rdf:li rdf:resource=\"http://identifiers.org/kegg.drug/D06322\"/>\\n                  <rdf:li rdf:resource=\"http://identifiers.org/metanetx.chemical/MNXM2\"/>\\n                  <rdf:li rdf:resource=\"http://identifiers.org/seed.compound/cpd00001\"/>\\n                  <rdf:li rdf:resource=\"http://identifiers.org/seed.compound/cpd15275\"/>\\n                  <rdf:li rdf:resource=\"http://identifiers.org/seed.compound/cpd27222\"/>\\n                </rdf:Bag>\\n              </bqbiol:is>\\n            </rdf:Description>\\n          </rdf:RDF>\\n        </annotation>',\n",
       " 'bios_references': [['C00001', 'LigandCompound'],\n",
       "  ['META:WATER', 'MetaCyc'],\n",
       "  ['h2o', 'BiGG'],\n",
       "  ['cpd00001', 'ModelSeed'],\n",
       "  ['h2o', 'BiGGMetabolite']],\n",
       " 'charge': '0',\n",
       " 'constant': 'false',\n",
       " 'bios_spi_degree': 274,\n",
       " 'metaid': 'M_h2o_c',\n",
       " 'hasOnlySubstanceUnits': 'false',\n",
       " 'created_at': 1529623167257,\n",
       " 'bios_id': 3152861,\n",
       " 'proxy': False,\n",
       " 'entry': 'species_30517_7@iMM904',\n",
       " 'boundaryCondition': 'false',\n",
       " 'updated_at': 1529623167257,\n",
       " 'chemicalFormula': 'H2O',\n",
       " 'compartment': 'c',\n",
       " 'name': 'H2O H2O',\n",
       " 'id': 'M_h2o_c'}"
      ]
     },
     "execution_count": 3,
     "metadata": {},
     "output_type": "execute_result"
    }
   ],
   "source": [
    "bios.get_model_specie('iMM904', 'M_h2o_c')"
   ]
  },
  {
   "cell_type": "code",
   "execution_count": 5,
   "metadata": {},
   "outputs": [
    {
     "data": {
      "text/plain": [
       "{('M_pep_c', '?'): -1.0,\n",
       " ('M_adp_c', '?'): -1.0,\n",
       " ('M_h_c', '?'): -1.0,\n",
       " ('M_atp_c', '?'): 1.0,\n",
       " ('M_pyr_c', '?'): 1.0}"
      ]
     },
     "execution_count": 5,
     "metadata": {},
     "output_type": "execute_result"
    }
   ],
   "source": [
    "rxn = bios.get_model_reaction('iMM904', 'R_PYK')\n",
    "rxn.cstoichiometry"
   ]
  },
  {
   "cell_type": "code",
   "execution_count": null,
   "metadata": {},
   "outputs": [],
   "source": []
  }
 ],
 "metadata": {
  "kernelspec": {
   "display_name": "Python 3",
   "language": "python",
   "name": "python3"
  },
  "language_info": {
   "codemirror_mode": {
    "name": "ipython",
    "version": 3
   },
   "file_extension": ".py",
   "mimetype": "text/x-python",
   "name": "python",
   "nbconvert_exporter": "python",
   "pygments_lexer": "ipython3",
   "version": "3.7.4"
  }
 },
 "nbformat": 4,
 "nbformat_minor": 4
}
