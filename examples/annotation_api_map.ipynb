{
 "cells": [
  {
   "cell_type": "code",
   "execution_count": 1,
   "metadata": {},
   "outputs": [
    {
     "name": "stdout",
     "output_type": "stream",
     "text": [
      "cobrakbase 0.2.2\n"
     ]
    }
   ],
   "source": [
    "import cobra\n",
    "import escher\n",
    "import cobrakbase\n",
    "import modelseed_escher\n",
    "from modelseed_escher import EscherManager\n",
    "from modelseed_escher.map import EscherCluster\n",
    "import biosapi\n",
    "%run ../../scripts/bios_utils.py"
   ]
  },
  {
   "cell_type": "code",
   "execution_count": 2,
   "metadata": {},
   "outputs": [],
   "source": [
    "%run ../escher_grid_merge.py"
   ]
  },
  {
   "cell_type": "code",
   "execution_count": null,
   "metadata": {},
   "outputs": [],
   "source": []
  },
  {
   "cell_type": "code",
   "execution_count": 3,
   "metadata": {},
   "outputs": [],
   "source": [
    "bios = biosapi.BIOS()    \n",
    "escher_manager = modelseed_escher.EscherManager(escher)"
   ]
  },
  {
   "cell_type": "code",
   "execution_count": 4,
   "metadata": {},
   "outputs": [
    {
     "name": "stdout",
     "output_type": "stream",
     "text": [
      "213 ModelSEED.Mannitol Utilization 0 0 2005.3101806640625 3448.5691528320312 c\n",
      "241 ModelSEED.Glycine Cleavage System 1 0 2005.3101806640625 3448.5691528320312 c\n",
      "271 ModelSEED.Serine Biosynthesis 2 0 2005.3101806640625 3448.5691528320312 c\n",
      "311 ModelSEED.Histidine Degradation 0 1 2005.3101806640625 3448.5691528320312 c\n",
      "425 ModelSEED.Heme and Siroheme Biosynthesis 1 1 2005.3101806640625 3448.5691528320312 c\n"
     ]
    },
    {
     "data": {
      "text/plain": [
       "{'models': ['iMM904'],\n",
       " 'records': [{'model_data': {'c': {'iMM904': ['M_nad_c']}},\n",
       "   'database': {'seed.compound': ['cpd00003']}},\n",
       "  {'model_data': {'c': {'iMM904': ['M_nadh_c']}},\n",
       "   'database': {'seed.compound': ['cpd00004']}},\n",
       "  {'model_data': {'c': {'iMM904': ['M_h_c']}},\n",
       "   'database': {'seed.compound': ['cpd00067']}},\n",
       "  {'model_data': {'c': {'iMM904': ['M_man6p_c']}},\n",
       "   'database': {'seed.compound': ['cpd00235']}},\n",
       "  {'model_data': {'c': {'iMM904': ['M_atp_c']}},\n",
       "   'database': {'seed.compound': ['cpd00002']}},\n",
       "  {'model_data': {'c': {'iMM904': ['M_man_c']}},\n",
       "   'database': {'seed.compound': ['cpd00138']}},\n",
       "  {'model_data': {'c': {'iMM904': ['M_adp_c']}},\n",
       "   'database': {'seed.compound': ['cpd00008']}},\n",
       "  {'model_data': {'c': {'iMM904': ['M_h_c']}},\n",
       "   'database': {'seed.compound': ['cpd00067']}},\n",
       "  {'model_data': {'c': {'iMM904': ['M_nad_c']}},\n",
       "   'database': {'seed.compound': ['cpd00003']}},\n",
       "  {'model_data': {'c': {'iMM904': ['M_nadh_c']}},\n",
       "   'database': {'seed.compound': ['cpd00004']}},\n",
       "  {'model_data': {'c': {'iMM904': ['M_h_c']}},\n",
       "   'database': {'seed.compound': ['cpd00067']}},\n",
       "  {'model_data': {'c': {'iMM904': ['M_gly_c']}},\n",
       "   'database': {'seed.compound': ['cpd00033']}},\n",
       "  {'model_data': {'c': {'iMM904': ['M_h_c']}},\n",
       "   'database': {'seed.compound': ['cpd00067']}},\n",
       "  {'model_data': {'c': {'iMM904': ['M_co2_c']}},\n",
       "   'database': {'seed.compound': ['cpd00011']}},\n",
       "  {'model_data': {'c': {'iMM904': ['M_h2o_c']}},\n",
       "   'database': {'seed.compound': ['cpd00001']}},\n",
       "  {'model_data': {'c': {'iMM904': ['M_ser__L_c']}},\n",
       "   'database': {'seed.compound': ['cpd00054']}},\n",
       "  {'model_data': {'c': {'iMM904': ['M_thf_c']}},\n",
       "   'database': {'seed.compound': ['cpd00087']}},\n",
       "  {'model_data': {'c': {'iMM904': ['M_nh4_c']}},\n",
       "   'database': {'seed.compound': ['cpd00013']}},\n",
       "  {'model_data': {'c': {'iMM904': ['M_mlthf_c']}},\n",
       "   'database': {'seed.compound': ['cpd00125']}},\n",
       "  {'model_data': {'c': {'iMM904': ['M_nad_c']}},\n",
       "   'database': {'seed.compound': ['cpd00003']}},\n",
       "  {'model_data': {'c': {'iMM904': ['M_nadh_c']}},\n",
       "   'database': {'seed.compound': ['cpd00004']}},\n",
       "  {'model_data': {'c': {'iMM904': ['M_h_c']}},\n",
       "   'database': {'seed.compound': ['cpd00067']}},\n",
       "  {'model_data': {'c': {'iMM904': ['M_akg_c']}},\n",
       "   'database': {'seed.compound': ['cpd00024']}},\n",
       "  {'model_data': {'c': {'iMM904': ['M_glu__L_c']}},\n",
       "   'database': {'seed.compound': ['cpd00023']}},\n",
       "  {'model_data': {'c': {'iMM904': ['M_3php_c']}},\n",
       "   'database': {'seed.compound': ['cpd02069']}},\n",
       "  {'model_data': {'c': {'iMM904': ['M_h2o_c']}},\n",
       "   'database': {'seed.compound': ['cpd00001']}},\n",
       "  {'model_data': {'c': {'iMM904': ['M_pser__L_c']}},\n",
       "   'database': {'seed.compound': ['cpd00738']}},\n",
       "  {'model_data': {'c': {'iMM904': ['M_pi_c']}},\n",
       "   'database': {'seed.compound': ['cpd00009']}},\n",
       "  {'model_data': {'c': {'iMM904': ['M_ser__L_c']}},\n",
       "   'database': {'seed.compound': ['cpd00054']}},\n",
       "  {'model_data': {'c': {'iMM904': ['M_nad_c']}},\n",
       "   'database': {'seed.compound': ['cpd00003']}},\n",
       "  {'model_data': {'c': {'iMM904': ['M_3pg_c']}},\n",
       "   'database': {'seed.compound': ['cpd00169']}},\n",
       "  {'model_data': {'c': {'iMM904': ['M_nadh_c']}},\n",
       "   'database': {'seed.compound': ['cpd00004']}},\n",
       "  {'model_data': {'c': {'iMM904': ['M_h_c']}},\n",
       "   'database': {'seed.compound': ['cpd00067']}},\n",
       "  {'model_data': {'c': {'iMM904': ['M_h2o_c']}},\n",
       "   'database': {'seed.compound': ['cpd00001']}},\n",
       "  {'model_data': {'c': {'iMM904': ['M_gly_c']}},\n",
       "   'database': {'seed.compound': ['cpd00033']}},\n",
       "  {'model_data': {'c': {'iMM904': ['M_mlthf_c']}},\n",
       "   'database': {'seed.compound': ['cpd00125']}},\n",
       "  {'model_data': {'c': {'iMM904': ['M_thf_c']}},\n",
       "   'database': {'seed.compound': ['cpd00087']}},\n",
       "  {'model_data': {'c': {'iMM904': ['M_his__L_c']}},\n",
       "   'database': {'seed.compound': ['cpd00119']}},\n",
       "  {'model_data': {'c': {'iMM904': ['M_nh4_c']}},\n",
       "   'database': {'seed.compound': ['cpd00013']}},\n",
       "  {'model_data': {'c': {'iMM904': ['M_h2o_c']}},\n",
       "   'database': {'seed.compound': ['cpd00001']}},\n",
       "  {'model_data': {'c': {'iMM904': ['M_glu__L_c']}},\n",
       "   'database': {'seed.compound': ['cpd00023']}},\n",
       "  {'model_data': {'c': {'iMM904': ['M_h2o_c']}},\n",
       "   'database': {'seed.compound': ['cpd00001']}},\n",
       "  {'model_data': {'c': {'iMM904': ['M_h2o_c']}},\n",
       "   'database': {'seed.compound': ['cpd00001']}},\n",
       "  {'model_data': {'c': {'iMM904': ['M_thf_c']}},\n",
       "   'database': {'seed.compound': ['cpd00087']}},\n",
       "  {'model_data': {'c': {'iMM904': ['M_h2o_c']}},\n",
       "   'database': {'seed.compound': ['cpd00001']}},\n",
       "  {'model_data': {'c': {'iMM904': ['M_nh4_c']}},\n",
       "   'database': {'seed.compound': ['cpd00013']}},\n",
       "  {'model_data': {'c': {'iMM904': ['M_h_c']}},\n",
       "   'database': {'seed.compound': ['cpd00067']}},\n",
       "  {'model_data': {'c': {'iMM904': ['M_nh4_c']}},\n",
       "   'database': {'seed.compound': ['cpd00013']}},\n",
       "  {'model_data': {'c': {'iMM904': ['M_methf_c']}},\n",
       "   'database': {'seed.compound': ['cpd00347']}},\n",
       "  {'model_data': {'c': {'iMM904': ['M_h2o_c']}},\n",
       "   'database': {'seed.compound': ['cpd00001']}},\n",
       "  {'model_data': {'c': {'iMM904': ['M_for_c']}},\n",
       "   'database': {'seed.compound': ['cpd00047']}},\n",
       "  {'model_data': {'c': {'iMM904': ['M_5aop_c']}},\n",
       "   'database': {'seed.compound': ['cpd00338']}},\n",
       "  {'model_data': {'c': {'iMM904': ['M_h2o_c']}},\n",
       "   'database': {'seed.compound': ['cpd00001']}},\n",
       "  {'model_data': {'c': {'iMM904': ['M_h_c']}},\n",
       "   'database': {'seed.compound': ['cpd00067']}},\n",
       "  {'model_data': {'c': {'iMM904': ['M_ppbng_c']}},\n",
       "   'database': {'seed.compound': ['cpd00689']}},\n",
       "  {'model_data': {'c': {'iMM904': ['M_fe2_c']}},\n",
       "   'database': {'seed.compound': ['cpd10515']}},\n",
       "  {'model_data': {'c': {'iMM904': ['M_h_c']}},\n",
       "   'database': {'seed.compound': ['cpd00067']}},\n",
       "  {'model_data': {'c': {'iMM904': ['M_h2o_c']}},\n",
       "   'database': {'seed.compound': ['cpd00001']}},\n",
       "  {'model_data': {'c': {'iMM904': ['M_uppg3_c']}},\n",
       "   'database': {'seed.compound': ['cpd00774']}},\n",
       "  {'model_data': {'c': {'iMM904': ['M_nadph_c']}},\n",
       "   'database': {'seed.compound': ['cpd00005']}},\n",
       "  {'model_data': {'c': {'iMM904': ['M_h_c']}},\n",
       "   'database': {'seed.compound': ['cpd00067']}},\n",
       "  {'model_data': {'c': {'iMM904': ['M_nadp_c']}},\n",
       "   'database': {'seed.compound': ['cpd00006']}},\n",
       "  {'model_data': {'c': {'iMM904': ['M_trnaglu_c']}},\n",
       "   'database': {'seed.compound': ['cpd11912']}},\n",
       "  {'model_data': {'c': {'iMM904': ['M_h_c']}},\n",
       "   'database': {'seed.compound': ['cpd00067']}},\n",
       "  {'model_data': {'c': {'iMM904': ['M_co2_c']}},\n",
       "   'database': {'seed.compound': ['cpd00011']}},\n",
       "  {'model_data': {'c': {'iMM904': ['M_atp_c']}},\n",
       "   'database': {'seed.compound': ['cpd00002']}},\n",
       "  {'model_data': {'c': {'iMM904': ['M_glu__L_c']}},\n",
       "   'database': {'seed.compound': ['cpd00023']}},\n",
       "  {'model_data': {'c': {'iMM904': ['M_ppi_c']}},\n",
       "   'database': {'seed.compound': ['cpd00012']}},\n",
       "  {'model_data': {'c': {'iMM904': ['M_amp_c']}},\n",
       "   'database': {'seed.compound': ['cpd00018']}},\n",
       "  {'model_data': {'c': {'iMM904': ['M_h_c']}},\n",
       "   'database': {'seed.compound': ['cpd00067']}},\n",
       "  {'model_data': {'c': {'iMM904': ['M_glutrna_c']}},\n",
       "   'database': {'seed.compound': ['cpd12227']}},\n",
       "  {'model_data': {'c': {'iMM904': ['M_amet_c']}},\n",
       "   'database': {'seed.compound': ['cpd00017']}},\n",
       "  {'model_data': {'c': {'iMM904': ['M_ahcys_c']}},\n",
       "   'database': {'seed.compound': ['cpd00019']}},\n",
       "  {'model_data': {'c': {'iMM904': ['M_h_c']}},\n",
       "   'database': {'seed.compound': ['cpd00067']}},\n",
       "  {'model_data': {'c': {'iMM904': ['M_amet_c']}},\n",
       "   'database': {'seed.compound': ['cpd00017']}},\n",
       "  {'model_data': {'c': {'iMM904': ['M_ahcys_c']}},\n",
       "   'database': {'seed.compound': ['cpd00019']}},\n",
       "  {'model_data': {'c': {'iMM904': ['M_dscl_c']}},\n",
       "   'database': {'seed.compound': ['cpd01620']}},\n",
       "  {'model_data': {'c': {'iMM904': ['M_o2_c']}},\n",
       "   'database': {'seed.compound': ['cpd00007']}},\n",
       "  {'model_data': {'c': {'iMM904': ['M_h_c']}},\n",
       "   'database': {'seed.compound': ['cpd00067']}},\n",
       "  {'model_data': {'c': {'iMM904': ['M_h2o_c']}},\n",
       "   'database': {'seed.compound': ['cpd00001']}},\n",
       "  {'model_data': {'c': {'iMM904': ['M_co2_c']}},\n",
       "   'database': {'seed.compound': ['cpd00011']}},\n",
       "  {'model_data': {'c': {'iMM904': ['M_pppg9_c']}},\n",
       "   'database': {'seed.compound': ['cpd00791']}},\n",
       "  {'model_data': {'c': {'iMM904': ['M_amet_c']}},\n",
       "   'database': {'seed.compound': ['cpd00017']}},\n",
       "  {'model_data': {'c': {'iMM904': ['M_cpppg3_c']}},\n",
       "   'database': {'seed.compound': ['cpd02083']}},\n",
       "  {'model_data': {'c': {'iMM904': ['M_co2_c']}},\n",
       "   'database': {'seed.compound': ['cpd00011']}},\n",
       "  {'model_data': {'c': {'iMM904': ['M_met__L_c']}},\n",
       "   'database': {'seed.compound': ['cpd00060']}},\n",
       "  {'model_data': {'c': {'iMM904': ['M_nad_c']}},\n",
       "   'database': {'seed.compound': ['cpd00003']}},\n",
       "  {'model_data': {'c': {'iMM904': ['M_nadh_c']}},\n",
       "   'database': {'seed.compound': ['cpd00004']}},\n",
       "  {'model_data': {'c': {'iMM904': ['M_h_c']}},\n",
       "   'database': {'seed.compound': ['cpd00067']}},\n",
       "  {'model_data': {'c': {'iMM904': ['M_scl_c']}},\n",
       "   'database': {'seed.compound': ['cpd03426']}},\n",
       "  {'model_data': {'c': {'iMM904': ['M_h_c']}},\n",
       "   'database': {'seed.compound': ['cpd00067']}},\n",
       "  {'model_data': {'c': {'iMM904': ['M_sheme_c']}},\n",
       "   'database': {'seed.compound': ['cpd00557']}},\n",
       "  {'model_data': {'c': {'iMM904': ['M_fe2_c']}},\n",
       "   'database': {'seed.compound': ['cpd10515']}},\n",
       "  {'model_data': {'c': {'iMM904': ['M_o2_c']}},\n",
       "   'database': {'seed.compound': ['cpd00007']}},\n",
       "  {'model_data': {'c': {'iMM904': ['M_h2o_c']}},\n",
       "   'database': {'seed.compound': ['cpd00001']}},\n",
       "  {'model_data': {'c': {'iMM904': ['M_h2o_c']}},\n",
       "   'database': {'seed.compound': ['cpd00001']}},\n",
       "  {'model_data': {'c': {'iMM904': ['M_nh4_c']}},\n",
       "   'database': {'seed.compound': ['cpd00013']}},\n",
       "  {'model_data': {'c': {'iMM904': ['M_hmbil_c']}},\n",
       "   'database': {'seed.compound': ['cpd00755']}},\n",
       "  {'model_data': {'c': {'iMM904': ['M_gly_c']}},\n",
       "   'database': {'seed.compound': ['cpd00033']}},\n",
       "  {'model_data': {'c': {'iMM904': ['M_h_c']}},\n",
       "   'database': {'seed.compound': ['cpd00067']}},\n",
       "  {'model_data': {'c': {'iMM904': ['M_coa_c']}},\n",
       "   'database': {'seed.compound': ['cpd00010']}},\n",
       "  {'model_data': {'c': {'iMM904': ['M_co2_c']}},\n",
       "   'database': {'seed.compound': ['cpd00011']}}]}"
      ]
     },
     "execution_count": 4,
     "metadata": {},
     "output_type": "execute_result"
    }
   ],
   "source": [
    "cluster_params = read_json('/Users/fliu/workspace/jupyter/data/www/annotation/data/test_cluster.json')\n",
    "generate_integration_report(cluster_params, escher_manager)"
   ]
  },
  {
   "cell_type": "code",
   "execution_count": 6,
   "metadata": {},
   "outputs": [
    {
     "name": "stdout",
     "output_type": "stream",
     "text": [
      "load: /Users/fliu/workspace/jupyter/ModelSEEDDatabase/Biochemistry/reactions.tsv\n",
      "load: /Users/fliu/workspace/jupyter/ModelSEEDDatabase/Biochemistry/compounds.tsv\n",
      "load: /Users/fliu/workspace/jupyter/ModelSEEDDatabase/Biochemistry/Structures/Unique_ModelSEED_Structures.txt\n",
      "load: /Users/fliu/workspace/jupyter/ModelSEEDDatabase/Biochemistry/Aliases/Unique_ModelSEED_Compound_Aliases.txt\n",
      "load: /Users/fliu/workspace/jupyter/ModelSEEDDatabase/Biochemistry/Aliases/Unique_ModelSEED_Reaction_Aliases.txt\n",
      "load: /Users/fliu/workspace/jupyter/ModelSEEDDatabase/Biochemistry/Aliases/Unique_ModelSEED_Reaction_ECs.txt\n"
     ]
    }
   ],
   "source": [
    "modelseed_local = cobrakbase.modelseed.from_local('/Users/fliu/workspace/jupyter/ModelSEEDDatabase')"
   ]
  },
  {
   "cell_type": "code",
   "execution_count": 5,
   "metadata": {},
   "outputs": [],
   "source": [
    "cpd_mapping = read_json('/Users/fliu/workspace/jupyter/data/www/annotation/data/cpd_mapping_cache3.json')\n",
    "rxn_mapping = read_json('/Users/fliu/workspace/jupyter/data/www/annotation/data/rxn_mapping_cache3.json')"
   ]
  },
  {
   "cell_type": "code",
   "execution_count": 7,
   "metadata": {},
   "outputs": [],
   "source": [
    "bios_cache = read_json('/Users/fliu/workspace/jupyter/python3/annotation-server/data/bios_cache.json')"
   ]
  },
  {
   "cell_type": "code",
   "execution_count": 65,
   "metadata": {},
   "outputs": [],
   "source": [
    "%run /Users/fliu/workspace/jupyter/python3/annotation-server/escher_factory_api.py\n",
    "\n",
    "escher_factory = EscherFactoryApi(escher_manager)\n",
    "escher_factory.cpd_mapping = cpd_mapping\n",
    "escher_factory.rxn_mapping = rxn_mapping\n",
    "escher_factory.bios_cache = bios_cache"
   ]
  },
  {
   "cell_type": "code",
   "execution_count": 46,
   "metadata": {},
   "outputs": [],
   "source": [
    "#cpd_mapping['iJDZ836']"
   ]
  },
  {
   "cell_type": "code",
   "execution_count": 42,
   "metadata": {},
   "outputs": [
    {
     "data": {
      "text/plain": [
       "{}"
      ]
     },
     "execution_count": 42,
     "metadata": {},
     "output_type": "execute_result"
    }
   ],
   "source": [
    "escher_factory.get_cpd_mapping('iJDZ836', 'CCO__45__CYTOSOL')"
   ]
  },
  {
   "cell_type": "code",
   "execution_count": 33,
   "metadata": {},
   "outputs": [
    {
     "name": "stderr",
     "output_type": "stream",
     "text": [
      "WARNING:__main__:unmaped_cpd: 2\n",
      "WARNING:__main__:rxn01742 node_id in bigg_to_seed_rxn = false\n",
      "WARNING:__main__:rxn01332 node_id in bigg_to_seed_rxn = false\n",
      "WARNING:__main__:rxn02213 node_id in bigg_to_seed_rxn = false\n",
      "WARNING:__main__:unmaped_rxn: 3\n"
     ]
    }
   ],
   "source": [
    "em = escher_factory.translate_to_model('ModelSEED', \n",
    "                                       'Chorismate Synthesis', \n",
    "                                       'iMM904',\n",
    "                                       'c',\n",
    "                                       escher_factory.get_cpd_mapping('iMM904', 'c'),\n",
    "                                       escher_factory.get_rxn_mapping('iMM904'))"
   ]
  },
  {
   "cell_type": "code",
   "execution_count": 35,
   "metadata": {},
   "outputs": [
    {
     "data": {
      "text/html": [
       "\n",
       "\n",
       "\n",
       "  \n",
       "  \n",
       "\n",
       "  \n",
       "  \n",
       "    <link rel=\"stylesheet\" href=\"//unpkg.com/escher-vis@1.6.0/css/dist/builder.min.css\"/>\n",
       "  \n",
       "\n",
       "\n",
       "\n",
       "  <div style=\"height: 500px; width: 100%;\" id=\"apckjsbbtt\"></div>\n",
       "\n",
       "  <script>\n",
       "   /* Closure to make sure data only applies to this map. */\n",
       "   (function() {\n",
       "       /* data from python */\n",
       "       var data = get_data();\n",
       "\n",
       "       function load_lib(url, callback) {\n",
       "           /** Dynamically load a JavaScript file */\n",
       "           var s = document.createElement('script');\n",
       "           s.src = url;\n",
       "           s.async = true;\n",
       "           s.onreadystatechange = s.onload = callback;\n",
       "           s.onerror = function() {\n",
       "               console.warn('Failed to load library ' + url);\n",
       "           };\n",
       "           document.getElementsByTagName('head')[0].appendChild(s);\n",
       "       }\n",
       "\n",
       "       function check_global_and_load(name, url, callback) {\n",
       "           /** Look for the name in the global scope. If it isn't present, then\n",
       "              load the library at url. Returns the object. */\n",
       "           if (window[name] !== undefined) {\n",
       "               callback(window[name]);\n",
       "           } else {\n",
       "               load_lib(url, function() {\n",
       "                   callback(window[name]);\n",
       "               });\n",
       "           }\n",
       "       }\n",
       "\n",
       "       function draw_escher(escher) {\n",
       "           /** Get data and draw */\n",
       "           var load = function(t_map_data, t_model_data, t_options) {\n",
       "               escher.Builder(t_map_data, t_model_data, data.builder_embed_css,\n",
       "                              escher.libs.d3_select('#' + data.id), t_options);\n",
       "           }\n",
       "\n",
       "           // for the static site, use the url attributes for the map and model\n",
       "           // information\n",
       "           if (data.static_site_index !== null) {\n",
       "               escher.static.load_map_model_from_url(data.map_download_url, data.model_download_url,\n",
       "                                                     data.static_site_index, data.options, load);\n",
       "           } else {\n",
       "               load(data.map_data, data.model_data, data.options);\n",
       "           }\n",
       "       }\n",
       "\n",
       "       // Load dependencies and draw\n",
       "       if (typeof define === 'function' && define.amd) {\n",
       "           // require.js is available: use it to load escher\n",
       "           require.config({\n",
       "             paths: {\n",
       "               escher: '//unpkg.com/escher-vis@1.6.0/js/dist/escher.min',\n",
       "             },\n",
       "             // Override urlArgs that adds ?v= to the end of the escher URL and\n",
       "             // messes up unpkg links. Honestly, I'm not sure if this will lead\n",
       "             // to downstream bugs in the notebook, but they really shouldn't be\n",
       "             // doing this cache-busting anyway.\n",
       "             urlArgs: null,\n",
       "           })\n",
       "           require([ 'escher' ], function(escher) {\n",
       "               draw_escher(escher);\n",
       "           })\n",
       "       } else {\n",
       "           // require.js not available: dynamically load escher\n",
       "           check_global_and_load('escher', '//unpkg.com/escher-vis@1.6.0/js/dist/escher.min.js', function(escher) {\n",
       "               draw_escher(escher);\n",
       "           })\n",
       "       }\n",
       "\n",
       "       // Put this at the end so Chrome doesn't cut off the code above.\n",
       "       function get_data() {\n",
       "           /** Return the data passed in by the Python module. */\n",
       "           return {\n",
       "               id: JSON.parse('\"apckjsbbtt\"'),\n",
       "               map_download_url: JSON.parse('\"//escher.github.io/1-0-0/5/maps/\"'),\n",
       "               model_download_url: JSON.parse('\"//escher.github.io/1-0-0/5/models/\"'),\n",
       "               options: JSON.parse('{\"menu\": \"zoom\", \"enable_keys\": false, \"enable_editing\": false, \"scroll_behavior\": \"none\", \"fill_screen\": false, \"ignore_bootstrap\": true, \"never_ask_before_quit\": true, \"reaction_data\": null, \"metabolite_data\": null, \"gene_data\": null}'),\n",
       "               builder_embed_css: JSON.parse('null'),\n",
       "               map_data: JSON.parse('[{\"map_name\": \"ModelSEED.Chorismate Synthesis\", \"map_id\": \"Y7OMzggMgyFI\", \"map_description\": \"Chorismate Synthesis\", \"homepage\": \"http://modelseed.org\", \"schema\": \"https://escher.github.io/escher/jsonschema/1-0-0#\", \"authors\": [\"Matthew Hoffman\"]}, {\"reactions\": {\"0\": {\"name\": \"rxn01740\", \"bigg_id\": \"R_SHK3Dr@iMM904\", \"reversibility\": false, \"label_x\": -320.1104687114156, \"label_y\": -1245.3854232912902, \"gene_reaction_rule\": \"\", \"genes\": [], \"metabolites\": [{\"bigg_id\": \"M_nadp_c@iMM904\", \"coefficient\": -1, \"node_uid\": \"0\"}, {\"bigg_id\": \"M_skm_c@iMM904\", \"coefficient\": -1, \"node_uid\": \"12\"}, {\"bigg_id\": \"M_nadph_c@iMM904\", \"coefficient\": 1, \"node_uid\": \"5\"}, {\"bigg_id\": \"M_h_c@iMM904\", \"coefficient\": 1, \"node_uid\": \"6\"}, {\"bigg_id\": \"M_3dhsk_c@iMM904\", \"coefficient\": 1, \"node_uid\": \"7\"}], \"segments\": {\"0\": {\"from_node_id\": \"1\", \"to_node_id\": \"2\", \"b1\": null, \"b2\": null}, \"1\": {\"from_node_id\": \"3\", \"to_node_id\": \"2\", \"b1\": null, \"b2\": null}, \"2\": {\"from_node_id\": \"1\", \"to_node_id\": \"0\", \"b1\": {\"x\": -334.9309857286968, \"y\": -1193.3856830832954}, \"b2\": {\"x\": -324.2506706846139, \"y\": -1172.543345107786}}, \"3\": {\"from_node_id\": \"1\", \"to_node_id\": \"12\", \"b1\": {\"x\": -334.91940618142394, \"y\": -1189.3856998440708}, \"b2\": {\"x\": -391.0237313550224, \"y\": -1108.1164144028075}}, \"4\": {\"from_node_id\": \"3\", \"to_node_id\": \"5\", \"b1\": {\"x\": -335.28995169413565, \"y\": -1317.385163499287}, \"b2\": {\"x\": -327.7735604002868, \"y\": -1341.3144325376006}}, \"5\": {\"from_node_id\": \"3\", \"to_node_id\": \"6\", \"b1\": {\"x\": -335.3015312414068, \"y\": -1321.3851467385134}, \"b2\": {\"x\": -299.26100517000634, \"y\": -1341.718758964771}}, \"6\": {\"from_node_id\": \"3\", \"to_node_id\": \"7\", \"b1\": {\"x\": -335.3015312414068, \"y\": -1321.3851467385134}, \"b2\": {\"x\": -397.9438702269252, \"y\": -1402.3106268100332}}}}, \"2\": {\"name\": \"rxn02212\", \"bigg_id\": \"R_DHQS@iMM904\", \"reversibility\": false, \"label_x\": -910.989933639429, \"label_y\": -1770.8347972472643, \"gene_reaction_rule\": \"\", \"genes\": [], \"metabolites\": [{\"bigg_id\": \"M_2dda7p_c@iMM904\", \"coefficient\": -1, \"node_uid\": \"15\"}, {\"bigg_id\": \"M_pi_c@iMM904\", \"coefficient\": 1, \"node_uid\": \"19\"}, {\"bigg_id\": \"M_3dhq_c@iMM904\", \"coefficient\": 1, \"node_uid\": \"20\"}], \"segments\": {\"13\": {\"from_node_id\": \"16\", \"to_node_id\": \"17\", \"b1\": null, \"b2\": null}, \"14\": {\"from_node_id\": \"18\", \"to_node_id\": \"17\", \"b1\": null, \"b2\": null}, \"15\": {\"from_node_id\": \"16\", \"to_node_id\": \"15\", \"b1\": {\"x\": -902.9218922463522, \"y\": -1813.220423708336}, \"b2\": {\"x\": -957.1684854829778, \"y\": -1812.6124580678293}}, \"16\": {\"from_node_id\": \"18\", \"to_node_id\": \"19\", \"b1\": {\"x\": -774.9299303239918, \"y\": -1814.6548864177375}, \"b2\": {\"x\": -762.8624498250724, \"y\": -1799.5503013757188}}, \"17\": {\"from_node_id\": \"18\", \"to_node_id\": \"20\", \"b1\": {\"x\": -778.9296791340648, \"y\": -1814.6100594580676}, \"b2\": {\"x\": -695.385383605957, \"y\": -1812.5747375488281}}}}, \"4\": {\"name\": \"rxn01255\", \"bigg_id\": \"R_CHORS@iMM904\", \"reversibility\": false, \"label_x\": -1209.8343503250583, \"label_y\": -637.6855951159167, \"gene_reaction_rule\": \"\", \"genes\": [], \"metabolites\": [{\"bigg_id\": \"M_3psme_c@iMM904\", \"coefficient\": -1, \"node_uid\": \"29\"}, {\"bigg_id\": \"M_pi_c@iMM904\", \"coefficient\": 1, \"node_uid\": \"33\"}, {\"bigg_id\": \"M_chor_c@iMM904\", \"coefficient\": 1, \"node_uid\": \"34\"}], \"segments\": {\"25\": {\"from_node_id\": \"30\", \"to_node_id\": \"31\", \"b1\": null, \"b2\": null}, \"26\": {\"from_node_id\": \"32\", \"to_node_id\": \"31\", \"b1\": null, \"b2\": null}, \"27\": {\"from_node_id\": \"30\", \"to_node_id\": \"29\", \"b1\": {\"x\": -1097.7821741886398, \"y\": -617.9456635233787}, \"b2\": {\"x\": -1043.5328762704473, \"y\": -618.2216624057874}}, \"28\": {\"from_node_id\": \"32\", \"to_node_id\": \"33\", \"b1\": {\"x\": -1225.7805176638246, \"y\": -617.2944587870047}, \"b2\": {\"x\": -1231.1220253864774, \"y\": -635.2675162689374}}, \"29\": {\"from_node_id\": \"32\", \"to_node_id\": \"34\", \"b1\": {\"x\": -1221.7805694302251, \"y\": -617.314808935017}, \"b2\": {\"x\": -1276.0298673484187, \"y\": -617.0388100526085}}}}, \"5\": {\"name\": \"rxn02476\", \"bigg_id\": \"R_PSCVT@iMM904\", \"reversibility\": false, \"label_x\": -856.1643387744663, \"label_y\": -640.8464501222533, \"gene_reaction_rule\": \"\", \"genes\": [], \"metabolites\": [{\"bigg_id\": \"M_pep_c@iMM904\", \"coefficient\": -1, \"node_uid\": \"35\"}, {\"bigg_id\": \"M_skm5p_c@iMM904\", \"coefficient\": -1, \"node_uid\": \"55\"}, {\"bigg_id\": \"M_pi_c@iMM904\", \"coefficient\": 1, \"node_uid\": \"40\"}, {\"bigg_id\": \"M_3psme_c@iMM904\", \"coefficient\": 1, \"node_uid\": \"29\"}], \"segments\": {\"30\": {\"from_node_id\": \"36\", \"to_node_id\": \"37\", \"b1\": null, \"b2\": null}, \"31\": {\"from_node_id\": \"38\", \"to_node_id\": \"37\", \"b1\": null, \"b2\": null}, \"32\": {\"from_node_id\": \"36\", \"to_node_id\": \"35\", \"b1\": {\"x\": -677.3115034583603, \"y\": -618.1338012445588}, \"b2\": {\"x\": -658.8897369663127, \"y\": -612.8810819624659}}, \"33\": {\"from_node_id\": \"36\", \"to_node_id\": \"55\", \"b1\": {\"x\": -670.8196729005429, \"y\": -620.6460337167898}, \"b2\": {\"x\": -640.668636518478, \"y\": -619.5634716603743}}, \"34\": {\"from_node_id\": \"38\", \"to_node_id\": \"40\", \"b1\": {\"x\": -875.0831013280776, \"y\": -619.9744788324034}, \"b2\": {\"x\": -880.4246090507282, \"y\": -637.9475363143364}}, \"35\": {\"from_node_id\": \"38\", \"to_node_id\": \"29\", \"b1\": {\"x\": -871.0831530944766, \"y\": -619.9948289804154}, \"b2\": {\"x\": -925.3324510126707, \"y\": -619.718830098007}}}}, \"7\": {\"name\": \"rxn01739\", \"bigg_id\": \"R_SHKK@iMM904\", \"reversibility\": false, \"label_x\": -499.92178897357223, \"label_y\": -817.0052029962083, \"gene_reaction_rule\": \"\", \"genes\": [], \"metabolites\": [{\"bigg_id\": \"M_atp_c@iMM904\", \"coefficient\": -1, \"node_uid\": \"48\"}, {\"bigg_id\": \"M_skm_c@iMM904\", \"coefficient\": -1, \"node_uid\": \"12\"}, {\"bigg_id\": \"M_adp_c@iMM904\", \"coefficient\": 1, \"node_uid\": \"53\"}, {\"bigg_id\": \"M_h_c@iMM904\", \"coefficient\": 1, \"node_uid\": \"54\"}, {\"bigg_id\": \"M_skm5p_c@iMM904\", \"coefficient\": 1, \"node_uid\": \"55\"}], \"segments\": {\"41\": {\"from_node_id\": \"49\", \"to_node_id\": \"50\", \"b1\": null, \"b2\": null}, \"42\": {\"from_node_id\": \"51\", \"to_node_id\": \"50\", \"b1\": null, \"b2\": null}, \"43\": {\"from_node_id\": \"49\", \"to_node_id\": \"48\", \"b1\": {\"x\": -516.0743620532237, \"y\": -888.9944889680261}, \"b2\": {\"x\": -535.1829168167719, \"y\": -906.7713699498057}}, \"44\": {\"from_node_id\": \"49\", \"to_node_id\": \"12\", \"b1\": {\"x\": -516.1487216067502, \"y\": -892.993797740402}, \"b2\": {\"x\": -516.116772368002, \"y\": -925.2691802321349}}, \"45\": {\"from_node_id\": \"51\", \"to_node_id\": \"53\", \"b1\": {\"x\": -513.7692158939209, \"y\": -765.0159170243868}, \"b2\": {\"x\": -534.1278287521084, \"y\": -754.7103856547775}}, \"46\": {\"from_node_id\": \"51\", \"to_node_id\": \"54\", \"b1\": {\"x\": -513.6948563403947, \"y\": -761.0166082520116}, \"b2\": {\"x\": -495.6003699507024, \"y\": -756.1021334791354}}, \"47\": {\"from_node_id\": \"51\", \"to_node_id\": \"55\", \"b1\": {\"x\": -513.6948563403947, \"y\": -761.0166082520116}, \"b2\": {\"x\": -513.3051818785317, \"y\": -726.6602819709997}}}}}, \"nodes\": {\"0\": {\"node_type\": \"metabolite\", \"x\": -277.07174692906597, \"y\": -1121.515371776963, \"bigg_id\": \"M_nadp_c@iMM904\", \"name\": \"NADP\", \"label_x\": -258.1454468802377, \"label_y\": -1117.8716645015727, \"node_is_primary\": false, \"compartment\": \"c\"}, \"1\": {\"node_type\": \"multimarker\", \"x\": -335.0525709750543, \"y\": -1235.3855070951631}, \"2\": {\"node_type\": \"midmarker\", \"x\": -335.1104687114156, \"y\": -1255.3854232912902}, \"3\": {\"node_type\": \"multimarker\", \"x\": -335.1683664477771, \"y\": -1275.3853394874186}, \"5\": {\"node_type\": \"metabolite\", \"x\": -274.8662687495863, \"y\": -1407.8035193439368, \"bigg_id\": \"M_nadph_c@iMM904\", \"name\": \"NADPH\", \"label_x\": -254.00468122517248, \"label_y\": -1405.7789603229407, \"node_is_primary\": false, \"compartment\": \"c\"}, \"6\": {\"node_type\": \"metabolite\", \"x\": -216.48927666553334, \"y\": -1377.451243938015, \"bigg_id\": \"M_h_c@iMM904\", \"name\": \"H+\", \"label_x\": -201.48927666553334, \"label_y\": -1377.451243938015, \"node_is_primary\": false, \"compartment\": \"c\"}, \"7\": {\"node_type\": \"metabolite\", \"x\": -519.6796043711398, \"y\": -1458.4653936863426, \"bigg_id\": \"M_3dhsk_c@iMM904\", \"name\": \"3-Dehydroshikimate\", \"label_x\": -474.87848742778044, \"label_y\": -1455.511124277163, \"node_is_primary\": true, \"compartment\": \"c\"}, \"12\": {\"node_type\": \"metabolite\", \"x\": -517.5981111843245, \"y\": -1057.3456083549395, \"bigg_id\": \"M_skm_c@iMM904\", \"name\": \"Shikimate\", \"label_x\": -487.5144014675276, \"label_y\": -1041.6984831107989, \"node_is_primary\": true, \"compartment\": \"c\"}, \"15\": {\"node_type\": \"metabolite\", \"x\": -1015.9147961309372, \"y\": -1811.9540620976927, \"bigg_id\": \"M_2dda7p_c@iMM904\", \"name\": \"DAHP\", \"label_x\": -1051.4048474004685, \"label_y\": -1834.6378999883177, \"node_is_primary\": true, \"compartment\": \"c\"}, \"16\": {\"node_type\": \"multimarker\", \"x\": -860.9245297405782, \"y\": -1813.6911067848596}, \"17\": {\"node_type\": \"midmarker\", \"x\": -840.9257856902102, \"y\": -1813.9152415832018}, \"18\": {\"node_type\": \"multimarker\", \"x\": -820.9270416398394, \"y\": -1814.1393763815472}, \"19\": {\"node_type\": \"metabolite\", \"x\": -728.419751365208, \"y\": -1737.9324222917826, \"bigg_id\": \"M_pi_c@iMM904\", \"name\": \"Phosphate\", \"label_x\": -800.4197513652075, \"label_y\": -1707.9324222917826, \"node_is_primary\": false, \"compartment\": \"c\"}, \"20\": {\"node_type\": \"metabolite\", \"x\": -518.9692459106445, \"y\": -1815.3730773925781, \"bigg_id\": \"M_3dhq_c@iMM904\", \"name\": \"5-Dehydroquinate\", \"label_x\": -493.96924591064453, \"label_y\": -1815.3730773925781, \"node_is_primary\": true, \"compartment\": \"c\"}, \"21\": {\"node_type\": \"metabolite\", \"x\": -1298.0127222077726, \"y\": -1741.4736549899267, \"bigg_id\": \"M_h2o_c@iMM904\", \"name\": \"H2O\", \"label_x\": -1352.8857080476164, \"label_y\": -1727.5616676852392, \"node_is_primary\": false, \"compartment\": \"c\"}, \"25\": {\"node_type\": \"metabolite\", \"x\": -1301.3621152475048, \"y\": -1893.5268905099529, \"bigg_id\": \"M_pep_c@iMM904\", \"name\": \"Phosphoenolpyruvate\", \"label_x\": -1381.8230527475048, \"label_y\": -1916.2106063302654, \"node_is_primary\": false, \"compartment\": \"c\"}, \"26\": {\"node_type\": \"metabolite\", \"x\": -1364.1866627701215, \"y\": -1807.4142262448195, \"bigg_id\": \"M_e4p_c@iMM904\", \"name\": \"D-Erythrose4-phosphate\", \"label_x\": -1551.4108448990278, \"label_y\": -1837.257121752632, \"node_is_primary\": true, \"compartment\": \"c\"}, \"27\": {\"node_type\": \"metabolite\", \"x\": -1063.3348822612054, \"y\": -1744.859073450351, \"bigg_id\": \"M_pi_c@iMM904\", \"name\": \"Phosphate\", \"label_x\": -1132.0915350932366, \"label_y\": -1709.453311731601, \"node_is_primary\": false, \"compartment\": \"c\"}, \"29\": {\"node_type\": \"metabolite\", \"x\": -984.7836365894539, \"y\": -618.5205552047097, \"bigg_id\": \"M_3psme_c@iMM904\", \"name\": \"5-O--1-Carboxyvinyl-3-phosphoshikimate\", \"label_x\": -1151.3924927906257, \"label_y\": -576.3076645797097, \"node_is_primary\": true, \"compartment\": \"c\"}, \"30\": {\"node_type\": \"multimarker\", \"x\": -1139.781630641435, \"y\": -617.7319869692564}, \"31\": {\"node_type\": \"midmarker\", \"x\": -1159.7813718094333, \"y\": -617.630236229198}, \"32\": {\"node_type\": \"multimarker\", \"x\": -1179.78111297743, \"y\": -617.5284854891391}, \"33\": {\"node_type\": \"metabolite\", \"x\": -1265.1870159016535, \"y\": -697.0950095158807, \"bigg_id\": \"M_pi_c@iMM904\", \"name\": \"Phosphate\", \"label_x\": -1323.397129427044, \"label_y\": -716.8778693181268, \"node_is_primary\": false, \"compartment\": \"c\"}, \"34\": {\"node_type\": \"metabolite\", \"x\": -1334.7791070294115, \"y\": -616.7399172536858, \"bigg_id\": \"M_chor_c@iMM904\", \"name\": \"Chorismate\", \"label_x\": -1395.3359917950365, \"label_y\": -578.4644655935296, \"node_is_primary\": true, \"compartment\": \"c\"}, \"35\": {\"node_type\": \"metabolite\", \"x\": -630.2706624854184, \"y\": -537.6457901097508, \"bigg_id\": \"M_pep_c@iMM904\", \"name\": \"Phosphoenolpyruvate\", \"label_x\": -715.0479452002621, \"label_y\": -504.2402725316258, \"node_is_primary\": false, \"compartment\": \"c\"}, \"36\": {\"node_type\": \"multimarker\", \"x\": -789.084214305688, \"y\": -620.412007014655}, \"37\": {\"node_type\": \"midmarker\", \"x\": -809.083955473685, \"y\": -620.310256274597}, \"38\": {\"node_type\": \"multimarker\", \"x\": -829.0836966416826, \"y\": -620.2085055345381}, \"40\": {\"node_type\": \"metabolite\", \"x\": -914.489599565906, \"y\": -699.7750295612803, \"bigg_id\": \"M_pi_c@iMM904\", \"name\": \"Phosphate\", \"label_x\": -978.0032409233274, \"label_y\": -715.9217275593272, \"node_is_primary\": false, \"compartment\": \"c\"}, \"46\": {\"node_type\": \"metabolite\", \"x\": -597.8638687133789, \"y\": -1533.730136871338, \"bigg_id\": \"M_h2o_c@iMM904\", \"name\": \"H2O\", \"label_x\": -669.8638687133789, \"label_y\": -1503.730136871338, \"node_is_primary\": false, \"compartment\": \"c\"}, \"48\": {\"node_type\": \"metabolite\", \"x\": -589.2777459359395, \"y\": -931.9808092505788, \"bigg_id\": \"M_atp_c@iMM904\", \"name\": \"ATP\", \"label_x\": -648.604528162502, \"label_y\": -936.3052721412038, \"node_is_primary\": false, \"compartment\": \"c\"}, \"49\": {\"node_type\": \"multimarker\", \"x\": -515.2935867412011, \"y\": -847.0017468580845}, \"50\": {\"node_type\": \"midmarker\", \"x\": -514.9217889735722, \"y\": -827.0052029962083}, \"51\": {\"node_type\": \"multimarker\", \"x\": -514.5499912059424, \"y\": -807.0086591343301}, \"53\": {\"node_type\": \"metabolite\", \"x\": -590.77420954728, \"y\": -726.146108305132, \"bigg_id\": \"M_adp_c@iMM904\", \"name\": \"ADP\", \"label_x\": -654.4255156996237, \"label_y\": -715.3349510785695, \"node_is_primary\": false, \"compartment\": \"c\"}, \"54\": {\"node_type\": \"metabolite\", \"x\": -432.98367524600707, \"y\": -723.5105387918692, \"bigg_id\": \"M_h_c@iMM904\", \"name\": \"H+\", \"label_x\": -411.4970114276477, \"label_y\": -719.1860759012442, \"node_is_primary\": false, \"compartment\": \"c\"}, \"55\": {\"node_type\": \"metabolite\", \"x\": -510.7458764708126, \"y\": -622.1603301953498, \"bigg_id\": \"M_skm5p_c@iMM904\", \"name\": \"3-phosphoshikimate\", \"label_x\": -477.4263574278435, \"label_y\": -614.9172882031623, \"node_is_primary\": true, \"compartment\": \"c\"}}, \"text_labels\": {\"0\": {\"x\": -1182.4732055664062, \"y\": -2067.854248046875, \"text\": \"Chorismate Synthesis\"}}, \"canvas\": {\"x\": -1797.7509765625, \"y\": -2324.5199584960938, \"width\": 1858.5149307250977, \"height\": 2015.9497375488281}}]'),\n",
       "               model_data: JSON.parse('null'),\n",
       "               static_site_index: JSON.parse('null'),\n",
       "           };\n",
       "       }\n",
       "   })();\n",
       "  </script>\n"
      ],
      "text/plain": [
       "<IPython.core.display.HTML object>"
      ]
     },
     "execution_count": 35,
     "metadata": {},
     "output_type": "execute_result"
    }
   ],
   "source": [
    "em.display_in_notebook()"
   ]
  },
  {
   "cell_type": "code",
   "execution_count": 51,
   "metadata": {},
   "outputs": [],
   "source": [
    "map_assembly = [\n",
    "    {\n",
    "        'map_id' : 'Chorismate Synthesis',\n",
    "        'cmp_target' : ['c'],\n",
    "        'cmp_sbml' : ['c'],\n",
    "        'sbml_id' : 'iMM904',\n",
    "    },\n",
    "    {\n",
    "        'map_id' : 'Chorismate Synthesis',\n",
    "        'cmp_target' : ['c'],\n",
    "        'cmp_sbml' : ['CCO__45__CYTOSOL'],\n",
    "        'sbml_id' : 'iJDZ836',\n",
    "    },\n",
    "    {\n",
    "        'map_id' : 'Folate Biosynthesis',\n",
    "        'cmp_target' : ['c'],\n",
    "        'cmp_sbml' : ['c'],\n",
    "        'sbml_id' : 'iMM904',\n",
    "    },\n",
    "    {\n",
    "        'map_id' : 'Folate Biosynthesis',\n",
    "        'cmp_target' : ['c'],\n",
    "        'cmp_sbml' : ['CCO__45__CYTOSOL'],\n",
    "        'sbml_id' : 'iJDZ836',\n",
    "    }\n",
    "]"
   ]
  },
  {
   "cell_type": "code",
   "execution_count": 66,
   "metadata": {},
   "outputs": [],
   "source": [
    "map_assembly = [\n",
    "    {\n",
    "        'map_id' : 'Folate Biosynthesis',\n",
    "        'cmp_target' : ['c'],\n",
    "        'cmp_sbml' : ['c'],\n",
    "        'sbml_id' : 'iMM904',\n",
    "    },\n",
    "    {\n",
    "        'map_id' : 'Folate Biosynthesis',\n",
    "        'cmp_target' : ['c'],\n",
    "        'cmp_sbml' : ['C_c'],\n",
    "        'sbml_id' : 'iAL1006',\n",
    "    }\n",
    "]"
   ]
  },
  {
   "cell_type": "code",
   "execution_count": 67,
   "metadata": {},
   "outputs": [
    {
     "name": "stderr",
     "output_type": "stream",
     "text": [
      "WARNING:__main__:translate_to_model: iMM904 [c > c]\n",
      "WARNING:__main__:unmaped_cpd: 7\n",
      "WARNING:__main__:unmaped_rxn: 15\n",
      "WARNING:__main__:translate_to_model: iAL1006 [C_c > c]\n",
      "WARNING:__main__:unmaped_cpd: 7\n",
      "WARNING:__main__:unmaped_rxn: 14\n"
     ]
    },
    {
     "name": "stdout",
     "output_type": "stream",
     "text": [
      "Folate Biosynthesis\n",
      "remap_map_reactions {'rxn00686_c': {'R_DHFR'}, 'rxn00689_c': {'R_THFGLUS'}, 'rxn01603_c': {'R_DHFS'}, 'rxn01257_c': {'R_ADCS'}, 'rxn03841_c': {'R_ADCL'}, 'rxn00690_c': {'R_FTHFLi'}} {'rxn03173_c', 'rxn00299_c', 'rxn03167_c', 'rxn03174_c', 'rxn03421_c', 'rxn02201_c', 'rxn00302_c', 'rxn01602_c', 'rxn00686_c', 'rxn00690_c', 'rxn03419_c', 'rxn03168_c', 'rxn02503_c', 'rxn01210_c', 'rxn02504_c'}\n",
      "iMM904 {'rxn00686_c': {'R_DHFR'}, 'rxn00689_c': {'R_THFGLUS'}, 'rxn01603_c': {'R_DHFS'}, 'rxn01257_c': {'R_ADCS'}, 'rxn03841_c': {'R_ADCL'}, 'rxn00690_c': {'R_FTHFLi'}}\n",
      "Folate Biosynthesis\n",
      "remap_map_reactions {'rxn00299_c': {'R_r0136'}, 'rxn01603_c': {'R_r0142'}, 'rxn01257_c': {'R_r0145'}, 'rxn03841_c': {'R_r0146'}, 'rxn03167_c': {'R_r0137'}} {'rxn03173_c', 'rxn00689_c', 'rxn03174_c', 'rxn03421_c', 'rxn02201_c', 'rxn00302_c', 'rxn01602_c', 'rxn00686_c', 'rxn00690_c', 'rxn03419_c', 'rxn03168_c', 'rxn02503_c', 'rxn01210_c', 'rxn02504_c'}\n",
      "iAL1006 {'rxn00299_c': {'R_r0136'}, 'rxn01603_c': {'R_r0142'}, 'rxn01257_c': {'R_r0145'}, 'rxn03841_c': {'R_r0146'}, 'rxn03167_c': {'R_r0137'}}\n"
     ]
    }
   ],
   "source": [
    "em = escher_factory.build_grid(map_assembly, (2, 1))"
   ]
  },
  {
   "cell_type": "code",
   "execution_count": null,
   "metadata": {},
   "outputs": [],
   "source": []
  },
  {
   "cell_type": "code",
   "execution_count": 13,
   "metadata": {},
   "outputs": [
    {
     "data": {
      "text/plain": [
       "{'BIOS',\n",
       " 'Bacillus subtilis',\n",
       " 'Escherichia coli',\n",
       " 'Homo sapiens',\n",
       " 'KEGG',\n",
       " 'ModelSEED',\n",
       " 'Neurospora crassa',\n",
       " 'Oscarichia coli',\n",
       " 'Pichia pastoris',\n",
       " 'Pseudomonas putida KT2440',\n",
       " 'Saccharomyces cerevisiae',\n",
       " 'Synechococcus',\n",
       " 'consensus',\n",
       " 'raw'}"
      ]
     },
     "execution_count": 13,
     "metadata": {},
     "output_type": "execute_result"
    }
   ],
   "source": [
    "escher_manager.list_datasets()"
   ]
  },
  {
   "cell_type": "code",
   "execution_count": null,
   "metadata": {},
   "outputs": [],
   "source": []
  },
  {
   "cell_type": "code",
   "execution_count": 14,
   "metadata": {},
   "outputs": [
    {
     "data": {
      "text/plain": [
       "{'Fungi', 'GramNegative', 'ModelSEED', 'ModelSEED2'}"
      ]
     },
     "execution_count": 14,
     "metadata": {},
     "output_type": "execute_result"
    }
   ],
   "source": [
    "escher_manager.list_models('ModelSEED')"
   ]
  },
  {
   "cell_type": "code",
   "execution_count": 15,
   "metadata": {},
   "outputs": [
    {
     "data": {
      "text/plain": [
       "{'bios7.AA',\n",
       " 'bios7.AA_deg',\n",
       " 'bios7.AA_merge',\n",
       " 'bios7.Alkaloid',\n",
       " 'bios7.Central',\n",
       " 'bios7.LipidIV',\n",
       " 'bios7.Nucleotides',\n",
       " 'bios7.Quinones',\n",
       " 'bios7.Riboflavin',\n",
       " 'bios7.Siderophores',\n",
       " 'bios7.Siderophores_merge',\n",
       " 'bios7.Thiamine',\n",
       " 'bios7.f430',\n",
       " 'bios7.fa',\n",
       " 'bios7.mycolate',\n",
       " 'bios7.peptidoglycan',\n",
       " 'bios7.phospholipids',\n",
       " 'bios7.proteins',\n",
       " 'bios7.sugars',\n",
       " 'bios7.thf'}"
      ]
     },
     "execution_count": 15,
     "metadata": {},
     "output_type": "execute_result"
    }
   ],
   "source": [
    "escher_manager.list_maps('BIOS')"
   ]
  },
  {
   "cell_type": "code",
   "execution_count": 6,
   "metadata": {},
   "outputs": [],
   "source": [
    "escher_map = escher_manager.get_map('BIOS', 'bios7', 'AA')"
   ]
  },
  {
   "cell_type": "code",
   "execution_count": 7,
   "metadata": {},
   "outputs": [
    {
     "name": "stdout",
     "output_type": "stream",
     "text": [
      "iAL1006.json          iMA871.json           iSS884.json\n",
      "iAL1006.xml           iMA871.xml            iSS884.xml\n",
      "iAL1006_flux_wt.csv   iMM904.json           iTO977.json\n",
      "iCT646.json           iMM904.xml            iTO977.xml\n",
      "iJDZ836.json          iMM904_flux_wt.csv    yeast_5.json\n",
      "iJDZ836.xml           iNL895.json           yeast_6.06.json\n",
      "iJDZ836_flux_wt.csv   iNL895.xml            yeast_6.06_cobra.xml\n",
      "iJL1454.xml           iNX804.xml            yeast_7.6.json\n",
      "iLC915.json           iRL766.json           yeast_7.6_cobra.xml\n",
      "iLC915.xml            iRL766.xml\n"
     ]
    }
   ],
   "source": [
    "ls '/Users/fliu/workspace/jupyter/data/www/fungi_viz/data/sbml/'"
   ]
  },
  {
   "cell_type": "code",
   "execution_count": 8,
   "metadata": {},
   "outputs": [],
   "source": [
    "model_path = '/Users/fliu/workspace/jupyter/data/www/fungi_viz/data/sbml/iMM904.json'\n",
    "model = cobra.io.from_json(json.dumps(read_json(model_path)))"
   ]
  },
  {
   "cell_type": "code",
   "execution_count": 9,
   "metadata": {},
   "outputs": [
    {
     "data": {
      "text/html": [
       "\n",
       "        <table>\n",
       "            <tr>\n",
       "                <td><strong>Name</strong></td>\n",
       "                <td>iMM904</td>\n",
       "            </tr><tr>\n",
       "                <td><strong>Memory address</strong></td>\n",
       "                <td>0x07fde8138cb38</td>\n",
       "            </tr><tr>\n",
       "                <td><strong>Number of metabolites</strong></td>\n",
       "                <td>1226</td>\n",
       "            </tr><tr>\n",
       "                <td><strong>Number of reactions</strong></td>\n",
       "                <td>1577</td>\n",
       "            </tr><tr>\n",
       "                <td><strong>Number of groups</strong></td>\n",
       "                <td>0</td>\n",
       "            </tr><tr>\n",
       "                <td><strong>Objective expression</strong></td>\n",
       "                <td>0</td>\n",
       "            </tr><tr>\n",
       "                <td><strong>Compartments</strong></td>\n",
       "                <td>m, c, e, g, n, r, x, v</td>\n",
       "            </tr>\n",
       "          </table>"
      ],
      "text/plain": [
       "<Model iMM904 at 0x7fde8138cb38>"
      ]
     },
     "execution_count": 9,
     "metadata": {},
     "output_type": "execute_result"
    }
   ],
   "source": [
    "model"
   ]
  },
  {
   "cell_type": "code",
   "execution_count": 10,
   "metadata": {},
   "outputs": [],
   "source": [
    "%run /Users/fliu/workspace/jupyter/python3/scripts/fungi_fixer.py\n",
    "%run /Users/fliu/workspace/jupyter/python3/notebooks/fungi_manual_curation.py"
   ]
  },
  {
   "cell_type": "code",
   "execution_count": 201,
   "metadata": {},
   "outputs": [],
   "source": []
  },
  {
   "cell_type": "code",
   "execution_count": null,
   "metadata": {},
   "outputs": [],
   "source": []
  },
  {
   "cell_type": "code",
   "execution_count": 9,
   "metadata": {},
   "outputs": [],
   "source": [
    "%run ../../modelseed-escher/examples/convert_utils.py\n",
    "base = '/Users/fliu/Library/Caches/escher/1-0-0/5/maps/'\n",
    "map_files = [\n",
    "    '/ModelSEED/ModelSEED.Chorismate Synthesis.json',\n",
    "    '/ModelSEED/ModelSEED.Phenylalanine and Tyrosine Branches from Chorismate.json',\n",
    "]\n",
    "em_maps = []\n",
    "for map_file in map_files:\n",
    "    map_file = base + map_file\n",
    "    em_base_seed = modelseed_escher.core.EscherMap(read_json(map_file))\n",
    "    em_base_seed.add_uid_to_reaction_metabolites()\n",
    "    em_maps.append(em_base_seed)\n"
   ]
  },
  {
   "cell_type": "code",
   "execution_count": 35,
   "metadata": {},
   "outputs": [
    {
     "ename": "NameError",
     "evalue": "name 'kbase' is not defined",
     "output_type": "error",
     "traceback": [
      "\u001b[0;31m---------------------------------------------------------------------------\u001b[0m",
      "\u001b[0;31mNameError\u001b[0m                                 Traceback (most recent call last)",
      "\u001b[0;32m<ipython-input-35-e819f15daff7>\u001b[0m in \u001b[0;36m<module>\u001b[0;34m\u001b[0m\n\u001b[0;32m----> 1\u001b[0;31m \u001b[0mkbase\u001b[0m\u001b[0;34m\u001b[0m\u001b[0m\n\u001b[0m",
      "\u001b[0;31mNameError\u001b[0m: name 'kbase' is not defined"
     ]
    }
   ],
   "source": [
    "kbase"
   ]
  },
  {
   "cell_type": "code",
   "execution_count": 14,
   "metadata": {},
   "outputs": [],
   "source": [
    "max_w = 0\n",
    "max_h = 0\n",
    "for e in em_maps:\n",
    "    w = e.escher_graph['canvas']['width']\n",
    "    h = e.escher_graph['canvas']['height']\n",
    "    if w > max_w:\n",
    "        max_w = w\n",
    "    if h > max_h:\n",
    "        max_h = h\n",
    "for e in em_maps:\n",
    "    w = e.escher_graph['canvas']['width'] = max_w\n",
    "    h = e.escher_graph['canvas']['height'] = max_h"
   ]
  },
  {
   "cell_type": "code",
   "execution_count": 2,
   "metadata": {},
   "outputs": [
    {
     "data": {
      "text/plain": [
       "['EscherGrid',\n",
       " 'EscherManager',\n",
       " '__author__',\n",
       " '__builtins__',\n",
       " '__cached__',\n",
       " '__doc__',\n",
       " '__email__',\n",
       " '__file__',\n",
       " '__loader__',\n",
       " '__name__',\n",
       " '__package__',\n",
       " '__path__',\n",
       " '__spec__',\n",
       " '__version__',\n",
       " 'core',\n",
       " 'escher_manager',\n",
       " 'escher_map_grid',\n",
       " 'modelseed_escher']"
      ]
     },
     "execution_count": 2,
     "metadata": {},
     "output_type": "execute_result"
    }
   ],
   "source": [
    "dir(modelseed_escher)"
   ]
  },
  {
   "cell_type": "code",
   "execution_count": 10,
   "metadata": {},
   "outputs": [
    {
     "name": "stdout",
     "output_type": "stream",
     "text": [
      "56\n"
     ]
    }
   ],
   "source": [
    "%run ../../modelseed-escher/modelseed_escher/escher_map_grid.py\n",
    "builder = EscherGrid()\n",
    "master = builder.build(em_maps, (2, 1))\n",
    "#master.escher_graph['canvas']['width'] = max_w * 1\n",
    "#master.escher_graph['canvas']['height'] = max_h * 2"
   ]
  },
  {
   "cell_type": "code",
   "execution_count": 274,
   "metadata": {},
   "outputs": [],
   "source": [
    "#b = escher.Builder(map_json=json.dumps(master.escher_map), model_json=None)\n",
    "#b.set_highlight_missing(True)\n",
    "#b.display_in_notebook()"
   ]
  },
  {
   "cell_type": "code",
   "execution_count": 24,
   "metadata": {},
   "outputs": [],
   "source": [
    "base = '/Users/fliu/Library/Caches/escher/1-0-0/5/maps/'\n",
    "map_file = base + '/Saccharomyces cerevisiae/iMM904.Central carbon metabolism Large.json'\n",
    "map_file = base + '/Saccharomyces cerevisiae/iMM904_SEED.Central carbon metabolism Large.json'\n",
    "#map_file = base + '/Escherichia coli/iJO1366.Fatty acid beta-oxidation.json'\n",
    "#map_file = base + '/Escherichia coli/iJO1366.Fatty acid biosynthesis (saturated).json'\n",
    "em_bigg = modelseed_escher.core.EscherMap(read_json(map_file))\n",
    "cpd_remap = {\n",
    "    '2pg_c' : 'swaped!'\n",
    "}\n",
    "rxn_remap = {}\n",
    "res = em_bigg.add_uid_to_reaction_metabolites()\n",
    "#add_uid_to_reaction_metabolites(em_bigg)\n",
    "#pass\n",
    "#em.swap_ids(cpd_remap, rxn_remap)"
   ]
  },
  {
   "cell_type": "code",
   "execution_count": 29,
   "metadata": {},
   "outputs": [
    {
     "data": {
      "text/plain": [
       "{'name': 'rxn00558',\n",
       " 'bigg_id': 'rxn00558_c',\n",
       " 'reversibility': True,\n",
       " 'label_x': 3904.415075,\n",
       " 'label_y': 3113.47412109375,\n",
       " 'genes': [],\n",
       " 'metabolites': [{'coefficient': -1,\n",
       "   'bigg_id': 'cpd00079_c',\n",
       "   'node_uid': '672376'},\n",
       "  {'coefficient': 1, 'bigg_id': 'cpd00072_c', 'node_uid': '668387'}],\n",
       " 'segments': {'651': {'from_node_id': '672376',\n",
       "   'to_node_id': '668950',\n",
       "   'b1': {'x': 3871.16946953125, 'y': 2884.9547164062496},\n",
       "   'b2': {'x': 3870.9932, 'y': 3027.261462890625}},\n",
       "  '652': {'from_node_id': '668950',\n",
       "   'to_node_id': '668387',\n",
       "   'b1': {'x': 3870.9932, 'y': 3088.261812890625},\n",
       "   'b2': {'y': 3279.316638671875, 'x': 3870.9932}}}}"
      ]
     },
     "execution_count": 29,
     "metadata": {},
     "output_type": "execute_result"
    }
   ],
   "source": [
    "em_bigg.escher_graph['reactions']['667142']"
   ]
  },
  {
   "cell_type": "code",
   "execution_count": 47,
   "metadata": {},
   "outputs": [],
   "source": [
    "cpd_bigg_to_seed, rxn_bigg_to_seed = get_mapping_from(modelseed_local, 'BiGG')\n",
    "cpd_bigg_to_seed = add_namespace(cpd_bigg_to_seed, None, 'SEED')\n",
    "rxn_bigg_to_seed = add_namespace(rxn_bigg_to_seed, None, 'SEED')\n",
    "cpd_bigg_to_seed['h2o'] = set(['cpd00001@SEED'])\n",
    "rxn_bigg_to_seed['ALCD2x_copy1'] = rxn_bigg_to_seed['ALCD2x']\n",
    "rxn_bigg_to_seed['GCC2cm_copy1'] = rxn_bigg_to_seed['GCC2cm']\n",
    "cpd_bigg_to_seed = dict(map(lambda x : (x, set([x + '@SEED'])), modelseed_local.compounds))\n",
    "rxn_bigg_to_seed = dict(map(lambda x : (x, set([x + '@SEED'])), modelseed_local.reactions))"
   ]
  },
  {
   "cell_type": "code",
   "execution_count": 63,
   "metadata": {},
   "outputs": [],
   "source": [
    "m = escher_manager.get_map('ModelSEED', 'ModelSEED', 'Chorismate Synthesis')"
   ]
  },
  {
   "cell_type": "code",
   "execution_count": null,
   "metadata": {},
   "outputs": [],
   "source": []
  },
  {
   "cell_type": "code",
   "execution_count": 275,
   "metadata": {},
   "outputs": [
    {
     "data": {
      "text/plain": [
       "__main__.EscherFactoryApi"
      ]
     },
     "execution_count": 275,
     "metadata": {},
     "output_type": "execute_result"
    }
   ],
   "source": [
    "EscherFactoryApi()"
   ]
  },
  {
   "cell_type": "code",
   "execution_count": 58,
   "metadata": {},
   "outputs": [],
   "source": [
    "ALLOW_MISSING.add('cpd00067@SEED')\n",
    "em = em_bigg.clone()\n",
    "map_compound_remap, unmaped_cpd, node_uid_cmp = remap_map_compounds(em, cpd_bigg_to_seed, \n",
    "                                                                    lambda x : (x[:-2], x[-1:]))\n",
    "map_reaction_remap, unmaped_rxn = remap_map_reactions(em, rxn_bigg_to_seed, map_compound_remap, \n",
    "                                                      lambda x : modelseed_local.get_seed_reaction(x.split('@')[0]).cstoichiometry,\n",
    "                                                      lambda x : x + '@SEED',\n",
    "                                                      lambda x : x[:-2])\n",
    "add_compartment(em, node_uid_cmp)"
   ]
  },
  {
   "cell_type": "code",
   "execution_count": 54,
   "metadata": {},
   "outputs": [],
   "source": [
    "#b = escher.Builder(map_json=json.dumps(em.escher_map), model_json=None)\n",
    "#b.set_highlight_missing(True)\n",
    "#b.display_in_notebook(enable_editing=False)"
   ]
  },
  {
   "cell_type": "code",
   "execution_count": 67,
   "metadata": {},
   "outputs": [],
   "source": [
    "escher_map = None\n",
    "compartment = 'c'\n",
    "model_compartment = ['c']\n",
    "model_id = 'iMM904'"
   ]
  },
  {
   "cell_type": "code",
   "execution_count": 206,
   "metadata": {},
   "outputs": [],
   "source": [
    "write_json(bios_cache, '/Users/fliu/workspace/jupyter/data/www/annotation/data/bios_cache.json')"
   ]
  },
  {
   "cell_type": "code",
   "execution_count": 202,
   "metadata": {},
   "outputs": [],
   "source": [
    "bios_cache = {}"
   ]
  },
  {
   "cell_type": "code",
   "execution_count": 204,
   "metadata": {},
   "outputs": [],
   "source": [
    "model_list = ['iMM904', 'iJDZ836', 'iAL1006', 'iWV1213', 'iCT646', \n",
    "              'iJO1366', 'iCac802', 'iAF1260', 'iML1515']"
   ]
  },
  {
   "cell_type": "code",
   "execution_count": 205,
   "metadata": {},
   "outputs": [],
   "source": [
    "for model_id in model_list:\n",
    "    rxns = bios.get_model_reactions(model_id)\n",
    "    spis = bios.get_model_species(model_id)\n",
    "    cmps = bios.get_model_compartments(model_id)\n",
    "    bios_cache[model_id] = {\n",
    "        'cmp' : cmps,\n",
    "        'spi' : spis,\n",
    "        'rxn' : rxns\n",
    "    }"
   ]
  },
  {
   "cell_type": "code",
   "execution_count": 30,
   "metadata": {},
   "outputs": [],
   "source": []
  },
  {
   "cell_type": "code",
   "execution_count": null,
   "metadata": {},
   "outputs": [],
   "source": [
    "for node_uid in self.escher_graph['nodes']:"
   ]
  },
  {
   "cell_type": "code",
   "execution_count": 27,
   "metadata": {},
   "outputs": [],
   "source": [
    "model_to_compatment_to_rxn = {}\n",
    "model_to_compatment_to_spi = {}    "
   ]
  },
  {
   "cell_type": "code",
   "execution_count": 102,
   "metadata": {},
   "outputs": [],
   "source": []
  },
  {
   "cell_type": "code",
   "execution_count": 51,
   "metadata": {},
   "outputs": [],
   "source": []
  },
  {
   "cell_type": "code",
   "execution_count": 56,
   "metadata": {},
   "outputs": [
    {
     "data": {
      "text/plain": [
       "{(1,): 1}"
      ]
     },
     "execution_count": 56,
     "metadata": {},
     "output_type": "execute_result"
    }
   ],
   "source": [
    "a = {\n",
    "}\n",
    "a[(1, )] = 1\n",
    "a"
   ]
  },
  {
   "cell_type": "code",
   "execution_count": 57,
   "metadata": {},
   "outputs": [
    {
     "data": {
      "text/plain": [
       "('c',)"
      ]
     },
     "execution_count": 57,
     "metadata": {},
     "output_type": "execute_result"
    }
   ],
   "source": [
    "tuple(sorted(set(['c'])))"
   ]
  },
  {
   "cell_type": "code",
   "execution_count": 110,
   "metadata": {},
   "outputs": [],
   "source": [
    "\n",
    "load_model('iMM904', rxns, spis, model_to_compatment_to_rxn, model_to_compatment_to_spi)\n"
   ]
  },
  {
   "cell_type": "code",
   "execution_count": null,
   "metadata": {},
   "outputs": [],
   "source": []
  },
  {
   "cell_type": "code",
   "execution_count": 207,
   "metadata": {},
   "outputs": [],
   "source": [
    "\n",
    "#test = em.clone()\n",
    "#move_to_compartment('c', test)"
   ]
  },
  {
   "cell_type": "code",
   "execution_count": null,
   "metadata": {},
   "outputs": [],
   "source": []
  },
  {
   "cell_type": "code",
   "execution_count": null,
   "metadata": {},
   "outputs": [],
   "source": []
  },
  {
   "cell_type": "code",
   "execution_count": 101,
   "metadata": {},
   "outputs": [
    {
     "data": {
      "text/plain": [
       "710"
      ]
     },
     "execution_count": 101,
     "metadata": {},
     "output_type": "execute_result"
    }
   ],
   "source": [
    "len(model_to_compatment_to_rxn['iMM904'][tuple(sorted(set(['c'])))])"
   ]
  },
  {
   "cell_type": "code",
   "execution_count": 112,
   "metadata": {},
   "outputs": [
    {
     "ename": "NameError",
     "evalue": "name 'cpd_bigg_to_seed' is not defined",
     "output_type": "error",
     "traceback": [
      "\u001b[0;31m---------------------------------------------------------------------------\u001b[0m",
      "\u001b[0;31mNameError\u001b[0m                                 Traceback (most recent call last)",
      "\u001b[0;32m<ipython-input-112-f3e7c1b6e0a4>\u001b[0m in \u001b[0;36m<module>\u001b[0;34m\u001b[0m\n\u001b[1;32m      1\u001b[0m \u001b[0mALLOW_MISSING\u001b[0m\u001b[0;34m.\u001b[0m\u001b[0madd\u001b[0m\u001b[0;34m(\u001b[0m\u001b[0;34m'cpd00067@SEED'\u001b[0m\u001b[0;34m)\u001b[0m\u001b[0;34m\u001b[0m\u001b[0m\n\u001b[1;32m      2\u001b[0m \u001b[0mtest\u001b[0m \u001b[0;34m=\u001b[0m \u001b[0mem\u001b[0m\u001b[0;34m.\u001b[0m\u001b[0mclone\u001b[0m\u001b[0;34m(\u001b[0m\u001b[0;34m)\u001b[0m\u001b[0;34m\u001b[0m\u001b[0m\n\u001b[0;32m----> 3\u001b[0;31m map_compound_remap, unmaped_cpd, node_uid_cmp = remap_map_compounds(em, cpd_bigg_to_seed, \n\u001b[0m\u001b[1;32m      4\u001b[0m                                                                     lambda x : (x[:-2], x[-1:]))\n\u001b[1;32m      5\u001b[0m map_reaction_remap, unmaped_rxn = remap_map_reactions(em, rxn_bigg_to_seed, map_compound_remap, \n",
      "\u001b[0;31mNameError\u001b[0m: name 'cpd_bigg_to_seed' is not defined"
     ]
    }
   ],
   "source": [
    "ALLOW_MISSING.add('cpd00067@SEED')\n",
    "test = em.clone()\n",
    "map_compound_remap, unmaped_cpd, node_uid_cmp = remap_map_compounds(em, cpd_bigg_to_seed, \n",
    "                                                                    lambda x : (x[:-2], x[-1:]))\n",
    "map_reaction_remap, unmaped_rxn = remap_map_reactions(em, rxn_bigg_to_seed, map_compound_remap, \n",
    "                                                      lambda x : modelseed_local.get_seed_reaction(x.split('@')[0]).cstoichiometry,\n",
    "                                                      lambda x : x + '@SEED',\n",
    "                                                      lambda x : x[:-2])"
   ]
  },
  {
   "cell_type": "code",
   "execution_count": null,
   "metadata": {},
   "outputs": [],
   "source": []
  },
  {
   "cell_type": "code",
   "execution_count": 154,
   "metadata": {},
   "outputs": [],
   "source": []
  },
  {
   "cell_type": "code",
   "execution_count": 165,
   "metadata": {},
   "outputs": [],
   "source": []
  },
  {
   "cell_type": "code",
   "execution_count": 166,
   "metadata": {},
   "outputs": [
    {
     "data": {
      "text/plain": [
       "{'cpd00009_c': {'M_pi_c'}, 'cpd00001_c': {'M_h2o_c'}}"
      ]
     },
     "execution_count": 166,
     "metadata": {},
     "output_type": "execute_result"
    }
   ],
   "source": [
    "map_compound_remap"
   ]
  },
  {
   "cell_type": "code",
   "execution_count": 167,
   "metadata": {},
   "outputs": [
    {
     "data": {
      "text/html": [
       "\n",
       "\n",
       "\n",
       "  \n",
       "  \n",
       "\n",
       "  \n",
       "  \n",
       "    <link rel=\"stylesheet\" href=\"//unpkg.com/escher-vis@1.6.0/css/dist/builder.min.css\"/>\n",
       "  \n",
       "\n",
       "\n",
       "\n",
       "  <div style=\"height: 500px; width: 100%;\" id=\"zneesyzuod\"></div>\n",
       "\n",
       "  <script>\n",
       "   /* Closure to make sure data only applies to this map. */\n",
       "   (function() {\n",
       "       /* data from python */\n",
       "       var data = get_data();\n",
       "\n",
       "       function load_lib(url, callback) {\n",
       "           /** Dynamically load a JavaScript file */\n",
       "           var s = document.createElement('script');\n",
       "           s.src = url;\n",
       "           s.async = true;\n",
       "           s.onreadystatechange = s.onload = callback;\n",
       "           s.onerror = function() {\n",
       "               console.warn('Failed to load library ' + url);\n",
       "           };\n",
       "           document.getElementsByTagName('head')[0].appendChild(s);\n",
       "       }\n",
       "\n",
       "       function check_global_and_load(name, url, callback) {\n",
       "           /** Look for the name in the global scope. If it isn't present, then\n",
       "              load the library at url. Returns the object. */\n",
       "           if (window[name] !== undefined) {\n",
       "               callback(window[name]);\n",
       "           } else {\n",
       "               load_lib(url, function() {\n",
       "                   callback(window[name]);\n",
       "               });\n",
       "           }\n",
       "       }\n",
       "\n",
       "       function draw_escher(escher) {\n",
       "           /** Get data and draw */\n",
       "           var load = function(t_map_data, t_model_data, t_options) {\n",
       "               escher.Builder(t_map_data, t_model_data, data.builder_embed_css,\n",
       "                              escher.libs.d3_select('#' + data.id), t_options);\n",
       "           }\n",
       "\n",
       "           // for the static site, use the url attributes for the map and model\n",
       "           // information\n",
       "           if (data.static_site_index !== null) {\n",
       "               escher.static.load_map_model_from_url(data.map_download_url, data.model_download_url,\n",
       "                                                     data.static_site_index, data.options, load);\n",
       "           } else {\n",
       "               load(data.map_data, data.model_data, data.options);\n",
       "           }\n",
       "       }\n",
       "\n",
       "       // Load dependencies and draw\n",
       "       if (typeof define === 'function' && define.amd) {\n",
       "           // require.js is available: use it to load escher\n",
       "           require.config({\n",
       "             paths: {\n",
       "               escher: '//unpkg.com/escher-vis@1.6.0/js/dist/escher.min',\n",
       "             },\n",
       "             // Override urlArgs that adds ?v= to the end of the escher URL and\n",
       "             // messes up unpkg links. Honestly, I'm not sure if this will lead\n",
       "             // to downstream bugs in the notebook, but they really shouldn't be\n",
       "             // doing this cache-busting anyway.\n",
       "             urlArgs: null,\n",
       "           })\n",
       "           require([ 'escher' ], function(escher) {\n",
       "               draw_escher(escher);\n",
       "           })\n",
       "       } else {\n",
       "           // require.js not available: dynamically load escher\n",
       "           check_global_and_load('escher', '//unpkg.com/escher-vis@1.6.0/js/dist/escher.min.js', function(escher) {\n",
       "               draw_escher(escher);\n",
       "           })\n",
       "       }\n",
       "\n",
       "       // Put this at the end so Chrome doesn't cut off the code above.\n",
       "       function get_data() {\n",
       "           /** Return the data passed in by the Python module. */\n",
       "           return {\n",
       "               id: JSON.parse('\"zneesyzuod\"'),\n",
       "               map_download_url: JSON.parse('\"//escher.github.io/1-0-0/5/maps/\"'),\n",
       "               model_download_url: JSON.parse('\"//escher.github.io/1-0-0/5/models/\"'),\n",
       "               options: JSON.parse('{\"menu\": \"zoom\", \"enable_keys\": false, \"enable_editing\": false, \"scroll_behavior\": \"none\", \"fill_screen\": false, \"ignore_bootstrap\": true, \"never_ask_before_quit\": true, \"reaction_data\": null, \"metabolite_data\": null, \"gene_data\": null}'),\n",
       "               builder_embed_css: JSON.parse('null'),\n",
       "               map_data: JSON.parse('[{\"map_name\": \"ModelSEED.Chorismate Synthesis\", \"map_id\": \"Y7OMzggMgyFI\", \"map_description\": \"Chorismate Synthesis\", \"homepage\": \"http://modelseed.org\", \"schema\": \"https://escher.github.io/escher/jsonschema/1-0-0#\", \"authors\": [\"Matthew Hoffman\"]}, {\"reactions\": {\"0\": {\"name\": \"rxn01740\", \"bigg_id\": \"rxn01740_c\", \"reversibility\": false, \"label_x\": -320.1104687114156, \"label_y\": -1245.3854232912902, \"gene_reaction_rule\": \"\", \"genes\": [], \"metabolites\": [{\"bigg_id\": \"cpd00006_c\", \"coefficient\": -1, \"node_uid\": \"0\"}, {\"bigg_id\": \"cpd00383_c\", \"coefficient\": -1, \"node_uid\": \"12\"}, {\"bigg_id\": \"cpd00005_c\", \"coefficient\": 1, \"node_uid\": \"5\"}, {\"bigg_id\": \"cpd00067_c\", \"coefficient\": 1, \"node_uid\": \"6\"}, {\"bigg_id\": \"cpd01716_c\", \"coefficient\": 1, \"node_uid\": \"7\"}], \"segments\": {\"0\": {\"from_node_id\": \"1\", \"to_node_id\": \"2\", \"b1\": null, \"b2\": null}, \"1\": {\"from_node_id\": \"3\", \"to_node_id\": \"2\", \"b1\": null, \"b2\": null}, \"2\": {\"from_node_id\": \"1\", \"to_node_id\": \"0\", \"b1\": {\"x\": -334.9309857286968, \"y\": -1193.3856830832954}, \"b2\": {\"x\": -324.2506706846139, \"y\": -1172.543345107786}}, \"3\": {\"from_node_id\": \"1\", \"to_node_id\": \"12\", \"b1\": {\"x\": -334.91940618142394, \"y\": -1189.3856998440708}, \"b2\": {\"x\": -391.0237313550224, \"y\": -1108.1164144028075}}, \"4\": {\"from_node_id\": \"3\", \"to_node_id\": \"5\", \"b1\": {\"x\": -335.28995169413565, \"y\": -1317.385163499287}, \"b2\": {\"x\": -327.7735604002868, \"y\": -1341.3144325376006}}, \"5\": {\"from_node_id\": \"3\", \"to_node_id\": \"6\", \"b1\": {\"x\": -335.3015312414068, \"y\": -1321.3851467385134}, \"b2\": {\"x\": -299.26100517000634, \"y\": -1341.718758964771}}, \"6\": {\"from_node_id\": \"3\", \"to_node_id\": \"7\", \"b1\": {\"x\": -335.3015312414068, \"y\": -1321.3851467385134}, \"b2\": {\"x\": -397.9438702269252, \"y\": -1402.3106268100332}}}}, \"1\": {\"name\": \"rxn01742\", \"bigg_id\": \"rxn01742_c\", \"reversibility\": false, \"label_x\": -703.0399526833739, \"label_y\": -1250.3796746471119, \"gene_reaction_rule\": \"\", \"genes\": [], \"metabolites\": [{\"bigg_id\": \"cpd00097_c\", \"coefficient\": -1, \"node_uid\": \"8\"}, {\"bigg_id\": \"cpd00383_c\", \"coefficient\": -1, \"node_uid\": \"12\"}, {\"bigg_id\": \"cpd00986_c\", \"coefficient\": 1, \"node_uid\": \"13\"}, {\"bigg_id\": \"cpd01716_c\", \"coefficient\": 1, \"node_uid\": \"7\"}], \"segments\": {\"7\": {\"from_node_id\": \"9\", \"to_node_id\": \"10\", \"b1\": null, \"b2\": null}, \"8\": {\"from_node_id\": \"11\", \"to_node_id\": \"10\", \"b1\": null, \"b2\": null}, \"9\": {\"from_node_id\": \"9\", \"to_node_id\": \"8\", \"b1\": {\"x\": -717.8604697006542, \"y\": -1198.3799344391145}, \"b2\": {\"x\": -734.4620383115714, \"y\": -1168.3557968215969}}, \"10\": {\"from_node_id\": \"9\", \"to_node_id\": \"12\", \"b1\": {\"x\": -717.848890153382, \"y\": -1194.3799511998905}, \"b2\": {\"x\": -661.6465498609392, \"y\": -1099.781565446654}}, \"11\": {\"from_node_id\": \"11\", \"to_node_id\": \"13\", \"b1\": {\"x\": -718.2194356660932, \"y\": -1322.3794148551049}, \"b2\": {\"x\": -734.9726291144754, \"y\": -1344.7212915502696}}, \"12\": {\"from_node_id\": \"11\", \"to_node_id\": \"7\", \"b1\": {\"x\": -718.231015213364, \"y\": -1326.3793980943324}, \"b2\": {\"x\": -639.7853198299869, \"y\": -1409.2304786336726}}}}, \"2\": {\"name\": \"rxn02212\", \"bigg_id\": \"rxn02212_c\", \"reversibility\": false, \"label_x\": -910.989933639429, \"label_y\": -1770.8347972472643, \"gene_reaction_rule\": \"\", \"genes\": [], \"metabolites\": [{\"bigg_id\": \"cpd02857_c\", \"coefficient\": -1, \"node_uid\": \"15\"}, {\"bigg_id\": \"M_pi_c@iMM904\", \"coefficient\": 1, \"node_uid\": \"19\"}, {\"bigg_id\": \"cpd00699_c\", \"coefficient\": 1, \"node_uid\": \"20\"}], \"segments\": {\"13\": {\"from_node_id\": \"16\", \"to_node_id\": \"17\", \"b1\": null, \"b2\": null}, \"14\": {\"from_node_id\": \"18\", \"to_node_id\": \"17\", \"b1\": null, \"b2\": null}, \"15\": {\"from_node_id\": \"16\", \"to_node_id\": \"15\", \"b1\": {\"x\": -902.9218922463522, \"y\": -1813.220423708336}, \"b2\": {\"x\": -957.1684854829778, \"y\": -1812.6124580678293}}, \"16\": {\"from_node_id\": \"18\", \"to_node_id\": \"19\", \"b1\": {\"x\": -774.9299303239918, \"y\": -1814.6548864177375}, \"b2\": {\"x\": -762.8624498250724, \"y\": -1799.5503013757188}}, \"17\": {\"from_node_id\": \"18\", \"to_node_id\": \"20\", \"b1\": {\"x\": -778.9296791340648, \"y\": -1814.6100594580676}, \"b2\": {\"x\": -695.385383605957, \"y\": -1812.5747375488281}}}}, \"3\": {\"name\": \"rxn01332\", \"bigg_id\": \"rxn01332_c\", \"reversibility\": false, \"label_x\": -1249.6857652190172, \"label_y\": -1771.1451153980206, \"gene_reaction_rule\": \"\", \"genes\": [], \"metabolites\": [{\"bigg_id\": \"M_h2o_c@iMM904\", \"coefficient\": -1, \"node_uid\": \"21\"}, {\"bigg_id\": \"cpd00061_c\", \"coefficient\": -1, \"node_uid\": \"25\"}, {\"bigg_id\": \"cpd00236_c\", \"coefficient\": -1, \"node_uid\": \"26\"}, {\"bigg_id\": \"M_pi_c@iMM904\", \"coefficient\": 1, \"node_uid\": \"27\"}, {\"bigg_id\": \"cpd02857_c\", \"coefficient\": 1, \"node_uid\": \"15\"}], \"segments\": {\"18\": {\"from_node_id\": \"22\", \"to_node_id\": \"23\", \"b1\": null, \"b2\": null}, \"19\": {\"from_node_id\": \"24\", \"to_node_id\": \"23\", \"b1\": null, \"b2\": null}, \"20\": {\"from_node_id\": \"22\", \"to_node_id\": \"21\", \"b1\": {\"x\": -1250.9334048484252, \"y\": -1809.7623698953475}, \"b2\": {\"x\": -1268.0277840103663, \"y\": -1800.1935028054227}}, \"21\": {\"from_node_id\": \"22\", \"to_node_id\": \"25\", \"b1\": {\"x\": -1254.9331536585019, \"y\": -1809.717542935679}, \"b2\": {\"x\": -1266.9194167876383, \"y\": -1831.909011426013}}, \"22\": {\"from_node_id\": \"22\", \"to_node_id\": \"26\", \"b1\": {\"x\": -1254.9331536585019, \"y\": -1809.717542935679}, \"b2\": {\"x\": -1285.0391156442847, \"y\": -1808.6778784887842}}, \"23\": {\"from_node_id\": \"24\", \"to_node_id\": \"27\", \"b1\": {\"x\": -1124.02242938405, \"y\": -1811.1846869903698}, \"b2\": {\"x\": -1097.7775807210685, \"y\": -1806.4769525342908}}, \"24\": {\"from_node_id\": \"24\", \"to_node_id\": \"15\", \"b1\": {\"x\": -1128.0221781941223, \"y\": -1811.1398600307002}, \"b2\": {\"x\": -1073.7755849574978, \"y\": -1811.7478256712093}}}}, \"4\": {\"name\": \"rxn01255\", \"bigg_id\": \"rxn01255_c\", \"reversibility\": false, \"label_x\": -1209.8343503250583, \"label_y\": -637.6855951159167, \"gene_reaction_rule\": \"\", \"genes\": [], \"metabolites\": [{\"bigg_id\": \"cpd00932_c\", \"coefficient\": -1, \"node_uid\": \"29\"}, {\"bigg_id\": \"M_pi_c@iMM904\", \"coefficient\": 1, \"node_uid\": \"33\"}, {\"bigg_id\": \"cpd00216_c\", \"coefficient\": 1, \"node_uid\": \"34\"}], \"segments\": {\"25\": {\"from_node_id\": \"30\", \"to_node_id\": \"31\", \"b1\": null, \"b2\": null}, \"26\": {\"from_node_id\": \"32\", \"to_node_id\": \"31\", \"b1\": null, \"b2\": null}, \"27\": {\"from_node_id\": \"30\", \"to_node_id\": \"29\", \"b1\": {\"x\": -1097.7821741886398, \"y\": -617.9456635233787}, \"b2\": {\"x\": -1043.5328762704473, \"y\": -618.2216624057874}}, \"28\": {\"from_node_id\": \"32\", \"to_node_id\": \"33\", \"b1\": {\"x\": -1225.7805176638246, \"y\": -617.2944587870047}, \"b2\": {\"x\": -1231.1220253864774, \"y\": -635.2675162689374}}, \"29\": {\"from_node_id\": \"32\", \"to_node_id\": \"34\", \"b1\": {\"x\": -1221.7805694302251, \"y\": -617.314808935017}, \"b2\": {\"x\": -1276.0298673484187, \"y\": -617.0388100526085}}}}, \"5\": {\"name\": \"rxn02476\", \"bigg_id\": \"rxn02476_c\", \"reversibility\": false, \"label_x\": -856.1643387744663, \"label_y\": -640.8464501222533, \"gene_reaction_rule\": \"\", \"genes\": [], \"metabolites\": [{\"bigg_id\": \"cpd00061_c\", \"coefficient\": -1, \"node_uid\": \"35\"}, {\"bigg_id\": \"cpd02030_c\", \"coefficient\": -1, \"node_uid\": \"55\"}, {\"bigg_id\": \"M_pi_c@iMM904\", \"coefficient\": 1, \"node_uid\": \"40\"}, {\"bigg_id\": \"cpd00932_c\", \"coefficient\": 1, \"node_uid\": \"29\"}], \"segments\": {\"30\": {\"from_node_id\": \"36\", \"to_node_id\": \"37\", \"b1\": null, \"b2\": null}, \"31\": {\"from_node_id\": \"38\", \"to_node_id\": \"37\", \"b1\": null, \"b2\": null}, \"32\": {\"from_node_id\": \"36\", \"to_node_id\": \"35\", \"b1\": {\"x\": -677.3115034583603, \"y\": -618.1338012445588}, \"b2\": {\"x\": -658.8897369663127, \"y\": -612.8810819624659}}, \"33\": {\"from_node_id\": \"36\", \"to_node_id\": \"55\", \"b1\": {\"x\": -670.8196729005429, \"y\": -620.6460337167898}, \"b2\": {\"x\": -640.668636518478, \"y\": -619.5634716603743}}, \"34\": {\"from_node_id\": \"38\", \"to_node_id\": \"40\", \"b1\": {\"x\": -875.0831013280776, \"y\": -619.9744788324034}, \"b2\": {\"x\": -880.4246090507282, \"y\": -637.9475363143364}}, \"35\": {\"from_node_id\": \"38\", \"to_node_id\": \"29\", \"b1\": {\"x\": -871.0831530944766, \"y\": -619.9948289804154}, \"b2\": {\"x\": -925.3324510126707, \"y\": -619.718830098007}}}}, \"6\": {\"name\": \"rxn02213\", \"bigg_id\": \"rxn02213_c\", \"reversibility\": false, \"label_x\": -502.8638687133789, \"label_y\": -1628.730136871338, \"gene_reaction_rule\": \"\", \"genes\": [], \"metabolites\": [{\"bigg_id\": \"cpd00699_c\", \"coefficient\": -1, \"node_uid\": \"20\"}, {\"bigg_id\": \"M_h2o_c@iMM904\", \"coefficient\": 1, \"node_uid\": \"46\"}, {\"bigg_id\": \"cpd01716_c\", \"coefficient\": 1, \"node_uid\": \"7\"}], \"segments\": {\"36\": {\"from_node_id\": \"43\", \"to_node_id\": \"44\", \"b1\": null, \"b2\": null}, \"37\": {\"from_node_id\": \"45\", \"to_node_id\": \"44\", \"b1\": null, \"b2\": null}, \"38\": {\"from_node_id\": \"43\", \"to_node_id\": \"20\", \"b1\": {\"x\": -517.8638687133789, \"y\": -1700.730136871338}, \"b2\": {\"x\": -517.8638687133789, \"y\": -1754.980136871338}}, \"39\": {\"from_node_id\": \"45\", \"to_node_id\": \"46\", \"b1\": {\"x\": -517.8638687133789, \"y\": -1572.730136871338}, \"b2\": {\"x\": -535.8638687133789, \"y\": -1567.480136871338}}, \"40\": {\"from_node_id\": \"45\", \"to_node_id\": \"7\", \"b1\": {\"x\": -517.8638687133789, \"y\": -1576.730136871338}, \"b2\": {\"x\": -517.8638687133789, \"y\": -1522.480136871338}}}}, \"7\": {\"name\": \"rxn01739\", \"bigg_id\": \"rxn01739_c\", \"reversibility\": false, \"label_x\": -499.92178897357223, \"label_y\": -817.0052029962083, \"gene_reaction_rule\": \"\", \"genes\": [], \"metabolites\": [{\"bigg_id\": \"cpd00002_c\", \"coefficient\": -1, \"node_uid\": \"48\"}, {\"bigg_id\": \"cpd00383_c\", \"coefficient\": -1, \"node_uid\": \"12\"}, {\"bigg_id\": \"cpd00008_c\", \"coefficient\": 1, \"node_uid\": \"53\"}, {\"bigg_id\": \"cpd00067_c\", \"coefficient\": 1, \"node_uid\": \"54\"}, {\"bigg_id\": \"cpd02030_c\", \"coefficient\": 1, \"node_uid\": \"55\"}], \"segments\": {\"41\": {\"from_node_id\": \"49\", \"to_node_id\": \"50\", \"b1\": null, \"b2\": null}, \"42\": {\"from_node_id\": \"51\", \"to_node_id\": \"50\", \"b1\": null, \"b2\": null}, \"43\": {\"from_node_id\": \"49\", \"to_node_id\": \"48\", \"b1\": {\"x\": -516.0743620532237, \"y\": -888.9944889680261}, \"b2\": {\"x\": -535.1829168167719, \"y\": -906.7713699498057}}, \"44\": {\"from_node_id\": \"49\", \"to_node_id\": \"12\", \"b1\": {\"x\": -516.1487216067502, \"y\": -892.993797740402}, \"b2\": {\"x\": -516.116772368002, \"y\": -925.2691802321349}}, \"45\": {\"from_node_id\": \"51\", \"to_node_id\": \"53\", \"b1\": {\"x\": -513.7692158939209, \"y\": -765.0159170243868}, \"b2\": {\"x\": -534.1278287521084, \"y\": -754.7103856547775}}, \"46\": {\"from_node_id\": \"51\", \"to_node_id\": \"54\", \"b1\": {\"x\": -513.6948563403947, \"y\": -761.0166082520116}, \"b2\": {\"x\": -495.6003699507024, \"y\": -756.1021334791354}}, \"47\": {\"from_node_id\": \"51\", \"to_node_id\": \"55\", \"b1\": {\"x\": -513.6948563403947, \"y\": -761.0166082520116}, \"b2\": {\"x\": -513.3051818785317, \"y\": -726.6602819709997}}}}}, \"nodes\": {\"0\": {\"node_type\": \"metabolite\", \"x\": -277.07174692906597, \"y\": -1121.515371776963, \"bigg_id\": \"cpd00006_c\", \"name\": \"NADP\", \"label_x\": -258.1454468802377, \"label_y\": -1117.8716645015727, \"node_is_primary\": false, \"compartment\": \"c\"}, \"1\": {\"node_type\": \"multimarker\", \"x\": -335.0525709750543, \"y\": -1235.3855070951631}, \"2\": {\"node_type\": \"midmarker\", \"x\": -335.1104687114156, \"y\": -1255.3854232912902}, \"3\": {\"node_type\": \"multimarker\", \"x\": -335.1683664477771, \"y\": -1275.3853394874186}, \"5\": {\"node_type\": \"metabolite\", \"x\": -274.8662687495863, \"y\": -1407.8035193439368, \"bigg_id\": \"cpd00005_c\", \"name\": \"NADPH\", \"label_x\": -254.00468122517248, \"label_y\": -1405.7789603229407, \"node_is_primary\": false, \"compartment\": \"c\"}, \"6\": {\"node_type\": \"metabolite\", \"x\": -216.48927666553334, \"y\": -1377.451243938015, \"bigg_id\": \"cpd00067_c\", \"name\": \"H+\", \"label_x\": -201.48927666553334, \"label_y\": -1377.451243938015, \"node_is_primary\": false, \"compartment\": \"c\"}, \"7\": {\"node_type\": \"metabolite\", \"x\": -519.6796043711398, \"y\": -1458.4653936863426, \"bigg_id\": \"cpd01716_c\", \"name\": \"3-Dehydroshikimate\", \"label_x\": -474.87848742778044, \"label_y\": -1455.511124277163, \"node_is_primary\": true, \"compartment\": \"c\"}, \"8\": {\"node_type\": \"metabolite\", \"x\": -782.8618766584821, \"y\": -1117.0511326328913, \"bigg_id\": \"cpd00097_c\", \"name\": \"Pyrroloquinoline-quinone\", \"label_x\": -913.5421745100446, \"label_y\": -1084.6176609532038, \"node_is_primary\": false, \"compartment\": \"c\"}, \"9\": {\"node_type\": \"multimarker\", \"x\": -717.9820549470124, \"y\": -1240.3797584509834}, \"10\": {\"node_type\": \"midmarker\", \"x\": -718.0399526833739, \"y\": -1260.3796746471119}, \"11\": {\"node_type\": \"multimarker\", \"x\": -718.0978504197345, \"y\": -1280.379590843237}, \"12\": {\"node_type\": \"metabolite\", \"x\": -517.5981111843245, \"y\": -1057.3456083549395, \"bigg_id\": \"cpd00383_c\", \"name\": \"Shikimate\", \"label_x\": -487.5144014675276, \"label_y\": -1041.6984831107989, \"node_is_primary\": true, \"compartment\": \"c\"}, \"13\": {\"node_type\": \"metabolite\", \"x\": -792.7889796344823, \"y\": -1401.787023255626, \"bigg_id\": \"cpd00986_c\", \"name\": \"PQQH2\", \"label_x\": -832.6557398883886, \"label_y\": -1422.328283021251, \"node_is_primary\": false, \"compartment\": \"c\"}, \"15\": {\"node_type\": \"metabolite\", \"x\": -1015.9147961309372, \"y\": -1811.9540620976927, \"bigg_id\": \"cpd02857_c\", \"name\": \"DAHP\", \"label_x\": -1051.4048474004685, \"label_y\": -1834.6378999883177, \"node_is_primary\": true, \"compartment\": \"c\"}, \"16\": {\"node_type\": \"multimarker\", \"x\": -860.9245297405782, \"y\": -1813.6911067848596}, \"17\": {\"node_type\": \"midmarker\", \"x\": -840.9257856902102, \"y\": -1813.9152415832018}, \"18\": {\"node_type\": \"multimarker\", \"x\": -820.9270416398394, \"y\": -1814.1393763815472}, \"19\": {\"node_type\": \"metabolite\", \"x\": -728.419751365208, \"y\": -1737.9324222917826, \"bigg_id\": \"M_pi_c@iMM904\", \"name\": \"Phosphate\", \"label_x\": -800.4197513652075, \"label_y\": -1707.9324222917826, \"node_is_primary\": false, \"compartment\": \"c\"}, \"20\": {\"node_type\": \"metabolite\", \"x\": -518.9692459106445, \"y\": -1815.3730773925781, \"bigg_id\": \"cpd00699_c\", \"name\": \"5-Dehydroquinate\", \"label_x\": -493.96924591064453, \"label_y\": -1815.3730773925781, \"node_is_primary\": true, \"compartment\": \"c\"}, \"21\": {\"node_type\": \"metabolite\", \"x\": -1298.0127222077726, \"y\": -1741.4736549899267, \"bigg_id\": \"M_h2o_c@iMM904\", \"name\": \"H2O\", \"label_x\": -1352.8857080476164, \"label_y\": -1727.5616676852392, \"node_is_primary\": false, \"compartment\": \"c\"}, \"22\": {\"node_type\": \"multimarker\", \"x\": -1208.9360423426506, \"y\": -1810.2330529718702}, \"23\": {\"node_type\": \"midmarker\", \"x\": -1190.0182847502672, \"y\": -1810.445042155833}, \"24\": {\"node_type\": \"multimarker\", \"x\": -1170.019540699899, \"y\": -1810.6691769541762}, \"25\": {\"node_type\": \"metabolite\", \"x\": -1301.3621152475048, \"y\": -1893.5268905099529, \"bigg_id\": \"cpd00061_c\", \"name\": \"Phosphoenolpyruvate\", \"label_x\": -1381.8230527475048, \"label_y\": -1916.2106063302654, \"node_is_primary\": false, \"compartment\": \"c\"}, \"26\": {\"node_type\": \"metabolite\", \"x\": -1364.1866627701215, \"y\": -1807.4142262448195, \"bigg_id\": \"cpd00236_c\", \"name\": \"D-Erythrose4-phosphate\", \"label_x\": -1551.4108448990278, \"label_y\": -1837.257121752632, \"node_is_primary\": true, \"compartment\": \"c\"}, \"27\": {\"node_type\": \"metabolite\", \"x\": -1063.3348822612054, \"y\": -1744.859073450351, \"bigg_id\": \"M_pi_c@iMM904\", \"name\": \"Phosphate\", \"label_x\": -1132.0915350932366, \"label_y\": -1709.453311731601, \"node_is_primary\": false, \"compartment\": \"c\"}, \"29\": {\"node_type\": \"metabolite\", \"x\": -984.7836365894539, \"y\": -618.5205552047097, \"bigg_id\": \"cpd00932_c\", \"name\": \"5-O--1-Carboxyvinyl-3-phosphoshikimate\", \"label_x\": -1151.3924927906257, \"label_y\": -576.3076645797097, \"node_is_primary\": true, \"compartment\": \"c\"}, \"30\": {\"node_type\": \"multimarker\", \"x\": -1139.781630641435, \"y\": -617.7319869692564}, \"31\": {\"node_type\": \"midmarker\", \"x\": -1159.7813718094333, \"y\": -617.630236229198}, \"32\": {\"node_type\": \"multimarker\", \"x\": -1179.78111297743, \"y\": -617.5284854891391}, \"33\": {\"node_type\": \"metabolite\", \"x\": -1265.1870159016535, \"y\": -697.0950095158807, \"bigg_id\": \"M_pi_c@iMM904\", \"name\": \"Phosphate\", \"label_x\": -1323.397129427044, \"label_y\": -716.8778693181268, \"node_is_primary\": false, \"compartment\": \"c\"}, \"34\": {\"node_type\": \"metabolite\", \"x\": -1334.7791070294115, \"y\": -616.7399172536858, \"bigg_id\": \"cpd00216_c\", \"name\": \"Chorismate\", \"label_x\": -1395.3359917950365, \"label_y\": -578.4644655935296, \"node_is_primary\": true, \"compartment\": \"c\"}, \"35\": {\"node_type\": \"metabolite\", \"x\": -630.2706624854184, \"y\": -537.6457901097508, \"bigg_id\": \"cpd00061_c\", \"name\": \"Phosphoenolpyruvate\", \"label_x\": -715.0479452002621, \"label_y\": -504.2402725316258, \"node_is_primary\": false, \"compartment\": \"c\"}, \"36\": {\"node_type\": \"multimarker\", \"x\": -789.084214305688, \"y\": -620.412007014655}, \"37\": {\"node_type\": \"midmarker\", \"x\": -809.083955473685, \"y\": -620.310256274597}, \"38\": {\"node_type\": \"multimarker\", \"x\": -829.0836966416826, \"y\": -620.2085055345381}, \"40\": {\"node_type\": \"metabolite\", \"x\": -914.489599565906, \"y\": -699.7750295612803, \"bigg_id\": \"M_pi_c@iMM904\", \"name\": \"Phosphate\", \"label_x\": -978.0032409233274, \"label_y\": -715.9217275593272, \"node_is_primary\": false, \"compartment\": \"c\"}, \"43\": {\"node_type\": \"multimarker\", \"x\": -517.8638687133789, \"y\": -1658.730136871338}, \"44\": {\"node_type\": \"midmarker\", \"x\": -517.8638687133789, \"y\": -1638.730136871338}, \"45\": {\"node_type\": \"multimarker\", \"x\": -517.8638687133789, \"y\": -1618.730136871338}, \"46\": {\"node_type\": \"metabolite\", \"x\": -597.8638687133789, \"y\": -1533.730136871338, \"bigg_id\": \"M_h2o_c@iMM904\", \"name\": \"H2O\", \"label_x\": -669.8638687133789, \"label_y\": -1503.730136871338, \"node_is_primary\": false, \"compartment\": \"c\"}, \"48\": {\"node_type\": \"metabolite\", \"x\": -589.2777459359395, \"y\": -931.9808092505788, \"bigg_id\": \"cpd00002_c\", \"name\": \"ATP\", \"label_x\": -648.604528162502, \"label_y\": -936.3052721412038, \"node_is_primary\": false, \"compartment\": \"c\"}, \"49\": {\"node_type\": \"multimarker\", \"x\": -515.2935867412011, \"y\": -847.0017468580845}, \"50\": {\"node_type\": \"midmarker\", \"x\": -514.9217889735722, \"y\": -827.0052029962083}, \"51\": {\"node_type\": \"multimarker\", \"x\": -514.5499912059424, \"y\": -807.0086591343301}, \"53\": {\"node_type\": \"metabolite\", \"x\": -590.77420954728, \"y\": -726.146108305132, \"bigg_id\": \"cpd00008_c\", \"name\": \"ADP\", \"label_x\": -654.4255156996237, \"label_y\": -715.3349510785695, \"node_is_primary\": false, \"compartment\": \"c\"}, \"54\": {\"node_type\": \"metabolite\", \"x\": -432.98367524600707, \"y\": -723.5105387918692, \"bigg_id\": \"cpd00067_c\", \"name\": \"H+\", \"label_x\": -411.4970114276477, \"label_y\": -719.1860759012442, \"node_is_primary\": false, \"compartment\": \"c\"}, \"55\": {\"node_type\": \"metabolite\", \"x\": -510.7458764708126, \"y\": -622.1603301953498, \"bigg_id\": \"cpd02030_c\", \"name\": \"3-phosphoshikimate\", \"label_x\": -477.4263574278435, \"label_y\": -614.9172882031623, \"node_is_primary\": true, \"compartment\": \"c\"}}, \"text_labels\": {\"0\": {\"x\": -1182.4732055664062, \"y\": -2067.854248046875, \"text\": \"Chorismate Synthesis\"}}, \"canvas\": {\"x\": -1797.7509765625, \"y\": -2324.5199584960938, \"width\": 1858.5149307250977, \"height\": 2015.9497375488281}}]'),\n",
       "               model_data: JSON.parse('null'),\n",
       "               static_site_index: JSON.parse('null'),\n",
       "           };\n",
       "       }\n",
       "   })();\n",
       "  </script>\n"
      ],
      "text/plain": [
       "<IPython.core.display.HTML object>"
      ]
     },
     "execution_count": 167,
     "metadata": {},
     "output_type": "execute_result"
    }
   ],
   "source": [
    "b = escher.Builder(map_json=json.dumps(test.escher_map), model_json=None)\n",
    "#b.set_highlight_missing(True)\n",
    "b.display_in_notebook()"
   ]
  },
  {
   "cell_type": "code",
   "execution_count": 31,
   "metadata": {},
   "outputs": [],
   "source": []
  },
  {
   "cell_type": "code",
   "execution_count": 15,
   "metadata": {},
   "outputs": [],
   "source": []
  },
  {
   "cell_type": "code",
   "execution_count": 16,
   "metadata": {},
   "outputs": [
    {
     "ename": "NameError",
     "evalue": "name 'escher_manager' is not defined",
     "output_type": "error",
     "traceback": [
      "\u001b[0;31m---------------------------------------------------------------------------\u001b[0m",
      "\u001b[0;31mNameError\u001b[0m                                 Traceback (most recent call last)",
      "\u001b[0;32m<ipython-input-16-8ec54f0e6bae>\u001b[0m in \u001b[0;36m<module>\u001b[0;34m\u001b[0m\n\u001b[1;32m      1\u001b[0m \u001b[0mget_ipython\u001b[0m\u001b[0;34m(\u001b[0m\u001b[0;34m)\u001b[0m\u001b[0;34m.\u001b[0m\u001b[0mrun_line_magic\u001b[0m\u001b[0;34m(\u001b[0m\u001b[0;34m'run'\u001b[0m\u001b[0;34m,\u001b[0m \u001b[0;34m'/Users/fliu/workspace/jupyter/python3/annotation-server/escher_factory_api.py'\u001b[0m\u001b[0;34m)\u001b[0m\u001b[0;34m\u001b[0m\u001b[0m\n\u001b[1;32m      2\u001b[0m \u001b[0;34m\u001b[0m\u001b[0m\n\u001b[0;32m----> 3\u001b[0;31m \u001b[0mescher_factory\u001b[0m \u001b[0;34m=\u001b[0m \u001b[0mEscherFactoryApi\u001b[0m\u001b[0;34m(\u001b[0m\u001b[0mescher_manager\u001b[0m\u001b[0;34m)\u001b[0m\u001b[0;34m\u001b[0m\u001b[0m\n\u001b[0m\u001b[1;32m      4\u001b[0m \u001b[0mescher_factory\u001b[0m\u001b[0;34m.\u001b[0m\u001b[0mcpd_mapping\u001b[0m \u001b[0;34m=\u001b[0m \u001b[0mcpd_mapping\u001b[0m\u001b[0;34m\u001b[0m\u001b[0m\n\u001b[1;32m      5\u001b[0m \u001b[0mescher_factory\u001b[0m\u001b[0;34m.\u001b[0m\u001b[0mrxn_mapping\u001b[0m \u001b[0;34m=\u001b[0m \u001b[0mrxn_mapping\u001b[0m\u001b[0;34m\u001b[0m\u001b[0m\n",
      "\u001b[0;31mNameError\u001b[0m: name 'escher_manager' is not defined"
     ]
    }
   ],
   "source": []
  },
  {
   "cell_type": "code",
   "execution_count": 64,
   "metadata": {},
   "outputs": [
    {
     "data": {
      "text/plain": [
       "{'cpd00006': {'0'},\n",
       " 'cpd00005': {'5'},\n",
       " 'cpd00067': {'54', '6'},\n",
       " 'cpd01716': {'7'},\n",
       " 'cpd00097': {'8'},\n",
       " 'cpd00383': {'12'},\n",
       " 'cpd00986': {'13'},\n",
       " 'cpd02857': {'15'},\n",
       " 'cpd00009': {'19', '27', '33', '40'},\n",
       " 'cpd00699': {'20'},\n",
       " 'cpd00001': {'21', '46'},\n",
       " 'cpd00061': {'25', '35'},\n",
       " 'cpd00236': {'26'},\n",
       " 'cpd00932': {'29'},\n",
       " 'cpd00216': {'34'},\n",
       " 'cpd00002': {'48'},\n",
       " 'cpd00008': {'53'},\n",
       " 'cpd02030': {'55'}}"
      ]
     },
     "execution_count": 64,
     "metadata": {},
     "output_type": "execute_result"
    }
   ],
   "source": [
    "escher_map = escher_manager.get_map('ModelSEED', 'ModelSEED', 'Chorismate Synthesis')\n",
    "em = modelseed_escher.core.EscherMap(json.loads(escher_map))\n",
    "em.add_uid_to_reaction_metabolites()"
   ]
  },
  {
   "cell_type": "code",
   "execution_count": null,
   "metadata": {},
   "outputs": [],
   "source": []
  },
  {
   "cell_type": "code",
   "execution_count": 65,
   "metadata": {},
   "outputs": [],
   "source": [
    "write_json(em.escher_map, '/Users/fliu/workspace/jupyter/web/annotation/data/TempModels/chorismate_base.json', True)"
   ]
  },
  {
   "cell_type": "code",
   "execution_count": null,
   "metadata": {},
   "outputs": [],
   "source": []
  },
  {
   "cell_type": "code",
   "execution_count": 53,
   "metadata": {},
   "outputs": [
    {
     "name": "stderr",
     "output_type": "stream",
     "text": [
      "WARNING:__main__:unmaped_cpd: 2\n",
      "WARNING:__main__:rxn01742 node_id in bigg_to_seed_rxn = false\n",
      "WARNING:__main__:rxn01332 node_id in bigg_to_seed_rxn = false\n",
      "WARNING:__main__:rxn02213 node_id in bigg_to_seed_rxn = false\n",
      "WARNING:__main__:unmaped_rxn: 3\n"
     ]
    }
   ],
   "source": [
    "sbml_id = 'iMM904'\n",
    "\n",
    "test = em.clone()\n",
    "move_to_compartment('c', test)\n",
    "map_compound_remap, unmaped_cpd, node_uid_cmp = remap_map_compounds(test, \n",
    "                                                                    escher_factory.get_cpd_mapping(sbml_id, 'c'), \n",
    "                                                                    lambda x : x.split('_'))\n",
    "logger.warning('unmaped_cpd: %d', len(unmaped_cpd))\n",
    "\n",
    "map_reaction_remap, unmaped_rxn = remap_map_reactions(test, mmm, map_compound_remap, \n",
    "                                                      lambda_get_model_reaction(sbml_id),\n",
    "                                                      lambda x : x, lambda x : x[:-2])\n",
    "\n",
    "logger.warning('unmaped_rxn: %d', len(unmaped_rxn))"
   ]
  },
  {
   "cell_type": "code",
   "execution_count": 32,
   "metadata": {},
   "outputs": [],
   "source": [
    "map_assembly = [\n",
    "    {\n",
    "        'map_id' : 'Chorismate Synthesis',\n",
    "        'cmp_target' : ['c'],\n",
    "        'cmp_sbml' : ['c'],\n",
    "        'sbml_id' : 'iMM904',\n",
    "    },\n",
    "    {\n",
    "        'map_id' : 'Chorismate Synthesis',\n",
    "        'cmp_target' : ['m'],\n",
    "        'cmp_sbml' : ['c'],\n",
    "        'sbml_id' : 'iMM904',\n",
    "    },\n",
    "    {\n",
    "        'map_id' : 'Methylglyoxal Metabolism',\n",
    "        'cmp_target' : ['c'],\n",
    "        'cmp_sbml' : ['c'],\n",
    "        'sbml_id' : 'iMM904',\n",
    "    },\n",
    "    {\n",
    "        'map_id' : 'Denitrification',\n",
    "        'cmp_target' : ['n'],\n",
    "        'cmp_sbml' : ['c'],\n",
    "        'sbml_id' : 'iTESTMODEL',\n",
    "    },\n",
    "    {\n",
    "        'map_id' : 'Denitrification',\n",
    "        'cmp_target' : ['n'],\n",
    "        'cmp_sbml' : ['c'],\n",
    "        'sbml_id' : 'iANOTHERMODEL',\n",
    "    }\n",
    "]"
   ]
  },
  {
   "cell_type": "code",
   "execution_count": 54,
   "metadata": {},
   "outputs": [],
   "source": [
    "cpd_remap = {}\n",
    "rxn_remap = {}\n",
    "for k in map_compound_remap:\n",
    "    cpd_remap[k] = list(map_compound_remap[k])[0] + '@' + sbml_id\n",
    "for k in map_reaction_remap:\n",
    "    rxn_remap[k] = list(map_reaction_remap[k])[0] + '@' + sbml_id\n",
    "test.swap_ids(cpd_remap, rxn_remap)"
   ]
  },
  {
   "cell_type": "code",
   "execution_count": 55,
   "metadata": {},
   "outputs": [],
   "source": [
    "test.delete_reactions(unmaped_rxn)"
   ]
  },
  {
   "cell_type": "code",
   "execution_count": 58,
   "metadata": {},
   "outputs": [],
   "source": [
    "write_json(test.escher_map, '/Users/fliu/workspace/jupyter/web/annotation/data/TempModels/chorismate_gap.json', True)"
   ]
  },
  {
   "cell_type": "code",
   "execution_count": 56,
   "metadata": {},
   "outputs": [
    {
     "data": {
      "text/html": [
       "\n",
       "\n",
       "\n",
       "  \n",
       "  \n",
       "\n",
       "  \n",
       "  \n",
       "    <link rel=\"stylesheet\" href=\"//unpkg.com/escher-vis@1.6.0/css/dist/builder.min.css\"/>\n",
       "  \n",
       "\n",
       "\n",
       "\n",
       "  <div style=\"height: 500px; width: 100%;\" id=\"epmmegivik\"></div>\n",
       "\n",
       "  <script>\n",
       "   /* Closure to make sure data only applies to this map. */\n",
       "   (function() {\n",
       "       /* data from python */\n",
       "       var data = get_data();\n",
       "\n",
       "       function load_lib(url, callback) {\n",
       "           /** Dynamically load a JavaScript file */\n",
       "           var s = document.createElement('script');\n",
       "           s.src = url;\n",
       "           s.async = true;\n",
       "           s.onreadystatechange = s.onload = callback;\n",
       "           s.onerror = function() {\n",
       "               console.warn('Failed to load library ' + url);\n",
       "           };\n",
       "           document.getElementsByTagName('head')[0].appendChild(s);\n",
       "       }\n",
       "\n",
       "       function check_global_and_load(name, url, callback) {\n",
       "           /** Look for the name in the global scope. If it isn't present, then\n",
       "              load the library at url. Returns the object. */\n",
       "           if (window[name] !== undefined) {\n",
       "               callback(window[name]);\n",
       "           } else {\n",
       "               load_lib(url, function() {\n",
       "                   callback(window[name]);\n",
       "               });\n",
       "           }\n",
       "       }\n",
       "\n",
       "       function draw_escher(escher) {\n",
       "           /** Get data and draw */\n",
       "           var load = function(t_map_data, t_model_data, t_options) {\n",
       "               escher.Builder(t_map_data, t_model_data, data.builder_embed_css,\n",
       "                              escher.libs.d3_select('#' + data.id), t_options);\n",
       "           }\n",
       "\n",
       "           // for the static site, use the url attributes for the map and model\n",
       "           // information\n",
       "           if (data.static_site_index !== null) {\n",
       "               escher.static.load_map_model_from_url(data.map_download_url, data.model_download_url,\n",
       "                                                     data.static_site_index, data.options, load);\n",
       "           } else {\n",
       "               load(data.map_data, data.model_data, data.options);\n",
       "           }\n",
       "       }\n",
       "\n",
       "       // Load dependencies and draw\n",
       "       if (typeof define === 'function' && define.amd) {\n",
       "           // require.js is available: use it to load escher\n",
       "           require.config({\n",
       "             paths: {\n",
       "               escher: '//unpkg.com/escher-vis@1.6.0/js/dist/escher.min',\n",
       "             },\n",
       "             // Override urlArgs that adds ?v= to the end of the escher URL and\n",
       "             // messes up unpkg links. Honestly, I'm not sure if this will lead\n",
       "             // to downstream bugs in the notebook, but they really shouldn't be\n",
       "             // doing this cache-busting anyway.\n",
       "             urlArgs: null,\n",
       "           })\n",
       "           require([ 'escher' ], function(escher) {\n",
       "               draw_escher(escher);\n",
       "           })\n",
       "       } else {\n",
       "           // require.js not available: dynamically load escher\n",
       "           check_global_and_load('escher', '//unpkg.com/escher-vis@1.6.0/js/dist/escher.min.js', function(escher) {\n",
       "               draw_escher(escher);\n",
       "           })\n",
       "       }\n",
       "\n",
       "       // Put this at the end so Chrome doesn't cut off the code above.\n",
       "       function get_data() {\n",
       "           /** Return the data passed in by the Python module. */\n",
       "           return {\n",
       "               id: JSON.parse('\"epmmegivik\"'),\n",
       "               map_download_url: JSON.parse('\"//escher.github.io/1-0-0/5/maps/\"'),\n",
       "               model_download_url: JSON.parse('\"//escher.github.io/1-0-0/5/models/\"'),\n",
       "               options: JSON.parse('{\"menu\": \"zoom\", \"enable_keys\": false, \"enable_editing\": false, \"scroll_behavior\": \"none\", \"fill_screen\": false, \"ignore_bootstrap\": true, \"never_ask_before_quit\": true, \"reaction_data\": null, \"metabolite_data\": null, \"gene_data\": null}'),\n",
       "               builder_embed_css: JSON.parse('null'),\n",
       "               map_data: JSON.parse('[{\"map_name\": \"ModelSEED.Chorismate Synthesis\", \"map_id\": \"Y7OMzggMgyFI\", \"map_description\": \"Chorismate Synthesis\", \"homepage\": \"http://modelseed.org\", \"schema\": \"https://escher.github.io/escher/jsonschema/1-0-0#\", \"authors\": [\"Matthew Hoffman\"]}, {\"reactions\": {\"0\": {\"name\": \"rxn01740\", \"bigg_id\": \"R_SHK3Dr@iMM904\", \"reversibility\": false, \"label_x\": -320.1104687114156, \"label_y\": -1245.3854232912902, \"gene_reaction_rule\": \"\", \"genes\": [], \"metabolites\": [{\"bigg_id\": \"M_nadp_c@iMM904\", \"coefficient\": -1, \"node_uid\": \"0\"}, {\"bigg_id\": \"M_skm_c@iMM904\", \"coefficient\": -1, \"node_uid\": \"12\"}, {\"bigg_id\": \"M_nadph_c@iMM904\", \"coefficient\": 1, \"node_uid\": \"5\"}, {\"bigg_id\": \"M_h_c@iMM904\", \"coefficient\": 1, \"node_uid\": \"6\"}, {\"bigg_id\": \"M_3dhsk_c@iMM904\", \"coefficient\": 1, \"node_uid\": \"7\"}], \"segments\": {\"0\": {\"from_node_id\": \"1\", \"to_node_id\": \"2\", \"b1\": null, \"b2\": null}, \"1\": {\"from_node_id\": \"3\", \"to_node_id\": \"2\", \"b1\": null, \"b2\": null}, \"2\": {\"from_node_id\": \"1\", \"to_node_id\": \"0\", \"b1\": {\"x\": -334.9309857286968, \"y\": -1193.3856830832954}, \"b2\": {\"x\": -324.2506706846139, \"y\": -1172.543345107786}}, \"3\": {\"from_node_id\": \"1\", \"to_node_id\": \"12\", \"b1\": {\"x\": -334.91940618142394, \"y\": -1189.3856998440708}, \"b2\": {\"x\": -391.0237313550224, \"y\": -1108.1164144028075}}, \"4\": {\"from_node_id\": \"3\", \"to_node_id\": \"5\", \"b1\": {\"x\": -335.28995169413565, \"y\": -1317.385163499287}, \"b2\": {\"x\": -327.7735604002868, \"y\": -1341.3144325376006}}, \"5\": {\"from_node_id\": \"3\", \"to_node_id\": \"6\", \"b1\": {\"x\": -335.3015312414068, \"y\": -1321.3851467385134}, \"b2\": {\"x\": -299.26100517000634, \"y\": -1341.718758964771}}, \"6\": {\"from_node_id\": \"3\", \"to_node_id\": \"7\", \"b1\": {\"x\": -335.3015312414068, \"y\": -1321.3851467385134}, \"b2\": {\"x\": -397.9438702269252, \"y\": -1402.3106268100332}}}}, \"2\": {\"name\": \"rxn02212\", \"bigg_id\": \"R_DHQS@iMM904\", \"reversibility\": false, \"label_x\": -910.989933639429, \"label_y\": -1770.8347972472643, \"gene_reaction_rule\": \"\", \"genes\": [], \"metabolites\": [{\"bigg_id\": \"M_2dda7p_c@iMM904\", \"coefficient\": -1, \"node_uid\": \"15\"}, {\"bigg_id\": \"M_pi_c@iMM904\", \"coefficient\": 1, \"node_uid\": \"19\"}, {\"bigg_id\": \"M_3dhq_c@iMM904\", \"coefficient\": 1, \"node_uid\": \"20\"}], \"segments\": {\"13\": {\"from_node_id\": \"16\", \"to_node_id\": \"17\", \"b1\": null, \"b2\": null}, \"14\": {\"from_node_id\": \"18\", \"to_node_id\": \"17\", \"b1\": null, \"b2\": null}, \"15\": {\"from_node_id\": \"16\", \"to_node_id\": \"15\", \"b1\": {\"x\": -902.9218922463522, \"y\": -1813.220423708336}, \"b2\": {\"x\": -957.1684854829778, \"y\": -1812.6124580678293}}, \"16\": {\"from_node_id\": \"18\", \"to_node_id\": \"19\", \"b1\": {\"x\": -774.9299303239918, \"y\": -1814.6548864177375}, \"b2\": {\"x\": -762.8624498250724, \"y\": -1799.5503013757188}}, \"17\": {\"from_node_id\": \"18\", \"to_node_id\": \"20\", \"b1\": {\"x\": -778.9296791340648, \"y\": -1814.6100594580676}, \"b2\": {\"x\": -695.385383605957, \"y\": -1812.5747375488281}}}}, \"4\": {\"name\": \"rxn01255\", \"bigg_id\": \"R_CHORS@iMM904\", \"reversibility\": false, \"label_x\": -1209.8343503250583, \"label_y\": -637.6855951159167, \"gene_reaction_rule\": \"\", \"genes\": [], \"metabolites\": [{\"bigg_id\": \"M_3psme_c@iMM904\", \"coefficient\": -1, \"node_uid\": \"29\"}, {\"bigg_id\": \"M_pi_c@iMM904\", \"coefficient\": 1, \"node_uid\": \"33\"}, {\"bigg_id\": \"M_chor_c@iMM904\", \"coefficient\": 1, \"node_uid\": \"34\"}], \"segments\": {\"25\": {\"from_node_id\": \"30\", \"to_node_id\": \"31\", \"b1\": null, \"b2\": null}, \"26\": {\"from_node_id\": \"32\", \"to_node_id\": \"31\", \"b1\": null, \"b2\": null}, \"27\": {\"from_node_id\": \"30\", \"to_node_id\": \"29\", \"b1\": {\"x\": -1097.7821741886398, \"y\": -617.9456635233787}, \"b2\": {\"x\": -1043.5328762704473, \"y\": -618.2216624057874}}, \"28\": {\"from_node_id\": \"32\", \"to_node_id\": \"33\", \"b1\": {\"x\": -1225.7805176638246, \"y\": -617.2944587870047}, \"b2\": {\"x\": -1231.1220253864774, \"y\": -635.2675162689374}}, \"29\": {\"from_node_id\": \"32\", \"to_node_id\": \"34\", \"b1\": {\"x\": -1221.7805694302251, \"y\": -617.314808935017}, \"b2\": {\"x\": -1276.0298673484187, \"y\": -617.0388100526085}}}}, \"5\": {\"name\": \"rxn02476\", \"bigg_id\": \"R_PSCVT@iMM904\", \"reversibility\": false, \"label_x\": -856.1643387744663, \"label_y\": -640.8464501222533, \"gene_reaction_rule\": \"\", \"genes\": [], \"metabolites\": [{\"bigg_id\": \"M_pep_c@iMM904\", \"coefficient\": -1, \"node_uid\": \"35\"}, {\"bigg_id\": \"M_skm5p_c@iMM904\", \"coefficient\": -1, \"node_uid\": \"55\"}, {\"bigg_id\": \"M_pi_c@iMM904\", \"coefficient\": 1, \"node_uid\": \"40\"}, {\"bigg_id\": \"M_3psme_c@iMM904\", \"coefficient\": 1, \"node_uid\": \"29\"}], \"segments\": {\"30\": {\"from_node_id\": \"36\", \"to_node_id\": \"37\", \"b1\": null, \"b2\": null}, \"31\": {\"from_node_id\": \"38\", \"to_node_id\": \"37\", \"b1\": null, \"b2\": null}, \"32\": {\"from_node_id\": \"36\", \"to_node_id\": \"35\", \"b1\": {\"x\": -677.3115034583603, \"y\": -618.1338012445588}, \"b2\": {\"x\": -658.8897369663127, \"y\": -612.8810819624659}}, \"33\": {\"from_node_id\": \"36\", \"to_node_id\": \"55\", \"b1\": {\"x\": -670.8196729005429, \"y\": -620.6460337167898}, \"b2\": {\"x\": -640.668636518478, \"y\": -619.5634716603743}}, \"34\": {\"from_node_id\": \"38\", \"to_node_id\": \"40\", \"b1\": {\"x\": -875.0831013280776, \"y\": -619.9744788324034}, \"b2\": {\"x\": -880.4246090507282, \"y\": -637.9475363143364}}, \"35\": {\"from_node_id\": \"38\", \"to_node_id\": \"29\", \"b1\": {\"x\": -871.0831530944766, \"y\": -619.9948289804154}, \"b2\": {\"x\": -925.3324510126707, \"y\": -619.718830098007}}}}, \"7\": {\"name\": \"rxn01739\", \"bigg_id\": \"R_SHKK@iMM904\", \"reversibility\": false, \"label_x\": -499.92178897357223, \"label_y\": -817.0052029962083, \"gene_reaction_rule\": \"\", \"genes\": [], \"metabolites\": [{\"bigg_id\": \"M_atp_c@iMM904\", \"coefficient\": -1, \"node_uid\": \"48\"}, {\"bigg_id\": \"M_skm_c@iMM904\", \"coefficient\": -1, \"node_uid\": \"12\"}, {\"bigg_id\": \"M_adp_c@iMM904\", \"coefficient\": 1, \"node_uid\": \"53\"}, {\"bigg_id\": \"M_h_c@iMM904\", \"coefficient\": 1, \"node_uid\": \"54\"}, {\"bigg_id\": \"M_skm5p_c@iMM904\", \"coefficient\": 1, \"node_uid\": \"55\"}], \"segments\": {\"41\": {\"from_node_id\": \"49\", \"to_node_id\": \"50\", \"b1\": null, \"b2\": null}, \"42\": {\"from_node_id\": \"51\", \"to_node_id\": \"50\", \"b1\": null, \"b2\": null}, \"43\": {\"from_node_id\": \"49\", \"to_node_id\": \"48\", \"b1\": {\"x\": -516.0743620532237, \"y\": -888.9944889680261}, \"b2\": {\"x\": -535.1829168167719, \"y\": -906.7713699498057}}, \"44\": {\"from_node_id\": \"49\", \"to_node_id\": \"12\", \"b1\": {\"x\": -516.1487216067502, \"y\": -892.993797740402}, \"b2\": {\"x\": -516.116772368002, \"y\": -925.2691802321349}}, \"45\": {\"from_node_id\": \"51\", \"to_node_id\": \"53\", \"b1\": {\"x\": -513.7692158939209, \"y\": -765.0159170243868}, \"b2\": {\"x\": -534.1278287521084, \"y\": -754.7103856547775}}, \"46\": {\"from_node_id\": \"51\", \"to_node_id\": \"54\", \"b1\": {\"x\": -513.6948563403947, \"y\": -761.0166082520116}, \"b2\": {\"x\": -495.6003699507024, \"y\": -756.1021334791354}}, \"47\": {\"from_node_id\": \"51\", \"to_node_id\": \"55\", \"b1\": {\"x\": -513.6948563403947, \"y\": -761.0166082520116}, \"b2\": {\"x\": -513.3051818785317, \"y\": -726.6602819709997}}}}}, \"nodes\": {\"0\": {\"node_type\": \"metabolite\", \"x\": -277.07174692906597, \"y\": -1121.515371776963, \"bigg_id\": \"M_nadp_c@iMM904\", \"name\": \"NADP\", \"label_x\": -258.1454468802377, \"label_y\": -1117.8716645015727, \"node_is_primary\": false, \"compartment\": \"c\"}, \"1\": {\"node_type\": \"multimarker\", \"x\": -335.0525709750543, \"y\": -1235.3855070951631}, \"2\": {\"node_type\": \"midmarker\", \"x\": -335.1104687114156, \"y\": -1255.3854232912902}, \"3\": {\"node_type\": \"multimarker\", \"x\": -335.1683664477771, \"y\": -1275.3853394874186}, \"5\": {\"node_type\": \"metabolite\", \"x\": -274.8662687495863, \"y\": -1407.8035193439368, \"bigg_id\": \"M_nadph_c@iMM904\", \"name\": \"NADPH\", \"label_x\": -254.00468122517248, \"label_y\": -1405.7789603229407, \"node_is_primary\": false, \"compartment\": \"c\"}, \"6\": {\"node_type\": \"metabolite\", \"x\": -216.48927666553334, \"y\": -1377.451243938015, \"bigg_id\": \"M_h_c@iMM904\", \"name\": \"H+\", \"label_x\": -201.48927666553334, \"label_y\": -1377.451243938015, \"node_is_primary\": false, \"compartment\": \"c\"}, \"7\": {\"node_type\": \"metabolite\", \"x\": -519.6796043711398, \"y\": -1458.4653936863426, \"bigg_id\": \"M_3dhsk_c@iMM904\", \"name\": \"3-Dehydroshikimate\", \"label_x\": -474.87848742778044, \"label_y\": -1455.511124277163, \"node_is_primary\": true, \"compartment\": \"c\"}, \"8\": {\"node_type\": \"metabolite\", \"x\": -782.8618766584821, \"y\": -1117.0511326328913, \"bigg_id\": \"cpd00097_c\", \"name\": \"Pyrroloquinoline-quinone\", \"label_x\": -913.5421745100446, \"label_y\": -1084.6176609532038, \"node_is_primary\": false, \"compartment\": \"c\"}, \"12\": {\"node_type\": \"metabolite\", \"x\": -517.5981111843245, \"y\": -1057.3456083549395, \"bigg_id\": \"M_skm_c@iMM904\", \"name\": \"Shikimate\", \"label_x\": -487.5144014675276, \"label_y\": -1041.6984831107989, \"node_is_primary\": true, \"compartment\": \"c\"}, \"13\": {\"node_type\": \"metabolite\", \"x\": -792.7889796344823, \"y\": -1401.787023255626, \"bigg_id\": \"cpd00986_c\", \"name\": \"PQQH2\", \"label_x\": -832.6557398883886, \"label_y\": -1422.328283021251, \"node_is_primary\": false, \"compartment\": \"c\"}, \"15\": {\"node_type\": \"metabolite\", \"x\": -1015.9147961309372, \"y\": -1811.9540620976927, \"bigg_id\": \"M_2dda7p_c@iMM904\", \"name\": \"DAHP\", \"label_x\": -1051.4048474004685, \"label_y\": -1834.6378999883177, \"node_is_primary\": true, \"compartment\": \"c\"}, \"16\": {\"node_type\": \"multimarker\", \"x\": -860.9245297405782, \"y\": -1813.6911067848596}, \"17\": {\"node_type\": \"midmarker\", \"x\": -840.9257856902102, \"y\": -1813.9152415832018}, \"18\": {\"node_type\": \"multimarker\", \"x\": -820.9270416398394, \"y\": -1814.1393763815472}, \"19\": {\"node_type\": \"metabolite\", \"x\": -728.419751365208, \"y\": -1737.9324222917826, \"bigg_id\": \"M_pi_c@iMM904\", \"name\": \"Phosphate\", \"label_x\": -800.4197513652075, \"label_y\": -1707.9324222917826, \"node_is_primary\": false, \"compartment\": \"c\"}, \"20\": {\"node_type\": \"metabolite\", \"x\": -518.9692459106445, \"y\": -1815.3730773925781, \"bigg_id\": \"M_3dhq_c@iMM904\", \"name\": \"5-Dehydroquinate\", \"label_x\": -493.96924591064453, \"label_y\": -1815.3730773925781, \"node_is_primary\": true, \"compartment\": \"c\"}, \"21\": {\"node_type\": \"metabolite\", \"x\": -1298.0127222077726, \"y\": -1741.4736549899267, \"bigg_id\": \"M_h2o_c@iMM904\", \"name\": \"H2O\", \"label_x\": -1352.8857080476164, \"label_y\": -1727.5616676852392, \"node_is_primary\": false, \"compartment\": \"c\"}, \"25\": {\"node_type\": \"metabolite\", \"x\": -1301.3621152475048, \"y\": -1893.5268905099529, \"bigg_id\": \"M_pep_c@iMM904\", \"name\": \"Phosphoenolpyruvate\", \"label_x\": -1381.8230527475048, \"label_y\": -1916.2106063302654, \"node_is_primary\": false, \"compartment\": \"c\"}, \"26\": {\"node_type\": \"metabolite\", \"x\": -1364.1866627701215, \"y\": -1807.4142262448195, \"bigg_id\": \"M_e4p_c@iMM904\", \"name\": \"D-Erythrose4-phosphate\", \"label_x\": -1551.4108448990278, \"label_y\": -1837.257121752632, \"node_is_primary\": true, \"compartment\": \"c\"}, \"27\": {\"node_type\": \"metabolite\", \"x\": -1063.3348822612054, \"y\": -1744.859073450351, \"bigg_id\": \"M_pi_c@iMM904\", \"name\": \"Phosphate\", \"label_x\": -1132.0915350932366, \"label_y\": -1709.453311731601, \"node_is_primary\": false, \"compartment\": \"c\"}, \"29\": {\"node_type\": \"metabolite\", \"x\": -984.7836365894539, \"y\": -618.5205552047097, \"bigg_id\": \"M_3psme_c@iMM904\", \"name\": \"5-O--1-Carboxyvinyl-3-phosphoshikimate\", \"label_x\": -1151.3924927906257, \"label_y\": -576.3076645797097, \"node_is_primary\": true, \"compartment\": \"c\"}, \"30\": {\"node_type\": \"multimarker\", \"x\": -1139.781630641435, \"y\": -617.7319869692564}, \"31\": {\"node_type\": \"midmarker\", \"x\": -1159.7813718094333, \"y\": -617.630236229198}, \"32\": {\"node_type\": \"multimarker\", \"x\": -1179.78111297743, \"y\": -617.5284854891391}, \"33\": {\"node_type\": \"metabolite\", \"x\": -1265.1870159016535, \"y\": -697.0950095158807, \"bigg_id\": \"M_pi_c@iMM904\", \"name\": \"Phosphate\", \"label_x\": -1323.397129427044, \"label_y\": -716.8778693181268, \"node_is_primary\": false, \"compartment\": \"c\"}, \"34\": {\"node_type\": \"metabolite\", \"x\": -1334.7791070294115, \"y\": -616.7399172536858, \"bigg_id\": \"M_chor_c@iMM904\", \"name\": \"Chorismate\", \"label_x\": -1395.3359917950365, \"label_y\": -578.4644655935296, \"node_is_primary\": true, \"compartment\": \"c\"}, \"35\": {\"node_type\": \"metabolite\", \"x\": -630.2706624854184, \"y\": -537.6457901097508, \"bigg_id\": \"M_pep_c@iMM904\", \"name\": \"Phosphoenolpyruvate\", \"label_x\": -715.0479452002621, \"label_y\": -504.2402725316258, \"node_is_primary\": false, \"compartment\": \"c\"}, \"36\": {\"node_type\": \"multimarker\", \"x\": -789.084214305688, \"y\": -620.412007014655}, \"37\": {\"node_type\": \"midmarker\", \"x\": -809.083955473685, \"y\": -620.310256274597}, \"38\": {\"node_type\": \"multimarker\", \"x\": -829.0836966416826, \"y\": -620.2085055345381}, \"40\": {\"node_type\": \"metabolite\", \"x\": -914.489599565906, \"y\": -699.7750295612803, \"bigg_id\": \"M_pi_c@iMM904\", \"name\": \"Phosphate\", \"label_x\": -978.0032409233274, \"label_y\": -715.9217275593272, \"node_is_primary\": false, \"compartment\": \"c\"}, \"46\": {\"node_type\": \"metabolite\", \"x\": -597.8638687133789, \"y\": -1533.730136871338, \"bigg_id\": \"M_h2o_c@iMM904\", \"name\": \"H2O\", \"label_x\": -669.8638687133789, \"label_y\": -1503.730136871338, \"node_is_primary\": false, \"compartment\": \"c\"}, \"48\": {\"node_type\": \"metabolite\", \"x\": -589.2777459359395, \"y\": -931.9808092505788, \"bigg_id\": \"M_atp_c@iMM904\", \"name\": \"ATP\", \"label_x\": -648.604528162502, \"label_y\": -936.3052721412038, \"node_is_primary\": false, \"compartment\": \"c\"}, \"49\": {\"node_type\": \"multimarker\", \"x\": -515.2935867412011, \"y\": -847.0017468580845}, \"50\": {\"node_type\": \"midmarker\", \"x\": -514.9217889735722, \"y\": -827.0052029962083}, \"51\": {\"node_type\": \"multimarker\", \"x\": -514.5499912059424, \"y\": -807.0086591343301}, \"53\": {\"node_type\": \"metabolite\", \"x\": -590.77420954728, \"y\": -726.146108305132, \"bigg_id\": \"M_adp_c@iMM904\", \"name\": \"ADP\", \"label_x\": -654.4255156996237, \"label_y\": -715.3349510785695, \"node_is_primary\": false, \"compartment\": \"c\"}, \"54\": {\"node_type\": \"metabolite\", \"x\": -432.98367524600707, \"y\": -723.5105387918692, \"bigg_id\": \"M_h_c@iMM904\", \"name\": \"H+\", \"label_x\": -411.4970114276477, \"label_y\": -719.1860759012442, \"node_is_primary\": false, \"compartment\": \"c\"}, \"55\": {\"node_type\": \"metabolite\", \"x\": -510.7458764708126, \"y\": -622.1603301953498, \"bigg_id\": \"M_skm5p_c@iMM904\", \"name\": \"3-phosphoshikimate\", \"label_x\": -477.4263574278435, \"label_y\": -614.9172882031623, \"node_is_primary\": true, \"compartment\": \"c\"}}, \"text_labels\": {\"0\": {\"x\": -1182.4732055664062, \"y\": -2067.854248046875, \"text\": \"Chorismate Synthesis\"}}, \"canvas\": {\"x\": -1797.7509765625, \"y\": -2324.5199584960938, \"width\": 1858.5149307250977, \"height\": 2015.9497375488281}}]'),\n",
       "               model_data: JSON.parse('null'),\n",
       "               static_site_index: JSON.parse('null'),\n",
       "           };\n",
       "       }\n",
       "   })();\n",
       "  </script>\n"
      ],
      "text/plain": [
       "<IPython.core.display.HTML object>"
      ]
     },
     "execution_count": 56,
     "metadata": {},
     "output_type": "execute_result"
    }
   ],
   "source": [
    "b = escher.Builder(map_json=json.dumps(test.escher_map), model_json=None)\n",
    "#b.set_highlight_missing(True)\n",
    "b.display_in_notebook()"
   ]
  },
  {
   "cell_type": "code",
   "execution_count": 45,
   "metadata": {},
   "outputs": [],
   "source": [
    "\n",
    "mmm = gget_rxn_mapping(escher_factory, sbml_id)"
   ]
  },
  {
   "cell_type": "code",
   "execution_count": 28,
   "metadata": {},
   "outputs": [],
   "source": [
    "%run ../../modelseed-escher/modelseed_escher/convert_utils.py"
   ]
  },
  {
   "cell_type": "code",
   "execution_count": 322,
   "metadata": {},
   "outputs": [],
   "source": []
  },
  {
   "cell_type": "code",
   "execution_count": null,
   "metadata": {},
   "outputs": [],
   "source": []
  },
  {
   "cell_type": "code",
   "execution_count": null,
   "metadata": {},
   "outputs": [],
   "source": []
  },
  {
   "cell_type": "code",
   "execution_count": null,
   "metadata": {},
   "outputs": [],
   "source": []
  },
  {
   "cell_type": "code",
   "execution_count": null,
   "metadata": {},
   "outputs": [],
   "source": []
  },
  {
   "cell_type": "code",
   "execution_count": null,
   "metadata": {},
   "outputs": [],
   "source": []
  },
  {
   "cell_type": "code",
   "execution_count": null,
   "metadata": {},
   "outputs": [],
   "source": []
  },
  {
   "cell_type": "code",
   "execution_count": 52,
   "metadata": {},
   "outputs": [
    {
     "name": "stderr",
     "output_type": "stream",
     "text": [
      "WARNING:__main__:R_SHK3Dr@iMM9 node_id in bigg_to_seed_rxn = false\n",
      "WARNING:__main__:rxn01742 node_id in bigg_to_seed_rxn = false\n",
      "WARNING:__main__:R_DHQS@iMM9 node_id in bigg_to_seed_rxn = false\n",
      "WARNING:__main__:rxn01332 node_id in bigg_to_seed_rxn = false\n",
      "WARNING:__main__:R_CHORS@iMM9 node_id in bigg_to_seed_rxn = false\n",
      "WARNING:__main__:R_PSCVT@iMM9 node_id in bigg_to_seed_rxn = false\n",
      "WARNING:__main__:rxn02213 node_id in bigg_to_seed_rxn = false\n",
      "WARNING:__main__:R_SHKK@iMM9 node_id in bigg_to_seed_rxn = false\n"
     ]
    },
    {
     "data": {
      "text/plain": [
       "{}"
      ]
     },
     "execution_count": 52,
     "metadata": {},
     "output_type": "execute_result"
    }
   ],
   "source": [
    "\n",
    "\n",
    "\n",
    "\n",
    "map_reaction_remap, unmaped_rxn = remap_map_reactions(test, mmm, map_compound_remap, \n",
    "                                                      lambda_get_model_reaction(sbml_id),\n",
    "                                                      lambda x : x, lambda x : x[:-2])\n",
    "map_reaction_remap"
   ]
  },
  {
   "cell_type": "code",
   "execution_count": 367,
   "metadata": {},
   "outputs": [
    {
     "data": {
      "text/plain": [
       "({'cpd00006_c': 'M_nadp_c',\n",
       "  'cpd00383_c': 'M_skm_c',\n",
       "  'cpd00005_c': 'M_nadph_c',\n",
       "  'cpd00067_c': 'M_h_c',\n",
       "  'cpd01716_c': 'M_3dhsk_c'},\n",
       " set(),\n",
       " {'M_3dhsk_c', 'M_h_c', 'M_nadp_c', 'M_nadph_c', 'M_skm_c'})"
      ]
     },
     "execution_count": 367,
     "metadata": {},
     "output_type": "execute_result"
    }
   ],
   "source": [
    "to_match = {'M_h_c', 'M_nadph_c', 'M_nadp_c', 'M_3dhsk_c', 'M_skm_c'}\n",
    "map_stoichiometry = {'cpd00006_c': -1, 'cpd00383_c': -1, 'cpd00005_c': 1, 'cpd00067_c': 1, 'cpd01716_c': 1}\n",
    "\n",
    "\n",
    "\n",
    "match2(to_match, map_stoichiometry, map_compound_remap)"
   ]
  },
  {
   "cell_type": "code",
   "execution_count": 362,
   "metadata": {},
   "outputs": [
    {
     "data": {
      "text/plain": [
       "{'cpd00006_c': {'M_nadp_c'},\n",
       " 'cpd00005_c': {'M_nadph_c'},\n",
       " 'cpd00067_c': {'M_h_c'},\n",
       " 'cpd01716_c': {'M_3dhsk_c'},\n",
       " 'cpd00383_c': {'M_skm_c'},\n",
       " 'cpd02857_c': {'M_2dda7p_c'},\n",
       " 'cpd00009_c': {'M_pi_c'},\n",
       " 'cpd00699_c': {'M_3dhq_c'},\n",
       " 'cpd00001_c': {'M_h2o_c'},\n",
       " 'cpd00061_c': {'M_pep_c'},\n",
       " 'cpd00236_c': {'M_e4p_c'},\n",
       " 'cpd00932_c': {'M_3psme_c'},\n",
       " 'cpd00216_c': {'M_chor_c'},\n",
       " 'cpd00002_c': {'M_atp_c'},\n",
       " 'cpd00008_c': {'M_adp_c'},\n",
       " 'cpd02030_c': {'M_skm5p_c'}}"
      ]
     },
     "execution_count": 362,
     "metadata": {},
     "output_type": "execute_result"
    }
   ],
   "source": [
    "map_compound_remap"
   ]
  },
  {
   "cell_type": "code",
   "execution_count": 51,
   "metadata": {},
   "outputs": [
    {
     "data": {
      "text/plain": [
       "['model1', 'map of a grate model.yes']"
      ]
     },
     "execution_count": 51,
     "metadata": {},
     "output_type": "execute_result"
    }
   ],
   "source": []
  },
  {
   "cell_type": "code",
   "execution_count": null,
   "metadata": {},
   "outputs": [],
   "source": [
    "        cpd_mapping = {\n",
    "            'cpd00001' : ['M_h2o_c'],\n",
    "            'cpd00009' : ['M_pi_c']\n",
    "        }"
   ]
  },
  {
   "cell_type": "code",
   "execution_count": 59,
   "metadata": {},
   "outputs": [
    {
     "name": "stderr",
     "output_type": "stream",
     "text": [
      "WARNING:__main__:discard: iMM904;c;;ModelSEED.NAD(P) Biosynthesis\n",
      "WARNING:__main__:discard: iMM904;c;;ModelSEED.Mannitol Utilization\n",
      "WARNING:__main__:discard: ;CCO__45__CYTOSOL;c;ModelSEED.Pentose and Glucuronate Interconversions\n"
     ]
    }
   ],
   "source": [
    "build_data = [\n",
    "    \"iMM904;c;;ModelSEED.NAD(P) Biosynthesis\", \n",
    "    \"iMM904;c;c;ModelSEED.Pentose and Glucuronate Interconversions\", \n",
    "    \"iMM904;c;;ModelSEED.Mannitol Utilization\", \n",
    "    \"iJDZ836;CCO__45__CYTOSOL;c;ModelSEED.NAD(P) Biosynthesis\", \n",
    "    \";CCO__45__CYTOSOL;c;ModelSEED.Pentose and Glucuronate Interconversions\", \n",
    "    \"iJDZ836;CCO__45__CYTOSOL;c;ModelSEED.Mannitol Utilization\" ]\n",
    "map_assembly = process_build_data_input(build_data)"
   ]
  },
  {
   "cell_type": "code",
   "execution_count": 153,
   "metadata": {},
   "outputs": [],
   "source": [
    "%run /Users/fliu/workspace/jupyter/python3/annotation-server/escher_factory_api.py\n",
    "\n",
    "escher_factory = EscherFactoryApi(escher_manager)\n",
    "escher_factory.cpd_mapping = cpd_mapping\n",
    "build_data = [\n",
    "    \"iMM904;c;c;ModelSEED.NAD(P) Biosynthesis\", \n",
    "    #\"iMM904;c;c;ModelSEED.Pentose and Glucuronate Interconversions\", \n",
    "    #\"iMM904;c;c;ModelSEED.Mannitol Utilization\", \n",
    "    \"iJDZ836;CCO__45__CYTOSOL;c;ModelSEED.NAD(P) Biosynthesis\", \n",
    "    #\"iJDZ836;CCO__45__CYTOSOL;c;ModelSEED.Pentose and Glucuronate Interconversions\", \n",
    "    #\"iJDZ836;CCO__45__CYTOSOL;c;ModelSEED.Mannitol Utilization\"\n",
    "]\n",
    "map_assembly = process_build_data_input(build_data)"
   ]
  },
  {
   "cell_type": "code",
   "execution_count": null,
   "metadata": {},
   "outputs": [],
   "source": []
  },
  {
   "cell_type": "code",
   "execution_count": 154,
   "metadata": {},
   "outputs": [
    {
     "name": "stderr",
     "output_type": "stream",
     "text": [
      "WARNING:__main__:cpd00013: [M_AMMONIUM] ! [['M_AMMONIA']]\n"
     ]
    },
    {
     "name": "stdout",
     "output_type": "stream",
     "text": [
      "NAD(P) Biosynthesis\n",
      "NAD(P) Biosynthesis\n",
      "211\n"
     ]
    }
   ],
   "source": [
    "master = escher_factory.build_grid(map_assembly, (2, 1))"
   ]
  },
  {
   "cell_type": "code",
   "execution_count": 155,
   "metadata": {},
   "outputs": [
    {
     "data": {
      "text/html": [
       "\n",
       "\n",
       "\n",
       "  \n",
       "  \n",
       "\n",
       "  \n",
       "  \n",
       "    <link rel=\"stylesheet\" href=\"//unpkg.com/escher-vis@1.6.0/css/dist/builder.min.css\"/>\n",
       "  \n",
       "\n",
       "\n",
       "\n",
       "  <div style=\"height: 500px; width: 100%;\" id=\"orrmutvrzg\"></div>\n",
       "\n",
       "  <script>\n",
       "   /* Closure to make sure data only applies to this map. */\n",
       "   (function() {\n",
       "       /* data from python */\n",
       "       var data = get_data();\n",
       "\n",
       "       function load_lib(url, callback) {\n",
       "           /** Dynamically load a JavaScript file */\n",
       "           var s = document.createElement('script');\n",
       "           s.src = url;\n",
       "           s.async = true;\n",
       "           s.onreadystatechange = s.onload = callback;\n",
       "           s.onerror = function() {\n",
       "               console.warn('Failed to load library ' + url);\n",
       "           };\n",
       "           document.getElementsByTagName('head')[0].appendChild(s);\n",
       "       }\n",
       "\n",
       "       function check_global_and_load(name, url, callback) {\n",
       "           /** Look for the name in the global scope. If it isn't present, then\n",
       "              load the library at url. Returns the object. */\n",
       "           if (window[name] !== undefined) {\n",
       "               callback(window[name]);\n",
       "           } else {\n",
       "               load_lib(url, function() {\n",
       "                   callback(window[name]);\n",
       "               });\n",
       "           }\n",
       "       }\n",
       "\n",
       "       function draw_escher(escher) {\n",
       "           /** Get data and draw */\n",
       "           var load = function(t_map_data, t_model_data, t_options) {\n",
       "               escher.Builder(t_map_data, t_model_data, data.builder_embed_css,\n",
       "                              escher.libs.d3_select('#' + data.id), t_options);\n",
       "           }\n",
       "\n",
       "           // for the static site, use the url attributes for the map and model\n",
       "           // information\n",
       "           if (data.static_site_index !== null) {\n",
       "               escher.static.load_map_model_from_url(data.map_download_url, data.model_download_url,\n",
       "                                                     data.static_site_index, data.options, load);\n",
       "           } else {\n",
       "               load(data.map_data, data.model_data, data.options);\n",
       "           }\n",
       "       }\n",
       "\n",
       "       // Load dependencies and draw\n",
       "       if (typeof define === 'function' && define.amd) {\n",
       "           // require.js is available: use it to load escher\n",
       "           require.config({\n",
       "             paths: {\n",
       "               escher: '//unpkg.com/escher-vis@1.6.0/js/dist/escher.min',\n",
       "             },\n",
       "             // Override urlArgs that adds ?v= to the end of the escher URL and\n",
       "             // messes up unpkg links. Honestly, I'm not sure if this will lead\n",
       "             // to downstream bugs in the notebook, but they really shouldn't be\n",
       "             // doing this cache-busting anyway.\n",
       "             urlArgs: null,\n",
       "           })\n",
       "           require([ 'escher' ], function(escher) {\n",
       "               draw_escher(escher);\n",
       "           })\n",
       "       } else {\n",
       "           // require.js not available: dynamically load escher\n",
       "           check_global_and_load('escher', '//unpkg.com/escher-vis@1.6.0/js/dist/escher.min.js', function(escher) {\n",
       "               draw_escher(escher);\n",
       "           })\n",
       "       }\n",
       "\n",
       "       // Put this at the end so Chrome doesn't cut off the code above.\n",
       "       function get_data() {\n",
       "           /** Return the data passed in by the Python module. */\n",
       "           return {\n",
       "               id: JSON.parse('\"orrmutvrzg\"'),\n",
       "               map_download_url: JSON.parse('\"//escher.github.io/1-0-0/5/maps/\"'),\n",
       "               model_download_url: JSON.parse('\"//escher.github.io/1-0-0/5/models/\"'),\n",
       "               options: JSON.parse('{\"menu\": \"zoom\", \"enable_keys\": false, \"enable_editing\": false, \"scroll_behavior\": \"none\", \"fill_screen\": false, \"ignore_bootstrap\": true, \"never_ask_before_quit\": true, \"reaction_data\": null, \"metabolite_data\": null, \"gene_data\": null}'),\n",
       "               builder_embed_css: JSON.parse('null'),\n",
       "               map_data: JSON.parse('[{\"map_name\": \"ModelSEED.NAD(P) Biosynthesis\", \"map_id\": \"udwtFV2rJZnD\", \"map_description\": \"NAD(P) Biosynthesis\", \"homepage\": \"http://modelseed.org\", \"schema\": \"https://escher.github.io/escher/jsonschema/1-0-0#\", \"authors\": [\"Matthew Hoffman\"]}, {\"reactions\": {\"0\": {\"name\": \"rxn00478\", \"bigg_id\": \"rxn00478_c\", \"reversibility\": false, \"label_x\": -792, \"label_y\": -236.99996948242188, \"gene_reaction_rule\": \"\", \"genes\": [], \"metabolites\": [{\"bigg_id\": \"M_o2_c@iMM904\", \"coefficient\": -1, \"node_uid\": \"0\"}, {\"bigg_id\": \"M_trp__L_c@iMM904\", \"coefficient\": -1, \"node_uid\": \"4\"}, {\"bigg_id\": \"M_Lfmkynr_c@iMM904\", \"coefficient\": 1, \"node_uid\": \"5\"}], \"segments\": {\"0\": {\"from_node_id\": \"1\", \"to_node_id\": \"2\", \"b1\": null, \"b2\": null}, \"1\": {\"from_node_id\": \"3\", \"to_node_id\": \"2\", \"b1\": null, \"b2\": null}, \"2\": {\"from_node_id\": \"1\", \"to_node_id\": \"0\", \"b1\": {\"x\": -807, \"y\": -308.9999694824219}, \"b2\": {\"x\": -832.2587153162872, \"y\": -345.01188534205113}}, \"3\": {\"from_node_id\": \"1\", \"to_node_id\": \"4\", \"b1\": {\"x\": -807, \"y\": -312.9999694824219}, \"b2\": {\"x\": -806.4186929700902, \"y\": -353.41040087489466}}, \"4\": {\"from_node_id\": \"3\", \"to_node_id\": \"5\", \"b1\": {\"x\": -807, \"y\": -184.99996948242188}, \"b2\": {\"x\": -807, \"y\": -130.74996948242188}}}}, \"1\": {\"name\": \"rxn01437\", \"bigg_id\": \"rxn01437_c\", \"reversibility\": false, \"label_x\": -792, \"label_y\": 113.00003051757812, \"gene_reaction_rule\": \"\", \"genes\": [], \"metabolites\": [{\"bigg_id\": \"M_h2o_c@iMM904\", \"coefficient\": -1, \"node_uid\": \"9\"}, {\"bigg_id\": \"M_Lfmkynr_c@iMM904\", \"coefficient\": -1, \"node_uid\": \"5\"}, {\"bigg_id\": \"M_for_c@iMM904\", \"coefficient\": 1, \"node_uid\": \"10\"}, {\"bigg_id\": \"M_h_c@iMM904\", \"coefficient\": 1, \"node_uid\": \"11\"}, {\"bigg_id\": \"M_Lkynr_c@iMM904\", \"coefficient\": 1, \"node_uid\": \"12\"}], \"segments\": {\"5\": {\"from_node_id\": \"6\", \"to_node_id\": \"7\", \"b1\": null, \"b2\": null}, \"6\": {\"from_node_id\": \"8\", \"to_node_id\": \"7\", \"b1\": null, \"b2\": null}, \"7\": {\"from_node_id\": \"6\", \"to_node_id\": \"9\", \"b1\": {\"x\": -807, \"y\": 37.000030517578125}, \"b2\": {\"x\": -825, \"y\": 31.750030517578125}}, \"8\": {\"from_node_id\": \"6\", \"to_node_id\": \"5\", \"b1\": {\"x\": -807, \"y\": 41.000030517578125}, \"b2\": {\"x\": -807, \"y\": -13.249969482421875}}, \"9\": {\"from_node_id\": \"8\", \"to_node_id\": \"10\", \"b1\": {\"x\": -807, \"y\": 169.00003051757812}, \"b2\": {\"x\": -789, \"y\": 174.25003051757812}}, \"10\": {\"from_node_id\": \"8\", \"to_node_id\": \"11\", \"b1\": {\"x\": -807, \"y\": 169.00003051757812}, \"b2\": {\"x\": -825, \"y\": 174.25003051757812}}, \"11\": {\"from_node_id\": \"8\", \"to_node_id\": \"12\", \"b1\": {\"x\": -807, \"y\": 165.00003051757812}, \"b2\": {\"x\": -807, \"y\": 219.25003051757812}}}}, \"2\": {\"name\": \"rxn01438\", \"bigg_id\": \"rxn01438_c\", \"reversibility\": false, \"label_x\": -792, \"label_y\": 463.0000305175781, \"gene_reaction_rule\": \"\", \"genes\": [], \"metabolites\": [{\"bigg_id\": \"M_nadph_c@iMM904\", \"coefficient\": -1, \"node_uid\": \"16\"}, {\"bigg_id\": \"M_o2_c@iMM904\", \"coefficient\": -1, \"node_uid\": \"17\"}, {\"bigg_id\": \"M_h_c@iMM904\", \"coefficient\": -1, \"node_uid\": \"18\"}, {\"bigg_id\": \"M_Lkynr_c@iMM904\", \"coefficient\": -1, \"node_uid\": \"12\"}, {\"bigg_id\": \"M_h2o_c@iMM904\", \"coefficient\": 1, \"node_uid\": \"19\"}, {\"bigg_id\": \"M_nadp_c@iMM904\", \"coefficient\": 1, \"node_uid\": \"20\"}, {\"bigg_id\": \"M_hLkynr_c@iMM904\", \"coefficient\": 1, \"node_uid\": \"21\"}], \"segments\": {\"12\": {\"from_node_id\": \"13\", \"to_node_id\": \"14\", \"b1\": null, \"b2\": null}, \"13\": {\"from_node_id\": \"15\", \"to_node_id\": \"14\", \"b1\": null, \"b2\": null}, \"14\": {\"from_node_id\": \"13\", \"to_node_id\": \"16\", \"b1\": {\"x\": -807, \"y\": 387.0000305175781}, \"b2\": {\"x\": -781.2687377929688, \"y\": 397.2124938964844}}, \"15\": {\"from_node_id\": \"13\", \"to_node_id\": \"17\", \"b1\": {\"x\": -807, \"y\": 387.0000305175781}, \"b2\": {\"x\": -825, \"y\": 381.7500305175781}}, \"16\": {\"from_node_id\": \"13\", \"to_node_id\": \"18\", \"b1\": {\"x\": -807, \"y\": 387.0000305175781}, \"b2\": {\"x\": -843, \"y\": 396.7500305175781}}, \"17\": {\"from_node_id\": \"13\", \"to_node_id\": \"12\", \"b1\": {\"x\": -807, \"y\": 391.0000305175781}, \"b2\": {\"x\": -807, \"y\": 336.7500305175781}}, \"18\": {\"from_node_id\": \"15\", \"to_node_id\": \"19\", \"b1\": {\"x\": -807, \"y\": 519.0000305175781}, \"b2\": {\"x\": -789, \"y\": 524.2500305175781}}, \"19\": {\"from_node_id\": \"15\", \"to_node_id\": \"20\", \"b1\": {\"x\": -807, \"y\": 515.0000305175781}, \"b2\": {\"x\": -847.6911225234395, \"y\": 520.6232465060835}}, \"20\": {\"from_node_id\": \"15\", \"to_node_id\": \"21\", \"b1\": {\"x\": -807, \"y\": 519.0000305175781}, \"b2\": {\"x\": -806.2200732641754, \"y\": 544.6855535689676}}}}, \"3\": {\"name\": \"rxn01930\", \"bigg_id\": \"rxn01930_c\", \"reversibility\": false, \"label_x\": -791.4557495117188, \"label_y\": 800.2759704589844, \"gene_reaction_rule\": \"\", \"genes\": [], \"metabolites\": [{\"bigg_id\": \"M_h2o_c@iMM904\", \"coefficient\": -1, \"node_uid\": \"25\"}, {\"bigg_id\": \"M_hLkynr_c@iMM904\", \"coefficient\": -1, \"node_uid\": \"21\"}, {\"bigg_id\": \"M_ala__L_c@iMM904\", \"coefficient\": 1, \"node_uid\": \"26\"}, {\"bigg_id\": \"M_h_c@iMM904\", \"coefficient\": 1, \"node_uid\": \"27\"}, {\"bigg_id\": \"M_3hanthrn_c@iMM904\", \"coefficient\": 1, \"node_uid\": \"28\"}], \"segments\": {\"21\": {\"from_node_id\": \"22\", \"to_node_id\": \"23\", \"b1\": null, \"b2\": null}, \"22\": {\"from_node_id\": \"24\", \"to_node_id\": \"23\", \"b1\": null, \"b2\": null}, \"23\": {\"from_node_id\": \"22\", \"to_node_id\": \"25\", \"b1\": {\"x\": -806.4557495117188, \"y\": 724.2759704589844}, \"b2\": {\"x\": -824.4557495117188, \"y\": 719.0259704589844}}, \"24\": {\"from_node_id\": \"22\", \"to_node_id\": \"21\", \"b1\": {\"x\": -806.4557495117188, \"y\": 728.2759704589844}, \"b2\": {\"x\": -806.4557495117188, \"y\": 674.0259704589844}}, \"25\": {\"from_node_id\": \"24\", \"to_node_id\": \"26\", \"b1\": {\"x\": -806.4557495117188, \"y\": 856.2759704589844}, \"b2\": {\"x\": -788.4557495117188, \"y\": 861.5259704589844}}, \"26\": {\"from_node_id\": \"24\", \"to_node_id\": \"27\", \"b1\": {\"x\": -806.4557495117188, \"y\": 856.2759704589844}, \"b2\": {\"x\": -824.4557495117188, \"y\": 861.5259704589844}}, \"27\": {\"from_node_id\": \"24\", \"to_node_id\": \"28\", \"b1\": {\"x\": -806.4557495117188, \"y\": 852.2759704589844}, \"b2\": {\"x\": -806.4557495117188, \"y\": 906.5259704589844}}}}, \"4\": {\"name\": \"rxn01927\", \"bigg_id\": \"rxn01927_c\", \"reversibility\": false, \"label_x\": -791.4557495117188, \"label_y\": 1150.2759704589844, \"gene_reaction_rule\": \"\", \"genes\": [], \"metabolites\": [{\"bigg_id\": \"M_o2_c@iMM904\", \"coefficient\": -1, \"node_uid\": \"32\"}, {\"bigg_id\": \"M_3hanthrn_c@iMM904\", \"coefficient\": -1, \"node_uid\": \"28\"}, {\"bigg_id\": \"M_cmusa_c@iMM904\", \"coefficient\": 1, \"node_uid\": \"33\"}], \"segments\": {\"28\": {\"from_node_id\": \"29\", \"to_node_id\": \"30\", \"b1\": null, \"b2\": null}, \"29\": {\"from_node_id\": \"31\", \"to_node_id\": \"30\", \"b1\": null, \"b2\": null}, \"30\": {\"from_node_id\": \"29\", \"to_node_id\": \"32\", \"b1\": {\"x\": -806.4557495117188, \"y\": 1074.2759704589844}, \"b2\": {\"x\": -824.4557495117188, \"y\": 1069.0259704589844}}, \"31\": {\"from_node_id\": \"29\", \"to_node_id\": \"28\", \"b1\": {\"x\": -806.4557495117188, \"y\": 1078.2759704589844}, \"b2\": {\"x\": -806.4557495117188, \"y\": 1024.0259704589844}}, \"32\": {\"from_node_id\": \"31\", \"to_node_id\": \"33\", \"b1\": {\"x\": -806.4557495117188, \"y\": 1202.2759704589844}, \"b2\": {\"x\": -806.4557495117188, \"y\": 1256.5259704589844}}}}, \"5\": {\"name\": \"rxn02989\", \"bigg_id\": \"rxn02989_c\", \"reversibility\": false, \"label_x\": -791.4557495117188, \"label_y\": 1500.2759704589844, \"gene_reaction_rule\": \"\", \"genes\": [], \"metabolites\": [{\"bigg_id\": \"M_h2o_c@iMM904\", \"coefficient\": -1, \"node_uid\": \"37\"}, {\"bigg_id\": \"M_h_c@iMM904\", \"coefficient\": -1, \"node_uid\": \"38\"}, {\"bigg_id\": \"M_quln_c@iMM904\", \"coefficient\": -1, \"node_uid\": \"39\"}, {\"bigg_id\": \"M_cmusa_c@iMM904\", \"coefficient\": 1, \"node_uid\": \"33\"}], \"segments\": {\"33\": {\"from_node_id\": \"34\", \"to_node_id\": \"35\", \"b1\": null, \"b2\": null}, \"34\": {\"from_node_id\": \"36\", \"to_node_id\": \"35\", \"b1\": null, \"b2\": null}, \"35\": {\"from_node_id\": \"34\", \"to_node_id\": \"37\", \"b1\": {\"x\": -806.4557495117188, \"y\": 1556.2759704589844}, \"b2\": {\"x\": -799.1950073242188, \"y\": 1554.3664245605469}}, \"36\": {\"from_node_id\": \"34\", \"to_node_id\": \"38\", \"b1\": {\"x\": -806.4557495117188, \"y\": 1556.2759704589844}, \"b2\": {\"x\": -771.1221316000434, \"y\": 1545.4663844111785}}, \"37\": {\"from_node_id\": \"34\", \"to_node_id\": \"39\", \"b1\": {\"x\": -806.4557495117188, \"y\": 1552.2759704589844}, \"b2\": {\"x\": -806.4557495117188, \"y\": 1606.5259704589844}}, \"38\": {\"from_node_id\": \"36\", \"to_node_id\": \"33\", \"b1\": {\"x\": -806.4557495117188, \"y\": 1428.2759704589844}, \"b2\": {\"x\": -806.4557495117188, \"y\": 1374.0259704589844}}}}, \"6\": {\"name\": \"rxn02402\", \"bigg_id\": \"rxn02402_c\", \"reversibility\": false, \"label_x\": -681.4557495117188, \"label_y\": 1625.2759704589844, \"gene_reaction_rule\": \"\", \"genes\": [], \"metabolites\": [{\"bigg_id\": \"M_co2_c@iMM904\", \"coefficient\": -1, \"node_uid\": \"43\"}, {\"bigg_id\": \"M_ppi_c@iMM904\", \"coefficient\": -1, \"node_uid\": \"44\"}, {\"bigg_id\": \"M_nicrnt_c@iMM904\", \"coefficient\": -1, \"node_uid\": \"45\"}, {\"bigg_id\": \"M_h_c@iMM904\", \"coefficient\": 1, \"node_uid\": \"46\"}, {\"bigg_id\": \"M_prpp_c@iMM904\", \"coefficient\": 1, \"node_uid\": \"47\"}, {\"bigg_id\": \"M_quln_c@iMM904\", \"coefficient\": 1, \"node_uid\": \"39\"}], \"segments\": {\"39\": {\"from_node_id\": \"40\", \"to_node_id\": \"41\", \"b1\": null, \"b2\": null}, \"40\": {\"from_node_id\": \"42\", \"to_node_id\": \"41\", \"b1\": null, \"b2\": null}, \"41\": {\"from_node_id\": \"40\", \"to_node_id\": \"43\", \"b1\": {\"x\": -565.4557495117188, \"y\": 1665.2759704589844}, \"b2\": {\"x\": -560.2057495117188, \"y\": 1647.2759704589844}}, \"42\": {\"from_node_id\": \"40\", \"to_node_id\": \"44\", \"b1\": {\"x\": -565.4557495117188, \"y\": 1665.2759704589844}, \"b2\": {\"x\": -560.2057495117188, \"y\": 1683.2759704589844}}, \"43\": {\"from_node_id\": \"40\", \"to_node_id\": \"45\", \"b1\": {\"x\": -569.4557495117188, \"y\": 1665.2759704589844}, \"b2\": {\"x\": -515.2057495117188, \"y\": 1665.2759704589844}}, \"44\": {\"from_node_id\": \"42\", \"to_node_id\": \"46\", \"b1\": {\"x\": -697.4557495117188, \"y\": 1665.2759704589844}, \"b2\": {\"x\": -711.0572422129385, \"y\": 1744.9366876401825}}, \"45\": {\"from_node_id\": \"42\", \"to_node_id\": \"47\", \"b1\": {\"x\": -697.4557495117188, \"y\": 1665.2759704589844}, \"b2\": {\"x\": -702.7057495117188, \"y\": 1683.2759704589844}}, \"46\": {\"from_node_id\": \"42\", \"to_node_id\": \"39\", \"b1\": {\"x\": -693.4557495117188, \"y\": 1665.2759704589844}, \"b2\": {\"x\": -747.7057495117188, \"y\": 1665.2759704589844}}}}, \"7\": {\"name\": \"rxn02155\", \"bigg_id\": \"rxn02155_c\", \"reversibility\": false, \"label_x\": -441.45574951171875, \"label_y\": 1500.2759704589844, \"gene_reaction_rule\": \"\", \"genes\": [], \"metabolites\": [{\"bigg_id\": \"M_atp_c@iMM904\", \"coefficient\": -1, \"node_uid\": \"51\"}, {\"bigg_id\": \"M_nicrnt_c@iMM904\", \"coefficient\": -1, \"node_uid\": \"45\"}, {\"bigg_id\": \"M_ppi_c@iMM904\", \"coefficient\": 1, \"node_uid\": \"52\"}, {\"bigg_id\": \"M_dnad_c@iMM904\", \"coefficient\": 1, \"node_uid\": \"53\"}], \"segments\": {\"47\": {\"from_node_id\": \"48\", \"to_node_id\": \"49\", \"b1\": null, \"b2\": null}, \"48\": {\"from_node_id\": \"50\", \"to_node_id\": \"49\", \"b1\": null, \"b2\": null}, \"49\": {\"from_node_id\": \"48\", \"to_node_id\": \"51\", \"b1\": {\"x\": -456.45574951171875, \"y\": 1556.2759704589844}, \"b2\": {\"x\": -438.45574951171875, \"y\": 1561.5259704589844}}, \"50\": {\"from_node_id\": \"48\", \"to_node_id\": \"45\", \"b1\": {\"x\": -456.45574951171875, \"y\": 1552.2759704589844}, \"b2\": {\"x\": -456.45574951171875, \"y\": 1606.5259704589844}}, \"51\": {\"from_node_id\": \"50\", \"to_node_id\": \"52\", \"b1\": {\"x\": -456.45574951171875, \"y\": 1424.2759704589844}, \"b2\": {\"x\": -438.45574951171875, \"y\": 1419.0259704589844}}, \"52\": {\"from_node_id\": \"50\", \"to_node_id\": \"53\", \"b1\": {\"x\": -456.45574951171875, \"y\": 1428.2759704589844}, \"b2\": {\"x\": -454.6658935546875, \"y\": 1374.0259704589844}}}}, \"8\": {\"name\": \"rxn00138\", \"bigg_id\": \"rxn00138_c\", \"reversibility\": false, \"label_x\": -9.278594970703125, \"label_y\": 997.8456726074219, \"gene_reaction_rule\": \"\", \"genes\": [], \"metabolites\": [{\"bigg_id\": \"M_atp_c@iMM904\", \"coefficient\": -1, \"node_uid\": \"57\"}, {\"bigg_id\": \"M_nh4_c@iMM904\", \"coefficient\": -1, \"node_uid\": \"58\"}, {\"bigg_id\": \"M_dnad_c@iMM904\", \"coefficient\": -1, \"node_uid\": \"53\"}, {\"bigg_id\": \"M_nad_c@iMM904\", \"coefficient\": 1, \"node_uid\": \"69\"}, {\"bigg_id\": \"M_ppi_c@iMM904\", \"coefficient\": 1, \"node_uid\": \"60\"}, {\"bigg_id\": \"M_amp_c@iMM904\", \"coefficient\": 1, \"node_uid\": \"61\"}, {\"bigg_id\": \"M_h_c@iMM904\", \"coefficient\": 2, \"node_uid\": \"62\"}], \"segments\": {\"53\": {\"from_node_id\": \"54\", \"to_node_id\": \"55\", \"b1\": null, \"b2\": null}, \"54\": {\"from_node_id\": \"56\", \"to_node_id\": \"55\", \"b1\": null, \"b2\": null}, \"55\": {\"from_node_id\": \"54\", \"to_node_id\": \"57\", \"b1\": {\"x\": -25.278594970703125, \"y\": 1037.8456726074219}, \"b2\": {\"x\": -30.528594970703125, \"y\": 1019.8456726074219}}, \"56\": {\"from_node_id\": \"54\", \"to_node_id\": \"58\", \"b1\": {\"x\": -25.278594970703125, \"y\": 1037.8456726074219}, \"b2\": {\"x\": -78.85516357421875, \"y\": 1016.4684753417969}}, \"57\": {\"from_node_id\": \"54\", \"to_node_id\": \"53\", \"b1\": {\"x\": -21.278594970703125, \"y\": 1037.8456726074219}, \"b2\": {\"x\": -395.9158935546875, \"y\": 1315.2759704589844}}, \"58\": {\"from_node_id\": \"56\", \"to_node_id\": \"69\", \"b1\": {\"x\": 102.72140502929688, \"y\": 1037.8456726074219}, \"b2\": {\"x\": 555.6360626220703, \"y\": 1276.2571716308594}}, \"59\": {\"from_node_id\": \"56\", \"to_node_id\": \"60\", \"b1\": {\"x\": 106.72140502929688, \"y\": 1037.8456726074219}, \"b2\": {\"x\": 111.97140502929688, \"y\": 1019.8456726074219}}, \"60\": {\"from_node_id\": \"56\", \"to_node_id\": \"61\", \"b1\": {\"x\": 106.72140502929688, \"y\": 1037.8456726074219}, \"b2\": {\"x\": 193.15569133733072, \"y\": 1037.199102096933}}, \"61\": {\"from_node_id\": \"56\", \"to_node_id\": \"62\", \"b1\": {\"x\": 106.72140502929688, \"y\": 1037.8456726074219}, \"b2\": {\"x\": 192.82350886225, \"y\": 1020.8058049758249}}}}, \"9\": {\"name\": \"rxn00190\", \"bigg_id\": \"rxn00190_c\", \"reversibility\": false, \"label_x\": -14.648235321044922, \"label_y\": 1429.2050476074219, \"gene_reaction_rule\": \"\", \"genes\": [], \"metabolites\": [{\"bigg_id\": \"M_h2o_c@iMM904\", \"coefficient\": -1, \"node_uid\": \"66\"}, {\"bigg_id\": \"M_atp_c@iMM904\", \"coefficient\": -1, \"node_uid\": \"67\"}, {\"bigg_id\": \"M_gln__L_c@iMM904\", \"coefficient\": -1, \"node_uid\": \"68\"}, {\"bigg_id\": \"M_dnad_c@iMM904\", \"coefficient\": -1, \"node_uid\": \"53\"}, {\"bigg_id\": \"M_nad_c@iMM904\", \"coefficient\": 1, \"node_uid\": \"69\"}, {\"bigg_id\": \"M_ppi_c@iMM904\", \"coefficient\": 1, \"node_uid\": \"70\"}, {\"bigg_id\": \"M_amp_c@iMM904\", \"coefficient\": 1, \"node_uid\": \"71\"}, {\"bigg_id\": \"M_glu__L_c@iMM904\", \"coefficient\": 1, \"node_uid\": \"72\"}, {\"bigg_id\": \"M_h_c@iMM904\", \"coefficient\": 2, \"node_uid\": \"73\"}], \"segments\": {\"62\": {\"from_node_id\": \"63\", \"to_node_id\": \"64\", \"b1\": null, \"b2\": null}, \"63\": {\"from_node_id\": \"65\", \"to_node_id\": \"64\", \"b1\": null, \"b2\": null}, \"64\": {\"from_node_id\": \"63\", \"to_node_id\": \"66\", \"b1\": {\"x\": -3.8001365661621094, \"y\": 1453.0961608886719}, \"b2\": {\"x\": -103.28594430818895, \"y\": 1438.0233618637067}}, \"65\": {\"from_node_id\": \"63\", \"to_node_id\": \"67\", \"b1\": {\"x\": -3.8001365661621094, \"y\": 1453.0961608886719}, \"b2\": {\"x\": -60.95647048950195, \"y\": 1444.2481384277344}}, \"66\": {\"from_node_id\": \"63\", \"to_node_id\": \"68\", \"b1\": {\"x\": -3.8001365661621094, \"y\": 1453.0961608886719}, \"b2\": {\"x\": -38.79695510864258, \"y\": 1428.2404479980469}}, \"67\": {\"from_node_id\": \"63\", \"to_node_id\": \"53\", \"b1\": {\"x\": 0.19986343383789062, \"y\": 1453.0961608886719}, \"b2\": {\"x\": -395.9158935546875, \"y\": 1315.2759704589844}}, \"68\": {\"from_node_id\": \"65\", \"to_node_id\": \"69\", \"b1\": {\"x\": 124.19986343383789, \"y\": 1453.0961608886719}, \"b2\": {\"x\": 559.2157669067383, \"y\": 1276.2571716308594}}, \"69\": {\"from_node_id\": \"65\", \"to_node_id\": \"70\", \"b1\": {\"x\": 128.1998634338379, \"y\": 1453.0961608886719}, \"b2\": {\"x\": 175.06188058696046, \"y\": 1462.8626857234965}}, \"70\": {\"from_node_id\": \"65\", \"to_node_id\": \"71\", \"b1\": {\"x\": 128.1998634338379, \"y\": 1453.0961608886719}, \"b2\": {\"x\": 186.22872505329906, \"y\": 1454.2768923961496}}, \"71\": {\"from_node_id\": \"65\", \"to_node_id\": \"72\", \"b1\": {\"x\": 128.1998634338379, \"y\": 1453.0961608886719}, \"b2\": {\"x\": 151.34859085083008, \"y\": 1471.0961608886719}}, \"72\": {\"from_node_id\": \"65\", \"to_node_id\": \"73\", \"b1\": {\"x\": 128.1998634338379, \"y\": 1453.0961608886719}, \"b2\": {\"x\": 136.34859085083008, \"y\": 1489.0961608886719}}}}, \"11\": {\"name\": \"rxn01265\", \"bigg_id\": \"rxn01265_c\", \"reversibility\": false, \"label_x\": -441.45574951171875, \"label_y\": 1850.2759704589844, \"gene_reaction_rule\": \"\", \"genes\": [], \"metabolites\": [{\"bigg_id\": \"M_ppi_c@iMM904\", \"coefficient\": -1, \"node_uid\": \"84\"}, {\"bigg_id\": \"M_nicrnt_c@iMM904\", \"coefficient\": -1, \"node_uid\": \"45\"}, {\"bigg_id\": \"M_prpp_c@iMM904\", \"coefficient\": 1, \"node_uid\": \"85\"}, {\"bigg_id\": \"M_nac_c@iMM904\", \"coefficient\": 1, \"node_uid\": \"86\"}], \"segments\": {\"80\": {\"from_node_id\": \"81\", \"to_node_id\": \"82\", \"b1\": null, \"b2\": null}, \"81\": {\"from_node_id\": \"83\", \"to_node_id\": \"82\", \"b1\": null, \"b2\": null}, \"82\": {\"from_node_id\": \"81\", \"to_node_id\": \"84\", \"b1\": {\"x\": -456.45574951171875, \"y\": 1774.2759704589844}, \"b2\": {\"x\": -465.70814619726156, \"y\": 1747.7069153474772}}, \"83\": {\"from_node_id\": \"81\", \"to_node_id\": \"45\", \"b1\": {\"x\": -456.45574951171875, \"y\": 1778.2759704589844}, \"b2\": {\"x\": -456.45574951171875, \"y\": 1724.0259704589844}}, \"84\": {\"from_node_id\": \"83\", \"to_node_id\": \"85\", \"b1\": {\"x\": -456.45574951171875, \"y\": 1906.2759704589844}, \"b2\": {\"x\": -474.45574951171875, \"y\": 1911.5259704589844}}, \"85\": {\"from_node_id\": \"83\", \"to_node_id\": \"86\", \"b1\": {\"x\": -456.45574951171875, \"y\": 1902.2759704589844}, \"b2\": {\"x\": -456.45574951171875, \"y\": 1956.5259704589844}}}}, \"12\": {\"name\": \"rxn00938\", \"bigg_id\": \"rxn00938_c\", \"reversibility\": false, \"label_x\": -246.04871368408203, \"label_y\": 1998.0000915527344, \"gene_reaction_rule\": \"\", \"genes\": [], \"metabolites\": [{\"bigg_id\": \"M_h2o_c@iMM904\", \"coefficient\": -1, \"node_uid\": \"90\"}, {\"bigg_id\": \"M_ncam_c@iMM904\", \"coefficient\": -1, \"node_uid\": \"91\"}, {\"bigg_id\": \"M_nh4_c@iMM904\", \"coefficient\": 1, \"node_uid\": \"92\"}, {\"bigg_id\": \"M_nac_c@iMM904\", \"coefficient\": 1, \"node_uid\": \"86\"}], \"segments\": {\"86\": {\"from_node_id\": \"87\", \"to_node_id\": \"88\", \"b1\": null, \"b2\": null}, \"87\": {\"from_node_id\": \"89\", \"to_node_id\": \"88\", \"b1\": null, \"b2\": null}, \"88\": {\"from_node_id\": \"87\", \"to_node_id\": \"90\", \"b1\": {\"x\": -118.6866226196289, \"y\": 2015.2758483886719}, \"b2\": {\"x\": -113.4366226196289, \"y\": 2033.2758483886719}}, \"89\": {\"from_node_id\": \"87\", \"to_node_id\": \"91\", \"b1\": {\"x\": -122.6866226196289, \"y\": 2015.2758483886719}, \"b2\": {\"x\": 18.655609130859375, \"y\": 2015.2759704589844}}, \"90\": {\"from_node_id\": \"89\", \"to_node_id\": \"92\", \"b1\": {\"x\": -250.6866226196289, \"y\": 2015.2758483886719}, \"b2\": {\"x\": -255.9366226196289, \"y\": 2033.2758483886719}}, \"91\": {\"from_node_id\": \"89\", \"to_node_id\": \"86\", \"b1\": {\"x\": -246.6866226196289, \"y\": 2015.2758483886719}, \"b2\": {\"x\": -397.70574951171875, \"y\": 2015.2759704589844}}}}, \"13\": {\"name\": \"rxn00941\", \"bigg_id\": \"rxn00941_c\", \"reversibility\": false, \"label_x\": 296.75550842285156, \"label_y\": 1975.2759704589844, \"gene_reaction_rule\": \"\", \"genes\": [], \"metabolites\": [{\"bigg_id\": \"M_ppi_c@iMM904\", \"coefficient\": -1, \"node_uid\": \"96\"}, {\"bigg_id\": \"M_nmn_c@iMM904\", \"coefficient\": -1, \"node_uid\": \"97\"}, {\"bigg_id\": \"M_prpp_c@iMM904\", \"coefficient\": 1, \"node_uid\": \"98\"}, {\"bigg_id\": \"M_ncam_c@iMM904\", \"coefficient\": 1, \"node_uid\": \"91\"}], \"segments\": {\"92\": {\"from_node_id\": \"93\", \"to_node_id\": \"94\", \"b1\": null, \"b2\": null}, \"93\": {\"from_node_id\": \"95\", \"to_node_id\": \"94\", \"b1\": null, \"b2\": null}, \"94\": {\"from_node_id\": \"93\", \"to_node_id\": \"96\", \"b1\": {\"x\": 412.75550842285156, \"y\": 2015.2759704589844}, \"b2\": {\"x\": 418.00550842285156, \"y\": 2033.2759704589844}}, \"95\": {\"from_node_id\": \"93\", \"to_node_id\": \"97\", \"b1\": {\"x\": 408.75550842285156, \"y\": 2015.2759704589844}, \"b2\": {\"x\": 562.1939086914062, \"y\": 2017.6952819824219}}, \"96\": {\"from_node_id\": \"95\", \"to_node_id\": \"98\", \"b1\": {\"x\": 280.75550842285156, \"y\": 2015.2759704589844}, \"b2\": {\"x\": 275.50550842285156, \"y\": 2033.2759704589844}}, \"97\": {\"from_node_id\": \"95\", \"to_node_id\": \"91\", \"b1\": {\"x\": 284.75550842285156, \"y\": 2015.2759704589844}, \"b2\": {\"x\": 136.15560913085938, \"y\": 2015.2759704589844}}}}, \"14\": {\"name\": \"rxn00105\", \"bigg_id\": \"rxn00105_c\", \"reversibility\": false, \"label_x\": 633.5246734619141, \"label_y\": 1714.7991638183594, \"gene_reaction_rule\": \"\", \"genes\": [], \"metabolites\": [{\"bigg_id\": \"M_atp_c@iMM904\", \"coefficient\": -1, \"node_uid\": \"102\"}, {\"bigg_id\": \"M_nmn_c@iMM904\", \"coefficient\": -1, \"node_uid\": \"97\"}, {\"bigg_id\": \"M_nad_c@iMM904\", \"coefficient\": 1, \"node_uid\": \"69\"}, {\"bigg_id\": \"M_ppi_c@iMM904\", \"coefficient\": 1, \"node_uid\": \"104\"}], \"segments\": {\"98\": {\"from_node_id\": \"99\", \"to_node_id\": \"100\", \"b1\": null, \"b2\": null}, \"99\": {\"from_node_id\": \"101\", \"to_node_id\": \"100\", \"b1\": null, \"b2\": null}, \"100\": {\"from_node_id\": \"99\", \"to_node_id\": \"102\", \"b1\": {\"x\": 618.5246734619141, \"y\": 1770.7991638183594}, \"b2\": {\"x\": 622.0091857910156, \"y\": 1802.6607360839844}}, \"101\": {\"from_node_id\": \"99\", \"to_node_id\": \"97\", \"b1\": {\"x\": 618.5246734619141, \"y\": 1766.7991638183594}, \"b2\": {\"x\": 620.9439086914062, \"y\": 1958.9452819824219}}, \"102\": {\"from_node_id\": \"101\", \"to_node_id\": \"69\", \"b1\": {\"x\": 618.5246734619141, \"y\": 1642.7991638183594}, \"b2\": {\"x\": 614.3696441650391, \"y\": 1331.7419128417969}}, \"103\": {\"from_node_id\": \"101\", \"to_node_id\": \"104\", \"b1\": {\"x\": 618.5246734619141, \"y\": 1638.7991638183594}, \"b2\": {\"x\": 636.5246734619141, \"y\": 1633.5491638183594}}}}, \"17\": {\"name\": \"rxn02401\", \"bigg_id\": \"rxn02401_c\", \"reversibility\": false, \"label_x\": -331.45574951171875, \"label_y\": 1625.2759704589844, \"gene_reaction_rule\": \"\", \"genes\": [], \"metabolites\": [{\"bigg_id\": \"M_adp_c@iMM904\", \"coefficient\": -1, \"node_uid\": \"123\"}, {\"bigg_id\": \"M_h_c@iMM904\", \"coefficient\": -1, \"node_uid\": \"124\"}, {\"bigg_id\": \"M_nicrnt_c@iMM904\", \"coefficient\": -1, \"node_uid\": \"45\"}, {\"bigg_id\": \"M_atp_c@iMM904\", \"coefficient\": 1, \"node_uid\": \"125\"}, {\"bigg_id\": \"cpd03471_c\", \"coefficient\": 1, \"node_uid\": \"126\"}], \"segments\": {\"119\": {\"from_node_id\": \"120\", \"to_node_id\": \"121\", \"b1\": null, \"b2\": null}, \"120\": {\"from_node_id\": \"122\", \"to_node_id\": \"121\", \"b1\": null, \"b2\": null}, \"121\": {\"from_node_id\": \"120\", \"to_node_id\": \"123\", \"b1\": {\"x\": -347.45574951171875, \"y\": 1665.2759704589844}, \"b2\": {\"x\": -321.0484619140625, \"y\": 1682.0989685058594}}, \"122\": {\"from_node_id\": \"120\", \"to_node_id\": \"124\", \"b1\": {\"x\": -347.45574951171875, \"y\": 1665.2759704589844}, \"b2\": {\"x\": -324.21417236328125, \"y\": 1664.2815856933594}}, \"123\": {\"from_node_id\": \"120\", \"to_node_id\": \"45\", \"b1\": {\"x\": -343.45574951171875, \"y\": 1665.2759704589844}, \"b2\": {\"x\": -397.70574951171875, \"y\": 1665.2759704589844}}, \"124\": {\"from_node_id\": \"122\", \"to_node_id\": \"125\", \"b1\": {\"x\": -215.45574951171875, \"y\": 1665.2759704589844}, \"b2\": {\"x\": -201.68417358398438, \"y\": 1660.5518493652344}}, \"125\": {\"from_node_id\": \"122\", \"to_node_id\": \"126\", \"b1\": {\"x\": -219.45574951171875, \"y\": 1665.2759704589844}, \"b2\": {\"x\": -165.20574951171875, \"y\": 1665.2759704589844}}}}, \"18\": {\"name\": \"rxn02988\", \"bigg_id\": \"rxn02988_c\", \"reversibility\": false, \"label_x\": -1054.671142578125, \"label_y\": 1629.6287536621094, \"gene_reaction_rule\": \"\", \"genes\": [], \"metabolites\": [{\"bigg_id\": \"M_h2o_c@iMM904\", \"coefficient\": -2, \"node_uid\": \"130\"}, {\"bigg_id\": \"M_pi_c@iMM904\", \"coefficient\": -1, \"node_uid\": \"131\"}, {\"bigg_id\": \"M_h_c@iMM904\", \"coefficient\": -1, \"node_uid\": \"132\"}, {\"bigg_id\": \"M_quln_c@iMM904\", \"coefficient\": -1, \"node_uid\": \"39\"}, {\"bigg_id\": \"M_dhap_c@iMM904\", \"coefficient\": 1, \"node_uid\": \"133\"}, {\"bigg_id\": \"M_iasp_c@iMM904\", \"coefficient\": 1, \"node_uid\": \"134\"}], \"segments\": {\"126\": {\"from_node_id\": \"127\", \"to_node_id\": \"128\", \"b1\": null, \"b2\": null}, \"127\": {\"from_node_id\": \"129\", \"to_node_id\": \"128\", \"b1\": null, \"b2\": null}, \"128\": {\"from_node_id\": \"127\", \"to_node_id\": \"130\", \"b1\": {\"x\": -915.4557495117188, \"y\": 1665.2759704589844}, \"b2\": {\"x\": -910.2057495117188, \"y\": 1683.2759704589844}}, \"129\": {\"from_node_id\": \"127\", \"to_node_id\": \"131\", \"b1\": {\"x\": -915.4557495117188, \"y\": 1665.2759704589844}, \"b2\": {\"x\": -933.6997975320527, \"y\": 1699.5237281249965}}, \"130\": {\"from_node_id\": \"127\", \"to_node_id\": \"132\", \"b1\": {\"x\": -915.4557495117188, \"y\": 1665.2759704589844}, \"b2\": {\"x\": -919.40185546875, \"y\": 1637.9817810058594}}, \"131\": {\"from_node_id\": \"127\", \"to_node_id\": \"39\", \"b1\": {\"x\": -919.4557495117188, \"y\": 1665.2759704589844}, \"b2\": {\"x\": -865.2057495117188, \"y\": 1665.2759704589844}}, \"132\": {\"from_node_id\": \"129\", \"to_node_id\": \"133\", \"b1\": {\"x\": -1047.4557495117188, \"y\": 1665.2759704589844}, \"b2\": {\"x\": -1052.7057495117188, \"y\": 1647.2759704589844}}, \"133\": {\"from_node_id\": \"129\", \"to_node_id\": \"134\", \"b1\": {\"x\": -1043.4557495117188, \"y\": 1665.2759704589844}, \"b2\": {\"x\": -1100.8827514648438, \"y\": 1665.2759704589844}}}}, \"19\": {\"name\": \"rxn00338\", \"bigg_id\": \"rxn00338_c\", \"reversibility\": false, \"label_x\": -1559.8402709960938, \"label_y\": 1342.3716735839844, \"gene_reaction_rule\": \"\", \"genes\": [], \"metabolites\": [{\"bigg_id\": \"M_o2_c@iMM904\", \"coefficient\": -1, \"node_uid\": \"138\"}, {\"bigg_id\": \"M_asp__L_c@iMM904\", \"coefficient\": -1, \"node_uid\": \"139\"}, {\"bigg_id\": \"M_h2o2_c@iMM904\", \"coefficient\": 1, \"node_uid\": \"140\"}, {\"bigg_id\": \"M_iasp_c@iMM904\", \"coefficient\": 1, \"node_uid\": \"134\"}], \"segments\": {\"134\": {\"from_node_id\": \"135\", \"to_node_id\": \"136\", \"b1\": null, \"b2\": null}, \"135\": {\"from_node_id\": \"137\", \"to_node_id\": \"136\", \"b1\": null, \"b2\": null}, \"136\": {\"from_node_id\": \"135\", \"to_node_id\": \"138\", \"b1\": {\"x\": -1567.8977661132812, \"y\": 1374.4291687011719}, \"b2\": {\"x\": -1573.1477661132812, \"y\": 1356.4291687011719}}, \"137\": {\"from_node_id\": \"135\", \"to_node_id\": \"139\", \"b1\": {\"x\": -1563.8977661132812, \"y\": 1374.4291687011719}, \"b2\": {\"x\": -1791.8344116210938, \"y\": 1662.6989440917969}}, \"138\": {\"from_node_id\": \"137\", \"to_node_id\": \"140\", \"b1\": {\"x\": -1435.8977661132812, \"y\": 1374.4291687011719}, \"b2\": {\"x\": -1430.6477661132812, \"y\": 1356.4291687011719}}, \"139\": {\"from_node_id\": \"137\", \"to_node_id\": \"134\", \"b1\": {\"x\": -1439.8977661132812, \"y\": 1374.4291687011719}, \"b2\": {\"x\": -1218.3827514648438, \"y\": 1665.2759704589844}}}}, \"20\": {\"name\": \"rxn05117\", \"bigg_id\": \"rxn05117_c\", \"reversibility\": false, \"label_x\": -1575.7252807617188, \"label_y\": 1625.1243591308594, \"gene_reaction_rule\": \"\", \"genes\": [], \"metabolites\": [{\"bigg_id\": \"M_nadp_c@iMM904\", \"coefficient\": -1, \"node_uid\": \"144\"}, {\"bigg_id\": \"M_asp__L_c@iMM904\", \"coefficient\": -1, \"node_uid\": \"139\"}, {\"bigg_id\": \"M_nadph_c@iMM904\", \"coefficient\": 1, \"node_uid\": \"146\"}, {\"bigg_id\": \"M_h_c@iMM904\", \"coefficient\": 1, \"node_uid\": \"147\"}, {\"bigg_id\": \"M_iasp_c@iMM904\", \"coefficient\": 1, \"node_uid\": \"134\"}], \"segments\": {\"140\": {\"from_node_id\": \"141\", \"to_node_id\": \"142\", \"b1\": null, \"b2\": null}, \"141\": {\"from_node_id\": \"143\", \"to_node_id\": \"142\", \"b1\": null, \"b2\": null}, \"142\": {\"from_node_id\": \"141\", \"to_node_id\": \"144\", \"b1\": {\"x\": -1570.2517700195312, \"y\": 1666.7128601074219}, \"b2\": {\"x\": -1601.1642361603697, \"y\": 1676.7572786152523}}, \"143\": {\"from_node_id\": \"141\", \"to_node_id\": \"139\", \"b1\": {\"x\": -1574.2517700195312, \"y\": 1666.7128601074219}, \"b2\": {\"x\": -1775.204050365832, \"y\": 1668.2552681628001}}, \"144\": {\"from_node_id\": \"143\", \"to_node_id\": \"146\", \"b1\": {\"x\": -1442.2517700195312, \"y\": 1666.7128601074219}, \"b2\": {\"x\": -1437.0017700195312, \"y\": 1684.7128601074219}}, \"145\": {\"from_node_id\": \"143\", \"to_node_id\": \"147\", \"b1\": {\"x\": -1442.2517700195312, \"y\": 1666.7128601074219}, \"b2\": {\"x\": -1436.5007796147981, \"y\": 1688.9923864859836}}, \"146\": {\"from_node_id\": \"143\", \"to_node_id\": \"134\", \"b1\": {\"x\": -1446.2517700195312, \"y\": 1666.7128601074219}, \"b2\": {\"x\": -1218.3827514648438, \"y\": 1665.2759704589844}}}}, \"21\": {\"name\": \"rxn00728\", \"bigg_id\": \"rxn00728_c\", \"reversibility\": false, \"label_x\": -682, \"label_y\": 238.00003051757812, \"gene_reaction_rule\": \"\", \"genes\": [], \"metabolites\": [{\"bigg_id\": \"M_h2o_c@iMM904\", \"coefficient\": -1, \"node_uid\": \"151\"}, {\"bigg_id\": \"M_Lkynr_c@iMM904\", \"coefficient\": -1, \"node_uid\": \"12\"}, {\"bigg_id\": \"M_ala__L_c@iMM904\", \"coefficient\": 1, \"node_uid\": \"152\"}, {\"bigg_id\": \"M_h_c@iMM904\", \"coefficient\": 1, \"node_uid\": \"153\"}, {\"bigg_id\": \"M_anth_c@iMM904\", \"coefficient\": 1, \"node_uid\": \"154\"}], \"segments\": {\"147\": {\"from_node_id\": \"148\", \"to_node_id\": \"149\", \"b1\": null, \"b2\": null}, \"148\": {\"from_node_id\": \"150\", \"to_node_id\": \"149\", \"b1\": null, \"b2\": null}, \"149\": {\"from_node_id\": \"148\", \"to_node_id\": \"151\", \"b1\": {\"x\": -698, \"y\": 278.0000305175781}, \"b2\": {\"x\": -708.4041137695312, \"y\": 277.9604797363281}}, \"150\": {\"from_node_id\": \"148\", \"to_node_id\": \"12\", \"b1\": {\"x\": -694, \"y\": 278.0000305175781}, \"b2\": {\"x\": -748.25, \"y\": 278.0000305175781}}, \"151\": {\"from_node_id\": \"150\", \"to_node_id\": \"152\", \"b1\": {\"x\": -566, \"y\": 278.0000305175781}, \"b2\": {\"x\": -560.75, \"y\": 260.0000305175781}}, \"152\": {\"from_node_id\": \"150\", \"to_node_id\": \"153\", \"b1\": {\"x\": -566, \"y\": 278.0000305175781}, \"b2\": {\"x\": -560.75, \"y\": 296.0000305175781}}, \"153\": {\"from_node_id\": \"150\", \"to_node_id\": \"154\", \"b1\": {\"x\": -570, \"y\": 278.0000305175781}, \"b2\": {\"x\": -515.75, \"y\": 278.0000305175781}}}}, \"22\": {\"name\": \"rxn05119\", \"bigg_id\": \"rxn05119_c\", \"reversibility\": false, \"label_x\": -1562.4509887695312, \"label_y\": 1898.4462585449219, \"gene_reaction_rule\": \"\", \"genes\": [], \"metabolites\": [{\"bigg_id\": \"M_nad_c@iMM904\", \"coefficient\": -1, \"node_uid\": \"158\"}, {\"bigg_id\": \"M_asp__L_c@iMM904\", \"coefficient\": -1, \"node_uid\": \"139\"}, {\"bigg_id\": \"M_nadh_c@iMM904\", \"coefficient\": 1, \"node_uid\": \"160\"}, {\"bigg_id\": \"M_h_c@iMM904\", \"coefficient\": 1, \"node_uid\": \"161\"}, {\"bigg_id\": \"M_iasp_c@iMM904\", \"coefficient\": 1, \"node_uid\": \"134\"}], \"segments\": {\"154\": {\"from_node_id\": \"155\", \"to_node_id\": \"156\", \"b1\": null, \"b2\": null}, \"155\": {\"from_node_id\": \"157\", \"to_node_id\": \"156\", \"b1\": null, \"b2\": null}, \"156\": {\"from_node_id\": \"155\", \"to_node_id\": \"158\", \"b1\": {\"x\": -1574.4509887695312, \"y\": 1938.4462585449219}, \"b2\": {\"x\": -1628.7009887695312, \"y\": 1938.4462585449219}}, \"157\": {\"from_node_id\": \"155\", \"to_node_id\": \"139\", \"b1\": {\"x\": -1578.4509887695312, \"y\": 1938.4462585449219}, \"b2\": {\"x\": -1783.9513916842059, \"y\": 1660.0725962125584}}, \"158\": {\"from_node_id\": \"157\", \"to_node_id\": \"160\", \"b1\": {\"x\": -1446.4509887695312, \"y\": 1938.4462585449219}, \"b2\": {\"x\": -1441.2009887695312, \"y\": 1956.4462585449219}}, \"159\": {\"from_node_id\": \"157\", \"to_node_id\": \"161\", \"b1\": {\"x\": -1446.4509887695312, \"y\": 1938.4462585449219}, \"b2\": {\"x\": -1351.0032348632812, \"y\": 1946.2171325683594}}, \"160\": {\"from_node_id\": \"157\", \"to_node_id\": \"134\", \"b1\": {\"x\": -1450.4509887695312, \"y\": 1938.4462585449219}, \"b2\": {\"x\": -1218.3827514648438, \"y\": 1665.2759704589844}}}}, \"24\": {\"name\": \"rxn00077\", \"bigg_id\": \"rxn00077_c\", \"reversibility\": false, \"label_x\": 629.7529737880272, \"label_y\": 1054.1896081394477, \"gene_reaction_rule\": \"\", \"genes\": [], \"metabolites\": [{\"bigg_id\": \"M_atp_c@iMM904\", \"coefficient\": -1, \"node_uid\": \"173\"}, {\"bigg_id\": \"M_nad_c@iMM904\", \"coefficient\": -1, \"node_uid\": \"69\"}, {\"bigg_id\": \"M_nadp_c@iMM904\", \"coefficient\": 1, \"node_uid\": \"178\"}, {\"bigg_id\": \"M_adp_c@iMM904\", \"coefficient\": 1, \"node_uid\": \"179\"}, {\"bigg_id\": \"M_h_c@iMM904\", \"coefficient\": 1, \"node_uid\": \"180\"}], \"segments\": {\"171\": {\"from_node_id\": \"174\", \"to_node_id\": \"175\", \"b1\": null, \"b2\": null}, \"172\": {\"from_node_id\": \"176\", \"to_node_id\": \"175\", \"b1\": null, \"b2\": null}, \"173\": {\"from_node_id\": \"174\", \"to_node_id\": \"173\", \"b1\": {\"x\": 617.6873872045735, \"y\": 1117.075517950403}, \"b2\": {\"x\": 588.357315735205, \"y\": 1131.108913073741}}, \"174\": {\"from_node_id\": \"174\", \"to_node_id\": \"69\", \"b1\": {\"x\": 617.7820091387057, \"y\": 1121.07439862999}, \"b2\": {\"x\": 621.7648524383351, \"y\": 1190.2206764057796}}, \"175\": {\"from_node_id\": \"176\", \"to_node_id\": \"178\", \"b1\": {\"x\": 614.7541072464796, \"y\": 993.1102168831787}, \"b2\": {\"x\": 615.5211512687185, \"y\": 938.8753976662678}}, \"176\": {\"from_node_id\": \"176\", \"to_node_id\": \"179\", \"b1\": {\"x\": 614.6594853123468, \"y\": 989.1113362035904}, \"b2\": {\"x\": 596.5403309656529, \"y\": 984.2886040152257}}, \"177\": {\"from_node_id\": \"176\", \"to_node_id\": \"180\", \"b1\": {\"x\": 614.6594853123468, \"y\": 989.1113362035904}, \"b2\": {\"x\": 632.5302570819438, \"y\": 983.4370066080369}}}}, \"25\": {\"name\": \"rxn10100\", \"bigg_id\": \"rxn10100_c\", \"reversibility\": false, \"label_x\": 629.1313916111542, \"label_y\": 715.1418376848214, \"gene_reaction_rule\": \"\", \"genes\": [], \"metabolites\": [{\"bigg_id\": \"M_nadph_c@iMM904\", \"coefficient\": -1, \"node_uid\": \"184\"}, {\"bigg_id\": \"M_h_c@iMM904\", \"coefficient\": -2, \"node_uid\": \"185\"}, {\"bigg_id\": \"M_ddcaACP_c@iMM904\", \"coefficient\": -1, \"node_uid\": \"186\"}, {\"bigg_id\": \"M_malACP_c@iMM904\", \"coefficient\": -1, \"node_uid\": \"187\"}, {\"bigg_id\": \"M_nadp_c@iMM904\", \"coefficient\": 1, \"node_uid\": \"178\"}, {\"bigg_id\": \"M_co2_c@iMM904\", \"coefficient\": 1, \"node_uid\": \"188\"}, {\"bigg_id\": \"cpd11484_c\", \"coefficient\": 1, \"node_uid\": \"189\"}, {\"bigg_id\": \"M_ACP_c@iMM904\", \"coefficient\": 1, \"node_uid\": \"190\"}], \"segments\": {\"178\": {\"from_node_id\": \"181\", \"to_node_id\": \"182\", \"b1\": null, \"b2\": null}, \"179\": {\"from_node_id\": \"183\", \"to_node_id\": \"182\", \"b1\": null, \"b2\": null}, \"180\": {\"from_node_id\": \"181\", \"to_node_id\": \"184\", \"b1\": {\"x\": 614.1313916111542, \"y\": 643.1418376848214}, \"b2\": {\"x\": 614.1313916111542, \"y\": 588.8918376848214}}, \"181\": {\"from_node_id\": \"181\", \"to_node_id\": \"185\", \"b1\": {\"x\": 614.1313916111542, \"y\": 639.1418376848214}, \"b2\": {\"x\": 596.1313916111542, \"y\": 633.8918376848214}}, \"182\": {\"from_node_id\": \"181\", \"to_node_id\": \"186\", \"b1\": {\"x\": 614.1313916111542, \"y\": 639.1418376848214}, \"b2\": {\"x\": 632.1313916111542, \"y\": 633.8918376848214}}, \"183\": {\"from_node_id\": \"181\", \"to_node_id\": \"187\", \"b1\": {\"x\": 614.1313916111542, \"y\": 639.1418376848214}, \"b2\": {\"x\": 650.1313916111542, \"y\": 648.8918376848214}}, \"184\": {\"from_node_id\": \"183\", \"to_node_id\": \"178\", \"b1\": {\"x\": 614.1313916111542, \"y\": 767.1418376848214}, \"b2\": {\"x\": 614.1313916111542, \"y\": 821.3918376848214}}, \"185\": {\"from_node_id\": \"183\", \"to_node_id\": \"188\", \"b1\": {\"x\": 614.1313916111542, \"y\": 771.1418376848214}, \"b2\": {\"x\": 596.1313916111542, \"y\": 776.3918376848214}}, \"186\": {\"from_node_id\": \"183\", \"to_node_id\": \"189\", \"b1\": {\"x\": 614.1313916111542, \"y\": 771.1418376848214}, \"b2\": {\"x\": 632.1313916111542, \"y\": 776.3918376848214}}, \"187\": {\"from_node_id\": \"183\", \"to_node_id\": \"190\", \"b1\": {\"x\": 614.1313916111542, \"y\": 771.1418376848214}, \"b2\": {\"x\": 650.1313916111542, \"y\": 761.3918376848214}}}}, \"26\": {\"name\": \"rxn00942\", \"bigg_id\": \"rxn00942_c\", \"reversibility\": false, \"label_x\": 185.61793007814668, \"label_y\": 2204.4165461998978, \"gene_reaction_rule\": \"\", \"genes\": [], \"metabolites\": [{\"bigg_id\": \"M_h2o_c@iMM904\", \"coefficient\": -1, \"node_uid\": \"194\"}, {\"bigg_id\": \"M_rnam_c@iMM904\", \"coefficient\": -1, \"node_uid\": \"195\"}, {\"bigg_id\": \"M_h_c@iMM904\", \"coefficient\": 1, \"node_uid\": \"196\"}, {\"bigg_id\": \"M_rib__D_c@iMM904\", \"coefficient\": 1, \"node_uid\": \"197\"}, {\"bigg_id\": \"M_ncam_c@iMM904\", \"coefficient\": 1, \"node_uid\": \"91\"}], \"segments\": {\"188\": {\"from_node_id\": \"191\", \"to_node_id\": \"192\", \"b1\": null, \"b2\": null}, \"189\": {\"from_node_id\": \"193\", \"to_node_id\": \"192\", \"b1\": null, \"b2\": null}, \"190\": {\"from_node_id\": \"191\", \"to_node_id\": \"194\", \"b1\": {\"x\": 234.31775356621478, \"y\": 2277.402086228989}, \"b2\": {\"x\": 223.46635613726386, \"y\": 2292.6929224990868}}, \"191\": {\"from_node_id\": \"191\", \"to_node_id\": \"195\", \"b1\": {\"x\": 231.83438043785253, \"y\": 2274.2663474156743}, \"b2\": {\"x\": 276.48852650319355, \"y\": 2337.6659491305645}}, \"192\": {\"from_node_id\": \"193\", \"to_node_id\": \"196\", \"b1\": {\"x\": 152.36644033031163, \"y\": 2173.9227053895606}, \"b2\": {\"x\": 122.63260042750207, \"y\": 2143.373731629363}}, \"193\": {\"from_node_id\": \"193\", \"to_node_id\": \"197\", \"b1\": {\"x\": 152.36644033031163, \"y\": 2173.9227053895606}, \"b2\": {\"x\": 134.99618843941883, \"y\": 2180.982227274706}}, \"194\": {\"from_node_id\": \"193\", \"to_node_id\": \"91\", \"b1\": {\"x\": 154.84981345867428, \"y\": 2177.0584442028744}, \"b2\": {\"x\": 77.40560913085938, \"y\": 2074.0259704589844}}}}, \"27\": {\"name\": \"rxn01671\", \"bigg_id\": \"rxn01671_c\", \"reversibility\": false, \"label_x\": 506.00337334816777, \"label_y\": 2223.632277432717, \"gene_reaction_rule\": \"\", \"genes\": [], \"metabolites\": [{\"bigg_id\": \"M_atp_c@iMM904\", \"coefficient\": -1, \"node_uid\": \"201\"}, {\"bigg_id\": \"M_rnam_c@iMM904\", \"coefficient\": -1, \"node_uid\": \"195\"}, {\"bigg_id\": \"M_adp_c@iMM904\", \"coefficient\": 1, \"node_uid\": \"203\"}, {\"bigg_id\": \"M_h_c@iMM904\", \"coefficient\": 1, \"node_uid\": \"204\"}, {\"bigg_id\": \"M_nmn_c@iMM904\", \"coefficient\": 1, \"node_uid\": \"97\"}], \"segments\": {\"195\": {\"from_node_id\": \"198\", \"to_node_id\": \"199\", \"b1\": null, \"b2\": null}, \"196\": {\"from_node_id\": \"200\", \"to_node_id\": \"199\", \"b1\": null, \"b2\": null}, \"197\": {\"from_node_id\": \"198\", \"to_node_id\": \"201\", \"b1\": {\"x\": 440.1947512087333, \"y\": 2255.75690106655}, \"b2\": {\"x\": 424.66462254750553, \"y\": 2245.2508264539406}}, \"198\": {\"from_node_id\": \"198\", \"to_node_id\": \"195\", \"b1\": {\"x\": 443.2740616414264, \"y\": 2253.2038935735927}, \"b2\": {\"x\": 373.10570149568326, \"y\": 2330.4369678531048}}, \"199\": {\"from_node_id\": \"200\", \"to_node_id\": \"203\", \"b1\": {\"x\": 541.8119954876034, \"y\": 2171.5076537988825}, \"b2\": {\"x\": 557.3421241488312, \"y\": 2182.013728411492}}, \"200\": {\"from_node_id\": \"200\", \"to_node_id\": \"204\", \"b1\": {\"x\": 541.8119954876034, \"y\": 2171.5076537988825}, \"b2\": {\"x\": 534.3650567121952, \"y\": 2154.2999345172543}}, \"201\": {\"from_node_id\": \"200\", \"to_node_id\": \"97\", \"b1\": {\"x\": 538.7326850549102, \"y\": 2174.060661291843}, \"b2\": {\"x\": 620.9439086914062, \"y\": 2076.445281982422}}}}, \"28\": {\"name\": \"rxn39982\", \"bigg_id\": \"rxn39982_c\", \"reversibility\": false, \"label_x\": -88.61522769927979, \"label_y\": 1836.0733337402344, \"gene_reaction_rule\": \"\", \"genes\": [], \"metabolites\": [{\"bigg_id\": \"M_h2o_c@iMM904\", \"coefficient\": -1, \"node_uid\": \"208\"}, {\"bigg_id\": \"cpd03471_c\", \"coefficient\": -1, \"node_uid\": \"126\"}, {\"bigg_id\": \"M_h_c@iMM904\", \"coefficient\": 1, \"node_uid\": \"209\"}, {\"bigg_id\": \"M_rib__D_c@iMM904\", \"coefficient\": 1, \"node_uid\": \"210\"}, {\"bigg_id\": \"M_nac_c@iMM904\", \"coefficient\": 1, \"node_uid\": \"86\"}], \"segments\": {\"202\": {\"from_node_id\": \"205\", \"to_node_id\": \"206\", \"b1\": null, \"b2\": null}, \"203\": {\"from_node_id\": \"207\", \"to_node_id\": \"206\", \"b1\": null, \"b2\": null}, \"204\": {\"from_node_id\": \"205\", \"to_node_id\": \"208\", \"b1\": {\"x\": -106.45574951171875, \"y\": 1774.2759704589844}, \"b2\": {\"x\": -96.17787817195233, \"y\": 1757.6060426722313}}, \"205\": {\"from_node_id\": \"205\", \"to_node_id\": \"126\", \"b1\": {\"x\": -106.45574951171875, \"y\": 1778.2759704589844}, \"b2\": {\"x\": -106.45574951171875, \"y\": 1724.0259704589844}}, \"206\": {\"from_node_id\": \"207\", \"to_node_id\": \"209\", \"b1\": {\"x\": -106.45574951171875, \"y\": 1906.2759704589844}, \"b2\": {\"x\": -88.45574951171875, \"y\": 1911.5259704589844}}, \"207\": {\"from_node_id\": \"207\", \"to_node_id\": \"210\", \"b1\": {\"x\": -106.45574951171875, \"y\": 1906.2759704589844}, \"b2\": {\"x\": -90.36949157714844, \"y\": 1888.8018493652344}}, \"208\": {\"from_node_id\": \"207\", \"to_node_id\": \"86\", \"b1\": {\"x\": -106.45574951171875, \"y\": 1902.2759704589844}, \"b2\": {\"x\": -450.1588134765625, \"y\": 1956.5259704589844}}}}, \"388\": {\"bigg_id\": \"rxn00478_c\", \"name\": \"rxn00478\", \"gene_reaction_rule\": \"\", \"genes\": [], \"label_x\": 3152.019287109375, \"label_y\": -236.99996948242188, \"metabolites\": [{\"bigg_id\": \"M_OXYGEN__45__MOLECULE@iJDZ836\", \"coefficient\": -1}, {\"bigg_id\": \"M_TRP@iJDZ836\", \"coefficient\": -1}, {\"bigg_id\": \"M_N__45__FORMYLKYNURENINE@iJDZ836\", \"coefficient\": 1}], \"reversibility\": false, \"segments\": {\"383\": {\"b1\": null, \"b2\": null, \"from_node_id\": \"212\", \"to_node_id\": \"213\"}, \"384\": {\"b1\": null, \"b2\": null, \"from_node_id\": \"214\", \"to_node_id\": \"213\"}, \"385\": {\"b1\": {\"x\": 3137.019287109375, \"y\": -308.9999694824219}, \"b2\": {\"x\": 3111.760571793088, \"y\": -345.01188534205113}, \"from_node_id\": \"212\", \"to_node_id\": \"211\"}, \"386\": {\"b1\": {\"x\": 3137.019287109375, \"y\": -312.9999694824219}, \"b2\": {\"x\": 3137.600594139285, \"y\": -353.41040087489466}, \"from_node_id\": \"212\", \"to_node_id\": \"215\"}, \"387\": {\"b1\": {\"x\": 3137.019287109375, \"y\": -184.99996948242188}, \"b2\": {\"x\": 3137.019287109375, \"y\": -130.74996948242188}, \"from_node_id\": \"214\", \"to_node_id\": \"216\"}}}, \"396\": {\"bigg_id\": \"rxn01437_c\", \"name\": \"rxn01437\", \"gene_reaction_rule\": \"\", \"genes\": [], \"label_x\": 3152.019287109375, \"label_y\": 113.00003051757812, \"metabolites\": [{\"bigg_id\": \"M_WATER@iJDZ836\", \"coefficient\": -1}, {\"bigg_id\": \"M_N__45__FORMYLKYNURENINE@iJDZ836\", \"coefficient\": -1}, {\"bigg_id\": \"M_FORMATE@iJDZ836\", \"coefficient\": 1}, {\"bigg_id\": \"M_PROTON@iJDZ836\", \"coefficient\": 1}, {\"bigg_id\": \"cpd00275_c\", \"coefficient\": 1}], \"reversibility\": false, \"segments\": {\"389\": {\"b1\": null, \"b2\": null, \"from_node_id\": \"217\", \"to_node_id\": \"218\"}, \"390\": {\"b1\": null, \"b2\": null, \"from_node_id\": \"219\", \"to_node_id\": \"218\"}, \"391\": {\"b1\": {\"x\": 3137.019287109375, \"y\": 37.000030517578125}, \"b2\": {\"x\": 3119.019287109375, \"y\": 31.750030517578125}, \"from_node_id\": \"217\", \"to_node_id\": \"220\"}, \"392\": {\"b1\": {\"x\": 3137.019287109375, \"y\": 41.000030517578125}, \"b2\": {\"x\": 3137.019287109375, \"y\": -13.249969482421875}, \"from_node_id\": \"217\", \"to_node_id\": \"216\"}, \"393\": {\"b1\": {\"x\": 3137.019287109375, \"y\": 169.00003051757812}, \"b2\": {\"x\": 3155.019287109375, \"y\": 174.25003051757812}, \"from_node_id\": \"219\", \"to_node_id\": \"221\"}, \"394\": {\"b1\": {\"x\": 3137.019287109375, \"y\": 169.00003051757812}, \"b2\": {\"x\": 3119.019287109375, \"y\": 174.25003051757812}, \"from_node_id\": \"219\", \"to_node_id\": \"222\"}, \"395\": {\"b1\": {\"x\": 3137.019287109375, \"y\": 165.00003051757812}, \"b2\": {\"x\": 3137.019287109375, \"y\": 219.25003051757812}, \"from_node_id\": \"219\", \"to_node_id\": \"223\"}}}, \"406\": {\"bigg_id\": \"rxn01438_c\", \"name\": \"rxn01438\", \"gene_reaction_rule\": \"\", \"genes\": [], \"label_x\": 3152.019287109375, \"label_y\": 463.0000305175781, \"metabolites\": [{\"bigg_id\": \"M_NADPH@iJDZ836\", \"coefficient\": -1}, {\"bigg_id\": \"M_OXYGEN__45__MOLECULE@iJDZ836\", \"coefficient\": -1}, {\"bigg_id\": \"M_PROTON@iJDZ836\", \"coefficient\": -1}, {\"bigg_id\": \"cpd00275_c\", \"coefficient\": -1}, {\"bigg_id\": \"M_WATER@iJDZ836\", \"coefficient\": 1}, {\"bigg_id\": \"M_NADP@iJDZ836\", \"coefficient\": 1}, {\"bigg_id\": \"M_3__45__HYDROXY__45__L__45__KYNURENINE@iJDZ836\", \"coefficient\": 1}], \"reversibility\": false, \"segments\": {\"397\": {\"b1\": null, \"b2\": null, \"from_node_id\": \"224\", \"to_node_id\": \"225\"}, \"398\": {\"b1\": null, \"b2\": null, \"from_node_id\": \"226\", \"to_node_id\": \"225\"}, \"399\": {\"b1\": {\"x\": 3137.019287109375, \"y\": 387.0000305175781}, \"b2\": {\"x\": 3162.7505493164062, \"y\": 397.2124938964844}, \"from_node_id\": \"224\", \"to_node_id\": \"227\"}, \"400\": {\"b1\": {\"x\": 3137.019287109375, \"y\": 387.0000305175781}, \"b2\": {\"x\": 3119.019287109375, \"y\": 381.7500305175781}, \"from_node_id\": \"224\", \"to_node_id\": \"228\"}, \"401\": {\"b1\": {\"x\": 3137.019287109375, \"y\": 387.0000305175781}, \"b2\": {\"x\": 3101.019287109375, \"y\": 396.7500305175781}, \"from_node_id\": \"224\", \"to_node_id\": \"229\"}, \"402\": {\"b1\": {\"x\": 3137.019287109375, \"y\": 391.0000305175781}, \"b2\": {\"x\": 3137.019287109375, \"y\": 336.7500305175781}, \"from_node_id\": \"224\", \"to_node_id\": \"223\"}, \"403\": {\"b1\": {\"x\": 3137.019287109375, \"y\": 519.0000305175781}, \"b2\": {\"x\": 3155.019287109375, \"y\": 524.2500305175781}, \"from_node_id\": \"226\", \"to_node_id\": \"230\"}, \"404\": {\"b1\": {\"x\": 3137.019287109375, \"y\": 515.0000305175781}, \"b2\": {\"x\": 3096.3281645859356, \"y\": 520.6232465060835}, \"from_node_id\": \"226\", \"to_node_id\": \"231\"}, \"405\": {\"b1\": {\"x\": 3137.019287109375, \"y\": 519.0000305175781}, \"b2\": {\"x\": 3137.7992138451996, \"y\": 544.6855535689676}, \"from_node_id\": \"226\", \"to_node_id\": \"232\"}}}, \"414\": {\"bigg_id\": \"rxn01930_c\", \"name\": \"rxn01930\", \"gene_reaction_rule\": \"\", \"genes\": [], \"label_x\": 3152.5635375976562, \"label_y\": 800.2759704589844, \"metabolites\": [{\"bigg_id\": \"M_WATER@iJDZ836\", \"coefficient\": -1}, {\"bigg_id\": \"M_3__45__HYDROXY__45__L__45__KYNURENINE@iJDZ836\", \"coefficient\": -1}, {\"bigg_id\": \"M_L__45__ALPHA__45__ALANINE@iJDZ836\", \"coefficient\": 1}, {\"bigg_id\": \"M_PROTON@iJDZ836\", \"coefficient\": 1}, {\"bigg_id\": \"M_3__45__HYDROXY__45__ANTHRANILATE@iJDZ836\", \"coefficient\": 1}], \"reversibility\": false, \"segments\": {\"407\": {\"b1\": null, \"b2\": null, \"from_node_id\": \"233\", \"to_node_id\": \"234\"}, \"408\": {\"b1\": null, \"b2\": null, \"from_node_id\": \"235\", \"to_node_id\": \"234\"}, \"409\": {\"b1\": {\"x\": 3137.5635375976562, \"y\": 724.2759704589844}, \"b2\": {\"x\": 3119.5635375976562, \"y\": 719.0259704589844}, \"from_node_id\": \"233\", \"to_node_id\": \"236\"}, \"410\": {\"b1\": {\"x\": 3137.5635375976562, \"y\": 728.2759704589844}, \"b2\": {\"x\": 3137.5635375976562, \"y\": 674.0259704589844}, \"from_node_id\": \"233\", \"to_node_id\": \"232\"}, \"411\": {\"b1\": {\"x\": 3137.5635375976562, \"y\": 856.2759704589844}, \"b2\": {\"x\": 3155.5635375976562, \"y\": 861.5259704589844}, \"from_node_id\": \"235\", \"to_node_id\": \"237\"}, \"412\": {\"b1\": {\"x\": 3137.5635375976562, \"y\": 856.2759704589844}, \"b2\": {\"x\": 3119.5635375976562, \"y\": 861.5259704589844}, \"from_node_id\": \"235\", \"to_node_id\": \"238\"}, \"413\": {\"b1\": {\"x\": 3137.5635375976562, \"y\": 852.2759704589844}, \"b2\": {\"x\": 3137.5635375976562, \"y\": 906.5259704589844}, \"from_node_id\": \"235\", \"to_node_id\": \"239\"}}}, \"420\": {\"bigg_id\": \"rxn01927_c\", \"name\": \"rxn01927\", \"gene_reaction_rule\": \"\", \"genes\": [], \"label_x\": 3152.5635375976562, \"label_y\": 1150.2759704589844, \"metabolites\": [{\"bigg_id\": \"M_OXYGEN__45__MOLECULE@iJDZ836\", \"coefficient\": -1}, {\"bigg_id\": \"M_3__45__HYDROXY__45__ANTHRANILATE@iJDZ836\", \"coefficient\": -1}, {\"bigg_id\": \"M_2__45__AMINO__45__3__45__3__45__OXOPROP__45__2__45__ENYL__45__BUT__45__2__45__ENEDI@iJDZ836\", \"coefficient\": 1}], \"reversibility\": false, \"segments\": {\"415\": {\"b1\": null, \"b2\": null, \"from_node_id\": \"240\", \"to_node_id\": \"241\"}, \"416\": {\"b1\": null, \"b2\": null, \"from_node_id\": \"242\", \"to_node_id\": \"241\"}, \"417\": {\"b1\": {\"x\": 3137.5635375976562, \"y\": 1074.2759704589844}, \"b2\": {\"x\": 3119.5635375976562, \"y\": 1069.0259704589844}, \"from_node_id\": \"240\", \"to_node_id\": \"243\"}, \"418\": {\"b1\": {\"x\": 3137.5635375976562, \"y\": 1078.2759704589844}, \"b2\": {\"x\": 3137.5635375976562, \"y\": 1024.0259704589844}, \"from_node_id\": \"240\", \"to_node_id\": \"239\"}, \"419\": {\"b1\": {\"x\": 3137.5635375976562, \"y\": 1202.2759704589844}, \"b2\": {\"x\": 3137.5635375976562, \"y\": 1256.5259704589844}, \"from_node_id\": \"242\", \"to_node_id\": \"244\"}}}, \"427\": {\"bigg_id\": \"rxn02989_c\", \"name\": \"rxn02989\", \"gene_reaction_rule\": \"\", \"genes\": [], \"label_x\": 3152.5635375976562, \"label_y\": 1500.2759704589844, \"metabolites\": [{\"bigg_id\": \"M_WATER@iJDZ836\", \"coefficient\": -1}, {\"bigg_id\": \"M_PROTON@iJDZ836\", \"coefficient\": -1}, {\"bigg_id\": \"M_QUINOLINATE@iJDZ836\", \"coefficient\": -1}, {\"bigg_id\": \"M_2__45__AMINO__45__3__45__3__45__OXOPROP__45__2__45__ENYL__45__BUT__45__2__45__ENEDI@iJDZ836\", \"coefficient\": 1}], \"reversibility\": false, \"segments\": {\"421\": {\"b1\": null, \"b2\": null, \"from_node_id\": \"245\", \"to_node_id\": \"246\"}, \"422\": {\"b1\": null, \"b2\": null, \"from_node_id\": \"247\", \"to_node_id\": \"246\"}, \"423\": {\"b1\": {\"x\": 3137.5635375976562, \"y\": 1556.2759704589844}, \"b2\": {\"x\": 3144.8242797851562, \"y\": 1554.3664245605469}, \"from_node_id\": \"245\", \"to_node_id\": \"248\"}, \"424\": {\"b1\": {\"x\": 3137.5635375976562, \"y\": 1556.2759704589844}, \"b2\": {\"x\": 3172.8971555093317, \"y\": 1545.4663844111785}, \"from_node_id\": \"245\", \"to_node_id\": \"249\"}, \"425\": {\"b1\": {\"x\": 3137.5635375976562, \"y\": 1552.2759704589844}, \"b2\": {\"x\": 3137.5635375976562, \"y\": 1606.5259704589844}, \"from_node_id\": \"245\", \"to_node_id\": \"250\"}, \"426\": {\"b1\": {\"x\": 3137.5635375976562, \"y\": 1428.2759704589844}, \"b2\": {\"x\": 3137.5635375976562, \"y\": 1374.0259704589844}, \"from_node_id\": \"247\", \"to_node_id\": \"244\"}}}, \"436\": {\"bigg_id\": \"rxn02402_c\", \"name\": \"rxn02402\", \"gene_reaction_rule\": \"\", \"genes\": [], \"label_x\": 3262.5635375976562, \"label_y\": 1625.2759704589844, \"metabolites\": [{\"bigg_id\": \"M_CARBON__45__DIOXIDE@iJDZ836\", \"coefficient\": -1}, {\"bigg_id\": \"M_PPI@iJDZ836\", \"coefficient\": -1}, {\"bigg_id\": \"M_NICOTINATE_NUCLEOTIDE@iJDZ836\", \"coefficient\": -1}, {\"bigg_id\": \"M_PROTON@iJDZ836\", \"coefficient\": 1}, {\"bigg_id\": \"M_PRPP@iJDZ836\", \"coefficient\": 1}, {\"bigg_id\": \"M_QUINOLINATE@iJDZ836\", \"coefficient\": 1}], \"reversibility\": false, \"segments\": {\"428\": {\"b1\": null, \"b2\": null, \"from_node_id\": \"251\", \"to_node_id\": \"252\"}, \"429\": {\"b1\": null, \"b2\": null, \"from_node_id\": \"253\", \"to_node_id\": \"252\"}, \"430\": {\"b1\": {\"x\": 3378.5635375976562, \"y\": 1665.2759704589844}, \"b2\": {\"x\": 3383.8135375976562, \"y\": 1647.2759704589844}, \"from_node_id\": \"251\", \"to_node_id\": \"254\"}, \"431\": {\"b1\": {\"x\": 3378.5635375976562, \"y\": 1665.2759704589844}, \"b2\": {\"x\": 3383.8135375976562, \"y\": 1683.2759704589844}, \"from_node_id\": \"251\", \"to_node_id\": \"255\"}, \"432\": {\"b1\": {\"x\": 3374.5635375976562, \"y\": 1665.2759704589844}, \"b2\": {\"x\": 3428.8135375976562, \"y\": 1665.2759704589844}, \"from_node_id\": \"251\", \"to_node_id\": \"256\"}, \"433\": {\"b1\": {\"x\": 3246.5635375976562, \"y\": 1665.2759704589844}, \"b2\": {\"x\": 3232.9620448964365, \"y\": 1744.9366876401825}, \"from_node_id\": \"253\", \"to_node_id\": \"257\"}, \"434\": {\"b1\": {\"x\": 3246.5635375976562, \"y\": 1665.2759704589844}, \"b2\": {\"x\": 3241.3135375976562, \"y\": 1683.2759704589844}, \"from_node_id\": \"253\", \"to_node_id\": \"258\"}, \"435\": {\"b1\": {\"x\": 3250.5635375976562, \"y\": 1665.2759704589844}, \"b2\": {\"x\": 3196.3135375976562, \"y\": 1665.2759704589844}, \"from_node_id\": \"253\", \"to_node_id\": \"250\"}}}, \"443\": {\"bigg_id\": \"rxn02155_c\", \"name\": \"rxn02155\", \"gene_reaction_rule\": \"\", \"genes\": [], \"label_x\": 3502.5635375976562, \"label_y\": 1500.2759704589844, \"metabolites\": [{\"bigg_id\": \"M_ATP@iJDZ836\", \"coefficient\": -1}, {\"bigg_id\": \"M_NICOTINATE_NUCLEOTIDE@iJDZ836\", \"coefficient\": -1}, {\"bigg_id\": \"M_PPI@iJDZ836\", \"coefficient\": 1}, {\"bigg_id\": \"M_DEAMIDO__45__NAD@iJDZ836\", \"coefficient\": 1}], \"reversibility\": false, \"segments\": {\"437\": {\"b1\": null, \"b2\": null, \"from_node_id\": \"259\", \"to_node_id\": \"260\"}, \"438\": {\"b1\": null, \"b2\": null, \"from_node_id\": \"261\", \"to_node_id\": \"260\"}, \"439\": {\"b1\": {\"x\": 3487.5635375976562, \"y\": 1556.2759704589844}, \"b2\": {\"x\": 3505.5635375976562, \"y\": 1561.5259704589844}, \"from_node_id\": \"259\", \"to_node_id\": \"262\"}, \"440\": {\"b1\": {\"x\": 3487.5635375976562, \"y\": 1552.2759704589844}, \"b2\": {\"x\": 3487.5635375976562, \"y\": 1606.5259704589844}, \"from_node_id\": \"259\", \"to_node_id\": \"256\"}, \"441\": {\"b1\": {\"x\": 3487.5635375976562, \"y\": 1424.2759704589844}, \"b2\": {\"x\": 3505.5635375976562, \"y\": 1419.0259704589844}, \"from_node_id\": \"261\", \"to_node_id\": \"263\"}, \"442\": {\"b1\": {\"x\": 3487.5635375976562, \"y\": 1428.2759704589844}, \"b2\": {\"x\": 3489.3533935546875, \"y\": 1374.0259704589844}, \"from_node_id\": \"261\", \"to_node_id\": \"264\"}}}, \"453\": {\"bigg_id\": \"rxn00138_c\", \"name\": \"rxn00138\", \"gene_reaction_rule\": \"\", \"genes\": [], \"label_x\": 3934.740692138672, \"label_y\": 997.8456726074219, \"metabolites\": [{\"bigg_id\": \"M_ATP@iJDZ836\", \"coefficient\": -1}, {\"bigg_id\": \"M_AMMONIA@iJDZ836\", \"coefficient\": -1}, {\"bigg_id\": \"M_DEAMIDO__45__NAD@iJDZ836\", \"coefficient\": -1}, {\"bigg_id\": \"M_NAD@iJDZ836\", \"coefficient\": 1}, {\"bigg_id\": \"M_PPI@iJDZ836\", \"coefficient\": 1}, {\"bigg_id\": \"M_AMP@iJDZ836\", \"coefficient\": 1}, {\"bigg_id\": \"M_PROTON@iJDZ836\", \"coefficient\": 2}], \"reversibility\": false, \"segments\": {\"444\": {\"b1\": null, \"b2\": null, \"from_node_id\": \"265\", \"to_node_id\": \"266\"}, \"445\": {\"b1\": null, \"b2\": null, \"from_node_id\": \"267\", \"to_node_id\": \"266\"}, \"446\": {\"b1\": {\"x\": 3918.740692138672, \"y\": 1037.8456726074219}, \"b2\": {\"x\": 3913.490692138672, \"y\": 1019.8456726074219}, \"from_node_id\": \"265\", \"to_node_id\": \"268\"}, \"447\": {\"b1\": {\"x\": 3918.740692138672, \"y\": 1037.8456726074219}, \"b2\": {\"x\": 3865.1641235351562, \"y\": 1016.4684753417969}, \"from_node_id\": \"265\", \"to_node_id\": \"269\"}, \"448\": {\"b1\": {\"x\": 3922.740692138672, \"y\": 1037.8456726074219}, \"b2\": {\"x\": 3548.1033935546875, \"y\": 1315.2759704589844}, \"from_node_id\": \"265\", \"to_node_id\": \"264\"}, \"449\": {\"b1\": {\"x\": 4046.740692138672, \"y\": 1037.8456726074219}, \"b2\": {\"x\": 4499.655349731445, \"y\": 1276.2571716308594}, \"from_node_id\": \"267\", \"to_node_id\": \"279\"}, \"450\": {\"b1\": {\"x\": 4050.740692138672, \"y\": 1037.8456726074219}, \"b2\": {\"x\": 4055.990692138672, \"y\": 1019.8456726074219}, \"from_node_id\": \"267\", \"to_node_id\": \"270\"}, \"451\": {\"b1\": {\"x\": 4050.740692138672, \"y\": 1037.8456726074219}, \"b2\": {\"x\": 4137.174978446706, \"y\": 1037.199102096933}, \"from_node_id\": \"267\", \"to_node_id\": \"271\"}, \"452\": {\"b1\": {\"x\": 4050.740692138672, \"y\": 1037.8456726074219}, \"b2\": {\"x\": 4136.842795971625, \"y\": 1020.8058049758249}, \"from_node_id\": \"267\", \"to_node_id\": \"272\"}}}, \"465\": {\"bigg_id\": \"rxn00190_c\", \"name\": \"rxn00190\", \"gene_reaction_rule\": \"\", \"genes\": [], \"label_x\": 3929.37105178833, \"label_y\": 1429.2050476074219, \"metabolites\": [{\"bigg_id\": \"M_WATER@iJDZ836\", \"coefficient\": -1}, {\"bigg_id\": \"M_ATP@iJDZ836\", \"coefficient\": -1}, {\"bigg_id\": \"M_GLN@iJDZ836\", \"coefficient\": -1}, {\"bigg_id\": \"M_DEAMIDO__45__NAD@iJDZ836\", \"coefficient\": -1}, {\"bigg_id\": \"M_NAD@iJDZ836\", \"coefficient\": 1}, {\"bigg_id\": \"M_PPI@iJDZ836\", \"coefficient\": 1}, {\"bigg_id\": \"M_AMP@iJDZ836\", \"coefficient\": 1}, {\"bigg_id\": \"M_GLT@iJDZ836\", \"coefficient\": 1}, {\"bigg_id\": \"M_PROTON@iJDZ836\", \"coefficient\": 2}], \"reversibility\": false, \"segments\": {\"454\": {\"b1\": null, \"b2\": null, \"from_node_id\": \"273\", \"to_node_id\": \"274\"}, \"455\": {\"b1\": null, \"b2\": null, \"from_node_id\": \"275\", \"to_node_id\": \"274\"}, \"456\": {\"b1\": {\"x\": 3940.219150543213, \"y\": 1453.0961608886719}, \"b2\": {\"x\": 3840.733342801186, \"y\": 1438.0233618637067}, \"from_node_id\": \"273\", \"to_node_id\": \"276\"}, \"457\": {\"b1\": {\"x\": 3940.219150543213, \"y\": 1453.0961608886719}, \"b2\": {\"x\": 3883.062816619873, \"y\": 1444.2481384277344}, \"from_node_id\": \"273\", \"to_node_id\": \"277\"}, \"458\": {\"b1\": {\"x\": 3940.219150543213, \"y\": 1453.0961608886719}, \"b2\": {\"x\": 3905.2223320007324, \"y\": 1428.2404479980469}, \"from_node_id\": \"273\", \"to_node_id\": \"278\"}, \"459\": {\"b1\": {\"x\": 3944.219150543213, \"y\": 1453.0961608886719}, \"b2\": {\"x\": 3548.1033935546875, \"y\": 1315.2759704589844}, \"from_node_id\": \"273\", \"to_node_id\": \"264\"}, \"460\": {\"b1\": {\"x\": 4068.219150543213, \"y\": 1453.0961608886719}, \"b2\": {\"x\": 4503.235054016113, \"y\": 1276.2571716308594}, \"from_node_id\": \"275\", \"to_node_id\": \"279\"}, \"461\": {\"b1\": {\"x\": 4072.219150543213, \"y\": 1453.0961608886719}, \"b2\": {\"x\": 4119.081167696336, \"y\": 1462.8626857234965}, \"from_node_id\": \"275\", \"to_node_id\": \"280\"}, \"462\": {\"b1\": {\"x\": 4072.219150543213, \"y\": 1453.0961608886719}, \"b2\": {\"x\": 4130.248012162674, \"y\": 1454.2768923961496}, \"from_node_id\": \"275\", \"to_node_id\": \"281\"}, \"463\": {\"b1\": {\"x\": 4072.219150543213, \"y\": 1453.0961608886719}, \"b2\": {\"x\": 4095.367877960205, \"y\": 1471.0961608886719}, \"from_node_id\": \"275\", \"to_node_id\": \"282\"}, \"464\": {\"b1\": {\"x\": 4072.219150543213, \"y\": 1453.0961608886719}, \"b2\": {\"x\": 4080.367877960205, \"y\": 1489.0961608886719}, \"from_node_id\": \"275\", \"to_node_id\": \"283\"}}}, \"472\": {\"bigg_id\": \"rxn01265_c\", \"name\": \"rxn01265\", \"gene_reaction_rule\": \"\", \"genes\": [], \"label_x\": 3502.5635375976562, \"label_y\": 1850.2759704589844, \"metabolites\": [{\"bigg_id\": \"M_PPI@iJDZ836\", \"coefficient\": -1}, {\"bigg_id\": \"M_NICOTINATE_NUCLEOTIDE@iJDZ836\", \"coefficient\": -1}, {\"bigg_id\": \"M_PRPP@iJDZ836\", \"coefficient\": 1}, {\"bigg_id\": \"M_NIACINE@iJDZ836\", \"coefficient\": 1}], \"reversibility\": false, \"segments\": {\"466\": {\"b1\": null, \"b2\": null, \"from_node_id\": \"284\", \"to_node_id\": \"285\"}, \"467\": {\"b1\": null, \"b2\": null, \"from_node_id\": \"286\", \"to_node_id\": \"285\"}, \"468\": {\"b1\": {\"x\": 3487.5635375976562, \"y\": 1774.2759704589844}, \"b2\": {\"x\": 3478.3111409121134, \"y\": 1747.7069153474772}, \"from_node_id\": \"284\", \"to_node_id\": \"287\"}, \"469\": {\"b1\": {\"x\": 3487.5635375976562, \"y\": 1778.2759704589844}, \"b2\": {\"x\": 3487.5635375976562, \"y\": 1724.0259704589844}, \"from_node_id\": \"284\", \"to_node_id\": \"256\"}, \"470\": {\"b1\": {\"x\": 3487.5635375976562, \"y\": 1906.2759704589844}, \"b2\": {\"x\": 3469.5635375976562, \"y\": 1911.5259704589844}, \"from_node_id\": \"286\", \"to_node_id\": \"288\"}, \"471\": {\"b1\": {\"x\": 3487.5635375976562, \"y\": 1902.2759704589844}, \"b2\": {\"x\": 3487.5635375976562, \"y\": 1956.5259704589844}, \"from_node_id\": \"286\", \"to_node_id\": \"289\"}}}, \"479\": {\"bigg_id\": \"rxn00938_c\", \"name\": \"rxn00938\", \"gene_reaction_rule\": \"\", \"genes\": [], \"label_x\": 3697.970573425293, \"label_y\": 1998.0000915527344, \"metabolites\": [{\"bigg_id\": \"M_WATER@iJDZ836\", \"coefficient\": -1}, {\"bigg_id\": \"M_NIACINAMIDE@iJDZ836\", \"coefficient\": -1}, {\"bigg_id\": \"M_AMMONIA@iJDZ836\", \"coefficient\": 1}, {\"bigg_id\": \"M_NIACINE@iJDZ836\", \"coefficient\": 1}], \"reversibility\": false, \"segments\": {\"473\": {\"b1\": null, \"b2\": null, \"from_node_id\": \"290\", \"to_node_id\": \"291\"}, \"474\": {\"b1\": null, \"b2\": null, \"from_node_id\": \"292\", \"to_node_id\": \"291\"}, \"475\": {\"b1\": {\"x\": 3825.332664489746, \"y\": 2015.2758483886719}, \"b2\": {\"x\": 3830.582664489746, \"y\": 2033.2758483886719}, \"from_node_id\": \"290\", \"to_node_id\": \"293\"}, \"476\": {\"b1\": {\"x\": 3821.332664489746, \"y\": 2015.2758483886719}, \"b2\": {\"x\": 3962.6748962402344, \"y\": 2015.2759704589844}, \"from_node_id\": \"290\", \"to_node_id\": \"294\"}, \"477\": {\"b1\": {\"x\": 3693.332664489746, \"y\": 2015.2758483886719}, \"b2\": {\"x\": 3688.082664489746, \"y\": 2033.2758483886719}, \"from_node_id\": \"292\", \"to_node_id\": \"295\"}, \"478\": {\"b1\": {\"x\": 3697.332664489746, \"y\": 2015.2758483886719}, \"b2\": {\"x\": 3546.3135375976562, \"y\": 2015.2759704589844}, \"from_node_id\": \"292\", \"to_node_id\": \"289\"}}}, \"486\": {\"bigg_id\": \"rxn00941_c\", \"name\": \"rxn00941\", \"gene_reaction_rule\": \"\", \"genes\": [], \"label_x\": 4240.774795532227, \"label_y\": 1975.2759704589844, \"metabolites\": [{\"bigg_id\": \"M_PPI@iJDZ836\", \"coefficient\": -1}, {\"bigg_id\": \"M_NICOTINAMIDE_NUCLEOTIDE@iJDZ836\", \"coefficient\": -1}, {\"bigg_id\": \"M_PRPP@iJDZ836\", \"coefficient\": 1}, {\"bigg_id\": \"M_NIACINAMIDE@iJDZ836\", \"coefficient\": 1}], \"reversibility\": false, \"segments\": {\"480\": {\"b1\": null, \"b2\": null, \"from_node_id\": \"296\", \"to_node_id\": \"297\"}, \"481\": {\"b1\": null, \"b2\": null, \"from_node_id\": \"298\", \"to_node_id\": \"297\"}, \"482\": {\"b1\": {\"x\": 4356.774795532227, \"y\": 2015.2759704589844}, \"b2\": {\"x\": 4362.024795532227, \"y\": 2033.2759704589844}, \"from_node_id\": \"296\", \"to_node_id\": \"299\"}, \"483\": {\"b1\": {\"x\": 4352.774795532227, \"y\": 2015.2759704589844}, \"b2\": {\"x\": 4506.213195800781, \"y\": 2017.6952819824219}, \"from_node_id\": \"296\", \"to_node_id\": \"300\"}, \"484\": {\"b1\": {\"x\": 4224.774795532227, \"y\": 2015.2759704589844}, \"b2\": {\"x\": 4219.524795532227, \"y\": 2033.2759704589844}, \"from_node_id\": \"298\", \"to_node_id\": \"301\"}, \"485\": {\"b1\": {\"x\": 4228.774795532227, \"y\": 2015.2759704589844}, \"b2\": {\"x\": 4080.1748962402344, \"y\": 2015.2759704589844}, \"from_node_id\": \"298\", \"to_node_id\": \"294\"}}}, \"493\": {\"bigg_id\": \"rxn00105_c\", \"name\": \"rxn00105\", \"gene_reaction_rule\": \"\", \"genes\": [], \"label_x\": 4577.543960571289, \"label_y\": 1714.7991638183594, \"metabolites\": [{\"bigg_id\": \"M_ATP@iJDZ836\", \"coefficient\": -1}, {\"bigg_id\": \"M_NICOTINAMIDE_NUCLEOTIDE@iJDZ836\", \"coefficient\": -1}, {\"bigg_id\": \"M_NAD@iJDZ836\", \"coefficient\": 1}, {\"bigg_id\": \"M_PPI@iJDZ836\", \"coefficient\": 1}], \"reversibility\": false, \"segments\": {\"487\": {\"b1\": null, \"b2\": null, \"from_node_id\": \"302\", \"to_node_id\": \"303\"}, \"488\": {\"b1\": null, \"b2\": null, \"from_node_id\": \"304\", \"to_node_id\": \"303\"}, \"489\": {\"b1\": {\"x\": 4562.543960571289, \"y\": 1770.7991638183594}, \"b2\": {\"x\": 4566.028472900391, \"y\": 1802.6607360839844}, \"from_node_id\": \"302\", \"to_node_id\": \"305\"}, \"490\": {\"b1\": {\"x\": 4562.543960571289, \"y\": 1766.7991638183594}, \"b2\": {\"x\": 4564.963195800781, \"y\": 1958.9452819824219}, \"from_node_id\": \"302\", \"to_node_id\": \"300\"}, \"491\": {\"b1\": {\"x\": 4562.543960571289, \"y\": 1642.7991638183594}, \"b2\": {\"x\": 4558.388931274414, \"y\": 1331.7419128417969}, \"from_node_id\": \"304\", \"to_node_id\": \"279\"}, \"492\": {\"b1\": {\"x\": 4562.543960571289, \"y\": 1638.7991638183594}, \"b2\": {\"x\": 4580.543960571289, \"y\": 1633.5491638183594}, \"from_node_id\": \"304\", \"to_node_id\": \"306\"}}}, \"501\": {\"bigg_id\": \"rxn02401_c\", \"name\": \"rxn02401\", \"gene_reaction_rule\": \"\", \"genes\": [], \"label_x\": 3612.5635375976562, \"label_y\": 1625.2759704589844, \"metabolites\": [{\"bigg_id\": \"M_ADP@iJDZ836\", \"coefficient\": -1}, {\"bigg_id\": \"M_PROTON@iJDZ836\", \"coefficient\": -1}, {\"bigg_id\": \"M_NICOTINATE_NUCLEOTIDE@iJDZ836\", \"coefficient\": -1}, {\"bigg_id\": \"M_ATP@iJDZ836\", \"coefficient\": 1}, {\"bigg_id\": \"cpd03471_c\", \"coefficient\": 1}], \"reversibility\": false, \"segments\": {\"494\": {\"b1\": null, \"b2\": null, \"from_node_id\": \"307\", \"to_node_id\": \"308\"}, \"495\": {\"b1\": null, \"b2\": null, \"from_node_id\": \"309\", \"to_node_id\": \"308\"}, \"496\": {\"b1\": {\"x\": 3596.5635375976562, \"y\": 1665.2759704589844}, \"b2\": {\"x\": 3622.9708251953125, \"y\": 1682.0989685058594}, \"from_node_id\": \"307\", \"to_node_id\": \"310\"}, \"497\": {\"b1\": {\"x\": 3596.5635375976562, \"y\": 1665.2759704589844}, \"b2\": {\"x\": 3619.8051147460938, \"y\": 1664.2815856933594}, \"from_node_id\": \"307\", \"to_node_id\": \"311\"}, \"498\": {\"b1\": {\"x\": 3600.5635375976562, \"y\": 1665.2759704589844}, \"b2\": {\"x\": 3546.3135375976562, \"y\": 1665.2759704589844}, \"from_node_id\": \"307\", \"to_node_id\": \"256\"}, \"499\": {\"b1\": {\"x\": 3728.5635375976562, \"y\": 1665.2759704589844}, \"b2\": {\"x\": 3742.3351135253906, \"y\": 1660.5518493652344}, \"from_node_id\": \"309\", \"to_node_id\": \"312\"}, \"500\": {\"b1\": {\"x\": 3724.5635375976562, \"y\": 1665.2759704589844}, \"b2\": {\"x\": 3778.8135375976562, \"y\": 1665.2759704589844}, \"from_node_id\": \"309\", \"to_node_id\": \"313\"}}}, \"510\": {\"bigg_id\": \"rxn02988_c\", \"name\": \"rxn02988\", \"gene_reaction_rule\": \"\", \"genes\": [], \"label_x\": 2889.34814453125, \"label_y\": 1629.6287536621094, \"metabolites\": [{\"bigg_id\": \"M_WATER@iJDZ836\", \"coefficient\": -2}, {\"bigg_id\": \"M_Pi@iJDZ836\", \"coefficient\": -1}, {\"bigg_id\": \"M_PROTON@iJDZ836\", \"coefficient\": -1}, {\"bigg_id\": \"M_QUINOLINATE@iJDZ836\", \"coefficient\": -1}, {\"bigg_id\": \"M_DIHYDROXY__45__ACETONE__45__PHOSPHATE@iJDZ836\", \"coefficient\": 1}, {\"bigg_id\": \"cpd03470_c\", \"coefficient\": 1}], \"reversibility\": false, \"segments\": {\"502\": {\"b1\": null, \"b2\": null, \"from_node_id\": \"314\", \"to_node_id\": \"315\"}, \"503\": {\"b1\": null, \"b2\": null, \"from_node_id\": \"316\", \"to_node_id\": \"315\"}, \"504\": {\"b1\": {\"x\": 3028.5635375976562, \"y\": 1665.2759704589844}, \"b2\": {\"x\": 3033.8135375976562, \"y\": 1683.2759704589844}, \"from_node_id\": \"314\", \"to_node_id\": \"317\"}, \"505\": {\"b1\": {\"x\": 3028.5635375976562, \"y\": 1665.2759704589844}, \"b2\": {\"x\": 3010.319489577322, \"y\": 1699.5237281249965}, \"from_node_id\": \"314\", \"to_node_id\": \"318\"}, \"506\": {\"b1\": {\"x\": 3028.5635375976562, \"y\": 1665.2759704589844}, \"b2\": {\"x\": 3024.617431640625, \"y\": 1637.9817810058594}, \"from_node_id\": \"314\", \"to_node_id\": \"319\"}, \"507\": {\"b1\": {\"x\": 3024.5635375976562, \"y\": 1665.2759704589844}, \"b2\": {\"x\": 3078.8135375976562, \"y\": 1665.2759704589844}, \"from_node_id\": \"314\", \"to_node_id\": \"250\"}, \"508\": {\"b1\": {\"x\": 2896.5635375976562, \"y\": 1665.2759704589844}, \"b2\": {\"x\": 2891.3135375976562, \"y\": 1647.2759704589844}, \"from_node_id\": \"316\", \"to_node_id\": \"320\"}, \"509\": {\"b1\": {\"x\": 2900.5635375976562, \"y\": 1665.2759704589844}, \"b2\": {\"x\": 2843.1365356445312, \"y\": 1665.2759704589844}, \"from_node_id\": \"316\", \"to_node_id\": \"321\"}}}, \"517\": {\"bigg_id\": \"rxn00338_c\", \"name\": \"rxn00338\", \"gene_reaction_rule\": \"\", \"genes\": [], \"label_x\": 2384.1790161132812, \"label_y\": 1342.3716735839844, \"metabolites\": [{\"bigg_id\": \"M_OXYGEN__45__MOLECULE@iJDZ836\", \"coefficient\": -1}, {\"bigg_id\": \"M_L__45__ASPARTATE@iJDZ836\", \"coefficient\": -1}, {\"bigg_id\": \"M_HYDROGEN__45__PEROXIDE@iJDZ836\", \"coefficient\": 1}, {\"bigg_id\": \"cpd03470_c\", \"coefficient\": 1}], \"reversibility\": false, \"segments\": {\"511\": {\"b1\": null, \"b2\": null, \"from_node_id\": \"322\", \"to_node_id\": \"323\"}, \"512\": {\"b1\": null, \"b2\": null, \"from_node_id\": \"324\", \"to_node_id\": \"323\"}, \"513\": {\"b1\": {\"x\": 2376.1215209960938, \"y\": 1374.4291687011719}, \"b2\": {\"x\": 2370.8715209960938, \"y\": 1356.4291687011719}, \"from_node_id\": \"322\", \"to_node_id\": \"325\"}, \"514\": {\"b1\": {\"x\": 2380.1215209960938, \"y\": 1374.4291687011719}, \"b2\": {\"x\": 2152.1848754882812, \"y\": 1662.6989440917969}, \"from_node_id\": \"322\", \"to_node_id\": \"326\"}, \"515\": {\"b1\": {\"x\": 2508.1215209960938, \"y\": 1374.4291687011719}, \"b2\": {\"x\": 2513.3715209960938, \"y\": 1356.4291687011719}, \"from_node_id\": \"324\", \"to_node_id\": \"327\"}, \"516\": {\"b1\": {\"x\": 2504.1215209960938, \"y\": 1374.4291687011719}, \"b2\": {\"x\": 2725.6365356445312, \"y\": 1665.2759704589844}, \"from_node_id\": \"324\", \"to_node_id\": \"321\"}}}, \"525\": {\"bigg_id\": \"rxn05117_c\", \"name\": \"rxn05117\", \"gene_reaction_rule\": \"\", \"genes\": [], \"label_x\": 2368.2940063476562, \"label_y\": 1625.1243591308594, \"metabolites\": [{\"bigg_id\": \"M_NADP@iJDZ836\", \"coefficient\": -1}, {\"bigg_id\": \"M_L__45__ASPARTATE@iJDZ836\", \"coefficient\": -1}, {\"bigg_id\": \"M_NADPH@iJDZ836\", \"coefficient\": 1}, {\"bigg_id\": \"M_PROTON@iJDZ836\", \"coefficient\": 1}, {\"bigg_id\": \"cpd03470_c\", \"coefficient\": 1}], \"reversibility\": false, \"segments\": {\"518\": {\"b1\": null, \"b2\": null, \"from_node_id\": \"328\", \"to_node_id\": \"329\"}, \"519\": {\"b1\": null, \"b2\": null, \"from_node_id\": \"330\", \"to_node_id\": \"329\"}, \"520\": {\"b1\": {\"x\": 2373.7675170898438, \"y\": 1666.7128601074219}, \"b2\": {\"x\": 2342.855050949005, \"y\": 1676.7572786152523}, \"from_node_id\": \"328\", \"to_node_id\": \"331\"}, \"521\": {\"b1\": {\"x\": 2369.7675170898438, \"y\": 1666.7128601074219}, \"b2\": {\"x\": 2168.815236743543, \"y\": 1668.2552681628001}, \"from_node_id\": \"328\", \"to_node_id\": \"326\"}, \"522\": {\"b1\": {\"x\": 2501.7675170898438, \"y\": 1666.7128601074219}, \"b2\": {\"x\": 2507.0175170898438, \"y\": 1684.7128601074219}, \"from_node_id\": \"330\", \"to_node_id\": \"332\"}, \"523\": {\"b1\": {\"x\": 2501.7675170898438, \"y\": 1666.7128601074219}, \"b2\": {\"x\": 2507.5185074945766, \"y\": 1688.9923864859836}, \"from_node_id\": \"330\", \"to_node_id\": \"333\"}, \"524\": {\"b1\": {\"x\": 2497.7675170898438, \"y\": 1666.7128601074219}, \"b2\": {\"x\": 2725.6365356445312, \"y\": 1665.2759704589844}, \"from_node_id\": \"330\", \"to_node_id\": \"321\"}}}, \"533\": {\"bigg_id\": \"rxn00728_c\", \"name\": \"rxn00728\", \"gene_reaction_rule\": \"\", \"genes\": [], \"label_x\": 3262.019287109375, \"label_y\": 238.00003051757812, \"metabolites\": [{\"bigg_id\": \"M_WATER@iJDZ836\", \"coefficient\": -1}, {\"bigg_id\": \"cpd00275_c\", \"coefficient\": -1}, {\"bigg_id\": \"M_L__45__ALPHA__45__ALANINE@iJDZ836\", \"coefficient\": 1}, {\"bigg_id\": \"M_PROTON@iJDZ836\", \"coefficient\": 1}, {\"bigg_id\": \"M_ANTHRANILATE@iJDZ836\", \"coefficient\": 1}], \"reversibility\": false, \"segments\": {\"526\": {\"b1\": null, \"b2\": null, \"from_node_id\": \"334\", \"to_node_id\": \"335\"}, \"527\": {\"b1\": null, \"b2\": null, \"from_node_id\": \"336\", \"to_node_id\": \"335\"}, \"528\": {\"b1\": {\"x\": 3246.019287109375, \"y\": 278.0000305175781}, \"b2\": {\"x\": 3235.6151733398438, \"y\": 277.9604797363281}, \"from_node_id\": \"334\", \"to_node_id\": \"337\"}, \"529\": {\"b1\": {\"x\": 3250.019287109375, \"y\": 278.0000305175781}, \"b2\": {\"x\": 3195.769287109375, \"y\": 278.0000305175781}, \"from_node_id\": \"334\", \"to_node_id\": \"223\"}, \"530\": {\"b1\": {\"x\": 3378.019287109375, \"y\": 278.0000305175781}, \"b2\": {\"x\": 3383.269287109375, \"y\": 260.0000305175781}, \"from_node_id\": \"336\", \"to_node_id\": \"338\"}, \"531\": {\"b1\": {\"x\": 3378.019287109375, \"y\": 278.0000305175781}, \"b2\": {\"x\": 3383.269287109375, \"y\": 296.0000305175781}, \"from_node_id\": \"336\", \"to_node_id\": \"339\"}, \"532\": {\"b1\": {\"x\": 3374.019287109375, \"y\": 278.0000305175781}, \"b2\": {\"x\": 3428.269287109375, \"y\": 278.0000305175781}, \"from_node_id\": \"336\", \"to_node_id\": \"340\"}}}, \"541\": {\"bigg_id\": \"rxn05119_c\", \"name\": \"rxn05119\", \"gene_reaction_rule\": \"\", \"genes\": [], \"label_x\": 2381.5682983398438, \"label_y\": 1898.4462585449219, \"metabolites\": [{\"bigg_id\": \"M_NAD@iJDZ836\", \"coefficient\": -1}, {\"bigg_id\": \"M_L__45__ASPARTATE@iJDZ836\", \"coefficient\": -1}, {\"bigg_id\": \"M_NADH@iJDZ836\", \"coefficient\": 1}, {\"bigg_id\": \"M_PROTON@iJDZ836\", \"coefficient\": 1}, {\"bigg_id\": \"cpd03470_c\", \"coefficient\": 1}], \"reversibility\": false, \"segments\": {\"534\": {\"b1\": null, \"b2\": null, \"from_node_id\": \"341\", \"to_node_id\": \"342\"}, \"535\": {\"b1\": null, \"b2\": null, \"from_node_id\": \"343\", \"to_node_id\": \"342\"}, \"536\": {\"b1\": {\"x\": 2369.5682983398438, \"y\": 1938.4462585449219}, \"b2\": {\"x\": 2315.3182983398438, \"y\": 1938.4462585449219}, \"from_node_id\": \"341\", \"to_node_id\": \"344\"}, \"537\": {\"b1\": {\"x\": 2365.5682983398438, \"y\": 1938.4462585449219}, \"b2\": {\"x\": 2160.067895425169, \"y\": 1660.0725962125584}, \"from_node_id\": \"341\", \"to_node_id\": \"326\"}, \"538\": {\"b1\": {\"x\": 2497.5682983398438, \"y\": 1938.4462585449219}, \"b2\": {\"x\": 2502.8182983398438, \"y\": 1956.4462585449219}, \"from_node_id\": \"343\", \"to_node_id\": \"345\"}, \"539\": {\"b1\": {\"x\": 2497.5682983398438, \"y\": 1938.4462585449219}, \"b2\": {\"x\": 2593.0160522460938, \"y\": 1946.2171325683594}, \"from_node_id\": \"343\", \"to_node_id\": \"346\"}, \"540\": {\"b1\": {\"x\": 2493.5682983398438, \"y\": 1938.4462585449219}, \"b2\": {\"x\": 2725.6365356445312, \"y\": 1665.2759704589844}, \"from_node_id\": \"343\", \"to_node_id\": \"321\"}}}, \"549\": {\"bigg_id\": \"rxn00077_c\", \"name\": \"rxn00077\", \"gene_reaction_rule\": \"\", \"genes\": [], \"label_x\": 4573.772260897402, \"label_y\": 1054.1896081394477, \"metabolites\": [{\"bigg_id\": \"M_ATP@iJDZ836\", \"coefficient\": -1}, {\"bigg_id\": \"M_NAD@iJDZ836\", \"coefficient\": -1}, {\"bigg_id\": \"M_NADP@iJDZ836\", \"coefficient\": 1}, {\"bigg_id\": \"M_ADP@iJDZ836\", \"coefficient\": 1}, {\"bigg_id\": \"M_PROTON@iJDZ836\", \"coefficient\": 1}], \"reversibility\": false, \"segments\": {\"542\": {\"b1\": null, \"b2\": null, \"from_node_id\": \"348\", \"to_node_id\": \"349\"}, \"543\": {\"b1\": null, \"b2\": null, \"from_node_id\": \"350\", \"to_node_id\": \"349\"}, \"544\": {\"b1\": {\"x\": 4561.7066743139485, \"y\": 1117.075517950403}, \"b2\": {\"x\": 4532.37660284458, \"y\": 1131.108913073741}, \"from_node_id\": \"348\", \"to_node_id\": \"347\"}, \"545\": {\"b1\": {\"x\": 4561.801296248081, \"y\": 1121.07439862999}, \"b2\": {\"x\": 4565.78413954771, \"y\": 1190.2206764057796}, \"from_node_id\": \"348\", \"to_node_id\": \"279\"}, \"546\": {\"b1\": {\"x\": 4558.773394355854, \"y\": 993.1102168831787}, \"b2\": {\"x\": 4559.540438378093, \"y\": 938.8753976662678}, \"from_node_id\": \"350\", \"to_node_id\": \"351\"}, \"547\": {\"b1\": {\"x\": 4558.678772421722, \"y\": 989.1113362035904}, \"b2\": {\"x\": 4540.559618075028, \"y\": 984.2886040152257}, \"from_node_id\": \"350\", \"to_node_id\": \"352\"}, \"548\": {\"b1\": {\"x\": 4558.678772421722, \"y\": 989.1113362035904}, \"b2\": {\"x\": 4576.549544191319, \"y\": 983.4370066080369}, \"from_node_id\": \"350\", \"to_node_id\": \"353\"}}}, \"560\": {\"bigg_id\": \"rxn10100_c\", \"name\": \"rxn10100\", \"gene_reaction_rule\": \"\", \"genes\": [], \"label_x\": 4573.150678720529, \"label_y\": 715.1418376848214, \"metabolites\": [{\"bigg_id\": \"M_NADPH@iJDZ836\", \"coefficient\": -1}, {\"bigg_id\": \"M_PROTON@iJDZ836\", \"coefficient\": -2}, {\"bigg_id\": \"cpd11468_c\", \"coefficient\": -1}, {\"bigg_id\": \"cpd11492_c\", \"coefficient\": -1}, {\"bigg_id\": \"M_NADP@iJDZ836\", \"coefficient\": 1}, {\"bigg_id\": \"M_CARBON__45__DIOXIDE@iJDZ836\", \"coefficient\": 1}, {\"bigg_id\": \"cpd11484_c\", \"coefficient\": 1}, {\"bigg_id\": \"cpd11493_c\", \"coefficient\": 1}], \"reversibility\": false, \"segments\": {\"550\": {\"b1\": null, \"b2\": null, \"from_node_id\": \"354\", \"to_node_id\": \"355\"}, \"551\": {\"b1\": null, \"b2\": null, \"from_node_id\": \"356\", \"to_node_id\": \"355\"}, \"552\": {\"b1\": {\"x\": 4558.150678720529, \"y\": 643.1418376848214}, \"b2\": {\"x\": 4558.150678720529, \"y\": 588.8918376848214}, \"from_node_id\": \"354\", \"to_node_id\": \"357\"}, \"553\": {\"b1\": {\"x\": 4558.150678720529, \"y\": 639.1418376848214}, \"b2\": {\"x\": 4540.150678720529, \"y\": 633.8918376848214}, \"from_node_id\": \"354\", \"to_node_id\": \"358\"}, \"554\": {\"b1\": {\"x\": 4558.150678720529, \"y\": 639.1418376848214}, \"b2\": {\"x\": 4576.150678720529, \"y\": 633.8918376848214}, \"from_node_id\": \"354\", \"to_node_id\": \"359\"}, \"555\": {\"b1\": {\"x\": 4558.150678720529, \"y\": 639.1418376848214}, \"b2\": {\"x\": 4594.150678720529, \"y\": 648.8918376848214}, \"from_node_id\": \"354\", \"to_node_id\": \"360\"}, \"556\": {\"b1\": {\"x\": 4558.150678720529, \"y\": 767.1418376848214}, \"b2\": {\"x\": 4558.150678720529, \"y\": 821.3918376848214}, \"from_node_id\": \"356\", \"to_node_id\": \"351\"}, \"557\": {\"b1\": {\"x\": 4558.150678720529, \"y\": 771.1418376848214}, \"b2\": {\"x\": 4540.150678720529, \"y\": 776.3918376848214}, \"from_node_id\": \"356\", \"to_node_id\": \"361\"}, \"558\": {\"b1\": {\"x\": 4558.150678720529, \"y\": 771.1418376848214}, \"b2\": {\"x\": 4576.150678720529, \"y\": 776.3918376848214}, \"from_node_id\": \"356\", \"to_node_id\": \"362\"}, \"559\": {\"b1\": {\"x\": 4558.150678720529, \"y\": 771.1418376848214}, \"b2\": {\"x\": 4594.150678720529, \"y\": 761.3918376848214}, \"from_node_id\": \"356\", \"to_node_id\": \"363\"}}}, \"568\": {\"bigg_id\": \"rxn00942_c\", \"name\": \"rxn00942\", \"gene_reaction_rule\": \"\", \"genes\": [], \"label_x\": 4129.637217187522, \"label_y\": 2204.4165461998978, \"metabolites\": [{\"bigg_id\": \"M_WATER@iJDZ836\", \"coefficient\": -1}, {\"bigg_id\": \"cpd02016_c\", \"coefficient\": -1}, {\"bigg_id\": \"M_PROTON@iJDZ836\", \"coefficient\": 1}, {\"bigg_id\": \"M_CPD__45__10330@iJDZ836\", \"coefficient\": 1}, {\"bigg_id\": \"M_NIACINAMIDE@iJDZ836\", \"coefficient\": 1}], \"reversibility\": false, \"segments\": {\"561\": {\"b1\": null, \"b2\": null, \"from_node_id\": \"364\", \"to_node_id\": \"365\"}, \"562\": {\"b1\": null, \"b2\": null, \"from_node_id\": \"366\", \"to_node_id\": \"365\"}, \"563\": {\"b1\": {\"x\": 4178.337040675589, \"y\": 2277.402086228989}, \"b2\": {\"x\": 4167.485643246639, \"y\": 2292.6929224990868}, \"from_node_id\": \"364\", \"to_node_id\": \"367\"}, \"564\": {\"b1\": {\"x\": 4175.853667547228, \"y\": 2274.2663474156743}, \"b2\": {\"x\": 4220.5078136125685, \"y\": 2337.6659491305645}, \"from_node_id\": \"364\", \"to_node_id\": \"368\"}, \"565\": {\"b1\": {\"x\": 4096.385727439687, \"y\": 2173.9227053895606}, \"b2\": {\"x\": 4066.651887536877, \"y\": 2143.373731629363}, \"from_node_id\": \"366\", \"to_node_id\": \"369\"}, \"566\": {\"b1\": {\"x\": 4096.385727439687, \"y\": 2173.9227053895606}, \"b2\": {\"x\": 4079.015475548794, \"y\": 2180.982227274706}, \"from_node_id\": \"366\", \"to_node_id\": \"370\"}, \"567\": {\"b1\": {\"x\": 4098.869100568049, \"y\": 2177.0584442028744}, \"b2\": {\"x\": 4021.4248962402344, \"y\": 2074.0259704589844}, \"from_node_id\": \"366\", \"to_node_id\": \"294\"}}}, \"576\": {\"bigg_id\": \"rxn01671_c\", \"name\": \"rxn01671\", \"gene_reaction_rule\": \"\", \"genes\": [], \"label_x\": 4450.022660457543, \"label_y\": 2223.632277432717, \"metabolites\": [{\"bigg_id\": \"M_ATP@iJDZ836\", \"coefficient\": -1}, {\"bigg_id\": \"cpd02016_c\", \"coefficient\": -1}, {\"bigg_id\": \"M_ADP@iJDZ836\", \"coefficient\": 1}, {\"bigg_id\": \"M_PROTON@iJDZ836\", \"coefficient\": 1}, {\"bigg_id\": \"M_NICOTINAMIDE_NUCLEOTIDE@iJDZ836\", \"coefficient\": 1}], \"reversibility\": false, \"segments\": {\"569\": {\"b1\": null, \"b2\": null, \"from_node_id\": \"371\", \"to_node_id\": \"372\"}, \"570\": {\"b1\": null, \"b2\": null, \"from_node_id\": \"373\", \"to_node_id\": \"372\"}, \"571\": {\"b1\": {\"x\": 4384.214038318109, \"y\": 2255.75690106655}, \"b2\": {\"x\": 4368.68390965688, \"y\": 2245.2508264539406}, \"from_node_id\": \"371\", \"to_node_id\": \"374\"}, \"572\": {\"b1\": {\"x\": 4387.293348750802, \"y\": 2253.2038935735927}, \"b2\": {\"x\": 4317.124988605058, \"y\": 2330.4369678531048}, \"from_node_id\": \"371\", \"to_node_id\": \"368\"}, \"573\": {\"b1\": {\"x\": 4485.831282596979, \"y\": 2171.5076537988825}, \"b2\": {\"x\": 4501.361411258206, \"y\": 2182.013728411492}, \"from_node_id\": \"373\", \"to_node_id\": \"375\"}, \"574\": {\"b1\": {\"x\": 4485.831282596979, \"y\": 2171.5076537988825}, \"b2\": {\"x\": 4478.38434382157, \"y\": 2154.2999345172543}, \"from_node_id\": \"373\", \"to_node_id\": \"376\"}, \"575\": {\"b1\": {\"x\": 4482.751972164286, \"y\": 2174.060661291843}, \"b2\": {\"x\": 4564.963195800781, \"y\": 2076.445281982422}, \"from_node_id\": \"373\", \"to_node_id\": \"300\"}}}, \"584\": {\"bigg_id\": \"rxn39982_c\", \"name\": \"rxn39982\", \"gene_reaction_rule\": \"\", \"genes\": [], \"label_x\": 3855.404059410095, \"label_y\": 1836.0733337402344, \"metabolites\": [{\"bigg_id\": \"M_WATER@iJDZ836\", \"coefficient\": -1}, {\"bigg_id\": \"cpd03471_c\", \"coefficient\": -1}, {\"bigg_id\": \"M_PROTON@iJDZ836\", \"coefficient\": 1}, {\"bigg_id\": \"M_CPD__45__10330@iJDZ836\", \"coefficient\": 1}, {\"bigg_id\": \"M_NIACINE@iJDZ836\", \"coefficient\": 1}], \"reversibility\": false, \"segments\": {\"577\": {\"b1\": null, \"b2\": null, \"from_node_id\": \"377\", \"to_node_id\": \"378\"}, \"578\": {\"b1\": null, \"b2\": null, \"from_node_id\": \"379\", \"to_node_id\": \"378\"}, \"579\": {\"b1\": {\"x\": 3837.5635375976562, \"y\": 1774.2759704589844}, \"b2\": {\"x\": 3847.841408937423, \"y\": 1757.6060426722313}, \"from_node_id\": \"377\", \"to_node_id\": \"380\"}, \"580\": {\"b1\": {\"x\": 3837.5635375976562, \"y\": 1778.2759704589844}, \"b2\": {\"x\": 3837.5635375976562, \"y\": 1724.0259704589844}, \"from_node_id\": \"377\", \"to_node_id\": \"313\"}, \"581\": {\"b1\": {\"x\": 3837.5635375976562, \"y\": 1906.2759704589844}, \"b2\": {\"x\": 3855.5635375976562, \"y\": 1911.5259704589844}, \"from_node_id\": \"379\", \"to_node_id\": \"381\"}, \"582\": {\"b1\": {\"x\": 3837.5635375976562, \"y\": 1906.2759704589844}, \"b2\": {\"x\": 3853.6497955322266, \"y\": 1888.8018493652344}, \"from_node_id\": \"379\", \"to_node_id\": \"382\"}, \"583\": {\"b1\": {\"x\": 3837.5635375976562, \"y\": 1902.2759704589844}, \"b2\": {\"x\": 3493.8604736328125, \"y\": 1956.5259704589844}, \"from_node_id\": \"379\", \"to_node_id\": \"289\"}}}}, \"nodes\": {\"0\": {\"node_type\": \"metabolite\", \"x\": -891, \"y\": -343.9999694824219, \"bigg_id\": \"M_o2_c@iMM904\", \"name\": \"O2\", \"label_x\": -947, \"label_y\": -340.9999694824219, \"node_is_primary\": false, \"compartment\": \"c\"}, \"1\": {\"node_type\": \"multimarker\", \"x\": -807, \"y\": -266.9999694824219}, \"2\": {\"node_type\": \"midmarker\", \"x\": -807, \"y\": -246.99996948242188}, \"3\": {\"node_type\": \"multimarker\", \"x\": -807, \"y\": -226.99996948242188}, \"4\": {\"node_type\": \"metabolite\", \"x\": -806, \"y\": -423.9999694824219, \"bigg_id\": \"M_trp__L_c@iMM904\", \"name\": \"L-Tryptophan\", \"label_x\": -872, \"label_y\": -450.9999694824219, \"node_is_primary\": true, \"compartment\": \"c\"}, \"5\": {\"node_type\": \"metabolite\", \"x\": -807, \"y\": -71.99996948242188, \"bigg_id\": \"M_Lfmkynr_c@iMM904\", \"name\": \"N-Formylkynurenine\", \"label_x\": -782, \"label_y\": -71.99996948242188, \"node_is_primary\": true, \"compartment\": \"c\"}, \"6\": {\"node_type\": \"multimarker\", \"x\": -807, \"y\": 83.00003051757812}, \"7\": {\"node_type\": \"midmarker\", \"x\": -807, \"y\": 103.00003051757812}, \"8\": {\"node_type\": \"multimarker\", \"x\": -807, \"y\": 123.00003051757812}, \"9\": {\"node_type\": \"metabolite\", \"x\": -887, \"y\": -1.999969482421875, \"bigg_id\": \"M_h2o_c@iMM904\", \"name\": \"H2O\", \"label_x\": -959, \"label_y\": 28.000030517578125, \"node_is_primary\": false, \"compartment\": \"c\"}, \"10\": {\"node_type\": \"metabolite\", \"x\": -727, \"y\": 208.00003051757812, \"bigg_id\": \"M_for_c@iMM904\", \"name\": \"Formate\", \"label_x\": -712, \"label_y\": 208.00003051757812, \"node_is_primary\": false, \"compartment\": \"c\"}, \"11\": {\"node_type\": \"metabolite\", \"x\": -887, \"y\": 208.00003051757812, \"bigg_id\": \"M_h_c@iMM904\", \"name\": \"H+\", \"label_x\": -959, \"label_y\": 238.00003051757812, \"node_is_primary\": false, \"compartment\": \"c\"}, \"12\": {\"node_type\": \"metabolite\", \"x\": -807, \"y\": 278.0000305175781, \"bigg_id\": \"M_Lkynr_c@iMM904\", \"name\": \"L-Kynurenine\", \"label_x\": -964.9725341796875, \"label_y\": 283.1541748046875, \"node_is_primary\": true, \"compartment\": \"c\"}, \"13\": {\"node_type\": \"multimarker\", \"x\": -807, \"y\": 433.0000305175781}, \"14\": {\"node_type\": \"midmarker\", \"x\": -807, \"y\": 453.0000305175781}, \"15\": {\"node_type\": \"multimarker\", \"x\": -807, \"y\": 473.0000305175781}, \"16\": {\"node_type\": \"metabolite\", \"x\": -719.2687377929688, \"y\": 363.4624938964844, \"bigg_id\": \"M_nadph_c@iMM904\", \"name\": \"NADPH\", \"label_x\": -704.2687377929688, \"label_y\": 363.4624938964844, \"node_is_primary\": false, \"compartment\": \"c\"}, \"17\": {\"node_type\": \"metabolite\", \"x\": -887, \"y\": 348.0000305175781, \"bigg_id\": \"M_o2_c@iMM904\", \"name\": \"O2\", \"label_x\": -919.622802734375, \"label_y\": 345.7823181152344, \"node_is_primary\": false, \"compartment\": \"c\"}, \"18\": {\"node_type\": \"metabolite\", \"x\": -967, \"y\": 368.0000305175781, \"bigg_id\": \"M_h_c@iMM904\", \"name\": \"H+\", \"label_x\": -1012.1519165039062, \"label_y\": 378.3114318847656, \"node_is_primary\": false, \"compartment\": \"c\"}, \"19\": {\"node_type\": \"metabolite\", \"x\": -727, \"y\": 558.0000305175781, \"bigg_id\": \"M_h2o_c@iMM904\", \"name\": \"H2O\", \"label_x\": -712, \"label_y\": 558.0000305175781, \"node_is_primary\": false, \"compartment\": \"c\"}, \"20\": {\"node_type\": \"metabolite\", \"x\": -903.6531982421875, \"y\": 538.5064392089844, \"bigg_id\": \"M_nadp_c@iMM904\", \"name\": \"NADP\", \"label_x\": -950.2481079101562, \"label_y\": 515.2380981445312, \"node_is_primary\": false, \"compartment\": \"c\"}, \"21\": {\"node_type\": \"metabolite\", \"x\": -806.4557495117188, \"y\": 615.2759704589844, \"bigg_id\": \"M_hLkynr_c@iMM904\", \"name\": \"3-Hydroxy-L-kynurenine\", \"label_x\": -788.9620971679688, \"label_y\": 622.0075988769531, \"node_is_primary\": true, \"compartment\": \"c\"}, \"22\": {\"node_type\": \"multimarker\", \"x\": -806.4557495117188, \"y\": 770.2759704589844}, \"23\": {\"node_type\": \"midmarker\", \"x\": -806.4557495117188, \"y\": 790.2759704589844}, \"24\": {\"node_type\": \"multimarker\", \"x\": -806.4557495117188, \"y\": 810.2759704589844}, \"25\": {\"node_type\": \"metabolite\", \"x\": -886.4557495117188, \"y\": 685.2759704589844, \"bigg_id\": \"M_h2o_c@iMM904\", \"name\": \"H2O\", \"label_x\": -958.4557495117188, \"label_y\": 715.2759704589844, \"node_is_primary\": false, \"compartment\": \"c\"}, \"26\": {\"node_type\": \"metabolite\", \"x\": -726.4557495117188, \"y\": 895.2759704589844, \"bigg_id\": \"M_ala__L_c@iMM904\", \"name\": \"L-Alanine\", \"label_x\": -711.4557495117188, \"label_y\": 895.2759704589844, \"node_is_primary\": false, \"compartment\": \"c\"}, \"27\": {\"node_type\": \"metabolite\", \"x\": -886.4557495117188, \"y\": 895.2759704589844, \"bigg_id\": \"M_h_c@iMM904\", \"name\": \"H+\", \"label_x\": -958.4557495117188, \"label_y\": 925.2759704589844, \"node_is_primary\": false, \"compartment\": \"c\"}, \"28\": {\"node_type\": \"metabolite\", \"x\": -806.4557495117188, \"y\": 965.2759704589844, \"bigg_id\": \"M_3hanthrn_c@iMM904\", \"name\": \"3-Hydroxyanthranilate\", \"label_x\": -781.4557495117188, \"label_y\": 965.2759704589844, \"node_is_primary\": true, \"compartment\": \"c\"}, \"29\": {\"node_type\": \"multimarker\", \"x\": -806.4557495117188, \"y\": 1120.2759704589844}, \"30\": {\"node_type\": \"midmarker\", \"x\": -806.4557495117188, \"y\": 1140.2759704589844}, \"31\": {\"node_type\": \"multimarker\", \"x\": -806.4557495117188, \"y\": 1160.2759704589844}, \"32\": {\"node_type\": \"metabolite\", \"x\": -886.4557495117188, \"y\": 1035.2759704589844, \"bigg_id\": \"M_o2_c@iMM904\", \"name\": \"O2\", \"label_x\": -958.4557495117188, \"label_y\": 1065.2759704589844, \"node_is_primary\": false, \"compartment\": \"c\"}, \"33\": {\"node_type\": \"metabolite\", \"x\": -806.4557495117188, \"y\": 1315.2759704589844, \"bigg_id\": \"M_cmusa_c@iMM904\", \"name\": \"2-Amino-3-carboxymuconate semialdehyde\", \"label_x\": -1243.2430419921875, \"label_y\": 1326.0152282714844, \"node_is_primary\": true, \"compartment\": \"c\"}, \"34\": {\"node_type\": \"multimarker\", \"x\": -806.4557495117188, \"y\": 1510.2759704589844}, \"35\": {\"node_type\": \"midmarker\", \"x\": -806.4557495117188, \"y\": 1490.2759704589844}, \"36\": {\"node_type\": \"multimarker\", \"x\": -806.4557495117188, \"y\": 1470.2759704589844}, \"37\": {\"node_type\": \"metabolite\", \"x\": -737.1950073242188, \"y\": 1588.1164245605469, \"bigg_id\": \"M_h2o_c@iMM904\", \"name\": \"H2O\", \"label_x\": -722.1950073242188, \"label_y\": 1588.1164245605469, \"node_is_primary\": false, \"compartment\": \"c\"}, \"38\": {\"node_type\": \"metabolite\", \"x\": -700.7326049804688, \"y\": 1540.1393737792969, \"bigg_id\": \"M_h_c@iMM904\", \"name\": \"H+\", \"label_x\": -684.223876953125, \"label_y\": 1538.2181091308594, \"node_is_primary\": false, \"compartment\": \"c\"}, \"39\": {\"node_type\": \"metabolite\", \"x\": -806.4557495117188, \"y\": 1665.2759704589844, \"bigg_id\": \"M_quln_c@iMM904\", \"name\": \"Quinolinate\", \"label_x\": -865.5903930664062, \"label_y\": 1705.2356872558594, \"node_is_primary\": true, \"compartment\": \"c\"}, \"40\": {\"node_type\": \"multimarker\", \"x\": -611.4557495117188, \"y\": 1665.2759704589844}, \"41\": {\"node_type\": \"midmarker\", \"x\": -631.4557495117188, \"y\": 1665.2759704589844}, \"42\": {\"node_type\": \"multimarker\", \"x\": -651.4557495117188, \"y\": 1665.2759704589844}, \"43\": {\"node_type\": \"metabolite\", \"x\": -526.4557495117188, \"y\": 1585.2759704589844, \"bigg_id\": \"M_co2_c@iMM904\", \"name\": \"CO2\", \"label_x\": -569.6557495117188, \"label_y\": 1565.2759704589844, \"node_is_primary\": false, \"compartment\": \"c\"}, \"44\": {\"node_type\": \"metabolite\", \"x\": -526.4557495117188, \"y\": 1745.2759704589844, \"bigg_id\": \"M_ppi_c@iMM904\", \"name\": \"PPi\", \"label_x\": -569.6557495117188, \"label_y\": 1785.2759704589844, \"node_is_primary\": false, \"compartment\": \"c\"}, \"45\": {\"node_type\": \"metabolite\", \"x\": -456.45574951171875, \"y\": 1665.2759704589844, \"bigg_id\": \"M_nicrnt_c@iMM904\", \"name\": \"Nicotinate ribonucleotide\", \"label_x\": -569.301806640625, \"label_y\": 1692.6130065917969, \"node_is_primary\": true, \"compartment\": \"c\"}, \"46\": {\"node_type\": \"metabolite\", \"x\": -736.4557495117188, \"y\": 1810.8000183105469, \"bigg_id\": \"M_h_c@iMM904\", \"name\": \"H+\", \"label_x\": -779.6557495117188, \"label_y\": 1790.8000183105469, \"node_is_primary\": false, \"compartment\": \"c\"}, \"47\": {\"node_type\": \"metabolite\", \"x\": -736.4557495117188, \"y\": 1745.2759704589844, \"bigg_id\": \"M_prpp_c@iMM904\", \"name\": \"PRPP\", \"label_x\": -779.6557495117188, \"label_y\": 1785.2759704589844, \"node_is_primary\": false, \"compartment\": \"c\"}, \"48\": {\"node_type\": \"multimarker\", \"x\": -456.45574951171875, \"y\": 1510.2759704589844}, \"49\": {\"node_type\": \"midmarker\", \"x\": -456.45574951171875, \"y\": 1490.2759704589844}, \"50\": {\"node_type\": \"multimarker\", \"x\": -456.45574951171875, \"y\": 1470.2759704589844}, \"51\": {\"node_type\": \"metabolite\", \"x\": -376.45574951171875, \"y\": 1595.2759704589844, \"bigg_id\": \"M_atp_c@iMM904\", \"name\": \"ATP\", \"label_x\": -361.45574951171875, \"label_y\": 1595.2759704589844, \"node_is_primary\": false, \"compartment\": \"c\"}, \"52\": {\"node_type\": \"metabolite\", \"x\": -376.45574951171875, \"y\": 1385.2759704589844, \"bigg_id\": \"M_ppi_c@iMM904\", \"name\": \"PPi\", \"label_x\": -361.45574951171875, \"label_y\": 1385.2759704589844, \"node_is_primary\": false, \"compartment\": \"c\"}, \"53\": {\"node_type\": \"metabolite\", \"x\": -454.6658935546875, \"y\": 1315.2759704589844, \"bigg_id\": \"M_dnad_c@iMM904\", \"name\": \"Deamido-NAD\", \"label_x\": -535.2684020996094, \"label_y\": 1281.2684020996094, \"node_is_primary\": true, \"compartment\": \"c\"}, \"54\": {\"node_type\": \"multimarker\", \"x\": 20.721405029296875, \"y\": 1037.8456726074219}, \"55\": {\"node_type\": \"midmarker\", \"x\": 40.721405029296875, \"y\": 1037.8456726074219}, \"56\": {\"node_type\": \"multimarker\", \"x\": 60.721405029296875, \"y\": 1037.8456726074219}, \"57\": {\"node_type\": \"metabolite\", \"x\": -64.27859497070312, \"y\": 957.8456726074219, \"bigg_id\": \"M_atp_c@iMM904\", \"name\": \"ATP\", \"label_x\": -107.47859497070311, \"label_y\": 937.8456726074219, \"node_is_primary\": false, \"compartment\": \"c\"}, \"58\": {\"node_type\": \"metabolite\", \"x\": -112.60516357421875, \"y\": 1078.4684753417969, \"bigg_id\": \"M_nh4_c@iMM904\", \"name\": \"NH3\", \"label_x\": -171.91403503417968, \"label_y\": 1086.2508239746094, \"node_is_primary\": false, \"compartment\": \"c\"}, \"60\": {\"node_type\": \"metabolite\", \"x\": 145.72140502929688, \"y\": 957.8456726074219, \"bigg_id\": \"M_ppi_c@iMM904\", \"name\": \"PPi\", \"label_x\": 102.52140502929689, \"label_y\": 937.8456726074219, \"node_is_primary\": false, \"compartment\": \"c\"}, \"61\": {\"node_type\": \"metabolite\", \"x\": 258.48340606689453, \"y\": 1010.4530334472656, \"bigg_id\": \"M_amp_c@iMM904\", \"name\": \"AMP\", \"label_x\": 281.5087173461914, \"label_y\": 1012.8656311035156, \"node_is_primary\": false, \"compartment\": \"c\"}, \"62\": {\"node_type\": \"metabolite\", \"x\": 304.70874786376953, \"y\": 1081.5038757324219, \"bigg_id\": \"M_h_c@iMM904\", \"name\": \"H+\", \"label_x\": 268.6682327270508, \"label_y\": 1096.4456481933594, \"node_is_primary\": false, \"compartment\": \"c\"}, \"63\": {\"node_type\": \"multimarker\", \"x\": 42.19986343383789, \"y\": 1453.0961608886719}, \"64\": {\"node_type\": \"midmarker\", \"x\": 62.19986343383789, \"y\": 1453.0961608886719}, \"65\": {\"node_type\": \"multimarker\", \"x\": 82.19986343383789, \"y\": 1453.0961608886719}, \"66\": {\"node_type\": \"metabolite\", \"x\": -173.46088027954102, \"y\": 1430.3721618652344, \"bigg_id\": \"M_h2o_c@iMM904\", \"name\": \"H2O\", \"label_x\": -216.660880279541, \"label_y\": 1410.3721618652344, \"node_is_primary\": false, \"compartment\": \"c\"}, \"67\": {\"node_type\": \"metabolite\", \"x\": -94.70647048950195, \"y\": 1506.2481384277344, \"bigg_id\": \"M_atp_c@iMM904\", \"name\": \"ATP\", \"label_x\": -137.90647048950194, \"label_y\": 1546.2481384277344, \"node_is_primary\": false, \"compartment\": \"c\"}, \"68\": {\"node_type\": \"metabolite\", \"x\": -67.54695510864258, \"y\": 1552.2404479980469, \"bigg_id\": \"M_gln__L_c@iMM904\", \"name\": \"L-Glutamine\", \"label_x\": -110.74695510864257, \"label_y\": 1592.2404479980469, \"node_is_primary\": false, \"compartment\": \"c\"}, \"69\": {\"node_type\": \"metabolite\", \"x\": 617.9657669067383, \"y\": 1276.2571716308594, \"bigg_id\": \"M_nad_c@iMM904\", \"name\": \"NAD\", \"label_x\": 545.7350051879882, \"label_y\": 1321.0956726074219, \"node_is_primary\": true, \"compartment\": \"c\"}, \"70\": {\"node_type\": \"metabolite\", \"x\": 288.5998420715332, \"y\": 1520.4100036621094, \"bigg_id\": \"M_ppi_c@iMM904\", \"name\": \"PPi\", \"label_x\": 247.18971328735353, \"label_y\": 1507.5695495605469, \"node_is_primary\": false, \"compartment\": \"c\"}, \"71\": {\"node_type\": \"metabolite\", \"x\": 256.6935157775879, \"y\": 1450.0607604980469, \"bigg_id\": \"M_amp_c@iMM904\", \"name\": \"AMP\", \"label_x\": 229.60237197875978, \"label_y\": 1433.6405944824219, \"node_is_primary\": false, \"compartment\": \"c\"}, \"72\": {\"node_type\": \"metabolite\", \"x\": 185.09859085083008, \"y\": 1533.0961608886719, \"bigg_id\": \"M_glu__L_c@iMM904\", \"name\": \"L-Glutamate\", \"label_x\": 141.8985908508301, \"label_y\": 1573.0961608886719, \"node_is_primary\": false, \"compartment\": \"c\"}, \"73\": {\"node_type\": \"metabolite\", \"x\": 165.09859085083008, \"y\": 1613.0961608886719, \"bigg_id\": \"M_h_c@iMM904\", \"name\": \"H+\", \"label_x\": 121.89859085083009, \"label_y\": 1653.0961608886719, \"node_is_primary\": false, \"compartment\": \"c\"}, \"81\": {\"node_type\": \"multimarker\", \"x\": -456.45574951171875, \"y\": 1820.2759704589844}, \"82\": {\"node_type\": \"midmarker\", \"x\": -456.45574951171875, \"y\": 1840.2759704589844}, \"83\": {\"node_type\": \"multimarker\", \"x\": -456.45574951171875, \"y\": 1860.2759704589844}, \"84\": {\"node_type\": \"metabolite\", \"x\": -397.84088134765625, \"y\": 1728.2879333496094, \"bigg_id\": \"M_ppi_c@iMM904\", \"name\": \"PPi\", \"label_x\": -435.9716796875, \"label_y\": 1765.5456237792969, \"node_is_primary\": false, \"compartment\": \"c\"}, \"85\": {\"node_type\": \"metabolite\", \"x\": -536.4557495117188, \"y\": 1945.2759704589844, \"bigg_id\": \"M_prpp_c@iMM904\", \"name\": \"PRPP\", \"label_x\": -608.4557495117188, \"label_y\": 1975.2759704589844, \"node_is_primary\": false, \"compartment\": \"c\"}, \"86\": {\"node_type\": \"metabolite\", \"x\": -456.45574951171875, \"y\": 2015.2759704589844, \"bigg_id\": \"M_nac_c@iMM904\", \"name\": \"Niacin\", \"label_x\": -434.2962951660156, \"label_y\": 2001.0734558105469, \"node_is_primary\": true, \"compartment\": \"c\"}, \"87\": {\"node_type\": \"multimarker\", \"x\": -164.6866226196289, \"y\": 2015.2758483886719}, \"88\": {\"node_type\": \"midmarker\", \"x\": -184.6866226196289, \"y\": 2015.2758483886719}, \"89\": {\"node_type\": \"multimarker\", \"x\": -204.6866226196289, \"y\": 2015.2758483886719}, \"90\": {\"node_type\": \"metabolite\", \"x\": -79.6866226196289, \"y\": 2095.275848388672, \"bigg_id\": \"M_h2o_c@iMM904\", \"name\": \"H2O\", \"label_x\": -122.8866226196289, \"label_y\": 2135.275848388672, \"node_is_primary\": false, \"compartment\": \"c\"}, \"91\": {\"node_type\": \"metabolite\", \"x\": 77.40560913085938, \"y\": 2015.2759704589844, \"bigg_id\": \"M_ncam_c@iMM904\", \"name\": \"Nicotinamide\", \"label_x\": 34.205609130859386, \"label_y\": 2055.2759704589844, \"node_is_primary\": true, \"compartment\": \"c\"}, \"92\": {\"node_type\": \"metabolite\", \"x\": -289.6866226196289, \"y\": 2095.275848388672, \"bigg_id\": \"M_nh4_c@iMM904\", \"name\": \"NH3\", \"label_x\": -332.8866226196289, \"label_y\": 2135.275848388672, \"node_is_primary\": false, \"compartment\": \"c\"}, \"93\": {\"node_type\": \"multimarker\", \"x\": 366.75550842285156, \"y\": 2015.2759704589844}, \"94\": {\"node_type\": \"midmarker\", \"x\": 346.75550842285156, \"y\": 2015.2759704589844}, \"95\": {\"node_type\": \"multimarker\", \"x\": 326.75550842285156, \"y\": 2015.2759704589844}, \"96\": {\"node_type\": \"metabolite\", \"x\": 451.75550842285156, \"y\": 2095.2759704589844, \"bigg_id\": \"M_ppi_c@iMM904\", \"name\": \"PPi\", \"label_x\": 419.9175689697266, \"label_y\": 2121.0733337402344, \"node_is_primary\": false, \"compartment\": \"c\"}, \"97\": {\"node_type\": \"metabolite\", \"x\": 620.9439086914062, \"y\": 2017.6952819824219, \"bigg_id\": \"M_nmn_c@iMM904\", \"name\": \"Nicotinamide ribonucleotide\", \"label_x\": 577.7439086914062, \"label_y\": 2057.695281982422, \"node_is_primary\": true, \"compartment\": \"c\"}, \"98\": {\"node_type\": \"metabolite\", \"x\": 241.75550842285156, \"y\": 2095.2759704589844, \"bigg_id\": \"M_prpp_c@iMM904\", \"name\": \"PRPP\", \"label_x\": 198.55550842285157, \"label_y\": 2135.2759704589844, \"node_is_primary\": false, \"compartment\": \"c\"}, \"99\": {\"node_type\": \"multimarker\", \"x\": 618.5246734619141, \"y\": 1724.7991638183594}, \"100\": {\"node_type\": \"midmarker\", \"x\": 618.5246734619141, \"y\": 1704.7991638183594}, \"101\": {\"node_type\": \"multimarker\", \"x\": 618.5246734619141, \"y\": 1684.7991638183594}, \"102\": {\"node_type\": \"metabolite\", \"x\": 684.0091857910156, \"y\": 1836.4107360839844, \"bigg_id\": \"M_atp_c@iMM904\", \"name\": \"ATP\", \"label_x\": 699.0091857910156, \"label_y\": 1836.4107360839844, \"node_is_primary\": false, \"compartment\": \"c\"}, \"104\": {\"node_type\": \"metabolite\", \"x\": 698.5246734619141, \"y\": 1599.7991638183594, \"bigg_id\": \"M_ppi_c@iMM904\", \"name\": \"PPi\", \"label_x\": 713.5246734619141, \"label_y\": 1599.7991638183594, \"node_is_primary\": false, \"compartment\": \"c\"}, \"120\": {\"node_type\": \"multimarker\", \"x\": -301.45574951171875, \"y\": 1665.2759704589844}, \"121\": {\"node_type\": \"midmarker\", \"x\": -281.45574951171875, \"y\": 1665.2759704589844}, \"122\": {\"node_type\": \"multimarker\", \"x\": -261.45574951171875, \"y\": 1665.2759704589844}, \"123\": {\"node_type\": \"metabolite\", \"x\": -354.7984619140625, \"y\": 1620.0989685058594, \"bigg_id\": \"M_adp_c@iMM904\", \"name\": \"ADP\", \"label_x\": -415.4099914550781, \"label_y\": 1630.1734313964844, \"node_is_primary\": false, \"compartment\": \"c\"}, \"124\": {\"node_type\": \"metabolite\", \"x\": -357.96417236328125, \"y\": 1726.2815856933594, \"bigg_id\": \"M_h_c@iMM904\", \"name\": \"H+\", \"label_x\": -356.8439514160156, \"label_y\": 1758.3671569824219, \"node_is_primary\": false, \"compartment\": \"c\"}, \"125\": {\"node_type\": \"metabolite\", \"x\": -167.93417358398438, \"y\": 1722.5518493652344, \"bigg_id\": \"M_atp_c@iMM904\", \"name\": \"ATP\", \"label_x\": -211.13417358398436, \"label_y\": 1762.5518493652344, \"node_is_primary\": false, \"compartment\": \"c\"}, \"126\": {\"node_type\": \"metabolite\", \"x\": -106.45574951171875, \"y\": 1665.2759704589844, \"bigg_id\": \"cpd03471_c\", \"name\": \"Nicotinate D-ribonucleoside\", \"label_x\": -149.65574951171874, \"label_y\": 1705.2759704589844, \"node_is_primary\": true, \"compartment\": \"c\"}, \"127\": {\"node_type\": \"multimarker\", \"x\": -961.4557495117188, \"y\": 1665.2759704589844}, \"128\": {\"node_type\": \"midmarker\", \"x\": -981.4557495117188, \"y\": 1665.2759704589844}, \"129\": {\"node_type\": \"multimarker\", \"x\": -1001.4557495117188, \"y\": 1665.2759704589844}, \"130\": {\"node_type\": \"metabolite\", \"x\": -876.4557495117188, \"y\": 1745.2759704589844, \"bigg_id\": \"M_h2o_c@iMM904\", \"name\": \"H2O\", \"label_x\": -906.5970947265625, \"label_y\": 1772.2172546386719, \"node_is_primary\": false, \"compartment\": \"c\"}, \"131\": {\"node_type\": \"metabolite\", \"x\": -950.4548950195312, \"y\": 1768.0972595214844, \"bigg_id\": \"M_pi_c@iMM904\", \"name\": \"Phosphate\", \"label_x\": -1064.752001953125, \"label_y\": 1777.1165466308594, \"node_is_primary\": false, \"compartment\": \"c\"}, \"132\": {\"node_type\": \"metabolite\", \"x\": -890.65185546875, \"y\": 1513.9817810058594, \"bigg_id\": \"M_h_c@iMM904\", \"name\": \"H+\", \"label_x\": -933.85185546875, \"label_y\": 1493.9817810058594, \"node_is_primary\": false, \"compartment\": \"c\"}, \"133\": {\"node_type\": \"metabolite\", \"x\": -1086.4557495117188, \"y\": 1585.2759704589844, \"bigg_id\": \"M_dhap_c@iMM904\", \"name\": \"Glycerone-phosphate\", \"label_x\": -1208.0077392578125, \"label_y\": 1559.4721374511719, \"node_is_primary\": false, \"compartment\": \"c\"}, \"134\": {\"node_type\": \"metabolite\", \"x\": -1159.6327514648438, \"y\": 1665.2759704589844, \"bigg_id\": \"M_iasp_c@iMM904\", \"name\": \"Iminoaspartate\", \"label_x\": -1202.8327514648438, \"label_y\": 1705.2759704589844, \"node_is_primary\": true, \"compartment\": \"c\"}, \"135\": {\"node_type\": \"multimarker\", \"x\": -1521.8977661132812, \"y\": 1374.4291687011719}, \"136\": {\"node_type\": \"midmarker\", \"x\": -1501.8977661132812, \"y\": 1374.4291687011719}, \"137\": {\"node_type\": \"multimarker\", \"x\": -1481.8977661132812, \"y\": 1374.4291687011719}, \"138\": {\"node_type\": \"metabolite\", \"x\": -1606.8977661132812, \"y\": 1294.4291687011719, \"bigg_id\": \"M_o2_c@iMM904\", \"name\": \"O2\", \"label_x\": -1650.0977661132813, \"label_y\": 1274.4291687011719, \"node_is_primary\": false, \"compartment\": \"c\"}, \"139\": {\"node_type\": \"metabolite\", \"x\": -1850.5844116210938, \"y\": 1662.6989440917969, \"bigg_id\": \"M_asp__L_c@iMM904\", \"name\": \"L-Aspartate\", \"label_x\": -1922.3773071289063, \"label_y\": 1704.2874450683594, \"node_is_primary\": true, \"compartment\": \"c\"}, \"140\": {\"node_type\": \"metabolite\", \"x\": -1396.8977661132812, \"y\": 1294.4291687011719, \"bigg_id\": \"M_h2o2_c@iMM904\", \"name\": \"H2O2\", \"label_x\": -1440.0977661132813, \"label_y\": 1274.4291687011719, \"node_is_primary\": false, \"compartment\": \"c\"}, \"141\": {\"node_type\": \"multimarker\", \"x\": -1528.2517700195312, \"y\": 1666.7128601074219}, \"142\": {\"node_type\": \"midmarker\", \"x\": -1508.2517700195312, \"y\": 1666.7128601074219}, \"143\": {\"node_type\": \"multimarker\", \"x\": -1488.2517700195312, \"y\": 1666.7128601074219}, \"144\": {\"node_type\": \"metabolite\", \"x\": -1633.0198364257812, \"y\": 1726.1210632324219, \"bigg_id\": \"M_nadp_c@iMM904\", \"name\": \"NADP\", \"label_x\": -1676.2198364257813, \"label_y\": 1766.1210632324219, \"node_is_primary\": false, \"compartment\": \"c\"}, \"146\": {\"node_type\": \"metabolite\", \"x\": -1403.2517700195312, \"y\": 1746.7128601074219, \"bigg_id\": \"M_nadph_c@iMM904\", \"name\": \"NADPH\", \"label_x\": -1446.4517700195313, \"label_y\": 1786.7128601074219, \"node_is_primary\": false, \"compartment\": \"c\"}, \"147\": {\"node_type\": \"metabolite\", \"x\": -1482.6766967773438, \"y\": 1742.3857116699219, \"bigg_id\": \"M_h_c@iMM904\", \"name\": \"H+\", \"label_x\": -1529.0536987304688, \"label_y\": 1741.4477233886719, \"node_is_primary\": false, \"compartment\": \"c\"}, \"148\": {\"node_type\": \"multimarker\", \"x\": -652, \"y\": 278.0000305175781}, \"149\": {\"node_type\": \"midmarker\", \"x\": -632, \"y\": 278.0000305175781}, \"150\": {\"node_type\": \"multimarker\", \"x\": -612, \"y\": 278.0000305175781}, \"151\": {\"node_type\": \"metabolite\", \"x\": -742.1541137695312, \"y\": 339.9604797363281, \"bigg_id\": \"M_h2o_c@iMM904\", \"name\": \"H2O\", \"label_x\": -790.5082885742188, \"label_y\": 364.4980163574219, \"node_is_primary\": false, \"compartment\": \"c\"}, \"152\": {\"node_type\": \"metabolite\", \"x\": -527, \"y\": 198.00003051757812, \"bigg_id\": \"M_ala__L_c@iMM904\", \"name\": \"L-Alanine\", \"label_x\": -570.2, \"label_y\": 178.00003051757812, \"node_is_primary\": false, \"compartment\": \"c\"}, \"153\": {\"node_type\": \"metabolite\", \"x\": -527, \"y\": 358.0000305175781, \"bigg_id\": \"M_h_c@iMM904\", \"name\": \"H+\", \"label_x\": -570.2, \"label_y\": 398.0000305175781, \"node_is_primary\": false, \"compartment\": \"c\"}, \"154\": {\"node_type\": \"metabolite\", \"x\": -457, \"y\": 278.0000305175781, \"bigg_id\": \"M_anth_c@iMM904\", \"name\": \"Anthranilate\", \"label_x\": -500.2, \"label_y\": 318.0000305175781, \"node_is_primary\": true, \"compartment\": \"c\"}, \"155\": {\"node_type\": \"multimarker\", \"x\": -1532.4509887695312, \"y\": 1938.4462585449219}, \"156\": {\"node_type\": \"midmarker\", \"x\": -1512.4509887695312, \"y\": 1938.4462585449219}, \"157\": {\"node_type\": \"multimarker\", \"x\": -1492.4509887695312, \"y\": 1938.4462585449219}, \"158\": {\"node_type\": \"metabolite\", \"x\": -1687.4509887695312, \"y\": 1938.4462585449219, \"bigg_id\": \"M_nad_c@iMM904\", \"name\": \"NAD\", \"label_x\": -1730.6509887695313, \"label_y\": 1978.4462585449219, \"node_is_primary\": false, \"compartment\": \"c\"}, \"160\": {\"node_type\": \"metabolite\", \"x\": -1407.4509887695312, \"y\": 2018.4462585449219, \"bigg_id\": \"M_nadh_c@iMM904\", \"name\": \"NADH\", \"label_x\": -1450.6509887695313, \"label_y\": 2058.446258544922, \"node_is_primary\": false, \"compartment\": \"c\"}, \"161\": {\"node_type\": \"metabolite\", \"x\": -1317.2532348632812, \"y\": 1884.2171325683594, \"bigg_id\": \"M_h_c@iMM904\", \"name\": \"H+\", \"label_x\": -1360.4532348632813, \"label_y\": 1864.2171325683594, \"node_is_primary\": false, \"compartment\": \"c\"}, \"173\": {\"node_type\": \"metabolite\", \"x\": 539.7234939531809, \"y\": 1164.068189140947, \"bigg_id\": \"M_atp_c@iMM904\", \"name\": \"ATP\", \"label_x\": 496.52349395318083, \"label_y\": 1204.068189140947, \"node_is_primary\": false, \"compartment\": \"c\"}, \"174\": {\"node_type\": \"multimarker\", \"x\": 616.6938568961875, \"y\": 1075.0872708147303}, \"175\": {\"node_type\": \"midmarker\", \"x\": 616.2207472255272, \"y\": 1055.0928674167915}, \"176\": {\"node_type\": \"multimarker\", \"x\": 615.7476375548661, \"y\": 1035.0984640188517}, \"178\": {\"node_type\": \"metabolite\", \"x\": 614.1313916111542, \"y\": 880.1418376848214, \"bigg_id\": \"M_nadp_c@iMM904\", \"name\": \"NADP\", \"label_x\": 524.5040234470916, \"label_y\": 907.9241252824777, \"node_is_primary\": true, \"compartment\": \"c\"}, \"179\": {\"node_type\": \"metabolite\", \"x\": 533.7593078628015, \"y\": 952.014688260251, \"bigg_id\": \"M_adp_c@iMM904\", \"name\": \"ADP\", \"label_x\": 490.55930786280146, \"label_y\": 992.014688260251, \"node_is_primary\": false, \"compartment\": \"c\"}, \"180\": {\"node_type\": \"metabolite\", \"x\": 693.7145350463156, \"y\": 948.229810894967, \"bigg_id\": \"M_h_c@iMM904\", \"name\": \"H+\", \"label_x\": 650.5145350463156, \"label_y\": 928.229810894967, \"node_is_primary\": false, \"compartment\": \"c\"}, \"181\": {\"node_type\": \"multimarker\", \"x\": 614.1313916111542, \"y\": 685.1418376848214}, \"182\": {\"node_type\": \"midmarker\", \"x\": 614.1313916111542, \"y\": 705.1418376848214}, \"183\": {\"node_type\": \"multimarker\", \"x\": 614.1313916111542, \"y\": 725.1418376848214}, \"184\": {\"node_type\": \"metabolite\", \"x\": 614.1313916111542, \"y\": 530.1418376848214, \"bigg_id\": \"M_nadph_c@iMM904\", \"name\": \"NADPH\", \"label_x\": 639.1313916111542, \"label_y\": 530.1418376848214, \"node_is_primary\": true, \"compartment\": \"c\"}, \"185\": {\"node_type\": \"metabolite\", \"x\": 534.1313916111542, \"y\": 600.1418376848214, \"bigg_id\": \"M_h_c@iMM904\", \"name\": \"H+\", \"label_x\": 462.1313916111542, \"label_y\": 630.1418376848214, \"node_is_primary\": false, \"compartment\": \"c\"}, \"186\": {\"node_type\": \"metabolite\", \"x\": 694.1313916111542, \"y\": 600.1418376848214, \"bigg_id\": \"M_ddcaACP_c@iMM904\", \"name\": \"Dodecanoyl-ACP\", \"label_x\": 709.1313916111542, \"label_y\": 600.1418376848214, \"node_is_primary\": false, \"compartment\": \"c\"}, \"187\": {\"node_type\": \"metabolite\", \"x\": 774.1313916111542, \"y\": 620.1418376848214, \"bigg_id\": \"M_malACP_c@iMM904\", \"name\": \"Malonyl-acyl-carrierprotein-\", \"label_x\": 789.1313916111542, \"label_y\": 620.1418376848214, \"node_is_primary\": false, \"compartment\": \"c\"}, \"188\": {\"node_type\": \"metabolite\", \"x\": 534.1313916111542, \"y\": 810.1418376848214, \"bigg_id\": \"M_co2_c@iMM904\", \"name\": \"CO2\", \"label_x\": 462.1313916111542, \"label_y\": 840.1418376848214, \"node_is_primary\": false, \"compartment\": \"c\"}, \"189\": {\"node_type\": \"metabolite\", \"x\": 694.1313916111542, \"y\": 810.1418376848214, \"bigg_id\": \"cpd11484_c\", \"name\": \"HMA\", \"label_x\": 709.1313916111542, \"label_y\": 810.1418376848214, \"node_is_primary\": false, \"compartment\": \"c\"}, \"190\": {\"node_type\": \"metabolite\", \"x\": 774.1313916111542, \"y\": 790.1418376848214, \"bigg_id\": \"M_ACP_c@iMM904\", \"name\": \"ACP\", \"label_x\": 789.1313916111542, \"label_y\": 790.1418376848214, \"node_is_primary\": false, \"compartment\": \"c\"}, \"191\": {\"node_type\": \"multimarker\", \"x\": 205.75896259006527, \"y\": 2241.341089875854}, \"192\": {\"node_type\": \"midmarker\", \"x\": 193.34209694826387, \"y\": 2225.6623958092728}, \"193\": {\"node_type\": \"multimarker\", \"x\": 180.9252313064585, \"y\": 2209.9837017426926}, \"194\": {\"node_type\": \"metabolite\", \"x\": 195.81586530141124, \"y\": 2357.6430022260274, \"bigg_id\": \"M_h2o_c@iMM904\", \"name\": \"H2O\", \"label_x\": 123.81586530141124, \"label_y\": 2387.6430022260274, \"node_is_primary\": false, \"compartment\": \"c\"}, \"195\": {\"node_type\": \"metabolite\", \"x\": 328.11261227015973, \"y\": 2365.7108465046826, \"bigg_id\": \"M_rnam_c@iMM904\", \"name\": \"N-Ribosylnicotinamide\", \"label_x\": 353.11261227015973, \"label_y\": 2365.7108465046826, \"node_is_primary\": true, \"compartment\": \"c\"}, \"196\": {\"node_type\": \"metabolite\", \"x\": 150.28309126335574, \"y\": 2078.423651902418, \"bigg_id\": \"M_h_c@iMM904\", \"name\": \"H+\", \"label_x\": 165.28309126335574, \"label_y\": 2078.423651902418, \"node_is_primary\": false, \"compartment\": \"c\"}, \"197\": {\"node_type\": \"metabolite\", \"x\": 65.43877606247615, \"y\": 2193.016714526942, \"bigg_id\": \"M_rib__D_c@iMM904\", \"name\": \"D-Ribose\", \"label_x\": -6.561223937523906, \"label_y\": 2223.016714526942, \"node_is_primary\": false, \"compartment\": \"c\"}, \"198\": {\"node_type\": \"multimarker\", \"x\": 475.6068211847039, \"y\": 2226.3973148975138}, \"199\": {\"node_type\": \"midmarker\", \"x\": 491.00337334816777, \"y\": 2213.632277432717}, \"200\": {\"node_type\": \"multimarker\", \"x\": 506.399925511633, \"y\": 2200.8672399679203}, \"201\": {\"node_type\": \"metabolite\", \"x\": 359.11132463078434, \"y\": 2219.062515469046, \"bigg_id\": \"M_atp_c@iMM904\", \"name\": \"ATP\", \"label_x\": 287.11132463078434, \"label_y\": 2249.062515469046, \"node_is_primary\": false, \"compartment\": \"c\"}, \"203\": {\"node_type\": \"metabolite\", \"x\": 622.8954220655521, \"y\": 2208.202039396388, \"bigg_id\": \"M_adp_c@iMM904\", \"name\": \"ADP\", \"label_x\": 637.8954220655521, \"label_y\": 2208.202039396388, \"node_is_primary\": false, \"compartment\": \"c\"}, \"204\": {\"node_type\": \"metabolite\", \"x\": 520.7751223471687, \"y\": 2085.0296220886653, \"bigg_id\": \"M_h_c@iMM904\", \"name\": \"H+\", \"label_x\": 485.7018801596687, \"label_y\": 2083.7837724792903, \"node_is_primary\": false, \"compartment\": \"c\"}, \"205\": {\"node_type\": \"multimarker\", \"x\": -106.45574951171875, \"y\": 1820.2759704589844}, \"206\": {\"node_type\": \"midmarker\", \"x\": -106.45574951171875, \"y\": 1840.2759704589844}, \"207\": {\"node_type\": \"multimarker\", \"x\": -106.45574951171875, \"y\": 1860.2759704589844}, \"208\": {\"node_type\": \"metabolite\", \"x\": -30.22708511352539, \"y\": 1732.4355163574219, \"bigg_id\": \"M_h2o_c@iMM904\", \"name\": \"H2O\", \"label_x\": -19.85196876525879, \"label_y\": 1751.0734558105469, \"node_is_primary\": false, \"compartment\": \"c\"}, \"209\": {\"node_type\": \"metabolite\", \"x\": -26.45574951171875, \"y\": 1945.2759704589844, \"bigg_id\": \"M_h_c@iMM904\", \"name\": \"H+\", \"label_x\": -11.45574951171875, \"label_y\": 1945.2759704589844, \"node_is_primary\": false, \"compartment\": \"c\"}, \"210\": {\"node_type\": \"metabolite\", \"x\": -152.36949157714844, \"y\": 1922.5518493652344, \"bigg_id\": \"M_rib__D_c@iMM904\", \"name\": \"D-Ribose\", \"label_x\": -252.7747039794922, \"label_y\": 1941.1897888183594, \"node_is_primary\": false, \"compartment\": \"c\"}, \"211\": {\"node_type\": \"metabolite\", \"x\": 3053.019287109375, \"y\": -343.9999694824219, \"bigg_id\": \"M_OXYGEN__45__MOLECULE@iJDZ836\", \"name\": \"O2\", \"label_x\": 2997.019287109375, \"label_y\": -340.9999694824219, \"node_is_primary\": false, \"compartment\": \"c\"}, \"212\": {\"x\": 3137.019287109375, \"y\": -266.9999694824219, \"node_type\": \"multimarker\"}, \"213\": {\"x\": 3137.019287109375, \"y\": -246.99996948242188, \"node_type\": \"midmarker\"}, \"214\": {\"x\": 3137.019287109375, \"y\": -226.99996948242188, \"node_type\": \"multimarker\"}, \"215\": {\"node_type\": \"metabolite\", \"x\": 3138.019287109375, \"y\": -423.9999694824219, \"bigg_id\": \"M_TRP@iJDZ836\", \"name\": \"L-Tryptophan\", \"label_x\": 3072.019287109375, \"label_y\": -450.9999694824219, \"node_is_primary\": true, \"compartment\": \"c\"}, \"216\": {\"node_type\": \"metabolite\", \"x\": 3137.019287109375, \"y\": -71.99996948242188, \"bigg_id\": \"M_N__45__FORMYLKYNURENINE@iJDZ836\", \"name\": \"N-Formylkynurenine\", \"label_x\": 3162.019287109375, \"label_y\": -71.99996948242188, \"node_is_primary\": true, \"compartment\": \"c\"}, \"217\": {\"x\": 3137.019287109375, \"y\": 83.00003051757812, \"node_type\": \"multimarker\"}, \"218\": {\"x\": 3137.019287109375, \"y\": 103.00003051757812, \"node_type\": \"midmarker\"}, \"219\": {\"x\": 3137.019287109375, \"y\": 123.00003051757812, \"node_type\": \"multimarker\"}, \"220\": {\"node_type\": \"metabolite\", \"x\": 3057.019287109375, \"y\": -1.999969482421875, \"bigg_id\": \"M_WATER@iJDZ836\", \"name\": \"H2O\", \"label_x\": 2985.019287109375, \"label_y\": 28.000030517578125, \"node_is_primary\": false, \"compartment\": \"c\"}, \"221\": {\"node_type\": \"metabolite\", \"x\": 3217.019287109375, \"y\": 208.00003051757812, \"bigg_id\": \"M_FORMATE@iJDZ836\", \"name\": \"Formate\", \"label_x\": 3232.019287109375, \"label_y\": 208.00003051757812, \"node_is_primary\": false, \"compartment\": \"c\"}, \"222\": {\"node_type\": \"metabolite\", \"x\": 3057.019287109375, \"y\": 208.00003051757812, \"bigg_id\": \"M_PROTON@iJDZ836\", \"name\": \"H+\", \"label_x\": 2985.019287109375, \"label_y\": 238.00003051757812, \"node_is_primary\": false, \"compartment\": \"c\"}, \"223\": {\"node_type\": \"metabolite\", \"x\": 3137.019287109375, \"y\": 278.0000305175781, \"bigg_id\": \"cpd00275_c\", \"name\": \"L-Kynurenine\", \"label_x\": 2979.0467529296875, \"label_y\": 283.1541748046875, \"node_is_primary\": true, \"compartment\": \"c\"}, \"224\": {\"x\": 3137.019287109375, \"y\": 433.0000305175781, \"node_type\": \"multimarker\"}, \"225\": {\"x\": 3137.019287109375, \"y\": 453.0000305175781, \"node_type\": \"midmarker\"}, \"226\": {\"x\": 3137.019287109375, \"y\": 473.0000305175781, \"node_type\": \"multimarker\"}, \"227\": {\"node_type\": \"metabolite\", \"x\": 3224.7505493164062, \"y\": 363.4624938964844, \"bigg_id\": \"M_NADPH@iJDZ836\", \"name\": \"NADPH\", \"label_x\": 3239.7505493164062, \"label_y\": 363.4624938964844, \"node_is_primary\": false, \"compartment\": \"c\"}, \"228\": {\"node_type\": \"metabolite\", \"x\": 3057.019287109375, \"y\": 348.0000305175781, \"bigg_id\": \"M_OXYGEN__45__MOLECULE@iJDZ836\", \"name\": \"O2\", \"label_x\": 3024.396484375, \"label_y\": 345.7823181152344, \"node_is_primary\": false, \"compartment\": \"c\"}, \"229\": {\"node_type\": \"metabolite\", \"x\": 2977.019287109375, \"y\": 368.0000305175781, \"bigg_id\": \"M_PROTON@iJDZ836\", \"name\": \"H+\", \"label_x\": 2931.8673706054688, \"label_y\": 378.3114318847656, \"node_is_primary\": false, \"compartment\": \"c\"}, \"230\": {\"node_type\": \"metabolite\", \"x\": 3217.019287109375, \"y\": 558.0000305175781, \"bigg_id\": \"M_WATER@iJDZ836\", \"name\": \"H2O\", \"label_x\": 3232.019287109375, \"label_y\": 558.0000305175781, \"node_is_primary\": false, \"compartment\": \"c\"}, \"231\": {\"node_type\": \"metabolite\", \"x\": 3040.3660888671875, \"y\": 538.5064392089844, \"bigg_id\": \"M_NADP@iJDZ836\", \"name\": \"NADP\", \"label_x\": 2993.7711791992188, \"label_y\": 515.2380981445312, \"node_is_primary\": false, \"compartment\": \"c\"}, \"232\": {\"node_type\": \"metabolite\", \"x\": 3137.5635375976562, \"y\": 615.2759704589844, \"bigg_id\": \"M_3__45__HYDROXY__45__L__45__KYNURENINE@iJDZ836\", \"name\": \"3-Hydroxy-L-kynurenine\", \"label_x\": 3155.0571899414062, \"label_y\": 622.0075988769531, \"node_is_primary\": true, \"compartment\": \"c\"}, \"233\": {\"x\": 3137.5635375976562, \"y\": 770.2759704589844, \"node_type\": \"multimarker\"}, \"234\": {\"x\": 3137.5635375976562, \"y\": 790.2759704589844, \"node_type\": \"midmarker\"}, \"235\": {\"x\": 3137.5635375976562, \"y\": 810.2759704589844, \"node_type\": \"multimarker\"}, \"236\": {\"node_type\": \"metabolite\", \"x\": 3057.5635375976562, \"y\": 685.2759704589844, \"bigg_id\": \"M_WATER@iJDZ836\", \"name\": \"H2O\", \"label_x\": 2985.5635375976562, \"label_y\": 715.2759704589844, \"node_is_primary\": false, \"compartment\": \"c\"}, \"237\": {\"node_type\": \"metabolite\", \"x\": 3217.5635375976562, \"y\": 895.2759704589844, \"bigg_id\": \"M_L__45__ALPHA__45__ALANINE@iJDZ836\", \"name\": \"L-Alanine\", \"label_x\": 3232.5635375976562, \"label_y\": 895.2759704589844, \"node_is_primary\": false, \"compartment\": \"c\"}, \"238\": {\"node_type\": \"metabolite\", \"x\": 3057.5635375976562, \"y\": 895.2759704589844, \"bigg_id\": \"M_PROTON@iJDZ836\", \"name\": \"H+\", \"label_x\": 2985.5635375976562, \"label_y\": 925.2759704589844, \"node_is_primary\": false, \"compartment\": \"c\"}, \"239\": {\"node_type\": \"metabolite\", \"x\": 3137.5635375976562, \"y\": 965.2759704589844, \"bigg_id\": \"M_3__45__HYDROXY__45__ANTHRANILATE@iJDZ836\", \"name\": \"3-Hydroxyanthranilate\", \"label_x\": 3162.5635375976562, \"label_y\": 965.2759704589844, \"node_is_primary\": true, \"compartment\": \"c\"}, \"240\": {\"x\": 3137.5635375976562, \"y\": 1120.2759704589844, \"node_type\": \"multimarker\"}, \"241\": {\"x\": 3137.5635375976562, \"y\": 1140.2759704589844, \"node_type\": \"midmarker\"}, \"242\": {\"x\": 3137.5635375976562, \"y\": 1160.2759704589844, \"node_type\": \"multimarker\"}, \"243\": {\"node_type\": \"metabolite\", \"x\": 3057.5635375976562, \"y\": 1035.2759704589844, \"bigg_id\": \"M_OXYGEN__45__MOLECULE@iJDZ836\", \"name\": \"O2\", \"label_x\": 2985.5635375976562, \"label_y\": 1065.2759704589844, \"node_is_primary\": false, \"compartment\": \"c\"}, \"244\": {\"node_type\": \"metabolite\", \"x\": 3137.5635375976562, \"y\": 1315.2759704589844, \"bigg_id\": \"M_2__45__AMINO__45__3__45__3__45__OXOPROP__45__2__45__ENYL__45__BUT__45__2__45__ENEDI@iJDZ836\", \"name\": \"2-Amino-3-carboxymuconate semialdehyde\", \"label_x\": 2700.7762451171875, \"label_y\": 1326.0152282714844, \"node_is_primary\": true, \"compartment\": \"c\"}, \"245\": {\"x\": 3137.5635375976562, \"y\": 1510.2759704589844, \"node_type\": \"multimarker\"}, \"246\": {\"x\": 3137.5635375976562, \"y\": 1490.2759704589844, \"node_type\": \"midmarker\"}, \"247\": {\"x\": 3137.5635375976562, \"y\": 1470.2759704589844, \"node_type\": \"multimarker\"}, \"248\": {\"node_type\": \"metabolite\", \"x\": 3206.8242797851562, \"y\": 1588.1164245605469, \"bigg_id\": \"M_WATER@iJDZ836\", \"name\": \"H2O\", \"label_x\": 3221.8242797851562, \"label_y\": 1588.1164245605469, \"node_is_primary\": false, \"compartment\": \"c\"}, \"249\": {\"node_type\": \"metabolite\", \"x\": 3243.2866821289062, \"y\": 1540.1393737792969, \"bigg_id\": \"M_PROTON@iJDZ836\", \"name\": \"H+\", \"label_x\": 3259.79541015625, \"label_y\": 1538.2181091308594, \"node_is_primary\": false, \"compartment\": \"c\"}, \"250\": {\"node_type\": \"metabolite\", \"x\": 3137.5635375976562, \"y\": 1665.2759704589844, \"bigg_id\": \"M_QUINOLINATE@iJDZ836\", \"name\": \"Quinolinate\", \"label_x\": 3078.4288940429688, \"label_y\": 1705.2356872558594, \"node_is_primary\": true, \"compartment\": \"c\"}, \"251\": {\"x\": 3332.5635375976562, \"y\": 1665.2759704589844, \"node_type\": \"multimarker\"}, \"252\": {\"x\": 3312.5635375976562, \"y\": 1665.2759704589844, \"node_type\": \"midmarker\"}, \"253\": {\"x\": 3292.5635375976562, \"y\": 1665.2759704589844, \"node_type\": \"multimarker\"}, \"254\": {\"node_type\": \"metabolite\", \"x\": 3417.5635375976562, \"y\": 1585.2759704589844, \"bigg_id\": \"M_CARBON__45__DIOXIDE@iJDZ836\", \"name\": \"CO2\", \"label_x\": 3374.3635375976564, \"label_y\": 1565.2759704589844, \"node_is_primary\": false, \"compartment\": \"c\"}, \"255\": {\"node_type\": \"metabolite\", \"x\": 3417.5635375976562, \"y\": 1745.2759704589844, \"bigg_id\": \"M_PPI@iJDZ836\", \"name\": \"PPi\", \"label_x\": 3374.3635375976564, \"label_y\": 1785.2759704589844, \"node_is_primary\": false, \"compartment\": \"c\"}, \"256\": {\"node_type\": \"metabolite\", \"x\": 3487.5635375976562, \"y\": 1665.2759704589844, \"bigg_id\": \"M_NICOTINATE_NUCLEOTIDE@iJDZ836\", \"name\": \"Nicotinate ribonucleotide\", \"label_x\": 3374.71748046875, \"label_y\": 1692.6130065917969, \"node_is_primary\": true, \"compartment\": \"c\"}, \"257\": {\"node_type\": \"metabolite\", \"x\": 3207.5635375976562, \"y\": 1810.8000183105469, \"bigg_id\": \"M_PROTON@iJDZ836\", \"name\": \"H+\", \"label_x\": 3164.3635375976564, \"label_y\": 1790.8000183105469, \"node_is_primary\": false, \"compartment\": \"c\"}, \"258\": {\"node_type\": \"metabolite\", \"x\": 3207.5635375976562, \"y\": 1745.2759704589844, \"bigg_id\": \"M_PRPP@iJDZ836\", \"name\": \"PRPP\", \"label_x\": 3164.3635375976564, \"label_y\": 1785.2759704589844, \"node_is_primary\": false, \"compartment\": \"c\"}, \"259\": {\"x\": 3487.5635375976562, \"y\": 1510.2759704589844, \"node_type\": \"multimarker\"}, \"260\": {\"x\": 3487.5635375976562, \"y\": 1490.2759704589844, \"node_type\": \"midmarker\"}, \"261\": {\"x\": 3487.5635375976562, \"y\": 1470.2759704589844, \"node_type\": \"multimarker\"}, \"262\": {\"node_type\": \"metabolite\", \"x\": 3567.5635375976562, \"y\": 1595.2759704589844, \"bigg_id\": \"M_ATP@iJDZ836\", \"name\": \"ATP\", \"label_x\": 3582.5635375976562, \"label_y\": 1595.2759704589844, \"node_is_primary\": false, \"compartment\": \"c\"}, \"263\": {\"node_type\": \"metabolite\", \"x\": 3567.5635375976562, \"y\": 1385.2759704589844, \"bigg_id\": \"M_PPI@iJDZ836\", \"name\": \"PPi\", \"label_x\": 3582.5635375976562, \"label_y\": 1385.2759704589844, \"node_is_primary\": false, \"compartment\": \"c\"}, \"264\": {\"node_type\": \"metabolite\", \"x\": 3489.3533935546875, \"y\": 1315.2759704589844, \"bigg_id\": \"M_DEAMIDO__45__NAD@iJDZ836\", \"name\": \"Deamido-NAD\", \"label_x\": 3408.7508850097656, \"label_y\": 1281.2684020996094, \"node_is_primary\": true, \"compartment\": \"c\"}, \"265\": {\"x\": 3964.740692138672, \"y\": 1037.8456726074219, \"node_type\": \"multimarker\"}, \"266\": {\"x\": 3984.740692138672, \"y\": 1037.8456726074219, \"node_type\": \"midmarker\"}, \"267\": {\"x\": 4004.740692138672, \"y\": 1037.8456726074219, \"node_type\": \"multimarker\"}, \"268\": {\"node_type\": \"metabolite\", \"x\": 3879.740692138672, \"y\": 957.8456726074219, \"bigg_id\": \"M_ATP@iJDZ836\", \"name\": \"ATP\", \"label_x\": 3836.540692138672, \"label_y\": 937.8456726074219, \"node_is_primary\": false, \"compartment\": \"c\"}, \"269\": {\"node_type\": \"metabolite\", \"x\": 3831.4141235351562, \"y\": 1078.4684753417969, \"bigg_id\": \"M_AMMONIA@iJDZ836\", \"name\": \"NH3\", \"label_x\": 3772.1052520751955, \"label_y\": 1086.2508239746094, \"node_is_primary\": false, \"compartment\": \"c\"}, \"270\": {\"node_type\": \"metabolite\", \"x\": 4089.740692138672, \"y\": 957.8456726074219, \"bigg_id\": \"M_PPI@iJDZ836\", \"name\": \"PPi\", \"label_x\": 4046.540692138672, \"label_y\": 937.8456726074219, \"node_is_primary\": false, \"compartment\": \"c\"}, \"271\": {\"node_type\": \"metabolite\", \"x\": 4202.5026931762695, \"y\": 1010.4530334472656, \"bigg_id\": \"M_AMP@iJDZ836\", \"name\": \"AMP\", \"label_x\": 4225.528004455567, \"label_y\": 1012.8656311035156, \"node_is_primary\": false, \"compartment\": \"c\"}, \"272\": {\"node_type\": \"metabolite\", \"x\": 4248.7280349731445, \"y\": 1081.5038757324219, \"bigg_id\": \"M_PROTON@iJDZ836\", \"name\": \"H+\", \"label_x\": 4212.687519836426, \"label_y\": 1096.4456481933594, \"node_is_primary\": false, \"compartment\": \"c\"}, \"273\": {\"x\": 3986.219150543213, \"y\": 1453.0961608886719, \"node_type\": \"multimarker\"}, \"274\": {\"x\": 4006.219150543213, \"y\": 1453.0961608886719, \"node_type\": \"midmarker\"}, \"275\": {\"x\": 4026.219150543213, \"y\": 1453.0961608886719, \"node_type\": \"multimarker\"}, \"276\": {\"node_type\": \"metabolite\", \"x\": 3770.558406829834, \"y\": 1430.3721618652344, \"bigg_id\": \"M_WATER@iJDZ836\", \"name\": \"H2O\", \"label_x\": 3727.358406829834, \"label_y\": 1410.3721618652344, \"node_is_primary\": false, \"compartment\": \"c\"}, \"277\": {\"node_type\": \"metabolite\", \"x\": 3849.312816619873, \"y\": 1506.2481384277344, \"bigg_id\": \"M_ATP@iJDZ836\", \"name\": \"ATP\", \"label_x\": 3806.1128166198732, \"label_y\": 1546.2481384277344, \"node_is_primary\": false, \"compartment\": \"c\"}, \"278\": {\"node_type\": \"metabolite\", \"x\": 3876.4723320007324, \"y\": 1552.2404479980469, \"bigg_id\": \"M_GLN@iJDZ836\", \"name\": \"L-Glutamine\", \"label_x\": 3833.2723320007326, \"label_y\": 1592.2404479980469, \"node_is_primary\": false, \"compartment\": \"c\"}, \"279\": {\"node_type\": \"metabolite\", \"x\": 4561.985054016113, \"y\": 1276.2571716308594, \"bigg_id\": \"M_NAD@iJDZ836\", \"name\": \"NAD\", \"label_x\": 4489.7542922973635, \"label_y\": 1321.0956726074219, \"node_is_primary\": true, \"compartment\": \"c\"}, \"280\": {\"node_type\": \"metabolite\", \"x\": 4232.619129180908, \"y\": 1520.4100036621094, \"bigg_id\": \"M_PPI@iJDZ836\", \"name\": \"PPi\", \"label_x\": 4191.209000396729, \"label_y\": 1507.5695495605469, \"node_is_primary\": false, \"compartment\": \"c\"}, \"281\": {\"node_type\": \"metabolite\", \"x\": 4200.712802886963, \"y\": 1450.0607604980469, \"bigg_id\": \"M_AMP@iJDZ836\", \"name\": \"AMP\", \"label_x\": 4173.621659088135, \"label_y\": 1433.6405944824219, \"node_is_primary\": false, \"compartment\": \"c\"}, \"282\": {\"node_type\": \"metabolite\", \"x\": 4129.117877960205, \"y\": 1533.0961608886719, \"bigg_id\": \"M_GLT@iJDZ836\", \"name\": \"L-Glutamate\", \"label_x\": 4085.9178779602053, \"label_y\": 1573.0961608886719, \"node_is_primary\": false, \"compartment\": \"c\"}, \"283\": {\"node_type\": \"metabolite\", \"x\": 4109.117877960205, \"y\": 1613.0961608886719, \"bigg_id\": \"M_PROTON@iJDZ836\", \"name\": \"H+\", \"label_x\": 4065.9178779602053, \"label_y\": 1653.0961608886719, \"node_is_primary\": false, \"compartment\": \"c\"}, \"284\": {\"x\": 3487.5635375976562, \"y\": 1820.2759704589844, \"node_type\": \"multimarker\"}, \"285\": {\"x\": 3487.5635375976562, \"y\": 1840.2759704589844, \"node_type\": \"midmarker\"}, \"286\": {\"x\": 3487.5635375976562, \"y\": 1860.2759704589844, \"node_type\": \"multimarker\"}, \"287\": {\"node_type\": \"metabolite\", \"x\": 3546.1784057617188, \"y\": 1728.2879333496094, \"bigg_id\": \"M_PPI@iJDZ836\", \"name\": \"PPi\", \"label_x\": 3508.047607421875, \"label_y\": 1765.5456237792969, \"node_is_primary\": false, \"compartment\": \"c\"}, \"288\": {\"node_type\": \"metabolite\", \"x\": 3407.5635375976562, \"y\": 1945.2759704589844, \"bigg_id\": \"M_PRPP@iJDZ836\", \"name\": \"PRPP\", \"label_x\": 3335.5635375976562, \"label_y\": 1975.2759704589844, \"node_is_primary\": false, \"compartment\": \"c\"}, \"289\": {\"node_type\": \"metabolite\", \"x\": 3487.5635375976562, \"y\": 2015.2759704589844, \"bigg_id\": \"M_NIACINE@iJDZ836\", \"name\": \"Niacin\", \"label_x\": 3509.7229919433594, \"label_y\": 2001.0734558105469, \"node_is_primary\": true, \"compartment\": \"c\"}, \"290\": {\"x\": 3779.332664489746, \"y\": 2015.2758483886719, \"node_type\": \"multimarker\"}, \"291\": {\"x\": 3759.332664489746, \"y\": 2015.2758483886719, \"node_type\": \"midmarker\"}, \"292\": {\"x\": 3739.332664489746, \"y\": 2015.2758483886719, \"node_type\": \"multimarker\"}, \"293\": {\"node_type\": \"metabolite\", \"x\": 3864.332664489746, \"y\": 2095.275848388672, \"bigg_id\": \"M_WATER@iJDZ836\", \"name\": \"H2O\", \"label_x\": 3821.1326644897463, \"label_y\": 2135.275848388672, \"node_is_primary\": false, \"compartment\": \"c\"}, \"294\": {\"node_type\": \"metabolite\", \"x\": 4021.4248962402344, \"y\": 2015.2759704589844, \"bigg_id\": \"M_NIACINAMIDE@iJDZ836\", \"name\": \"Nicotinamide\", \"label_x\": 3978.2248962402346, \"label_y\": 2055.2759704589844, \"node_is_primary\": true, \"compartment\": \"c\"}, \"295\": {\"node_type\": \"metabolite\", \"x\": 3654.332664489746, \"y\": 2095.275848388672, \"bigg_id\": \"M_AMMONIA@iJDZ836\", \"name\": \"NH3\", \"label_x\": 3611.1326644897463, \"label_y\": 2135.275848388672, \"node_is_primary\": false, \"compartment\": \"c\"}, \"296\": {\"x\": 4310.774795532227, \"y\": 2015.2759704589844, \"node_type\": \"multimarker\"}, \"297\": {\"x\": 4290.774795532227, \"y\": 2015.2759704589844, \"node_type\": \"midmarker\"}, \"298\": {\"x\": 4270.774795532227, \"y\": 2015.2759704589844, \"node_type\": \"multimarker\"}, \"299\": {\"node_type\": \"metabolite\", \"x\": 4395.774795532227, \"y\": 2095.2759704589844, \"bigg_id\": \"M_PPI@iJDZ836\", \"name\": \"PPi\", \"label_x\": 4363.936856079102, \"label_y\": 2121.0733337402344, \"node_is_primary\": false, \"compartment\": \"c\"}, \"300\": {\"node_type\": \"metabolite\", \"x\": 4564.963195800781, \"y\": 2017.6952819824219, \"bigg_id\": \"M_NICOTINAMIDE_NUCLEOTIDE@iJDZ836\", \"name\": \"Nicotinamide ribonucleotide\", \"label_x\": 4521.763195800781, \"label_y\": 2057.695281982422, \"node_is_primary\": true, \"compartment\": \"c\"}, \"301\": {\"node_type\": \"metabolite\", \"x\": 4185.774795532227, \"y\": 2095.2759704589844, \"bigg_id\": \"M_PRPP@iJDZ836\", \"name\": \"PRPP\", \"label_x\": 4142.574795532227, \"label_y\": 2135.2759704589844, \"node_is_primary\": false, \"compartment\": \"c\"}, \"302\": {\"x\": 4562.543960571289, \"y\": 1724.7991638183594, \"node_type\": \"multimarker\"}, \"303\": {\"x\": 4562.543960571289, \"y\": 1704.7991638183594, \"node_type\": \"midmarker\"}, \"304\": {\"x\": 4562.543960571289, \"y\": 1684.7991638183594, \"node_type\": \"multimarker\"}, \"305\": {\"node_type\": \"metabolite\", \"x\": 4628.028472900391, \"y\": 1836.4107360839844, \"bigg_id\": \"M_ATP@iJDZ836\", \"name\": \"ATP\", \"label_x\": 4643.028472900391, \"label_y\": 1836.4107360839844, \"node_is_primary\": false, \"compartment\": \"c\"}, \"306\": {\"node_type\": \"metabolite\", \"x\": 4642.543960571289, \"y\": 1599.7991638183594, \"bigg_id\": \"M_PPI@iJDZ836\", \"name\": \"PPi\", \"label_x\": 4657.543960571289, \"label_y\": 1599.7991638183594, \"node_is_primary\": false, \"compartment\": \"c\"}, \"307\": {\"x\": 3642.5635375976562, \"y\": 1665.2759704589844, \"node_type\": \"multimarker\"}, \"308\": {\"x\": 3662.5635375976562, \"y\": 1665.2759704589844, \"node_type\": \"midmarker\"}, \"309\": {\"x\": 3682.5635375976562, \"y\": 1665.2759704589844, \"node_type\": \"multimarker\"}, \"310\": {\"node_type\": \"metabolite\", \"x\": 3589.2208251953125, \"y\": 1620.0989685058594, \"bigg_id\": \"M_ADP@iJDZ836\", \"name\": \"ADP\", \"label_x\": 3528.609295654297, \"label_y\": 1630.1734313964844, \"node_is_primary\": false, \"compartment\": \"c\"}, \"311\": {\"node_type\": \"metabolite\", \"x\": 3586.0551147460938, \"y\": 1726.2815856933594, \"bigg_id\": \"M_PROTON@iJDZ836\", \"name\": \"H+\", \"label_x\": 3587.1753356933596, \"label_y\": 1758.3671569824219, \"node_is_primary\": false, \"compartment\": \"c\"}, \"312\": {\"node_type\": \"metabolite\", \"x\": 3776.0851135253906, \"y\": 1722.5518493652344, \"bigg_id\": \"M_ATP@iJDZ836\", \"name\": \"ATP\", \"label_x\": 3732.885113525391, \"label_y\": 1762.5518493652344, \"node_is_primary\": false, \"compartment\": \"c\"}, \"313\": {\"node_type\": \"metabolite\", \"x\": 3837.5635375976562, \"y\": 1665.2759704589844, \"bigg_id\": \"cpd03471_c\", \"name\": \"Nicotinate D-ribonucleoside\", \"label_x\": 3794.3635375976564, \"label_y\": 1705.2759704589844, \"node_is_primary\": true, \"compartment\": \"c\"}, \"314\": {\"x\": 2982.5635375976562, \"y\": 1665.2759704589844, \"node_type\": \"multimarker\"}, \"315\": {\"x\": 2962.5635375976562, \"y\": 1665.2759704589844, \"node_type\": \"midmarker\"}, \"316\": {\"x\": 2942.5635375976562, \"y\": 1665.2759704589844, \"node_type\": \"multimarker\"}, \"317\": {\"node_type\": \"metabolite\", \"x\": 3067.5635375976562, \"y\": 1745.2759704589844, \"bigg_id\": \"M_WATER@iJDZ836\", \"name\": \"H2O\", \"label_x\": 3037.4221923828127, \"label_y\": 1772.2172546386719, \"node_is_primary\": false, \"compartment\": \"c\"}, \"318\": {\"node_type\": \"metabolite\", \"x\": 2993.5643920898438, \"y\": 1768.0972595214844, \"bigg_id\": \"M_Pi@iJDZ836\", \"name\": \"Phosphate\", \"label_x\": 2879.26728515625, \"label_y\": 1777.1165466308594, \"node_is_primary\": false, \"compartment\": \"c\"}, \"319\": {\"node_type\": \"metabolite\", \"x\": 3053.367431640625, \"y\": 1513.9817810058594, \"bigg_id\": \"M_PROTON@iJDZ836\", \"name\": \"H+\", \"label_x\": 3010.167431640625, \"label_y\": 1493.9817810058594, \"node_is_primary\": false, \"compartment\": \"c\"}, \"320\": {\"node_type\": \"metabolite\", \"x\": 2857.5635375976562, \"y\": 1585.2759704589844, \"bigg_id\": \"M_DIHYDROXY__45__ACETONE__45__PHOSPHATE@iJDZ836\", \"name\": \"Glycerone-phosphate\", \"label_x\": 2736.0115478515627, \"label_y\": 1559.4721374511719, \"node_is_primary\": false, \"compartment\": \"c\"}, \"321\": {\"node_type\": \"metabolite\", \"x\": 2784.3865356445312, \"y\": 1665.2759704589844, \"bigg_id\": \"cpd03470_c\", \"name\": \"Iminoaspartate\", \"label_x\": 2741.1865356445314, \"label_y\": 1705.2759704589844, \"node_is_primary\": true, \"compartment\": \"c\"}, \"322\": {\"x\": 2422.1215209960938, \"y\": 1374.4291687011719, \"node_type\": \"multimarker\"}, \"323\": {\"x\": 2442.1215209960938, \"y\": 1374.4291687011719, \"node_type\": \"midmarker\"}, \"324\": {\"x\": 2462.1215209960938, \"y\": 1374.4291687011719, \"node_type\": \"multimarker\"}, \"325\": {\"node_type\": \"metabolite\", \"x\": 2337.1215209960938, \"y\": 1294.4291687011719, \"bigg_id\": \"M_OXYGEN__45__MOLECULE@iJDZ836\", \"name\": \"O2\", \"label_x\": 2293.921520996094, \"label_y\": 1274.4291687011719, \"node_is_primary\": false, \"compartment\": \"c\"}, \"326\": {\"node_type\": \"metabolite\", \"x\": 2093.4348754882812, \"y\": 1662.6989440917969, \"bigg_id\": \"M_L__45__ASPARTATE@iJDZ836\", \"name\": \"L-Aspartate\", \"label_x\": 2021.6419799804687, \"label_y\": 1704.2874450683594, \"node_is_primary\": true, \"compartment\": \"c\"}, \"327\": {\"node_type\": \"metabolite\", \"x\": 2547.1215209960938, \"y\": 1294.4291687011719, \"bigg_id\": \"M_HYDROGEN__45__PEROXIDE@iJDZ836\", \"name\": \"H2O2\", \"label_x\": 2503.921520996094, \"label_y\": 1274.4291687011719, \"node_is_primary\": false, \"compartment\": \"c\"}, \"328\": {\"x\": 2415.7675170898438, \"y\": 1666.7128601074219, \"node_type\": \"multimarker\"}, \"329\": {\"x\": 2435.7675170898438, \"y\": 1666.7128601074219, \"node_type\": \"midmarker\"}, \"330\": {\"x\": 2455.7675170898438, \"y\": 1666.7128601074219, \"node_type\": \"multimarker\"}, \"331\": {\"node_type\": \"metabolite\", \"x\": 2310.9994506835938, \"y\": 1726.1210632324219, \"bigg_id\": \"M_NADP@iJDZ836\", \"name\": \"NADP\", \"label_x\": 2267.799450683594, \"label_y\": 1766.1210632324219, \"node_is_primary\": false, \"compartment\": \"c\"}, \"332\": {\"node_type\": \"metabolite\", \"x\": 2540.7675170898438, \"y\": 1746.7128601074219, \"bigg_id\": \"M_NADPH@iJDZ836\", \"name\": \"NADPH\", \"label_x\": 2497.567517089844, \"label_y\": 1786.7128601074219, \"node_is_primary\": false, \"compartment\": \"c\"}, \"333\": {\"node_type\": \"metabolite\", \"x\": 2461.3425903320312, \"y\": 1742.3857116699219, \"bigg_id\": \"M_PROTON@iJDZ836\", \"name\": \"H+\", \"label_x\": 2414.9655883789064, \"label_y\": 1741.4477233886719, \"node_is_primary\": false, \"compartment\": \"c\"}, \"334\": {\"x\": 3292.019287109375, \"y\": 278.0000305175781, \"node_type\": \"multimarker\"}, \"335\": {\"x\": 3312.019287109375, \"y\": 278.0000305175781, \"node_type\": \"midmarker\"}, \"336\": {\"x\": 3332.019287109375, \"y\": 278.0000305175781, \"node_type\": \"multimarker\"}, \"337\": {\"node_type\": \"metabolite\", \"x\": 3201.8651733398438, \"y\": 339.9604797363281, \"bigg_id\": \"M_WATER@iJDZ836\", \"name\": \"H2O\", \"label_x\": 3153.5109985351564, \"label_y\": 364.4980163574219, \"node_is_primary\": false, \"compartment\": \"c\"}, \"338\": {\"node_type\": \"metabolite\", \"x\": 3417.019287109375, \"y\": 198.00003051757812, \"bigg_id\": \"M_L__45__ALPHA__45__ALANINE@iJDZ836\", \"name\": \"L-Alanine\", \"label_x\": 3373.819287109375, \"label_y\": 178.00003051757812, \"node_is_primary\": false, \"compartment\": \"c\"}, \"339\": {\"node_type\": \"metabolite\", \"x\": 3417.019287109375, \"y\": 358.0000305175781, \"bigg_id\": \"M_PROTON@iJDZ836\", \"name\": \"H+\", \"label_x\": 3373.819287109375, \"label_y\": 398.0000305175781, \"node_is_primary\": false, \"compartment\": \"c\"}, \"340\": {\"node_type\": \"metabolite\", \"x\": 3487.019287109375, \"y\": 278.0000305175781, \"bigg_id\": \"M_ANTHRANILATE@iJDZ836\", \"name\": \"Anthranilate\", \"label_x\": 3443.819287109375, \"label_y\": 318.0000305175781, \"node_is_primary\": true, \"compartment\": \"c\"}, \"341\": {\"x\": 2411.5682983398438, \"y\": 1938.4462585449219, \"node_type\": \"multimarker\"}, \"342\": {\"x\": 2431.5682983398438, \"y\": 1938.4462585449219, \"node_type\": \"midmarker\"}, \"343\": {\"x\": 2451.5682983398438, \"y\": 1938.4462585449219, \"node_type\": \"multimarker\"}, \"344\": {\"node_type\": \"metabolite\", \"x\": 2256.5682983398438, \"y\": 1938.4462585449219, \"bigg_id\": \"M_NAD@iJDZ836\", \"name\": \"NAD\", \"label_x\": 2213.368298339844, \"label_y\": 1978.4462585449219, \"node_is_primary\": false, \"compartment\": \"c\"}, \"345\": {\"node_type\": \"metabolite\", \"x\": 2536.5682983398438, \"y\": 2018.4462585449219, \"bigg_id\": \"M_NADH@iJDZ836\", \"name\": \"NADH\", \"label_x\": 2493.368298339844, \"label_y\": 2058.446258544922, \"node_is_primary\": false, \"compartment\": \"c\"}, \"346\": {\"node_type\": \"metabolite\", \"x\": 2626.7660522460938, \"y\": 1884.2171325683594, \"bigg_id\": \"M_PROTON@iJDZ836\", \"name\": \"H+\", \"label_x\": 2583.566052246094, \"label_y\": 1864.2171325683594, \"node_is_primary\": false, \"compartment\": \"c\"}, \"347\": {\"node_type\": \"metabolite\", \"x\": 4483.742781062556, \"y\": 1164.068189140947, \"bigg_id\": \"M_ATP@iJDZ836\", \"name\": \"ATP\", \"label_x\": 4440.542781062556, \"label_y\": 1204.068189140947, \"node_is_primary\": false, \"compartment\": \"c\"}, \"348\": {\"x\": 4560.713144005563, \"y\": 1075.0872708147303, \"node_type\": \"multimarker\"}, \"349\": {\"x\": 4560.240034334902, \"y\": 1055.0928674167915, \"node_type\": \"midmarker\"}, \"350\": {\"x\": 4559.766924664241, \"y\": 1035.0984640188517, \"node_type\": \"multimarker\"}, \"351\": {\"node_type\": \"metabolite\", \"x\": 4558.150678720529, \"y\": 880.1418376848214, \"bigg_id\": \"M_NADP@iJDZ836\", \"name\": \"NADP\", \"label_x\": 4468.523310556467, \"label_y\": 907.9241252824777, \"node_is_primary\": true, \"compartment\": \"c\"}, \"352\": {\"node_type\": \"metabolite\", \"x\": 4477.7785949721765, \"y\": 952.014688260251, \"bigg_id\": \"M_ADP@iJDZ836\", \"name\": \"ADP\", \"label_x\": 4434.578594972177, \"label_y\": 992.014688260251, \"node_is_primary\": false, \"compartment\": \"c\"}, \"353\": {\"node_type\": \"metabolite\", \"x\": 4637.733822155691, \"y\": 948.229810894967, \"bigg_id\": \"M_PROTON@iJDZ836\", \"name\": \"H+\", \"label_x\": 4594.53382215569, \"label_y\": 928.229810894967, \"node_is_primary\": false, \"compartment\": \"c\"}, \"354\": {\"x\": 4558.150678720529, \"y\": 685.1418376848214, \"node_type\": \"multimarker\"}, \"355\": {\"x\": 4558.150678720529, \"y\": 705.1418376848214, \"node_type\": \"midmarker\"}, \"356\": {\"x\": 4558.150678720529, \"y\": 725.1418376848214, \"node_type\": \"multimarker\"}, \"357\": {\"node_type\": \"metabolite\", \"x\": 4558.150678720529, \"y\": 530.1418376848214, \"bigg_id\": \"M_NADPH@iJDZ836\", \"name\": \"NADPH\", \"label_x\": 4583.150678720529, \"label_y\": 530.1418376848214, \"node_is_primary\": true, \"compartment\": \"c\"}, \"358\": {\"node_type\": \"metabolite\", \"x\": 4478.150678720529, \"y\": 600.1418376848214, \"bigg_id\": \"M_PROTON@iJDZ836\", \"name\": \"H+\", \"label_x\": 4406.150678720529, \"label_y\": 630.1418376848214, \"node_is_primary\": false, \"compartment\": \"c\"}, \"359\": {\"node_type\": \"metabolite\", \"x\": 4638.150678720529, \"y\": 600.1418376848214, \"bigg_id\": \"cpd11468_c\", \"name\": \"Dodecanoyl-ACP\", \"label_x\": 4653.150678720529, \"label_y\": 600.1418376848214, \"node_is_primary\": false, \"compartment\": \"c\"}, \"360\": {\"node_type\": \"metabolite\", \"x\": 4718.150678720529, \"y\": 620.1418376848214, \"bigg_id\": \"cpd11492_c\", \"name\": \"Malonyl-acyl-carrierprotein-\", \"label_x\": 4733.150678720529, \"label_y\": 620.1418376848214, \"node_is_primary\": false, \"compartment\": \"c\"}, \"361\": {\"node_type\": \"metabolite\", \"x\": 4478.150678720529, \"y\": 810.1418376848214, \"bigg_id\": \"M_CARBON__45__DIOXIDE@iJDZ836\", \"name\": \"CO2\", \"label_x\": 4406.150678720529, \"label_y\": 840.1418376848214, \"node_is_primary\": false, \"compartment\": \"c\"}, \"362\": {\"node_type\": \"metabolite\", \"x\": 4638.150678720529, \"y\": 810.1418376848214, \"bigg_id\": \"cpd11484_c\", \"name\": \"HMA\", \"label_x\": 4653.150678720529, \"label_y\": 810.1418376848214, \"node_is_primary\": false, \"compartment\": \"c\"}, \"363\": {\"node_type\": \"metabolite\", \"x\": 4718.150678720529, \"y\": 790.1418376848214, \"bigg_id\": \"cpd11493_c\", \"name\": \"ACP\", \"label_x\": 4733.150678720529, \"label_y\": 790.1418376848214, \"node_is_primary\": false, \"compartment\": \"c\"}, \"364\": {\"x\": 4149.7782496994405, \"y\": 2241.341089875854, \"node_type\": \"multimarker\"}, \"365\": {\"x\": 4137.361384057639, \"y\": 2225.6623958092728, \"node_type\": \"midmarker\"}, \"366\": {\"x\": 4124.944518415834, \"y\": 2209.9837017426926, \"node_type\": \"multimarker\"}, \"367\": {\"node_type\": \"metabolite\", \"x\": 4139.835152410787, \"y\": 2357.6430022260274, \"bigg_id\": \"M_WATER@iJDZ836\", \"name\": \"H2O\", \"label_x\": 4067.835152410786, \"label_y\": 2387.6430022260274, \"node_is_primary\": false, \"compartment\": \"c\"}, \"368\": {\"node_type\": \"metabolite\", \"x\": 4272.131899379535, \"y\": 2365.7108465046826, \"bigg_id\": \"cpd02016_c\", \"name\": \"N-Ribosylnicotinamide\", \"label_x\": 4297.131899379535, \"label_y\": 2365.7108465046826, \"node_is_primary\": true, \"compartment\": \"c\"}, \"369\": {\"node_type\": \"metabolite\", \"x\": 4094.302378372731, \"y\": 2078.423651902418, \"bigg_id\": \"M_PROTON@iJDZ836\", \"name\": \"H+\", \"label_x\": 4109.30237837273, \"label_y\": 2078.423651902418, \"node_is_primary\": false, \"compartment\": \"c\"}, \"370\": {\"node_type\": \"metabolite\", \"x\": 4009.4580631718513, \"y\": 2193.016714526942, \"bigg_id\": \"M_CPD__45__10330@iJDZ836\", \"name\": \"D-Ribose\", \"label_x\": 3937.458063171851, \"label_y\": 2223.016714526942, \"node_is_primary\": false, \"compartment\": \"c\"}, \"371\": {\"x\": 4419.626108294079, \"y\": 2226.3973148975138, \"node_type\": \"multimarker\"}, \"372\": {\"x\": 4435.022660457543, \"y\": 2213.632277432717, \"node_type\": \"midmarker\"}, \"373\": {\"x\": 4450.419212621008, \"y\": 2200.8672399679203, \"node_type\": \"multimarker\"}, \"374\": {\"node_type\": \"metabolite\", \"x\": 4303.130611740159, \"y\": 2219.062515469046, \"bigg_id\": \"M_ATP@iJDZ836\", \"name\": \"ATP\", \"label_x\": 4231.130611740159, \"label_y\": 2249.062515469046, \"node_is_primary\": false, \"compartment\": \"c\"}, \"375\": {\"node_type\": \"metabolite\", \"x\": 4566.914709174927, \"y\": 2208.202039396388, \"bigg_id\": \"M_ADP@iJDZ836\", \"name\": \"ADP\", \"label_x\": 4581.914709174927, \"label_y\": 2208.202039396388, \"node_is_primary\": false, \"compartment\": \"c\"}, \"376\": {\"node_type\": \"metabolite\", \"x\": 4464.794409456544, \"y\": 2085.0296220886653, \"bigg_id\": \"M_PROTON@iJDZ836\", \"name\": \"H+\", \"label_x\": 4429.721167269044, \"label_y\": 2083.7837724792903, \"node_is_primary\": false, \"compartment\": \"c\"}, \"377\": {\"x\": 3837.5635375976562, \"y\": 1820.2759704589844, \"node_type\": \"multimarker\"}, \"378\": {\"x\": 3837.5635375976562, \"y\": 1840.2759704589844, \"node_type\": \"midmarker\"}, \"379\": {\"x\": 3837.5635375976562, \"y\": 1860.2759704589844, \"node_type\": \"multimarker\"}, \"380\": {\"node_type\": \"metabolite\", \"x\": 3913.7922019958496, \"y\": 1732.4355163574219, \"bigg_id\": \"M_WATER@iJDZ836\", \"name\": \"H2O\", \"label_x\": 3924.167318344116, \"label_y\": 1751.0734558105469, \"node_is_primary\": false, \"compartment\": \"c\"}, \"381\": {\"node_type\": \"metabolite\", \"x\": 3917.5635375976562, \"y\": 1945.2759704589844, \"bigg_id\": \"M_PROTON@iJDZ836\", \"name\": \"H+\", \"label_x\": 3932.5635375976562, \"label_y\": 1945.2759704589844, \"node_is_primary\": false, \"compartment\": \"c\"}, \"382\": {\"node_type\": \"metabolite\", \"x\": 3791.6497955322266, \"y\": 1922.5518493652344, \"bigg_id\": \"M_CPD__45__10330@iJDZ836\", \"name\": \"D-Ribose\", \"label_x\": 3691.244583129883, \"label_y\": 1941.1897888183594, \"node_is_primary\": false, \"compartment\": \"c\"}}, \"text_labels\": {\"0\": {\"x\": -1497.7158813476562, \"y\": -248.81781005859375, \"text\": \"Tryptophan Metabolism\"}, \"1\": {\"x\": -1922.556884765625, \"y\": 1206.2088623046875, \"text\": \"Aspartate Metabolism\"}, \"3\": {\"x\": -312.361083984375, \"y\": -456.148193359375, \"text\": \"NAD / NADP Biosynthesis\"}}, \"canvas\": {\"x\": -2453.0987548828125, \"y\": -898.6368408203125, \"width\": 7888.03857421875, \"height\": 3552.9903564453125}}]'),\n",
       "               model_data: JSON.parse('null'),\n",
       "               static_site_index: JSON.parse('null'),\n",
       "           };\n",
       "       }\n",
       "   })();\n",
       "  </script>\n"
      ],
      "text/plain": [
       "<IPython.core.display.HTML object>"
      ]
     },
     "execution_count": 155,
     "metadata": {},
     "output_type": "execute_result"
    }
   ],
   "source": [
    "b = escher.Builder(map_json=json.dumps(master.escher_map), model_json=None)\n",
    "#b.set_highlight_missing(True)\n",
    "b.display_in_notebook()"
   ]
  },
  {
   "cell_type": "code",
   "execution_count": 14,
   "metadata": {},
   "outputs": [],
   "source": [
    "master"
   ]
  },
  {
   "cell_type": "code",
   "execution_count": 244,
   "metadata": {},
   "outputs": [],
   "source": [
    "cpd_mapping = {}\n",
    "rxn_mapping = {}"
   ]
  },
  {
   "cell_type": "code",
   "execution_count": 268,
   "metadata": {},
   "outputs": [
    {
     "data": {
      "text/plain": [
       "dict_keys(['iMM904', 'iAL1006', 'iCT646', 'iLC915', 'iMA871', 'iRL766', 'iSS884', 'iTO977', 'yeast_6.06', 'yeast_7.6', 'iNL895'])"
      ]
     },
     "execution_count": 268,
     "metadata": {},
     "output_type": "execute_result"
    }
   ],
   "source": [
    "cpd_mapping.keys()"
   ]
  },
  {
   "cell_type": "code",
   "execution_count": 269,
   "metadata": {},
   "outputs": [
    {
     "data": {
      "text/plain": [
       "dict_keys(['iMM904', 'iAL1006', 'iCT646', 'iLC915', 'iRL766', 'iSS884', 'iTO977', 'yeast_6.06', 'yeast_7.6'])"
      ]
     },
     "execution_count": 269,
     "metadata": {},
     "output_type": "execute_result"
    }
   ],
   "source": [
    "rxn_mapping.keys()"
   ]
  },
  {
   "cell_type": "code",
   "execution_count": 255,
   "metadata": {},
   "outputs": [
    {
     "name": "stdout",
     "output_type": "stream",
     "text": [
      "iAL1006_Base.json       iLC915_KBase2.json      iRL766_KBase2.json\n",
      "iAL1006_KBase2.json     iMA871_KBase2.json      iSS884_KBase2.json\n",
      "iAL1006_KBase3.json     iMM904_Base.json        iTO977_KBase2.json\n",
      "iCT646_KBase2.json      iMM904_KBase2.json      iWV1213_KBase2.json\n",
      "iJDZ836_Base.json       iMM904_KBase3.json      iWV1314_KBase2.json\n",
      "iJDZ836_KBase2.json     iNL895_KBase2.json      yeast_6.06_KBase2.json\n",
      "iJDZ836_KBase3.json     iNX804_KBase2.json      yeast_7.6_KBase2.json\n",
      "iJL1454_KBase2.json     iOD907_KBase2.json\n"
     ]
    }
   ],
   "source": [
    "ls /Users/fliu/workspace/jupyter/data/www/fungi_viz/data/kbase/"
   ]
  },
  {
   "cell_type": "code",
   "execution_count": 267,
   "metadata": {},
   "outputs": [
    {
     "ename": "KeyError",
     "evalue": "'M_s_1477_b'",
     "output_type": "error",
     "traceback": [
      "\u001b[0;31m---------------------------------------------------------------------------\u001b[0m",
      "\u001b[0;31mKeyError\u001b[0m                                  Traceback (most recent call last)",
      "\u001b[0;32m<ipython-input-267-77b6ec18a436>\u001b[0m in \u001b[0;36m<module>\u001b[0;34m\u001b[0m\n\u001b[1;32m      4\u001b[0m \u001b[0;31m#bigg\u001b[0m\u001b[0;34m\u001b[0m\u001b[0;34m\u001b[0m\u001b[0m\n\u001b[1;32m      5\u001b[0m \u001b[0mb\u001b[0m \u001b[0;34m=\u001b[0m \u001b[0mread_json\u001b[0m\u001b[0;34m(\u001b[0m\u001b[0;34m'/Users/fliu/workspace/jupyter/data/www/fungi_viz/data/sbml/'\u001b[0m \u001b[0;34m+\u001b[0m \u001b[0mmodel_id\u001b[0m \u001b[0;34m+\u001b[0m\u001b[0;34m'.json'\u001b[0m\u001b[0;34m)\u001b[0m\u001b[0;34m\u001b[0m\u001b[0m\n\u001b[0;32m----> 6\u001b[0;31m \u001b[0madd_cpd_mappings\u001b[0m\u001b[0;34m(\u001b[0m\u001b[0ma\u001b[0m\u001b[0;34m,\u001b[0m \u001b[0mb\u001b[0m\u001b[0;34m,\u001b[0m \u001b[0mmodel_id\u001b[0m\u001b[0;34m,\u001b[0m \u001b[0mcpd_mapping\u001b[0m\u001b[0;34m)\u001b[0m\u001b[0;34m\u001b[0m\u001b[0m\n\u001b[0m\u001b[1;32m      7\u001b[0m \u001b[0madd_rxn_mappings\u001b[0m\u001b[0;34m(\u001b[0m\u001b[0ma\u001b[0m\u001b[0;34m,\u001b[0m \u001b[0mb\u001b[0m\u001b[0;34m,\u001b[0m \u001b[0mmodel_id\u001b[0m\u001b[0;34m,\u001b[0m \u001b[0mrxn_mapping\u001b[0m\u001b[0;34m)\u001b[0m\u001b[0;34m\u001b[0m\u001b[0m\n",
      "\u001b[0;32m<ipython-input-246-461d5df760cc>\u001b[0m in \u001b[0;36madd_cpd_mappings\u001b[0;34m(a, b, model_id, cpd_mapping)\u001b[0m\n\u001b[1;32m     14\u001b[0m         \u001b[0;32mif\u001b[0m \u001b[0;34m'ModelSeed'\u001b[0m \u001b[0;32min\u001b[0m \u001b[0mmc\u001b[0m\u001b[0;34m[\u001b[0m\u001b[0;34m'dblinks'\u001b[0m\u001b[0;34m]\u001b[0m\u001b[0;34m:\u001b[0m\u001b[0;34m\u001b[0m\u001b[0m\n\u001b[1;32m     15\u001b[0m             \u001b[0;32mfor\u001b[0m \u001b[0mseed_id\u001b[0m \u001b[0;32min\u001b[0m \u001b[0mmc\u001b[0m\u001b[0;34m[\u001b[0m\u001b[0;34m'dblinks'\u001b[0m\u001b[0;34m]\u001b[0m\u001b[0;34m[\u001b[0m\u001b[0;34m'ModelSeed'\u001b[0m\u001b[0;34m]\u001b[0m\u001b[0;34m:\u001b[0m\u001b[0;34m\u001b[0m\u001b[0m\n\u001b[0;32m---> 16\u001b[0;31m                 \u001b[0mcpd_mapping\u001b[0m\u001b[0;34m[\u001b[0m\u001b[0mmodel_id\u001b[0m\u001b[0;34m]\u001b[0m\u001b[0;34m[\u001b[0m\u001b[0msid_to_cmp\u001b[0m\u001b[0;34m[\u001b[0m\u001b[0msid\u001b[0m\u001b[0;34m]\u001b[0m\u001b[0;34m]\u001b[0m\u001b[0;34m[\u001b[0m\u001b[0msid\u001b[0m\u001b[0;34m]\u001b[0m\u001b[0;34m.\u001b[0m\u001b[0madd\u001b[0m\u001b[0;34m(\u001b[0m\u001b[0mseed_id\u001b[0m\u001b[0;34m)\u001b[0m\u001b[0;34m\u001b[0m\u001b[0m\n\u001b[0m\u001b[1;32m     17\u001b[0m         \u001b[0;32mif\u001b[0m \u001b[0;34m'Seed'\u001b[0m \u001b[0;32min\u001b[0m \u001b[0mmc\u001b[0m\u001b[0;34m[\u001b[0m\u001b[0;34m'dblinks'\u001b[0m\u001b[0;34m]\u001b[0m\u001b[0;34m:\u001b[0m\u001b[0;34m\u001b[0m\u001b[0m\n\u001b[1;32m     18\u001b[0m             \u001b[0;32mfor\u001b[0m \u001b[0mseed_id\u001b[0m \u001b[0;32min\u001b[0m \u001b[0mmc\u001b[0m\u001b[0;34m[\u001b[0m\u001b[0;34m'dblinks'\u001b[0m\u001b[0;34m]\u001b[0m\u001b[0;34m[\u001b[0m\u001b[0;34m'Seed'\u001b[0m\u001b[0;34m]\u001b[0m\u001b[0;34m:\u001b[0m\u001b[0;34m\u001b[0m\u001b[0m\n",
      "\u001b[0;31mKeyError\u001b[0m: 'M_s_1477_b'"
     ]
    }
   ],
   "source": [
    "model_id = 'iNL895'\n",
    "#kbase\n",
    "a = read_json('/Users/fliu/workspace/jupyter/data/www/fungi_viz/data/kbase/' + model_id + '_KBase2.json')\n",
    "#bigg\n",
    "b = read_json('/Users/fliu/workspace/jupyter/data/www/fungi_viz/data/sbml/' + model_id +'.json')\n",
    "add_cpd_mappings(a, b, model_id, cpd_mapping)\n",
    "add_rxn_mappings(a, b, model_id, rxn_mapping)"
   ]
  },
  {
   "cell_type": "code",
   "execution_count": 245,
   "metadata": {},
   "outputs": [],
   "source": [
    "def add_rxn_mappings(a, b, model_id, rxn_mapping):\n",
    "    if not model_id in rxn_mapping:\n",
    "        rxn_mapping[model_id] = {}\n",
    "        \n",
    "    for r in b['reactions']:\n",
    "        if not r['id'] in rxn_mapping[model_id]:\n",
    "            rxn_mapping[model_id][r['id']] = set()\n",
    "            \n",
    "    for mr in a['modelreactions']:\n",
    "        sid = mr['string_attributes']['original_id']\n",
    "        if sid in rxn_mapping[model_id]:\n",
    "            if 'ModelSeed' in mr['dblinks']:\n",
    "                for seed_id in mr['dblinks']['ModelSeed']:\n",
    "                    rxn_mapping[model_id][sid].add(seed_id)\n",
    "            if 'Seed' in mr['dblinks']:\n",
    "                for seed_id in mr['dblinks']['Seed']:\n",
    "                    rxn_mapping[model_id][sid].add(seed_id)\n",
    "        else:\n",
    "            print('!')\n"
   ]
  },
  {
   "cell_type": "code",
   "execution_count": 246,
   "metadata": {},
   "outputs": [],
   "source": [
    "def add_cpd_mappings(a, b, model_id, cpd_mapping):\n",
    "    if not model_id in cpd_mapping:\n",
    "        cpd_mapping[model_id] = {}\n",
    "        \n",
    "    sid_to_cmp = {}\n",
    "    for m in b['metabolites']:\n",
    "        cmp = m['compartment']\n",
    "        sid_to_cmp[m['id']] = cmp\n",
    "        if not cmp in cpd_mapping[model_id]:\n",
    "            cpd_mapping[model_id][cmp] = {}\n",
    "        cpd_mapping[model_id][cmp][m['id']] = set()\n",
    "    for mc in a['modelcompounds']:\n",
    "        sid = mc['string_attributes']['original_id']\n",
    "        if 'ModelSeed' in mc['dblinks']:\n",
    "            for seed_id in mc['dblinks']['ModelSeed']:\n",
    "                cpd_mapping[model_id][sid_to_cmp[sid]][sid].add(seed_id)\n",
    "        if 'Seed' in mc['dblinks']:\n",
    "            for seed_id in mc['dblinks']['Seed']:\n",
    "                cpd_mapping[model_id][sid_to_cmp[sid]][sid].add(seed_id)"
   ]
  },
  {
   "cell_type": "code",
   "execution_count": 217,
   "metadata": {},
   "outputs": [],
   "source": []
  },
  {
   "cell_type": "code",
   "execution_count": 271,
   "metadata": {},
   "outputs": [],
   "source": [
    "for k in rxn_mapping:\n",
    "    for sid in rxn_mapping[k]:\n",
    "        rxn_mapping[k][sid] = list(rxn_mapping[k][sid])"
   ]
  },
  {
   "cell_type": "code",
   "execution_count": 272,
   "metadata": {},
   "outputs": [],
   "source": [
    "for k in cpd_mapping:\n",
    "    for cmp in cpd_mapping[k]:\n",
    "        for sid in cpd_mapping[k][cmp]:\n",
    "            cpd_mapping[k][cmp][sid] = list(cpd_mapping[k][cmp][sid])"
   ]
  },
  {
   "cell_type": "code",
   "execution_count": 273,
   "metadata": {},
   "outputs": [],
   "source": [
    "write_json(cpd_mapping, '/Users/fliu/workspace/jupyter/data/www/annotation/data/cpd_mapping_cache3.json', True)\n",
    "write_json(rxn_mapping, '/Users/fliu/workspace/jupyter/data/www/annotation/data/rxn_mapping_cache3.json', True)"
   ]
  },
  {
   "cell_type": "code",
   "execution_count": null,
   "metadata": {},
   "outputs": [],
   "source": [
    "read_json('/Users/fliu/')"
   ]
  },
  {
   "cell_type": "code",
   "execution_count": 187,
   "metadata": {},
   "outputs": [],
   "source": [
    "def get_cpd_mapping(model_id, model_cmp):\n",
    "    res = {}\n",
    "    if model_id in cpd_mapping and model_cmp in cpd_mapping[model_id]:\n",
    "        mapping = cpd_mapping[model_id][model_cmp]\n",
    "        for sid in mapping:\n",
    "            for seed_id in mapping[sid]:\n",
    "                if not seed_id in res:\n",
    "                    res[seed_id] = sid\n",
    "                elif not res[seed_id] == sid:\n",
    "                    logger.warning('%s: [%s] ! [%s]', seed_id, sid, res[seed_id])\n",
    "    return res\n",
    "#get_cpd_mapping('iJDZ836', 'CCO__45__CYTOSOL')"
   ]
  },
  {
   "cell_type": "code",
   "execution_count": 179,
   "metadata": {},
   "outputs": [],
   "source": [
    "b = read_json('/Users/fliu/workspace/jupyter/data/www/fungi_viz/data/sbml/iAL1006.json')"
   ]
  },
  {
   "cell_type": "code",
   "execution_count": 181,
   "metadata": {},
   "outputs": [],
   "source": [
    "import copy\n",
    "def tag_model(cobra_json, model_tag):\n",
    "    res = copy.deepcopy(cobra_json)\n",
    "    for o in res['metabolites']:\n",
    "        o['id'] += '@' + model_tag\n",
    "    for o in res['reactions']:\n",
    "        o['id'] += '@' + model_tag\n",
    "        m_tag = {}\n",
    "        for m in o['metabolites']:\n",
    "            m_tag[m + '@' + model_tag] = o['metabolites'][m]\n",
    "        o['metabolites'] = m_tag\n",
    "\n",
    "    return res"
   ]
  },
  {
   "cell_type": "code",
   "execution_count": 182,
   "metadata": {},
   "outputs": [],
   "source": [
    "t = tag_model(b, 'iLC915')"
   ]
  },
  {
   "cell_type": "code",
   "execution_count": 183,
   "metadata": {},
   "outputs": [],
   "source": [
    "write_json(t, '/Users/fliu/workspace/jupyter/data/www/annotation/data/TempModels/iLC915.json')"
   ]
  },
  {
   "cell_type": "code",
   "execution_count": 184,
   "metadata": {},
   "outputs": [],
   "source": [
    "k = None\n",
    "with open('/Users/fliu/workspace/jupyter/data/www/annotation/data/cpd_mapping_cache.json', 'r') as f:\n",
    "    k = json.loads(f.read())"
   ]
  },
  {
   "cell_type": "code",
   "execution_count": 186,
   "metadata": {},
   "outputs": [
    {
     "data": {
      "text/plain": [
       "dict_keys(['iAL1006', 'iJDZ836', 'iMM904'])"
      ]
     },
     "execution_count": 186,
     "metadata": {},
     "output_type": "execute_result"
    }
   ],
   "source": [
    "k.keys()"
   ]
  },
  {
   "cell_type": "code",
   "execution_count": 4,
   "metadata": {},
   "outputs": [],
   "source": [
    "cluster_map = read_json('/Users/fliu/workspace/jupyter/data/www/annotation/data/model_merge_data.json')"
   ]
  },
  {
   "cell_type": "code",
   "execution_count": 5,
   "metadata": {},
   "outputs": [],
   "source": [
    "from modelseed_escher.core import EscherMap"
   ]
  },
  {
   "cell_type": "code",
   "execution_count": 6,
   "metadata": {},
   "outputs": [],
   "source": [
    "cluster_params = read_json('/Users/fliu/workspace/jupyter/data/www/annotation/data/test_cluster.json')\n",
    "em = EscherMap(cluster_params['escher_map'])"
   ]
  },
  {
   "cell_type": "code",
   "execution_count": 16,
   "metadata": {},
   "outputs": [
    {
     "name": "stdout",
     "output_type": "stream",
     "text": [
      "213 ModelSEED.Mannitol Utilization 0 0 2005.3101806640625 3448.5691528320312 c\n",
      "241 ModelSEED.Glycine Cleavage System 1 0 2005.3101806640625 3448.5691528320312 c\n",
      "271 ModelSEED.Serine Biosynthesis 2 0 2005.3101806640625 3448.5691528320312 c\n",
      "311 ModelSEED.Histidine Degradation 0 1 2005.3101806640625 3448.5691528320312 c\n",
      "425 ModelSEED.Heme and Siroheme Biosynthesis 1 1 2005.3101806640625 3448.5691528320312 c\n"
     ]
    }
   ],
   "source": []
  },
  {
   "cell_type": "code",
   "execution_count": 15,
   "metadata": {},
   "outputs": [],
   "source": [
    "%run ../escher_grid_merge.py"
   ]
  },
  {
   "cell_type": "code",
   "execution_count": null,
   "metadata": {},
   "outputs": [],
   "source": [
    "%run ../../modelseed-escher/modelseed_escher/map/escher_cluster.py\n",
    "ec = EscherCluster(25)\n",
    "cluster_data = ec.cluster(em)"
   ]
  },
  {
   "cell_type": "code",
   "execution_count": 20,
   "metadata": {},
   "outputs": [],
   "source": []
  },
  {
   "cell_type": "code",
   "execution_count": null,
   "metadata": {},
   "outputs": [],
   "source": []
  },
  {
   "cell_type": "code",
   "execution_count": null,
   "metadata": {},
   "outputs": [],
   "source": []
  },
  {
   "cell_type": "code",
   "execution_count": null,
   "metadata": {},
   "outputs": [],
   "source": []
  },
  {
   "cell_type": "code",
   "execution_count": null,
   "metadata": {},
   "outputs": [],
   "source": []
  },
  {
   "cell_type": "code",
   "execution_count": null,
   "metadata": {},
   "outputs": [],
   "source": []
  },
  {
   "cell_type": "code",
   "execution_count": null,
   "metadata": {},
   "outputs": [],
   "source": []
  },
  {
   "cell_type": "code",
   "execution_count": null,
   "metadata": {},
   "outputs": [],
   "source": []
  },
  {
   "cell_type": "code",
   "execution_count": null,
   "metadata": {},
   "outputs": [],
   "source": []
  },
  {
   "cell_type": "code",
   "execution_count": null,
   "metadata": {},
   "outputs": [],
   "source": []
  },
  {
   "cell_type": "code",
   "execution_count": null,
   "metadata": {},
   "outputs": [],
   "source": []
  },
  {
   "cell_type": "code",
   "execution_count": 17,
   "metadata": {},
   "outputs": [],
   "source": []
  },
  {
   "cell_type": "code",
   "execution_count": null,
   "metadata": {},
   "outputs": [],
   "source": []
  },
  {
   "cell_type": "code",
   "execution_count": null,
   "metadata": {},
   "outputs": [],
   "source": []
  },
  {
   "cell_type": "code",
   "execution_count": null,
   "metadata": {},
   "outputs": [],
   "source": []
  },
  {
   "cell_type": "code",
   "execution_count": null,
   "metadata": {},
   "outputs": [],
   "source": []
  },
  {
   "cell_type": "code",
   "execution_count": null,
   "metadata": {},
   "outputs": [],
   "source": []
  }
 ],
 "metadata": {
  "kernelspec": {
   "display_name": "Python 3",
   "language": "python",
   "name": "python3"
  },
  "language_info": {
   "codemirror_mode": {
    "name": "ipython",
    "version": 3
   },
   "file_extension": ".py",
   "mimetype": "text/x-python",
   "name": "python",
   "nbconvert_exporter": "python",
   "pygments_lexer": "ipython3",
   "version": "3.7.4"
  }
 },
 "nbformat": 4,
 "nbformat_minor": 4
}
