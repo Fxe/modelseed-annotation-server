{
 "cells": [
  {
   "cell_type": "code",
   "execution_count": 1,
   "metadata": {},
   "outputs": [
    {
     "name": "stdout",
     "output_type": "stream",
     "text": [
      "cobrakbase 0.2.7\n"
     ]
    }
   ],
   "source": [
    "import cobra\n",
    "import cobrakbase"
   ]
  },
  {
   "cell_type": "code",
   "execution_count": null,
   "metadata": {},
   "outputs": [],
   "source": [
    "is_transport_pts(modelseed_local.get_seed_reaction('rxn02005'))\n",
    "is_transport_abc(modelseed_local.get_seed_reaction('rxn33882'))"
   ]
  },
  {
   "cell_type": "code",
   "execution_count": 3,
   "metadata": {},
   "outputs": [
    {
     "ename": "NameError",
     "evalue": "name 'modelseed_local' is not defined",
     "output_type": "error",
     "traceback": [
      "\u001b[0;31m---------------------------------------------------------------------------\u001b[0m",
      "\u001b[0;31mNameError\u001b[0m                                 Traceback (most recent call last)",
      "\u001b[0;32m<ipython-input-3-2d7ed687214e>\u001b[0m in \u001b[0;36m<module>\u001b[0;34m\u001b[0m\n\u001b[1;32m      1\u001b[0m \u001b[0mget_ipython\u001b[0m\u001b[0;34m(\u001b[0m\u001b[0;34m)\u001b[0m\u001b[0;34m.\u001b[0m\u001b[0mrun_line_magic\u001b[0m\u001b[0;34m(\u001b[0m\u001b[0;34m'run'\u001b[0m\u001b[0;34m,\u001b[0m \u001b[0;34m'../../cobrakbase/cobrakbase/modelseed/transporters.py'\u001b[0m\u001b[0;34m)\u001b[0m\u001b[0;34m\u001b[0m\u001b[0;34m\u001b[0m\u001b[0m\n\u001b[1;32m      2\u001b[0m \u001b[0;32mimport\u001b[0m \u001b[0mpandas\u001b[0m \u001b[0;32mas\u001b[0m \u001b[0mpd\u001b[0m\u001b[0;34m\u001b[0m\u001b[0;34m\u001b[0m\u001b[0m\n\u001b[0;32m----> 3\u001b[0;31m \u001b[0mtp\u001b[0m \u001b[0;34m=\u001b[0m \u001b[0mTransportersPipeline\u001b[0m\u001b[0;34m(\u001b[0m\u001b[0mmodelseed_local\u001b[0m\u001b[0;34m,\u001b[0m \u001b[0mannotation_api\u001b[0m\u001b[0;34m)\u001b[0m\u001b[0;34m\u001b[0m\u001b[0;34m\u001b[0m\u001b[0m\n\u001b[0m\u001b[1;32m      4\u001b[0m \u001b[0mprint\u001b[0m\u001b[0;34m(\u001b[0m\u001b[0;34m'permeases'\u001b[0m\u001b[0;34m,\u001b[0m \u001b[0mlen\u001b[0m\u001b[0;34m(\u001b[0m\u001b[0mtp\u001b[0m\u001b[0;34m.\u001b[0m\u001b[0mt_permeases\u001b[0m\u001b[0;34m)\u001b[0m\u001b[0;34m)\u001b[0m\u001b[0;34m\u001b[0m\u001b[0;34m\u001b[0m\u001b[0m\n\u001b[1;32m      5\u001b[0m \u001b[0mprint\u001b[0m\u001b[0;34m(\u001b[0m\u001b[0;34m't_pts'\u001b[0m\u001b[0;34m,\u001b[0m \u001b[0mlen\u001b[0m\u001b[0;34m(\u001b[0m\u001b[0mtp\u001b[0m\u001b[0;34m.\u001b[0m\u001b[0mt_pts\u001b[0m\u001b[0;34m)\u001b[0m\u001b[0;34m)\u001b[0m\u001b[0;34m\u001b[0m\u001b[0;34m\u001b[0m\u001b[0m\n",
      "\u001b[0;31mNameError\u001b[0m: name 'modelseed_local' is not defined"
     ]
    }
   ],
   "source": [
    "%run ../../cobrakbase/cobrakbase/modelseed/transporters.py\n",
    "import pandas as pd\n",
    "tp = TransportersPipeline(modelseed_local, annotation_api)\n",
    "print('permeases', len(tp.t_permeases))\n",
    "print('t_pts', len(tp.t_pts))\n",
    "print('t_abc', len(tp.t_abc))\n",
    "print('t_others', len(tp.t_others))\n",
    "#multiple match\n",
    "#multiple match\n",
    "#permeases 1401\n",
    "#t_pts 35\n",
    "#t_abc 1089\n",
    "#t_others 1402"
   ]
  },
  {
   "cell_type": "code",
   "execution_count": null,
   "metadata": {},
   "outputs": [],
   "source": [
    "df_abc = pd.read_csv('/Users/fliu/workspace/jupyter/data/modelseed2/annotation_abc.tsv', '\\t')\n",
    "df_pts = pd.read_csv('/Users/fliu/workspace/jupyter/data/modelseed2/annotation_pts.tsv', '\\t')"
   ]
  },
  {
   "cell_type": "code",
   "execution_count": null,
   "metadata": {},
   "outputs": [],
   "source": [
    "missing_reaction, reaction_roles, role_reactions = tp.f1(df_pts, tp.t_pts, [], is_transport_pts)"
   ]
  },
  {
   "cell_type": "code",
   "execution_count": null,
   "metadata": {},
   "outputs": [],
   "source": [
    "for rxn_id in reaction_roles:\n",
    "    sn_to_roles = {}\n",
    "    for role_str in reaction_roles[rxn_id]:\n",
    "        sn = normalize_role(role_str)\n",
    "        if not sn in sn_to_roles:\n",
    "            sn_to_roles[sn] = set()\n",
    "        sn_to_roles[sn].add(role_str)\n",
    "    o = template.get_reaction(rxn_id + '_c')\n",
    "    if not o == None:\n",
    "        break"
   ]
  },
  {
   "cell_type": "code",
   "execution_count": null,
   "metadata": {},
   "outputs": [],
   "source": [
    "complex_roles = o.get_complex_roles()\n",
    "for complex_id in complex_roles:\n",
    "    for role_id in complex_roles[complex_id]:\n",
    "        role = template.get_role(role_id)\n",
    "        sn = normalize_role(role['name'])\n",
    "        verified = sn in sn_to_roles\n",
    "        print(rxn_id, role_id, verified, role['name'])"
   ]
  },
  {
   "cell_type": "code",
   "execution_count": null,
   "metadata": {},
   "outputs": [],
   "source": [
    "tp = TransportersPipeline(modelseed_local)\n",
    "cpd_alias = tp.get_cpd_alias()\n",
    "tp.report()"
   ]
  },
  {
   "cell_type": "code",
   "execution_count": null,
   "metadata": {},
   "outputs": [],
   "source": [
    "tp.report(role_reactions)"
   ]
  },
  {
   "cell_type": "markdown",
   "metadata": {},
   "source": [
    "### Annotation for David"
   ]
  },
  {
   "cell_type": "code",
   "execution_count": null,
   "metadata": {},
   "outputs": [],
   "source": [
    "huge_trans_genes = pd.read_csv('/Users/fliu/workspace/jupyter/data/tnseq/transyt/refG_data_genes_list.txt', '\\t', header=None)\n",
    "huge_trans_genes = huge_trans_genes.set_index(0)"
   ]
  },
  {
   "cell_type": "code",
   "execution_count": null,
   "metadata": {},
   "outputs": [],
   "source": [
    "genome_gene_function = {}\n",
    "for genome_id, d in huge_trans_genes.iterrows():\n",
    "    if not genome_id in genome_gene_function:\n",
    "        genome_gene_function[genome_id] = {}\n",
    "    if not pd.isna(d[1]):\n",
    "        genes = d[1].split(';')\n",
    "        for gene_id in genes:\n",
    "            gfunctions = get_gene_function(gene_id, genome_id)\n",
    "            genome_gene_function[genome_id][gene_id] = gfunctions\n",
    "    break"
   ]
  },
  {
   "cell_type": "code",
   "execution_count": null,
   "metadata": {},
   "outputs": [],
   "source": [
    "def get_gene_function(gene_id, genome_id, source = 'BETA_RAST'):\n",
    "    node_gene = annotation_api.get_node('KBaseGene', gene_id + '@' + genome_id)\n",
    "    if node_gene == None:\n",
    "        logger.warning('gene not found %s %s', gene_id, genome_id)\n",
    "        return None\n",
    "    node_gene = annotation_api.matcher.get(node_gene.id)\n",
    "    gfunctions = set()\n",
    "    for rel in annotation_api.neo4j_graph.match((node_gene, ), r_type=\"has_annotation\", ):\n",
    "        if source in rel['function_source']:\n",
    "            function = Neo4jAnnotationFunction(rel.end_node)\n",
    "            gfunctions.add(function.value)\n",
    "    return gfunctions"
   ]
  },
  {
   "cell_type": "code",
   "execution_count": null,
   "metadata": {},
   "outputs": [],
   "source": [
    "data = {\n",
    "    'genome_id' : [],\n",
    "    'gene_id' : [],\n",
    "    'function' : []\n",
    "}\n",
    "for genome_id in genome_gene_function:\n",
    "    for gene_id in genome_gene_function[genome_id]:\n",
    "        gfunction = genome_gene_function[genome_id][gene_id]\n",
    "        gfstr = \"?\" if gfunction == None else ';'.join(gfunction)\n",
    "        data['genome_id'].append(genome_id)\n",
    "        data['gene_id'].append(gene_id)\n",
    "        data['function'].append(gfstr)"
   ]
  }
 ],
 "metadata": {
  "kernelspec": {
   "display_name": "Python 3",
   "language": "python",
   "name": "python3"
  },
  "language_info": {
   "codemirror_mode": {
    "name": "ipython",
    "version": 3
   },
   "file_extension": ".py",
   "mimetype": "text/x-python",
   "name": "python",
   "nbconvert_exporter": "python",
   "pygments_lexer": "ipython3",
   "version": "3.7.4"
  }
 },
 "nbformat": 4,
 "nbformat_minor": 4
}
