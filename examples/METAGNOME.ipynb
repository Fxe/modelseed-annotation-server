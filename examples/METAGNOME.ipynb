{
 "cells": [
  {
   "cell_type": "code",
   "execution_count": 164,
   "metadata": {},
   "outputs": [
    {
     "name": "stdout",
     "output_type": "stream",
     "text": [
      "cobrakbase 0.2.4\n"
     ]
    }
   ],
   "source": [
    "import cobrakbase\n",
    "import logging\n",
    "logger = logging.getLogger(__name__)"
   ]
  },
  {
   "cell_type": "code",
   "execution_count": 2,
   "metadata": {},
   "outputs": [],
   "source": [
    "token = \"64XQ7SABQILQWSEW3CQKZXJA63DXZBGH\"\n",
    "kbase = cobrakbase.KBaseAPI(token)"
   ]
  },
  {
   "cell_type": "code",
   "execution_count": 4,
   "metadata": {},
   "outputs": [],
   "source": [
    "metagenome = kbase.get_object('Mar4_rasted_EV271-05-03_AA_S_2_H', 'qzhang:narrative_1581052413646')"
   ]
  },
  {
   "cell_type": "code",
   "execution_count": 3,
   "metadata": {},
   "outputs": [
    {
     "data": {
      "text/plain": [
       "[55141,\n",
       " 'qzhang:narrative_1581052413646',\n",
       " 'qzhang',\n",
       " '2020-03-04T18:53:02+0000',\n",
       " 141,\n",
       " 'w',\n",
       " 'n',\n",
       " 'unlocked',\n",
       " {'cell_count': '1',\n",
       "  'narrative_nice_name': 'RAST_SDK_metaG test',\n",
       "  'searchtags': 'narrative',\n",
       "  'is_temporary': 'false',\n",
       "  'narrative': '1'}]"
      ]
     },
     "execution_count": 3,
     "metadata": {},
     "output_type": "execute_result"
    }
   ],
   "source": [
    "kbase.ws_client.get_workspace_info({'id' : 55141})"
   ]
  },
  {
   "cell_type": "code",
   "execution_count": 1,
   "metadata": {},
   "outputs": [],
   "source": [
    "#list(metagenome.keys())"
   ]
  },
  {
   "cell_type": "code",
   "execution_count": 7,
   "metadata": {},
   "outputs": [
    {
     "data": {
      "text/plain": [
       "'KBH_3929085'"
      ]
     },
     "execution_count": 7,
     "metadata": {},
     "output_type": "execute_result"
    }
   ],
   "source": [
    "metagenome['features_handle_ref']"
   ]
  },
  {
   "cell_type": "code",
   "execution_count": 2,
   "metadata": {},
   "outputs": [],
   "source": [
    "#metagenome['feature_counts']"
   ]
  },
  {
   "cell_type": "code",
   "execution_count": null,
   "metadata": {},
   "outputs": [],
   "source": [
    "#http://papers.genomics.lbl.gov/cgi-bin/litSearch.cgi?query=YGR248W&Search=Search"
   ]
  },
  {
   "cell_type": "code",
   "execution_count": 3,
   "metadata": {},
   "outputs": [],
   "source": [
    "import requests\n",
    "url = 'http://papers.genomics.lbl.gov/cgi-bin/litSearch.cgi?query=YGR248W&Search=Search'\n",
    "resp = requests.get(url)"
   ]
  },
  {
   "cell_type": "code",
   "execution_count": null,
   "metadata": {},
   "outputs": [],
   "source": [
    "with open('paperblast_YGR248W.html', 'w') as fh:\n",
    "    fh.write(resp.text)"
   ]
  },
  {
   "cell_type": "code",
   "execution_count": 43,
   "metadata": {},
   "outputs": [],
   "source": [
    "from html.parser import HTMLParser\n",
    "from lxml import etree"
   ]
  },
  {
   "cell_type": "code",
   "execution_count": 44,
   "metadata": {},
   "outputs": [],
   "source": [
    "#import xml.etree.ElementTree as ET"
   ]
  },
  {
   "cell_type": "code",
   "execution_count": null,
   "metadata": {},
   "outputs": [],
   "source": [
    "tree = ET.parse('country_data.xml')\n",
    "root = tree.getroot()"
   ]
  },
  {
   "cell_type": "code",
   "execution_count": 205,
   "metadata": {},
   "outputs": [],
   "source": [
    "%run ../../annotation-server/paper_blast_parser.py"
   ]
  },
  {
   "cell_type": "code",
   "execution_count": 214,
   "metadata": {},
   "outputs": [
    {
     "name": "stdout",
     "output_type": "stream",
     "text": [
      "Until 5 examples:\n",
      "SOL4_YEAST / P53315 Saccharomyces cerevisiae (strain ATCC 204508 / S288c) (Baker's yeast)\n",
      "SOL3_YEAST / P38858 Saccharomyces cerevisiae (strain ATCC 204508 / S288c) (Baker's yeast)\n",
      "PAS_chr3_1126 Komagataella phaffii GS115\n",
      "SPCC16C4.10 Schizosaccharomyces pombe\n",
      "AFLA_080390 Aspergillus flavus NRRL3357\n"
     ]
    }
   ],
   "source": [
    "pbp = PaperBlastParser()\n",
    "pbp.feed(resp.text)\n",
    "\n",
    "print('Until 5 examples:')\n",
    "for k in list(pbp.data)[:5]:\n",
    "    print(k, pbp.data[k]['organism'])"
   ]
  },
  {
   "cell_type": "code",
   "execution_count": null,
   "metadata": {},
   "outputs": [],
   "source": []
  },
  {
   "cell_type": "code",
   "execution_count": null,
   "metadata": {},
   "outputs": [],
   "source": []
  },
  {
   "cell_type": "code",
   "execution_count": null,
   "metadata": {},
   "outputs": [],
   "source": []
  },
  {
   "cell_type": "code",
   "execution_count": null,
   "metadata": {},
   "outputs": [],
   "source": []
  },
  {
   "cell_type": "code",
   "execution_count": null,
   "metadata": {},
   "outputs": [],
   "source": []
  },
  {
   "cell_type": "code",
   "execution_count": null,
   "metadata": {},
   "outputs": [],
   "source": []
  }
 ],
 "metadata": {
  "kernelspec": {
   "display_name": "Python 3",
   "language": "python",
   "name": "python3"
  },
  "language_info": {
   "codemirror_mode": {
    "name": "ipython",
    "version": 3
   },
   "file_extension": ".py",
   "mimetype": "text/x-python",
   "name": "python",
   "nbconvert_exporter": "python",
   "pygments_lexer": "ipython3",
   "version": "3.7.4"
  }
 },
 "nbformat": 4,
 "nbformat_minor": 4
}
