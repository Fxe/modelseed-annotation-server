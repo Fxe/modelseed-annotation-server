{
 "cells": [
  {
   "cell_type": "code",
   "execution_count": 1,
   "metadata": {},
   "outputs": [
    {
     "name": "stdout",
     "output_type": "stream",
     "text": [
      "cobrakbase 0.2.7\n"
     ]
    }
   ],
   "source": [
    "import cobrakbase"
   ]
  },
  {
   "cell_type": "code",
   "execution_count": 3,
   "metadata": {},
   "outputs": [
    {
     "name": "stdout",
     "output_type": "stream",
     "text": [
      "CPU times: user 16.1 s, sys: 201 ms, total: 16.3 s\n",
      "Wall time: 16.4 s\n"
     ]
    }
   ],
   "source": [
    "%%time\n",
    "modelseed_local = cobrakbase.modelseed.from_local('/Users/fliu/workspace/jupyter/ModelSEEDDatabase')"
   ]
  },
  {
   "cell_type": "code",
   "execution_count": 64,
   "metadata": {},
   "outputs": [],
   "source": [
    "index = {}\n",
    "for rxn_id in modelseed_local.reactions:\n",
    "    rxn = modelseed_local.get_seed_reaction(rxn_id)\n",
    "    cs = rxn.cstoichiometry\n",
    "    for p in cs:\n",
    "        if p[0] not in index:\n",
    "            index[p[0]] = set()\n",
    "        index[p[0]].add(rxn_id)"
   ]
  },
  {
   "cell_type": "code",
   "execution_count": 72,
   "metadata": {},
   "outputs": [],
   "source": [
    "comps = {}\n",
    "rxn_len = {}\n",
    "n_obs = set()\n",
    "for rxn_id in modelseed_local.reactions:\n",
    "    rxn = modelseed_local.get_seed_reaction(rxn_id)\n",
    "    if not rxn.is_obsolete:\n",
    "        n_obs.add(rxn_id)\n",
    "    cs = rxn.cstoichiometry\n",
    "    c = len(set(map(lambda x: x[1], cs)))\n",
    "    if c not in comps:\n",
    "        comps[c] = set()\n",
    "    comps[c].add(rxn_id)\n",
    "    c = len(cs)\n",
    "    if c not in rxn_len:\n",
    "        rxn_len[c] = set()\n",
    "    rxn_len[c].add(rxn_id)\n"
   ]
  },
  {
   "cell_type": "code",
   "execution_count": null,
   "metadata": {},
   "outputs": [],
   "source": [
    "   \n",
    "\n"
   ]
  },
  {
   "cell_type": "code",
   "execution_count": 77,
   "metadata": {},
   "outputs": [
    {
     "name": "stdout",
     "output_type": "stream",
     "text": [
      "rxn47815: 2.0 cpd00067 [1] + cpd16503 [0] + 2.0 cpd27746 [0] <=> 4.0 cpd00067 [0] + cpd07274 [0] + 2.0 cpd27884 [0]\n",
      "(2) H+[1] + (1) Plastoquinol-9[0] + (2) Oxidized-Plastocyanins[0] <=> (4) H+[0] + (1) Plastoquinone A[0] + (2) Plastocyanin-Reduced[0]\n",
      "rxn46370: cpd00007 [0] + 4.0 cpd00067 [0] + 2.0 cpd16503 [0] <=> 2.0 cpd00001 [0] + 4.0 cpd00067 [1] + 2.0 cpd07274 [0] + cpd11632 [0]\n",
      "(1) O2[0] + (4) H+[0] + (2) Plastoquinol-9[0] <=> (2) H2O[0] + (4) H+[1] + (2) Plastoquinone A[0] + (1) hn[0]\n",
      "rxn40737: 4.0 cpd00067 [0] + cpd07274 [0] + 2.0 cpd12713 [0] <=> 2.0 cpd00067 [1] + cpd16503 [0]\n",
      "(4) H+[0] + (1) Plastoquinone A[0] + (2) e-[0] <=> (2) H+[1] + (1) Plastoquinol-9[0]\n",
      "crxn00002: cpd16503 [1] + 2.0 cpd12265 [0] <=> 2.0 cpd00067 [0] + 2.0 cpd12239 [0] + cpd07274 [1]\n",
      "(1.0) Plastoquinol-9[1] + (2.0) Oxidized plastocyanin[0] <=> (2.0) H+[0] + (2.0) Reduced plastocyanin[0] + (1.0) Plastoquinone A[1]\n"
     ]
    }
   ],
   "source": [
    "res = (index['cpd07274'] & index['cpd16503'] & comps[2] & n_obs)\n",
    "for rxn_id in res:\n",
    "    rxn = modelseed_local.get_seed_reaction(rxn_id)\n",
    "    print(rxn)\n",
    "    print(rxn.data['definition'])"
   ]
  },
  {
   "cell_type": "code",
   "execution_count": 73,
   "metadata": {},
   "outputs": [
    {
     "name": "stdout",
     "output_type": "stream",
     "text": [
      "rxn08173: cpd00008 [0] + cpd00009 [0] + 4.0 cpd00067 [1] --> cpd00001 [0] + cpd00002 [0] + 3.0 cpd00067 [0]\n",
      "rxn30646: cpd00008 [0] + cpd00009 [0] + 5.0 cpd00067 [0] <-- cpd00001 [0] + cpd00002 [0] + 4.0 cpd00067 [1]\n",
      "rxn31585: 3.0 cpd00008 [0] + 3.0 cpd00009 [0] + 14.0 cpd00067 [1] <-- 3.0 cpd00001 [0] + 3.0 cpd00002 [0] + 11.0 cpd00067 [0]\n",
      "rxn34197: cpd00002 [1] + cpd00008 [0] + 3.0 cpd00067 [0] <=> cpd00002 [0] + cpd00008 [1] + 3.0 cpd00067 [1]\n",
      "rxn10443: cpd00001 [0] + cpd00002 [0] + cpd00067 [0] --> cpd00008 [0] + cpd00009 [0] + 2.0 cpd00067 [1]\n",
      "rxn29496: cpd00001 [0] + cpd00002 [0] + cpd00067 [1] --> cpd00008 [0] + cpd00009 [0] + 2.0 cpd00067 [0]\n",
      "rxn09528: cpd00008 [0] + cpd00009 [0] + 3.0 cpd00067 [1] <-- cpd00001 [0] + cpd00002 [0] + 2.0 cpd00067 [0]\n",
      "rxn09780: cpd00002 [1] + cpd00008 [0] + cpd00067 [0] <=> cpd00002 [0] + cpd00008 [1] + cpd00067 [1]\n",
      "rxn05145: cpd00001 [0] + cpd00002 [0] + cpd00009 [1] --> cpd00008 [0] + 2.0 cpd00009 [0] + cpd00067 [0]\n"
     ]
    }
   ],
   "source": [
    "res = (index['cpd00002'] & index['cpd00008'] & index['cpd00067'] & comps[2] & rxn_len[6] & n_obs)\n",
    "for rxn_id in res:\n",
    "    rxn = modelseed_local.get_seed_reaction(rxn_id)\n",
    "    print(rxn)"
   ]
  },
  {
   "cell_type": "code",
   "execution_count": 17,
   "metadata": {},
   "outputs": [],
   "source": [
    "import pandas as pd\n",
    "import copy"
   ]
  },
  {
   "cell_type": "code",
   "execution_count": 7,
   "metadata": {},
   "outputs": [],
   "source": [
    "df = pd.read_csv('../data/custom_reactions.tsv', sep='\\t')"
   ]
  },
  {
   "cell_type": "code",
   "execution_count": 23,
   "metadata": {},
   "outputs": [],
   "source": [
    "rxns = {}\n",
    "for row_id, d in df.iterrows():\n",
    "    rxn_id = d['rxn_id']\n",
    "    name = d['Name']\n",
    "    cpd_id = d['cpd_id']\n",
    "    coeff = d['coeff']\n",
    "    cmp_token = d['cmp']\n",
    "    if rxn_id not in rxns:\n",
    "        rxns[rxn_id] = copy.deepcopy(base)\n",
    "        rxns[rxn_id]['metabolites'] = {}\n",
    "    rxns[rxn_id]['id'] = rxn_id\n",
    "    rxns[rxn_id]['name'] = name\n",
    "    rxns[rxn_id]['abbreviation'] = rxn_id\n",
    "    cc = (cpd_id, cmp_token)\n",
    "    if cc not in rxns[rxn_id]['metabolites']:\n",
    "        rxns[rxn_id]['metabolites'][cc] = coeff"
   ]
  },
  {
   "cell_type": "code",
   "execution_count": 45,
   "metadata": {},
   "outputs": [],
   "source": [
    "import math\n",
    "def to_stoichiometry(cs):\n",
    "    l = []\n",
    "    for p in cs:\n",
    "        cpd = modelseed_local.get_seed_compound(p[0])\n",
    "        ss = '{}:{}:{}:{}:\"{}\"'.format(cs[p], p[0], p[1], '0', cpd.name)\n",
    "        l.append(ss)\n",
    "    return \";\".join(l)\n",
    "def to_equation(cs):\n",
    "    lhs = []\n",
    "    rhs = []\n",
    "    for p in cs:\n",
    "        coeff = cs[p]\n",
    "        if coeff < 0:\n",
    "            lhs.append(\"({}) {}[{}]\".format(math.fabs(coeff), p[0], p[1]))\n",
    "        else:\n",
    "            rhs.append(\"({}) {}[{}]\".format(math.fabs(coeff), p[0], p[1]))\n",
    "    return \"{} <=> {}\".format(' + '.join(lhs), ' + '.join(rhs))\n",
    "def to_definition(cs):\n",
    "    lhs = []\n",
    "    rhs = []\n",
    "    for p in cs:\n",
    "        coeff = cs[p]\n",
    "        cpd = modelseed_local.get_seed_compound(p[0])\n",
    "        if coeff < 0:\n",
    "            lhs.append(\"({}) {}[{}]\".format(math.fabs(coeff), cpd.name, p[1]))\n",
    "        else:\n",
    "            rhs.append(\"({}) {}[{}]\".format(math.fabs(coeff), cpd.name, p[1]))\n",
    "    return \"{} <=> {}\".format(' + '.join(lhs), ' + '.join(rhs))"
   ]
  },
  {
   "cell_type": "code",
   "execution_count": 57,
   "metadata": {},
   "outputs": [],
   "source": [
    "for rxn_id in rxns:\n",
    "    cs = rxns[rxn_id]['metabolites']\n",
    "    rxns[rxn_id]['code'] = to_equation(cs)\n",
    "    rxns[rxn_id]['equation'] = to_equation(cs)\n",
    "    rxns[rxn_id]['stoichiometry'] = to_stoichiometry(cs)\n",
    "    rxns[rxn_id]['definition'] = to_definition(cs)\n",
    "    rxns[rxn_id]['compound_ids'] = ';'.join(set(map(lambda x: x[0], cs)))\n",
    "    rxns[rxn_id]['linked_reaction'] = ''\n",
    "    rxns[rxn_id]['pathways'] = 'MetaCyc: Photosynthesis light reactions'\n",
    "    rxns[rxn_id]['aliases'] = ''\n",
    "    modelseed_local.reactions[rxn_id] = copy.deepcopy(rxns[rxn_id])"
   ]
  },
  {
   "cell_type": "code",
   "execution_count": 62,
   "metadata": {},
   "outputs": [
    {
     "data": {
      "text/plain": [
       "{('cpd00067', '0'): -4.0,\n",
       " ('cpd11632', '1'): -4.0,\n",
       " ('cpd07274', '3'): -2.0,\n",
       " ('cpd16503', '3'): 2.0,\n",
       " ('cpd00001', '2'): -2.0,\n",
       " ('cpd00007', '2'): 1.0,\n",
       " ('cpd00067', '2'): 4.0}"
      ]
     },
     "execution_count": 62,
     "metadata": {},
     "output_type": "execute_result"
    }
   ],
   "source": [
    "rxn = modelseed_local.get_seed_reaction('crxn00001')\n",
    "rxn.cstoichiometry"
   ]
  },
  {
   "cell_type": "code",
   "execution_count": 12,
   "metadata": {},
   "outputs": [],
   "source": [
    "base = {\n",
    "    'id': 'rxn00001',\n",
    "    'abbreviation': 'R00004',\n",
    "    'name': 'diphosphate phosphohydrolase',\n",
    "    'code': '(1) cpd00001[0] + (1) cpd00012[0] <=> (2) cpd00009[0]',\n",
    "    'stoichiometry': '-1:cpd00001:0:0:\"H2O\";-1:cpd00012:0:0:\"PPi\";2:cpd00009:0:0:\"Phosphate\";1:cpd00067:0:0:\"H+\"',\n",
    "    'equation': '(1) cpd00001[0] + (1) cpd00012[0] <=> (2) cpd00009[0] + (1) cpd00067[0]',\n",
    "    'definition': '(1) H2O[0] + (1) PPi[0] <=> (2) Phosphate[0] + (1) H+[0]',\n",
    "    'is_transport': 0,\n",
    "    'reversibility': '>',\n",
    "    'direction': '=',\n",
    "    'abstract_reaction': None,\n",
    "    'pathways': 'MetaCyc: Degradation (Degradation/Utilization/Assimilation); Glyphosate-Degradation (glyphosate degradation); Noncarbon-Nutrients (Inorganic Nutrient Metabolism); PWY-7805 ((aminomethyl)phosphonate degradation); PWY-7807 (glyphosate degradation III); Phosphorus-Compounds (Phosphorus Compound Metabolism)',\n",
    "    'aliases': 'AraCyc: INORGPYROPHOSPHAT-RXN|BiGG: IPP1; PPA; PPA_1; PPAm|BrachyCyc: INORGPYROPHOSPHAT-RXN|KEGG: R00004|MetaCyc: INORGPYROPHOSPHAT-RXN|Name: Diphosphate phosphohydrolase; Inorganic diphosphatase; Inorganic pyrophosphatase; Pyrophosphate phosphohydrolase; diphosphate phosphohydrolase; inorganic diphosphatase; inorganic diphosphatase (one proton translocation); inorganicdiphosphatase; pyrophosphate phosphohydrolase',\n",
    "    'ec_numbers': '3.6.1.1',\n",
    "    'deltag': -3.46,\n",
    "    'deltagerr': 0.05,\n",
    "    'compound_ids': 'cpd00001;cpd00009;cpd00012;cpd00067',\n",
    "    'status': 'OK',\n",
    "    'is_obsolete': 0,\n",
    "    'linked_reaction': 'rxn27946;rxn27947;rxn27948;rxn32487;rxn38157;rxn38158',\n",
    "    'notes': 'GCC|HB|EQC|EQU',\n",
    "    'source': 'Primary Database'\n",
    "}"
   ]
  },
  {
   "cell_type": "code",
   "execution_count": 56,
   "metadata": {},
   "outputs": [
    {
     "data": {
      "text/plain": [
       "{'crxn00001': {'id': 'crxn00001',\n",
       "  'abbreviation': 'crxn00001',\n",
       "  'name': 'Photosystem II',\n",
       "  'code': '(4.0) cpd00067[0] + (4.0) cpd11632[1] + (2.0) cpd07274[3] + (2.0) cpd00001[2] <=> (2.0) cpd16503[3] + (1.0) cpd00007[2] + (4.0) cpd00067[2]',\n",
       "  'stoichiometry': '-4:cpd00067:0:0:\"H+\";-4:cpd11632:1:0:\"hn\";-2:cpd07274:3:0:\"Plastoquinone A\";2:cpd16503:3:0:\"Plastoquinol-9\";-2:cpd00001:2:0:\"H2O\";1:cpd00007:2:0:\"O2\";4:cpd00067:2:0:\"H+\"',\n",
       "  'equation': '(4.0) cpd00067[0] + (4.0) cpd11632[1] + (2.0) cpd07274[3] + (2.0) cpd00001[2] <=> (2.0) cpd16503[3] + (1.0) cpd00007[2] + (4.0) cpd00067[2]',\n",
       "  'definition': '(4.0) H+[0] + (4.0) hn[1] + (2.0) Plastoquinone A[3] + (2.0) H2O[2] <=> (2.0) Plastoquinol-9[3] + (1.0) O2[2] + (4.0) H+[2]',\n",
       "  'is_transport': 0,\n",
       "  'reversibility': '>',\n",
       "  'direction': '=',\n",
       "  'abstract_reaction': None,\n",
       "  'pathways': 'MetaCyc: Photosynthesis light reactions',\n",
       "  'aliases': '',\n",
       "  'ec_numbers': '3.6.1.1',\n",
       "  'deltag': -3.46,\n",
       "  'deltagerr': 0.05,\n",
       "  'compound_ids': 'cpd07274;cpd00007;cpd00001;cpd00067;cpd11632;cpd16503',\n",
       "  'status': 'OK',\n",
       "  'is_obsolete': 0,\n",
       "  'linked_reaction': '',\n",
       "  'notes': 'GCC|HB|EQC|EQU',\n",
       "  'source': 'Primary Database',\n",
       "  'metabolites': {('cpd00067', 0): -4,\n",
       "   ('cpd11632', 1): -4,\n",
       "   ('cpd07274', 3): -2,\n",
       "   ('cpd16503', 3): 2,\n",
       "   ('cpd00001', 2): -2,\n",
       "   ('cpd00007', 2): 1,\n",
       "   ('cpd00067', 2): 4}},\n",
       " 'crxn00002': {'id': 'crxn00002',\n",
       "  'abbreviation': 'crxn00002',\n",
       "  'name': 'Plastoquinone:cytochrome b6 oxidoreductase',\n",
       "  'code': '(1.0) cpd16503[1] + (2.0) cpd12265[0] <=> (2.0) cpd00067[0] + (2.0) cpd12239[0] + (1.0) cpd07274[1]',\n",
       "  'stoichiometry': '-1:cpd16503:1:0:\"Plastoquinol-9\";-2:cpd12265:0:0:\"Oxidized plastocyanin\";2:cpd00067:0:0:\"H+\";2:cpd12239:0:0:\"Reduced plastocyanin\";1:cpd07274:1:0:\"Plastoquinone A\"',\n",
       "  'equation': '(1.0) cpd16503[1] + (2.0) cpd12265[0] <=> (2.0) cpd00067[0] + (2.0) cpd12239[0] + (1.0) cpd07274[1]',\n",
       "  'definition': '(1.0) Plastoquinol-9[1] + (2.0) Oxidized plastocyanin[0] <=> (2.0) H+[0] + (2.0) Reduced plastocyanin[0] + (1.0) Plastoquinone A[1]',\n",
       "  'is_transport': 0,\n",
       "  'reversibility': '>',\n",
       "  'direction': '=',\n",
       "  'abstract_reaction': None,\n",
       "  'pathways': 'MetaCyc: Photosynthesis light reactions',\n",
       "  'aliases': '',\n",
       "  'ec_numbers': '3.6.1.1',\n",
       "  'deltag': -3.46,\n",
       "  'deltagerr': 0.05,\n",
       "  'compound_ids': 'cpd12265;cpd07274;cpd12239;cpd00067;cpd16503',\n",
       "  'status': 'OK',\n",
       "  'is_obsolete': 0,\n",
       "  'linked_reaction': '',\n",
       "  'notes': 'GCC|HB|EQC|EQU',\n",
       "  'source': 'Primary Database',\n",
       "  'metabolites': {('cpd16503', 1): -1,\n",
       "   ('cpd12265', 0): -2,\n",
       "   ('cpd00067', 0): 2,\n",
       "   ('cpd12239', 0): 2,\n",
       "   ('cpd07274', 1): 1}},\n",
       " 'crxn00003': {'id': 'crxn00003',\n",
       "  'abbreviation': 'crxn00003',\n",
       "  'name': 'Photosystem I',\n",
       "  'code': '(1.0) cpd11632[1] + (1.0) cpd12239[2] + (1.0) cpd11621[0] <=> (1.0) cpd12265[2] + (1.0) cpd11620[0]',\n",
       "  'stoichiometry': '-1:cpd11632:1:0:\"hn\";-1:cpd12239:2:0:\"Reduced plastocyanin\";-1:cpd11621:0:0:\"Oxidizedferredoxin\";1:cpd12265:2:0:\"Oxidized plastocyanin\";1:cpd11620:0:0:\"Reducedferredoxin\"',\n",
       "  'equation': '(1.0) cpd11632[1] + (1.0) cpd12239[2] + (1.0) cpd11621[0] <=> (1.0) cpd12265[2] + (1.0) cpd11620[0]',\n",
       "  'definition': '(1.0) hn[1] + (1.0) Reduced plastocyanin[2] + (1.0) Oxidizedferredoxin[0] <=> (1.0) Oxidized plastocyanin[2] + (1.0) Reducedferredoxin[0]',\n",
       "  'is_transport': 0,\n",
       "  'reversibility': '>',\n",
       "  'direction': '=',\n",
       "  'abstract_reaction': None,\n",
       "  'pathways': 'MetaCyc: Photosynthesis light reactions',\n",
       "  'aliases': '',\n",
       "  'ec_numbers': '3.6.1.1',\n",
       "  'deltag': -3.46,\n",
       "  'deltagerr': 0.05,\n",
       "  'compound_ids': 'cpd12265;cpd11620;cpd12239;cpd11621;cpd11632',\n",
       "  'status': 'OK',\n",
       "  'is_obsolete': 0,\n",
       "  'linked_reaction': '',\n",
       "  'notes': 'GCC|HB|EQC|EQU',\n",
       "  'source': 'Primary Database',\n",
       "  'metabolites': {('cpd11632', 1): -1,\n",
       "   ('cpd12239', 2): -1,\n",
       "   ('cpd11621', 0): -1,\n",
       "   ('cpd12265', 2): 1,\n",
       "   ('cpd11620', 0): 1}},\n",
       " 'crxn00004': {'id': 'crxn00004',\n",
       "  'abbreviation': 'crxn00004',\n",
       "  'name': 'Ferredoxin-NADP reductase',\n",
       "  'code': '(2.0) cpd11620[0] + (1.0) cpd00006[0] + (1.0) cpd00067[0] <=> (1.0) cpd00005[0] + (2.0) cpd11621[0]',\n",
       "  'stoichiometry': '-2:cpd11620:0:0:\"Reducedferredoxin\";-1:cpd00006:0:0:\"NADP\";-1:cpd00067:0:0:\"H+\";1:cpd00005:0:0:\"NADPH\";2:cpd11621:0:0:\"Oxidizedferredoxin\"',\n",
       "  'equation': '(2.0) cpd11620[0] + (1.0) cpd00006[0] + (1.0) cpd00067[0] <=> (1.0) cpd00005[0] + (2.0) cpd11621[0]',\n",
       "  'definition': '(2.0) Reducedferredoxin[0] + (1.0) NADP[0] + (1.0) H+[0] <=> (1.0) NADPH[0] + (2.0) Oxidizedferredoxin[0]',\n",
       "  'is_transport': 0,\n",
       "  'reversibility': '>',\n",
       "  'direction': '=',\n",
       "  'abstract_reaction': None,\n",
       "  'pathways': 'MetaCyc: Photosynthesis light reactions',\n",
       "  'aliases': '',\n",
       "  'ec_numbers': '3.6.1.1',\n",
       "  'deltag': -3.46,\n",
       "  'deltagerr': 0.05,\n",
       "  'compound_ids': 'cpd11620;cpd00006;cpd00005;cpd11621;cpd00067',\n",
       "  'status': 'OK',\n",
       "  'is_obsolete': 0,\n",
       "  'linked_reaction': '',\n",
       "  'notes': 'GCC|HB|EQC|EQU',\n",
       "  'source': 'Primary Database',\n",
       "  'metabolites': {('cpd11620', 0): -2,\n",
       "   ('cpd00006', 0): -1,\n",
       "   ('cpd00067', 0): -1,\n",
       "   ('cpd00005', 0): 1,\n",
       "   ('cpd11621', 0): 2}}}"
      ]
     },
     "execution_count": 56,
     "metadata": {},
     "output_type": "execute_result"
    }
   ],
   "source": [
    "rxns"
   ]
  },
  {
   "cell_type": "code",
   "execution_count": null,
   "metadata": {},
   "outputs": [],
   "source": []
  }
 ],
 "metadata": {
  "kernelspec": {
   "display_name": "Python 3",
   "language": "python",
   "name": "python3"
  },
  "language_info": {
   "codemirror_mode": {
    "name": "ipython",
    "version": 3
   },
   "file_extension": ".py",
   "mimetype": "text/x-python",
   "name": "python",
   "nbconvert_exporter": "python",
   "pygments_lexer": "ipython3",
   "version": "3.7.4"
  }
 },
 "nbformat": 4,
 "nbformat_minor": 4
}
