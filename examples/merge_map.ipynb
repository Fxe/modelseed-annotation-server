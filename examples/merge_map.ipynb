{
 "cells": [
  {
   "cell_type": "code",
   "execution_count": 1,
   "metadata": {},
   "outputs": [],
   "source": [
    "%run ../../scripts/bios_utils.py"
   ]
  },
  {
   "cell_type": "code",
   "execution_count": 2,
   "metadata": {},
   "outputs": [],
   "source": [
    "import escher\n",
    "import modelseed_escher\n",
    "from modelseed_escher.map import EscherCluster"
   ]
  },
  {
   "cell_type": "code",
   "execution_count": 3,
   "metadata": {},
   "outputs": [],
   "source": [
    "escher_manager = modelseed_escher.EscherManager(escher)"
   ]
  },
  {
   "cell_type": "code",
   "execution_count": 4,
   "metadata": {},
   "outputs": [],
   "source": [
    "data = read_json('/Users/fliu/workspace/jupyter/data/www/annotation/data/latest_cluster.json')\n",
    "em = modelseed_escher.core.EscherMap(data['escher_map'])\n",
    "em_merge = em.clone()\n",
    "em_grid = data['grid']"
   ]
  },
  {
   "cell_type": "code",
   "execution_count": 5,
   "metadata": {},
   "outputs": [],
   "source": [
    "%run ../escher_grid_merge.py"
   ]
  },
  {
   "cell_type": "code",
   "execution_count": 6,
   "metadata": {},
   "outputs": [
    {
     "name": "stdout",
     "output_type": "stream",
     "text": [
      "1167 ModelSEED.Tryptophan Biosynthesis 0 0 1778.70703125 3036.2708740234375 c\n",
      "1241 ModelSEED.Tryptophan Biosynthesis 1 0 1778.70703125 3036.2708740234375 c\n",
      "1315 ModelSEED.Tryptophan Biosynthesis 2 0 1778.70703125 3036.2708740234375 c\n",
      "1389 ModelSEED.Tryptophan Biosynthesis 3 0 1778.70703125 3036.2708740234375 c\n",
      "1463 ModelSEED.Tryptophan Biosynthesis 4 0 1778.70703125 3036.2708740234375 c\n",
      "1537 ModelSEED.Tryptophan Biosynthesis 0 1 1778.70703125 3036.2708740234375 c\n",
      "1611 ModelSEED.Tryptophan Biosynthesis 1 1 1778.70703125 3036.2708740234375 c\n",
      "1685 ModelSEED.Tryptophan Biosynthesis 2 1 1778.70703125 3036.2708740234375 c\n",
      "1759 ModelSEED.Tryptophan Biosynthesis 3 1 1778.70703125 3036.2708740234375 c\n",
      "1833 ModelSEED.Tryptophan Biosynthesis 4 1 1778.70703125 3036.2708740234375 c\n",
      "1907 ModelSEED.Tryptophan Biosynthesis 0 2 1778.70703125 3036.2708740234375 c\n",
      "1981 ModelSEED.Tryptophan Biosynthesis 1 2 1778.70703125 3036.2708740234375 c\n",
      "2055 ModelSEED.Tryptophan Biosynthesis 2 2 1778.70703125 3036.2708740234375 c\n",
      "2129 ModelSEED.Tryptophan Biosynthesis 3 2 1778.70703125 3036.2708740234375 c\n",
      "2203 ModelSEED.Tryptophan Biosynthesis 4 2 1778.70703125 3036.2708740234375 c\n",
      "2277 ModelSEED.Tryptophan Biosynthesis 0 3 1778.70703125 3036.2708740234375 c\n",
      "2351 ModelSEED.Tryptophan Biosynthesis 1 3 1778.70703125 3036.2708740234375 c\n"
     ]
    }
   ],
   "source": [
    "em = merge_with_layer(data, escher_manager)"
   ]
  },
  {
   "cell_type": "code",
   "execution_count": null,
   "metadata": {},
   "outputs": [],
   "source": []
  },
  {
   "cell_type": "code",
   "execution_count": 6,
   "metadata": {},
   "outputs": [
    {
     "name": "stdout",
     "output_type": "stream",
     "text": [
      "1167 ModelSEED.Tryptophan Biosynthesis 0 0 1778.70703125 3036.2708740234375 c\n",
      "1241 ModelSEED.Tryptophan Biosynthesis 1 0 1778.70703125 3036.2708740234375 c\n",
      "1315 ModelSEED.Tryptophan Biosynthesis 2 0 1778.70703125 3036.2708740234375 c\n",
      "1389 ModelSEED.Tryptophan Biosynthesis 3 0 1778.70703125 3036.2708740234375 c\n",
      "1463 ModelSEED.Tryptophan Biosynthesis 4 0 1778.70703125 3036.2708740234375 c\n",
      "1537 ModelSEED.Tryptophan Biosynthesis 0 1 1778.70703125 3036.2708740234375 c\n",
      "1611 ModelSEED.Tryptophan Biosynthesis 1 1 1778.70703125 3036.2708740234375 c\n",
      "1685 ModelSEED.Tryptophan Biosynthesis 2 1 1778.70703125 3036.2708740234375 c\n",
      "1759 ModelSEED.Tryptophan Biosynthesis 3 1 1778.70703125 3036.2708740234375 c\n",
      "1833 ModelSEED.Tryptophan Biosynthesis 4 1 1778.70703125 3036.2708740234375 c\n",
      "1907 ModelSEED.Tryptophan Biosynthesis 0 2 1778.70703125 3036.2708740234375 c\n",
      "1981 ModelSEED.Tryptophan Biosynthesis 1 2 1778.70703125 3036.2708740234375 c\n",
      "2055 ModelSEED.Tryptophan Biosynthesis 2 2 1778.70703125 3036.2708740234375 c\n",
      "2129 ModelSEED.Tryptophan Biosynthesis 3 2 1778.70703125 3036.2708740234375 c\n",
      "2203 ModelSEED.Tryptophan Biosynthesis 4 2 1778.70703125 3036.2708740234375 c\n",
      "2277 ModelSEED.Tryptophan Biosynthesis 0 3 1778.70703125 3036.2708740234375 c\n",
      "2351 ModelSEED.Tryptophan Biosynthesis 1 3 1778.70703125 3036.2708740234375 c\n"
     ]
    }
   ],
   "source": [
    "em = add_layers(em, em_grid, escher_manager)"
   ]
  },
  {
   "cell_type": "code",
   "execution_count": 8,
   "metadata": {},
   "outputs": [],
   "source": [
    "ec = EscherCluster(25)\n",
    "cpd_clusters = ec.cluster(em)\n",
    "rxn_clusters = ec.compute_all_metabolite_clusters(em.escher_graph, 'midmarker')"
   ]
  },
  {
   "cell_type": "code",
   "execution_count": 14,
   "metadata": {},
   "outputs": [],
   "source": [
    "rxn_uid_to_cluster = {}\n",
    "for uid_set in rxn_clusters:\n",
    "    for uid in uid_set:\n",
    "        rxn_uid_to_cluster[uid] = uid_set"
   ]
  },
  {
   "cell_type": "code",
   "execution_count": 20,
   "metadata": {},
   "outputs": [],
   "source": []
  },
  {
   "cell_type": "code",
   "execution_count": null,
   "metadata": {},
   "outputs": [],
   "source": [
    "for uid_set in rxn_clusters:\n",
    "    seed_id = None\n",
    "    for uid in uid_set:\n",
    "        n = em.nodes[uid]\n",
    "        if 'rxn_id' in n:\n",
    "            seed_id = n['rxn_id']\n",
    "    break"
   ]
  },
  {
   "cell_type": "code",
   "execution_count": 26,
   "metadata": {},
   "outputs": [],
   "source": []
  },
  {
   "cell_type": "code",
   "execution_count": null,
   "metadata": {},
   "outputs": [],
   "source": []
  },
  {
   "cell_type": "code",
   "execution_count": null,
   "metadata": {},
   "outputs": [],
   "source": [
    "def add_reactions(em1, em2, next_id, uid_remap):\n",
    "    for uid in em1.reactions:\n",
    "        rxn_node = em1.reactions[uid]\n",
    "        rxn_node_copy = copy.deepcopy(rxn_node)\n",
    "        em2.escher_graph['reactions'][next_id] = rxn_node_copy\n",
    "        pass\n",
    "    return next_id"
   ]
  },
  {
   "cell_type": "code",
   "execution_count": 14,
   "metadata": {},
   "outputs": [
    {
     "data": {
      "text/plain": [
       "{'authors': ['Matthew Hoffman'],\n",
       " 'homepage': 'http://modelseed.org',\n",
       " 'map_description': 'Tryptophan Biosynthesis',\n",
       " 'map_id': 'oAYQ7ne0mWgb',\n",
       " 'map_name': 'ModelSEED.Tryptophan Biosynthesis',\n",
       " 'schema': 'https://escher.github.io/escher/jsonschema/1-0-0#'}"
      ]
     },
     "execution_count": 14,
     "metadata": {},
     "output_type": "execute_result"
    }
   ],
   "source": [
    "em_merge.escher_map"
   ]
  },
  {
   "cell_type": "code",
   "execution_count": 11,
   "metadata": {},
   "outputs": [
    {
     "data": {
      "text/plain": [
       "{'name': 'rxn01682',\n",
       " 'bigg_id': 'rxn01682',\n",
       " 'reversibility': False,\n",
       " 'label_x': 47.29827880859375,\n",
       " 'label_y': 99.85931777954102,\n",
       " 'gene_reaction_rule': '',\n",
       " 'genes': [],\n",
       " 'metabolites': [{'bigg_id': 'cpd02210', 'coefficient': -1},\n",
       "  {'bigg_id': 'cpd00102', 'coefficient': 1},\n",
       "  {'bigg_id': 'cpd00359', 'coefficient': 1}],\n",
       " 'segments': {'4': {'from_node_id': '6',\n",
       "   'to_node_id': '7',\n",
       "   'b1': None,\n",
       "   'b2': None},\n",
       "  '5': {'from_node_id': '8', 'to_node_id': '7', 'b1': None, 'b2': None},\n",
       "  '6': {'from_node_id': '6',\n",
       "   'to_node_id': '5',\n",
       "   'b1': {'x': 243.4620999006858, 'y': 52.97781720666172},\n",
       "   'b2': {'x': 275.4267578125, 'y': 76.75474548339844}},\n",
       "  '7': {'from_node_id': '8',\n",
       "   'to_node_id': '25',\n",
       "   'b1': {'x': -483.09044876591565, 'y': 64.23846046002745},\n",
       "   'b2': {'x': -434.0486755371094, 'y': 687.9887466430664}},\n",
       "  '8': {'from_node_id': '8',\n",
       "   'to_node_id': '15',\n",
       "   'b1': {'x': 12.690272459543678, 'y': 49.381744713504304},\n",
       "   'b2': {'x': -45.06074905395508, 'y': 91.9125804901123}}}}"
      ]
     },
     "execution_count": 11,
     "metadata": {},
     "output_type": "execute_result"
    }
   ],
   "source": [
    "seed_em.escher_graph['reactions']['1']"
   ]
  },
  {
   "cell_type": "code",
   "execution_count": 9,
   "metadata": {},
   "outputs": [],
   "source": [
    "seed_em = escher_manager.get_map('ModelSEED', 'ModelSEED', 'Tryptophan Biosynthesis')"
   ]
  },
  {
   "cell_type": "code",
   "execution_count": 43,
   "metadata": {},
   "outputs": [],
   "source": [
    "\n",
    "tag_midmarker_reaction(seed_em)"
   ]
  },
  {
   "cell_type": "code",
   "execution_count": 44,
   "metadata": {},
   "outputs": [
    {
     "name": "stdout",
     "output_type": "stream",
     "text": [
      "{'node_type': 'midmarker', 'x': 111.49923706054688, 'y': 49.33789825439453, 'rxn_id': 'rxn01682'}\n",
      "{'node_type': 'midmarker', 'x': -14.576927185058594, 'y': 348.1068115234375, 'rxn_id': 'rxn00474'}\n",
      "{'node_type': 'midmarker', 'x': 233.14913940429688, 'y': 347.9958190917969, 'rxn_id': 'rxn01964'}\n",
      "{'node_type': 'midmarker', 'x': 358.71441650390625, 'y': -111.29603576660156, 'rxn_id': 'rxn02507'}\n",
      "{'node_type': 'midmarker', 'x': 502.9617614746094, 'y': -1244.9596557617188, 'rxn_id': 'rxn00727'}\n",
      "{'node_type': 'midmarker', 'x': 215.58065795898438, 'y': -1238.4853515625, 'rxn_id': 'rxn00726'}\n",
      "{'node_type': 'midmarker', 'x': 358.41937255859375, 'y': -464.0363006591797, 'rxn_id': 'rxn02508'}\n",
      "{'node_type': 'midmarker', 'x': 358.41937255859375, 'y': -814.0363006591797, 'rxn_id': 'rxn00791'}\n",
      "{'node_type': 'midmarker', 'x': 360.2904052734375, 'y': -1663.9940185546875, 'rxn_id': 'rxn01257'}\n"
     ]
    }
   ],
   "source": [
    "for uid in seed_em.nodes:\n",
    "    n = seed_em.nodes[uid]\n",
    "    if n['node_type'] == 'midmarker':\n",
    "        print(n)\n",
    "for uid in seed_em.escher_graph['reactions']:\n",
    "    n = seed_em.escher_graph['reactions'][uid]\n",
    "    "
   ]
  },
  {
   "cell_type": "code",
   "execution_count": 8,
   "metadata": {},
   "outputs": [],
   "source": []
  },
  {
   "cell_type": "code",
   "execution_count": 10,
   "metadata": {},
   "outputs": [],
   "source": []
  },
  {
   "cell_type": "code",
   "execution_count": 20,
   "metadata": {},
   "outputs": [],
   "source": []
  },
  {
   "cell_type": "code",
   "execution_count": 16,
   "metadata": {},
   "outputs": [],
   "source": [
    "uid_to_cluster = {}\n",
    "rxn_uid_to_cluster = {}\n",
    "for uid_set in cluster_data:\n",
    "    for uid in uid_set:\n",
    "        uid_to_cluster[uid] = uid_set\n",
    "for uid_set in rxn_clusters:\n",
    "    for uid in uid_set:\n",
    "        rxn_uid_to_cluster[uid] = uid_set"
   ]
  },
  {
   "cell_type": "code",
   "execution_count": 14,
   "metadata": {},
   "outputs": [],
   "source": []
  },
  {
   "cell_type": "code",
   "execution_count": 15,
   "metadata": {},
   "outputs": [],
   "source": [
    "\n",
    "        "
   ]
  },
  {
   "cell_type": "code",
   "execution_count": null,
   "metadata": {},
   "outputs": [],
   "source": [
    "for "
   ]
  },
  {
   "cell_type": "code",
   "execution_count": 72,
   "metadata": {},
   "outputs": [],
   "source": [
    "for uid in em_merge.escher_graph['reactions']:\n",
    "    n = em_merge.escher_graph['reactions'][uid]\n",
    "    pass"
   ]
  },
  {
   "cell_type": "code",
   "execution_count": 30,
   "metadata": {},
   "outputs": [],
   "source": [
    "def get_rxn_uid_from_midmarker(midmarker):\n",
    "    print(midmarker)\n",
    "    rxn_uid = None\n",
    "    for connected_segment in midmarker['connected_segments']:\n",
    "        if 'reaction_id' in connected_segment:\n",
    "            rxn_uid = connected_segment['reaction_id']\n",
    "    return rxn_uid"
   ]
  },
  {
   "cell_type": "code",
   "execution_count": 31,
   "metadata": {},
   "outputs": [
    {
     "name": "stdout",
     "output_type": "stream",
     "text": [
      "{'node_type': 'midmarker', 'x': 2632.0669860839844, 'y': 2494.2537536621094, 'connected_segments': [{'segment_id': '37', 'reaction_id': '44'}, {'segment_id': '38', 'reaction_id': '44'}], 'data': None, 'data_string': '', 'node_id': '5'}\n",
      "R_TRPS1@iCT646\n",
      "{'node_type': 'midmarker', 'x': 2632.0669860839844, 'y': 2494.2537536621094}\n"
     ]
    },
    {
     "ename": "KeyError",
     "evalue": "'connected_segments'",
     "output_type": "error",
     "traceback": [
      "\u001b[0;31m---------------------------------------------------------------------------\u001b[0m",
      "\u001b[0;31mKeyError\u001b[0m                                  Traceback (most recent call last)",
      "\u001b[0;32m<ipython-input-31-f02578352fd8>\u001b[0m in \u001b[0;36m<module>\u001b[0;34m\u001b[0m\n\u001b[1;32m      8\u001b[0m                 \u001b[0mprint\u001b[0m\u001b[0;34m(\u001b[0m\u001b[0mrxn_node\u001b[0m\u001b[0;34m[\u001b[0m\u001b[0;34m'bigg_id'\u001b[0m\u001b[0;34m]\u001b[0m\u001b[0;34m)\u001b[0m\u001b[0;34m\u001b[0m\u001b[0m\n\u001b[1;32m      9\u001b[0m                 \u001b[0;32mfor\u001b[0m \u001b[0mother_uid\u001b[0m \u001b[0;32min\u001b[0m \u001b[0mrxn_uid_to_cluster\u001b[0m\u001b[0;34m[\u001b[0m\u001b[0muid\u001b[0m\u001b[0;34m]\u001b[0m\u001b[0;34m:\u001b[0m\u001b[0;34m\u001b[0m\u001b[0m\n\u001b[0;32m---> 10\u001b[0;31m                     \u001b[0mrxn_uid\u001b[0m \u001b[0;34m=\u001b[0m \u001b[0mget_rxn_uid_from_midmarker\u001b[0m\u001b[0;34m(\u001b[0m\u001b[0mem\u001b[0m\u001b[0;34m.\u001b[0m\u001b[0mnodes\u001b[0m\u001b[0;34m[\u001b[0m\u001b[0mother_uid\u001b[0m\u001b[0;34m]\u001b[0m\u001b[0;34m)\u001b[0m\u001b[0;34m\u001b[0m\u001b[0m\n\u001b[0m\u001b[1;32m     11\u001b[0m                     \u001b[0;32mif\u001b[0m \u001b[0;32mnot\u001b[0m \u001b[0mrxn_uid\u001b[0m \u001b[0;34m==\u001b[0m \u001b[0;32mNone\u001b[0m\u001b[0;34m:\u001b[0m\u001b[0;34m\u001b[0m\u001b[0m\n\u001b[1;32m     12\u001b[0m                         \u001b[0mprint\u001b[0m\u001b[0;34m(\u001b[0m\u001b[0mrxn_uid\u001b[0m\u001b[0;34m)\u001b[0m\u001b[0;34m\u001b[0m\u001b[0m\n",
      "\u001b[0;32m<ipython-input-30-4b512ce346ff>\u001b[0m in \u001b[0;36mget_rxn_uid_from_midmarker\u001b[0;34m(midmarker)\u001b[0m\n\u001b[1;32m      2\u001b[0m     \u001b[0mprint\u001b[0m\u001b[0;34m(\u001b[0m\u001b[0mmidmarker\u001b[0m\u001b[0;34m)\u001b[0m\u001b[0;34m\u001b[0m\u001b[0m\n\u001b[1;32m      3\u001b[0m     \u001b[0mrxn_uid\u001b[0m \u001b[0;34m=\u001b[0m \u001b[0;32mNone\u001b[0m\u001b[0;34m\u001b[0m\u001b[0m\n\u001b[0;32m----> 4\u001b[0;31m     \u001b[0;32mfor\u001b[0m \u001b[0mconnected_segment\u001b[0m \u001b[0;32min\u001b[0m \u001b[0mmidmarker\u001b[0m\u001b[0;34m[\u001b[0m\u001b[0;34m'connected_segments'\u001b[0m\u001b[0;34m]\u001b[0m\u001b[0;34m:\u001b[0m\u001b[0;34m\u001b[0m\u001b[0m\n\u001b[0m\u001b[1;32m      5\u001b[0m         \u001b[0;32mif\u001b[0m \u001b[0;34m'reaction_id'\u001b[0m \u001b[0;32min\u001b[0m \u001b[0mconnected_segment\u001b[0m\u001b[0;34m:\u001b[0m\u001b[0;34m\u001b[0m\u001b[0m\n\u001b[1;32m      6\u001b[0m             \u001b[0mrxn_uid\u001b[0m \u001b[0;34m=\u001b[0m \u001b[0mconnected_segment\u001b[0m\u001b[0;34m[\u001b[0m\u001b[0;34m'reaction_id'\u001b[0m\u001b[0;34m]\u001b[0m\u001b[0;34m\u001b[0m\u001b[0m\n",
      "\u001b[0;31mKeyError\u001b[0m: 'connected_segments'"
     ]
    }
   ],
   "source": [
    "for uid in em_merge.nodes:\n",
    "    n = em_merge.nodes[uid]\n",
    "    if n['node_type'] == 'midmarker':\n",
    "        if uid in rxn_uid_to_cluster:\n",
    "            rxn_uid = get_rxn_uid_from_midmarker(n)\n",
    "            if not rxn_uid == None:\n",
    "                rxn_node = em_merge.escher_graph['reactions'][rxn_uid]\n",
    "                print(rxn_node['bigg_id'])\n",
    "                for other_uid in rxn_uid_to_cluster[uid]:\n",
    "                    rxn_uid = get_rxn_uid_from_midmarker(em.nodes[other_uid])\n",
    "                    if not rxn_uid == None:\n",
    "                        print(rxn_uid)\n",
    "                        em.escher_graph['reactions']\n",
    "        break\n",
    "n"
   ]
  },
  {
   "cell_type": "code",
   "execution_count": 16,
   "metadata": {},
   "outputs": [
    {
     "name": "stdout",
     "output_type": "stream",
     "text": [
      "cobrakbase 0.2.2\n",
      "load: /Users/fliu/workspace/jupyter/ModelSEEDDatabase/Biochemistry/reactions.tsv\n",
      "load: /Users/fliu/workspace/jupyter/ModelSEEDDatabase/Biochemistry/compounds.tsv\n",
      "load: /Users/fliu/workspace/jupyter/ModelSEEDDatabase/Biochemistry/Structures/Unique_ModelSEED_Structures.txt\n",
      "load: /Users/fliu/workspace/jupyter/ModelSEEDDatabase/Biochemistry/Aliases/Unique_ModelSEED_Compound_Aliases.txt\n",
      "load: /Users/fliu/workspace/jupyter/ModelSEEDDatabase/Biochemistry/Aliases/Unique_ModelSEED_Reaction_Aliases.txt\n",
      "load: /Users/fliu/workspace/jupyter/ModelSEEDDatabase/Biochemistry/Aliases/Unique_ModelSEED_Reaction_ECs.txt\n"
     ]
    }
   ],
   "source": [
    "import cobrakbase\n",
    "modelseed_local = cobrakbase.modelseed.from_local('/Users/fliu/workspace/jupyter/ModelSEEDDatabase')"
   ]
  },
  {
   "cell_type": "code",
   "execution_count": 18,
   "metadata": {},
   "outputs": [
    {
     "data": {
      "text/plain": [
       "'H2O'"
      ]
     },
     "execution_count": 18,
     "metadata": {},
     "output_type": "execute_result"
    }
   ],
   "source": [
    "modelseed_local.get_seed_compound('cpd00001').name"
   ]
  },
  {
   "cell_type": "code",
   "execution_count": 54,
   "metadata": {},
   "outputs": [
    {
     "data": {
      "text/plain": [
       "'c'"
      ]
     },
     "execution_count": 54,
     "metadata": {},
     "output_type": "execute_result"
    }
   ],
   "source": [
    "\"cpd02210_c\"[-1:]"
   ]
  },
  {
   "cell_type": "code",
   "execution_count": 76,
   "metadata": {},
   "outputs": [],
   "source": [
    "#em_merge.display_in_notebook()"
   ]
  },
  {
   "cell_type": "code",
   "execution_count": 22,
   "metadata": {},
   "outputs": [
    {
     "data": {
      "text/plain": [
       "{'bigg_id': 'M_3ig3p_c@iCT646',\n",
       " 'compartment': 'c',\n",
       " 'label_x': 2793.2806396484375,\n",
       " 'label_y': 2320.822708129883,\n",
       " 'name': 'Indoleglycerol phosphate',\n",
       " 'node_is_primary': True,\n",
       " 'node_type': 'metabolite',\n",
       " 'x': 2760.9130859375,\n",
       " 'y': 2309.7714080810547,\n",
       " 'connected_segments': [{'segment_id': '40', 'reaction_id': '44'},\n",
       "  {'segment_id': '51', 'reaction_id': '52'}],\n",
       " 'data': None,\n",
       " 'data_string': '',\n",
       " 'node_id': '0'}"
      ]
     },
     "execution_count": 22,
     "metadata": {},
     "output_type": "execute_result"
    }
   ],
   "source": [
    "em.nodes['0']"
   ]
  },
  {
   "cell_type": "code",
   "execution_count": null,
   "metadata": {},
   "outputs": [],
   "source": []
  }
 ],
 "metadata": {
  "kernelspec": {
   "display_name": "Python 3",
   "language": "python",
   "name": "python3"
  },
  "language_info": {
   "codemirror_mode": {
    "name": "ipython",
    "version": 3
   },
   "file_extension": ".py",
   "mimetype": "text/x-python",
   "name": "python",
   "nbconvert_exporter": "python",
   "pygments_lexer": "ipython3",
   "version": "3.6.5"
  }
 },
 "nbformat": 4,
 "nbformat_minor": 2
}
