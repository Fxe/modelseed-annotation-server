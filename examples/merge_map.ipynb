{
 "cells": [
  {
   "cell_type": "code",
   "execution_count": 1,
   "metadata": {},
   "outputs": [],
   "source": [
    "%run ../../scripts/bios_utils.py"
   ]
  },
  {
   "cell_type": "code",
   "execution_count": 2,
   "metadata": {},
   "outputs": [],
   "source": [
    "import escher\n",
    "import modelseed_escher\n",
    "from modelseed_escher.map import EscherCluster"
   ]
  },
  {
   "cell_type": "code",
   "execution_count": 3,
   "metadata": {},
   "outputs": [],
   "source": [
    "escher_manager = modelseed_escher.EscherManager(escher)"
   ]
  },
  {
   "cell_type": "code",
   "execution_count": 4,
   "metadata": {},
   "outputs": [],
   "source": [
    "data = read_json('/Users/fliu/workspace/jupyter/data/www/annotation/data/latest_cluster.json')\n",
    "em = modelseed_escher.core.EscherMap(data['escher_map'])\n",
    "em_merge = em.clone()\n",
    "em_grid = data['grid']"
   ]
  },
  {
   "cell_type": "code",
   "execution_count": 5,
   "metadata": {},
   "outputs": [],
   "source": [
    "%run ../escher_grid_merge.py"
   ]
  },
  {
   "cell_type": "code",
   "execution_count": 6,
   "metadata": {},
   "outputs": [
    {
     "name": "stdout",
     "output_type": "stream",
     "text": [
      "1167 ModelSEED.Tryptophan Biosynthesis 0 0 1778.70703125 3036.2708740234375 c\n",
      "1241 ModelSEED.Tryptophan Biosynthesis 1 0 1778.70703125 3036.2708740234375 c\n",
      "1315 ModelSEED.Tryptophan Biosynthesis 2 0 1778.70703125 3036.2708740234375 c\n",
      "1389 ModelSEED.Tryptophan Biosynthesis 3 0 1778.70703125 3036.2708740234375 c\n",
      "1463 ModelSEED.Tryptophan Biosynthesis 4 0 1778.70703125 3036.2708740234375 c\n",
      "1537 ModelSEED.Tryptophan Biosynthesis 0 1 1778.70703125 3036.2708740234375 c\n",
      "1611 ModelSEED.Tryptophan Biosynthesis 1 1 1778.70703125 3036.2708740234375 c\n",
      "1685 ModelSEED.Tryptophan Biosynthesis 2 1 1778.70703125 3036.2708740234375 c\n",
      "1759 ModelSEED.Tryptophan Biosynthesis 3 1 1778.70703125 3036.2708740234375 c\n",
      "1833 ModelSEED.Tryptophan Biosynthesis 4 1 1778.70703125 3036.2708740234375 c\n",
      "1907 ModelSEED.Tryptophan Biosynthesis 0 2 1778.70703125 3036.2708740234375 c\n",
      "1981 ModelSEED.Tryptophan Biosynthesis 1 2 1778.70703125 3036.2708740234375 c\n",
      "2055 ModelSEED.Tryptophan Biosynthesis 2 2 1778.70703125 3036.2708740234375 c\n",
      "2129 ModelSEED.Tryptophan Biosynthesis 3 2 1778.70703125 3036.2708740234375 c\n",
      "2203 ModelSEED.Tryptophan Biosynthesis 4 2 1778.70703125 3036.2708740234375 c\n",
      "2277 ModelSEED.Tryptophan Biosynthesis 0 3 1778.70703125 3036.2708740234375 c\n",
      "2351 ModelSEED.Tryptophan Biosynthesis 1 3 1778.70703125 3036.2708740234375 c\n"
     ]
    }
   ],
   "source": [
    "em = merge_with_layer(data, escher_manager)"
   ]
  },
  {
   "cell_type": "code",
   "execution_count": null,
   "metadata": {},
   "outputs": [],
   "source": []
  },
  {
   "cell_type": "code",
   "execution_count": 6,
   "metadata": {},
   "outputs": [
    {
     "name": "stdout",
     "output_type": "stream",
     "text": [
      "1167 ModelSEED.Tryptophan Biosynthesis 0 0 1778.70703125 3036.2708740234375 c\n",
      "1241 ModelSEED.Tryptophan Biosynthesis 1 0 1778.70703125 3036.2708740234375 c\n",
      "1315 ModelSEED.Tryptophan Biosynthesis 2 0 1778.70703125 3036.2708740234375 c\n",
      "1389 ModelSEED.Tryptophan Biosynthesis 3 0 1778.70703125 3036.2708740234375 c\n",
      "1463 ModelSEED.Tryptophan Biosynthesis 4 0 1778.70703125 3036.2708740234375 c\n",
      "1537 ModelSEED.Tryptophan Biosynthesis 0 1 1778.70703125 3036.2708740234375 c\n",
      "1611 ModelSEED.Tryptophan Biosynthesis 1 1 1778.70703125 3036.2708740234375 c\n",
      "1685 ModelSEED.Tryptophan Biosynthesis 2 1 1778.70703125 3036.2708740234375 c\n",
      "1759 ModelSEED.Tryptophan Biosynthesis 3 1 1778.70703125 3036.2708740234375 c\n",
      "1833 ModelSEED.Tryptophan Biosynthesis 4 1 1778.70703125 3036.2708740234375 c\n",
      "1907 ModelSEED.Tryptophan Biosynthesis 0 2 1778.70703125 3036.2708740234375 c\n",
      "1981 ModelSEED.Tryptophan Biosynthesis 1 2 1778.70703125 3036.2708740234375 c\n",
      "2055 ModelSEED.Tryptophan Biosynthesis 2 2 1778.70703125 3036.2708740234375 c\n",
      "2129 ModelSEED.Tryptophan Biosynthesis 3 2 1778.70703125 3036.2708740234375 c\n",
      "2203 ModelSEED.Tryptophan Biosynthesis 4 2 1778.70703125 3036.2708740234375 c\n",
      "2277 ModelSEED.Tryptophan Biosynthesis 0 3 1778.70703125 3036.2708740234375 c\n",
      "2351 ModelSEED.Tryptophan Biosynthesis 1 3 1778.70703125 3036.2708740234375 c\n"
     ]
    }
   ],
   "source": [
    "em = add_layers(em, em_grid, escher_manager)"
   ]
  },
  {
   "cell_type": "code",
   "execution_count": 8,
   "metadata": {},
   "outputs": [],
   "source": [
    "ec = EscherCluster(25)\n",
    "cpd_clusters = ec.cluster(em)\n",
    "rxn_clusters = ec.compute_all_metabolite_clusters(em.escher_graph, 'midmarker')"
   ]
  },
  {
   "cell_type": "code",
   "execution_count": 14,
   "metadata": {},
   "outputs": [],
   "source": [
    "rxn_uid_to_cluster = {}\n",
    "for uid_set in rxn_clusters:\n",
    "    for uid in uid_set:\n",
    "        rxn_uid_to_cluster[uid] = uid_set"
   ]
  },
  {
   "cell_type": "code",
   "execution_count": 20,
   "metadata": {},
   "outputs": [],
   "source": []
  },
  {
   "cell_type": "code",
   "execution_count": null,
   "metadata": {},
   "outputs": [],
   "source": [
    "for uid_set in rxn_clusters:\n",
    "    seed_id = None\n",
    "    for uid in uid_set:\n",
    "        n = em.nodes[uid]\n",
    "        if 'rxn_id' in n:\n",
    "            seed_id = n['rxn_id']\n",
    "    break"
   ]
  },
  {
   "cell_type": "code",
   "execution_count": 26,
   "metadata": {},
   "outputs": [],
   "source": []
  },
  {
   "cell_type": "code",
   "execution_count": null,
   "metadata": {},
   "outputs": [],
   "source": []
  },
  {
   "cell_type": "code",
   "execution_count": null,
   "metadata": {},
   "outputs": [],
   "source": [
    "def add_reactions(em1, em2, next_id, uid_remap):\n",
    "    for uid in em1.reactions:\n",
    "        rxn_node = em1.reactions[uid]\n",
    "        rxn_node_copy = copy.deepcopy(rxn_node)\n",
    "        em2.escher_graph['reactions'][next_id] = rxn_node_copy\n",
    "        pass\n",
    "    return next_id"
   ]
  },
  {
   "cell_type": "code",
   "execution_count": 14,
   "metadata": {},
   "outputs": [
    {
     "data": {
      "text/plain": [
       "{'authors': ['Matthew Hoffman'],\n",
       " 'homepage': 'http://modelseed.org',\n",
       " 'map_description': 'Tryptophan Biosynthesis',\n",
       " 'map_id': 'oAYQ7ne0mWgb',\n",
       " 'map_name': 'ModelSEED.Tryptophan Biosynthesis',\n",
       " 'schema': 'https://escher.github.io/escher/jsonschema/1-0-0#'}"
      ]
     },
     "execution_count": 14,
     "metadata": {},
     "output_type": "execute_result"
    }
   ],
   "source": [
    "em_merge.escher_map"
   ]
  },
  {
   "cell_type": "code",
   "execution_count": 11,
   "metadata": {},
   "outputs": [
    {
     "data": {
      "text/plain": [
       "{'name': 'rxn01682',\n",
       " 'bigg_id': 'rxn01682',\n",
       " 'reversibility': False,\n",
       " 'label_x': 47.29827880859375,\n",
       " 'label_y': 99.85931777954102,\n",
       " 'gene_reaction_rule': '',\n",
       " 'genes': [],\n",
       " 'metabolites': [{'bigg_id': 'cpd02210', 'coefficient': -1},\n",
       "  {'bigg_id': 'cpd00102', 'coefficient': 1},\n",
       "  {'bigg_id': 'cpd00359', 'coefficient': 1}],\n",
       " 'segments': {'4': {'from_node_id': '6',\n",
       "   'to_node_id': '7',\n",
       "   'b1': None,\n",
       "   'b2': None},\n",
       "  '5': {'from_node_id': '8', 'to_node_id': '7', 'b1': None, 'b2': None},\n",
       "  '6': {'from_node_id': '6',\n",
       "   'to_node_id': '5',\n",
       "   'b1': {'x': 243.4620999006858, 'y': 52.97781720666172},\n",
       "   'b2': {'x': 275.4267578125, 'y': 76.75474548339844}},\n",
       "  '7': {'from_node_id': '8',\n",
       "   'to_node_id': '25',\n",
       "   'b1': {'x': -483.09044876591565, 'y': 64.23846046002745},\n",
       "   'b2': {'x': -434.0486755371094, 'y': 687.9887466430664}},\n",
       "  '8': {'from_node_id': '8',\n",
       "   'to_node_id': '15',\n",
       "   'b1': {'x': 12.690272459543678, 'y': 49.381744713504304},\n",
       "   'b2': {'x': -45.06074905395508, 'y': 91.9125804901123}}}}"
      ]
     },
     "execution_count": 11,
     "metadata": {},
     "output_type": "execute_result"
    }
   ],
   "source": [
    "seed_em.escher_graph['reactions']['1']"
   ]
  },
  {
   "cell_type": "code",
   "execution_count": 9,
   "metadata": {},
   "outputs": [],
   "source": [
    "seed_em = escher_manager.get_map('ModelSEED', 'ModelSEED', 'Tryptophan Biosynthesis')"
   ]
  },
  {
   "cell_type": "code",
   "execution_count": 43,
   "metadata": {},
   "outputs": [],
   "source": [
    "\n",
    "tag_midmarker_reaction(seed_em)"
   ]
  },
  {
   "cell_type": "code",
   "execution_count": 44,
   "metadata": {},
   "outputs": [
    {
     "name": "stdout",
     "output_type": "stream",
     "text": [
      "{'node_type': 'midmarker', 'x': 111.49923706054688, 'y': 49.33789825439453, 'rxn_id': 'rxn01682'}\n",
      "{'node_type': 'midmarker', 'x': -14.576927185058594, 'y': 348.1068115234375, 'rxn_id': 'rxn00474'}\n",
      "{'node_type': 'midmarker', 'x': 233.14913940429688, 'y': 347.9958190917969, 'rxn_id': 'rxn01964'}\n",
      "{'node_type': 'midmarker', 'x': 358.71441650390625, 'y': -111.29603576660156, 'rxn_id': 'rxn02507'}\n",
      "{'node_type': 'midmarker', 'x': 502.9617614746094, 'y': -1244.9596557617188, 'rxn_id': 'rxn00727'}\n",
      "{'node_type': 'midmarker', 'x': 215.58065795898438, 'y': -1238.4853515625, 'rxn_id': 'rxn00726'}\n",
      "{'node_type': 'midmarker', 'x': 358.41937255859375, 'y': -464.0363006591797, 'rxn_id': 'rxn02508'}\n",
      "{'node_type': 'midmarker', 'x': 358.41937255859375, 'y': -814.0363006591797, 'rxn_id': 'rxn00791'}\n",
      "{'node_type': 'midmarker', 'x': 360.2904052734375, 'y': -1663.9940185546875, 'rxn_id': 'rxn01257'}\n"
     ]
    }
   ],
   "source": [
    "for uid in seed_em.nodes:\n",
    "    n = seed_em.nodes[uid]\n",
    "    if n['node_type'] == 'midmarker':\n",
    "        print(n)\n",
    "for uid in seed_em.escher_graph['reactions']:\n",
    "    n = seed_em.escher_graph['reactions'][uid]\n",
    "    "
   ]
  },
  {
   "cell_type": "code",
   "execution_count": 8,
   "metadata": {},
   "outputs": [],
   "source": []
  },
  {
   "cell_type": "code",
   "execution_count": 10,
   "metadata": {},
   "outputs": [],
   "source": []
  },
  {
   "cell_type": "code",
   "execution_count": 20,
   "metadata": {},
   "outputs": [],
   "source": []
  },
  {
   "cell_type": "code",
   "execution_count": 16,
   "metadata": {},
   "outputs": [],
   "source": [
    "uid_to_cluster = {}\n",
    "rxn_uid_to_cluster = {}\n",
    "for uid_set in cluster_data:\n",
    "    for uid in uid_set:\n",
    "        uid_to_cluster[uid] = uid_set\n",
    "for uid_set in rxn_clusters:\n",
    "    for uid in uid_set:\n",
    "        rxn_uid_to_cluster[uid] = uid_set"
   ]
  },
  {
   "cell_type": "code",
   "execution_count": 14,
   "metadata": {},
   "outputs": [],
   "source": []
  },
  {
   "cell_type": "code",
   "execution_count": 15,
   "metadata": {},
   "outputs": [],
   "source": [
    "\n",
    "        "
   ]
  },
  {
   "cell_type": "code",
   "execution_count": null,
   "metadata": {},
   "outputs": [],
   "source": [
    "for "
   ]
  },
  {
   "cell_type": "code",
   "execution_count": 72,
   "metadata": {},
   "outputs": [],
   "source": [
    "for uid in em_merge.escher_graph['reactions']:\n",
    "    n = em_merge.escher_graph['reactions'][uid]\n",
    "    pass"
   ]
  },
  {
   "cell_type": "code",
   "execution_count": 30,
   "metadata": {},
   "outputs": [],
   "source": [
    "def get_rxn_uid_from_midmarker(midmarker):\n",
    "    print(midmarker)\n",
    "    rxn_uid = None\n",
    "    for connected_segment in midmarker['connected_segments']:\n",
    "        if 'reaction_id' in connected_segment:\n",
    "            rxn_uid = connected_segment['reaction_id']\n",
    "    return rxn_uid"
   ]
  },
  {
   "cell_type": "code",
   "execution_count": 31,
   "metadata": {},
   "outputs": [
    {
     "name": "stdout",
     "output_type": "stream",
     "text": [
      "{'node_type': 'midmarker', 'x': 2632.0669860839844, 'y': 2494.2537536621094, 'connected_segments': [{'segment_id': '37', 'reaction_id': '44'}, {'segment_id': '38', 'reaction_id': '44'}], 'data': None, 'data_string': '', 'node_id': '5'}\n",
      "R_TRPS1@iCT646\n",
      "{'node_type': 'midmarker', 'x': 2632.0669860839844, 'y': 2494.2537536621094}\n"
     ]
    },
    {
     "ename": "KeyError",
     "evalue": "'connected_segments'",
     "output_type": "error",
     "traceback": [
      "\u001b[0;31m---------------------------------------------------------------------------\u001b[0m",
      "\u001b[0;31mKeyError\u001b[0m                                  Traceback (most recent call last)",
      "\u001b[0;32m<ipython-input-31-f02578352fd8>\u001b[0m in \u001b[0;36m<module>\u001b[0;34m\u001b[0m\n\u001b[1;32m      8\u001b[0m                 \u001b[0mprint\u001b[0m\u001b[0;34m(\u001b[0m\u001b[0mrxn_node\u001b[0m\u001b[0;34m[\u001b[0m\u001b[0;34m'bigg_id'\u001b[0m\u001b[0;34m]\u001b[0m\u001b[0;34m)\u001b[0m\u001b[0;34m\u001b[0m\u001b[0m\n\u001b[1;32m      9\u001b[0m                 \u001b[0;32mfor\u001b[0m \u001b[0mother_uid\u001b[0m \u001b[0;32min\u001b[0m \u001b[0mrxn_uid_to_cluster\u001b[0m\u001b[0;34m[\u001b[0m\u001b[0muid\u001b[0m\u001b[0;34m]\u001b[0m\u001b[0;34m:\u001b[0m\u001b[0;34m\u001b[0m\u001b[0m\n\u001b[0;32m---> 10\u001b[0;31m                     \u001b[0mrxn_uid\u001b[0m \u001b[0;34m=\u001b[0m \u001b[0mget_rxn_uid_from_midmarker\u001b[0m\u001b[0;34m(\u001b[0m\u001b[0mem\u001b[0m\u001b[0;34m.\u001b[0m\u001b[0mnodes\u001b[0m\u001b[0;34m[\u001b[0m\u001b[0mother_uid\u001b[0m\u001b[0;34m]\u001b[0m\u001b[0;34m)\u001b[0m\u001b[0;34m\u001b[0m\u001b[0m\n\u001b[0m\u001b[1;32m     11\u001b[0m                     \u001b[0;32mif\u001b[0m \u001b[0;32mnot\u001b[0m \u001b[0mrxn_uid\u001b[0m \u001b[0;34m==\u001b[0m \u001b[0;32mNone\u001b[0m\u001b[0;34m:\u001b[0m\u001b[0;34m\u001b[0m\u001b[0m\n\u001b[1;32m     12\u001b[0m                         \u001b[0mprint\u001b[0m\u001b[0;34m(\u001b[0m\u001b[0mrxn_uid\u001b[0m\u001b[0;34m)\u001b[0m\u001b[0;34m\u001b[0m\u001b[0m\n",
      "\u001b[0;32m<ipython-input-30-4b512ce346ff>\u001b[0m in \u001b[0;36mget_rxn_uid_from_midmarker\u001b[0;34m(midmarker)\u001b[0m\n\u001b[1;32m      2\u001b[0m     \u001b[0mprint\u001b[0m\u001b[0;34m(\u001b[0m\u001b[0mmidmarker\u001b[0m\u001b[0;34m)\u001b[0m\u001b[0;34m\u001b[0m\u001b[0m\n\u001b[1;32m      3\u001b[0m     \u001b[0mrxn_uid\u001b[0m \u001b[0;34m=\u001b[0m \u001b[0;32mNone\u001b[0m\u001b[0;34m\u001b[0m\u001b[0m\n\u001b[0;32m----> 4\u001b[0;31m     \u001b[0;32mfor\u001b[0m \u001b[0mconnected_segment\u001b[0m \u001b[0;32min\u001b[0m \u001b[0mmidmarker\u001b[0m\u001b[0;34m[\u001b[0m\u001b[0;34m'connected_segments'\u001b[0m\u001b[0;34m]\u001b[0m\u001b[0;34m:\u001b[0m\u001b[0;34m\u001b[0m\u001b[0m\n\u001b[0m\u001b[1;32m      5\u001b[0m         \u001b[0;32mif\u001b[0m \u001b[0;34m'reaction_id'\u001b[0m \u001b[0;32min\u001b[0m \u001b[0mconnected_segment\u001b[0m\u001b[0;34m:\u001b[0m\u001b[0;34m\u001b[0m\u001b[0m\n\u001b[1;32m      6\u001b[0m             \u001b[0mrxn_uid\u001b[0m \u001b[0;34m=\u001b[0m \u001b[0mconnected_segment\u001b[0m\u001b[0;34m[\u001b[0m\u001b[0;34m'reaction_id'\u001b[0m\u001b[0;34m]\u001b[0m\u001b[0;34m\u001b[0m\u001b[0m\n",
      "\u001b[0;31mKeyError\u001b[0m: 'connected_segments'"
     ]
    }
   ],
   "source": [
    "for uid in em_merge.nodes:\n",
    "    n = em_merge.nodes[uid]\n",
    "    if n['node_type'] == 'midmarker':\n",
    "        if uid in rxn_uid_to_cluster:\n",
    "            rxn_uid = get_rxn_uid_from_midmarker(n)\n",
    "            if not rxn_uid == None:\n",
    "                rxn_node = em_merge.escher_graph['reactions'][rxn_uid]\n",
    "                print(rxn_node['bigg_id'])\n",
    "                for other_uid in rxn_uid_to_cluster[uid]:\n",
    "                    rxn_uid = get_rxn_uid_from_midmarker(em.nodes[other_uid])\n",
    "                    if not rxn_uid == None:\n",
    "                        print(rxn_uid)\n",
    "                        em.escher_graph['reactions']\n",
    "        break\n",
    "n"
   ]
  },
  {
   "cell_type": "code",
   "execution_count": 16,
   "metadata": {},
   "outputs": [
    {
     "name": "stdout",
     "output_type": "stream",
     "text": [
      "cobrakbase 0.2.2\n",
      "load: /Users/fliu/workspace/jupyter/ModelSEEDDatabase/Biochemistry/reactions.tsv\n",
      "load: /Users/fliu/workspace/jupyter/ModelSEEDDatabase/Biochemistry/compounds.tsv\n",
      "load: /Users/fliu/workspace/jupyter/ModelSEEDDatabase/Biochemistry/Structures/Unique_ModelSEED_Structures.txt\n",
      "load: /Users/fliu/workspace/jupyter/ModelSEEDDatabase/Biochemistry/Aliases/Unique_ModelSEED_Compound_Aliases.txt\n",
      "load: /Users/fliu/workspace/jupyter/ModelSEEDDatabase/Biochemistry/Aliases/Unique_ModelSEED_Reaction_Aliases.txt\n",
      "load: /Users/fliu/workspace/jupyter/ModelSEEDDatabase/Biochemistry/Aliases/Unique_ModelSEED_Reaction_ECs.txt\n"
     ]
    }
   ],
   "source": [
    "import cobrakbase\n",
    "modelseed_local = cobrakbase.modelseed.from_local('/Users/fliu/workspace/jupyter/ModelSEEDDatabase')"
   ]
  },
  {
   "cell_type": "code",
   "execution_count": 18,
   "metadata": {},
   "outputs": [
    {
     "data": {
      "text/plain": [
       "'H2O'"
      ]
     },
     "execution_count": 18,
     "metadata": {},
     "output_type": "execute_result"
    }
   ],
   "source": [
    "modelseed_local.get_seed_compound('cpd00001').name"
   ]
  },
  {
   "cell_type": "code",
   "execution_count": 54,
   "metadata": {},
   "outputs": [
    {
     "data": {
      "text/plain": [
       "'c'"
      ]
     },
     "execution_count": 54,
     "metadata": {},
     "output_type": "execute_result"
    }
   ],
   "source": [
    "\"cpd02210_c\"[-1:]"
   ]
  },
  {
   "cell_type": "code",
   "execution_count": 76,
   "metadata": {},
   "outputs": [],
   "source": [
    "#em_merge.display_in_notebook()"
   ]
  },
  {
   "cell_type": "code",
   "execution_count": 22,
   "metadata": {},
   "outputs": [
    {
     "data": {
      "text/plain": [
       "{'bigg_id': 'M_3ig3p_c@iCT646',\n",
       " 'compartment': 'c',\n",
       " 'label_x': 2793.2806396484375,\n",
       " 'label_y': 2320.822708129883,\n",
       " 'name': 'Indoleglycerol phosphate',\n",
       " 'node_is_primary': True,\n",
       " 'node_type': 'metabolite',\n",
       " 'x': 2760.9130859375,\n",
       " 'y': 2309.7714080810547,\n",
       " 'connected_segments': [{'segment_id': '40', 'reaction_id': '44'},\n",
       "  {'segment_id': '51', 'reaction_id': '52'}],\n",
       " 'data': None,\n",
       " 'data_string': '',\n",
       " 'node_id': '0'}"
      ]
     },
     "execution_count": 22,
     "metadata": {},
     "output_type": "execute_result"
    }
   ],
   "source": [
    "em.nodes['0']"
   ]
  },
  {
   "cell_type": "code",
   "execution_count": 13,
   "metadata": {},
   "outputs": [],
   "source": [
    "def tag_model(cobra_json, model_tag):\n",
    "    res = copy.deepcopy(cobra_json)\n",
    "    for o in res['metabolites']:\n",
    "        o['id'] += '@' + model_tag\n",
    "    for o in res['reactions']:\n",
    "        o['id'] += '@' + model_tag\n",
    "        m_tag = {}\n",
    "        for m in o['metabolites']:\n",
    "            m_tag[m + '@' + model_tag] = o['metabolites'][m]\n",
    "        o['metabolites'] = m_tag\n",
    "\n",
    "    return res"
   ]
  },
  {
   "cell_type": "code",
   "execution_count": null,
   "metadata": {},
   "outputs": [],
   "source": []
  },
  {
   "cell_type": "code",
   "execution_count": 34,
   "metadata": {},
   "outputs": [],
   "source": [
    "model_ids = [\n",
    "        'iWV1213_KBase2',\n",
    "        'iWV1314_KBase2',\n",
    "        'iOD907_KBase2',\n",
    "        'iJL1454_KBase2',\n",
    "        'iNX804_KBase2',\n",
    "    ]\n",
    "ws_fungi = 'jplfaria:narrative_1510597445008'\n",
    "model_json = read_json('/Users/fliu/workspace/jupyter/data/www/fungi_viz/data/sbml/iW')\n",
    "model_id = 'iSS884'\n",
    "model_json_tag = tag_model(model_json, model_id)\n",
    "write_json(model_json_tag, '/Users/fliu/workspace/jupyter/web/annotation/data/TempModels/' + model_id+ '.json', False)\n"
   ]
  },
  {
   "cell_type": "code",
   "execution_count": 82,
   "metadata": {},
   "outputs": [],
   "source": []
  },
  {
   "cell_type": "code",
   "execution_count": 87,
   "metadata": {},
   "outputs": [],
   "source": [
    "def find_changes(filename):\n",
    "    data = read_json(filename)\n",
    "    em = modelseed_escher.core.EscherMap(data)\n",
    "    em_merge = em.clone()\n",
    "    #em_grid = data['grid']\n",
    "    em = add_layers(em, em_grid, escher_manager)\n",
    "    ec = EscherCluster(25)\n",
    "    cpd_cluster = ec.cluster(em)\n",
    "    rxn_clusters = ec.compute_all_metabolite_clusters(em.escher_graph, 'midmarker')\n",
    "    \n",
    "    uid_to_cluster = {}\n",
    "    rxn_uid_to_cluster = {}\n",
    "    for uid_set in cpd_cluster:\n",
    "        for uid in uid_set:\n",
    "            uid_to_cluster[uid] = uid_set\n",
    "    for uid_set in rxn_clusters:\n",
    "        for uid in uid_set:\n",
    "            rxn_uid_to_cluster[uid] = uid_set\n",
    "            \n",
    "    ms = None\n",
    "    cpd_remap = {}\n",
    "    rxn_remap = {}\n",
    "    for uid in em_merge.nodes:\n",
    "        n = em_merge.nodes[uid]\n",
    "        if n['node_type'] == 'metabolite':\n",
    "            #print(n['bigg_id'])\n",
    "            if uid in uid_to_cluster:\n",
    "                seed_id, cmp = get_seed_and_cmp(uid_to_cluster[uid], em)\n",
    "                if not ms == None and not seed_id == None:\n",
    "                    seed_cpd = ms.get_seed_compound(seed_id)\n",
    "                    n['name'] = seed_cpd.name\n",
    "                #print(n['bigg_id'], seed_id, cmp)\n",
    "                if not cmp == None:\n",
    "                    seed_id += '_' + cmp\n",
    "                cpd_remap[n['bigg_id']] = seed_id\n",
    "\n",
    "    for rxn_uid in em_merge.escher_graph['reactions']:\n",
    "        seed_id = None\n",
    "        cmp = None\n",
    "        rxn_node = em_merge.escher_graph['reactions'][rxn_uid]\n",
    "        node_uid = get_midmarker_uid(rxn_node, em)\n",
    "        if not node_uid == None and node_uid in rxn_uid_to_cluster:\n",
    "            for maybe_seed_uid in rxn_uid_to_cluster[node_uid]:\n",
    "                n = em.nodes[maybe_seed_uid]\n",
    "                if 'rxn_id' in n:\n",
    "                    seed_id = n['rxn_id']\n",
    "                    rxn_node['name'] = seed_id\n",
    "                if 'compartment' in n:\n",
    "                    cmp = n['compartment']\n",
    "        if not seed_id == None:\n",
    "            rxn_remap[rxn_node['bigg_id']] = seed_id\n",
    "            if not cmp == None:\n",
    "                rxn_remap[rxn_node['bigg_id']] += '_' + cmp\n",
    "    \n",
    "    return cpd_remap, rxn_remap"
   ]
  },
  {
   "cell_type": "code",
   "execution_count": null,
   "metadata": {},
   "outputs": [],
   "source": [
    "'''"
   ]
  },
  {
   "cell_type": "code",
   "execution_count": 181,
   "metadata": {},
   "outputs": [],
   "source": [
    "maps_change = {\n",
    "    'chris' : '/Users/fliu/Downloads/ModelSEED.Tryptophan Biosynthesis_chris.json',\n",
    "    'Baker' : '/Users/fliu/Downloads/ModelSEED.Tryptophan Biosynthesis_Baker.json',\n",
    "    'scalhoun' : '/Users/fliu/Downloads/ModelSEED.Tryptophan Biosynthesis_scalhoun_ForFilipe.json',\n",
    "    'Dai' : '/Users/fliu/Downloads/tryp_Dai.json',\n",
    "    'erinbredeweg' : '/Users/fliu/Downloads/ModelSEED.erinbredewegTryptophan Biosynthesis.json',\n",
    "    #'Louise' : '/Users/fliu/Downloads/ModelSEED.Tryptophan Biosynthesis_louise.json',\n",
    "}"
   ]
  },
  {
   "cell_type": "code",
   "execution_count": 182,
   "metadata": {},
   "outputs": [],
   "source": [
    "#em.display_in_notebook()"
   ]
  },
  {
   "cell_type": "code",
   "execution_count": 183,
   "metadata": {},
   "outputs": [],
   "source": [
    "MODEL_CPD_MAPPING = None\n",
    "MODEL_RXN_MAPPING = None\n",
    "CACHE_BASE_FOLDER = '/Users/fliu/workspace/jupyter/python3/annotation-server/data/'\n",
    "with open(CACHE_BASE_FOLDER + 'cpd_mapping_cache4.json', 'r') as f:\n",
    "    MODEL_CPD_MAPPING = json.loads(f.read())\n",
    "with open(CACHE_BASE_FOLDER + 'rxn_mapping_cache4.json', 'r') as f:\n",
    "    MODEL_RXN_MAPPING = json.loads(f.read())"
   ]
  },
  {
   "cell_type": "code",
   "execution_count": 184,
   "metadata": {},
   "outputs": [],
   "source": [
    "model_reaction_user_decision = {}\n",
    "model_compound_user_decision = {}\n"
   ]
  },
  {
   "cell_type": "code",
   "execution_count": 185,
   "metadata": {},
   "outputs": [],
   "source": [
    "%%capture\n",
    "for user in maps_change:\n",
    "    cpd_remap, rxn_remap = find_changes(maps_change[user])\n",
    "    rxn_new_map = {}\n",
    "    cpd_new_map = {}\n",
    "    for k in rxn_remap:\n",
    "        rxn_id, model_id = k.split('@')\n",
    "        if not model_id in rxn_new_map:\n",
    "            rxn_new_map[model_id] = {}\n",
    "\n",
    "        seed_id, cmp = rxn_remap[k].split('_')\n",
    "        if not rxn_id in rxn_new_map[model_id]:\n",
    "            rxn_new_map[model_id][rxn_id] = []\n",
    "        rxn_new_map[model_id][rxn_id].append(seed_id)\n",
    "    for k in cpd_remap:\n",
    "        cpd_id, model_id = k.split('@')\n",
    "        if not model_id in cpd_new_map:\n",
    "            cpd_new_map[model_id] = {}\n",
    "\n",
    "        seed_id, cmp = cpd_remap[k].split('_')\n",
    "        if not rxn_id in cpd_new_map[model_id]:\n",
    "            cpd_new_map[model_id][cpd_id] = []\n",
    "        cpd_new_map[model_id][cpd_id].append(seed_id)\n",
    "        \n",
    "    for model_id in rxn_new_map:\n",
    "        if not model_id in model_reaction_user_decision:\n",
    "            model_reaction_user_decision[model_id] = {}\n",
    "        if model_id in MODEL_RXN_MAPPING:\n",
    "            for mrxn_id in rxn_new_map[model_id]:\n",
    "                if not mrxn_id in model_reaction_user_decision[model_id]:\n",
    "                    model_reaction_user_decision[model_id][mrxn_id] = {}\n",
    "                if not user in model_reaction_user_decision[model_id][mrxn_id]:\n",
    "                    model_reaction_user_decision[model_id][mrxn_id][user] = []\n",
    "                if mrxn_id in MODEL_RXN_MAPPING[model_id]:\n",
    "                    prev = MODEL_RXN_MAPPING[model_id][mrxn_id]\n",
    "                    actual = rxn_new_map[model_id][mrxn_id]\n",
    "                    if not set(prev) == set(actual):\n",
    "                        model_reaction_user_decision[model_id][mrxn_id][user] = actual\n",
    "                        #MODEL_RXN_MAPPING[model_id][mrxn_id] = actual\n",
    "                        #print(model_id, mrxn_id, prev, actual)\n",
    "        else:\n",
    "            print('!!!')\n",
    "            \n",
    "    for model_id in cpd_new_map:\n",
    "        if not model_id in model_compound_user_decision:\n",
    "            model_compound_user_decision[model_id] = {}\n",
    "        if model_id in MODEL_CPD_MAPPING:\n",
    "            for spi_id in cpd_new_map[model_id]:\n",
    "                if not spi_id in model_compound_user_decision[model_id]:\n",
    "                    model_compound_user_decision[model_id][spi_id] = {}\n",
    "                if not user in model_compound_user_decision[model_id][spi_id]:\n",
    "                    model_compound_user_decision[model_id][spi_id][user] = []\n",
    "                for cmp_id in MODEL_CPD_MAPPING[model_id]:\n",
    "                    if spi_id in MODEL_CPD_MAPPING[model_id][cmp_id]:\n",
    "                        prev = MODEL_CPD_MAPPING[model_id][cmp_id][spi_id]\n",
    "                        actual = cpd_new_map[model_id][spi_id]\n",
    "                        #print(set(prev), set(actual))\n",
    "                        if not set(prev) == set(actual):\n",
    "                            model_compound_user_decision[model_id][spi_id][user] = actual\n",
    "                            #MODEL_RXN_MAPPING[model_id][mrxn_id] = actual\n",
    "                            print(model_id, spi_id, prev, actual)\n",
    "        else:\n",
    "            print('!!!')"
   ]
  },
  {
   "cell_type": "code",
   "execution_count": 186,
   "metadata": {},
   "outputs": [],
   "source": [
    "#MODEL_CPD_MAPPING[model_id]"
   ]
  },
  {
   "cell_type": "code",
   "execution_count": null,
   "metadata": {},
   "outputs": [],
   "source": []
  },
  {
   "cell_type": "code",
   "execution_count": 188,
   "metadata": {},
   "outputs": [],
   "source": [
    "data = {\n",
    "    'model_id' : [],\n",
    "    'rxn_id' : [],\n",
    "    'total' : [],\n",
    "    'current' : [],\n",
    "    'consensus' : [],\n",
    "}\n",
    "for user in maps_change:\n",
    "    data[user] = []\n",
    "for model_id in model_reaction_user_decision:\n",
    "    for rxn_id in model_reaction_user_decision[model_id]:\n",
    "        cs = model_reaction_user_decision[model_id][rxn_id]\n",
    "        all_rxn = set()\n",
    "        for user in maps_change:\n",
    "            mapping = []\n",
    "            if user in cs:\n",
    "                mapping = cs[user]\n",
    "            #print(user)\n",
    "            data[user].append(mapping)\n",
    "            all_rxn |= set(mapping)\n",
    "        data['model_id'].append(model_id)\n",
    "        data['rxn_id'].append(rxn_id)\n",
    "        data['total'].append(';'.join(all_rxn))\n",
    "        data['current'].append(';'.join(MODEL_RXN_MAPPING[model_id][rxn_id]))\n",
    "        data['consensus'].append(';'.join(all_rxn))\n",
    "import pandas as pd\n",
    "df = pd.DataFrame(data)\n",
    "df.to_csv('/Users/fliu/Downloads/user_rxn_curation.tsv', sep='\\t')"
   ]
  },
  {
   "cell_type": "code",
   "execution_count": 200,
   "metadata": {},
   "outputs": [],
   "source": [
    "data = {\n",
    "    'model_id' : [],\n",
    "    'spi_id' : [],\n",
    "    'total' : [],\n",
    "    'current' : [],\n",
    "    'consensus' : [],\n",
    "}\n",
    "for user in maps_change:\n",
    "    data[user] = []\n",
    "for model_id in model_compound_user_decision:\n",
    "    for rxn_id in model_compound_user_decision[model_id]:\n",
    "        cs = model_compound_user_decision[model_id][rxn_id]\n",
    "        all_rxn = set()\n",
    "        for user in maps_change:\n",
    "            mapping = []\n",
    "            if user in cs:\n",
    "                mapping = cs[user]\n",
    "            #print(user)\n",
    "            data[user].append(mapping)\n",
    "            all_rxn |= set(mapping)\n",
    "        data['model_id'].append(model_id)\n",
    "        data['spi_id'].append(rxn_id)\n",
    "        data['total'].append(';'.join(all_rxn))\n",
    "        current = []\n",
    "        for cmp in MODEL_CPD_MAPPING[model_id]:\n",
    "            if rxn_id in MODEL_CPD_MAPPING[model_id][cmp]:\n",
    "                current = MODEL_CPD_MAPPING[model_id][cmp][rxn_id]\n",
    "        #print(rxn_id, current)\n",
    "        data['current'].append(';'.join(current))\n",
    "        data['consensus'].append(';'.join(all_rxn))\n",
    "import pandas as pd\n",
    "df = pd.DataFrame(data)\n",
    "df.to_csv('/Users/fliu/Downloads/user_cpd_curation.tsv', sep='\\t')"
   ]
  },
  {
   "cell_type": "code",
   "execution_count": 190,
   "metadata": {},
   "outputs": [
    {
     "data": {
      "text/plain": [
       "'iCT646'"
      ]
     },
     "execution_count": 190,
     "metadata": {},
     "output_type": "execute_result"
    }
   ],
   "source": [
    "model_id"
   ]
  },
  {
   "cell_type": "code",
   "execution_count": 193,
   "metadata": {},
   "outputs": [
    {
     "ename": "KeyError",
     "evalue": "'M_3ig3p_c'",
     "output_type": "error",
     "traceback": [
      "\u001b[0;31m---------------------------------------------------------------------------\u001b[0m",
      "\u001b[0;31mKeyError\u001b[0m                                  Traceback (most recent call last)",
      "\u001b[0;32m<ipython-input-193-85dca722c2bd>\u001b[0m in \u001b[0;36m<module>\u001b[0;34m\u001b[0m\n\u001b[0;32m----> 1\u001b[0;31m \u001b[0mMODEL_CPD_MAPPING\u001b[0m\u001b[0;34m[\u001b[0m\u001b[0mmodel_id\u001b[0m\u001b[0;34m]\u001b[0m\u001b[0;34m[\u001b[0m\u001b[0;34m'M_3ig3p_c'\u001b[0m\u001b[0;34m]\u001b[0m\u001b[0;34m\u001b[0m\u001b[0m\n\u001b[0m",
      "\u001b[0;31mKeyError\u001b[0m: 'M_3ig3p_c'"
     ]
    }
   ],
   "source": [
    "MODEL_CPD_MAPPING[model_id]['M_3ig3p_c']"
   ]
  },
  {
   "cell_type": "code",
   "execution_count": 143,
   "metadata": {},
   "outputs": [],
   "source": []
  },
  {
   "cell_type": "code",
   "execution_count": 146,
   "metadata": {},
   "outputs": [],
   "source": []
  },
  {
   "cell_type": "code",
   "execution_count": 56,
   "metadata": {},
   "outputs": [
    {
     "data": {
      "text/plain": [
       "'rxn01964_c'"
      ]
     },
     "execution_count": 56,
     "metadata": {},
     "output_type": "execute_result"
    }
   ],
   "source": [
    "rxn_remap['R_TRPS1@iCT646']"
   ]
  },
  {
   "cell_type": "code",
   "execution_count": 58,
   "metadata": {},
   "outputs": [
    {
     "data": {
      "text/plain": [
       "['rxn01964']"
      ]
     },
     "execution_count": 58,
     "metadata": {},
     "output_type": "execute_result"
    }
   ],
   "source": [
    "MODEL_RXN_MAPPING['iCT646']['R_TRPS1']"
   ]
  },
  {
   "cell_type": "code",
   "execution_count": 84,
   "metadata": {},
   "outputs": [
    {
     "data": {
      "text/plain": [
       "['rxn01257']"
      ]
     },
     "execution_count": 84,
     "metadata": {},
     "output_type": "execute_result"
    }
   ],
   "source": [
    "MODEL_RXN_MAPPING['iCT646']['R_ADCS']"
   ]
  },
  {
   "cell_type": "code",
   "execution_count": null,
   "metadata": {},
   "outputs": [],
   "source": []
  },
  {
   "cell_type": "code",
   "execution_count": 64,
   "metadata": {},
   "outputs": [],
   "source": [
    "\n",
    "cpd_new_map = {}\n",
    "for k in rxn_remap:\n",
    "    rxn_id, model_id = k.split('@')\n",
    "    if not model_id in rxn_new_map:\n",
    "        rxn_new_map[model_id] = {}\n",
    "    \n",
    "    seed_id, cmp = rxn_remap[k].split('_')\n",
    "    if not rxn_id in rxn_new_map[model_id]:\n",
    "        rxn_new_map[model_id][rxn_id] = []\n",
    "    rxn_new_map[model_id][rxn_id].append(seed_id)"
   ]
  },
  {
   "cell_type": "code",
   "execution_count": 78,
   "metadata": {},
   "outputs": [],
   "source": []
  },
  {
   "cell_type": "code",
   "execution_count": 70,
   "metadata": {},
   "outputs": [
    {
     "name": "stderr",
     "output_type": "stream",
     "text": [
      "[iWV1213] missing id\n",
      "[iWV1213] missing id\n",
      "[iWV1213] missing id\n",
      "[iWV1213] missing id\n",
      "[iWV1213] missing id\n",
      "[iWV1213] missing id\n",
      "[iWV1213] missing id\n"
     ]
    }
   ],
   "source": [
    "%run ../escher_factory_api.py\n",
    "%run ../bios_mock.py\n",
    "bios = BIOS_MOCK(CACHE_BASE_FOLDER + 'bios_cache_fungi.json')"
   ]
  },
  {
   "cell_type": "code",
   "execution_count": 79,
   "metadata": {},
   "outputs": [],
   "source": [
    "escher_factory = EscherFactoryApi(escher_manager)\n",
    "escher_factory.cpd_mapping = MODEL_CPD_MAPPING\n",
    "escher_factory.rxn_mapping = MODEL_RXN_MAPPING\n",
    "escher_factory.bios_cache = bios.model_data"
   ]
  },
  {
   "cell_type": "code",
   "execution_count": 80,
   "metadata": {},
   "outputs": [
    {
     "name": "stderr",
     "output_type": "stream",
     "text": [
      "translate_to_model: iMM904 [c > c]\n",
      "unmaped_cpd: 1\n",
      "unmaped_rxn: 3\n"
     ]
    },
    {
     "name": "stdout",
     "output_type": "stream",
     "text": [
      "Tryptophan Biosynthesis\n",
      "iMM904 {'rxn01964_c': {'R_TRPS1'}, 'rxn02507_c': {'R_IGPS'}, 'rxn00727_c': {'R_ANS'}, 'rxn02508_c': {'R_PRAIi'}, 'rxn00791_c': {'R_ANPRT'}, 'rxn01257_c': {'R_ADCS'}}\n"
     ]
    }
   ],
   "source": [
    "map_assembly = [\n",
    "    {\n",
    "        'map_id' : 'Tryptophan Biosynthesis',\n",
    "        'sbml_id' : 'iMM904',\n",
    "        'cmp_target' : ['c'],\n",
    "        'cmp_sbml' : ['c'],\n",
    "    }\n",
    "]\n",
    "em_chris = escher_factory.build_grid(map_assembly, (1, 1))"
   ]
  },
  {
   "cell_type": "code",
   "execution_count": 81,
   "metadata": {},
   "outputs": [
    {
     "data": {
      "text/html": [
       "\n",
       "\n",
       "\n",
       "  \n",
       "  \n",
       "\n",
       "  \n",
       "  \n",
       "    <link rel=\"stylesheet\" href=\"//unpkg.com/escher-vis@1.6.0/css/dist/builder.min.css\"/>\n",
       "  \n",
       "\n",
       "\n",
       "\n",
       "  <div style=\"height: 500px; width: 100%;\" id=\"gcrnzsvero\"></div>\n",
       "\n",
       "  <script>\n",
       "   /* Closure to make sure data only applies to this map. */\n",
       "   (function() {\n",
       "       /* data from python */\n",
       "       var data = get_data();\n",
       "\n",
       "       function load_lib(url, callback) {\n",
       "           /** Dynamically load a JavaScript file */\n",
       "           var s = document.createElement('script');\n",
       "           s.src = url;\n",
       "           s.async = true;\n",
       "           s.onreadystatechange = s.onload = callback;\n",
       "           s.onerror = function() {\n",
       "               console.warn('Failed to load library ' + url);\n",
       "           };\n",
       "           document.getElementsByTagName('head')[0].appendChild(s);\n",
       "       }\n",
       "\n",
       "       function check_global_and_load(name, url, callback) {\n",
       "           /** Look for the name in the global scope. If it isn't present, then\n",
       "              load the library at url. Returns the object. */\n",
       "           if (window[name] !== undefined) {\n",
       "               callback(window[name]);\n",
       "           } else {\n",
       "               load_lib(url, function() {\n",
       "                   callback(window[name]);\n",
       "               });\n",
       "           }\n",
       "       }\n",
       "\n",
       "       function draw_escher(escher) {\n",
       "           /** Get data and draw */\n",
       "           var load = function(t_map_data, t_model_data, t_options) {\n",
       "               escher.Builder(t_map_data, t_model_data, data.builder_embed_css,\n",
       "                              escher.libs.d3_select('#' + data.id), t_options);\n",
       "           }\n",
       "\n",
       "           // for the static site, use the url attributes for the map and model\n",
       "           // information\n",
       "           if (data.static_site_index !== null) {\n",
       "               escher.static.load_map_model_from_url(data.map_download_url, data.model_download_url,\n",
       "                                                     data.static_site_index, data.options, load);\n",
       "           } else {\n",
       "               load(data.map_data, data.model_data, data.options);\n",
       "           }\n",
       "       }\n",
       "\n",
       "       // Load dependencies and draw\n",
       "       if (typeof define === 'function' && define.amd) {\n",
       "           // require.js is available: use it to load escher\n",
       "           require.config({\n",
       "             paths: {\n",
       "               escher: '//unpkg.com/escher-vis@1.6.0/js/dist/escher.min',\n",
       "             },\n",
       "             // Override urlArgs that adds ?v= to the end of the escher URL and\n",
       "             // messes up unpkg links. Honestly, I'm not sure if this will lead\n",
       "             // to downstream bugs in the notebook, but they really shouldn't be\n",
       "             // doing this cache-busting anyway.\n",
       "             urlArgs: null,\n",
       "           })\n",
       "           require([ 'escher' ], function(escher) {\n",
       "               draw_escher(escher);\n",
       "           })\n",
       "       } else {\n",
       "           // require.js not available: dynamically load escher\n",
       "           check_global_and_load('escher', '//unpkg.com/escher-vis@1.6.0/js/dist/escher.min.js', function(escher) {\n",
       "               draw_escher(escher);\n",
       "           })\n",
       "       }\n",
       "\n",
       "       // Put this at the end so Chrome doesn't cut off the code above.\n",
       "       function get_data() {\n",
       "           /** Return the data passed in by the Python module. */\n",
       "           return {\n",
       "               id: JSON.parse('\"gcrnzsvero\"'),\n",
       "               map_download_url: JSON.parse('\"//escher.github.io/1-0-0/5/maps/\"'),\n",
       "               model_download_url: JSON.parse('\"//escher.github.io/1-0-0/5/models/\"'),\n",
       "               options: JSON.parse('{\"menu\": \"zoom\", \"enable_keys\": false, \"enable_editing\": false, \"scroll_behavior\": \"none\", \"fill_screen\": false, \"ignore_bootstrap\": true, \"never_ask_before_quit\": true, \"reaction_data\": null, \"metabolite_data\": null, \"gene_data\": null}'),\n",
       "               builder_embed_css: JSON.parse('null'),\n",
       "               map_data: JSON.parse('[{\"map_name\": \"ModelSEED.Tryptophan Biosynthesis\", \"map_id\": \"oAYQ7ne0mWgb\", \"map_description\": \"Tryptophan Biosynthesis\", \"homepage\": \"http://modelseed.org\", \"schema\": \"https://escher.github.io/escher/jsonschema/1-0-0#\", \"authors\": [\"Matthew Hoffman\"]}, {\"reactions\": {\"3\": {\"name\": \"rxn01964\", \"bigg_id\": \"R_TRPS1@iMM904\", \"reversibility\": false, \"label_x\": 868.3599548339844, \"label_y\": 2504.2537536621094, \"gene_reaction_rule\": \"\", \"genes\": [], \"metabolites\": [{\"bigg_id\": \"M_ser__L_c@iMM904\", \"coefficient\": -1, \"node_uid\": \"11\"}, {\"bigg_id\": \"M_3ig3p_c@iMM904\", \"coefficient\": -1, \"node_uid\": \"5\"}, {\"bigg_id\": \"M_h2o_c@iMM904\", \"coefficient\": 1, \"node_uid\": \"23\"}, {\"bigg_id\": \"M_trp__L_c@iMM904\", \"coefficient\": 1, \"node_uid\": \"17\"}, {\"bigg_id\": \"M_g3p_c@iMM904\", \"coefficient\": 1, \"node_uid\": \"25\"}], \"segments\": {\"15\": {\"from_node_id\": \"19\", \"to_node_id\": \"20\", \"b1\": null, \"b2\": null}, \"16\": {\"from_node_id\": \"21\", \"to_node_id\": \"20\", \"b1\": null, \"b2\": null}, \"17\": {\"from_node_id\": \"19\", \"to_node_id\": \"11\", \"b1\": {\"x\": 853.3599548339844, \"y\": 2432.2537536621094}, \"b2\": {\"x\": 797.7851905822754, \"y\": 2379.2256240844727}}, \"18\": {\"from_node_id\": \"19\", \"to_node_id\": \"5\", \"b1\": {\"x\": 853.3599548339844, \"y\": 2428.2537536621094}, \"b2\": {\"x\": 932.9797058105469, \"y\": 2360.3797302246094}}, \"19\": {\"from_node_id\": \"21\", \"to_node_id\": \"23\", \"b1\": {\"x\": 853.3599548339844, \"y\": 2560.2537536621094}, \"b2\": {\"x\": 871.3599548339844, \"y\": 2565.5037536621094}}, \"20\": {\"from_node_id\": \"21\", \"to_node_id\": \"17\", \"b1\": {\"x\": 853.3599548339844, \"y\": 2556.2537536621094}, \"b2\": {\"x\": 804.9174637421966, \"y\": 2634.1022033691406}}, \"21\": {\"from_node_id\": \"21\", \"to_node_id\": \"25\", \"b1\": {\"x\": 851.5180816650391, \"y\": 2703.9205627441406}, \"b2\": {\"x\": 865.9025688171387, \"y\": 2838.2033081054688}}}}, \"5\": {\"name\": \"rxn02507\", \"bigg_id\": \"R_IGPS@iMM904\", \"reversibility\": false, \"label_x\": 993.9252319335938, \"label_y\": 2044.961898803711, \"gene_reaction_rule\": \"\", \"genes\": [], \"metabolites\": [{\"bigg_id\": \"M_h_c@iMM904\", \"coefficient\": -1, \"node_uid\": \"34\"}, {\"bigg_id\": \"M_2cpr5p_c@iMM904\", \"coefficient\": -1, \"node_uid\": \"38\"}, {\"bigg_id\": \"M_h2o_c@iMM904\", \"coefficient\": 1, \"node_uid\": \"39\"}, {\"bigg_id\": \"M_co2_c@iMM904\", \"coefficient\": 1, \"node_uid\": \"40\"}, {\"bigg_id\": \"M_3ig3p_c@iMM904\", \"coefficient\": 1, \"node_uid\": \"5\"}], \"segments\": {\"29\": {\"from_node_id\": \"35\", \"to_node_id\": \"36\", \"b1\": null, \"b2\": null}, \"30\": {\"from_node_id\": \"37\", \"to_node_id\": \"36\", \"b1\": null, \"b2\": null}, \"31\": {\"from_node_id\": \"35\", \"to_node_id\": \"34\", \"b1\": {\"x\": 978.9252319335938, \"y\": 1972.961898803711}, \"b2\": {\"x\": 962.3482971191406, \"y\": 1962.9170837402344}}, \"32\": {\"from_node_id\": \"35\", \"to_node_id\": \"38\", \"b1\": {\"x\": 978.9252319335938, \"y\": 1968.961898803711}, \"b2\": {\"x\": 977.5021667480469, \"y\": 1948.9768371582031}}, \"33\": {\"from_node_id\": \"37\", \"to_node_id\": \"39\", \"b1\": {\"x\": 978.9252319335938, \"y\": 2100.961898803711}, \"b2\": {\"x\": 996.9252319335938, \"y\": 2106.211898803711}}, \"34\": {\"from_node_id\": \"37\", \"to_node_id\": \"40\", \"b1\": {\"x\": 978.9252319335938, \"y\": 2100.961898803711}, \"b2\": {\"x\": 960.9252319335938, \"y\": 2106.211898803711}}, \"35\": {\"from_node_id\": \"37\", \"to_node_id\": \"5\", \"b1\": {\"x\": 978.9252319335938, \"y\": 2096.961898803711}, \"b2\": {\"x\": 980.7671203613281, \"y\": 2259.8829498291016}}}}, \"6\": {\"name\": \"rxn00727\", \"bigg_id\": \"R_ANS@iMM904\", \"reversibility\": false, \"label_x\": 1138.1725769042969, \"label_y\": 911.2982788085938, \"gene_reaction_rule\": \"\", \"genes\": [], \"metabolites\": [{\"bigg_id\": \"M_gln__L_c@iMM904\", \"coefficient\": -1, \"node_uid\": \"42\"}, {\"bigg_id\": \"M_chor_c@iMM904\", \"coefficient\": -1, \"node_uid\": \"55\"}, {\"bigg_id\": \"M_pyr_c@iMM904\", \"coefficient\": 1, \"node_uid\": \"47\"}, {\"bigg_id\": \"M_glu__L_c@iMM904\", \"coefficient\": 1, \"node_uid\": \"48\"}, {\"bigg_id\": \"M_h_c@iMM904\", \"coefficient\": 1, \"node_uid\": \"49\"}, {\"bigg_id\": \"M_anth_c@iMM904\", \"coefficient\": 1, \"node_uid\": \"77\"}], \"segments\": {\"36\": {\"from_node_id\": \"43\", \"to_node_id\": \"44\", \"b1\": null, \"b2\": null}, \"37\": {\"from_node_id\": \"45\", \"to_node_id\": \"44\", \"b1\": null, \"b2\": null}, \"38\": {\"from_node_id\": \"43\", \"to_node_id\": \"42\", \"b1\": {\"x\": 1123.1725769042969, \"y\": 839.2982788085938}, \"b2\": {\"x\": 1148.9589538574219, \"y\": 814.5184936523438}}, \"39\": {\"from_node_id\": \"43\", \"to_node_id\": \"55\", \"b1\": {\"x\": 1123.1725769042969, \"y\": 835.2982788085938}, \"b2\": {\"x\": 1092.2793884277344, \"y\": 734.2702026367188}}, \"40\": {\"from_node_id\": \"45\", \"to_node_id\": \"47\", \"b1\": {\"x\": 1123.1725769042969, \"y\": 967.2982788085938}, \"b2\": {\"x\": 1176.1683654785156, \"y\": 981.7577514648438}}, \"41\": {\"from_node_id\": \"45\", \"to_node_id\": \"48\", \"b1\": {\"x\": 1123.1725769042969, \"y\": 967.2982788085938}, \"b2\": {\"x\": 1154.9034729003906, \"y\": 992.8091430664062}}, \"42\": {\"from_node_id\": \"45\", \"to_node_id\": \"49\", \"b1\": {\"x\": 1123.1725769042969, \"y\": 967.2982788085938}, \"b2\": {\"x\": 1138.7453002929688, \"y\": 1009.1210327148438}}, \"43\": {\"from_node_id\": \"45\", \"to_node_id\": \"77\", \"b1\": {\"x\": 1123.1725769042969, \"y\": 963.2982788085938}, \"b2\": {\"x\": 1064.2323303222656, \"y\": 1061.7533569335938}}}}, \"9\": {\"name\": \"rxn02508\", \"bigg_id\": \"R_PRAIi@iMM904\", \"reversibility\": false, \"label_x\": 993.6301879882812, \"label_y\": 1692.2216339111328, \"gene_reaction_rule\": \"\", \"genes\": [], \"metabolites\": [{\"bigg_id\": \"M_pran_c@iMM904\", \"coefficient\": -1, \"node_uid\": \"67\"}, {\"bigg_id\": \"M_2cpr5p_c@iMM904\", \"coefficient\": 1, \"node_uid\": \"38\"}], \"segments\": {\"58\": {\"from_node_id\": \"68\", \"to_node_id\": \"69\", \"b1\": null, \"b2\": null}, \"59\": {\"from_node_id\": \"70\", \"to_node_id\": \"69\", \"b1\": null, \"b2\": null}, \"60\": {\"from_node_id\": \"68\", \"to_node_id\": \"67\", \"b1\": {\"x\": 978.6301879882812, \"y\": 1620.2216339111328}, \"b2\": {\"x\": 978.6301879882812, \"y\": 1565.9716339111328}}, \"61\": {\"from_node_id\": \"70\", \"to_node_id\": \"38\", \"b1\": {\"x\": 978.6301879882812, \"y\": 1744.2216339111328}, \"b2\": {\"x\": 978.6301879882812, \"y\": 1798.4716339111328}}}}, \"10\": {\"name\": \"rxn00791\", \"bigg_id\": \"R_ANPRT@iMM904\", \"reversibility\": false, \"label_x\": 993.6301879882812, \"label_y\": 1342.2216339111328, \"gene_reaction_rule\": \"\", \"genes\": [], \"metabolites\": [{\"bigg_id\": \"M_ppi_c@iMM904\", \"coefficient\": -1, \"node_uid\": \"75\"}, {\"bigg_id\": \"M_h_c@iMM904\", \"coefficient\": -1, \"node_uid\": \"76\"}, {\"bigg_id\": \"M_pran_c@iMM904\", \"coefficient\": -1, \"node_uid\": \"67\"}, {\"bigg_id\": \"M_anth_c@iMM904\", \"coefficient\": 1, \"node_uid\": \"77\"}, {\"bigg_id\": \"M_prpp_c@iMM904\", \"coefficient\": 1, \"node_uid\": \"78\"}], \"segments\": {\"62\": {\"from_node_id\": \"72\", \"to_node_id\": \"73\", \"b1\": null, \"b2\": null}, \"63\": {\"from_node_id\": \"74\", \"to_node_id\": \"73\", \"b1\": null, \"b2\": null}, \"64\": {\"from_node_id\": \"72\", \"to_node_id\": \"75\", \"b1\": {\"x\": 978.6301879882812, \"y\": 1398.2216339111328}, \"b2\": {\"x\": 960.6301879882812, \"y\": 1403.4716339111328}}, \"65\": {\"from_node_id\": \"72\", \"to_node_id\": \"76\", \"b1\": {\"x\": 978.6301879882812, \"y\": 1398.2216339111328}, \"b2\": {\"x\": 996.6301879882812, \"y\": 1403.4716339111328}}, \"66\": {\"from_node_id\": \"72\", \"to_node_id\": \"67\", \"b1\": {\"x\": 978.6301879882812, \"y\": 1394.2216339111328}, \"b2\": {\"x\": 978.6301879882812, \"y\": 1448.4716339111328}}, \"67\": {\"from_node_id\": \"74\", \"to_node_id\": \"77\", \"b1\": {\"x\": 978.6301879882812, \"y\": 1270.2216339111328}, \"b2\": {\"x\": 978.6301879882812, \"y\": 1215.9716339111328}}, \"68\": {\"from_node_id\": \"74\", \"to_node_id\": \"78\", \"b1\": {\"x\": 978.6301879882812, \"y\": 1266.2216339111328}, \"b2\": {\"x\": 996.6301879882812, \"y\": 1260.9716339111328}}}}, \"11\": {\"name\": \"rxn01257\", \"bigg_id\": \"R_ADCS@iMM904\", \"reversibility\": false, \"label_x\": 995.501220703125, \"label_y\": 492.263916015625, \"gene_reaction_rule\": \"\", \"genes\": [], \"metabolites\": [{\"bigg_id\": \"M_gln__L_c@iMM904\", \"coefficient\": -1, \"node_uid\": \"82\"}, {\"bigg_id\": \"M_chor_c@iMM904\", \"coefficient\": -1, \"node_uid\": \"55\"}, {\"bigg_id\": \"M_glu__L_c@iMM904\", \"coefficient\": 1, \"node_uid\": \"83\"}, {\"bigg_id\": \"M_4adcho_c@iMM904\", \"coefficient\": 1, \"node_uid\": \"84\"}], \"segments\": {\"69\": {\"from_node_id\": \"79\", \"to_node_id\": \"80\", \"b1\": null, \"b2\": null}, \"70\": {\"from_node_id\": \"81\", \"to_node_id\": \"80\", \"b1\": null, \"b2\": null}, \"71\": {\"from_node_id\": \"79\", \"to_node_id\": \"82\", \"b1\": {\"x\": 980.501220703125, \"y\": 548.263916015625}, \"b2\": {\"x\": 998.501220703125, \"y\": 553.513916015625}}, \"72\": {\"from_node_id\": \"79\", \"to_node_id\": \"55\", \"b1\": {\"x\": 980.501220703125, \"y\": 544.263916015625}, \"b2\": {\"x\": 980.501220703125, \"y\": 598.513916015625}}, \"73\": {\"from_node_id\": \"81\", \"to_node_id\": \"83\", \"b1\": {\"x\": 980.501220703125, \"y\": 416.263916015625}, \"b2\": {\"x\": 998.501220703125, \"y\": 411.013916015625}}, \"74\": {\"from_node_id\": \"81\", \"to_node_id\": \"84\", \"b1\": {\"x\": 980.501220703125, \"y\": 420.263916015625}, \"b2\": {\"x\": 980.501220703125, \"y\": 366.013916015625}}}}}, \"nodes\": {\"5\": {\"node_type\": \"metabolite\", \"x\": 982.2060546875, \"y\": 2309.7714080810547, \"bigg_id\": \"M_3ig3p_c@iMM904\", \"name\": \"Indoleglycerol phosphate\", \"label_x\": 1014.5736083984375, \"label_y\": 2320.822708129883, \"node_is_primary\": true, \"compartment\": \"c\"}, \"11\": {\"node_type\": \"metabolite\", \"x\": 728.7234749794006, \"y\": 2314.4721908569336, \"bigg_id\": \"M_ser__L_c@iMM904\", \"name\": \"L-Serine\", \"label_x\": 692.9413475990295, \"label_y\": 2286.843948364258, \"node_is_primary\": true, \"compartment\": \"c\"}, \"16\": {\"node_type\": \"metabolite\", \"x\": 525.6338882446289, \"y\": 2599.36474609375, \"bigg_id\": \"M_h2o_c@iMM904\", \"name\": \"H2O\", \"label_x\": 453.6338882446289, \"label_y\": 2629.36474609375, \"node_is_primary\": false, \"compartment\": \"c\"}, \"17\": {\"node_type\": \"metabolite\", \"x\": 722.0572046861053, \"y\": 2693.0255737304688, \"bigg_id\": \"M_trp__L_c@iMM904\", \"name\": \"L-Tryptophan\", \"label_x\": 660.4887308701873, \"label_y\": 2735.3888549804688, \"node_is_primary\": true, \"compartment\": \"c\"}, \"19\": {\"node_type\": \"multimarker\", \"x\": 853.3599548339844, \"y\": 2474.2537536621094}, \"20\": {\"node_type\": \"midmarker\", \"x\": 853.3599548339844, \"y\": 2494.2537536621094}, \"21\": {\"node_type\": \"multimarker\", \"x\": 853.3599548339844, \"y\": 2514.2537536621094}, \"23\": {\"node_type\": \"metabolite\", \"x\": 933.3599548339844, \"y\": 2599.2537536621094, \"bigg_id\": \"M_h2o_c@iMM904\", \"name\": \"H2O\", \"label_x\": 948.3599548339844, \"label_y\": 2599.2537536621094, \"node_is_primary\": false, \"compartment\": \"c\"}, \"25\": {\"node_type\": \"metabolite\", \"x\": 759.6973876953125, \"y\": 2835.1156616210938, \"bigg_id\": \"M_g3p_c@iMM904\", \"name\": \"Glyceraldehyde3-phosphate\", \"label_x\": 687.6973876953125, \"label_y\": 2865.1156616210938, \"node_is_primary\": true, \"compartment\": \"c\"}, \"34\": {\"node_type\": \"metabolite\", \"x\": 899.7242736816406, \"y\": 1926.2696838378906, \"bigg_id\": \"M_h_c@iMM904\", \"name\": \"H+\", \"label_x\": 924.7242736816406, \"label_y\": 1926.2696838378906, \"node_is_primary\": false, \"compartment\": \"c\"}, \"35\": {\"node_type\": \"multimarker\", \"x\": 978.9252319335938, \"y\": 2014.961898803711}, \"36\": {\"node_type\": \"midmarker\", \"x\": 978.9252319335938, \"y\": 2034.961898803711}, \"37\": {\"node_type\": \"multimarker\", \"x\": 978.9252319335938, \"y\": 2054.961898803711}, \"38\": {\"node_type\": \"metabolite\", \"x\": 979.9680786132812, \"y\": 1859.9703521728516, \"bigg_id\": \"M_2cpr5p_c@iMM904\", \"name\": \"1-(2-carboxyphenylamino)-1-deoxyribulose 5-phosphate\", \"label_x\": 1009.2716064453125, \"label_y\": 1873.3934173583984, \"node_is_primary\": true, \"compartment\": \"c\"}, \"39\": {\"node_type\": \"metabolite\", \"x\": 1058.9252319335938, \"y\": 2139.961898803711, \"bigg_id\": \"M_h2o_c@iMM904\", \"name\": \"H2O\", \"label_x\": 1073.9252319335938, \"label_y\": 2139.961898803711, \"node_is_primary\": false, \"compartment\": \"c\"}, \"40\": {\"node_type\": \"metabolite\", \"x\": 898.9252319335938, \"y\": 2139.961898803711, \"bigg_id\": \"M_co2_c@iMM904\", \"name\": \"CO2\", \"label_x\": 826.9252319335938, \"label_y\": 2169.961898803711, \"node_is_primary\": false, \"compartment\": \"c\"}, \"42\": {\"node_type\": \"metabolite\", \"x\": 1257.6300354003906, \"y\": 768.6616821289062, \"bigg_id\": \"M_gln__L_c@iMM904\", \"name\": \"L-Glutamine\", \"label_x\": 1282.6300354003906, \"label_y\": 768.6616821289062, \"node_is_primary\": false, \"compartment\": \"c\"}, \"43\": {\"node_type\": \"multimarker\", \"x\": 1123.1725769042969, \"y\": 881.2982788085938}, \"44\": {\"node_type\": \"midmarker\", \"x\": 1123.1725769042969, \"y\": 901.2982788085938}, \"45\": {\"node_type\": \"multimarker\", \"x\": 1123.1725769042969, \"y\": 921.2982788085938}, \"47\": {\"node_type\": \"metabolite\", \"x\": 1238.1683654785156, \"y\": 1015.5077514648438, \"bigg_id\": \"M_pyr_c@iMM904\", \"name\": \"Pyruvate\", \"label_x\": 1253.1683654785156, \"label_y\": 1015.5077514648438, \"node_is_primary\": false, \"compartment\": \"c\"}, \"48\": {\"node_type\": \"metabolite\", \"x\": 1214.4676818847656, \"y\": 1043.1359252929688, \"bigg_id\": \"M_glu__L_c@iMM904\", \"name\": \"L-Glutamate\", \"label_x\": 1227.1942443847656, \"label_y\": 1062.0846557617188, \"node_is_primary\": false, \"compartment\": \"c\"}, \"49\": {\"node_type\": \"metabolite\", \"x\": 1180.5147094726562, \"y\": 1065.4992065429688, \"bigg_id\": \"M_h_c@iMM904\", \"name\": \"H+\", \"label_x\": 1195.0831909179688, \"label_y\": 1095.4992065429688, \"node_is_primary\": false, \"compartment\": \"c\"}, \"51\": {\"node_type\": \"metabolite\", \"x\": 693.9665145874023, \"y\": 788.029052734375, \"bigg_id\": \"M_nh4_c@iMM904\", \"name\": \"NH3\", \"label_x\": 718.9665145874023, \"label_y\": 788.029052734375, \"node_is_primary\": false, \"compartment\": \"c\"}, \"55\": {\"node_type\": \"metabolite\", \"x\": 980.501220703125, \"y\": 657.263916015625, \"bigg_id\": \"M_chor_c@iMM904\", \"name\": \"Chorismate\", \"label_x\": 1007.9628601074219, \"label_y\": 661.4775390625, \"node_is_primary\": true, \"compartment\": \"c\"}, \"56\": {\"node_type\": \"metabolite\", \"x\": 753.7058029174805, \"y\": 1069.8709716796875, \"bigg_id\": \"M_h2o_c@iMM904\", \"name\": \"H2O\", \"label_x\": 768.7058029174805, \"label_y\": 1069.8709716796875, \"node_is_primary\": false, \"compartment\": \"c\"}, \"57\": {\"node_type\": \"metabolite\", \"x\": 709.7444114685059, \"y\": 1040.40087890625, \"bigg_id\": \"M_pyr_c@iMM904\", \"name\": \"Pyruvate\", \"label_x\": 637.7444114685059, \"label_y\": 1070.40087890625, \"node_is_primary\": false, \"compartment\": \"c\"}, \"58\": {\"node_type\": \"metabolite\", \"x\": 675.7914733886719, \"y\": 992.7725830078125, \"bigg_id\": \"M_h_c@iMM904\", \"name\": \"H+\", \"label_x\": 603.7914733886719, \"label_y\": 1022.7725830078125, \"node_is_primary\": false, \"compartment\": \"c\"}, \"67\": {\"node_type\": \"metabolite\", \"x\": 978.6301879882812, \"y\": 1507.2216339111328, \"bigg_id\": \"M_pran_c@iMM904\", \"name\": \"N-5-phosphoribosyl-anthranilate\", \"label_x\": 1003.6301879882812, \"label_y\": 1507.2216339111328, \"node_is_primary\": true, \"compartment\": \"c\"}, \"68\": {\"node_type\": \"multimarker\", \"x\": 978.6301879882812, \"y\": 1662.2216339111328}, \"69\": {\"node_type\": \"midmarker\", \"x\": 978.6301879882812, \"y\": 1682.2216339111328}, \"70\": {\"node_type\": \"multimarker\", \"x\": 978.6301879882812, \"y\": 1702.2216339111328}, \"72\": {\"node_type\": \"multimarker\", \"x\": 978.6301879882812, \"y\": 1352.2216339111328}, \"73\": {\"node_type\": \"midmarker\", \"x\": 978.6301879882812, \"y\": 1332.2216339111328}, \"74\": {\"node_type\": \"multimarker\", \"x\": 978.6301879882812, \"y\": 1312.2216339111328}, \"75\": {\"node_type\": \"metabolite\", \"x\": 898.6301879882812, \"y\": 1437.2216339111328, \"bigg_id\": \"M_ppi_c@iMM904\", \"name\": \"PPi\", \"label_x\": 826.6301879882812, \"label_y\": 1467.2216339111328, \"node_is_primary\": false, \"compartment\": \"c\"}, \"76\": {\"node_type\": \"metabolite\", \"x\": 1058.6301879882812, \"y\": 1437.2216339111328, \"bigg_id\": \"M_h_c@iMM904\", \"name\": \"H+\", \"label_x\": 1073.6301879882812, \"label_y\": 1437.2216339111328, \"node_is_primary\": false, \"compartment\": \"c\"}, \"77\": {\"node_type\": \"metabolite\", \"x\": 978.6301879882812, \"y\": 1157.2216339111328, \"bigg_id\": \"M_anth_c@iMM904\", \"name\": \"Anthranilate\", \"label_x\": 1003.6301879882812, \"label_y\": 1157.2216339111328, \"node_is_primary\": true, \"compartment\": \"c\"}, \"78\": {\"node_type\": \"metabolite\", \"x\": 1058.6301879882812, \"y\": 1227.2216339111328, \"bigg_id\": \"M_prpp_c@iMM904\", \"name\": \"PRPP\", \"label_x\": 1073.6301879882812, \"label_y\": 1227.2216339111328, \"node_is_primary\": false, \"compartment\": \"c\"}, \"79\": {\"node_type\": \"multimarker\", \"x\": 980.501220703125, \"y\": 502.263916015625}, \"80\": {\"node_type\": \"midmarker\", \"x\": 980.501220703125, \"y\": 482.263916015625}, \"81\": {\"node_type\": \"multimarker\", \"x\": 980.501220703125, \"y\": 462.263916015625}, \"82\": {\"node_type\": \"metabolite\", \"x\": 1060.501220703125, \"y\": 587.263916015625, \"bigg_id\": \"M_gln__L_c@iMM904\", \"name\": \"L-Glutamine\", \"label_x\": 1075.501220703125, \"label_y\": 587.263916015625, \"node_is_primary\": false, \"compartment\": \"c\"}, \"83\": {\"node_type\": \"metabolite\", \"x\": 1060.501220703125, \"y\": 377.263916015625, \"bigg_id\": \"M_glu__L_c@iMM904\", \"name\": \"L-Glutamate\", \"label_x\": 1075.501220703125, \"label_y\": 377.263916015625, \"node_is_primary\": false, \"compartment\": \"c\"}, \"84\": {\"node_type\": \"metabolite\", \"x\": 980.501220703125, \"y\": 307.263916015625, \"bigg_id\": \"M_4adcho_c@iMM904\", \"name\": \"ADC\", \"label_x\": 1005.501220703125, \"label_y\": 307.263916015625, \"node_is_primary\": true, \"compartment\": \"c\"}}, \"text_labels\": {\"0\": {\"x\": 677.3523559570312, \"y\": 210.0489501953125, \"text\": \"Tryptophan Biosynthesis\"}}, \"canvas\": {\"x\": 0, \"y\": 0, \"width\": 1778.70703125, \"height\": 3036.2708740234375}}]'),\n",
       "               model_data: JSON.parse('null'),\n",
       "               static_site_index: JSON.parse('null'),\n",
       "           };\n",
       "       }\n",
       "   })();\n",
       "  </script>\n"
      ],
      "text/plain": [
       "<IPython.core.display.HTML object>"
      ]
     },
     "execution_count": 81,
     "metadata": {},
     "output_type": "execute_result"
    }
   ],
   "source": [
    "em_chris.display_in_notebook()"
   ]
  },
  {
   "cell_type": "code",
   "execution_count": 77,
   "metadata": {},
   "outputs": [
    {
     "data": {
      "text/html": [
       "\n",
       "\n",
       "\n",
       "  \n",
       "  \n",
       "\n",
       "  \n",
       "  \n",
       "    <link rel=\"stylesheet\" href=\"//unpkg.com/escher-vis@1.6.0/css/dist/builder.min.css\"/>\n",
       "  \n",
       "\n",
       "\n",
       "\n",
       "  <div style=\"height: 500px; width: 100%;\" id=\"dktczgifkv\"></div>\n",
       "\n",
       "  <script>\n",
       "   /* Closure to make sure data only applies to this map. */\n",
       "   (function() {\n",
       "       /* data from python */\n",
       "       var data = get_data();\n",
       "\n",
       "       function load_lib(url, callback) {\n",
       "           /** Dynamically load a JavaScript file */\n",
       "           var s = document.createElement('script');\n",
       "           s.src = url;\n",
       "           s.async = true;\n",
       "           s.onreadystatechange = s.onload = callback;\n",
       "           s.onerror = function() {\n",
       "               console.warn('Failed to load library ' + url);\n",
       "           };\n",
       "           document.getElementsByTagName('head')[0].appendChild(s);\n",
       "       }\n",
       "\n",
       "       function check_global_and_load(name, url, callback) {\n",
       "           /** Look for the name in the global scope. If it isn't present, then\n",
       "              load the library at url. Returns the object. */\n",
       "           if (window[name] !== undefined) {\n",
       "               callback(window[name]);\n",
       "           } else {\n",
       "               load_lib(url, function() {\n",
       "                   callback(window[name]);\n",
       "               });\n",
       "           }\n",
       "       }\n",
       "\n",
       "       function draw_escher(escher) {\n",
       "           /** Get data and draw */\n",
       "           var load = function(t_map_data, t_model_data, t_options) {\n",
       "               escher.Builder(t_map_data, t_model_data, data.builder_embed_css,\n",
       "                              escher.libs.d3_select('#' + data.id), t_options);\n",
       "           }\n",
       "\n",
       "           // for the static site, use the url attributes for the map and model\n",
       "           // information\n",
       "           if (data.static_site_index !== null) {\n",
       "               escher.static.load_map_model_from_url(data.map_download_url, data.model_download_url,\n",
       "                                                     data.static_site_index, data.options, load);\n",
       "           } else {\n",
       "               load(data.map_data, data.model_data, data.options);\n",
       "           }\n",
       "       }\n",
       "\n",
       "       // Load dependencies and draw\n",
       "       if (typeof define === 'function' && define.amd) {\n",
       "           // require.js is available: use it to load escher\n",
       "           require.config({\n",
       "             paths: {\n",
       "               escher: '//unpkg.com/escher-vis@1.6.0/js/dist/escher.min',\n",
       "             },\n",
       "             // Override urlArgs that adds ?v= to the end of the escher URL and\n",
       "             // messes up unpkg links. Honestly, I'm not sure if this will lead\n",
       "             // to downstream bugs in the notebook, but they really shouldn't be\n",
       "             // doing this cache-busting anyway.\n",
       "             urlArgs: null,\n",
       "           })\n",
       "           require([ 'escher' ], function(escher) {\n",
       "               draw_escher(escher);\n",
       "           })\n",
       "       } else {\n",
       "           // require.js not available: dynamically load escher\n",
       "           check_global_and_load('escher', '//unpkg.com/escher-vis@1.6.0/js/dist/escher.min.js', function(escher) {\n",
       "               draw_escher(escher);\n",
       "           })\n",
       "       }\n",
       "\n",
       "       // Put this at the end so Chrome doesn't cut off the code above.\n",
       "       function get_data() {\n",
       "           /** Return the data passed in by the Python module. */\n",
       "           return {\n",
       "               id: JSON.parse('\"dktczgifkv\"'),\n",
       "               map_download_url: JSON.parse('\"//escher.github.io/1-0-0/5/maps/\"'),\n",
       "               model_download_url: JSON.parse('\"//escher.github.io/1-0-0/5/models/\"'),\n",
       "               options: JSON.parse('{\"menu\": \"zoom\", \"enable_keys\": false, \"enable_editing\": false, \"scroll_behavior\": \"none\", \"fill_screen\": false, \"ignore_bootstrap\": true, \"never_ask_before_quit\": true, \"reaction_data\": null, \"metabolite_data\": null, \"gene_data\": null}'),\n",
       "               builder_embed_css: JSON.parse('null'),\n",
       "               map_data: JSON.parse('[{\"map_name\": \"ModelSEED.Tryptophan Biosynthesis\", \"map_id\": \"oAYQ7ne0mWgb\", \"map_description\": \"Tryptophan Biosynthesis\", \"homepage\": \"http://modelseed.org\", \"schema\": \"https://escher.github.io/escher/jsonschema/1-0-0#\", \"authors\": [\"Matthew Hoffman\"]}, {\"reactions\": {\"6\": {\"name\": \"rxn00727\", \"bigg_id\": \"R_ANS@iMM904\", \"reversibility\": false, \"label_x\": 1138.1725769042969, \"label_y\": 911.2982788085938, \"gene_reaction_rule\": \"\", \"genes\": [], \"metabolites\": [{\"bigg_id\": \"M_gln__L_c@iMM904\", \"coefficient\": -1, \"node_uid\": \"42\"}, {\"bigg_id\": \"M_chor_c@iMM904\", \"coefficient\": -1, \"node_uid\": \"55\"}, {\"bigg_id\": \"M_pyr_c@iMM904\", \"coefficient\": 1, \"node_uid\": \"47\"}, {\"bigg_id\": \"M_glu__L_c@iMM904\", \"coefficient\": 1, \"node_uid\": \"48\"}, {\"bigg_id\": \"M_h_c@iMM904\", \"coefficient\": 1, \"node_uid\": \"49\"}, {\"bigg_id\": \"M_anth_c@iMM904\", \"coefficient\": 1, \"node_uid\": \"77\"}], \"segments\": {\"36\": {\"from_node_id\": \"43\", \"to_node_id\": \"44\", \"b1\": null, \"b2\": null}, \"37\": {\"from_node_id\": \"45\", \"to_node_id\": \"44\", \"b1\": null, \"b2\": null}, \"38\": {\"from_node_id\": \"43\", \"to_node_id\": \"42\", \"b1\": {\"x\": 1123.1725769042969, \"y\": 839.2982788085938}, \"b2\": {\"x\": 1148.9589538574219, \"y\": 814.5184936523438}}, \"39\": {\"from_node_id\": \"43\", \"to_node_id\": \"55\", \"b1\": {\"x\": 1123.1725769042969, \"y\": 835.2982788085938}, \"b2\": {\"x\": 1092.2793884277344, \"y\": 734.2702026367188}}, \"40\": {\"from_node_id\": \"45\", \"to_node_id\": \"47\", \"b1\": {\"x\": 1123.1725769042969, \"y\": 967.2982788085938}, \"b2\": {\"x\": 1176.1683654785156, \"y\": 981.7577514648438}}, \"41\": {\"from_node_id\": \"45\", \"to_node_id\": \"48\", \"b1\": {\"x\": 1123.1725769042969, \"y\": 967.2982788085938}, \"b2\": {\"x\": 1154.9034729003906, \"y\": 992.8091430664062}}, \"42\": {\"from_node_id\": \"45\", \"to_node_id\": \"49\", \"b1\": {\"x\": 1123.1725769042969, \"y\": 967.2982788085938}, \"b2\": {\"x\": 1138.7453002929688, \"y\": 1009.1210327148438}}, \"43\": {\"from_node_id\": \"45\", \"to_node_id\": \"77\", \"b1\": {\"x\": 1123.1725769042969, \"y\": 963.2982788085938}, \"b2\": {\"x\": 1064.2323303222656, \"y\": 1061.7533569335938}}}}, \"9\": {\"name\": \"rxn02508\", \"bigg_id\": \"R_PRAIi@iMM904\", \"reversibility\": false, \"label_x\": 993.6301879882812, \"label_y\": 1692.2216339111328, \"gene_reaction_rule\": \"\", \"genes\": [], \"metabolites\": [{\"bigg_id\": \"M_pran_c@iMM904\", \"coefficient\": -1, \"node_uid\": \"67\"}, {\"bigg_id\": \"M_2cpr5p_c@iMM904\", \"coefficient\": 1, \"node_uid\": \"38\"}], \"segments\": {\"58\": {\"from_node_id\": \"68\", \"to_node_id\": \"69\", \"b1\": null, \"b2\": null}, \"59\": {\"from_node_id\": \"70\", \"to_node_id\": \"69\", \"b1\": null, \"b2\": null}, \"60\": {\"from_node_id\": \"68\", \"to_node_id\": \"67\", \"b1\": {\"x\": 978.6301879882812, \"y\": 1620.2216339111328}, \"b2\": {\"x\": 978.6301879882812, \"y\": 1565.9716339111328}}, \"61\": {\"from_node_id\": \"70\", \"to_node_id\": \"38\", \"b1\": {\"x\": 978.6301879882812, \"y\": 1744.2216339111328}, \"b2\": {\"x\": 978.6301879882812, \"y\": 1798.4716339111328}}}}, \"10\": {\"name\": \"rxn00791\", \"bigg_id\": \"R_ANPRT@iMM904\", \"reversibility\": false, \"label_x\": 993.6301879882812, \"label_y\": 1342.2216339111328, \"gene_reaction_rule\": \"\", \"genes\": [], \"metabolites\": [{\"bigg_id\": \"M_ppi_c@iMM904\", \"coefficient\": -1, \"node_uid\": \"75\"}, {\"bigg_id\": \"M_h_c@iMM904\", \"coefficient\": -1, \"node_uid\": \"76\"}, {\"bigg_id\": \"M_pran_c@iMM904\", \"coefficient\": -1, \"node_uid\": \"67\"}, {\"bigg_id\": \"M_anth_c@iMM904\", \"coefficient\": 1, \"node_uid\": \"77\"}, {\"bigg_id\": \"M_prpp_c@iMM904\", \"coefficient\": 1, \"node_uid\": \"78\"}], \"segments\": {\"62\": {\"from_node_id\": \"72\", \"to_node_id\": \"73\", \"b1\": null, \"b2\": null}, \"63\": {\"from_node_id\": \"74\", \"to_node_id\": \"73\", \"b1\": null, \"b2\": null}, \"64\": {\"from_node_id\": \"72\", \"to_node_id\": \"75\", \"b1\": {\"x\": 978.6301879882812, \"y\": 1398.2216339111328}, \"b2\": {\"x\": 960.6301879882812, \"y\": 1403.4716339111328}}, \"65\": {\"from_node_id\": \"72\", \"to_node_id\": \"76\", \"b1\": {\"x\": 978.6301879882812, \"y\": 1398.2216339111328}, \"b2\": {\"x\": 996.6301879882812, \"y\": 1403.4716339111328}}, \"66\": {\"from_node_id\": \"72\", \"to_node_id\": \"67\", \"b1\": {\"x\": 978.6301879882812, \"y\": 1394.2216339111328}, \"b2\": {\"x\": 978.6301879882812, \"y\": 1448.4716339111328}}, \"67\": {\"from_node_id\": \"74\", \"to_node_id\": \"77\", \"b1\": {\"x\": 978.6301879882812, \"y\": 1270.2216339111328}, \"b2\": {\"x\": 978.6301879882812, \"y\": 1215.9716339111328}}, \"68\": {\"from_node_id\": \"74\", \"to_node_id\": \"78\", \"b1\": {\"x\": 978.6301879882812, \"y\": 1266.2216339111328}, \"b2\": {\"x\": 996.6301879882812, \"y\": 1260.9716339111328}}}}, \"11\": {\"name\": \"rxn01257\", \"bigg_id\": \"R_ADCS@iMM904\", \"reversibility\": false, \"label_x\": 995.501220703125, \"label_y\": 492.263916015625, \"gene_reaction_rule\": \"\", \"genes\": [], \"metabolites\": [{\"bigg_id\": \"M_gln__L_c@iMM904\", \"coefficient\": -1, \"node_uid\": \"82\"}, {\"bigg_id\": \"M_chor_c@iMM904\", \"coefficient\": -1, \"node_uid\": \"55\"}, {\"bigg_id\": \"M_glu__L_c@iMM904\", \"coefficient\": 1, \"node_uid\": \"83\"}, {\"bigg_id\": \"M_4adcho_c@iMM904\", \"coefficient\": 1, \"node_uid\": \"84\"}], \"segments\": {\"69\": {\"from_node_id\": \"79\", \"to_node_id\": \"80\", \"b1\": null, \"b2\": null}, \"70\": {\"from_node_id\": \"81\", \"to_node_id\": \"80\", \"b1\": null, \"b2\": null}, \"71\": {\"from_node_id\": \"79\", \"to_node_id\": \"82\", \"b1\": {\"x\": 980.501220703125, \"y\": 548.263916015625}, \"b2\": {\"x\": 998.501220703125, \"y\": 553.513916015625}}, \"72\": {\"from_node_id\": \"79\", \"to_node_id\": \"55\", \"b1\": {\"x\": 980.501220703125, \"y\": 544.263916015625}, \"b2\": {\"x\": 980.501220703125, \"y\": 598.513916015625}}, \"73\": {\"from_node_id\": \"81\", \"to_node_id\": \"83\", \"b1\": {\"x\": 980.501220703125, \"y\": 416.263916015625}, \"b2\": {\"x\": 998.501220703125, \"y\": 411.013916015625}}, \"74\": {\"from_node_id\": \"81\", \"to_node_id\": \"84\", \"b1\": {\"x\": 980.501220703125, \"y\": 420.263916015625}, \"b2\": {\"x\": 980.501220703125, \"y\": 366.013916015625}}}}}, \"nodes\": {\"5\": {\"node_type\": \"metabolite\", \"x\": 982.2060546875, \"y\": 2309.7714080810547, \"bigg_id\": \"M_3ig3p_c@iMM904\", \"name\": \"Indoleglycerol phosphate\", \"label_x\": 1014.5736083984375, \"label_y\": 2320.822708129883, \"node_is_primary\": true, \"compartment\": \"c\"}, \"11\": {\"node_type\": \"metabolite\", \"x\": 728.7234749794006, \"y\": 2314.4721908569336, \"bigg_id\": \"M_ser__L_c@iMM904\", \"name\": \"L-Serine\", \"label_x\": 692.9413475990295, \"label_y\": 2286.843948364258, \"node_is_primary\": true, \"compartment\": \"c\"}, \"16\": {\"node_type\": \"metabolite\", \"x\": 525.6338882446289, \"y\": 2599.36474609375, \"bigg_id\": \"M_h2o_c@iMM904\", \"name\": \"H2O\", \"label_x\": 453.6338882446289, \"label_y\": 2629.36474609375, \"node_is_primary\": false, \"compartment\": \"c\"}, \"17\": {\"node_type\": \"metabolite\", \"x\": 722.0572046861053, \"y\": 2693.0255737304688, \"bigg_id\": \"M_trp__L_c@iMM904\", \"name\": \"L-Tryptophan\", \"label_x\": 660.4887308701873, \"label_y\": 2735.3888549804688, \"node_is_primary\": true, \"compartment\": \"c\"}, \"23\": {\"node_type\": \"metabolite\", \"x\": 933.3599548339844, \"y\": 2599.2537536621094, \"bigg_id\": \"M_h2o_c@iMM904\", \"name\": \"H2O\", \"label_x\": 948.3599548339844, \"label_y\": 2599.2537536621094, \"node_is_primary\": false, \"compartment\": \"c\"}, \"25\": {\"node_type\": \"metabolite\", \"x\": 759.6973876953125, \"y\": 2835.1156616210938, \"bigg_id\": \"M_g3p_c@iMM904\", \"name\": \"Glyceraldehyde3-phosphate\", \"label_x\": 687.6973876953125, \"label_y\": 2865.1156616210938, \"node_is_primary\": true, \"compartment\": \"c\"}, \"34\": {\"node_type\": \"metabolite\", \"x\": 899.7242736816406, \"y\": 1926.2696838378906, \"bigg_id\": \"M_h_c@iMM904\", \"name\": \"H+\", \"label_x\": 924.7242736816406, \"label_y\": 1926.2696838378906, \"node_is_primary\": false, \"compartment\": \"c\"}, \"38\": {\"node_type\": \"metabolite\", \"x\": 979.9680786132812, \"y\": 1859.9703521728516, \"bigg_id\": \"M_2cpr5p_c@iMM904\", \"name\": \"1-(2-carboxyphenylamino)-1-deoxyribulose 5-phosphate\", \"label_x\": 1009.2716064453125, \"label_y\": 1873.3934173583984, \"node_is_primary\": true, \"compartment\": \"c\"}, \"39\": {\"node_type\": \"metabolite\", \"x\": 1058.9252319335938, \"y\": 2139.961898803711, \"bigg_id\": \"M_h2o_c@iMM904\", \"name\": \"H2O\", \"label_x\": 1073.9252319335938, \"label_y\": 2139.961898803711, \"node_is_primary\": false, \"compartment\": \"c\"}, \"40\": {\"node_type\": \"metabolite\", \"x\": 898.9252319335938, \"y\": 2139.961898803711, \"bigg_id\": \"M_co2_c@iMM904\", \"name\": \"CO2\", \"label_x\": 826.9252319335938, \"label_y\": 2169.961898803711, \"node_is_primary\": false, \"compartment\": \"c\"}, \"42\": {\"node_type\": \"metabolite\", \"x\": 1257.6300354003906, \"y\": 768.6616821289062, \"bigg_id\": \"M_gln__L_c@iMM904\", \"name\": \"L-Glutamine\", \"label_x\": 1282.6300354003906, \"label_y\": 768.6616821289062, \"node_is_primary\": false, \"compartment\": \"c\"}, \"43\": {\"node_type\": \"multimarker\", \"x\": 1123.1725769042969, \"y\": 881.2982788085938}, \"44\": {\"node_type\": \"midmarker\", \"x\": 1123.1725769042969, \"y\": 901.2982788085938}, \"45\": {\"node_type\": \"multimarker\", \"x\": 1123.1725769042969, \"y\": 921.2982788085938}, \"47\": {\"node_type\": \"metabolite\", \"x\": 1238.1683654785156, \"y\": 1015.5077514648438, \"bigg_id\": \"M_pyr_c@iMM904\", \"name\": \"Pyruvate\", \"label_x\": 1253.1683654785156, \"label_y\": 1015.5077514648438, \"node_is_primary\": false, \"compartment\": \"c\"}, \"48\": {\"node_type\": \"metabolite\", \"x\": 1214.4676818847656, \"y\": 1043.1359252929688, \"bigg_id\": \"M_glu__L_c@iMM904\", \"name\": \"L-Glutamate\", \"label_x\": 1227.1942443847656, \"label_y\": 1062.0846557617188, \"node_is_primary\": false, \"compartment\": \"c\"}, \"49\": {\"node_type\": \"metabolite\", \"x\": 1180.5147094726562, \"y\": 1065.4992065429688, \"bigg_id\": \"M_h_c@iMM904\", \"name\": \"H+\", \"label_x\": 1195.0831909179688, \"label_y\": 1095.4992065429688, \"node_is_primary\": false, \"compartment\": \"c\"}, \"51\": {\"node_type\": \"metabolite\", \"x\": 693.9665145874023, \"y\": 788.029052734375, \"bigg_id\": \"M_nh4_c@iMM904\", \"name\": \"NH3\", \"label_x\": 718.9665145874023, \"label_y\": 788.029052734375, \"node_is_primary\": false, \"compartment\": \"c\"}, \"55\": {\"node_type\": \"metabolite\", \"x\": 980.501220703125, \"y\": 657.263916015625, \"bigg_id\": \"M_chor_c@iMM904\", \"name\": \"Chorismate\", \"label_x\": 1007.9628601074219, \"label_y\": 661.4775390625, \"node_is_primary\": true, \"compartment\": \"c\"}, \"56\": {\"node_type\": \"metabolite\", \"x\": 753.7058029174805, \"y\": 1069.8709716796875, \"bigg_id\": \"M_h2o_c@iMM904\", \"name\": \"H2O\", \"label_x\": 768.7058029174805, \"label_y\": 1069.8709716796875, \"node_is_primary\": false, \"compartment\": \"c\"}, \"57\": {\"node_type\": \"metabolite\", \"x\": 709.7444114685059, \"y\": 1040.40087890625, \"bigg_id\": \"M_pyr_c@iMM904\", \"name\": \"Pyruvate\", \"label_x\": 637.7444114685059, \"label_y\": 1070.40087890625, \"node_is_primary\": false, \"compartment\": \"c\"}, \"58\": {\"node_type\": \"metabolite\", \"x\": 675.7914733886719, \"y\": 992.7725830078125, \"bigg_id\": \"M_h_c@iMM904\", \"name\": \"H+\", \"label_x\": 603.7914733886719, \"label_y\": 1022.7725830078125, \"node_is_primary\": false, \"compartment\": \"c\"}, \"67\": {\"node_type\": \"metabolite\", \"x\": 978.6301879882812, \"y\": 1507.2216339111328, \"bigg_id\": \"M_pran_c@iMM904\", \"name\": \"N-5-phosphoribosyl-anthranilate\", \"label_x\": 1003.6301879882812, \"label_y\": 1507.2216339111328, \"node_is_primary\": true, \"compartment\": \"c\"}, \"68\": {\"node_type\": \"multimarker\", \"x\": 978.6301879882812, \"y\": 1662.2216339111328}, \"69\": {\"node_type\": \"midmarker\", \"x\": 978.6301879882812, \"y\": 1682.2216339111328}, \"70\": {\"node_type\": \"multimarker\", \"x\": 978.6301879882812, \"y\": 1702.2216339111328}, \"72\": {\"node_type\": \"multimarker\", \"x\": 978.6301879882812, \"y\": 1352.2216339111328}, \"73\": {\"node_type\": \"midmarker\", \"x\": 978.6301879882812, \"y\": 1332.2216339111328}, \"74\": {\"node_type\": \"multimarker\", \"x\": 978.6301879882812, \"y\": 1312.2216339111328}, \"75\": {\"node_type\": \"metabolite\", \"x\": 898.6301879882812, \"y\": 1437.2216339111328, \"bigg_id\": \"M_ppi_c@iMM904\", \"name\": \"PPi\", \"label_x\": 826.6301879882812, \"label_y\": 1467.2216339111328, \"node_is_primary\": false, \"compartment\": \"c\"}, \"76\": {\"node_type\": \"metabolite\", \"x\": 1058.6301879882812, \"y\": 1437.2216339111328, \"bigg_id\": \"M_h_c@iMM904\", \"name\": \"H+\", \"label_x\": 1073.6301879882812, \"label_y\": 1437.2216339111328, \"node_is_primary\": false, \"compartment\": \"c\"}, \"77\": {\"node_type\": \"metabolite\", \"x\": 978.6301879882812, \"y\": 1157.2216339111328, \"bigg_id\": \"M_anth_c@iMM904\", \"name\": \"Anthranilate\", \"label_x\": 1003.6301879882812, \"label_y\": 1157.2216339111328, \"node_is_primary\": true, \"compartment\": \"c\"}, \"78\": {\"node_type\": \"metabolite\", \"x\": 1058.6301879882812, \"y\": 1227.2216339111328, \"bigg_id\": \"M_prpp_c@iMM904\", \"name\": \"PRPP\", \"label_x\": 1073.6301879882812, \"label_y\": 1227.2216339111328, \"node_is_primary\": false, \"compartment\": \"c\"}, \"79\": {\"node_type\": \"multimarker\", \"x\": 980.501220703125, \"y\": 502.263916015625}, \"80\": {\"node_type\": \"midmarker\", \"x\": 980.501220703125, \"y\": 482.263916015625}, \"81\": {\"node_type\": \"multimarker\", \"x\": 980.501220703125, \"y\": 462.263916015625}, \"82\": {\"node_type\": \"metabolite\", \"x\": 1060.501220703125, \"y\": 587.263916015625, \"bigg_id\": \"M_gln__L_c@iMM904\", \"name\": \"L-Glutamine\", \"label_x\": 1075.501220703125, \"label_y\": 587.263916015625, \"node_is_primary\": false, \"compartment\": \"c\"}, \"83\": {\"node_type\": \"metabolite\", \"x\": 1060.501220703125, \"y\": 377.263916015625, \"bigg_id\": \"M_glu__L_c@iMM904\", \"name\": \"L-Glutamate\", \"label_x\": 1075.501220703125, \"label_y\": 377.263916015625, \"node_is_primary\": false, \"compartment\": \"c\"}, \"84\": {\"node_type\": \"metabolite\", \"x\": 980.501220703125, \"y\": 307.263916015625, \"bigg_id\": \"M_4adcho_c@iMM904\", \"name\": \"ADC\", \"label_x\": 1005.501220703125, \"label_y\": 307.263916015625, \"node_is_primary\": true, \"compartment\": \"c\"}}, \"text_labels\": {\"0\": {\"x\": 677.3523559570312, \"y\": 210.0489501953125, \"text\": \"Tryptophan Biosynthesis\"}}, \"canvas\": {\"x\": 0, \"y\": 0, \"width\": 1778.70703125, \"height\": 3036.2708740234375}}]'),\n",
       "               model_data: JSON.parse('null'),\n",
       "               static_site_index: JSON.parse('null'),\n",
       "           };\n",
       "       }\n",
       "   })();\n",
       "  </script>\n"
      ],
      "text/plain": [
       "<IPython.core.display.HTML object>"
      ]
     },
     "execution_count": 77,
     "metadata": {},
     "output_type": "execute_result"
    }
   ],
   "source": [
    "em_chris.display_in_notebook()"
   ]
  },
  {
   "cell_type": "code",
   "execution_count": null,
   "metadata": {},
   "outputs": [],
   "source": [
    "            escher_map_id = ma['map_id']\n",
    "            sbml_id = ma['sbml_id']\n",
    "            target_cmp = ma['cmp_target'][0]\n",
    "            cmp_sbml = ma['cmp_sbml'][0]"
   ]
  },
  {
   "cell_type": "code",
   "execution_count": null,
   "metadata": {},
   "outputs": [],
   "source": []
  }
 ],
 "metadata": {
  "kernelspec": {
   "display_name": "Python 3",
   "language": "python",
   "name": "python3"
  },
  "language_info": {
   "codemirror_mode": {
    "name": "ipython",
    "version": 3
   },
   "file_extension": ".py",
   "mimetype": "text/x-python",
   "name": "python",
   "nbconvert_exporter": "python",
   "pygments_lexer": "ipython3",
   "version": "3.6.5"
  }
 },
 "nbformat": 4,
 "nbformat_minor": 2
}
