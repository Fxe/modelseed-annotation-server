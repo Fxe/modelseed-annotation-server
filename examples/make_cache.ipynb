{
 "cells": [
  {
   "cell_type": "code",
   "execution_count": 95,
   "metadata": {},
   "outputs": [],
   "source": [
    "import os\n",
    "import biosapi\n",
    "import cobrakbase\n",
    "import logging\n",
    "import json\n",
    "from cobrakbase.core import KBaseFBAModel\n",
    "logger = logging.getLogger(__name__)"
   ]
  },
  {
   "cell_type": "code",
   "execution_count": 2,
   "metadata": {},
   "outputs": [],
   "source": [
    "CACHE_BASE_FOLDER = '/Users/fliu/workspace/jupyter/python3/annotation-server/data/'\n",
    "ws_fungi = 'jplfaria:narrative_1510597445008'"
   ]
  },
  {
   "cell_type": "code",
   "execution_count": 8,
   "metadata": {},
   "outputs": [],
   "source": [
    "fungi_model_list = read_json(CACHE_BASE_FOLDER + '/bios_cache_list_fungi.json')"
   ]
  },
  {
   "cell_type": "code",
   "execution_count": 3,
   "metadata": {},
   "outputs": [],
   "source": [
    "%run ../../scripts/bios_utils.py\n",
    "%run ../../notebooks/fungi_manual_curation.py"
   ]
  },
  {
   "cell_type": "code",
   "execution_count": 96,
   "metadata": {},
   "outputs": [],
   "source": [
    "kbase = cobrakbase.KBaseAPI('UGOG6KLAWTCYI2ASYECYHNIIFTEXGA2J')\n",
    "bios_live = biosapi.BIOS()"
   ]
  },
  {
   "cell_type": "code",
   "execution_count": 5,
   "metadata": {},
   "outputs": [
    {
     "name": "stderr",
     "output_type": "stream",
     "text": [
      "WARNING:__main__:[iWV1213] missing id\n",
      "WARNING:__main__:[iWV1213] missing id\n",
      "WARNING:__main__:[iWV1213] missing id\n",
      "WARNING:__main__:[iWV1213] missing id\n",
      "WARNING:__main__:[iWV1213] missing id\n",
      "WARNING:__main__:[iWV1213] missing id\n",
      "WARNING:__main__:[iWV1213] missing id\n"
     ]
    }
   ],
   "source": [
    "%run ../bios_mock.py\n",
    "bios = BIOS_MOCK(CACHE_BASE_FOLDER + '/bios_cache_fungi.json')"
   ]
  },
  {
   "cell_type": "code",
   "execution_count": 91,
   "metadata": {},
   "outputs": [],
   "source": [
    "bios_cache = read_json(CACHE_BASE_FOLDER + '/bios_cache_fungi.json')"
   ]
  },
  {
   "cell_type": "code",
   "execution_count": 92,
   "metadata": {},
   "outputs": [
    {
     "data": {
      "text/plain": [
       "dict_keys(['iMM904', 'iJDZ836', 'iAL1006', 'iWV1213', 'iCT646', 'iJO1366', 'iCac802', 'iAF1260', 'iML1515', 'iMA871', 'yeast_6.06', 'iOD907', 'iLC915', 'yeast_7.6', 'iSS884', 'iNL895', 'iRL766', 'iTO977', 'iJL1454', 'iNX804', 'iWV1314'])"
      ]
     },
     "execution_count": 92,
     "metadata": {},
     "output_type": "execute_result"
    }
   ],
   "source": [
    "bios_cache.keys()"
   ]
  },
  {
   "cell_type": "code",
   "execution_count": 94,
   "metadata": {},
   "outputs": [],
   "source": [
    "for o in fungi_model_list:\n",
    "    model_id = o['entry']\n",
    "    if not model_id in bios_cache:\n",
    "        cmp = None\n",
    "        spi = None\n",
    "        rxn = None\n",
    "        try:\n",
    "            cmp = bios_live.get_model_compartments(model_id)\n",
    "            spi = bios_live.get_model_species(model_id)\n",
    "            rxn = bios_live.get_model_reactions(model_id)\n",
    "        except:\n",
    "            pass\n",
    "        if not cmp == None and not spi == None and not rxn == None:\n",
    "            bios_cache[model_id] = {\n",
    "                'cmp' : cmp, \n",
    "                'spi' : spi, \n",
    "                'rxn' : rxn\n",
    "            }\n",
    "            print(o['entry'])\n",
    "        else:\n",
    "            print('!', o['entry'])"
   ]
  },
  {
   "cell_type": "code",
   "execution_count": 25,
   "metadata": {},
   "outputs": [],
   "source": [
    "fbamodel = KBaseFBAModel(kbase.get_object('iJL1454', ws_fungi))"
   ]
  },
  {
   "cell_type": "code",
   "execution_count": 74,
   "metadata": {},
   "outputs": [],
   "source": [
    "import math\n",
    "\n",
    "def extract_model_to_bios(fbamodel):\n",
    "    cmps = []\n",
    "    spis = []\n",
    "    rxns = []\n",
    "    cmp = {}\n",
    "    for o in fbamodel.get_compartments():\n",
    "        cmp[o['id']] = o['label']\n",
    "        ccmp = {\n",
    "            'major_label': 'ModelCompartment',\n",
    "            'name': o['label'],\n",
    "            'id': o['label']\n",
    "        }\n",
    "        cmps.append(ccmp)\n",
    "    for o in fbamodel.metabolites:\n",
    "        #print(o, o.compartment, cmp[o.compartment])\n",
    "        spi = {\n",
    "            'major_label': 'MetaboliteSpecie',\n",
    "            'id': o.id,\n",
    "            'compartment': cmp[o.compartment],\n",
    "            'name': o.name,\n",
    "        }\n",
    "        spis.append(spi)\n",
    "\n",
    "    for o in fbamodel.reactions:\n",
    "        #print(o.data)\n",
    "\n",
    "        r = []\n",
    "        l = []\n",
    "        for id in o.stoichiometry:\n",
    "            v = o.stoichiometry[id]\n",
    "            if v < 0:\n",
    "                l.append([id, -9999, math.fabs(v)])\n",
    "            elif v > 0:\n",
    "                r.append([id, -9999, math.fabs(v)])\n",
    "\n",
    "\n",
    "        rxn = {\n",
    "            'major_label': 'ModelReaction',\n",
    "            'bios_stoichiometry': { 'r': r, 'l': l},\n",
    "            'bios_id': -1,\n",
    "            'name': o.name,\n",
    "            'id': o.id\n",
    "        }\n",
    "        rxns.append(rxn)\n",
    "    return cmps, spis, rxns\n"
   ]
  },
  {
   "cell_type": "code",
   "execution_count": 75,
   "metadata": {},
   "outputs": [],
   "source": []
  },
  {
   "cell_type": "code",
   "execution_count": 80,
   "metadata": {},
   "outputs": [],
   "source": [
    "fbamodel = KBaseFBAModel(kbase.get_object('iJL1454', ws_fungi))\n",
    "cmps, spis, rxns = extract_model_to_bios(fbamodel)\n",
    "bios_cache['iJL1454'] = {\n",
    "    'cmp' : cmps, \n",
    "    'spi' : spis, \n",
    "    'rxn' : rxns\n",
    "}"
   ]
  },
  {
   "cell_type": "code",
   "execution_count": 81,
   "metadata": {},
   "outputs": [],
   "source": [
    "fbamodel = KBaseFBAModel(kbase.get_object('iNX804', ws_fungi))\n",
    "cmps, spis, rxns = extract_model_to_bios(fbamodel)\n",
    "bios_cache['iNX804'] = {\n",
    "    'cmp' : cmps, \n",
    "    'spi' : spis, \n",
    "    'rxn' : rxns\n",
    "}"
   ]
  },
  {
   "cell_type": "code",
   "execution_count": 82,
   "metadata": {},
   "outputs": [],
   "source": [
    "fbamodel = KBaseFBAModel(kbase.get_object('iWV1314', ws_fungi))\n",
    "cmps, spis, rxns = extract_model_to_bios(fbamodel)\n",
    "bios_cache['iWV1314'] = {\n",
    "    'cmp' : cmps, \n",
    "    'spi' : spis, \n",
    "    'rxn' : rxns\n",
    "}"
   ]
  },
  {
   "cell_type": "code",
   "execution_count": 88,
   "metadata": {},
   "outputs": [
    {
     "data": {
      "text/plain": [
       "{'major_label': 'ModelReaction',\n",
       " 'bios_stoichiometry': {'r': [['M_NADP', -9999, 1.0], ['M_VEML', -9999, 1.0]],\n",
       "  'l': [['M_138THN', -9999, 1.0], ['M_NADPH', -9999, 1.0]]},\n",
       " 'bios_id': -1,\n",
       " 'name': 'Tetrahydroxynaphthalene reductase',\n",
       " 'id': 'R_r1888'}"
      ]
     },
     "execution_count": 88,
     "metadata": {},
     "output_type": "execute_result"
    }
   ],
   "source": [
    "bios_cache['iWV1314']['rxn'][0]"
   ]
  },
  {
   "cell_type": "code",
   "execution_count": 89,
   "metadata": {},
   "outputs": [],
   "source": [
    "write_json(bios_cache, CACHE_BASE_FOLDER + '/bios_cache_fungi.json')"
   ]
  },
  {
   "cell_type": "code",
   "execution_count": 150,
   "metadata": {},
   "outputs": [],
   "source": [
    "MODEL_RXN_MAPPING = None\n",
    "with open(CACHE_BASE_FOLDER + 'rxn_mapping_cache3.json', 'r') as f:\n",
    "    MODEL_RXN_MAPPING = json.loads(f.read())"
   ]
  },
  {
   "cell_type": "code",
   "execution_count": 144,
   "metadata": {},
   "outputs": [],
   "source": [
    "MODEL_RXN_MAPPING_v3 = MODEL_RXN_MAPPING"
   ]
  },
  {
   "cell_type": "code",
   "execution_count": 136,
   "metadata": {},
   "outputs": [],
   "source": [
    "model_cpd_mapping = {}"
   ]
  },
  {
   "cell_type": "code",
   "execution_count": 151,
   "metadata": {},
   "outputs": [],
   "source": [
    "model_rxn_mapping = {}"
   ]
  },
  {
   "cell_type": "code",
   "execution_count": 137,
   "metadata": {},
   "outputs": [
    {
     "data": {
      "text/plain": [
       "dict_keys(['iAL1006', 'iJDZ836', 'iMM904'])"
      ]
     },
     "execution_count": 137,
     "metadata": {},
     "output_type": "execute_result"
    }
   ],
   "source": [
    "MODEL_CPD_MAPPING.keys()"
   ]
  },
  {
   "cell_type": "code",
   "execution_count": 152,
   "metadata": {},
   "outputs": [],
   "source": [
    "for k in MODEL_RXN_MAPPING:\n",
    "    model_rxn_mapping[k] = MODEL_RXN_MAPPING[k]"
   ]
  },
  {
   "cell_type": "code",
   "execution_count": 154,
   "metadata": {},
   "outputs": [
    {
     "name": "stdout",
     "output_type": "stream",
     "text": [
      "iWV1314 False False\n",
      "iMA871 True False\n",
      "iJDZ836 True False\n",
      "iNL895 True False\n",
      "iJL1454 False False\n",
      "iNX804 False False\n",
      "iWV1213 False False\n",
      "iOD907 False False\n"
     ]
    }
   ],
   "source": [
    "for o in l:\n",
    "    model_id = o['entry']\n",
    "    if not model_id in model_cpd_mapping or not model_id in model_rxn_mapping:\n",
    "        print(model_id, model_id in model_cpd_mapping, model_id in model_rxn_mapping)"
   ]
  },
  {
   "cell_type": "code",
   "execution_count": 34,
   "metadata": {},
   "outputs": [],
   "source": [
    "env_ws = 'filipeliu:narrative_1575329472745'\n",
    "pangenome = kbase.get_object('FungalTemplateAndRepresentativeSetOrthosV0', env_ws)"
   ]
  },
  {
   "cell_type": "code",
   "execution_count": 36,
   "metadata": {},
   "outputs": [],
   "source": [
    "env_ws = 'janakakbase:narrative_1570052138482'\n",
    "pangenome = kbase.get_object('FungalTemplate13GenomeOrthologs-OrthoMCL', env_ws)"
   ]
  },
  {
   "cell_type": "code",
   "execution_count": 170,
   "metadata": {},
   "outputs": [],
   "source": [
    "env_ws = 'janakakbase:narrative_1570052138482'\n",
    "pangenome = kbase.get_object('FungalOrthos', env_ws)"
   ]
  },
  {
   "cell_type": "code",
   "execution_count": 181,
   "metadata": {},
   "outputs": [
    {
     "data": {
      "text/plain": [
       "14"
      ]
     },
     "execution_count": 181,
     "metadata": {},
     "output_type": "execute_result"
    }
   ],
   "source": [
    "valid_genomes = set()\n",
    "for model_id in found:\n",
    "    data = bios_model_dict[model_id]\n",
    "    if not 'bios_refseq' in data:\n",
    "        print('!', model_id)\n",
    "    else:\n",
    "        valid_genomes.add(data['bios_refseq']['entry'])\n",
    "len(valid_genomes)"
   ]
  },
  {
   "cell_type": "code",
   "execution_count": 171,
   "metadata": {},
   "outputs": [],
   "source": [
    "ACTIVE_GENOMES = ['GCF_000209165.1',\n",
    " 'GCF_000182925.2',\n",
    " 'GCF_000002525.2',\n",
    " 'GCF_000184455.2',\n",
    " 'GCF_000149615.1',\n",
    " 'GCF_000226395.1',\n",
    " 'GCF_000002515.2',\n",
    " 'GCF_000027005.1',\n",
    " 'GCF_000006335.2',\n",
    " 'GCF_000146045.2',\n",
    " 'GCF_000091025.4',\n",
    " 'GCF_000002545.3',\n",
    " 'Mucor_circinelloides_CBS277.49_v2.0',\n",
    " 'GCF_000002855.3']"
   ]
  },
  {
   "cell_type": "code",
   "execution_count": null,
   "metadata": {},
   "outputs": [],
   "source": []
  },
  {
   "cell_type": "code",
   "execution_count": 172,
   "metadata": {},
   "outputs": [
    {
     "name": "stdout",
     "output_type": "stream",
     "text": [
      "49164/6/1 GCF_000226395.1\n",
      "GCF_000226395.1 janakakbase:narrative_1570052138482 Penicillium rubens Wisconsin 54-1255\n",
      "49164/5/1 GCF_000182925.2\n",
      "GCF_000182925.2 janakakbase:narrative_1570052138482 Neurospora crassa OR74A\n",
      "49164/4/1 GCF_000146045.2\n",
      "GCF_000146045.2 janakakbase:narrative_1570052138482 Saccharomyces cerevisiae S288c\n",
      "Encephalitozoon_hellem_ATCC_50504 janakakbase:narrative_1570052138482 Encephalitozoon hellem ATCC 50504\n",
      "Schizophyllum_commune_H4-8 janakakbase:narrative_1570052138482 Schizophyllum commune H4-8\n"
     ]
    }
   ],
   "source": [
    "active_genomes = ACTIVE_GENOMES\n",
    "\n",
    "ref_to_genome = {}\n",
    "\n",
    "for genome_ref in pangenome['genome_refs']:\n",
    "    info = kbase.get_object_info_from_ref(genome_ref)\n",
    "    if info.id + '.json' in os.listdir(CACHE_BASE_FOLDER + '/cache/genomes'):\n",
    "        print(genome_ref, info.id)\n",
    "    else:\n",
    "        genome_data = kbase.get_object(info.id, info.workspace_id)\n",
    "        write_json(genome_data, CACHE_BASE_FOLDER + '/cache/genomes/' + info.id + '.json', True)\n",
    "    genome_data = read_json(CACHE_BASE_FOLDER + '/cache/genomes/' + info.id + '.json')\n",
    "    genome = cobrakbase.core.KBaseGenome(genome_data)\n",
    "    print(info.id, info.workspace_id, genome.data['scientific_name'])\n",
    "    ref_to_genome[genome_ref] = genome"
   ]
  },
  {
   "cell_type": "code",
   "execution_count": 173,
   "metadata": {},
   "outputs": [
    {
     "name": "stdout",
     "output_type": "stream",
     "text": [
      "49164/6/1 GCF_000226395.1 Penicillium rubens Wisconsin 54-1255\n",
      "49164/5/1 GCF_000182925.2 Neurospora crassa OR74A\n",
      "49164/4/1 GCF_000146045.2 Saccharomyces cerevisiae S288c\n",
      "49164/3/1 GCF_000277815.2 Encephalitozoon hellem ATCC 50504\n",
      "49164/2/1 GCF_000143185.1 Schizophyllum commune H4-8\n"
     ]
    }
   ],
   "source": [
    "genome_id_to_ref = {}\n",
    "\n",
    "for ref in ref_to_genome:\n",
    "    genome = ref_to_genome[ref]\n",
    "    genome_id_to_ref[genome.id] = ref\n",
    "    print(ref, genome.id, genome.data['scientific_name'])"
   ]
  },
  {
   "cell_type": "code",
   "execution_count": 177,
   "metadata": {},
   "outputs": [],
   "source": [
    "%run ../annotation_ortholog.py\n",
    "annotation_orth = AnnotationOrtholog(pangenome, bios)\n",
    "annotation_orth.ref_to_genome = ref_to_genome\n",
    "annotation_orth.genome_id_to_ref = genome_id_to_ref"
   ]
  },
  {
   "cell_type": "code",
   "execution_count": 43,
   "metadata": {},
   "outputs": [],
   "source": [
    "#bios.model_data[model_id].keys()"
   ]
  },
  {
   "cell_type": "code",
   "execution_count": null,
   "metadata": {},
   "outputs": [],
   "source": []
  },
  {
   "cell_type": "code",
   "execution_count": 272,
   "metadata": {},
   "outputs": [
    {
     "name": "stdout",
     "output_type": "stream",
     "text": [
      "<biosapi.core.model.bios_model_reaction.BiosModelReaction object at 0x7ff4795879b0>\n"
     ]
    }
   ],
   "source": [
    "rxn = bios_get_model_reaction(model_id, rxn_id)\n",
    "print(rxn)"
   ]
  },
  {
   "cell_type": "code",
   "execution_count": null,
   "metadata": {},
   "outputs": [],
   "source": []
  },
  {
   "cell_type": "code",
   "execution_count": null,
   "metadata": {},
   "outputs": [],
   "source": []
  },
  {
   "cell_type": "code",
   "execution_count": null,
   "metadata": {},
   "outputs": [],
   "source": []
  },
  {
   "cell_type": "code",
   "execution_count": 258,
   "metadata": {},
   "outputs": [],
   "source": [
    "fbamodel = KBaseFBAModel(kbase.get_object('iAL1006_KBase3', fungi_ws))"
   ]
  },
  {
   "cell_type": "code",
   "execution_count": 259,
   "metadata": {},
   "outputs": [],
   "source": [
    "model_id = 'iAL1006'\n",
    "#model_rxn_mapping[model_id] = {}"
   ]
  },
  {
   "cell_type": "code",
   "execution_count": null,
   "metadata": {},
   "outputs": [],
   "source": []
  },
  {
   "cell_type": "code",
   "execution_count": 261,
   "metadata": {},
   "outputs": [],
   "source": [
    "for r in fbamodel.reactions:\n",
    "    seed_ids = []\n",
    "    sid = r.get_original_id()\n",
    "    if 'dblinks' in r.data and 'ModelSeedReaction' in r.data['dblinks']:\n",
    "        seed_ids = r.data['dblinks']['ModelSeedReaction']\n",
    "        #print(r.id, r.data['dblinks']['ModelSeedReaction'])\n",
    "    elif 'dblinks' in r.data and 'Seed' in r.data['dblinks']:\n",
    "        seed_ids = r.data['dblinks']['Seed']\n",
    "    if len(seed_ids) > 0:\n",
    "        if model_id in model_rxn_mapping and not sid in model_rxn_mapping[model_id]:\n",
    "            model_rxn_mapping[model_id][sid] = []\n",
    "        if model_id in model_rxn_mapping and sid in model_rxn_mapping[model_id]:\n",
    "            if len(model_rxn_mapping[model_id][sid]) == 0:\n",
    "                print(sid, ' -> ', seed_ids)\n",
    "                model_rxn_mapping[model_id][sid] = seed_ids\n",
    "            elif not set(model_rxn_mapping[model_id][sid]) == set(seed_ids):\n",
    "                print(sid, ' -> ', model_rxn_mapping[model_id][sid], '->', seed_ids)\n",
    "                model_rxn_mapping[model_id][sid] = seed_ids"
   ]
  },
  {
   "cell_type": "code",
   "execution_count": 293,
   "metadata": {},
   "outputs": [],
   "source": [
    "annotation_orth.models['iAL1006'] = {}\n",
    "annotation_orth.models['iMM904'] = {}"
   ]
  },
  {
   "cell_type": "code",
   "execution_count": 296,
   "metadata": {},
   "outputs": [
    {
     "name": "stdout",
     "output_type": "stream",
     "text": [
      "R_xylanIN ['C_b', 'C_e']\n"
     ]
    }
   ],
   "source": [
    "rxn = bios_get_model_reaction(model_id, rxn_id)\n",
    "print(rxn_id, get_rxn_compartment(rxn, model_id))"
   ]
  },
  {
   "cell_type": "code",
   "execution_count": 304,
   "metadata": {},
   "outputs": [
    {
     "data": {
      "text/plain": [
       "['rxn35242']"
      ]
     },
     "execution_count": 304,
     "metadata": {},
     "output_type": "execute_result"
    }
   ],
   "source": [
    "model_id = 'iAL1006'\n",
    "model_rxn_mapping['iMM904']['R_PYK']"
   ]
  },
  {
   "cell_type": "code",
   "execution_count": 53,
   "metadata": {},
   "outputs": [
    {
     "data": {
      "text/plain": [
       "[]"
      ]
     },
     "execution_count": 53,
     "metadata": {},
     "output_type": "execute_result"
    }
   ],
   "source": [
    "def get_reaction_mapping(model_id, rxn_id):\n",
    "    if model_id in model_rxn_mapping and rxn_id in model_rxn_mapping[model_id]:\n",
    "        return model_rxn_mapping[model_id][rxn_id]\n",
    "get_reaction_mapping('iAL1006', 'R_r0003')"
   ]
  },
  {
   "cell_type": "code",
   "execution_count": 315,
   "metadata": {},
   "outputs": [],
   "source": [
    "for o in kbase.list_objects(fungi_ws):\n",
    "    if 'KBaseFBA.FBAModel' in o[2]:\n",
    "        print(o[1])\n",
    "    break"
   ]
  },
  {
   "cell_type": "code",
   "execution_count": 24,
   "metadata": {},
   "outputs": [],
   "source": [
    "\n",
    "    \n"
   ]
  },
  {
   "cell_type": "code",
   "execution_count": null,
   "metadata": {},
   "outputs": [],
   "source": []
  },
  {
   "cell_type": "code",
   "execution_count": 30,
   "metadata": {},
   "outputs": [
    {
     "name": "stdout",
     "output_type": "stream",
     "text": [
      "set() set()\n"
     ]
    }
   ],
   "source": [
    "def synch_check(fbamodel, bios_data, model_id):\n",
    "    spi_miss = set()\n",
    "    rxn_miss = set()\n",
    "    for m in fbamodel.metabolites:\n",
    "        sid = m.get_original_id()\n",
    "        s = bios_get_model_species(bios, model_id, sid)\n",
    "        if s == None:\n",
    "            spi_miss.add(m.id)\n",
    "    for o in fbamodel.reactions:\n",
    "        sid = o.get_original_id()\n",
    "        s = bios_get_model_reaction(bios, model_id, sid)\n",
    "        if s == None:\n",
    "            rxn_miss.add(m.id)\n",
    "    print(spi_miss, rxn_miss)\n",
    "synch_check(kbase_models['iAL1006'], bios, 'iAL1006')"
   ]
  },
  {
   "cell_type": "code",
   "execution_count": 328,
   "metadata": {},
   "outputs": [],
   "source": [
    "fbamodel = KBaseFBAModel(kbase_models['iMM904_KBase3'])"
   ]
  },
  {
   "cell_type": "code",
   "execution_count": null,
   "metadata": {},
   "outputs": [],
   "source": []
  },
  {
   "cell_type": "code",
   "execution_count": 333,
   "metadata": {},
   "outputs": [
    {
     "data": {
      "text/plain": [
       "dict_keys(['cmp', 'spi', 'rxn'])"
      ]
     },
     "execution_count": 333,
     "metadata": {},
     "output_type": "execute_result"
    }
   ],
   "source": [
    "bios_cache['iMM904']['spi']"
   ]
  },
  {
   "cell_type": "code",
   "execution_count": 48,
   "metadata": {},
   "outputs": [],
   "source": [
    "model_rxn_mapping = None\n",
    "with open(CACHE_BASE_FOLDER + 'rxn_mapping_cache3.json', 'r') as f:\n",
    "    model_rxn_mapping = json.loads(f.read())\n",
    "model_cpd_mapping = None\n",
    "with open(CACHE_BASE_FOLDER + 'cpd_mapping_cache3.json', 'r') as f:\n",
    "    model_cpd_mapping = json.loads(f.read())"
   ]
  },
  {
   "cell_type": "code",
   "execution_count": 49,
   "metadata": {},
   "outputs": [],
   "source": []
  },
  {
   "cell_type": "code",
   "execution_count": null,
   "metadata": {},
   "outputs": [],
   "source": []
  },
  {
   "cell_type": "code",
   "execution_count": 200,
   "metadata": {},
   "outputs": [],
   "source": [
    "def get_reactions_by_compartment(aaaaaaaaa, seed_rxn_id, compartment):\n",
    "    pass"
   ]
  },
  {
   "cell_type": "code",
   "execution_count": 84,
   "metadata": {},
   "outputs": [],
   "source": [
    "def get_model_rxn_grp(aaaaaaaaa, bios, seed_rxn_id, compartment = None, standard_compartment = True):\n",
    "    model_rxn_grp = {}\n",
    "    for model_id in aaaaaaaaa.models:\n",
    "        model_rxn_grp[model_id] = {}\n",
    "        if model_id in model_rxn_mapping:\n",
    "            for rxn_id in model_rxn_mapping[model_id]:\n",
    "                if len(model_rxn_mapping[model_id][rxn_id]) > 0:\n",
    "                    rxn = bios_get_model_reaction(bios, model_id, rxn_id)\n",
    "                    cmp = get_rxn_compartment(bios, rxn, model_id)\n",
    "                    seed_id = get_reaction_mapping(model_id, rxn.id)\n",
    "                    if seed_rxn_id in seed_id:\n",
    "                        if compartment == None:\n",
    "                            kbase_rxn = get_kbase_reaction(aaaaaaaaa, model_id, rxn.id)\n",
    "                            if not kbase_rxn == None:\n",
    "                                model_rxn_grp[model_id][rxn.id] = kbase_rxn\n",
    "                            else:\n",
    "                                print('!!!!')\n",
    "                        else:\n",
    "                            model_rxn_grp[model_id][rxn.id] = rxn\n",
    "                #print(rxn_id, get_rxn_compartment(rxn, model_id))\n",
    "    return model_rxn_grp\n",
    "model_rxn_grp = get_model_rxn_grp(annotation_orth, bios, 'rxn00148')"
   ]
  },
  {
   "cell_type": "code",
   "execution_count": 82,
   "metadata": {},
   "outputs": [],
   "source": []
  },
  {
   "cell_type": "code",
   "execution_count": null,
   "metadata": {},
   "outputs": [],
   "source": [
    "annotation_orth.get_genes"
   ]
  },
  {
   "cell_type": "code",
   "execution_count": 73,
   "metadata": {},
   "outputs": [
    {
     "data": {
      "text/plain": [
       "<biosapi.core.model.bios_model_reaction.BiosModelReaction at 0x7fc287b065f8>"
      ]
     },
     "execution_count": 73,
     "metadata": {},
     "output_type": "execute_result"
    }
   ],
   "source": [
    "model_rxn_grp['iCT646']['R_PYK']"
   ]
  },
  {
   "cell_type": "code",
   "execution_count": 146,
   "metadata": {},
   "outputs": [
    {
     "name": "stderr",
     "output_type": "stream",
     "text": [
      "WARNING:__main__:[iOD907] R_00511: ( 3.A.1.208.# )\n",
      "WARNING:__main__:[iOD907] R_01844: ( 3.A.1.208.# )\n",
      "WARNING:__main__:[iOD907] R_01313: ( 9.A.6.1.# )\n"
     ]
    }
   ],
   "source": [
    "model_gene_reaction = {}"
   ]
  },
  {
   "cell_type": "code",
   "execution_count": 208,
   "metadata": {},
   "outputs": [
    {
     "name": "stdout",
     "output_type": "stream",
     "text": [
      "YOR347C pyruvate kinase PYK2 cluster614\n",
      "YAL038W pyruvate kinase CDC19 cluster614\n",
      "YOR347C pyruvate kinase PYK2 cluster614\n",
      "YAL038W pyruvate kinase CDC19 cluster614\n",
      "Pc18g06000 hypothetical protein cluster614\n",
      "YOR347C pyruvate kinase PYK2 cluster614\n",
      "YAL038W pyruvate kinase CDC19 cluster614\n",
      "YOR347C pyruvate kinase PYK2 cluster614\n",
      "YAL038W pyruvate kinase CDC19 cluster614\n"
     ]
    }
   ],
   "source": [
    "def get_orthologs_from_seed_rxn_id2(aaaaaaaaa, bios, seed_rxn_id, compartment = None, standard_compartment = True):\n",
    "    model_rxn_grp = get_model_rxn_grp(aaaaaaaaa, bios, seed_rxn_id, compartment, standard_compartment)\n",
    "    genome_match = {}\n",
    "\n",
    "    all_orthologs = set()\n",
    "    matched_orthologs = set()\n",
    "    for model_id in model_rxn_grp:\n",
    "        genome_id = aaaaaaaaa.model_to_genome[model_id]\n",
    "        if genome_id in aaaaaaaaa.genome_id_to_ref:\n",
    "            if not genome_id in genome_match:\n",
    "                genome_match[genome_id] = {}\n",
    "            genome_match[genome_id][model_id] = []\n",
    "            genome = aaaaaaaaa.ref_to_genome[aaaaaaaaa.genome_id_to_ref[genome_id]]\n",
    "            for rxn_id in model_rxn_grp[model_id]:\n",
    "                gpr_exp = model_rxn_grp[model_id][rxn_id].data['imported_gpr']\n",
    "                genes = aaaaaaaaa.get_genes(gpr_exp)\n",
    "                \n",
    "                logger.debug(\"%s %s %s\", genome_id, gpr_exp, genes)\n",
    "                #print(genome_id, gpr_exp, genes)\n",
    "                exp_match = {\n",
    "                    'rxn_id' : rxn_id,\n",
    "                    'gpr' : model_rxn_grp[model_id][rxn_id].data['imported_gpr'],\n",
    "                    'genes' : {}\n",
    "                }\n",
    "                \n",
    "                for gene_id in genes:\n",
    "                    features = list(filter(lambda x : x['id'] == gene_id, genome.features))\n",
    "                    if len(features) == 1:\n",
    "                        ortholog = aaaaaaaaa.get_ortholog(genome_id, gene_id)\n",
    "                        matched_orthologs.add((genome_id, gene_id, ortholog['id']))\n",
    "                        for o in ortholog['orthologs']:\n",
    "                            o_genome_id = aaaaaaaaa.ref_to_genome[o[2]].id\n",
    "                            if o_genome_id in aaaaaaaaa.model_to_genome.values():\n",
    "                                all_orthologs.add((o_genome_id, o[0], ortholog['id']))\n",
    "                        gene_function = '?' if not 'function' in features[0] else features[0]['function']\n",
    "                        print(features[0]['id'], gene_function, ortholog['id'])\n",
    "                        exp_match['genes'][gene_id] = {\n",
    "                            'ortholog_id' : ortholog['id'],\n",
    "                            'function' : gene_function\n",
    "                        }\n",
    "                    else:\n",
    "                        print('!', gene_id, len(features))\n",
    "                logger.debug(\"%s\", exp_match)\n",
    "                genome_match[genome_id][model_id].append(exp_match)\n",
    "                #print(rxn_id, model_rxn_grp[model_id][rxn_id], gpr_exp)\n",
    "    return all_orthologs, matched_orthologs, genome_match\n",
    "\n",
    "all_orthologs, matched_orthologs, genome_match = get_orthologs_from_seed_rxn_id2(annotation_orth, bios, 'rxn00148')"
   ]
  },
  {
   "cell_type": "code",
   "execution_count": null,
   "metadata": {},
   "outputs": [],
   "source": []
  },
  {
   "cell_type": "code",
   "execution_count": null,
   "metadata": {},
   "outputs": [],
   "source": [
    "'KLLA0F23397g'"
   ]
  },
  {
   "cell_type": "code",
   "execution_count": 180,
   "metadata": {},
   "outputs": [
    {
     "name": "stdout",
     "output_type": "stream",
     "text": [
      "['YAL038W', 30, '49164/4/1'] GCF_000146045.2 True\n",
      "['YOR347C', 5854, '49164/4/1'] GCF_000146045.2 True\n",
      "['Pc18g06000', 8904, '49164/6/1'] GCF_000226395.1 True\n",
      "['NCU06075', 9789, '49164/5/1'] GCF_000182925.2 True\n",
      "['EHEL_090610', 1328, '49164/3/1'] GCF_000277815.2 False\n",
      "['SCHCODRAFT_73013', 1702, '49164/2/1'] GCF_000143185.1 False\n"
     ]
    }
   ],
   "source": [
    "ortholog = annotation_orth.get_ortholog('GCF_000146045.2', 'YAL038W')\n",
    "for o in ortholog['orthologs']:\n",
    "    o_genome_id = annotation_orth.ref_to_genome[o[2]].id\n",
    "    print(o, o_genome_id, o_genome_id in annotation_orth.model_to_genome.values())"
   ]
  },
  {
   "cell_type": "code",
   "execution_count": 209,
   "metadata": {},
   "outputs": [
    {
     "data": {
      "text/plain": [
       "{'gene_reaction': {'GCF_000146045.2': {'YAL038W': ['r_0962'],\n",
       "   'YOR347C': ['r_0962']},\n",
       "  'GCF_000226395.1': {'Pc18g06000': ['R_r0016']},\n",
       "  'GCF_000182925.2': {'NCU06075': ['PEPDEPHOS__45__RXN__45__R2L']},\n",
       "  'GCF_000277815.2': {'EHEL_090610': []},\n",
       "  'GCF_000143185.1': {'SCHCODRAFT_73013': []}},\n",
       " 'orthologs': {'cluster614': {'GCF_000146045.2': {'YAL038W': 'pyruvate kinase CDC19',\n",
       "    'YOR347C': 'pyruvate kinase PYK2'},\n",
       "   'GCF_000226395.1': {'Pc18g06000': 'hypothetical protein'},\n",
       "   'GCF_000182925.2': {'NCU06075': 'pyruvate kinase'},\n",
       "   'GCF_000277815.2': {'EHEL_090610': '?'},\n",
       "   'GCF_000143185.1': {'SCHCODRAFT_73013': '?'}}},\n",
       " 'genomes': {'GCF_000146045.2': {'name': 'Saccharomyces cerevisiae S288c',\n",
       "   'source': {'iMM904': [{'rxn_id': 'R_PYK',\n",
       "      'gpr': '(YAL038W or YOR347C)',\n",
       "      'genes': {'YOR347C': {'ortholog_id': 'cluster614',\n",
       "        'function': 'pyruvate kinase PYK2'},\n",
       "       'YAL038W': {'ortholog_id': 'cluster614',\n",
       "        'function': 'pyruvate kinase CDC19'}}}],\n",
       "    'iTO977': [{'rxn_id': 'R_CDC19',\n",
       "      'gpr': '(YAL038W or YOR347C)',\n",
       "      'genes': {'YOR347C': {'ortholog_id': 'cluster614',\n",
       "        'function': 'pyruvate kinase PYK2'},\n",
       "       'YAL038W': {'ortholog_id': 'cluster614',\n",
       "        'function': 'pyruvate kinase CDC19'}}}],\n",
       "    'yeast_6.06': [{'rxn_id': 'r_0962',\n",
       "      'gpr': '(YOR347C OR YAL038W)',\n",
       "      'genes': {'YOR347C': {'ortholog_id': 'cluster614',\n",
       "        'function': 'pyruvate kinase PYK2'},\n",
       "       'YAL038W': {'ortholog_id': 'cluster614',\n",
       "        'function': 'pyruvate kinase CDC19'}}}],\n",
       "    'yeast_7.6': [{'rxn_id': 'r_0962',\n",
       "      'gpr': '(YAL038W OR YOR347C)',\n",
       "      'genes': {'YOR347C': {'ortholog_id': 'cluster614',\n",
       "        'function': 'pyruvate kinase PYK2'},\n",
       "       'YAL038W': {'ortholog_id': 'cluster614',\n",
       "        'function': 'pyruvate kinase CDC19'}}}]}},\n",
       "  'GCF_000226395.1': {'name': 'Penicillium rubens Wisconsin 54-1255',\n",
       "   'source': {'iAL1006': [{'rxn_id': 'R_r0016',\n",
       "      'gpr': '( Pc18g06000 )',\n",
       "      'genes': {'Pc18g06000': {'ortholog_id': 'cluster614',\n",
       "        'function': 'hypothetical protein'}}}]}},\n",
       "  'GCF_000182925.2': {'name': 'Neurospora crassa OR74A',\n",
       "   'source': {'iJDZ836': []}}}}"
      ]
     },
     "execution_count": 209,
     "metadata": {},
     "output_type": "execute_result"
    }
   ],
   "source": [
    "\n",
    "res = process_data2(annotation_orth, all_orthologs, genome_match)\n",
    "res"
   ]
  },
  {
   "cell_type": "code",
   "execution_count": 196,
   "metadata": {},
   "outputs": [
    {
     "name": "stdout",
     "output_type": "stream",
     "text": [
      "['YAL038W', 30, '49164/4/1']\n",
      "GCF_000146045.2\n",
      "['YOR347C', 5854, '49164/4/1']\n",
      "GCF_000146045.2\n",
      "['Pc18g06000', 8904, '49164/6/1']\n",
      "GCF_000226395.1\n",
      "['NCU06075', 9789, '49164/5/1']\n",
      "GCF_000182925.2\n",
      "['EHEL_090610', 1328, '49164/3/1']\n",
      "GCF_000277815.2\n",
      "['SCHCODRAFT_73013', 1702, '49164/2/1']\n",
      "GCF_000143185.1\n"
     ]
    }
   ],
   "source": [
    "ortholog_data = list(filter(lambda x : x['id'] == 'cluster614', annotation_orth.ortho['orthologs']))[0]\n",
    "for o in ortholog_data['orthologs']:\n",
    "    print(o)\n",
    "    genome_ref = o[2]\n",
    "    genome = annotation_orth.ref_to_genome[genome_ref]\n",
    "    print(genome.id)"
   ]
  },
  {
   "cell_type": "code",
   "execution_count": 166,
   "metadata": {},
   "outputs": [
    {
     "data": {
      "text/plain": [
       "{'GCF_000091025.4': {'AGOS_ADR368W': {}},\n",
       " 'GCF_000184455.2': {'AO090005001556': {}},\n",
       " 'GCF_000002515.2': {'KLLA0F23397g': {}},\n",
       " 'GCF_000209165.1': {'PICST_83166': {}},\n",
       " 'GCF_000006335.2': {'CTRG_01460': {}},\n",
       " 'GCF_000002545.3': {'CAGL0M12034g': {}, 'CAGL0E05610g': {}},\n",
       " 'GCF_000027005.1': {'PAS_chr2-1_0769': {}},\n",
       " 'GCF_000182925.2': {'NCU06075': {}},\n",
       " 'GCF_000149615.1': {'ATEG_03685': {}},\n",
       " 'GCF_000226395.1': {'Pc18g06000': {}},\n",
       " 'Mucor_circinelloides_CBS277.49_v2.0': {'156910': {}},\n",
       " 'GCF_000002525.2': {'YALI0F09185g': {}},\n",
       " 'GCF_000146045.2': {'YAL038W': {}, 'YOR347C': {}}}"
      ]
     },
     "execution_count": 166,
     "metadata": {},
     "output_type": "execute_result"
    }
   ],
   "source": [
    "def add_gene_reactions(res):\n",
    "\n",
    "            \n",
    "        #print(res['orthologs'][o][genome_id])\n",
    "res['gene_reaction']"
   ]
  },
  {
   "cell_type": "code",
   "execution_count": 97,
   "metadata": {},
   "outputs": [],
   "source": [
    "env_ws = 'filipeliu:narrative_1575329472745'\n",
    "ortho = kbase.get_object('FungalTemplateAndRepresentativeSetOrthosV0', env_ws)"
   ]
  },
  {
   "cell_type": "code",
   "execution_count": 101,
   "metadata": {},
   "outputs": [
    {
     "name": "stdout",
     "output_type": "stream",
     "text": [
      "Rhizophagus_irregularis janakakbase:narrative_1570052138482\n",
      "Rhodotorula_toruloides_NP11 janakakbase:narrative_1570052138482\n",
      "GCF_000002515.2 janakakbase:narrative_1570052138482\n",
      "Tuber_melanosporum_Mel28 janakakbase:narrative_1570052138482\n",
      "Ustilago_maydis_521 janakakbase:narrative_1570052138482\n",
      "GCF_000149615.1 janakakbase:narrative_1570052138482\n",
      "Cryptococcus_neoformans_var._grubii_H99 janakakbase:narrative_1570052138482\n",
      "Piromyces_finnis janakakbase:narrative_1570052138482\n",
      "GCF_000209165.1 janakakbase:narrative_1570052138482\n",
      "GCF_000002525.2 janakakbase:narrative_1570052138482\n",
      "Mucor_circinelloides_CBS277.49_v2.0 janakakbase:narrative_1570052138482\n",
      "Mucor_circinelloides_f_lusitanicus_CBS277_49 janakakbase:narrative_1570052138482\n",
      "GCF_000027005.1 janakakbase:narrative_1570052138482\n",
      "Aspergillus_nidulans janakakbase:narrative_1570052138482\n",
      "Laccaria_bicolor janakakbase:narrative_1570052138482\n",
      "GCF_000002545.3 janakakbase:narrative_1570052138482\n",
      "GCF_000091025.4 janakakbase:narrative_1570052138482\n",
      "Rhizoclosmatium_globosum janakakbase:narrative_1570052138482\n",
      "GCF_000006335.2 janakakbase:narrative_1570052138482\n",
      "Mortierella_elongata janakakbase:narrative_1570052138482\n",
      "GCF_000226395.1 janakakbase:narrative_1570052138482\n",
      "GCF_000184455.2 janakakbase:narrative_1570052138482\n",
      "Schizosaccharomyces_pombe janakakbase:narrative_1570052138482\n",
      "GCF_000182925.2 janakakbase:narrative_1570052138482\n",
      "GCF_000146045.2 janakakbase:narrative_1570052138482\n"
     ]
    }
   ],
   "source": [
    "for genome_ref in ortho['genome_refs']:\n",
    "    info = kbase.get_object_info_from_ref(genome_ref)\n",
    "    copy_object(kbase.ws_client, info.id, info.workspace_id, \n",
    "                info.id, env_ws)\n",
    "    #genome_data = read_json(annotation_path + info.id + '.json')\n",
    "    #genome_data = kbase.get_object(info.id, info.workspace_id)\n",
    "    #genome = cobrakbase.core.KBaseGenome(genome_data)\n",
    "    print(info.id, info.workspace_id)\n",
    "    #ref_to_genome[genome_ref] = genome"
   ]
  },
  {
   "cell_type": "code",
   "execution_count": 99,
   "metadata": {},
   "outputs": [],
   "source": [
    "def copy_object(wclient, from_id, from_ws, to_id, to_ws):\n",
    "    params = {\n",
    "        'from' : {'name' : from_id, 'workspace' : from_ws},\n",
    "        'to' : {'name' : to_id, 'workspace' : to_ws}\n",
    "    }\n",
    "    return wclient.copy_object(params)"
   ]
  },
  {
   "cell_type": "code",
   "execution_count": null,
   "metadata": {},
   "outputs": [],
   "source": []
  }
 ],
 "metadata": {
  "kernelspec": {
   "display_name": "Python 3",
   "language": "python",
   "name": "python3"
  },
  "language_info": {
   "codemirror_mode": {
    "name": "ipython",
    "version": 3
   },
   "file_extension": ".py",
   "mimetype": "text/x-python",
   "name": "python",
   "nbconvert_exporter": "python",
   "pygments_lexer": "ipython3",
   "version": "3.6.5"
  }
 },
 "nbformat": 4,
 "nbformat_minor": 2
}
