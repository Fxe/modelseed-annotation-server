{
 "cells": [
  {
   "cell_type": "code",
   "execution_count": 2,
   "metadata": {},
   "outputs": [
    {
     "name": "stdout",
     "output_type": "stream",
     "text": [
      "cobrakbase 0.2.2\n"
     ]
    }
   ],
   "source": [
    "import os\n",
    "import biosapi\n",
    "import cobrakbase\n",
    "from cobrakbase.core import KBaseFBAModel"
   ]
  },
  {
   "cell_type": "code",
   "execution_count": 3,
   "metadata": {},
   "outputs": [],
   "source": [
    "kbase = cobrakbase.KBaseAPI('UGOG6KLAWTCYI2ASYECYHNIIFTEXGA2J')\n",
    "bios_live = biosapi.BIOS()\n",
    "ws_fungi = 'jplfaria:narrative_1510597445008'\n",
    "CACHE_BASE_FOLDER = '/Users/fliu/workspace/jupyter/python3/annotation-server/data/'"
   ]
  },
  {
   "cell_type": "code",
   "execution_count": 5,
   "metadata": {},
   "outputs": [],
   "source": [
    "%run ../../scripts/bios_utils.py"
   ]
  },
  {
   "cell_type": "code",
   "execution_count": 6,
   "metadata": {},
   "outputs": [],
   "source": [
    "models = [\n",
    "    'iNL895',\n",
    "    'iCT646',\n",
    "    \n",
    "    'iMM904',\n",
    "    'iTO977',\n",
    "    'iSS884',\n",
    "    'iLC915',\n",
    "    \n",
    "    'iWV1213',\n",
    "    'iAL1006',\n",
    "    \n",
    "    'iRL766',\n",
    "    'iMA871',\n",
    "    \n",
    "    'iJDZ836',\n",
    "    'iWV1314',\n",
    "    'iOD907',\n",
    "    'iJL1454',\n",
    "    'iNX804',\n",
    "    'yeast_6.06',\n",
    "    'yeast_7.6',\n",
    "]"
   ]
  },
  {
   "cell_type": "code",
   "execution_count": 7,
   "metadata": {},
   "outputs": [
    {
     "name": "stdout",
     "output_type": "stream",
     "text": [
      "set()\n",
      "{'iOD907', 'iNX804', 'iWV1213', 'iSS884', 'iMA871', 'iNL895', 'iWV1314', 'iMM904', 'iLC915', 'iTO977', 'iJDZ836', 'iJL1454', 'iCT646', 'yeast_7.6', 'iRL766', 'iAL1006', 'yeast_6.06'}\n",
      "iOD907 GCF_000002515.2\n",
      "False iOD907 Kluyveromyces lactis NRRL Y-1140\n",
      "iNX804 GCF_000002545.3\n",
      "False iNX804 Candida glabrata CBS 138\n",
      "iWV1213 Mucor_circinelloides_CBS277.49_v2.0\n",
      "False iWV1213 unknown_taxon\n",
      "iSS884 GCF_000209165.1\n",
      "False iSS884 Scheffersomyces stipitis CBS 6054\n",
      "iMA871 GCF_000002855.3\n",
      "False iMA871 Aspergillus niger CBS 513.88\n",
      "iNL895 GCF_000002525.2\n",
      "False iNL895 Yarrowia lipolytica CLIB122\n",
      "iWV1314 GCF_000184455.2\n",
      "False iWV1314 Aspergillus oryzae RIB40\n",
      "False iMM904 Saccharomyces cerevisiae S288C\n",
      "iLC915 GCF_000027005.1\n",
      "False iLC915 Komagataella phaffii GS115\n",
      "False iTO977 Saccharomyces cerevisiae S288C\n",
      "iJDZ836 GCF_000182925.2\n",
      "False iJDZ836 Neurospora crassa OR74A\n",
      "iJL1454 GCF_000149615.1\n",
      "False iJL1454 Aspergillus terreus NIH2624\n",
      "iCT646 GCF_000006335.2\n",
      "False iCT646 Candida tropicalis MYA-3404\n",
      "False yeast_7.6 Saccharomyces cerevisiae S288C\n",
      "iRL766 GCF_000091025.4\n",
      "False iRL766 Eremothecium gossypii ATCC 10895\n",
      "iAL1006 GCF_000226395.1\n",
      "False iAL1006 Penicillium rubens Wisconsin 54-1255\n",
      "False yeast_6.06 Saccharomyces cerevisiae S288C\n"
     ]
    }
   ],
   "source": [
    "def get_bios_tax_lineage(genome):\n",
    "    bios_tax_lineage = list(map(lambda x : x.strip(), genome['taxonomy'].split('; ')))\n",
    "    bios_tax_lineage.append(genome['scientific_name'])\n",
    "    bios_tax_lineage.reverse()\n",
    "    bios_tax_lineage.append('root')\n",
    "    return bios_tax_lineage\n",
    "\n",
    "def build_fungi_list(bios, kbase, fungi_ws):\n",
    "    bios_model_list = bios.get_models()\n",
    "    bios_model_dict = {}\n",
    "    for o in bios_model_list:\n",
    "        if 'entry' in o:\n",
    "            bios_model_dict[o['entry']] = o\n",
    "            \n",
    "    bios_model_dict['iNX804'] = {\n",
    "        'entry' : 'iNX804',\n",
    "        'proxy' : False,\n",
    "    }\n",
    "    bios_model_dict['iWV1314'] = {\n",
    "        'entry' : 'iWV1314',\n",
    "        'proxy' : False,\n",
    "    }\n",
    "    bios_model_dict['iJL1454'] = {\n",
    "        'entry' : 'iJL1454',\n",
    "        'proxy' : False,\n",
    "    }\n",
    "    bios_model_dict['iWV1213'] = {\n",
    "        'entry' : 'iWV1213',\n",
    "        'proxy' : False,\n",
    "    }\n",
    "    \n",
    "    bios_model_dict['yeast_6.06']['bios_tax_lineage'] = bios_model_dict['iMM904']['bios_tax_lineage']\n",
    "    bios_model_dict['yeast_7.6']['bios_tax_lineage'] = bios_model_dict['iMM904']['bios_tax_lineage']\n",
    "    bios_model_dict['yeast_7.6']['bios_refseq'] = bios_model_dict['iMM904']['bios_refseq']\n",
    "    bios_model_dict['yeast_6.06']['bios_refseq'] = bios_model_dict['iMM904']['bios_refseq']\n",
    "    \n",
    "    found = set(bios_model_dict) & set(models)\n",
    "    missing = set(models) - set(bios_model_dict)\n",
    "    print(missing)\n",
    "    print(found)\n",
    "    \n",
    "    #fungi_ws = 'jplfaria:narrative_1510597445008'\n",
    "    kmodels = {}\n",
    "    fbamodels = {}\n",
    "    for model_id in models:\n",
    "        kmodel = kbase.get_object(model_id + '_KBase2', fungi_ws)\n",
    "        kmodels[model_id] = kmodel\n",
    "        fbamodels[model_id] = KBaseFBAModel(kmodel)\n",
    "    \n",
    "    for model_id in found:\n",
    "        data = bios_model_dict[model_id]\n",
    "        id = model_id\n",
    "        proxy = data['proxy']\n",
    "        if not 'bios_tax_lineage' in data:\n",
    "            genome_ref = fbamodels[model_id].data['genome_ref']\n",
    "            ref = kbase.get_object_info_from_ref(genome_ref)\n",
    "            if ref.id + '.json' in os.listdir(CACHE_BASE_FOLDER + '/cache/genomes'):\n",
    "                genome = read_json(CACHE_BASE_FOLDER + '/cache/genomes/' + ref.id + '.json')\n",
    "                data['bios_refseq'] = {\n",
    "                    'entry' : genome['id']\n",
    "                }\n",
    "                data['bios_tax_lineage'] = get_bios_tax_lineage(genome)\n",
    "                print(id, ref.id)\n",
    "        bios_tax_lineage = '?' if not 'bios_tax_lineage' in data else data['bios_tax_lineage'][0]\n",
    "\n",
    "        print(proxy, id, bios_tax_lineage)\n",
    "        \n",
    "    taxa = [\n",
    "        'root',\n",
    "        'cellular organisms',\n",
    "     'Eukaryota',\n",
    "     'Opisthokonta',\n",
    "     'Fungi',\n",
    "     'Fungi incertae sedis',\n",
    "     'Mucoromycota',\n",
    "     'Mucoromycotina',\n",
    "     'Mucoromycetes',\n",
    "     'Mucorales',\n",
    "     'Mucorineae',\n",
    "     'Mucoraceae',\n",
    "     'Mucor',\n",
    "     'Mucor circinelloides',\n",
    "     'Mucor circinelloides f. lusitanicus',\n",
    "     'Mucor circinelloides f. lusitanicus CBS 277.49'\n",
    "           ]\n",
    "    taxa.reverse()\n",
    "    bios_model_dict['iWV1213']['bios_tax_lineage'] = taxa\n",
    "    \n",
    "    l = []\n",
    "    for model_id in found:\n",
    "        data = bios_model_dict[model_id]\n",
    "        l.append(data)\n",
    "        \n",
    "    return l\n",
    "\n",
    "fungi_model_list = build_fungi_list(bios_live, kbase, ws_fungi)\n",
    "#write_json(fungi_model_list, CACHE_BASE_FOLDER + '/bios_cache_list_fungi.json', True)"
   ]
  },
  {
   "cell_type": "code",
   "execution_count": 8,
   "metadata": {},
   "outputs": [
    {
     "data": {
      "text/plain": [
       "17"
      ]
     },
     "execution_count": 8,
     "metadata": {},
     "output_type": "execute_result"
    }
   ],
   "source": [
    "len(fungi_model_list)"
   ]
  },
  {
   "cell_type": "code",
   "execution_count": null,
   "metadata": {},
   "outputs": [],
   "source": []
  }
 ],
 "metadata": {
  "kernelspec": {
   "display_name": "Python 3",
   "language": "python",
   "name": "python3"
  },
  "language_info": {
   "codemirror_mode": {
    "name": "ipython",
    "version": 3
   },
   "file_extension": ".py",
   "mimetype": "text/x-python",
   "name": "python",
   "nbconvert_exporter": "python",
   "pygments_lexer": "ipython3",
   "version": "3.6.5"
  }
 },
 "nbformat": 4,
 "nbformat_minor": 2
}
