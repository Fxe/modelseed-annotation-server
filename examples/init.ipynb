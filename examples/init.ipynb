{
 "cells": [
  {
   "cell_type": "code",
   "execution_count": 56,
   "metadata": {},
   "outputs": [],
   "source": [
    "import logging\n",
    "import os\n",
    "import pymongo\n",
    "import cobrakbase\n",
    "import time\n",
    "%run ../../scripts/bios_utils.py\n",
    "%run ../../annotation-server/annotation_api_neo4j.py"
   ]
  },
  {
   "cell_type": "code",
   "execution_count": 197,
   "metadata": {},
   "outputs": [],
   "source": [
    "%run ../../annotation-server/annotation_api_neo4j.py\n",
    "from neo4j import GraphDatabase\n",
    "driver = GraphDatabase.driver(\"bolt://127.0.0.1:7687\", auth=(\"neo4j\", \"123585\"))\n",
    "annotation_api = AnnotationApiNeo4j(driver)\n",
    "#neo_annotation_api.init_constraints()"
   ]
  },
  {
   "cell_type": "code",
   "execution_count": 3,
   "metadata": {},
   "outputs": [],
   "source": [
    "substem_ref = read_json('../../../data/tnseq/patric_subsystems/substem_ref.json')"
   ]
  },
  {
   "cell_type": "code",
   "execution_count": 4,
   "metadata": {},
   "outputs": [
    {
     "ename": "NameError",
     "evalue": "name 'driver' is not defined",
     "output_type": "error",
     "traceback": [
      "\u001b[0;31m---------------------------------------------------------------------------\u001b[0m",
      "\u001b[0;31mNameError\u001b[0m                                 Traceback (most recent call last)",
      "\u001b[0;32m<timed exec>\u001b[0m in \u001b[0;36m<module>\u001b[0;34m()\u001b[0m\n",
      "\u001b[0;31mNameError\u001b[0m: name 'driver' is not defined"
     ]
    }
   ],
   "source": [
    "%%time\n",
    "for doc in substem_ref['response']['docs']:\n",
    "    value = doc['subsystem_name']\n",
    "    \n",
    "    ss_node = None\n",
    "    \n",
    "    with driver.session() as session:\n",
    "        ss_node = session.write_transaction(add_value_node, 'FunctionGroup', value)\n",
    "    \n",
    "    if 'role_name' in doc:\n",
    "        for role in doc['role_name']:\n",
    "            role = role.strip()\n",
    "            if len(role) > 0:\n",
    "                with driver.session() as session:\n",
    "                    function_node = session.write_transaction(add_value_node, 'Function', role)\n",
    "                    session.write_transaction(add_relationship, \n",
    "                                    ss_node, function_node, 'has_function')"
   ]
  },
  {
   "cell_type": "code",
   "execution_count": 9,
   "metadata": {},
   "outputs": [
    {
     "name": "stdout",
     "output_type": "stream",
     "text": [
      "load: ../../../ModelSEEDDatabase/Biochemistry/reactions.tsv\n",
      "load: ../../../ModelSEEDDatabase/Biochemistry/compounds.tsv\n",
      "load: ../../../ModelSEEDDatabase/Biochemistry/Structures/Unique_ModelSEED_Structures.txt\n",
      "load: ../../../ModelSEEDDatabase/Biochemistry/Aliases/Unique_ModelSEED_Compound_Aliases.txt\n",
      "load: ../../../ModelSEEDDatabase/Biochemistry/Aliases/Unique_ModelSEED_Reaction_Aliases.txt\n",
      "load: ../../../ModelSEEDDatabase/Biochemistry/Aliases/Unique_ModelSEED_Reaction_ECs.txt\n"
     ]
    }
   ],
   "source": [
    "modelseed_local = cobrakbase.modelseed.from_local('../../../ModelSEEDDatabase')"
   ]
  },
  {
   "cell_type": "code",
   "execution_count": 17,
   "metadata": {},
   "outputs": [
    {
     "name": "stdout",
     "output_type": "stream",
     "text": [
      "<Node id=57 labels={'RefSeqGenome'} properties={'genetic_code': 11, 'notes': '', 'release': '1', 'created_at': 1563767041245, 'scientific_name': 'Rickettsia conorii str. Malish 7', 'source': 'refseq', 'taxonomy': 'cellular organisms; Bacteria; Proteobacteria; Alphaproteobacteria; Rickettsiales; Rickettsiaceae; Rickettsieae; Rickettsia; spotted fever group; Rickettsia conorii', 'type': 'Representative', 'external_source_origination_date': '16-NOV-2016', 'count_features': 1532, 'workspace_id': 'jplfaria:narrative_1524466549180', 'dna_size': 1268755, 'original_source_file_name': 'GCF_000007025.1_ASM702v1_genomic.gbff', 'reference_annotation': 0, 'updated_at': 1563767041245, 'num_contigs': 1, 'assembly_ref': '19217/46804/1', 'domain': 'Bacteria', 'source_id': 'NC_003103', 'id': 'GCF_000007025.1', 'taxon_ref': '12570/666753/1', 'genbank_handle_ref': 'KBH_235629', 'gc_content': 0.3243880812292365, 'key': 'GCF_000007025.1'}>\n"
     ]
    }
   ],
   "source": [
    "node = annotation_api.get_node('RefSeqGenome', 'GCF_000007025.1')\n",
    "print(node)"
   ]
  },
  {
   "cell_type": "code",
   "execution_count": 21,
   "metadata": {},
   "outputs": [
    {
     "data": {
      "text/plain": [
       "{'id': 'rxn00001',\n",
       " 'abbreviation': 'R00004',\n",
       " 'name': 'diphosphate phosphohydrolase',\n",
       " 'code': '(1) cpd00001[0] + (1) cpd00012[0] <=> (2) cpd00009[0]',\n",
       " 'stoichiometry': '-1:cpd00001:0:0:\"H2O\";-1:cpd00012:0:0:\"PPi\";2:cpd00009:0:0:\"Phosphate\";1:cpd00067:0:0:\"H+\"',\n",
       " 'is_transport': 0,\n",
       " 'equation': '(1) cpd00001[0] + (1) cpd00012[0] <=> (2) cpd00009[0] + (1) cpd00067[0]',\n",
       " 'definition': '(1) H2O[0] + (1) PPi[0] <=> (2) Phosphate[0] + (1) H+[0]',\n",
       " 'reversibility': '>',\n",
       " 'direction': '=',\n",
       " 'abstract_reaction': nan,\n",
       " 'pathways': 'MetaCyc: Degradation (Degradation/Utilization/Assimilation); Glyphosate-Degradation (glyphosate degradation); Noncarbon-Nutrients (Inorganic Nutrient Metabolism); PWY-7805 ((aminomethyl)phosphonate degradation); PWY-7807 (glyphosate degradation III); Phosphorus-Compounds (Phosphorus Compound Metabolism)',\n",
       " 'aliases': 'AraCyc: INORGPYROPHOSPHAT-RXN|BiGG: IPP1; PPA; PPA_1; PPAm|BrachyCyc: INORGPYROPHOSPHAT-RXN|KEGG: R00004|MetaCyc: INORGPYROPHOSPHAT-RXN|Name: Diphosphate phosphohydrolase; Inorganic diphosphatase; Inorganic pyrophosphatase; Pyrophosphate phosphohydrolase; diphosphate phosphohydrolase; inorganic diphosphatase; inorganic diphosphatase (one proton translocation); inorganicdiphosphatase; pyrophosphate phosphohydrolase',\n",
       " 'ec_numbers': '3.6.1.1',\n",
       " 'deltag': -3.46,\n",
       " 'deltagerr': 0.05,\n",
       " 'compound_ids': 'cpd00001;cpd00009;cpd00012;cpd00067',\n",
       " 'status': 'OK',\n",
       " 'is_obsolete': 0,\n",
       " 'linked_reaction': 'rxn27946;rxn27947;rxn27948;rxn32487;rxn38157;rxn38158',\n",
       " 'notes': 'GFC|HB|EQC|EQU',\n",
       " 'source': 'Primary Database',\n",
       " 'key': 'id'}"
      ]
     },
     "execution_count": 21,
     "metadata": {},
     "output_type": "execute_result"
    }
   ],
   "source": [
    "rxn.data"
   ]
  },
  {
   "cell_type": "code",
   "execution_count": null,
   "metadata": {},
   "outputs": [],
   "source": []
  },
  {
   "cell_type": "code",
   "execution_count": null,
   "metadata": {},
   "outputs": [],
   "source": []
  },
  {
   "cell_type": "code",
   "execution_count": 54,
   "metadata": {},
   "outputs": [
    {
     "data": {
      "text/plain": [
       "'{name:\"a \\\\\"banana\\\\\"\", key:\"banana\"}'"
      ]
     },
     "execution_count": 54,
     "metadata": {},
     "output_type": "execute_result"
    }
   ],
   "source": [
    "props_str = to_str_dict(props)\n",
    "props_str"
   ]
  },
  {
   "cell_type": "code",
   "execution_count": 55,
   "metadata": {},
   "outputs": [
    {
     "data": {
      "text/plain": [
       "<Node id=97399 labels={'Fruit'} properties={'name': 'a \"banana\"', 'created_at': 1568612758221, 'updated_at': 1568612758221, 'key': 'banana'}>"
      ]
     },
     "execution_count": 55,
     "metadata": {},
     "output_type": "execute_result"
    }
   ],
   "source": [
    "props = {\n",
    "    'name' : 'a \"banana\"'\n",
    "}\n",
    "add_node(annotation_api, 'Fruit', 'banana', props)"
   ]
  },
  {
   "cell_type": "code",
   "execution_count": 24,
   "metadata": {},
   "outputs": [
    {
     "data": {
      "text/plain": [
       "{'id': 'rxn10881',\n",
       " 'name': 'streptomycin 3\"-adenylyltransferase',\n",
       " 'equation': '(1) cpd00002[0] + (1) cpd00067[0] + (1) cpd00328[0] <= (1) cpd00012[0] + (1) cpd16061[0]',\n",
       " 'definition': '(1) ATP[0] + (1) H+[0] + (1) Streptomycin[0] <= (1) PPi[0] + (1) 3\"-Adenylylstreptomycin[0]',\n",
       " 'key': 'rxn10881'}"
      ]
     },
     "execution_count": 24,
     "metadata": {},
     "output_type": "execute_result"
    }
   ],
   "source": [
    "props"
   ]
  },
  {
   "cell_type": "code",
   "execution_count": 62,
   "metadata": {},
   "outputs": [
    {
     "name": "stdout",
     "output_type": "stream",
     "text": [
      "abstract_reaction\n",
      "pathways\n",
      "ec_numbers\n",
      "linked_reaction\n"
     ]
    }
   ],
   "source": []
  },
  {
   "cell_type": "markdown",
   "metadata": {},
   "source": [
    "# Load ModelSEED Reactions"
   ]
  },
  {
   "cell_type": "code",
   "execution_count": 63,
   "metadata": {},
   "outputs": [],
   "source": [
    "for seed_id in modelseed_local.reactions:\n",
    "    rxn = modelseed_local.get_seed_reaction(seed_id)\n",
    "    rxn_node = annotation_api.get_node('ModelSeedReaction', seed_id)\n",
    "    if rxn_node == None:\n",
    "        delete = set()\n",
    "        for k in rxn.data:\n",
    "            if pd.isna(rxn.data[k]):\n",
    "                delete.add(k)\n",
    "        for k in delete:\n",
    "            del rxn.data[k]\n",
    "        annotation_api.add_node('ModelSeedReaction', seed_id, rxn.data)"
   ]
  },
  {
   "cell_type": "markdown",
   "metadata": {},
   "source": [
    "# Load KEGG Orthologs"
   ]
  },
  {
   "cell_type": "code",
   "execution_count": 68,
   "metadata": {},
   "outputs": [],
   "source": [
    "df_kegg_ko = pd.read_csv('../../data/ko_kegg.tsv', sep='\\t')\n",
    "for row_id, d in df_kegg_ko.iterrows():\n",
    "    kegg_ko = d['kegg_ko']\n",
    "    kegg_rxns = d['kegg_rxns']\n",
    "    \n",
    "    ko_node = annotation_api.get_node('KeggOrthology', kegg_ko)\n",
    "    if ko_node == None:\n",
    "        annotation_api.add_node('KeggOrthology', kegg_ko, {})\n",
    "        ko_node = annotation_api.get_node('KeggOrthology', kegg_ko)\n",
    "        \n",
    "    if not pd.isna(kegg_rxns):\n",
    "        for rxn_id in kegg_rxns.split(';'):\n",
    "            rxn_node = annotation_api.get_node('LigandReaction', seed_id)\n",
    "            if rxn_node == None:\n",
    "                annotation_api.add_node('LigandReaction', rxn_id, {})\n",
    "                rxn_node = annotation_api.get_node('LigandReaction', rxn_id)\n",
    "            annotation_api.link_nodes(ko_node, rxn_node, 'has_reaction')"
   ]
  },
  {
   "cell_type": "markdown",
   "metadata": {},
   "source": [
    "# Load KEGG Orthologs to SEED"
   ]
  },
  {
   "cell_type": "code",
   "execution_count": 72,
   "metadata": {},
   "outputs": [],
   "source": [
    "for seed_id in modelseed_local.reactions:\n",
    "    rxn = modelseed_local.get_seed_reaction(seed_id)\n",
    "    seed_rxn_node = annotation_api.get_node('ModelSeedReaction', seed_id)\n",
    "    if seed_id in modelseed_local.reaction_aliases and 'KEGG' in modelseed_local.reaction_aliases[seed_id]:\n",
    "        for kegg_id in modelseed_local.reaction_aliases[seed_id]['KEGG']:\n",
    "            kegg_rxn_node = annotation_api.get_node('LigandReaction', kegg_id)\n",
    "            if not kegg_rxn_node == None and not seed_rxn_node == None:\n",
    "                annotation_api.link_nodes(seed_rxn_node, kegg_rxn_node, 'has_crossreference_to')"
   ]
  },
  {
   "cell_type": "markdown",
   "metadata": {},
   "source": [
    "# Load Templates"
   ]
  },
  {
   "cell_type": "code",
   "execution_count": 76,
   "metadata": {},
   "outputs": [],
   "source": [
    "kbase = cobrakbase.KBaseAPI(token='YAFOCRSMRNDXZ7KMW7GCK5AC3SBNTEFD')\n",
    "templates = {}\n",
    "templates['GramNegModelTemplateV2'] = kbase.get_object('GramNegModelTemplateV2', 'NewKBaseModelTemplates')\n",
    "templates['GramNegModelTemplate'] = kbase.get_object('GramNegModelTemplate', 'NewKBaseModelTemplates')\n",
    "#template_doc = annotation_api.add_template('GramNegModelTemplateV2', templates['GramNegModelTemplateV2'])\n",
    "#template_doc = annotation_api.add_template('GramNegModelTemplate', templates['GramNegModelTemplate'])"
   ]
  },
  {
   "cell_type": "raw",
   "metadata": {},
   "source": [
    "def add_template(self, template_id, template):\n",
    "        roles = {}\n",
    "        function_uids = {}\n",
    "        compcompound_compartment = {}\n",
    "\n",
    "        for compcompound in template['compcompounds']:\n",
    "            compcompound_compartment[compcompound['id']] = compcompound['templatecompartment_ref'].split('/')[-1]\n",
    "\n",
    "        for role in template['roles']:\n",
    "            roles[role['id']] = role['name']\n",
    "        for role_id in roles:\n",
    "            function = roles[role_id]\n",
    "            #print(function)\n",
    "            function_doc = self.get_function(function)\n",
    "            if function_doc['value'] == function:\n",
    "                function_uids[function] = function_doc['_id']\n",
    "            else:\n",
    "                print('errooo!')\n",
    "        missing_function = set()\n",
    "        for role_id in roles:\n",
    "            function = roles[role_id]\n",
    "            if not function in function_uids:\n",
    "                missing_function.add(function)\n",
    "\n",
    "        print(len(missing_function))\n",
    "\n",
    "        cpx_to_function_uids = {}\n",
    "        for cpx in template['complexes']:\n",
    "            uids = set()\n",
    "            for complexrole in cpx['complexroles']:\n",
    "                role_id = complexrole['templaterole_ref'].split('/')[-1]\n",
    "                if role_id in roles:\n",
    "                    uids.add(function_uids[roles[role_id]])\n",
    "                else:\n",
    "                    print('errooo!')\n",
    "\n",
    "            cpx_to_function_uids[cpx['id']] = uids\n",
    "\n",
    "        reactions = {}\n",
    "        for rxn in template['reactions']:\n",
    "            rxn_id = rxn['reaction_ref'].split('/')[-1]\n",
    "            rxn_compartments = set()\n",
    "            for templateReactionReagent in rxn['templateReactionReagents']:\n",
    "                templatecompcompound_ref = templateReactionReagent['templatecompcompound_ref'].split('/')[-1]\n",
    "                rxn_compartments.add(compcompound_compartment[templatecompcompound_ref])\n",
    "            or_rule = set()\n",
    "            for complex_ref in rxn['templatecomplex_refs']:\n",
    "                complex_id = complex_ref.split('/')[-1]\n",
    "                and_rule = set()\n",
    "                if complex_id in cpx_to_function_uids:\n",
    "                    and_rule = frozenset(cpx_to_function_uids[complex_id])\n",
    "                or_rule.add(and_rule)\n",
    "\n",
    "            reactions[rxn_id] = {\n",
    "                'functions' : list(map(lambda x : list(x), or_rule)),\n",
    "                'compartment' : list(rxn_compartments),\n",
    "                'base_cost' : rxn['base_cost'],\n",
    "                'direction' : rxn['direction'],\n",
    "                'forward_penalty' : rxn['forward_penalty'],\n",
    "                'reverse_penalty' : rxn['reverse_penalty'],\n",
    "                'type' : rxn['type'],\n",
    "                'GapfillDirection' : rxn['GapfillDirection'],\n",
    "\n",
    "            }\n",
    "\n",
    "        template_doc = {\n",
    "            '_id' : template_id,\n",
    "            'reactions' : reactions\n",
    "        }\n",
    "\n",
    "        self.collection_templates.insert_one(template_doc)\n",
    "\n",
    "        return template_doc"
   ]
  },
  {
   "cell_type": "code",
   "execution_count": 143,
   "metadata": {},
   "outputs": [
    {
     "data": {
      "text/plain": [
       "<Node id=172061 labels={'TemplateSet'} properties={'updated_at': 1568620759396, 'created_at': 1568620759396, 'key': 'GramNegModelTemplate'}>"
      ]
     },
     "execution_count": 143,
     "metadata": {},
     "output_type": "execute_result"
    }
   ],
   "source": [
    "template_node = annotation_api.get_node('TemplateSet', template_id)\n",
    "if template_node == None:\n",
    "    annotation_api.add_node('TemplateSet', template_id, {})\n",
    "    template_node = annotation_api.get_node('TemplateSet', template_id)\n",
    "template_node"
   ]
  },
  {
   "cell_type": "code",
   "execution_count": 136,
   "metadata": {},
   "outputs": [],
   "source": []
  },
  {
   "cell_type": "code",
   "execution_count": 177,
   "metadata": {},
   "outputs": [
    {
     "name": "stderr",
     "output_type": "stream",
     "text": [
      "WARNING:__main__:19936 0\n"
     ]
    }
   ],
   "source": []
  },
  {
   "cell_type": "code",
   "execution_count": null,
   "metadata": {},
   "outputs": [],
   "source": []
  },
  {
   "cell_type": "code",
   "execution_count": 186,
   "metadata": {},
   "outputs": [],
   "source": []
  },
  {
   "cell_type": "code",
   "execution_count": null,
   "metadata": {},
   "outputs": [],
   "source": []
  },
  {
   "cell_type": "code",
   "execution_count": 215,
   "metadata": {},
   "outputs": [
    {
     "name": "stderr",
     "output_type": "stream",
     "text": [
      "WARNING:__main__:cpx00250\n",
      "WARNING:__main__:cpx01214\n",
      "WARNING:__main__:cpx01497\n"
     ]
    }
   ],
   "source": []
  },
  {
   "cell_type": "code",
   "execution_count": null,
   "metadata": {},
   "outputs": [],
   "source": []
  },
  {
   "cell_type": "code",
   "execution_count": 214,
   "metadata": {},
   "outputs": [
    {
     "data": {
      "text/plain": [
       "<Node id=185606 labels={'TemplateReactionAnnotation'} properties={'reaction': 'rxn00879', 'updated_at': 1568635675119, 'forward_penalty': 0, 'compartment': 'c', 'base_cost': 2, 'reverse_penalty': 0, 'created_at': 1568635675119, 'GapfillDirection': '=', 'type': 'conditional', 'key': 'rxn09225_c', 'direction': '='}>"
      ]
     },
     "execution_count": 214,
     "metadata": {},
     "output_type": "execute_result"
    }
   ],
   "source": [
    "\n",
    "add_template_reaction_annotation(annotation_api, template_node, rxn_node, rxn_compartments, or_rule, props)"
   ]
  },
  {
   "cell_type": "code",
   "execution_count": null,
   "metadata": {},
   "outputs": [],
   "source": []
  },
  {
   "cell_type": "code",
   "execution_count": null,
   "metadata": {},
   "outputs": [],
   "source": []
  },
  {
   "cell_type": "code",
   "execution_count": 170,
   "metadata": {},
   "outputs": [],
   "source": [
    "\n",
    "def get_relationship(tx, label, key, relationship_type):\n",
    "    result = tx.run(\"MATCH (n1:ModelSeedReaction {key:$key})-[r]-(n2) RETURN r\", key = key)\n",
    "    return list(result.records())"
   ]
  },
  {
   "cell_type": "code",
   "execution_count": 172,
   "metadata": {},
   "outputs": [
    {
     "name": "stdout",
     "output_type": "stream",
     "text": [
      "{'r': <Relationship id=99688 nodes=(<Node id=87034 labels=set() properties={}>, <Node id=133792 labels=set() properties={}>) type='has_crossreference_to' properties={}>}\n"
     ]
    }
   ],
   "source": [
    "#rxn_doc = annotation_api.get_node('ModelSeedReaction', seed_id)\n",
    "def get_r_nodes(annotation_api, label, key, relationship_type = None):\n",
    "    result = None\n",
    "    with annotation_api.driver.session() as session:\n",
    "        query = session.read_transaction(get_relationship, label, key, relationship_type)\n",
    "        if len(query) > 0:\n",
    "            print(query[0].data())\n",
    "            #result = query[0].data()['n']\n",
    "    return result\n",
    "get_r_nodes(annotation_api, 'ModelSeedReaction', 'rxn00004')"
   ]
  },
  {
   "cell_type": "code",
   "execution_count": 149,
   "metadata": {},
   "outputs": [],
   "source": [
    "for r in template_node.graph.relationships:\n",
    "    print(r)"
   ]
  },
  {
   "cell_type": "code",
   "execution_count": 152,
   "metadata": {},
   "outputs": [
    {
     "name": "stdout",
     "output_type": "stream",
     "text": [
      "<Node id=87034 labels={'ModelSeedReaction'} properties={'updated_at': 1568609814074, 'equation': '(1) cpd02570[0] <=> (2) cpd00020[0]', 'name': '4-hydroxy-4-methyl-2-oxoglutarate pyruvate-lyase (pyruvate-forming)', 'created_at': 1568609814074, 'definition': '(1) Parapyruvate[0] <=> (2) Pyruvate[0]', 'id': 'rxn00004', 'key': 'rxn00004'}>\n"
     ]
    },
    {
     "data": {
      "text/plain": [
       "set()"
      ]
     },
     "execution_count": 152,
     "metadata": {},
     "output_type": "execute_result"
    }
   ],
   "source": [
    "def get_ko_by_seed_id(annotation_api, seed_id):\n",
    "    rxn_doc = annotation_api.get_node('ModelSeedReaction', seed_id)\n",
    "    print(rxn_doc)\n",
    "    if not rxn_doc == None:\n",
    "        for r in rxn_doc.graph.relationships:\n",
    "            print(r)\n",
    "        if 'kegg_kos' in rxn_doc:\n",
    "            return set(rxn_doc['kegg_kos'])\n",
    "        else:\n",
    "            return set()\n",
    "    return None\n",
    "get_ko_by_seed_id(annotation_api, 'rxn00004')"
   ]
  },
  {
   "cell_type": "code",
   "execution_count": null,
   "metadata": {},
   "outputs": [],
   "source": [
    "def get_reaction_annotation_data(rxn_id):\n",
    "    kos = annotation_api.get_ko_by_seed_id(rxn_id)\n",
    "    function_data = {}\n",
    "    for ko in kos:\n",
    "        #print(ko)\n",
    "        functions, functions_data, metadata = get_functional_roles2(ko, annotation_api)\n",
    "        print(ko, metadata)\n",
    "        for f in functions:\n",
    "            function = functions_data[f]['value']\n",
    "            if not function in function_data:\n",
    "                function_data[function] = {\n",
    "                    'id' : f,\n",
    "                    'hits' : []\n",
    "                }\n",
    "            function_data[function]['hits'].append({\n",
    "                'score' : len(functions[f]),\n",
    "                'source' : ['KEGG', ko]\n",
    "            })\n",
    "    for template_doc in annotation_api.collection_templates.find():\n",
    "        if rxn_id in template_doc['reactions']:\n",
    "            template_id = template_doc['_id']\n",
    "            template_reaction_doc = template_doc['reactions'][rxn_id]\n",
    "            for and_rule in template_reaction_doc['functions']:\n",
    "                for function_id in and_rule:\n",
    "                    function_doc = annotation_api.collection_functions.find_one({'_id' : function_id})\n",
    "                    function = function_doc['value']\n",
    "                    if not function in function_data:\n",
    "                        function_data[function] = {\n",
    "                            'id' : function_id,\n",
    "                            'hits' : []\n",
    "                        }\n",
    "                    function_data[function]['hits'].append({\n",
    "                        'score' : 0,\n",
    "                        'source' : ['template', template_id]\n",
    "                    })\n",
    "                    #print(template_id, function_doc['value'])\n",
    "        \n",
    "    for function in function_data:\n",
    "        function_id = function_data[function]['id']\n",
    "        #print(function_id)\n",
    "        function_doc = annotation_api.collection_functions.find_one({'_id' : function_id})\n",
    "        function_metadata = annotation_api.collection_functions_data.find_one({'_id' : function_id})\n",
    "        \n",
    "        subsystem_tags = {}\n",
    "        if 'subsystem' in function_doc:\n",
    "            for subsystem_tag in function_doc['subsystem']:\n",
    "                subsystem_tags[subsystem_tag] = [function_doc['subsystem'][subsystem_tag]]\n",
    "                if 'subsystem_class' in function_doc and subsystem_tag in function_doc['subsystem_class']:\n",
    "                    subsystem_tags[subsystem_tag].append(function_doc['subsystem_class'][subsystem_tag])\n",
    "        #print(subsystem_tags)\n",
    "        \n",
    "        \n",
    "        source_tags = {}\n",
    "        if not function_metadata == None:\n",
    "            sources = function_metadata['sources']\n",
    "            for s in sources:\n",
    "                source_tags[s] = [len(sources[s]['genomes']), len(sources[s]['genes']), sources[s]['genes'][:10]]\n",
    "            #print(source_tags)\n",
    "        function_data[function]['sources'] = source_tags\n",
    "        function_data[function]['subsystems'] = subsystem_tags\n",
    "    return function_data"
   ]
  }
 ],
 "metadata": {
  "kernelspec": {
   "display_name": "Python 3",
   "language": "python",
   "name": "python3"
  },
  "language_info": {
   "codemirror_mode": {
    "name": "ipython",
    "version": 3
   },
   "file_extension": ".py",
   "mimetype": "text/x-python",
   "name": "python",
   "nbconvert_exporter": "python",
   "pygments_lexer": "ipython3",
   "version": "3.6.5"
  }
 },
 "nbformat": 4,
 "nbformat_minor": 2
}
