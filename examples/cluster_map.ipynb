{
 "cells": [
  {
   "cell_type": "code",
   "execution_count": 1,
   "metadata": {},
   "outputs": [],
   "source": [
    "%run ../../scripts/bios_utils.py\n",
    "%run ../escher_grid_merge.py\n",
    "%run ../escher_factory_api.py"
   ]
  },
  {
   "cell_type": "code",
   "execution_count": 2,
   "metadata": {},
   "outputs": [],
   "source": [
    "import escher\n",
    "import cobra\n",
    "import modelseed_escher\n",
    "from modelseed_escher.map import EscherCluster"
   ]
  },
  {
   "cell_type": "code",
   "execution_count": 3,
   "metadata": {},
   "outputs": [],
   "source": [
    "escher_manager = modelseed_escher.EscherManager(escher)"
   ]
  },
  {
   "cell_type": "code",
   "execution_count": 5,
   "metadata": {},
   "outputs": [],
   "source": [
    "data = read_json('/Users/fliu/workspace/jupyter/data/www/annotation/data/latest_cluster.json')\n",
    "em = modelseed_escher.core.EscherMap(data['escher_map'])\n",
    "em_grid = data['grid']"
   ]
  },
  {
   "cell_type": "code",
   "execution_count": 6,
   "metadata": {},
   "outputs": [],
   "source": [
    "#em.display_in_notebook()"
   ]
  },
  {
   "cell_type": "code",
   "execution_count": 55,
   "metadata": {},
   "outputs": [
    {
     "data": {
      "text/plain": [
       "'/Users/fliu/Library/Caches/escher/1-0-0/5'"
      ]
     },
     "execution_count": 55,
     "metadata": {},
     "output_type": "execute_result"
    }
   ],
   "source": []
  },
  {
   "cell_type": "code",
   "execution_count": null,
   "metadata": {},
   "outputs": [],
   "source": []
  },
  {
   "cell_type": "code",
   "execution_count": 8,
   "metadata": {},
   "outputs": [
    {
     "name": "stdout",
     "output_type": "stream",
     "text": [
      "150 ModelSEED.Ribitol et al Utilization 0 0 4500 2427 c\n"
     ]
    }
   ],
   "source": [
    "em_layer = add_layers(em.clone(), em_grid, escher_manager)"
   ]
  },
  {
   "cell_type": "code",
   "execution_count": 9,
   "metadata": {},
   "outputs": [],
   "source": [
    "#em_layer.display_in_notebook()"
   ]
  },
  {
   "cell_type": "code",
   "execution_count": 10,
   "metadata": {},
   "outputs": [],
   "source": [
    "ec = EscherCluster(25)\n",
    "cluster_data = ec.cluster(em_layer)\n",
    "result = report(cluster_data, em_layer)\n",
    "result = sort_by_database(result, 'seed.compound')"
   ]
  },
  {
   "cell_type": "code",
   "execution_count": null,
   "metadata": {},
   "outputs": [],
   "source": []
  },
  {
   "cell_type": "code",
   "execution_count": null,
   "metadata": {},
   "outputs": [],
   "source": []
  },
  {
   "cell_type": "code",
   "execution_count": 54,
   "metadata": {},
   "outputs": [],
   "source": [
    "builder = escher.Builder(map_json=json.dumps(em.escher_map))"
   ]
  },
  {
   "cell_type": "code",
   "execution_count": 93,
   "metadata": {},
   "outputs": [],
   "source": [
    "import logging\n",
    "logger = logging.getLogger(__name__)\n",
    "def report(cluster_data, em):\n",
    "    cluster_map = em.escher_map\n",
    "    any_merge = True\n",
    "    result = {\n",
    "        'models' : set(),\n",
    "        'records' : []\n",
    "    }\n",
    "    for cluster in cluster_data:\n",
    "        logger.debug(\"%s\", cluster)\n",
    "        record = {\n",
    "            'model_data' : {},\n",
    "            'database' : {}\n",
    "        }\n",
    "        match_cmp = '?'\n",
    "        cmps = set()\n",
    "        for id in cluster:\n",
    "            node_id = cluster_map[1]['nodes'][id]['bigg_id']\n",
    "            logger.debug(\"%s\", node_id)\n",
    "            if node_id.startswith('cpd') and '_' in node_id:\n",
    "                cpd_id, cmp = node_id.split('_')\n",
    "                cmps.add(cmp)\n",
    "\n",
    "        if len(cmps) == 1:\n",
    "            match_cmp = cmps.pop()\n",
    "        for id in cluster:\n",
    "            node_id = cluster_map[1]['nodes'][id]['bigg_id']\n",
    "            cpd_id = node_id\n",
    "            database = None\n",
    "            if '@' in node_id:\n",
    "                cpd_id, database = node_id.split('@')\n",
    "\n",
    "            #print(cpd_id, database)\n",
    "            #if is model\n",
    "            if not database == None:\n",
    "                result['models'].add(database)\n",
    "                cmp = match_cmp\n",
    "                if not cmp in record['model_data']:\n",
    "                    record['model_data'][cmp] = {}\n",
    "                if not database in record['model_data'][cmp]:\n",
    "                    record['model_data'][cmp][database] = set()\n",
    "                record['model_data'][cmp][database].add(cpd_id)\n",
    "            else:\n",
    "                database = 'seed.compound'\n",
    "                if not database in record['database']:\n",
    "                    record['database'][database] = set()\n",
    "                if node_id.startswith('cpd') and '_' in node_id:\n",
    "                    cpd_id, cmp = node_id.split('_')\n",
    "                record['database'][database].add(cpd_id)\n",
    "            #elseif database\n",
    "        if len(record['model_data']) > 0:\n",
    "            result['records'].append(record)\n",
    "\n",
    "\n",
    "    result['models'] = list(result['models'])\n",
    "    for r in result['records']:\n",
    "        for cmp_id in r['model_data']:\n",
    "            for model_id in r['model_data'][cmp_id]:\n",
    "                r['model_data'][cmp_id][model_id] = list(r['model_data'][cmp_id][model_id])\n",
    "        for database_id in r['database']:\n",
    "            r['database'][database_id] = list(r['database'][database_id])\n",
    "            \n",
    "    return result\n",
    "dd = report(cluster_data, em_layer)\n",
    "\n"
   ]
  },
  {
   "cell_type": "code",
   "execution_count": 94,
   "metadata": {},
   "outputs": [
    {
     "data": {
      "text/plain": [
       "{'model_data': {'c': {'iMM904': ['M_nadp_c']}},\n",
       " 'database': {'seed.compound': ['cpd00006']}}"
      ]
     },
     "execution_count": 94,
     "metadata": {},
     "output_type": "execute_result"
    }
   ],
   "source": [
    "dd['records'][0]"
   ]
  },
  {
   "cell_type": "code",
   "execution_count": 1,
   "metadata": {},
   "outputs": [],
   "source": [
    "def sort_by_database(report, db):\n",
    "    result = {\n",
    "        'models' : report['models']\n",
    "    }\n",
    "    m = {}\n",
    "    records = []\n",
    "    for r in report['records']:\n",
    "        if 'seed.compound' in r['database']:\n",
    "            key = tuple(sorted(r['database']['seed.compound']))\n",
    "            if not key in m:\n",
    "                m[key] = {}\n",
    "            for cmp in r['model_data']:\n",
    "                if not cmp in m[key]:\n",
    "                    m[key][cmp] = {}\n",
    "                for model_id in r['model_data'][cmp]:\n",
    "                    if not model_id in m[key][cmp]:\n",
    "                        m[key][cmp][model_id] = set()\n",
    "                    m[key][cmp][model_id] |= set(r['model_data'][cmp][model_id])\n",
    "        else:\n",
    "            records.append(r)\n",
    "    for key in m:\n",
    "        record = {\n",
    "            'model_data' : {},\n",
    "            'database' : {db : list(key)}\n",
    "        }\n",
    "        for cmp in m[key]:\n",
    "            record[cmp] = {}\n",
    "            for model_id in m[key][cmp]:\n",
    "                record[cmp][model_id] = list(m[key][cmp][model_id])\n",
    "        records.append(record)\n",
    "        print(record)\n",
    "    result['records'] = records\n",
    "    return report\n",
    "    \n",
    "#sort_by_database(dd, 'seed.compound')\n"
   ]
  },
  {
   "cell_type": "code",
   "execution_count": null,
   "metadata": {},
   "outputs": [],
   "source": []
  },
  {
   "cell_type": "code",
   "execution_count": 11,
   "metadata": {},
   "outputs": [],
   "source": [
    "import escher\n",
    "escher_manager = modelseed_escher.EscherManager(escher)"
   ]
  },
  {
   "cell_type": "code",
   "execution_count": 92,
   "metadata": {},
   "outputs": [],
   "source": []
  },
  {
   "cell_type": "code",
   "execution_count": 68,
   "metadata": {},
   "outputs": [
    {
     "name": "stdout",
     "output_type": "stream",
     "text": [
      "!!! cpd00011\n"
     ]
    }
   ],
   "source": []
  },
  {
   "cell_type": "code",
   "execution_count": 72,
   "metadata": {},
   "outputs": [
    {
     "name": "stdout",
     "output_type": "stream",
     "text": [
      "!!! cpd00011\n",
      "!!! cpd00011\n"
     ]
    }
   ],
   "source": [
    "em = escher_manager.get_map('ModelSEED', 'ModelSEED', 'Central_Metabolism_JE')\n",
    "uids = em.add_uid_to_reaction_metabolites()\n",
    "def move_to_compartment(cmp_id, em):\n",
    "    em.add_uid_to_reaction_metabolites()\n",
    "    node_uid_cmp = {}\n",
    "    node_uid_id = {}\n",
    "    for node_uid in em.escher_graph['nodes']:\n",
    "        n = em.escher_graph['nodes'][node_uid]\n",
    "        if n['node_type'] == 'metabolite':\n",
    "            if not 'compartment' in n:\n",
    "                node_uid_cmp[node_uid] = cmp_id\n",
    "                n['bigg_id'] += '_' + cmp_id\n",
    "                node_uid_id[node_uid] = n['bigg_id']\n",
    "            else:\n",
    "                node_uid_id[node_uid] = n['bigg_id']\n",
    "    add_compartment(em, node_uid_cmp)\n",
    "    for rxn_uid in em.escher_graph['reactions']:\n",
    "        rnode = em.escher_graph['reactions'][rxn_uid]\n",
    "        for o in rnode['metabolites']:\n",
    "            o['bigg_id'] = node_uid_id[o['node_uid']]\n",
    "            \n",
    "        rnode['bigg_id'] += '_' + cmp_id\n",
    "    return node_uid_cmp\n",
    "cmp = move_to_compartment('z', em)"
   ]
  },
  {
   "cell_type": "code",
   "execution_count": null,
   "metadata": {},
   "outputs": [],
   "source": [
    "ls "
   ]
  },
  {
   "cell_type": "code",
   "execution_count": 61,
   "metadata": {},
   "outputs": [],
   "source": [
    "em = None\n",
    "with open('/Users/fliu/workspace/jupyter/data/escher/maps/ModelSEED/ModelSEED.Central_Metabolism_JE.json', 'r') as fh:\n",
    "    em = json.loads(fh.read())"
   ]
  },
  {
   "cell_type": "code",
   "execution_count": 62,
   "metadata": {},
   "outputs": [],
   "source": [
    "for uid in em[1]['nodes']:\n",
    "    n = em[1]['nodes'][uid]\n",
    "    if n['node_type'] == 'metabolite':\n",
    "        if n['bigg_id'].endswith('_e'):\n",
    "            n['compartment'] = 'e'"
   ]
  },
  {
   "cell_type": "code",
   "execution_count": 63,
   "metadata": {},
   "outputs": [],
   "source": [
    "with open('/Users/fliu/workspace/jupyter/data/escher/maps/ModelSEED/ModelSEED.Central_Metabolism_JE.json', 'w') as fh:\n",
    "    fh.write(json.dumps(em))"
   ]
  },
  {
   "cell_type": "code",
   "execution_count": 65,
   "metadata": {},
   "outputs": [
    {
     "name": "stdout",
     "output_type": "stream",
     "text": [
      "[{'map_id': 'Central_Metabolism_JE', 'cmp_target': ['c'], 'cmp_sbml': ['c'], 'sbml_id': 'iMM904'}]\n"
     ]
    }
   ],
   "source": [
    "build_data = {\"maps\":[\"iMM904;c;c;ModelSEED.Central_Metabolism_JE\"],\"x\":1,\"y\":1}\n",
    "map_assembly = process_build_data_input(build_data['maps'])\n",
    "grid_x = build_data['x']\n",
    "grid_y = build_data['y']\n",
    "print(map_assembly)"
   ]
  },
  {
   "cell_type": "code",
   "execution_count": 22,
   "metadata": {},
   "outputs": [
    {
     "name": "stdout",
     "output_type": "stream",
     "text": [
      "[{'map_id': 'Tryptophan Biosynthesis', 'cmp_target': ['c'], 'cmp_sbml': ['c'], 'sbml_id': 'iMM904'}]\n"
     ]
    }
   ],
   "source": [
    "build_data = {\"maps\":[\"iMM904;c;c;ModelSEED.Tryptophan Biosynthesis\"],\"x\":1,\"y\":1}\n",
    "map_assembly = process_build_data_input(build_data['maps'])\n",
    "grid_x = build_data['x']\n",
    "grid_y = build_data['y']\n",
    "print(map_assembly)"
   ]
  },
  {
   "cell_type": "markdown",
   "metadata": {},
   "source": [
    "### Loading data from BIOS server, cache files and setup EscherFactoryApi"
   ]
  },
  {
   "cell_type": "code",
   "execution_count": 4,
   "metadata": {},
   "outputs": [],
   "source": [
    "import biosapi\n",
    "from biosapi import BIOS\n",
    "from biosapi.bios_model_alias_mapper import BiosModelAliasMapper\n",
    "bios = BIOS('http://192.168.1.15:8080/biosynth-web-biobase')"
   ]
  },
  {
   "cell_type": "code",
   "execution_count": 21,
   "metadata": {},
   "outputs": [],
   "source": []
  },
  {
   "cell_type": "code",
   "execution_count": 25,
   "metadata": {},
   "outputs": [
    {
     "data": {
      "text/plain": [
       "False"
      ]
     },
     "execution_count": 25,
     "metadata": {},
     "output_type": "execute_result"
    }
   ],
   "source": []
  },
  {
   "cell_type": "code",
   "execution_count": 46,
   "metadata": {},
   "outputs": [],
   "source": [
    "MODEL_CPD_MAPPING = {}\n",
    "MODEL_RXN_MAPPING = {}\n",
    "MODEL_CMP_MAPPING = {}\n",
    "with open('../data/cpd_mapping_cache4.json', 'r') as f:\n",
    "    MODEL_CPD_MAPPING = json.loads(f.read())\n",
    "with open('../data/rxn_mapping_cache4.json', 'r') as f:\n",
    "    MODEL_RXN_MAPPING = json.loads(f.read())\n",
    "with open('../data/cmp_mapping_cache.json', 'r') as f:\n",
    "    MODEL_CMP_MAPPING = json.loads(f.read())"
   ]
  },
  {
   "cell_type": "code",
   "execution_count": 47,
   "metadata": {},
   "outputs": [
    {
     "name": "stderr",
     "output_type": "stream",
     "text": [
      "WARNING:__main__:[iWV1213] missing id\n",
      "WARNING:__main__:[iWV1213] missing id\n",
      "WARNING:__main__:[iWV1213] missing id\n",
      "WARNING:__main__:[iWV1213] missing id\n",
      "WARNING:__main__:[iWV1213] missing id\n",
      "WARNING:__main__:[iWV1213] missing id\n",
      "WARNING:__main__:[iWV1213] missing id\n"
     ]
    }
   ],
   "source": [
    "%run ../bios_mock.py\n",
    "bios = BIOS_MOCK('../data/bios_cache_fungi.json')\n",
    "escher_factory = EscherFactoryApi(escher_manager)\n",
    "escher_factory.model_path = '/Users/fliu/workspace/jupyter/python3/annotation-server/data/'\n",
    "escher_factory.cpd_mapping = MODEL_CPD_MAPPING\n",
    "escher_factory.rxn_mapping = MODEL_RXN_MAPPING\n",
    "escher_factory.cmp_mapping = MODEL_CMP_MAPPING\n",
    "escher_factory.bios_cache = bios.model_data\n",
    "#escher_factory.cpd_mapping['core'] = wut_map\n",
    "#escher_factory.rxn_mapping['core'] = wut_rxn_map"
   ]
  },
  {
   "cell_type": "code",
   "execution_count": 26,
   "metadata": {},
   "outputs": [],
   "source": [
    "with open('../data/cpd_mapping_cache4.json', 'w') as f:\n",
    "    f.write(json.dumps(MODEL_CPD_MAPPING))"
   ]
  },
  {
   "cell_type": "code",
   "execution_count": 6,
   "metadata": {},
   "outputs": [],
   "source": [
    "model_id = 'iMM904'\n",
    "mapper = BiosModelAliasMapper(bios)\n",
    "mapper.load_model(model_id)\n",
    "rxn_mapping = mapper.get_rxn_mapping('ModelSeedReaction')\n",
    "for rxn_id in MODEL_RXN_MAPPING[model_id]:\n",
    "    if rxn_id in rxn_mapping:\n",
    "        for bios_alias in rxn_mapping[rxn_id]:\n",
    "            if not bios_alias in MODEL_RXN_MAPPING[model_id][rxn_id]:\n",
    "                MODEL_RXN_MAPPING[model_id][rxn_id].append(bios_alias)"
   ]
  },
  {
   "cell_type": "code",
   "execution_count": 7,
   "metadata": {},
   "outputs": [],
   "source": [
    "model_id = 'iJDZ836'\n",
    "mapper = BiosModelAliasMapper(bios)\n",
    "mapper.load_model(model_id)\n",
    "rxn_mapping = mapper.get_rxn_mapping('ModelSeedReaction')\n",
    "for rxn_id in MODEL_RXN_MAPPING[model_id]:\n",
    "    if rxn_id in rxn_mapping:\n",
    "        for bios_alias in rxn_mapping[rxn_id]:\n",
    "            if not bios_alias in MODEL_RXN_MAPPING[model_id][rxn_id]:\n",
    "                MODEL_RXN_MAPPING[model_id][rxn_id].append(bios_alias)"
   ]
  },
  {
   "cell_type": "code",
   "execution_count": null,
   "metadata": {},
   "outputs": [],
   "source": []
  },
  {
   "cell_type": "code",
   "execution_count": 97,
   "metadata": {},
   "outputs": [],
   "source": [
    "core_model = None\n",
    "with open('/Users/fliu/workspace/jupyter/data/escher/models/ModelSEED/Core.json', 'r') as fh:\n",
    "    core_model = json.loads(fh.read())"
   ]
  },
  {
   "cell_type": "code",
   "execution_count": 155,
   "metadata": {},
   "outputs": [],
   "source": [
    "wut_map = {}\n",
    "for o in core_model['metabolites']:\n",
    "    #print(o['id'], o['compartment'])\n",
    "    if not o['compartment'] in wut_map:\n",
    "        wut_map[o['compartment']] = {}\n",
    "    wut_map[o['compartment']][o['id']] = [o['id']]"
   ]
  },
  {
   "cell_type": "code",
   "execution_count": 177,
   "metadata": {},
   "outputs": [],
   "source": [
    "wut_rxn_map = {}\n",
    "for o in core_model['reactions']:\n",
    "    wut_rxn_map[o['id']] = [o['id']]"
   ]
  },
  {
   "cell_type": "code",
   "execution_count": 141,
   "metadata": {},
   "outputs": [],
   "source": [
    "#escher_factory.get_cpd_mapping('iMM904','c')\n",
    "#{'cpd00201': ['M_10fthf_c'],"
   ]
  },
  {
   "cell_type": "code",
   "execution_count": 9,
   "metadata": {},
   "outputs": [
    {
     "name": "stdout",
     "output_type": "stream",
     "text": [
      "[{'map_id': 'Central_Metabolism_JE', 'cmp_target': ['c'], 'cmp_sbml': ['c'], 'sbml_id': 'core'}]\n"
     ]
    }
   ],
   "source": [
    "build_data = {\"maps\":[\"core;c;c;ModelSEED.Central_Metabolism_JE\"],\"x\":1,\"y\":1}\n",
    "map_assembly = process_build_data_input(build_data['maps'])\n",
    "grid_x = build_data['x']\n",
    "grid_y = build_data['y']\n",
    "print(map_assembly)"
   ]
  },
  {
   "cell_type": "code",
   "execution_count": null,
   "metadata": {},
   "outputs": [],
   "source": [
    "MODEL_CPD_MAPPING['core'] = wut_map"
   ]
  },
  {
   "cell_type": "code",
   "execution_count": 179,
   "metadata": {},
   "outputs": [],
   "source": [
    "em_list = []\n",
    "for ma in map_assembly:\n",
    "    escher_model_id = 'ModelSEED'\n",
    "    escher_map_id = ma['map_id']\n",
    "    sbml_id = ma['sbml_id']\n",
    "    target_cmp = ma['cmp_target'][0]\n",
    "    cmp_sbml = ma['cmp_sbml'][0]\n",
    "    cpd_mapping = escher_factory.get_cpd_mapping('core','c')\n",
    "    rxn_mapping = escher_factory.get_rxn_mapping('core')\n",
    "    #em = self.escher_manager.get_map('ModelSEED', escher_model_id, escher_map_id)"
   ]
  },
  {
   "cell_type": "code",
   "execution_count": 166,
   "metadata": {},
   "outputs": [
    {
     "data": {
      "text/plain": [
       "set()"
      ]
     },
     "execution_count": 166,
     "metadata": {},
     "output_type": "execute_result"
    }
   ],
   "source": [
    "escher_factory.cpd_match_exclude"
   ]
  },
  {
   "cell_type": "code",
   "execution_count": 169,
   "metadata": {},
   "outputs": [],
   "source": [
    "f = escher_factory.lambda_get_model_reaction('core')"
   ]
  },
  {
   "cell_type": "code",
   "execution_count": 170,
   "metadata": {},
   "outputs": [
    {
     "data": {
      "text/plain": [
       "<function EscherFactoryApi.lambda_get_model_reaction.<locals>.<lambda>(x)>"
      ]
     },
     "execution_count": 170,
     "metadata": {},
     "output_type": "execute_result"
    }
   ],
   "source": [
    "f"
   ]
  },
  {
   "cell_type": "code",
   "execution_count": 181,
   "metadata": {},
   "outputs": [
    {
     "name": "stderr",
     "output_type": "stream",
     "text": [
      "WARNING:__main__:unmaped_cpd: 4\n",
      "WARNING:__main__:unmaped_rxn: 3\n"
     ]
    },
    {
     "name": "stdout",
     "output_type": "stream",
     "text": [
      "!!! cpd00011\n",
      "!!! cpd00011\n",
      "core {}\n"
     ]
    }
   ],
   "source": [
    "em = escher_manager.get_map('ModelSEED', escher_model_id, escher_map_id)\n",
    "em.add_uid_to_reaction_metabolites()\n",
    "a = move_to_compartment(target_cmp, em)\n",
    "def remap_map_compounds(em, bigg_to_seed, id_function = lambda x : (x, 0)):\n",
    "    #print(bigg_to_seed)\n",
    "    map_compound_remap = {}\n",
    "    unmaped = set()\n",
    "    node_uid_cmp = {}\n",
    "    for map_uid in em.escher_graph['nodes']:\n",
    "        node = em.escher_graph['nodes'][map_uid]\n",
    "        if node['node_type'] == 'metabolite':\n",
    "            node_id = node['bigg_id']\n",
    "            #print(node_id, node)\n",
    "            bigg_id, cmp = id_function(node_id)\n",
    "            #print(node_id, bigg_id, cmp)\n",
    "            #bigg_id = node_id[:-2]\n",
    "            #cmp = node_id[-1:]\n",
    "            \n",
    "            #print(node_id, bigg_id, cmp)\n",
    "            if bigg_id in bigg_to_seed:\n",
    "                node_uid_cmp[map_uid] = cmp\n",
    "                map_compound_remap[node_id] = set(bigg_to_seed[bigg_id])\n",
    "                #print(map_uid, bigg_id, cmp, bigg_to_seed[bigg_id])\n",
    "            else:\n",
    "                unmaped.add(node_id)\n",
    "    return map_compound_remap, unmaped, node_uid_cmp\n",
    "map_compound_remap, unmaped_cpd, node_uid_cmp = remap_map_compounds(em, cpd_mapping, lambda x : x.split('_'))\n",
    "logger.warning('unmaped_cpd: %d', len(unmaped_cpd))\n",
    "map_reaction_remap, unmaped_rxn = remap_map_reactions(em, rxn_mapping, map_compound_remap, escher_factory.cpd_match_exclude,\n",
    "                                                              escher_factory.lambda_get_model_reaction(sbml_id),\n",
    "                                                              lambda x : x, lambda x : x[:-2])\n",
    "logger.warning('unmaped_rxn: %d', len(unmaped_rxn))\n",
    "\n",
    "print(sbml_id, map_reaction_remap)\n",
    "\n",
    "cpd_remap = {}\n",
    "rxn_remap = {}\n",
    "for k in map_compound_remap:\n",
    "    cpd_remap[k] = list(map_compound_remap[k])[0] + '@' + sbml_id\n",
    "for k in map_reaction_remap:\n",
    "    rxn_remap[k] = list(map_reaction_remap[k])[0] + '@' + sbml_id\n",
    "#print(sbml_id, rxn_remap)\n",
    "em.swap_ids(cpd_remap, rxn_remap)\n",
    "em.delete_reactions(unmaped_rxn)\n",
    "em.delete_metabolites(unmaped_cpd)"
   ]
  },
  {
   "cell_type": "code",
   "execution_count": null,
   "metadata": {},
   "outputs": [],
   "source": []
  },
  {
   "cell_type": "code",
   "execution_count": null,
   "metadata": {},
   "outputs": [],
   "source": [
    "def translate_to_model(self, escher_model_id, escher_map_id, sbml_id, target_cmp, cpd_mapping, rxn_mapping):\n",
    "        em = self.escher_manager.get_map('ModelSEED', escher_model_id, escher_map_id)\n",
    "        em.add_uid_to_reaction_metabolites()\n",
    "\n",
    "        move_to_compartment(target_cmp, em)\n",
    "\n",
    "        map_compound_remap, unmaped_cpd, node_uid_cmp = remap_map_compounds(em, \n",
    "                                                                            cpd_mapping, lambda x : x.split('_'))\n",
    "\n",
    "        logger.warning('unmaped_cpd: %d', len(unmaped_cpd))\n",
    "\n",
    "        map_reaction_remap, unmaped_rxn = remap_map_reactions(em, rxn_mapping, map_compound_remap, self.cpd_match_exclude,\n",
    "                                                              self.lambda_get_model_reaction(sbml_id),\n",
    "                                                              lambda x : x, lambda x : x[:-2])\n",
    "\n",
    "        logger.warning('unmaped_rxn: %d', len(unmaped_rxn))\n",
    "\n",
    "        print(sbml_id, map_reaction_remap)\n",
    "        \n",
    "        cpd_remap = {}\n",
    "        rxn_remap = {}\n",
    "        for k in map_compound_remap:\n",
    "            cpd_remap[k] = list(map_compound_remap[k])[0] + '@' + sbml_id\n",
    "        for k in map_reaction_remap:\n",
    "            rxn_remap[k] = list(map_reaction_remap[k])[0] + '@' + sbml_id\n",
    "        #print(sbml_id, rxn_remap)\n",
    "        em.swap_ids(cpd_remap, rxn_remap)\n",
    "        em.delete_reactions(unmaped_rxn)\n",
    "        em.delete_metabolites(unmaped_cpd)\n",
    "        return em"
   ]
  },
  {
   "cell_type": "code",
   "execution_count": 61,
   "metadata": {},
   "outputs": [],
   "source": [
    "for uid in em.escher_graph['nodes']:\n",
    "    n = em.escher_graph['nodes'][uid]\n",
    "    if n['node_type'] == 'metabolite':\n",
    "        cpd_id, cmp = n['bigg_id'].split('_')\n",
    "        if not 'compartment' in n:\n",
    "            n['compartment'] = cmp\n",
    "        #print(n['bigg_id'], n['compartment'])\n",
    "for uid in em.escher_graph['reactions']:\n",
    "    n = em.escher_graph['reactions'][uid]\n",
    "    rxn_id, cmp = n['bigg_id'].split('_')\n",
    "    if not 'compartment' in n:\n",
    "        n['compartment'] = cmp\n",
    "#with open('/Users/fliu/workspace/jupyter/web/annotation/data/TempModels/test_fungi.json', 'w') as fh:\n",
    "#    fh.write(json.dumps(em.escher_map))"
   ]
  },
  {
   "cell_type": "code",
   "execution_count": 12,
   "metadata": {},
   "outputs": [],
   "source": [
    "target_cmp = 'c'\n",
    "em = None\n",
    "with open('/Users/fliu/workspace/jupyter/web/annotation/data/TempModels/test_fungi.json', 'r') as fh:\n",
    "    em = modelseed_escher.core.EscherMap(json.loads(fh.read()))\n",
    "em.add_uid_to_reaction_metabolites()\n",
    "a = move_to_compartment(target_cmp, em)"
   ]
  },
  {
   "cell_type": "code",
   "execution_count": null,
   "metadata": {},
   "outputs": [],
   "source": []
  },
  {
   "cell_type": "code",
   "execution_count": 9,
   "metadata": {},
   "outputs": [
    {
     "name": "stderr",
     "output_type": "stream",
     "text": [
      "translate_to_model: iMM904 [c > c]\n"
     ]
    },
    {
     "name": "stdout",
     "output_type": "stream",
     "text": [
      "Central_Metabolism_JE\n",
      "!!! cpd00011\n",
      "!!! cpd00011\n"
     ]
    },
    {
     "name": "stderr",
     "output_type": "stream",
     "text": [
      "unmaped_cpd: 82\n",
      "unmaped_rxn: 157\n",
      "R_PPCK@iMM904 incorrect reversiblity: False, model: [-1000.00, 1000.00]\n",
      "R_PYK@iMM904 incorrect reversiblity: False, model: [-1000.00, 1000.00]\n",
      "R_PFK@iMM904 incorrect reversiblity: False, model: [-1000.00, 1000.00]\n",
      "R_HEX1@iMM904 incorrect reversiblity: False, model: [-1000.00, 1000.00]\n",
      "R_FBP@iMM904 incorrect reversiblity: False, model: [-1000.00, 1000.00]\n",
      "R_PC@iMM904 incorrect reversiblity: False, model: [-1000.00, 1000.00]\n",
      "R_G6PDH2r@iMM904 incorrect reversiblity: False, model: [-1000.00, 1000.00]\n",
      "R_G6PI@iMM904 incorrect reversiblity: False, model: [-1000.00, 1000.00]\n",
      "R_BTDt_RR@iMM904 incorrect reversiblity: False, model: [-1000.00, 1000.00]\n",
      "R_FDH@iMM904 incorrect reversiblity: False, model: [-1000.00, 1000.00]\n",
      "R_ACt2r@iMM904 contains LR/RL direction\n",
      "R_ALCD2ir@iMM904 contains LR/RL direction\n",
      "R_ACACT1r@iMM904 incorrect reversiblity: False, model: [-1000.00, 1000.00]\n",
      "R_PGL@iMM904 incorrect reversiblity: False, model: [-1000.00, 1000.00]\n",
      "R_GND@iMM904 incorrect reversiblity: False, model: [-1000.00, 1000.00]\n",
      "R_TKT1@iMM904 contains LR/RL direction\n",
      "R_PFK_3@iMM904 incorrect reversiblity: False, model: [-1000.00, 1000.00]\n",
      "R_TKT2@iMM904 contains LR/RL direction\n",
      "R_FUMt2r@iMM904 incorrect reversiblity: False, model: [-1000.00, 1000.00]\n",
      "R_ICL@iMM904 incorrect reversiblity: False, model: [-1000.00, 1000.00]\n",
      "R_MALS@iMM904 incorrect reversiblity: False, model: [-1000.00, 1000.00]\n",
      "R_GLYK@iMM904 incorrect reversiblity: False, model: [-1000.00, 1000.00]\n",
      "R_O2t@iMM904 incorrect reversiblity: False, model: [-1000.00, 1000.00]\n",
      "R_HCO3E@iMM904 contains LR/RL direction\n",
      "R_DB4PS@iMM904 incorrect reversiblity: False, model: [-1000.00, 1000.00]\n"
     ]
    },
    {
     "name": "stdout",
     "output_type": "stream",
     "text": [
      "R_ACS@iMM904\n",
      "map  : {'M_atp_c@iMM904': -1, 'M_coa_c@iMM904': -1, 'M_ac_c@iMM904': -1, 'M_ppi_c@iMM904': 1, 'M_amp_c@iMM904': 1, 'M_accoa_c@iMM904': 1, 'M_h_c@iMM904': 1}\n",
      "model: {'M_amp_c@iMM904': 1.0, 'M_ppi_c@iMM904': 1.0, 'M_accoa_c@iMM904': 1.0, 'M_coa_c@iMM904': -1.0, 'M_ac_c@iMM904': -1.0, 'M_atp_c@iMM904': -1.0}\n",
      "R_SULR@iMM904\n",
      "map  : {'M_h2o_c@iMM904': -3, 'M_nadp_c@iMM904': -3, 'M_h2s_c@iMM904': -1, 'M_nadph_c@iMM904': 3, 'M_h_c@iMM904': 3, 'M_so3_c@iMM904': 1}\n",
      "model: {'M_nadp_c@iMM904': 3.0, 'M_h2s_c@iMM904': 1.0, 'M_h2o_c@iMM904': 3.0, 'M_so3_c@iMM904': -1.0, 'M_nadph_c@iMM904': -3.0, 'M_h_c@iMM904': -5.0}\n"
     ]
    }
   ],
   "source": [
    "build_data = {\"maps\":[\"iMM904;c;c;ModelSEED.Central_Metabolism_JE\"],\"x\":1,\"y\":1}\n",
    "map_assembly = process_build_data_input(build_data['maps'])\n",
    "grid_x = build_data['x']\n",
    "grid_y = build_data['y']\n",
    "em = escher_factory.build_grid(map_assembly, (1,1))"
   ]
  },
  {
   "cell_type": "code",
   "execution_count": 10,
   "metadata": {},
   "outputs": [
    {
     "name": "stderr",
     "output_type": "stream",
     "text": [
      "translate_to_model: iMM904 [c > c]\n",
      "unmaped_cpd: 29\n",
      "unmaped_rxn: 86\n"
     ]
    },
    {
     "name": "stdout",
     "output_type": "stream",
     "text": [
      "Fungi_Central_Temp\n"
     ]
    },
    {
     "name": "stderr",
     "output_type": "stream",
     "text": [
      "R_PPCK@iMM904 incorrect reversiblity: False, model: [-1000.00, 1000.00]\n",
      "R_ME2m@iMM904 incorrect reversiblity: False, model: [-1000.00, 1000.00]\n",
      "R_ALDD2ym@iMM904 incorrect reversiblity: False, model: [-1000.00, 1000.00]\n",
      "R_PDHm@iMM904 incorrect reversiblity: False, model: [-1000.00, 1000.00]\n",
      "R_GLCt1@iMM904 incorrect reversiblity: False, model: [-1000.00, 1000.00]\n",
      "R_PYK@iMM904 incorrect reversiblity: False, model: [-1000.00, 1000.00]\n",
      "R_ICDHxm@iMM904 incorrect reversiblity: False, model: [-1000.00, 1000.00]\n",
      "R_ALDD2xm@iMM904 incorrect reversiblity: False, model: [-1000.00, 1000.00]\n",
      "R_PPAm@iMM904 incorrect reversiblity: False, model: [-1000.00, 1000.00]\n",
      "R_PFK@iMM904 incorrect reversiblity: False, model: [-1000.00, 1000.00]\n",
      "R_PYRDC@iMM904 incorrect reversiblity: False, model: [-1000.00, 1000.00]\n",
      "R_HEX1@iMM904 incorrect reversiblity: False, model: [-1000.00, 1000.00]\n",
      "R_FRUK@iMM904 incorrect reversiblity: False, model: [-1000.00, 1000.00]\n",
      "R_FRDm@iMM904 contains LR/RL direction\n",
      "R_ME1m@iMM904 incorrect reversiblity: False, model: [-1000.00, 1000.00]\n",
      "R_ACSm@iMM904 incorrect reversiblity: False, model: [-1000.00, 1000.00]\n",
      "R_ACS@iMM904 incorrect reversiblity: False, model: [-1000.00, 1000.00]\n",
      "R_CSm@iMM904 incorrect reversiblity: False, model: [-1000.00, 1000.00]\n",
      "R_ICDHym@iMM904 incorrect reversiblity: False, model: [-1000.00, 1000.00]\n",
      "R_FBP@iMM904 incorrect reversiblity: False, model: [-1000.00, 1000.00]\n",
      "R_SUCFUMtm@iMM904 incorrect reversiblity: False, model: [-1000.00, 1000.00]\n",
      "R_SUCCtm@iMM904 incorrect reversiblity: False, model: [-1000.00, 1000.00]\n",
      "R_PYRt2@iMM904 incorrect reversiblity: False, model: [-1000.00, 1000.00]\n",
      "R_ALDD2y@iMM904 incorrect reversiblity: False, model: [-1000.00, 1000.00]\n",
      "R_PPA@iMM904 incorrect reversiblity: False, model: [-1000.00, 1000.00]\n",
      "R_PC@iMM904 incorrect reversiblity: False, model: [-1000.00, 1000.00]\n",
      "R_ALCD2ir@iMM904 contains LR/RL direction\n",
      "R_G6PDH2r@iMM904 incorrect reversiblity: False, model: [-1000.00, 1000.00]\n",
      "R_PGL@iMM904 incorrect reversiblity: False, model: [-1000.00, 1000.00]\n",
      "R_GND@iMM904 incorrect reversiblity: False, model: [-1000.00, 1000.00]\n",
      "R_PFK_3@iMM904 incorrect reversiblity: False, model: [-1000.00, 1000.00]\n",
      "R_ALCD2irm@iMM904 incorrect reversiblity: False, model: [-1000.00, 1000.00]\n",
      "R_GLUK@iMM904 incorrect reversiblity: False, model: [-1000.00, 1000.00]\n",
      "R_ATPS@iMM904 incorrect reversiblity: False, model: [-1000.00, 1000.00]\n",
      "R_ATPS3m@iMM904 incorrect reversiblity: False, model: [-1000.00, 1000.00]\n",
      "R_G6PI@iMM904 incorrect reversiblity: False, model: [-1000.00, 1000.00]\n",
      "R_AKGDbm@iMM904 contains LR/RL direction\n",
      "R_AKGDam@iMM904 incorrect reversiblity: False, model: [-1000.00, 1000.00]\n",
      "R_RPI@iMM904 incorrect reversiblity: False, model: [-1000.00, 1000.00]\n",
      "R_TKT1@iMM904 contains LR/RL direction\n",
      "R_ACtr@iMM904 contains LR/RL direction\n"
     ]
    }
   ],
   "source": [
    "build_data = {\"maps\":[\"iMM904;c;c;ModelSEED.Fungi_Central_Temp\"],\"x\":1,\"y\":1}\n",
    "map_assembly = process_build_data_input(build_data['maps'])\n",
    "grid_x = build_data['x']\n",
    "grid_y = build_data['y']\n",
    "em = escher_factory.build_grid(map_assembly, (1,1))"
   ]
  },
  {
   "cell_type": "code",
   "execution_count": 12,
   "metadata": {},
   "outputs": [],
   "source": [
    "model = None\n",
    "with open('/Users/fliu/workspace/jupyter/web/annotation/data/TempModels/iMM904.json', 'r') as fh:\n",
    "    model = cobra.io.from_json(fh.read())"
   ]
  },
  {
   "cell_type": "code",
   "execution_count": null,
   "metadata": {},
   "outputs": [],
   "source": []
  },
  {
   "cell_type": "code",
   "execution_count": 42,
   "metadata": {},
   "outputs": [
    {
     "name": "stdout",
     "output_type": "stream",
     "text": [
      "CCO__45__CYTOSOL ['cpd00013']\n"
     ]
    }
   ],
   "source": [
    "aaaa = 'M_AMMONIA'\n",
    "for k in escher_factory.cpd_mapping['iJDZ836']:\n",
    "    if aaaa in escher_factory.cpd_mapping['iJDZ836'][k]:\n",
    "        print(k, escher_factory.cpd_mapping['iJDZ836'][k][aaaa])"
   ]
  },
  {
   "cell_type": "code",
   "execution_count": 45,
   "metadata": {},
   "outputs": [
    {
     "name": "stderr",
     "output_type": "stream",
     "text": [
      "WARNING:__main__:cpd24620: [M_CPD__45__622] ! [['M_CPD__45__618']]\n",
      "WARNING:__main__:cpd00132: [M_ASN] ! [['M_ASN__45__tRNAs']]\n",
      "WARNING:__main__:cpd00060: [M_MET__45__tRNAs] ! [['M_MET']]\n",
      "WARNING:__main__:cpd01398: [M_CPD__45__18] ! [['M_CPD2T__45__27']]\n",
      "WARNING:__main__:cpd00399: [M_CPD2T__45__26] ! [['M_OLEOYL__45__COA']]\n",
      "WARNING:__main__:cpd00066: [M_PHE__45__tRNAs] ! [['M_PHE']]\n",
      "WARNING:__main__:cpd00051: [M_ARG] ! [['M_ARG__45__tRNAs']]\n",
      "WARNING:__main__:cpd00053: [M_GLN] ! [['M_GLN__45__tRNAs']]\n",
      "WARNING:__main__:cpd00107: [M_LEU__45__tRNAs] ! [['M_LEU']]\n",
      "WARNING:__main__:cpd00013: [M_AMMONIUM__91__CCO__45__EXTRACELLULAR__93__] ! [['M_AMMONIA__91__CCO__45__EXTRACELLULAR__93__']]\n",
      "WARNING:__main__:cpd19013: [M_AMMONIUM__91__CCO__45__EXTRACELLULAR__93__] ! [['M_AMMONIA__91__CCO__45__EXTRACELLULAR__93__']]\n"
     ]
    },
    {
     "data": {
      "text/plain": [
       "['M_WATER']"
      ]
     },
     "execution_count": 45,
     "metadata": {},
     "output_type": "execute_result"
    }
   ],
   "source": [
    "\n",
    "cpd_mapping = escher_factory.get_cpd_mapping(sbml_id)\n",
    "cpd_mapping['CCO__45__CYTOSOL']['cpd00001']"
   ]
  },
  {
   "cell_type": "code",
   "execution_count": 48,
   "metadata": {},
   "outputs": [
    {
     "name": "stderr",
     "output_type": "stream",
     "text": [
      "WARNING:__main__:cpd24620: [M_CPD__45__622] ! [['M_CPD__45__618']]\n",
      "WARNING:__main__:cpd00132: [M_ASN] ! [['M_ASN__45__tRNAs']]\n",
      "WARNING:__main__:cpd00060: [M_MET__45__tRNAs] ! [['M_MET']]\n",
      "WARNING:__main__:cpd01398: [M_CPD__45__18] ! [['M_CPD2T__45__27']]\n",
      "WARNING:__main__:cpd00399: [M_CPD2T__45__26] ! [['M_OLEOYL__45__COA']]\n",
      "WARNING:__main__:cpd00066: [M_PHE__45__tRNAs] ! [['M_PHE']]\n",
      "WARNING:__main__:cpd00051: [M_ARG] ! [['M_ARG__45__tRNAs']]\n",
      "WARNING:__main__:cpd00053: [M_GLN] ! [['M_GLN__45__tRNAs']]\n",
      "WARNING:__main__:cpd00107: [M_LEU__45__tRNAs] ! [['M_LEU']]\n",
      "WARNING:__main__:cpd00013: [M_AMMONIUM__91__CCO__45__EXTRACELLULAR__93__] ! [['M_AMMONIA__91__CCO__45__EXTRACELLULAR__93__']]\n",
      "WARNING:__main__:cpd19013: [M_AMMONIUM__91__CCO__45__EXTRACELLULAR__93__] ! [['M_AMMONIA__91__CCO__45__EXTRACELLULAR__93__']]\n",
      "WARNING:__main__:unmaped_cpd: 41\n",
      "WARNING:__main__:unmaped_rxn: 95\n"
     ]
    }
   ],
   "source": [
    "escher_model_id = 'ModelSEED'\n",
    "escher_map_id = 'Fungi_Central_Temp'\n",
    "sbml_id = 'iJDZ836'\n",
    "target_cmp = 'c'\n",
    "cmp_mapping = escher_factory.get_cmp_mapping(sbml_id)\n",
    "cpd_mapping = escher_factory.get_cpd_mapping(sbml_id)\n",
    "rxn_mapping = escher_factory.get_rxn_mapping(sbml_id)\n",
    "\n",
    "em = escher_factory.translate_to_model2(escher_model_id, escher_map_id, sbml_id, target_cmp, \n",
    "                                        cpd_mapping, rxn_mapping, cmp_mapping)\n",
    "#WARNING:__main__:unmaped_cpd: 78\n",
    "#WARNING:__main__:unmaped_rxn: 118"
   ]
  },
  {
   "cell_type": "code",
   "execution_count": 49,
   "metadata": {},
   "outputs": [
    {
     "data": {
      "text/html": [
       "\n",
       "\n",
       "\n",
       "  \n",
       "  \n",
       "\n",
       "  \n",
       "  \n",
       "    <link rel=\"stylesheet\" href=\"//unpkg.com/escher-vis@1.6.0/css/dist/builder.min.css\"/>\n",
       "  \n",
       "\n",
       "\n",
       "\n",
       "  <div style=\"height: 500px; width: 100%;\" id=\"ibvpifvvxl\"></div>\n",
       "\n",
       "  <script>\n",
       "   /* Closure to make sure data only applies to this map. */\n",
       "   (function() {\n",
       "       /* data from python */\n",
       "       var data = get_data();\n",
       "\n",
       "       function load_lib(url, callback) {\n",
       "           /** Dynamically load a JavaScript file */\n",
       "           var s = document.createElement('script');\n",
       "           s.src = url;\n",
       "           s.async = true;\n",
       "           s.onreadystatechange = s.onload = callback;\n",
       "           s.onerror = function() {\n",
       "               console.warn('Failed to load library ' + url);\n",
       "           };\n",
       "           document.getElementsByTagName('head')[0].appendChild(s);\n",
       "       }\n",
       "\n",
       "       function check_global_and_load(name, url, callback) {\n",
       "           /** Look for the name in the global scope. If it isn't present, then\n",
       "              load the library at url. Returns the object. */\n",
       "           if (window[name] !== undefined) {\n",
       "               callback(window[name]);\n",
       "           } else {\n",
       "               load_lib(url, function() {\n",
       "                   callback(window[name]);\n",
       "               });\n",
       "           }\n",
       "       }\n",
       "\n",
       "       function draw_escher(escher) {\n",
       "           /** Get data and draw */\n",
       "           var load = function(t_map_data, t_model_data, t_options) {\n",
       "               escher.Builder(t_map_data, t_model_data, data.builder_embed_css,\n",
       "                              escher.libs.d3_select('#' + data.id), t_options);\n",
       "           }\n",
       "\n",
       "           // for the static site, use the url attributes for the map and model\n",
       "           // information\n",
       "           if (data.static_site_index !== null) {\n",
       "               escher.static.load_map_model_from_url(data.map_download_url, data.model_download_url,\n",
       "                                                     data.static_site_index, data.options, load);\n",
       "           } else {\n",
       "               load(data.map_data, data.model_data, data.options);\n",
       "           }\n",
       "       }\n",
       "\n",
       "       // Load dependencies and draw\n",
       "       if (typeof define === 'function' && define.amd) {\n",
       "           // require.js is available: use it to load escher\n",
       "           require.config({\n",
       "             paths: {\n",
       "               escher: '//unpkg.com/escher-vis@1.6.0/js/dist/escher.min',\n",
       "             },\n",
       "             // Override urlArgs that adds ?v= to the end of the escher URL and\n",
       "             // messes up unpkg links. Honestly, I'm not sure if this will lead\n",
       "             // to downstream bugs in the notebook, but they really shouldn't be\n",
       "             // doing this cache-busting anyway.\n",
       "             urlArgs: null,\n",
       "           })\n",
       "           require([ 'escher' ], function(escher) {\n",
       "               draw_escher(escher);\n",
       "           })\n",
       "       } else {\n",
       "           // require.js not available: dynamically load escher\n",
       "           check_global_and_load('escher', '//unpkg.com/escher-vis@1.6.0/js/dist/escher.min.js', function(escher) {\n",
       "               draw_escher(escher);\n",
       "           })\n",
       "       }\n",
       "\n",
       "       // Put this at the end so Chrome doesn't cut off the code above.\n",
       "       function get_data() {\n",
       "           /** Return the data passed in by the Python module. */\n",
       "           return {\n",
       "               id: JSON.parse('\"ibvpifvvxl\"'),\n",
       "               map_download_url: JSON.parse('\"//escher.github.io/1-0-0/5/maps/\"'),\n",
       "               model_download_url: JSON.parse('\"//escher.github.io/1-0-0/5/models/\"'),\n",
       "               options: JSON.parse('{\"menu\": \"zoom\", \"enable_keys\": false, \"enable_editing\": false, \"scroll_behavior\": \"none\", \"fill_screen\": false, \"ignore_bootstrap\": true, \"never_ask_before_quit\": true, \"reaction_data\": null, \"metabolite_data\": null, \"gene_data\": null}'),\n",
       "               builder_embed_css: JSON.parse('null'),\n",
       "               map_data: JSON.parse('[{\"map_name\": \"iMM904.Central carbon metabolism\", \"map_id\": \"78086bfdab8ac8a8150cf4cd5dada037\", \"map_description\": \"Yeast central carbon metabolism\\\\nLast Modified Mon Nov 18 2019 10:40:31 GMT-0600 (Central Standard Time)\", \"homepage\": \"https://escher.github.io\", \"schema\": \"https://escher.github.io/escher/jsonschema/1-0-0#\"}, {\"reactions\": {\"667151\": {\"name\": \"Ethanol reversible transport\", \"bigg_id\": \"TRANS__45__RXN2T__45__260__45__L2R__91__CCO__45__EXTRACELLULAR__93__@iJDZ836\", \"reversibility\": true, \"label_x\": 6758.904734375, \"label_y\": 6247.68275390625, \"gene_reaction_rule\": \"\", \"genes\": [], \"metabolites\": [{\"coefficient\": 1, \"bigg_id\": \"M_ETOH@iJDZ836\", \"node_uid\": \"671073\"}, {\"coefficient\": -1, \"bigg_id\": \"M_ETOH__91__CCO__45__EXTRACELLULAR__93__@iJDZ836\", \"node_uid\": \"672069\"}], \"segments\": {\"5465\": {\"from_node_id\": \"672069\", \"to_node_id\": \"669272\", \"b1\": {\"x\": 6805.25539203125, \"y\": 6144.54233390625}, \"b2\": {\"x\": 6775.55663203125, \"y\": 6174.24077890625}}, \"5466\": {\"from_node_id\": \"669272\", \"to_node_id\": \"671073\", \"b1\": {\"x\": 6720.40098203125, \"y\": 6229.438128906249}, \"b2\": {\"x\": 6690.700332031251, \"y\": 6259.23712890625}}}, \"compartment\": \"e\"}, \"667155\": {\"name\": \"rxn00247\", \"bigg_id\": \"PEPCARBOXYKIN__45__RXN__45__L2R@iJDZ836\", \"reversibility\": false, \"label_x\": 2305.391881640625, \"label_y\": 6194.65040234375, \"genes\": [], \"metabolites\": [{\"coefficient\": -1, \"bigg_id\": \"M_OXALACETIC_ACID@iJDZ836\", \"node_uid\": \"672369\"}, {\"coefficient\": -1, \"bigg_id\": \"M_ATP@iJDZ836\", \"node_uid\": \"672110\"}, {\"coefficient\": 1, \"bigg_id\": \"M_PHOSPHO__45__ENOL__45__PYRUVATE@iJDZ836\", \"node_uid\": \"672080\"}, {\"coefficient\": 1, \"bigg_id\": \"M_CARBON__45__DIOXIDE@iJDZ836\", \"node_uid\": \"671114\"}, {\"coefficient\": 1, \"bigg_id\": \"M_ADP@iJDZ836\", \"node_uid\": \"668408\"}], \"segments\": {\"5353\": {\"from_node_id\": \"669283\", \"to_node_id\": \"669282\", \"b1\": null, \"b2\": null}, \"5354\": {\"from_node_id\": \"669282\", \"to_node_id\": \"669284\", \"b1\": null, \"b2\": null}, \"5355\": {\"from_node_id\": \"672110\", \"to_node_id\": \"669283\", \"b1\": {\"x\": 2496.488999536687, \"y\": 6390.937422982511}, \"b2\": {\"x\": 2498.478805095381, \"y\": 6353.131316347878}}, \"5356\": {\"from_node_id\": \"672369\", \"to_node_id\": \"669283\", \"b1\": {\"x\": 2996.0512432827522, \"y\": 7117.827898593169}, \"b2\": {\"x\": 2455.078459664513, \"y\": 6982.423361374826}}, \"5357\": {\"from_node_id\": \"669284\", \"to_node_id\": \"672080\", \"b1\": {\"x\": 2583.4188580496407, \"y\": 5673.887865644165}, \"b2\": {\"x\": 3618.7961240122704, \"y\": 5799.361001805815}}, \"5358\": {\"from_node_id\": \"669284\", \"to_node_id\": \"668408\", \"b1\": {\"x\": 2519.9508242073784, \"y\": 5989.779585577131}, \"b2\": {\"x\": 2497.4308362287193, \"y\": 5953.513513616233}}, \"5359\": {\"from_node_id\": \"669284\", \"to_node_id\": \"671114\", \"b1\": {\"x\": 2512.0340996849923, \"y\": 6038.821952944177}, \"b2\": {\"x\": 2509.6154035759746, \"y\": 6022.83410015221}}}, \"compartment\": \"c\"}, \"667156\": {\"name\": \"rxn00799\", \"bigg_id\": \"FUMHYDR__45__RXN__45__L2R__91__CCO__45__MIT__93__@iJDZ836\", \"reversibility\": true, \"label_x\": 2828.214147265625, \"label_y\": 8212.60255703125, \"genes\": [], \"metabolites\": [{\"coefficient\": -1, \"bigg_id\": \"M_WATER__91__CCO__45__MIT__93__@iJDZ836\", \"node_uid\": \"670666\"}, {\"coefficient\": 1, \"bigg_id\": \"M_MAL__91__CCO__45__MIT__93__@iJDZ836\", \"node_uid\": \"670644\"}, {\"coefficient\": -1, \"bigg_id\": \"M_FUM__91__CCO__45__MIT__93__@iJDZ836\", \"node_uid\": \"669125\"}], \"segments\": {\"5360\": {\"from_node_id\": \"669285\", \"to_node_id\": \"669286\", \"b1\": null, \"b2\": null}, \"5361\": {\"from_node_id\": \"669286\", \"to_node_id\": \"670644\", \"b1\": {\"x\": 2778.292028125, \"y\": 8161.165755312501}, \"b2\": {\"x\": 2873.467809375, \"y\": 8048.21946796875}}, \"5362\": {\"from_node_id\": \"669125\", \"to_node_id\": \"669285\", \"b1\": {\"x\": 2689.8091947310863, \"y\": 8410.970382684307}, \"b2\": {\"x\": 2722.2239115052635, \"y\": 8288.773748008418}}, \"5363\": {\"from_node_id\": \"670666\", \"to_node_id\": \"669285\", \"b1\": {\"x\": 2701.94244438395, \"y\": 8277.26591083865}, \"b2\": {\"x\": 2731.539569994872, \"y\": 8270.14199629847}}}, \"compartment\": \"m\"}, \"667157\": {\"name\": \"Pyruvate mitochondrial transport via proton symport\", \"bigg_id\": \"TRANS__45__RXN2T__45__215__45__L2R__91__CCO__45__MIT__93__@iJDZ836\", \"reversibility\": true, \"label_x\": 3880.9932, \"label_y\": 6505.700171875, \"gene_reaction_rule\": \"\", \"genes\": [], \"metabolites\": [{\"coefficient\": -1, \"bigg_id\": \"M_PROTON@iJDZ836\", \"node_uid\": \"668427\"}, {\"coefficient\": 1, \"bigg_id\": \"M_PROTON__91__CCO__45__MIT__93__@iJDZ836\", \"node_uid\": \"672100\"}, {\"coefficient\": 1, \"bigg_id\": \"M_PYRUVATE__91__CCO__45__MIT__93__@iJDZ836\", \"node_uid\": \"668379\"}, {\"coefficient\": -1, \"bigg_id\": \"M_PYRUVATE@iJDZ836\", \"node_uid\": \"668385\"}], \"segments\": {\"4879\": {\"from_node_id\": \"669289\", \"to_node_id\": \"668379\", \"b1\": {\"x\": 3870.9932, \"y\": 6562.700671875}, \"b2\": {\"x\": 3872.713658984375, \"y\": 6617.099109375}}, \"5364\": {\"from_node_id\": \"669287\", \"to_node_id\": \"669288\", \"b1\": null, \"b2\": null}, \"5365\": {\"from_node_id\": \"669288\", \"to_node_id\": \"669289\", \"b1\": null, \"b2\": null}, \"5366\": {\"from_node_id\": \"668385\", \"to_node_id\": \"669287\", \"b1\": {\"x\": 3870.9932, \"y\": 6405.700671875}, \"b2\": {\"x\": 3870.9932, \"y\": 6468.701021875}}, \"5367\": {\"from_node_id\": \"668427\", \"to_node_id\": \"669287\", \"b1\": {\"x\": 3870.9932, \"y\": 6431.669773326612}, \"b2\": {\"x\": 3870.9932, \"y\": 6476.491752310483}}, \"5368\": {\"from_node_id\": \"669289\", \"to_node_id\": \"672100\", \"b1\": {\"x\": 3870.9932, \"y\": 6554.910091439517}, \"b2\": {\"x\": 3870.9932, \"y\": 6599.732070423388}}}, \"compartment\": \"m\"}, \"667164\": {\"name\": \"rxn00459\", \"bigg_id\": \"_2PGADEHYDRAT__45__RXN__45__L2R@iJDZ836\", \"reversibility\": true, \"label_x\": 3882.875965625, \"label_y\": 5681.1996953125, \"genes\": [], \"metabolites\": [{\"coefficient\": 1, \"bigg_id\": \"M_WATER@iJDZ836\", \"node_uid\": \"671104\"}, {\"coefficient\": -1, \"bigg_id\": \"M_2__45__PG@iJDZ836\", \"node_uid\": \"672064\"}, {\"coefficient\": 1, \"bigg_id\": \"M_PHOSPHO__45__ENOL__45__PYRUVATE@iJDZ836\", \"node_uid\": \"672080\"}], \"segments\": {\"5826\": {\"from_node_id\": \"672064\", \"to_node_id\": \"667073\", \"b1\": {\"x\": 3872.875965625, \"y\": 5580.83592578125}, \"b2\": {\"x\": 3872.875965625, \"y\": 5631.1996953125}}, \"5827\": {\"from_node_id\": \"667073\", \"to_node_id\": \"667072\", \"b1\": null, \"b2\": null}, \"5828\": {\"from_node_id\": \"667072\", \"to_node_id\": \"671104\", \"b1\": {\"x\": 3872.875965625, \"y\": 5730.409521172759}, \"b2\": {\"x\": 3872.875965625, \"y\": 5775.231281513365}}, \"5829\": {\"from_node_id\": \"667072\", \"to_node_id\": \"672080\", \"b1\": {\"x\": 3872.875965625, \"y\": 5738.2001953125}, \"b2\": {\"x\": 3870.9912, \"y\": 5825.701171875}}}, \"compartment\": \"c\"}, \"667170\": {\"name\": \"rxn00154\", \"bigg_id\": \"PYRUVDEH__45__RXN__45__L2R__91__CCO__45__MIT__93__@iJDZ836\", \"reversibility\": false, \"label_x\": 4124.667195703125, \"label_y\": 7080.42186328125, \"genes\": [], \"metabolites\": [{\"coefficient\": -1, \"bigg_id\": \"M_PYRUVATE__91__CCO__45__MIT__93__@iJDZ836\", \"node_uid\": \"668379\"}, {\"coefficient\": 1, \"bigg_id\": \"M_CARBON__45__DIOXIDE__91__CCO__45__MIT__93__@iJDZ836\", \"node_uid\": \"669111\"}, {\"coefficient\": -1, \"bigg_id\": \"M_CO__45__A__91__CCO__45__MIT__93__@iJDZ836\", \"node_uid\": \"670677\"}, {\"coefficient\": -1, \"bigg_id\": \"M_NAD__91__CCO__45__MIT__93__@iJDZ836\", \"node_uid\": \"670650\"}, {\"coefficient\": 1, \"bigg_id\": \"M_NADH__91__CCO__45__MIT__93__@iJDZ836\", \"node_uid\": \"668382\"}, {\"coefficient\": 1, \"bigg_id\": \"M_ACETYL__45__COA__91__CCO__45__MIT__93__@iJDZ836\", \"node_uid\": \"669557\"}], \"segments\": {\"1670\": {\"from_node_id\": \"668379\", \"to_node_id\": \"669157\", \"b1\": {\"x\": 4058.194539453125, \"y\": 6728.926746092738}, \"b2\": {\"x\": 4101.346883203125, \"y\": 6809.318347655946}}, \"1671\": {\"from_node_id\": \"669158\", \"to_node_id\": \"669557\", \"b1\": {\"x\": 4104.267293359375, \"y\": 7432.445674218946}, \"b2\": {\"x\": 3996.015340234375, \"y\": 7471.038585938153}}, \"1672\": {\"from_node_id\": \"669158\", \"to_node_id\": \"668382\", \"b1\": {\"x\": 4102.678914453125, \"y\": 7177.995807590275}, \"b2\": {\"x\": 4102.678914453125, \"y\": 7221.851042227999}}, \"1673\": {\"from_node_id\": \"669158\", \"to_node_id\": \"669111\", \"b1\": {\"x\": 4102.678914453125, \"y\": 7176.693601303086}, \"b2\": {\"x\": 4070.711141015625, \"y\": 7248.146096791536}}, \"2518\": {\"from_node_id\": \"669157\", \"to_node_id\": \"669156\", \"b1\": null, \"b2\": null}, \"2519\": {\"from_node_id\": \"669156\", \"to_node_id\": \"669158\", \"b1\": null, \"b2\": null}, \"2520\": {\"from_node_id\": \"670677\", \"to_node_id\": \"669157\", \"b1\": {\"x\": 4062.718709375, \"y\": 6889.509059024152}, \"b2\": {\"x\": 4101.346883203125, \"y\": 6992.172533722871}}, \"2521\": {\"from_node_id\": \"670650\", \"to_node_id\": \"669157\", \"b1\": {\"x\": 4101.346883203125, \"y\": 6949.449488711652}, \"b2\": {\"x\": 4101.346883203125, \"y\": 6992.172533722871}}}, \"compartment\": \"m\"}, \"667175\": {\"name\": \"Citrate transport  mitochondrial\", \"bigg_id\": \"TRANS__45__RXN2T__45__265__45__R2L__91__CCO__45__MIT__93__@iJDZ836\", \"reversibility\": true, \"label_x\": 4958.09700390625, \"label_y\": 7777.35693359375, \"gene_reaction_rule\": \"YBR291C\", \"genes\": [{\"bigg_id\": \"YBR291C\", \"name\": \"CTP1\"}], \"metabolites\": [{\"coefficient\": -1, \"bigg_id\": \"M_THREO__45__DS__45__ISO__45__CITRATE__91__CCO__45__MIT__93__@iJDZ836\", \"node_uid\": \"668426\"}, {\"coefficient\": 1, \"bigg_id\": \"M_THREO__45__DS__45__ISO__45__CITRATE@iJDZ836\", \"node_uid\": \"672330\"}, {\"coefficient\": -1, \"bigg_id\": \"M_CIT@iJDZ836\", \"node_uid\": \"671415\"}, {\"coefficient\": 1, \"bigg_id\": \"M_CIT__91__CCO__45__MIT__93__@iJDZ836\", \"node_uid\": \"672399\"}], \"segments\": {\"2764\": {\"from_node_id\": \"669166\", \"to_node_id\": \"669167\", \"b1\": null, \"b2\": null}, \"2765\": {\"from_node_id\": \"669167\", \"to_node_id\": \"669165\", \"b1\": null, \"b2\": null}, \"2766\": {\"from_node_id\": \"668426\", \"to_node_id\": \"669166\", \"b1\": {\"x\": 5210.874373928484, \"y\": 8114.3537759322635}, \"b2\": {\"x\": 5048.274990303546, \"y\": 7880.252698404679}}, \"2767\": {\"from_node_id\": \"671415\", \"to_node_id\": \"669166\", \"b1\": {\"x\": 5068.614744752827, \"y\": 7916.715713002833}, \"b2\": {\"x\": 4981.980548816474, \"y\": 7832.677929916475}}, \"2768\": {\"from_node_id\": \"669165\", \"to_node_id\": \"672399\", \"b1\": {\"x\": 4756.118013377356, \"y\": 7654.387166909996}, \"b2\": {\"x\": 4551.609581049518, \"y\": 7671.267173554154}}, \"2769\": {\"from_node_id\": \"669165\", \"to_node_id\": \"672330\", \"b1\": {\"x\": 4890.268814053662, \"y\": 7726.4709167247975}, \"b2\": {\"x\": 4857.821885387207, \"y\": 7724.53722502016}}}, \"compartment\": \"m\"}, \"667179\": {\"name\": \"rxn00148\", \"bigg_id\": \"PEPDEPHOS__45__RXN__45__R2L@iJDZ836\", \"reversibility\": false, \"label_x\": 3881, \"label_y\": 6085.707471875, \"genes\": [], \"metabolites\": [{\"coefficient\": -1, \"bigg_id\": \"M_PROTON@iJDZ836\", \"node_uid\": \"672355\"}, {\"coefficient\": 1, \"bigg_id\": \"M_ATP@iJDZ836\", \"node_uid\": \"672391\"}, {\"coefficient\": -1, \"bigg_id\": \"M_PHOSPHO__45__ENOL__45__PYRUVATE@iJDZ836\", \"node_uid\": \"672080\"}, {\"coefficient\": 1, \"bigg_id\": \"M_PYRUVATE@iJDZ836\", \"node_uid\": \"668385\"}, {\"coefficient\": -1, \"bigg_id\": \"M_ADP@iJDZ836\", \"node_uid\": \"668368\"}], \"segments\": {\"1640\": {\"from_node_id\": \"672355\", \"to_node_id\": \"669896\", \"b1\": {\"x\": 3871, \"y\": 6022.557541586898}, \"b2\": {\"x\": 3871, \"y\": 6059.762982788569}}, \"1641\": {\"from_node_id\": \"672080\", \"to_node_id\": \"669896\", \"b1\": {\"x\": 3871, \"y\": 5995.704671754005}, \"b2\": {\"x\": 3871, \"y\": 6051.707121838701}}, \"1642\": {\"from_node_id\": \"668368\", \"to_node_id\": \"669896\", \"b1\": {\"x\": 3871, \"y\": 6022.557541586898}, \"b2\": {\"x\": 3871, \"y\": 6059.762982788569}}, \"1643\": {\"from_node_id\": \"669895\", \"to_node_id\": \"672391\", \"b1\": {\"x\": 3871, \"y\": 6127.4226424170865}, \"b2\": {\"x\": 3871, \"y\": 6154.758740348622}}, \"1644\": {\"from_node_id\": \"669895\", \"to_node_id\": \"668385\", \"b1\": {\"x\": 3871, \"y\": 6145.706121892341}, \"b2\": {\"x\": 3871, \"y\": 6215.7036719328025}}, \"5651\": {\"from_node_id\": \"669896\", \"to_node_id\": \"669894\", \"b1\": null, \"b2\": null}, \"5652\": {\"from_node_id\": \"669894\", \"to_node_id\": \"669895\", \"b1\": null, \"b2\": null}}, \"compartment\": \"c\"}, \"667181\": {\"name\": \"CO2 transport  diffusion   mitochondrial\", \"bigg_id\": \"TRANS__45__RXN2T__45__232__45__L2R__91__CCO__45__MIT__93__@iJDZ836\", \"reversibility\": true, \"label_x\": 5547.3396796875, \"label_y\": 9374.30224609375, \"gene_reaction_rule\": \"\", \"genes\": [], \"metabolites\": [{\"coefficient\": 1, \"bigg_id\": \"M_CARBON__45__DIOXIDE__91__CCO__45__MIT__93__@iJDZ836\", \"node_uid\": \"670848\"}, {\"coefficient\": -1, \"bigg_id\": \"M_CARBON__45__DIOXIDE@iJDZ836\", \"node_uid\": \"668386\"}], \"segments\": {\"1652\": {\"from_node_id\": \"668386\", \"to_node_id\": \"669900\", \"b1\": {\"x\": 5596.8396796875, \"y\": 9469.30224609375}, \"b2\": {\"x\": 5572.3396796875, \"y\": 9434.30224609375}}, \"1653\": {\"from_node_id\": \"669900\", \"to_node_id\": \"670848\", \"b1\": {\"x\": 5526.8396796875, \"y\": 9369.30209609375}, \"b2\": {\"x\": 5481.57161328125, \"y\": 9303.15037890625}}}, \"compartment\": \"m\"}, \"667182\": {\"name\": \"rxn00248\", \"bigg_id\": \"MALATE__45__DEH__45__RXN__45__L2R__91__CCO__45__MIT__93__@iJDZ836\", \"reversibility\": true, \"label_x\": 3143.392858203125, \"label_y\": 7823.1796171875, \"genes\": [], \"metabolites\": [{\"coefficient\": 1, \"bigg_id\": \"M_OXALACETIC_ACID__91__CCO__45__MIT__93__@iJDZ836\", \"node_uid\": \"671461\"}, {\"coefficient\": 1, \"bigg_id\": \"M_NADH__91__CCO__45__MIT__93__@iJDZ836\", \"node_uid\": \"669126\"}, {\"coefficient\": 1, \"bigg_id\": \"M_PROTON__91__CCO__45__MIT__93__@iJDZ836\", \"node_uid\": \"671476\"}, {\"coefficient\": -1, \"bigg_id\": \"M_MAL__91__CCO__45__MIT__93__@iJDZ836\", \"node_uid\": \"670644\"}, {\"coefficient\": -1, \"bigg_id\": \"M_NAD__91__CCO__45__MIT__93__@iJDZ836\", \"node_uid\": \"669108\"}], \"segments\": {\"1654\": {\"from_node_id\": \"669901\", \"to_node_id\": \"669903\", \"b1\": null, \"b2\": null}, \"1655\": {\"from_node_id\": \"669903\", \"to_node_id\": \"669902\", \"b1\": null, \"b2\": null}, \"1656\": {\"from_node_id\": \"669108\", \"to_node_id\": \"669901\", \"b1\": {\"x\": 3061.143420384858, \"y\": 7827.482759599645}, \"b2\": {\"x\": 3083.718026857645, \"y\": 7810.551240379893}}, \"1657\": {\"from_node_id\": \"670644\", \"to_node_id\": \"669901\", \"b1\": {\"x\": 2979.9144498809346, \"y\": 7908.375673505804}, \"b2\": {\"x\": 3071.33139137053, \"y\": 7819.8415266611155}}, \"1658\": {\"from_node_id\": \"669902\", \"to_node_id\": \"671476\", \"b1\": {\"x\": 3184.25911236695, \"y\": 7735.144947370944}, \"b2\": {\"x\": 3216.273861665875, \"y\": 7718.793445403145}}, \"1659\": {\"from_node_id\": \"669902\", \"to_node_id\": \"669126\", \"b1\": {\"x\": 3185.6306260957317, \"y\": 7734.116332647062}, \"b2\": {\"x\": 3214.185417845148, \"y\": 7712.700667156876}}, \"1660\": {\"from_node_id\": \"669902\", \"to_node_id\": \"671461\", \"b1\": {\"x\": 3211.3404481671387, \"y\": 7714.834351740838}, \"b2\": {\"x\": 3265.935605999838, \"y\": 7669.7232959069615}}}, \"compartment\": \"m\"}, \"667183\": {\"name\": \"rxn01100\", \"bigg_id\": \"PHOSGLYPHOS__45__RXN__45__L2R@iJDZ836\", \"reversibility\": true, \"label_x\": 3880.9912, \"label_y\": 5101.52733203125, \"genes\": [], \"metabolites\": [{\"coefficient\": -1, \"bigg_id\": \"M_ATP@iJDZ836\", \"node_uid\": \"670641\"}, {\"coefficient\": 1, \"bigg_id\": \"M_DPG@iJDZ836\", \"node_uid\": \"668411\"}, {\"coefficient\": 1, \"bigg_id\": \"M_ADP@iJDZ836\", \"node_uid\": \"672084\"}, {\"coefficient\": -1, \"bigg_id\": \"M_G3P@iJDZ836\", \"node_uid\": \"671467\"}], \"segments\": {\"1661\": {\"from_node_id\": \"669906\", \"to_node_id\": \"669904\", \"b1\": null, \"b2\": null}, \"1662\": {\"from_node_id\": \"669904\", \"to_node_id\": \"669905\", \"b1\": null, \"b2\": null}, \"1663\": {\"from_node_id\": \"670641\", \"to_node_id\": \"669906\", \"b1\": {\"x\": 3870.9912, \"y\": 5195.558230579638}, \"b2\": {\"x\": 3870.9912, \"y\": 5150.736251595767}}, \"1664\": {\"from_node_id\": \"671467\", \"to_node_id\": \"669906\", \"b1\": {\"x\": 3872.875965625, \"y\": 5229.0666328125}, \"b2\": {\"x\": 3870.9912, \"y\": 5158.52690703125}}, \"1665\": {\"from_node_id\": \"669905\", \"to_node_id\": \"668411\", \"b1\": {\"x\": 3870.9912, \"y\": 5064.52740703125}, \"b2\": {\"x\": 3870.9912, \"y\": 5001.52758203125}}, \"1666\": {\"from_node_id\": \"669905\", \"to_node_id\": \"672084\", \"b1\": {\"x\": 3870.9912, \"y\": 5072.318006170991}, \"b2\": {\"x\": 3870.9912, \"y\": 5027.496245830385}}}, \"compartment\": \"c\"}, \"667187\": {\"name\": \"rxn01106\", \"bigg_id\": \"_3PGAREARR__45__RXN__45__L2R@iJDZ836\", \"reversibility\": true, \"label_x\": 3882.875965625, \"label_y\": 5429.0668828125, \"genes\": [], \"metabolites\": [{\"coefficient\": -1, \"bigg_id\": \"M_2__45__PG@iJDZ836\", \"node_uid\": \"672064\"}, {\"coefficient\": 1, \"bigg_id\": \"M_G3P@iJDZ836\", \"node_uid\": \"671467\"}], \"segments\": {\"1922\": {\"from_node_id\": \"672064\", \"to_node_id\": \"669914\", \"b1\": {\"x\": 3872.875965625, \"y\": 5544.83592578125}, \"b2\": {\"x\": 3872.875965625, \"y\": 5499.0668828125}}, \"1923\": {\"from_node_id\": \"669914\", \"to_node_id\": \"671467\", \"b1\": {\"x\": 3872.875965625, \"y\": 5421.0668828125}, \"b2\": {\"x\": 3872.875965625, \"y\": 5379.0668828125}}}, \"compartment\": \"c\"}, \"667196\": {\"name\": \"rxn00248\", \"bigg_id\": \"MAL__45__DEH__45__GLYOX__45__RXN__45__L2R@iJDZ836\", \"reversibility\": true, \"label_x\": 2772.2432, \"label_y\": 7281.541015625, \"genes\": [], \"metabolites\": [{\"coefficient\": 1, \"bigg_id\": \"M_PROTON@iJDZ836\", \"node_uid\": \"670611\"}, {\"coefficient\": 1, \"bigg_id\": \"M_NADH@iJDZ836\", \"node_uid\": \"670605\"}, {\"coefficient\": -1, \"bigg_id\": \"M_MAL@iJDZ836\", \"node_uid\": \"668378\"}, {\"coefficient\": -1, \"bigg_id\": \"M_NAD@iJDZ836\", \"node_uid\": \"669540\"}, {\"coefficient\": 1, \"bigg_id\": \"M_OXALACETIC_ACID@iJDZ836\", \"node_uid\": \"672369\"}], \"segments\": {\"4216\": {\"from_node_id\": \"669939\", \"to_node_id\": \"669940\", \"b1\": null, \"b2\": null}, \"4217\": {\"from_node_id\": \"669940\", \"to_node_id\": \"669938\", \"b1\": null, \"b2\": null}, \"4218\": {\"from_node_id\": \"668378\", \"to_node_id\": \"669939\", \"b1\": {\"x\": 2718.001207041639, \"y\": 7442.974573454369}, \"b2\": {\"x\": 2753.688741018742, \"y\": 7407.276974223811}}, \"4219\": {\"from_node_id\": \"669540\", \"to_node_id\": \"669939\", \"b1\": {\"x\": 2736.9723034597628, \"y\": 7423.998126459378}, \"b2\": {\"x\": 2759.380069944179, \"y\": 7401.584040125314}}, \"4220\": {\"from_node_id\": \"669938\", \"to_node_id\": \"670611\", \"b1\": {\"x\": 2913.479584104681, \"y\": 7282.906337083012}, \"b2\": {\"x\": 2947.3198839947713, \"y\": 7261.7561496517055}}, \"4221\": {\"from_node_id\": \"669938\", \"to_node_id\": \"670605\", \"b1\": {\"x\": 2912.4981647321356, \"y\": 7283.519724190853}, \"b2\": {\"x\": 2944.0484860862853, \"y\": 7263.800773344509}}, \"4222\": {\"from_node_id\": \"669938\", \"to_node_id\": \"672369\", \"b1\": {\"x\": 2934.7963787993694, \"y\": 7269.583340398832}, \"b2\": {\"x\": 3036.7630733416486, \"y\": 7212.749969298188}}}, \"compartment\": \"c\"}, \"667216\": {\"name\": \"rxn00545\", \"bigg_id\": \"_6PFRUCTPHOS__45__RXN__45__L2R@iJDZ836\", \"reversibility\": false, \"label_x\": 3880.9932, \"label_y\": 3586.249, \"genes\": [], \"metabolites\": [{\"coefficient\": 1, \"bigg_id\": \"M_PROTON@iJDZ836\", \"node_uid\": \"669555\"}, {\"coefficient\": -1, \"bigg_id\": \"M_ATP@iJDZ836\", \"node_uid\": \"670604\"}, {\"coefficient\": 1, \"bigg_id\": \"M_ADP@iJDZ836\", \"node_uid\": \"671082\"}, {\"coefficient\": 1, \"bigg_id\": \"M_FRUCTOSE__45__16__45__DIPHOSPHATE@iJDZ836\", \"node_uid\": \"671406\"}, {\"coefficient\": -1, \"bigg_id\": \"M_FRUCTOSE__45__6P@iJDZ836\", \"node_uid\": \"668387\"}], \"segments\": {\"1638\": {\"from_node_id\": \"670875\", \"to_node_id\": \"670877\", \"b1\": null, \"b2\": null}, \"1639\": {\"from_node_id\": \"670877\", \"to_node_id\": \"670876\", \"b1\": null, \"b2\": null}, \"1768\": {\"from_node_id\": \"670604\", \"to_node_id\": \"670875\", \"b1\": {\"y\": 3533.822593128807, \"x\": 3870.9932}, \"b2\": {\"y\": 3563.521077938642, \"x\": 3870.9932}}, \"1769\": {\"from_node_id\": \"668387\", \"to_node_id\": \"670875\", \"b1\": {\"y\": 3459.316138671875, \"x\": 3870.9932}, \"b2\": {\"y\": 3543.249, \"x\": 3870.9932}}, \"1770\": {\"from_node_id\": \"670876\", \"to_node_id\": \"669555\", \"b1\": {\"y\": 3635.4599000936782, \"x\": 3870.9932}, \"b2\": {\"y\": 3680.285333645595, \"x\": 3870.9932}}, \"1771\": {\"from_node_id\": \"670876\", \"to_node_id\": \"671082\", \"b1\": {\"y\": 3641.07841803587, \"x\": 3870.9932}, \"b2\": {\"y\": 3699.013726786234, \"x\": 3870.9932}}, \"1772\": {\"from_node_id\": \"670876\", \"to_node_id\": \"671406\", \"b1\": {\"y\": 3659.7501700119583, \"x\": 3870.9932}, \"b2\": {\"y\": 3761.252900039861, \"x\": 3870.9932}}}, \"compartment\": \"c\"}, \"667219\": {\"name\": \"rxn01870\", \"bigg_id\": \"RXN__45__8631__45__L2R@iJDZ836\", \"reversibility\": true, \"label_x\": 3464.685791015625, \"label_y\": 4208.86393359375, \"genes\": [], \"metabolites\": [{\"coefficient\": 1, \"bigg_id\": \"M_DIHYDROXY__45__ACETONE__45__PHOSPHATE@iJDZ836\", \"node_uid\": \"671079\"}, {\"coefficient\": -1, \"bigg_id\": \"M_FRU1P@iJDZ836\", \"node_uid\": \"670623\"}, {\"coefficient\": 1, \"bigg_id\": \"M_GLYCERALD@iJDZ836\", \"node_uid\": \"668407\"}], \"segments\": {\"6281\": {\"from_node_id\": \"670623\", \"to_node_id\": \"670883\", \"b1\": {\"x\": 3430.319580078125, \"y\": 4169.92479875}, \"b2\": {\"x\": 3439.685791015625, \"y\": 4197.372134375}}, \"6282\": {\"from_node_id\": \"670883\", \"to_node_id\": \"670884\", \"b1\": null, \"b2\": null}, \"6283\": {\"from_node_id\": \"670884\", \"to_node_id\": \"668407\", \"b1\": {\"x\": 3494.2314914694934, \"y\": 4259.767788344493}, \"b2\": {\"x\": 3514.1845614087283, \"y\": 4279.720858283728}}, \"6284\": {\"from_node_id\": \"670884\", \"to_node_id\": \"671079\", \"b1\": {\"x\": 3496.600340615171, \"y\": 4262.13663749017}, \"b2\": {\"x\": 3510.1683717120277, \"y\": 4303.975420540152}}}, \"compartment\": \"c\"}, \"667222\": {\"name\": \"rxn00168\", \"bigg_id\": \"RXN__45__6161__45__L2R@iJDZ836\", \"reversibility\": false, \"label_x\": 4332.67024609375, \"label_y\": 6282.79736328125, \"genes\": [], \"metabolites\": [{\"coefficient\": -1, \"bigg_id\": \"M_PROTON@iJDZ836\", \"node_uid\": \"670626\"}, {\"coefficient\": 1, \"bigg_id\": \"M_ACETALD@iJDZ836\", \"node_uid\": \"672425\"}, {\"coefficient\": -1, \"bigg_id\": \"M_PYRUVATE@iJDZ836\", \"node_uid\": \"668385\"}, {\"coefficient\": 1, \"bigg_id\": \"M_CARBON__45__DIOXIDE@iJDZ836\", \"node_uid\": \"672405\"}], \"segments\": {\"4368\": {\"from_node_id\": \"670889\", \"to_node_id\": \"670891\", \"b1\": null, \"b2\": null}, \"4369\": {\"from_node_id\": \"670891\", \"to_node_id\": \"670890\", \"b1\": null, \"b2\": null}, \"4370\": {\"from_node_id\": \"670626\", \"to_node_id\": \"670889\", \"b1\": {\"x\": 4192.682338542203, \"y\": 6315.701171875}, \"b2\": {\"x\": 4233.498401562661, \"y\": 6315.701171875}}, \"4371\": {\"from_node_id\": \"668385\", \"to_node_id\": \"670889\", \"b1\": {\"x\": 4060.992099999342, \"y\": 6315.701171875}, \"b2\": {\"x\": 4193.9913299998025, \"y\": 6315.701171875}}, \"4372\": {\"from_node_id\": \"670890\", \"to_node_id\": \"672425\", \"b1\": {\"x\": 4537.993000000097, \"y\": 6315.701171875}, \"b2\": {\"x\": 5278.2708320315705, \"y\": 6311.80712890625}}, \"4373\": {\"from_node_id\": \"670890\", \"to_node_id\": \"672405\", \"b1\": {\"x\": 4439.3028334236005, \"y\": 6315.701171875}, \"b2\": {\"x\": 4482.025778078669, \"y\": 6315.701171875}}}, \"compartment\": \"c\"}, \"667224\": {\"name\": \"CO2 transporter via diffusion\", \"bigg_id\": \"TRANS__45__RXN2T__45__232__45__R2L__91__CCO__45__EXTRACELLULAR__93__@iJDZ836\", \"reversibility\": true, \"label_x\": 5677.3466796875, \"label_y\": 9564.31024609375, \"gene_reaction_rule\": \"\", \"genes\": [], \"metabolites\": [{\"coefficient\": 1, \"bigg_id\": \"M_CARBON__45__DIOXIDE@iJDZ836\", \"node_uid\": \"668386\"}, {\"coefficient\": -1, \"bigg_id\": \"M_CARBON__45__DIOXIDE__91__CCO__45__EXTRACELLULAR__93__@iJDZ836\", \"node_uid\": \"672412\"}], \"segments\": {\"4376\": {\"from_node_id\": \"672412\", \"to_node_id\": \"670893\", \"b1\": {\"x\": 5726.8466796875, \"y\": 9667.80939609375}, \"b2\": {\"x\": 5702.3466796875, \"y\": 9629.30974609375}}, \"4377\": {\"from_node_id\": \"670893\", \"to_node_id\": \"668386\", \"b1\": {\"x\": 5658.3456296875, \"y\": 9560.80904609375}, \"b2\": {\"x\": 5637.3431796875, \"y\": 9529.30624609375}}}, \"compartment\": \"e\"}, \"667231\": {\"name\": \"rxn00285\", \"bigg_id\": \"SUCCCOASYN__45__RXN__45__R2L__91__CCO__45__MIT__93__@iJDZ836\", \"reversibility\": true, \"label_x\": 3181.639404296875, \"label_y\": 9666.36981640625, \"genes\": [], \"metabolites\": [{\"coefficient\": 1, \"bigg_id\": \"M_Pi__91__CCO__45__MIT__93__@iJDZ836\", \"node_uid\": \"670634\"}, {\"coefficient\": -1, \"bigg_id\": \"M_ATP__91__CCO__45__MIT__93__@iJDZ836\", \"node_uid\": \"672341\"}, {\"coefficient\": 1, \"bigg_id\": \"M_SUC__45__COA__91__CCO__45__MIT__93__@iJDZ836\", \"node_uid\": \"669136\"}, {\"coefficient\": -1, \"bigg_id\": \"M_CO__45__A__91__CCO__45__MIT__93__@iJDZ836\", \"node_uid\": \"668403\"}, {\"coefficient\": -1, \"bigg_id\": \"M_SUC__91__CCO__45__MIT__93__@iJDZ836\", \"node_uid\": \"671478\"}, {\"coefficient\": 1, \"bigg_id\": \"M_ADP__91__CCO__45__MIT__93__@iJDZ836\", \"node_uid\": \"670842\"}], \"segments\": {\"673\": {\"from_node_id\": \"670914\", \"to_node_id\": \"670913\", \"b1\": null, \"b2\": null}, \"674\": {\"from_node_id\": \"670913\", \"to_node_id\": \"670912\", \"b1\": null, \"b2\": null}, \"675\": {\"from_node_id\": \"671478\", \"to_node_id\": \"670914\", \"b1\": {\"x\": 2919.51143957271, \"y\": 9546.228277816159}, \"b2\": {\"x\": 3080.4369523796254, \"y\": 9624.252826704222}}, \"676\": {\"from_node_id\": \"668403\", \"to_node_id\": \"670914\", \"b1\": {\"x\": 3066.6400504487333, \"y\": 9616.368685645113}, \"b2\": {\"x\": 3091.1395981424325, \"y\": 9630.368777177908}}, \"677\": {\"from_node_id\": \"672341\", \"to_node_id\": \"670914\", \"b1\": {\"x\": 3070.334645258364, \"y\": 9618.479935459114}, \"b2\": {\"x\": 3092.247976585322, \"y\": 9631.00215212211}}, \"793\": {\"from_node_id\": \"670912\", \"to_node_id\": \"670842\", \"b1\": {\"x\": 3288.016205742626, \"y\": 9734.55705336111}, \"b2\": {\"x\": 3326.228742449378, \"y\": 9753.66293958912}}, \"794\": {\"from_node_id\": \"670912\", \"to_node_id\": \"669136\", \"b1\": {\"x\": 3297.0939756345133, \"y\": 9739.095847529356}, \"b2\": {\"x\": 3502.2782586254602, \"y\": 9833.612565983269}}, \"795\": {\"from_node_id\": \"670912\", \"to_node_id\": \"670634\", \"b1\": {\"x\": 3282.703032058106, \"y\": 9731.900519650588}, \"b2\": {\"x\": 3308.5181635009785, \"y\": 9744.80782722071}}}, \"compartment\": \"m\"}, \"667232\": {\"name\": \"rxn00786\", \"bigg_id\": \"F16ALDOLASE__45__RXN__45__R2L@iJDZ836\", \"reversibility\": true, \"label_x\": 3693.199987109375, \"label_y\": 4059.714087890625, \"genes\": [], \"metabolites\": [{\"coefficient\": 1, \"bigg_id\": \"M_DIHYDROXY__45__ACETONE__45__PHOSPHATE@iJDZ836\", \"node_uid\": \"671079\"}, {\"coefficient\": 1, \"bigg_id\": \"M_GAP@iJDZ836\", \"node_uid\": \"681162\"}, {\"coefficient\": -1, \"bigg_id\": \"M_FRUCTOSE__45__16__45__DIPHOSPHATE@iJDZ836\", \"node_uid\": \"671406\"}], \"segments\": {\"796\": {\"from_node_id\": \"671406\", \"to_node_id\": \"670916\", \"b1\": {\"y\": 3925.75563, \"x\": 3870.99898}, \"b2\": {\"y\": 3971.2529, \"x\": 3870.9966}}, \"797\": {\"from_node_id\": \"670916\", \"to_node_id\": \"670915\", \"b1\": null, \"b2\": null}, \"798\": {\"from_node_id\": \"670915\", \"to_node_id\": \"681162\", \"b1\": {\"x\": 3870.9906923076924, \"y\": 4248.251441402344}, \"b2\": {\"x\": 3876.533453004808, \"y\": 4430.943824205732}}, \"799\": {\"from_node_id\": \"670915\", \"to_node_id\": \"671079\", \"b1\": {\"x\": 3870.990853851322, \"y\": 4237.751105471799}, \"b2\": {\"x\": 3788.0628000773236, \"y\": 4292.135087249748}}}, \"compartment\": \"c\"}, \"669340\": {\"name\": \"rxn00175\", \"bigg_id\": \"ACETATE__45____45__COA__45__LIGASE__45__RXN__45__L2R@iJDZ836\", \"reversibility\": false, \"label_x\": 5118.3631171875, \"label_y\": 6597.78366796875, \"genes\": [], \"metabolites\": [{\"coefficient\": -1, \"bigg_id\": \"M_CO__45__A@iJDZ836\", \"node_uid\": \"672359\"}, {\"coefficient\": 1, \"bigg_id\": \"M_PPI@iJDZ836\", \"node_uid\": \"672368\"}, {\"coefficient\": 1, \"bigg_id\": \"M_AMP@iJDZ836\", \"node_uid\": \"669564\"}, {\"coefficient\": -1, \"bigg_id\": \"M_ATP@iJDZ836\", \"node_uid\": \"672394\"}, {\"coefficient\": -1, \"bigg_id\": \"M_ACET@iJDZ836\", \"node_uid\": \"669886\"}, {\"coefficient\": 1, \"bigg_id\": \"M_ACETYL__45__COA@iJDZ836\", \"node_uid\": \"669140\"}], \"segments\": {\"3107\": {\"from_node_id\": \"668704\", \"to_node_id\": \"668703\", \"b1\": null, \"b2\": null}, \"3108\": {\"from_node_id\": \"668703\", \"to_node_id\": \"668702\", \"b1\": null, \"b2\": null}, \"3109\": {\"from_node_id\": \"672359\", \"to_node_id\": \"668704\", \"b1\": {\"x\": 5320.88505353234, \"y\": 6540.343645707435}, \"b2\": {\"x\": 5256.727022309702, \"y\": 6555.956405821606}}, \"3110\": {\"from_node_id\": \"672394\", \"to_node_id\": \"668704\", \"b1\": {\"x\": 5267.935522265151, \"y\": 6540.397524433306}, \"b2\": {\"x\": 5248.980737148296, \"y\": 6553.794542095617}}, \"3111\": {\"from_node_id\": \"669886\", \"to_node_id\": \"668704\", \"b1\": {\"x\": 5447.40470709296, \"y\": 6606.80686786965}, \"b2\": {\"x\": 5329.645564862263, \"y\": 6566.380870517145}}, \"3112\": {\"from_node_id\": \"668702\", \"to_node_id\": \"669140\", \"b1\": {\"x\": 5089.825318356694, \"y\": 6560.137335271995}, \"b2\": {\"x\": 5054.503722647311, \"y\": 6539.294400125398}}, \"3113\": {\"from_node_id\": \"668702\", \"to_node_id\": \"672368\", \"b1\": {\"x\": 5063.538531016004, \"y\": 6562.241998568813}, \"b2\": {\"x\": 5015.0244901054275, \"y\": 6574.20284809396}}, \"3220\": {\"from_node_id\": \"668702\", \"to_node_id\": \"669564\", \"b1\": {\"x\": 5116.818251132955, \"y\": 6559.071397564367}, \"b2\": {\"x\": 5096.4279191411, \"y\": 6536.504458027056}}}, \"compartment\": \"c\"}, \"669341\": {\"name\": \"rxn00781\", \"bigg_id\": \"GAPOXNPHOSPHN__45__RXN__45__L2R@iJDZ836\", \"reversibility\": true, \"label_x\": 3898.63914921875, \"label_y\": 4725.9628671875, \"genes\": [], \"metabolites\": [{\"coefficient\": -1, \"bigg_id\": \"M_GAP@iJDZ836\", \"node_uid\": \"681162\"}, {\"coefficient\": -1, \"bigg_id\": \"M_NAD@iJDZ836\", \"node_uid\": \"672418\"}, {\"coefficient\": 1, \"bigg_id\": \"M_PROTON@iJDZ836\", \"node_uid\": \"672337\"}, {\"coefficient\": 1, \"bigg_id\": \"M_NADH@iJDZ836\", \"node_uid\": \"672361\"}, {\"coefficient\": 1, \"bigg_id\": \"M_DPG@iJDZ836\", \"node_uid\": \"668411\"}, {\"coefficient\": -1, \"bigg_id\": \"M_Pi@iJDZ836\", \"node_uid\": \"671394\"}], \"segments\": {\"3221\": {\"from_node_id\": \"668706\", \"to_node_id\": \"668705\", \"b1\": null, \"b2\": null}, \"3222\": {\"from_node_id\": \"668705\", \"to_node_id\": \"668707\", \"b1\": null, \"b2\": null}, \"3223\": {\"from_node_id\": \"681162\", \"to_node_id\": \"668706\", \"b1\": {\"x\": 3872.75828984375, \"y\": 4592.7250859375}, \"b2\": {\"x\": 3870.9912, \"y\": 4672.02768203125}}, \"3224\": {\"from_node_id\": \"671394\", \"to_node_id\": \"668706\", \"b1\": {\"x\": 3870.9912, \"y\": 4627.496589656921}, \"b2\": {\"x\": 3870.9912, \"y\": 4672.318459318952}}, \"3225\": {\"from_node_id\": \"672418\", \"to_node_id\": \"668706\", \"b1\": {\"x\": 3870.9912, \"y\": 4627.496589656921}, \"b2\": {\"x\": 3870.9912, \"y\": 4672.318459318952}}, \"3226\": {\"from_node_id\": \"668707\", \"to_node_id\": \"672337\", \"b1\": {\"x\": 3870.9912, \"y\": 4750.736858111232}, \"b2\": {\"x\": 3870.9912, \"y\": 4795.557918964523}}, \"3227\": {\"from_node_id\": \"668707\", \"to_node_id\": \"672361\", \"b1\": {\"x\": 3870.9912, \"y\": 4750.737111039649}, \"b2\": {\"x\": 3870.9912, \"y\": 4795.558762059245}}, \"3228\": {\"from_node_id\": \"668707\", \"to_node_id\": \"668411\", \"b1\": {\"x\": 3870.9912, \"y\": 4758.52783203125}, \"b2\": {\"x\": 3870.9912, \"y\": 4821.52783203125}}}, \"compartment\": \"c\"}, \"669343\": {\"name\": \"rxn00256\", \"bigg_id\": \"CITSYN__45__RXN__45__L2R__91__CCO__45__MIT__93__@iJDZ836\", \"reversibility\": false, \"label_x\": 4073.4279910156256, \"label_y\": 7648.07718984375, \"genes\": [], \"metabolites\": [{\"coefficient\": -1, \"bigg_id\": \"M_WATER__91__CCO__45__MIT__93__@iJDZ836\", \"node_uid\": \"670617\"}, {\"coefficient\": 1, \"bigg_id\": \"M_PROTON__91__CCO__45__MIT__93__@iJDZ836\", \"node_uid\": \"669145\"}, {\"coefficient\": -1, \"bigg_id\": \"M_OXALACETIC_ACID__91__CCO__45__MIT__93__@iJDZ836\", \"node_uid\": \"671461\"}, {\"coefficient\": 1, \"bigg_id\": \"M_CO__45__A__91__CCO__45__MIT__93__@iJDZ836\", \"node_uid\": \"672339\"}, {\"coefficient\": -1, \"bigg_id\": \"M_ACETYL__45__COA__91__CCO__45__MIT__93__@iJDZ836\", \"node_uid\": \"669557\"}, {\"coefficient\": 1, \"bigg_id\": \"M_CIT__91__CCO__45__MIT__93__@iJDZ836\", \"node_uid\": \"672399\"}], \"segments\": {\"3235\": {\"from_node_id\": \"668713\", \"to_node_id\": \"668712\", \"b1\": null, \"b2\": null}, \"3236\": {\"from_node_id\": \"668712\", \"to_node_id\": \"668711\", \"b1\": null, \"b2\": null}, \"3237\": {\"from_node_id\": \"669557\", \"to_node_id\": \"668713\", \"b1\": {\"x\": 3814.7496331601565, \"y\": 7601.936765067761}, \"b2\": {\"x\": 3827.268933658984, \"y\": 7624.4780994422035}}, \"3238\": {\"from_node_id\": \"670617\", \"to_node_id\": \"668713\", \"b1\": {\"x\": 3794.773687092408, \"y\": 7690.120718459154}, \"b2\": {\"x\": 3840.23279046366, \"y\": 7662.169369443996}}, \"3239\": {\"from_node_id\": \"671461\", \"to_node_id\": \"668713\", \"b1\": {\"x\": 3550.8819993456937, \"y\": 7664.233931587195}, \"b2\": {\"x\": 3814.0921884365207, \"y\": 7647.224231819909}}, \"3240\": {\"from_node_id\": \"668711\", \"to_node_id\": \"672339\", \"b1\": {\"x\": 4253.624997709438, \"y\": 7680.667902336502}, \"b2\": {\"x\": 4358.355573093957, \"y\": 7695.061911173756}}, \"3241\": {\"from_node_id\": \"668711\", \"to_node_id\": \"672399\", \"b1\": {\"x\": 4261.03040428683, \"y\": 7683.841599650619}, \"b2\": {\"x\": 4398.210671841515, \"y\": 7696.7590662833145}}, \"3242\": {\"from_node_id\": \"668711\", \"to_node_id\": \"669145\", \"b1\": {\"x\": 4251.639587670372, \"y\": 7679.817025285722}, \"b2\": {\"x\": 4351.737539630404, \"y\": 7692.22565433782}}}, \"compartment\": \"m\"}, \"669348\": {\"name\": \"rxn00747\", \"bigg_id\": \"TRIOSEPISOMERIZATION__45__RXN__45__L2R@iJDZ836\", \"reversibility\": true, \"label_x\": 3560.649169921875, \"label_y\": 4420.79069140625, \"genes\": [], \"metabolites\": [{\"coefficient\": -1, \"bigg_id\": \"M_DIHYDROXY__45__ACETONE__45__PHOSPHATE@iJDZ836\", \"node_uid\": \"671079\"}, {\"coefficient\": 1, \"bigg_id\": \"M_GAP@iJDZ836\", \"node_uid\": \"681162\"}], \"segments\": {\"2752\": {\"from_node_id\": \"671079\", \"to_node_id\": \"668724\", \"b1\": {\"x\": 3708.296142578125, \"y\": 4350.5353203125}, \"b2\": {\"x\": 3748.964599609375, \"y\": 4395.9532890625}}, \"2753\": {\"from_node_id\": \"668724\", \"to_node_id\": \"681162\", \"b1\": {\"x\": 3774.38784015625, \"y\": 4425.5917375}, \"b2\": {\"x\": 3826.179437890625, \"y\": 4482.5801484375}}}, \"compartment\": \"c\"}, \"669360\": {\"name\": \"rxn00549\", \"bigg_id\": \"F16BDEPHOS__45__RXN__45__L2R@iJDZ836\", \"reversibility\": false, \"label_x\": 3574.59765625, \"label_y\": 3569.818079296875, \"genes\": [], \"metabolites\": [{\"coefficient\": -1, \"bigg_id\": \"M_WATER@iJDZ836\", \"node_uid\": \"669135\"}, {\"coefficient\": -1, \"bigg_id\": \"M_FRUCTOSE__45__16__45__DIPHOSPHATE@iJDZ836\", \"node_uid\": \"671406\"}, {\"coefficient\": 1, \"bigg_id\": \"M_Pi@iJDZ836\", \"node_uid\": \"670636\"}, {\"coefficient\": 1, \"bigg_id\": \"M_FRUCTOSE__45__6P@iJDZ836\", \"node_uid\": \"668387\"}], \"segments\": {\"3572\": {\"from_node_id\": \"667097\", \"to_node_id\": \"667096\", \"b1\": null, \"b2\": null}, \"3573\": {\"from_node_id\": \"667096\", \"to_node_id\": \"667095\", \"b1\": null, \"b2\": null}, \"3574\": {\"from_node_id\": \"669135\", \"to_node_id\": \"667097\", \"b1\": {\"y\": 3735.3080483795334, \"x\": 3761}, \"b2\": {\"y\": 3707.97217451386, \"x\": 3761}}, \"3575\": {\"from_node_id\": \"671406\", \"to_node_id\": \"667097\", \"b1\": {\"y\": 3814.7894959112973, \"x\": 3761}, \"b2\": {\"y\": 3731.8166087733894, \"x\": 3761}}, \"3576\": {\"from_node_id\": \"667095\", \"to_node_id\": \"668387\", \"b1\": {\"y\": 3478.3473872078907, \"x\": 3760.9913028383085}, \"b2\": {\"y\": 3406.310762698178, \"x\": 3760.9868761276957}}, \"4013\": {\"from_node_id\": \"667095\", \"to_node_id\": \"670636\", \"b1\": {\"y\": 3492.421235483445, \"x\": 3760.9922597853497}, \"b2\": {\"y\": 3460.1564516114836, \"x\": 3760.9900659511654}}}, \"compartment\": \"c\"}, \"669382\": {\"name\": \"Acetate transport  mitochondrial\", \"bigg_id\": \"TRANS__45__RXN2T__45__233__45__R2L__91__CCO__45__MIT__93__@iJDZ836\", \"reversibility\": true, \"label_x\": 5298.1814765625, \"label_y\": 6893.1489140625, \"gene_reaction_rule\": \"\", \"genes\": [], \"metabolites\": [{\"coefficient\": -1, \"bigg_id\": \"M_ACET@iJDZ836\", \"node_uid\": \"669886\"}, {\"coefficient\": 1, \"bigg_id\": \"M_ACET__91__CCO__45__MIT__93__@iJDZ836\", \"node_uid\": \"669882\"}], \"segments\": {\"3062\": {\"from_node_id\": \"669886\", \"to_node_id\": \"670364\", \"b1\": {\"x\": 5497.47786328125, \"y\": 6762.19572578125}, \"b2\": {\"x\": 5495.24690625, \"y\": 6842.7565859375}}, \"3063\": {\"from_node_id\": \"670364\", \"to_node_id\": \"669882\", \"b1\": {\"x\": 5503.5154609375, \"y\": 6994.2563359375}, \"b2\": {\"x\": 5526.80794140625, \"y\": 7055.14744921875}}}, \"compartment\": \"m\"}, \"669622\": {\"name\": \"Pyruvate transport in via proton symport\", \"bigg_id\": \"TRANS__45__RXN2T__45__215__45__L2R__91__CCO__45__EXTRACELLULAR__93__@iJDZ836\", \"reversibility\": false, \"label_x\": 4085.1426, \"label_y\": 6154.02058203125, \"gene_reaction_rule\": \"YKL217W\", \"genes\": [{\"bigg_id\": \"YKL217W\", \"name\": \"JEN1\"}], \"metabolites\": [{\"coefficient\": 1, \"bigg_id\": \"M_PROTON@iJDZ836\", \"node_uid\": \"672407\"}, {\"coefficient\": -1, \"bigg_id\": \"M_PROTON__91__CCO__45__EXTRACELLULAR__93__@iJDZ836\", \"node_uid\": \"672350\"}, {\"coefficient\": -1, \"bigg_id\": \"M_PYRUVATE__91__CCO__45__EXTRACELLULAR__93__@iJDZ836\", \"node_uid\": \"668397\"}, {\"coefficient\": 1, \"bigg_id\": \"M_PYRUVATE@iJDZ836\", \"node_uid\": \"668385\"}], \"segments\": {\"776\": {\"from_node_id\": \"671437\", \"to_node_id\": \"671438\", \"b1\": null, \"b2\": null}, \"777\": {\"from_node_id\": \"671438\", \"to_node_id\": \"671439\", \"b1\": null, \"b2\": null}, \"778\": {\"from_node_id\": \"668397\", \"to_node_id\": \"671437\", \"b1\": {\"x\": 4145.204398601009, \"y\": 6049.787877843497}, \"b2\": {\"x\": 4106.060259580303, \"y\": 6088.932293665549}}, \"779\": {\"from_node_id\": \"672350\", \"to_node_id\": \"671437\", \"b1\": {\"x\": 4136.386384743093, \"y\": 6058.605954056549}, \"b2\": {\"x\": 4103.414855422928, \"y\": 6091.577716529465}}, \"780\": {\"from_node_id\": \"671439\", \"to_node_id\": \"668385\", \"b1\": {\"x\": 4033.114381056804, \"y\": 6161.878093643568}, \"b2\": {\"x\": 3968.0479368560136, \"y\": 6226.944077770225}}, \"781\": {\"from_node_id\": \"671439\", \"to_node_id\": \"672407\", \"b1\": {\"x\": 4050.7648773187652, \"y\": 6144.227722185365}, \"b2\": {\"x\": 4026.882924395884, \"y\": 6168.109506242882}}}, \"compartment\": \"e\"}, \"669628\": {\"name\": \"rxn00507\", \"bigg_id\": \"RXN0__45__3962__45__L2R@iJDZ836\", \"reversibility\": false, \"label_x\": 5589.82763671875, \"label_y\": 6503.364421875, \"genes\": [], \"metabolites\": [{\"coefficient\": -1, \"bigg_id\": \"M_ACETALD@iJDZ836\", \"node_uid\": \"672425\"}, {\"coefficient\": -1, \"bigg_id\": \"M_NADP@iJDZ836\", \"node_uid\": \"671468\"}, {\"coefficient\": -1, \"bigg_id\": \"M_WATER@iJDZ836\", \"node_uid\": \"672085\"}, {\"coefficient\": 2, \"bigg_id\": \"M_PROTON@iJDZ836\", \"node_uid\": \"670629\"}, {\"coefficient\": 1, \"bigg_id\": \"M_ACET@iJDZ836\", \"node_uid\": \"669886\"}, {\"coefficient\": 1, \"bigg_id\": \"M_NADPH@iJDZ836\", \"node_uid\": \"669119\"}], \"segments\": {\"1267\": {\"from_node_id\": \"671454\", \"to_node_id\": \"671455\", \"b1\": null, \"b2\": null}, \"1268\": {\"from_node_id\": \"671455\", \"to_node_id\": \"671453\", \"b1\": null, \"b2\": null}, \"1269\": {\"from_node_id\": \"671468\", \"to_node_id\": \"671454\", \"b1\": {\"x\": 5602.595737954141, \"y\": 6373.178724444761}, \"b2\": {\"x\": 5592.573203808118, \"y\": 6393.223717567804}}, \"1270\": {\"from_node_id\": \"672425\", \"to_node_id\": \"671454\", \"b1\": {\"x\": 5615.204084203149, \"y\": 6347.962126509344}, \"b2\": {\"x\": 5596.35570768282, \"y\": 6385.658738187179}}, \"1523\": {\"from_node_id\": \"672085\", \"to_node_id\": \"671454\", \"b1\": {\"x\": 5599.678449810018, \"y\": 6379.013278853348}, \"b2\": {\"x\": 5591.698017364881, \"y\": 6394.97408389038}}, \"1524\": {\"from_node_id\": \"671453\", \"to_node_id\": \"669119\", \"b1\": {\"x\": 5525.513498476819, \"y\": 6561.489296346758}, \"b2\": {\"x\": 5519.0633868498135, \"y\": 6584.0646870412775}}, \"1525\": {\"from_node_id\": \"671453\", \"to_node_id\": \"670629\", \"b1\": {\"x\": 5525.639221762388, \"y\": 6561.049264847266}, \"b2\": {\"x\": 5532.102581655877, \"y\": 6592.062759126305}}, \"1526\": {\"from_node_id\": \"671453\", \"to_node_id\": \"669886\", \"b1\": {\"x\": 5522.377941707965, \"y\": 6572.463745037748}, \"b2\": {\"x\": 5508.6115309536335, \"y\": 6620.646182677909}}}, \"compartment\": \"c\"}, \"669631\": {\"name\": \"rxn00001\", \"bigg_id\": \"INORGPYROPHOSPHAT__45__RXN__45__L2R@iJDZ836\", \"reversibility\": false, \"label_x\": 4843.09212109375, \"label_y\": 6731.2919921875, \"genes\": [], \"metabolites\": [{\"coefficient\": 1, \"bigg_id\": \"M_PROTON@iJDZ836\", \"node_uid\": \"669536\"}, {\"coefficient\": -1, \"bigg_id\": \"M_PPI@iJDZ836\", \"node_uid\": \"672368\"}, {\"coefficient\": 2, \"bigg_id\": \"M_Pi@iJDZ836\", \"node_uid\": \"671094\"}, {\"coefficient\": -1, \"bigg_id\": \"M_WATER@iJDZ836\", \"node_uid\": \"669875\"}], \"segments\": {\"2247\": {\"from_node_id\": \"671741\", \"to_node_id\": \"671743\", \"b1\": null, \"b2\": null}, \"2248\": {\"from_node_id\": \"671743\", \"to_node_id\": \"671742\", \"b1\": null, \"b2\": null}, \"2249\": {\"from_node_id\": \"669875\", \"to_node_id\": \"671741\", \"b1\": {\"x\": 4874.652158919698, \"y\": 6630.433306339351}, \"b2\": {\"x\": 4871.25451720716, \"y\": 6664.71103838618}}, \"4204\": {\"from_node_id\": \"672368\", \"to_node_id\": \"671741\", \"b1\": {\"x\": 4899.172198942118, \"y\": 6631.896189955591}, \"b2\": {\"x\": 4870.930939370135, \"y\": 6665.0346202679275}}, \"4205\": {\"from_node_id\": \"671742\", \"to_node_id\": \"669536\", \"b1\": {\"x\": 4830.807634178952, \"y\": 6718.778752020159}, \"b2\": {\"x\": 4792.673616534004, \"y\": 6729.295411681781}}, \"4206\": {\"from_node_id\": \"671742\", \"to_node_id\": \"671094\", \"b1\": {\"x\": 4831.648671717907, \"y\": 6717.096697968187}, \"b2\": {\"x\": 4810.003930465938, \"y\": 6753.507412498125}}}, \"compartment\": \"c\"}, \"669655\": {\"name\": \"rxn00543\", \"bigg_id\": \"ALCOHOL__45__DEHYDROG__45__RXN__45__R2L@iJDZ836\", \"reversibility\": false, \"label_x\": 6057.3173828125, \"label_y\": 6147.58951953125, \"genes\": [], \"metabolites\": [{\"coefficient\": 1, \"bigg_id\": \"M_PROTON@iJDZ836\", \"node_uid\": \"672401\"}, {\"coefficient\": 1, \"bigg_id\": \"M_ACETALD@iJDZ836\", \"node_uid\": \"672425\"}, {\"coefficient\": 1, \"bigg_id\": \"M_NADH@iJDZ836\", \"node_uid\": \"672374\"}, {\"coefficient\": -1, \"bigg_id\": \"M_NAD@iJDZ836\", \"node_uid\": \"671070\"}, {\"coefficient\": -1, \"bigg_id\": \"M_ETOH@iJDZ836\", \"node_uid\": \"671073\"}], \"segments\": {\"628\": {\"from_node_id\": \"668939\", \"to_node_id\": \"668940\", \"b1\": null, \"b2\": null}, \"629\": {\"from_node_id\": \"668940\", \"to_node_id\": \"668941\", \"b1\": null, \"b2\": null}, \"630\": {\"from_node_id\": \"671073\", \"to_node_id\": \"668939\", \"b1\": {\"x\": 6507.412174520913, \"y\": 6179.618310959388}, \"b2\": {\"x\": 6389.018134778149, \"y\": 6167.155593522191}}, \"631\": {\"from_node_id\": \"671070\", \"to_node_id\": \"668939\", \"b1\": {\"x\": 6385.1886317759645, \"y\": 6166.75248189643}, \"b2\": {\"x\": 6352.351071954665, \"y\": 6163.295844803304}}, \"632\": {\"from_node_id\": \"668941\", \"to_node_id\": \"672425\", \"b1\": {\"x\": 5909.572090798107, \"y\": 6166.941425939856}, \"b2\": {\"x\": 5795.925361254106, \"y\": 6178.904419018272}}, \"633\": {\"from_node_id\": \"668941\", \"to_node_id\": \"672401\", \"b1\": {\"x\": 5934.223958104719, \"y\": 6164.34645361516}, \"b2\": {\"x\": 5878.098252276145, \"y\": 6170.254511269282}}, \"634\": {\"from_node_id\": \"668941\", \"to_node_id\": \"672374\", \"b1\": {\"x\": 5941.269174663993, \"y\": 6163.604840748052}, \"b2\": {\"x\": 5901.582307473727, \"y\": 6167.782468378923}}}, \"compartment\": \"c\"}, \"681187\": {\"name\": \"rxn01476\", \"bigg_id\": \"_6PGLUCONOLACT__45__RXN__45__L2R@iJDZ836\", \"reversibility\": false, \"label_x\": 4486.502965625, \"label_y\": 2879.55710546875, \"genes\": [], \"metabolites\": [{\"coefficient\": 1, \"bigg_id\": \"M_PROTON@iJDZ836\", \"node_uid\": \"681136\"}, {\"coefficient\": -1, \"bigg_id\": \"M_D__45__6__45__P__45__GLUCONO__45__DELTA__45__LACTONE@iJDZ836\", \"node_uid\": \"681123\"}, {\"coefficient\": -1, \"bigg_id\": \"M_WATER@iJDZ836\", \"node_uid\": \"681135\"}, {\"coefficient\": 1, \"bigg_id\": \"M_CPD__45__2961@iJDZ836\", \"node_uid\": \"681134\"}], \"segments\": {\"6857\": {\"from_node_id\": \"681131\", \"to_node_id\": \"681132\", \"b1\": null, \"b2\": null}, \"6858\": {\"from_node_id\": \"681133\", \"to_node_id\": \"681132\", \"b1\": null, \"b2\": null}, \"6859\": {\"from_node_id\": \"681133\", \"to_node_id\": \"681134\", \"b1\": {\"x\": 4605.62845390625, \"y\": 2835.385962890625}, \"b2\": {\"x\": 4706.73099296875, \"y\": 2835.385962890625}}, \"6860\": {\"from_node_id\": \"681131\", \"to_node_id\": \"681135\", \"b1\": {\"x\": 4497.62845390625, \"y\": 2835.385962890625}, \"b2\": {\"x\": 4478.62845390625, \"y\": 2814.385962890625}}, \"6861\": {\"from_node_id\": \"681131\", \"to_node_id\": \"681123\", \"b1\": {\"x\": 4501.62845390625, \"y\": 2835.385962890625}, \"b2\": {\"x\": 4377.6035515625, \"y\": 2837.69480078125}}, \"6862\": {\"from_node_id\": \"681133\", \"to_node_id\": \"681136\", \"b1\": {\"x\": 4609.62845390625, \"y\": 2835.385962890625}, \"b2\": {\"x\": 4628.62845390625, \"y\": 2814.385962890625}}}, \"compartment\": \"c\"}, \"681188\": {\"name\": \"rxn01115\", \"bigg_id\": \"RXN__45__9952__45__L2R@iJDZ836\", \"reversibility\": false, \"label_x\": 4931.917028125, \"label_y\": 2879.42917578125, \"genes\": [], \"metabolites\": [{\"coefficient\": 1, \"bigg_id\": \"M_RIBULOSE__45__5P@iJDZ836\", \"node_uid\": \"681143\"}, {\"coefficient\": 1, \"bigg_id\": \"M_NADPH@iJDZ836\", \"node_uid\": \"681142\"}, {\"coefficient\": 1, \"bigg_id\": \"M_CARBON__45__DIOXIDE@iJDZ836\", \"node_uid\": \"681140\"}, {\"coefficient\": -1, \"bigg_id\": \"M_NADP@iJDZ836\", \"node_uid\": \"681141\"}, {\"coefficient\": -1, \"bigg_id\": \"M_CPD__45__2961@iJDZ836\", \"node_uid\": \"681134\"}], \"segments\": {\"6863\": {\"from_node_id\": \"681137\", \"to_node_id\": \"681138\", \"b1\": null, \"b2\": null}, \"6864\": {\"from_node_id\": \"681139\", \"to_node_id\": \"681138\", \"b1\": null, \"b2\": null}, \"6865\": {\"from_node_id\": \"681139\", \"to_node_id\": \"681140\", \"b1\": {\"x\": 5094.5176140625, \"y\": 2835.38620703125}, \"b2\": {\"x\": 5175.26321953125, \"y\": 2800.665259765625}}, \"6866\": {\"from_node_id\": \"681137\", \"to_node_id\": \"681134\", \"b1\": {\"x\": 4924.77200859375, \"y\": 2835.38620703125}, \"b2\": {\"x\": 4811.73099296875, \"y\": 2835.385962890625}}, \"6867\": {\"from_node_id\": \"681137\", \"to_node_id\": \"681141\", \"b1\": {\"x\": 4920.77200859375, \"y\": 2835.38620703125}, \"b2\": {\"x\": 4901.77200859375, \"y\": 2814.38620703125}}, \"6868\": {\"from_node_id\": \"681139\", \"to_node_id\": \"681142\", \"b1\": {\"x\": 5094.5176140625, \"y\": 2835.38620703125}, \"b2\": {\"x\": 5117.3682, \"y\": 2803.56980078125}}, \"6869\": {\"from_node_id\": \"681139\", \"to_node_id\": \"681143\", \"b1\": {\"x\": 5090.5176140625, \"y\": 2835.38620703125}, \"b2\": {\"x\": 5226.86282890625, \"y\": 2837.9491953125}}}, \"compartment\": \"c\"}, \"681192\": {\"name\": \"rxn00785\", \"bigg_id\": \"_2TRANSKETO__45__RXN__45__R2L@iJDZ836\", \"reversibility\": true, \"label_x\": 4520.060639609405, \"label_y\": 3401.5768468371466, \"genes\": [], \"metabolites\": [{\"coefficient\": 1, \"bigg_id\": \"M_GAP@iJDZ836\", \"node_uid\": \"681162\"}, {\"coefficient\": -1, \"bigg_id\": \"M_ERYTHROSE__45__4P@iJDZ836\", \"node_uid\": \"681161\"}, {\"coefficient\": -1, \"bigg_id\": \"M_XYLULOSE__45__5__45__PHOSPHATE@iJDZ836\", \"node_uid\": \"681147\"}, {\"coefficient\": 1, \"bigg_id\": \"M_FRUCTOSE__45__6P@iJDZ836\", \"node_uid\": \"668387\"}], \"segments\": {\"6884\": {\"from_node_id\": \"681158\", \"to_node_id\": \"681159\", \"b1\": null, \"b2\": null}, \"6885\": {\"from_node_id\": \"681160\", \"to_node_id\": \"681159\", \"b1\": null, \"b2\": null}, \"6886\": {\"from_node_id\": \"681158\", \"to_node_id\": \"681161\", \"b1\": {\"x\": 4677.958445486753, \"y\": 3347.6528205156496}, \"b2\": {\"x\": 4702.0861828815505, \"y\": 3354.3910941183867}}, \"6887\": {\"from_node_id\": \"681158\", \"to_node_id\": \"681147\", \"b1\": {\"x\": 4872.238415267833, \"y\": 3346.192490085487}, \"b2\": {\"x\": 4885.21536796875, \"y\": 3346.60691015625}}, \"6888\": {\"from_node_id\": \"681160\", \"to_node_id\": \"681162\", \"b1\": {\"x\": 4482.907950919562, \"y\": 3343.5218692523936}, \"b2\": {\"x\": 4256.7812859375, \"y\": 3486.58835546875}}, \"6889\": {\"from_node_id\": \"681160\", \"to_node_id\": \"668387\", \"b1\": {\"x\": 4066.411428404106, \"y\": 3347.0666723388053}, \"b2\": {\"y\": 3347.2089609375, \"x\": 4404.736608203125}}}, \"compartment\": \"c\"}, \"681193\": {\"name\": \"rxn01333\", \"bigg_id\": \"TRANSALDOL__45__RXN__45__L2R@iJDZ836\", \"reversibility\": true, \"label_x\": 4810.837366231458, \"label_y\": 3714.9477359185603, \"genes\": [], \"metabolites\": [{\"coefficient\": -1, \"bigg_id\": \"M_D__45__SEDOHEPTULOSE__45__7__45__P@iJDZ836\", \"node_uid\": \"681557\"}, {\"coefficient\": -1, \"bigg_id\": \"M_GAP@iJDZ836\", \"node_uid\": \"681162\"}, {\"coefficient\": 1, \"bigg_id\": \"M_FRUCTOSE__45__6P@iJDZ836\", \"node_uid\": \"668387\"}, {\"coefficient\": 1, \"bigg_id\": \"M_ERYTHROSE__45__4P@iJDZ836\", \"node_uid\": \"681161\"}], \"segments\": {\"6890\": {\"from_node_id\": \"681164\", \"to_node_id\": \"681165\", \"b1\": null, \"b2\": null}, \"6891\": {\"from_node_id\": \"681166\", \"to_node_id\": \"681165\", \"b1\": null, \"b2\": null}, \"6892\": {\"from_node_id\": \"681166\", \"to_node_id\": \"681161\", \"b1\": {\"x\": 4870.0626303825065, \"y\": 3674.3358918473937}, \"b2\": {\"x\": 4815.282010452796, \"y\": 3670.5526600958974}}, \"6893\": {\"from_node_id\": \"681164\", \"to_node_id\": \"681162\", \"b1\": {\"x\": 5170.722215475034, \"y\": 3669.834784942308}, \"b2\": {\"x\": 5762.107629903333, \"y\": 4422.27683748106}}, \"6894\": {\"from_node_id\": \"681164\", \"to_node_id\": \"681557\", \"b1\": {\"x\": 5000.626750517909, \"y\": 3676.317880770977}, \"b2\": {\"x\": 4918.666467793958, \"y\": 3683.8202945123103}}, \"6895\": {\"from_node_id\": \"681166\", \"to_node_id\": \"668387\", \"b1\": {\"x\": 4786.339711937418, \"y\": 3667.8172258750933}, \"b2\": {\"y\": 3683.0961734185603, \"x\": 4337.200403340833}}}, \"compartment\": \"c\"}, \"681203\": {\"name\": \"rxn01116\", \"bigg_id\": \"RIBULP3EPIM__45__RXN__45__R2L@iJDZ836\", \"reversibility\": true, \"label_x\": 5135.71243828125, \"label_y\": 3152.386939453125, \"genes\": [], \"metabolites\": [{\"bigg_id\": \"M_XYLULOSE__45__5__45__PHOSPHATE@iJDZ836\", \"coefficient\": 1, \"node_uid\": \"681147\"}, {\"bigg_id\": \"M_RIBULOSE__45__5P@iJDZ836\", \"coefficient\": -1, \"node_uid\": \"681143\"}], \"segments\": {\"6945\": {\"from_node_id\": \"681218\", \"to_node_id\": \"681219\", \"b1\": null, \"b2\": null}, \"6946\": {\"from_node_id\": \"681220\", \"to_node_id\": \"681219\", \"b1\": null, \"b2\": null}, \"6947\": {\"from_node_id\": \"681220\", \"to_node_id\": \"681147\", \"b1\": {\"x\": 5120.71243828125, \"y\": 3204.386939453125}, \"b2\": {\"x\": 5120.71243828125, \"y\": 3286.34226171875}}, \"6948\": {\"from_node_id\": \"681218\", \"to_node_id\": \"681143\", \"b1\": {\"x\": 5120.71243828125, \"y\": 3013.432349609375}, \"b2\": {\"x\": 5214.33060234375, \"y\": 2887.970923828125}}}, \"compartment\": \"c\"}, \"681205\": {\"name\": \"Phosphate reversible transport via symport\", \"bigg_id\": \"TRANS__45__RXN2T__45__74__45__L2R__91__CCO__45__PM__45__FUNGI__93__@iJDZ836\", \"reversibility\": true, \"label_x\": 5870.342041015625, \"label_y\": 2181.15869140625, \"gene_reaction_rule\": \"YML123C or YCR037C or YBR296C or YJL198W or YNR013C\", \"genes\": [{\"notes\": {\"original_bigg_ids\": [\"YML123C\"]}, \"name\": \"PHO84\", \"bigg_id\": \"YML123C\"}, {\"notes\": {\"original_bigg_ids\": [\"YCR037C\"]}, \"name\": \"PHO87\", \"bigg_id\": \"YCR037C\"}, {\"notes\": {\"original_bigg_ids\": [\"YBR296C\"]}, \"name\": \"PHO89\", \"bigg_id\": \"YBR296C\"}, {\"notes\": {\"original_bigg_ids\": [\"YJL198W\"]}, \"name\": \"PHO90\", \"bigg_id\": \"YJL198W\"}, {\"notes\": {\"original_bigg_ids\": [\"YNR013C\"]}, \"name\": \"PHO91\", \"bigg_id\": \"YNR013C\"}], \"metabolites\": [{\"bigg_id\": \"M_Pi@iJDZ836\", \"coefficient\": 1, \"node_uid\": \"681230\"}, {\"bigg_id\": \"M_PROTON__91__CCO__45__EXTRACELLULAR__93__@iJDZ836\", \"coefficient\": -1, \"node_uid\": \"681226\"}, {\"bigg_id\": \"M_PROTON@iJDZ836\", \"coefficient\": 1, \"node_uid\": \"681231\"}, {\"bigg_id\": \"M_Pi__91__CCO__45__EXTRACELLULAR__93__@iJDZ836\", \"coefficient\": -1, \"node_uid\": \"681232\"}], \"segments\": {\"6953\": {\"from_node_id\": \"681227\", \"to_node_id\": \"681228\", \"b1\": null, \"b2\": null}, \"6954\": {\"from_node_id\": \"681229\", \"to_node_id\": \"681228\", \"b1\": null, \"b2\": null}, \"6955\": {\"from_node_id\": \"681229\", \"to_node_id\": \"681230\", \"b1\": {\"x\": 5855.342041015625, \"y\": 2233.15869140625}, \"b2\": {\"x\": 5854.318603515625, \"y\": 2369.293701171875}}, \"6956\": {\"from_node_id\": \"681227\", \"to_node_id\": \"681226\", \"b1\": {\"x\": 5855.342041015625, \"y\": 2109.15869140625}, \"b2\": {\"x\": 5830.009033203125, \"y\": 2075.6357421875}}, \"6957\": {\"from_node_id\": \"681229\", \"to_node_id\": \"681231\", \"b1\": {\"x\": 5855.342041015625, \"y\": 2237.15869140625}, \"b2\": {\"x\": 5837.342041015625, \"y\": 2242.40869140625}}, \"6958\": {\"from_node_id\": \"681227\", \"to_node_id\": \"681232\", \"b1\": {\"x\": 5855.342041015625, \"y\": 2105.15869140625}, \"b2\": {\"x\": 5854.230712890625, \"y\": 1978.10498046875}}}, \"compartment\": \"e\"}, \"681206\": {\"name\": \"ATPase  cytosolic\", \"bigg_id\": \"_3__46__6__46__3__46__6__45__RXN__45__L2R__91__CCO__45__EXTRACELLULAR__93__@iJDZ836\", \"reversibility\": false, \"label_x\": 6643.54150390625, \"label_y\": 3318.20849609375, \"gene_reaction_rule\": \"(YCR024C_A and YEL017C_A and YGL008C) or (YCR024C_A and YEL017C_A and YPL036W)\", \"genes\": [{\"notes\": {\"original_bigg_ids\": [\"YCR024C-A\"]}, \"name\": \"PMP1\", \"bigg_id\": \"YCR024C_A\"}, {\"notes\": {\"original_bigg_ids\": [\"YEL017C-A\"]}, \"name\": \"PMP2\", \"bigg_id\": \"YEL017C_A\"}, {\"notes\": {\"original_bigg_ids\": [\"YGL008C\"]}, \"name\": \"PMA1\", \"bigg_id\": \"YGL008C\"}, {\"notes\": {\"original_bigg_ids\": [\"YPL036W\"]}, \"name\": \"PMA2\", \"bigg_id\": \"YPL036W\"}], \"metabolites\": [{\"bigg_id\": \"M_WATER@iJDZ836\", \"coefficient\": -1, \"node_uid\": \"681233\"}, {\"bigg_id\": \"M_PROTON__91__CCO__45__EXTRACELLULAR__93__@iJDZ836\", \"coefficient\": 1, \"node_uid\": \"681237\"}, {\"bigg_id\": \"M_Pi@iJDZ836\", \"coefficient\": 1, \"node_uid\": \"681238\"}, {\"bigg_id\": \"M_ADP@iJDZ836\", \"coefficient\": 1, \"node_uid\": \"681239\"}, {\"bigg_id\": \"M_ATP@iJDZ836\", \"coefficient\": -1, \"node_uid\": \"681240\"}], \"segments\": {\"6959\": {\"from_node_id\": \"681234\", \"to_node_id\": \"681235\", \"b1\": null, \"b2\": null}, \"6960\": {\"from_node_id\": \"681236\", \"to_node_id\": \"681235\", \"b1\": null, \"b2\": null}, \"6961\": {\"from_node_id\": \"681234\", \"to_node_id\": \"681233\", \"b1\": {\"x\": 6693.73095703125, \"y\": 3346.5908203125}, \"b2\": {\"x\": 6650.24462890625, \"y\": 3405.7900390625}}, \"6962\": {\"from_node_id\": \"681236\", \"to_node_id\": \"681237\", \"b1\": {\"x\": 6817.73095703125, \"y\": 3346.5908203125}, \"b2\": {\"x\": 6907.573486328125, \"y\": 3278.84375}}, \"6963\": {\"from_node_id\": \"681236\", \"to_node_id\": \"681238\", \"b1\": {\"x\": 6821.73095703125, \"y\": 3346.5908203125}, \"b2\": {\"x\": 6853.404052734375, \"y\": 3409.324951171875}}, \"6964\": {\"from_node_id\": \"681236\", \"to_node_id\": \"681239\", \"b1\": {\"x\": 6821.73095703125, \"y\": 3346.5908203125}, \"b2\": {\"x\": 6995.43603515625, \"y\": 3348.788818359375}}, \"6965\": {\"from_node_id\": \"681234\", \"to_node_id\": \"681240\", \"b1\": {\"x\": 6689.73095703125, \"y\": 3346.5908203125}, \"b2\": {\"x\": 6514.998046875, \"y\": 3347.505859375}}}, \"compartment\": \"e\"}, \"681218\": {\"name\": \"H2O transport via diffusion\", \"bigg_id\": \"TRANS__45__RXN2T__45__218__45__R2L__91__CCO__45__PM__45__FUNGI__93__@iJDZ836\", \"reversibility\": true, \"label_x\": 6836.9794921875, \"label_y\": 2109.957275390625, \"gene_reaction_rule\": \"YPR192W or YLL052C\", \"genes\": [{\"notes\": {\"original_bigg_ids\": [\"YPR192W\"]}, \"name\": \"AQY1\", \"bigg_id\": \"YPR192W\"}, {\"notes\": {\"original_bigg_ids\": [\"YLL052C\"]}, \"name\": \"AQY2\", \"bigg_id\": \"YLL052C\"}], \"metabolites\": [{\"bigg_id\": \"M_WATER@iJDZ836\", \"coefficient\": 1, \"node_uid\": \"681306\"}, {\"bigg_id\": \"M_WATER__91__CCO__45__EXTRACELLULAR__93__@iJDZ836\", \"coefficient\": -1, \"node_uid\": \"681295\"}], \"segments\": {\"7026\": {\"from_node_id\": \"681303\", \"to_node_id\": \"681304\", \"b1\": null, \"b2\": null}, \"7027\": {\"from_node_id\": \"681305\", \"to_node_id\": \"681304\", \"b1\": null, \"b2\": null}, \"7028\": {\"from_node_id\": \"681305\", \"to_node_id\": \"681306\", \"b1\": {\"x\": 6821.9794921875, \"y\": 2161.957275390625}, \"b2\": {\"x\": 6821.9794921875, \"y\": 2216.207275390625}}, \"7029\": {\"from_node_id\": \"681303\", \"to_node_id\": \"681295\", \"b1\": {\"x\": 6821.9794921875, \"y\": 2037.957275390625}, \"b2\": {\"x\": 6821.9794921875, \"y\": 1983.707275390625}}}, \"compartment\": \"e\"}, \"681219\": {\"name\": \"H2O transport  mitochondrial\", \"bigg_id\": \"TRANS__45__RXN2T__45__218__45__R2L__91__CCO__45__MIT__93__@iJDZ836\", \"reversibility\": true, \"label_x\": 6836.9794921875, \"label_y\": 2459.957275390625, \"gene_reaction_rule\": \"\", \"genes\": [], \"metabolites\": [{\"bigg_id\": \"M_WATER@iJDZ836\", \"coefficient\": -1, \"node_uid\": \"681306\"}, {\"bigg_id\": \"M_WATER__91__CCO__45__MIT__93__@iJDZ836\", \"coefficient\": 1, \"node_uid\": \"681310\"}], \"segments\": {\"7030\": {\"from_node_id\": \"681307\", \"to_node_id\": \"681308\", \"b1\": null, \"b2\": null}, \"7031\": {\"from_node_id\": \"681309\", \"to_node_id\": \"681308\", \"b1\": null, \"b2\": null}, \"7032\": {\"from_node_id\": \"681307\", \"to_node_id\": \"681306\", \"b1\": {\"x\": 6821.9794921875, \"y\": 2387.957275390625}, \"b2\": {\"x\": 6821.9794921875, \"y\": 2333.707275390625}}, \"7033\": {\"from_node_id\": \"681309\", \"to_node_id\": \"681310\", \"b1\": {\"x\": 6821.9794921875, \"y\": 2511.957275390625}, \"b2\": {\"x\": 6821.9794921875, \"y\": 2566.207275390625}}}, \"compartment\": \"m\"}, \"681220\": {\"name\": \"rxn01169\", \"bigg_id\": \"GLUCOKIN__45__RXN__45__L2R@iJDZ836\", \"reversibility\": false, \"label_x\": 2830.620885546875, \"label_y\": 2474.569068359375, \"genes\": [], \"metabolites\": [{\"bigg_id\": \"M_ATP@iJDZ836\", \"coefficient\": -1, \"node_uid\": \"681314\"}, {\"bigg_id\": \"M_GLC@iJDZ836\", \"coefficient\": -1, \"node_uid\": \"681315\"}, {\"bigg_id\": \"M_ADP@iJDZ836\", \"coefficient\": 1, \"node_uid\": \"681316\"}, {\"bigg_id\": \"M_PROTON@iJDZ836\", \"coefficient\": 1, \"node_uid\": \"681317\"}, {\"bigg_id\": \"M_GLC__45__6__45__P@iJDZ836\", \"coefficient\": 1, \"node_uid\": \"681198\"}], \"segments\": {\"7034\": {\"from_node_id\": \"681311\", \"to_node_id\": \"681312\", \"b1\": null, \"b2\": null}, \"7035\": {\"from_node_id\": \"681313\", \"to_node_id\": \"681312\", \"b1\": null, \"b2\": null}, \"7036\": {\"from_node_id\": \"681311\", \"to_node_id\": \"681314\", \"b1\": {\"x\": 2808.06693046875, \"y\": 2419.565162109375}, \"b2\": {\"x\": 2834.505651171875, \"y\": 2372.86960546875}}, \"7037\": {\"from_node_id\": \"681311\", \"to_node_id\": \"681315\", \"b1\": {\"x\": 2808.06693046875, \"y\": 2415.565162109375}, \"b2\": {\"x\": 2809.070592578125, \"y\": 2274.344458984375}}, \"7038\": {\"from_node_id\": \"681313\", \"to_node_id\": \"681316\", \"b1\": {\"x\": 2808.06693046875, \"y\": 2547.565162109375}, \"b2\": {\"x\": 2841.055944140625, \"y\": 2552.815162109375}}, \"7039\": {\"from_node_id\": \"681313\", \"to_node_id\": \"681317\", \"b1\": {\"x\": 2808.06693046875, \"y\": 2547.565162109375}, \"b2\": {\"x\": 2824.17825859375, \"y\": 2575.47702734375}}, \"7040\": {\"from_node_id\": \"681313\", \"to_node_id\": \"681198\", \"b1\": {\"x\": 2808.06693046875, \"y\": 2543.565162109375}, \"b2\": {\"x\": 2807.434362109375, \"y\": 2746.65915625}}}, \"compartment\": \"c\"}, \"681222\": {\"name\": \"rxn27702\", \"bigg_id\": \"ALDOSE__45__1__45__EPIMERASE__45__RXN__45__R2L@iJDZ836\", \"reversibility\": false, \"label_x\": 2285.370153125, \"label_y\": 2232.698951171875, \"genes\": [], \"metabolites\": [{\"bigg_id\": \"M_ALPHA__45__GLUCOSE@iJDZ836\", \"coefficient\": -1, \"node_uid\": \"681325\"}, {\"bigg_id\": \"M_GLC@iJDZ836\", \"coefficient\": 1, \"node_uid\": \"681315\"}], \"segments\": {\"7045\": {\"from_node_id\": \"681322\", \"to_node_id\": \"681323\", \"b1\": null, \"b2\": null}, \"7046\": {\"from_node_id\": \"681324\", \"to_node_id\": \"681323\", \"b1\": null, \"b2\": null}, \"7047\": {\"from_node_id\": \"681322\", \"to_node_id\": \"681325\", \"b1\": {\"x\": 2309.25150078125, \"y\": 2183.940162109375}, \"b2\": {\"x\": 2026.494908984375, \"y\": 2185.82858984375}}, \"7048\": {\"from_node_id\": \"681324\", \"to_node_id\": \"681315\", \"b1\": {\"x\": 2433.25150078125, \"y\": 2183.940162109375}, \"b2\": {\"x\": 2748.112096484375, \"y\": 2178.274634765625}}}, \"compartment\": \"c\"}, \"681223\": {\"name\": \"rxn15249\", \"bigg_id\": \"RXN__45__1685__45__L2R@iJDZ836\", \"reversibility\": false, \"label_x\": 1982.744908984375, \"label_y\": 2503.0224375, \"genes\": [], \"metabolites\": [{\"bigg_id\": \"M_ATP@iJDZ836\", \"coefficient\": -1, \"node_uid\": \"681329\"}, {\"bigg_id\": \"M_ALPHA__45__GLUCOSE@iJDZ836\", \"coefficient\": -1, \"node_uid\": \"681325\"}, {\"bigg_id\": \"M_ADP@iJDZ836\", \"coefficient\": 1, \"node_uid\": \"681330\"}, {\"bigg_id\": \"M_PROTON@iJDZ836\", \"coefficient\": 1, \"node_uid\": \"681331\"}, {\"bigg_id\": \"M_ALPHA__45__GLC__45__6__45__P@iJDZ836\", \"coefficient\": 1, \"node_uid\": \"681332\"}], \"segments\": {\"7049\": {\"from_node_id\": \"681326\", \"to_node_id\": \"681327\", \"b1\": null, \"b2\": null}, \"7050\": {\"from_node_id\": \"681328\", \"to_node_id\": \"681327\", \"b1\": null, \"b2\": null}, \"7051\": {\"from_node_id\": \"681326\", \"to_node_id\": \"681329\", \"b1\": {\"x\": 1967.744908984375, \"y\": 2427.0224375}, \"b2\": {\"x\": 1993.1800896484374, \"y\": 2378.337134765625}}, \"7052\": {\"from_node_id\": \"681326\", \"to_node_id\": \"681325\", \"b1\": {\"x\": 1967.744908984375, \"y\": 2431.0224375}, \"b2\": {\"x\": 1963.968053515625, \"y\": 2299.344703125}}, \"7053\": {\"from_node_id\": \"681328\", \"to_node_id\": \"681330\", \"b1\": {\"x\": 1967.744908984375, \"y\": 2555.0224375}, \"b2\": {\"x\": 1982.85306328125, \"y\": 2577.1679453125}}, \"7054\": {\"from_node_id\": \"681328\", \"to_node_id\": \"681331\", \"b1\": {\"x\": 1967.744908984375, \"y\": 2559.0224375}, \"b2\": {\"x\": 1997.0760857421874, \"y\": 2624.703833984375}}, \"7055\": {\"from_node_id\": \"681328\", \"to_node_id\": \"681332\", \"b1\": {\"x\": 1967.744908984375, \"y\": 2559.0224375}, \"b2\": {\"x\": 1970.5182244140624, \"y\": 2721.3632578125}}}, \"compartment\": \"c\"}, \"681227\": {\"name\": \"rxn20522\", \"bigg_id\": \"PGLUCISOM__45__RXN__45__R2L@iJDZ836\", \"reversibility\": false, \"label_x\": 2823.066686328125, \"label_y\": 3053.075416015625, \"genes\": [], \"metabolites\": [{\"bigg_id\": \"M_GLC__45__6__45__P@iJDZ836\", \"coefficient\": -1, \"node_uid\": \"681198\"}, {\"bigg_id\": \"M_FRUCTOSE__45__6P@iJDZ836\", \"coefficient\": 1, \"node_uid\": \"681348\"}], \"segments\": {\"7068\": {\"from_node_id\": \"681345\", \"to_node_id\": \"681346\", \"b1\": null, \"b2\": null}, \"7069\": {\"from_node_id\": \"681347\", \"to_node_id\": \"681346\", \"b1\": null, \"b2\": null}, \"7070\": {\"from_node_id\": \"681345\", \"to_node_id\": \"681198\", \"b1\": {\"x\": 2808.066686328125, \"y\": 2981.075416015625}, \"b2\": {\"x\": 2809.32278984375, \"y\": 2935.92136328125}}, \"7071\": {\"from_node_id\": \"681347\", \"to_node_id\": \"681348\", \"b1\": {\"x\": 2808.066686328125, \"y\": 3105.075416015625}, \"b2\": {\"x\": 2806.17825859375, \"y\": 3234.86472265625}}}, \"compartment\": \"c\"}, \"681229\": {\"name\": \"rxn15116\", \"bigg_id\": \"F16ALDOLASE__45__RXN__45__R2L@iJDZ836\", \"reversibility\": false, \"label_x\": 2833.009557421875, \"label_y\": 4132.623267578125, \"genes\": [], \"metabolites\": [{\"bigg_id\": \"M_FRUCTOSE__45__16__45__DIPHOSPHATE@iJDZ836\", \"coefficient\": -1, \"node_uid\": \"681355\"}, {\"bigg_id\": \"M_DIHYDROXY__45__ACETONE__45__PHOSPHATE@iJDZ836\", \"coefficient\": 1, \"node_uid\": \"671079\"}, {\"bigg_id\": \"M_GAP@iJDZ836\", \"coefficient\": 1, \"node_uid\": \"681162\"}], \"segments\": {\"7079\": {\"from_node_id\": \"681356\", \"to_node_id\": \"681357\", \"b1\": null, \"b2\": null}, \"7080\": {\"from_node_id\": \"681358\", \"to_node_id\": \"681357\", \"b1\": null, \"b2\": null}, \"7081\": {\"from_node_id\": \"681356\", \"to_node_id\": \"681355\", \"b1\": {\"x\": 2818.009557421875, \"y\": 4060.623267578125}, \"b2\": {\"x\": 2812.36478203125, \"y\": 3957.380103515625}}, \"7082\": {\"from_node_id\": \"681358\", \"to_node_id\": \"671079\", \"b1\": {\"x\": 2846.327428515625, \"y\": 4229.856177734375}, \"b2\": {\"x\": 3260.07474296875, \"y\": 4581.05759375}}, \"7083\": {\"from_node_id\": \"681358\", \"to_node_id\": \"681162\", \"b1\": {\"x\": 2838.741246875, \"y\": 4525.986548828125}, \"b2\": {\"x\": 3634.904088671875, \"y\": 4507.130591796875}}}, \"compartment\": \"c\"}, \"681230\": {\"name\": \"rxn15493\", \"bigg_id\": \"_6PFRUCTPHOS__45__RXN__45__L2R@iJDZ836\", \"reversibility\": false, \"label_x\": 2829.2363640625, \"label_y\": 3629.7460703125, \"genes\": [], \"metabolites\": [{\"bigg_id\": \"M_ATP@iJDZ836\", \"coefficient\": -1, \"node_uid\": \"681364\"}, {\"bigg_id\": \"M_FRUCTOSE__45__6P@iJDZ836\", \"coefficient\": -1, \"node_uid\": \"681348\"}, {\"bigg_id\": \"M_ADP@iJDZ836\", \"coefficient\": 1, \"node_uid\": \"681366\"}, {\"bigg_id\": \"M_PROTON@iJDZ836\", \"coefficient\": 1, \"node_uid\": \"681367\"}, {\"bigg_id\": \"M_FRUCTOSE__45__16__45__DIPHOSPHATE@iJDZ836\", \"coefficient\": 1, \"node_uid\": \"681355\"}], \"segments\": {\"7084\": {\"from_node_id\": \"681361\", \"to_node_id\": \"681362\", \"b1\": null, \"b2\": null}, \"7085\": {\"from_node_id\": \"681363\", \"to_node_id\": \"681362\", \"b1\": null, \"b2\": null}, \"7086\": {\"from_node_id\": \"681361\", \"to_node_id\": \"681364\", \"b1\": {\"x\": 2814.2363640625, \"y\": 3557.7460703125}, \"b2\": {\"x\": 2840.67532890625, \"y\": 3511.050025390625}}, \"7087\": {\"from_node_id\": \"681361\", \"to_node_id\": \"681348\", \"b1\": {\"x\": 2814.2363640625, \"y\": 3553.7460703125}, \"b2\": {\"x\": 2813.351354296875, \"y\": 3399.305884765625}}, \"7088\": {\"from_node_id\": \"681363\", \"to_node_id\": \"681366\", \"b1\": {\"x\": 2814.2363640625, \"y\": 3685.7460703125}, \"b2\": {\"x\": 2867.99857109375, \"y\": 3715.54636328125}}, \"7089\": {\"from_node_id\": \"681363\", \"to_node_id\": \"681367\", \"b1\": {\"x\": 2814.2363640625, \"y\": 3685.7460703125}, \"b2\": {\"x\": 2845.45560234375, \"y\": 3741.985083984375}}, \"7090\": {\"from_node_id\": \"681363\", \"to_node_id\": \"681355\", \"b1\": {\"x\": 2814.2363640625, \"y\": 3681.7460703125}, \"b2\": {\"x\": 2812.36478203125, \"y\": 3839.880103515625}}}, \"compartment\": \"c\"}, \"681231\": {\"name\": \"rxn33602\", \"bigg_id\": \"RXN__45__6182__45__L2R@iJDZ836\", \"reversibility\": false, \"label_x\": 2930.07962578125, \"label_y\": 3204.154029296875, \"genes\": [], \"metabolites\": [{\"bigg_id\": \"M_ALPHA__45__GLC__45__6__45__P@iJDZ836\", \"coefficient\": -1, \"node_uid\": \"681332\"}, {\"bigg_id\": \"M_FRUCTOSE__45__6P@iJDZ836\", \"coefficient\": 1, \"node_uid\": \"668387\"}], \"segments\": {\"7091\": {\"from_node_id\": \"681368\", \"to_node_id\": \"681369\", \"b1\": null, \"b2\": null}, \"7092\": {\"from_node_id\": \"681370\", \"to_node_id\": \"681369\", \"b1\": null, \"b2\": null}, \"7093\": {\"from_node_id\": \"681368\", \"to_node_id\": \"681332\", \"b1\": {\"x\": 2873.532994921875, \"y\": 3100.04978125}, \"b2\": {\"x\": 2174.79446953125, \"y\": 2902.622046875}}, \"7094\": {\"from_node_id\": \"681370\", \"to_node_id\": \"668387\", \"b1\": {\"x\": 3153.02884453125, \"y\": 3176.8378671875}, \"b2\": {\"x\": 3664.8077751953124, \"y\": 3293.407935546875}}}, \"compartment\": \"c\"}, \"681233\": {\"name\": \"rxn31240\", \"bigg_id\": \"GLUCOSE__45__6__45__PHOSPHATE__45__1__45__EPIMERASE__45__RXN__45__R2L@iJDZ836\", \"reversibility\": false, \"label_x\": 2331.898717578125, \"label_y\": 2801.636939453125, \"genes\": [], \"metabolites\": [{\"bigg_id\": \"M_ALPHA__45__GLC__45__6__45__P@iJDZ836\", \"coefficient\": -1, \"node_uid\": \"681332\"}, {\"bigg_id\": \"M_GLC__45__6__45__P@iJDZ836\", \"coefficient\": 1, \"node_uid\": \"681198\"}], \"segments\": {\"7099\": {\"from_node_id\": \"681376\", \"to_node_id\": \"681377\", \"b1\": null, \"b2\": null}, \"7100\": {\"from_node_id\": \"681378\", \"to_node_id\": \"681377\", \"b1\": null, \"b2\": null}, \"7101\": {\"from_node_id\": \"681376\", \"to_node_id\": \"681332\", \"b1\": {\"x\": 2319.898717578125, \"y\": 2841.636939453125}, \"b2\": {\"x\": 2025.8111931640624, \"y\": 2843.872046875}}, \"7102\": {\"from_node_id\": \"681378\", \"to_node_id\": \"681198\", \"b1\": {\"x\": 2443.898717578125, \"y\": 2841.636939453125}, \"b2\": {\"x\": 2744.907506640625, \"y\": 2841.290259765625}}}, \"compartment\": \"c\"}, \"681238\": {\"name\": \"rxn01975\", \"bigg_id\": \"GLU6PDEHYDROG__45__RXN__45__L2R@iJDZ836\", \"reversibility\": false, \"label_x\": 3427.23782890625, \"label_y\": 3050.28464453125, \"genes\": [], \"metabolites\": [{\"bigg_id\": \"M_NADP@iJDZ836\", \"coefficient\": -1, \"node_uid\": \"681400\"}, {\"bigg_id\": \"M_GLC__45__6__45__P@iJDZ836\", \"coefficient\": -1, \"node_uid\": \"681198\"}, {\"bigg_id\": \"M_NADPH@iJDZ836\", \"coefficient\": 1, \"node_uid\": \"681401\"}, {\"bigg_id\": \"M_PROTON@iJDZ836\", \"coefficient\": 1, \"node_uid\": \"681402\"}, {\"bigg_id\": \"M_D__45__6__45__P__45__GLUCONO__45__DELTA__45__LACTONE@iJDZ836\", \"coefficient\": 1, \"node_uid\": \"681123\"}], \"segments\": {\"7120\": {\"from_node_id\": \"681397\", \"to_node_id\": \"681398\", \"b1\": null, \"b2\": null}, \"7121\": {\"from_node_id\": \"681399\", \"to_node_id\": \"681398\", \"b1\": null, \"b2\": null}, \"7122\": {\"from_node_id\": \"681397\", \"to_node_id\": \"681400\", \"b1\": {\"x\": 3407.47025078125, \"y\": 2998.60788671875}, \"b2\": {\"x\": 3378.359166796875, \"y\": 2990.235083984375}}, \"7123\": {\"from_node_id\": \"681397\", \"to_node_id\": \"681198\", \"b1\": {\"x\": 3243.186803515625, \"y\": 2998.60788671875}, \"b2\": {\"x\": 3003.07181328125, \"y\": 2887.756568359375}}, \"7124\": {\"from_node_id\": \"681399\", \"to_node_id\": \"681401\", \"b1\": {\"x\": 3535.47025078125, \"y\": 2998.60788671875}, \"b2\": {\"x\": 3540.742467578125, \"y\": 2976.00290625}}, \"7125\": {\"from_node_id\": \"681399\", \"to_node_id\": \"681402\", \"b1\": {\"x\": 3539.47025078125, \"y\": 2998.60788671875}, \"b2\": {\"x\": 3583.651403125, \"y\": 2986.887427734375}}, \"7126\": {\"from_node_id\": \"681399\", \"to_node_id\": \"681123\", \"b1\": {\"x\": 3750.45267265625, \"y\": 2989.81687109375}, \"b2\": {\"x\": 4116.13040703125, \"y\": 3046.748267578125}}}, \"compartment\": \"c\"}, \"681241\": {\"name\": \"rxn15494\", \"bigg_id\": \"F16BDEPHOS__45__RXN__45__L2R@iJDZ836\", \"reversibility\": false, \"label_x\": 2475.803746875, \"label_y\": 3615.189673828125, \"genes\": [], \"metabolites\": [{\"bigg_id\": \"M_WATER@iJDZ836\", \"coefficient\": -1, \"node_uid\": \"681418\"}, {\"bigg_id\": \"M_FRUCTOSE__45__16__45__DIPHOSPHATE@iJDZ836\", \"coefficient\": -1, \"node_uid\": \"681355\"}, {\"bigg_id\": \"M_Pi@iJDZ836\", \"coefficient\": 1, \"node_uid\": \"681419\"}, {\"bigg_id\": \"M_FRUCTOSE__45__6P@iJDZ836\", \"coefficient\": 1, \"node_uid\": \"681348\"}], \"segments\": {\"7138\": {\"from_node_id\": \"681415\", \"to_node_id\": \"681416\", \"b1\": null, \"b2\": null}, \"7139\": {\"from_node_id\": \"681417\", \"to_node_id\": \"681416\", \"b1\": null, \"b2\": null}, \"7140\": {\"from_node_id\": \"681415\", \"to_node_id\": \"681418\", \"b1\": {\"x\": 2673.244420703125, \"y\": 3778.35007421875}, \"b2\": {\"x\": 2655.52445, \"y\": 3793.000220703125}}, \"7141\": {\"from_node_id\": \"681415\", \"to_node_id\": \"681355\", \"b1\": {\"x\": 2673.244420703125, \"y\": 3774.35007421875}, \"b2\": {\"x\": 2693.92435234375, \"y\": 3837.9999765625}}, \"7142\": {\"from_node_id\": \"681417\", \"to_node_id\": \"681419\", \"b1\": {\"x\": 2675.124303515625, \"y\": 3405.9491953125}, \"b2\": {\"x\": 2650.684362109375, \"y\": 3404.339576171875}}, \"7143\": {\"from_node_id\": \"681417\", \"to_node_id\": \"681348\", \"b1\": {\"x\": 2675.124303515625, \"y\": 3401.9491953125}, \"b2\": {\"x\": 2702.52445, \"y\": 3374.138892578125}}}, \"compartment\": \"c\"}, \"681245\": {\"name\": \"rxn15271\", \"bigg_id\": \"_2TRANSKETO__45__RXN__45__R2L@iJDZ836\", \"reversibility\": false, \"label_x\": 3109.728795703125, \"label_y\": 3312.12155859375, \"genes\": [], \"metabolites\": [{\"bigg_id\": \"M_GAP@iJDZ836\", \"coefficient\": -1, \"node_uid\": \"681444\"}, {\"bigg_id\": \"M_FRUCTOSE__45__6P@iJDZ836\", \"coefficient\": -1, \"node_uid\": \"681348\"}, {\"bigg_id\": \"M_XYLULOSE__45__5__45__PHOSPHATE@iJDZ836\", \"coefficient\": 1, \"node_uid\": \"681147\"}, {\"bigg_id\": \"M_ERYTHROSE__45__4P@iJDZ836\", \"coefficient\": 1, \"node_uid\": \"681446\"}], \"segments\": {\"7164\": {\"from_node_id\": \"681441\", \"to_node_id\": \"681442\", \"b1\": null, \"b2\": null}, \"7165\": {\"from_node_id\": \"681443\", \"to_node_id\": \"681442\", \"b1\": null, \"b2\": null}, \"7166\": {\"from_node_id\": \"681441\", \"to_node_id\": \"681444\", \"b1\": {\"x\": 3124.601842578125, \"y\": 3256.072486328125}, \"b2\": {\"x\": 3092.40384453125, \"y\": 3283.14304296875}}, \"7167\": {\"from_node_id\": \"681441\", \"to_node_id\": \"681348\", \"b1\": {\"x\": 3072.001744921875, \"y\": 3266.363501953125}, \"b2\": {\"x\": 2954.4629265625, \"y\": 3283.51511328125}}, \"7168\": {\"from_node_id\": \"681443\", \"to_node_id\": \"681147\", \"b1\": {\"x\": 3312.632116015625, \"y\": 3221.769263671875}, \"b2\": {\"x\": 4524.61380546875, \"y\": 3153.1630625}}, \"7169\": {\"from_node_id\": \"681443\", \"to_node_id\": \"681446\", \"b1\": {\"x\": 3301.195592578125, \"y\": 3237.205787109375}, \"b2\": {\"x\": 3332.6680046875, \"y\": 3274.567359375}}}, \"compartment\": \"c\"}, \"681256\": {\"name\": \"rxn00251\", \"bigg_id\": \"PEPCARBOX__45__RXN__45__R2L@iJDZ836\", \"reversibility\": false, \"label_x\": 2706.05911796875, \"label_y\": 6329.84373828125, \"genes\": [], \"metabolites\": [{\"bigg_id\": \"M_Pi@iJDZ836\", \"coefficient\": -1, \"node_uid\": \"681522\"}, {\"bigg_id\": \"M_OXALACETIC_ACID@iJDZ836\", \"coefficient\": -1, \"node_uid\": \"672369\"}, {\"bigg_id\": \"M_PROTON@iJDZ836\", \"coefficient\": -1, \"node_uid\": \"681523\"}, {\"bigg_id\": \"M_WATER@iJDZ836\", \"coefficient\": 1, \"node_uid\": \"681524\"}, {\"bigg_id\": \"M_CARBON__45__DIOXIDE@iJDZ836\", \"coefficient\": 1, \"node_uid\": \"681525\"}, {\"bigg_id\": \"M_PHOSPHO__45__ENOL__45__PYRUVATE@iJDZ836\", \"coefficient\": 1, \"node_uid\": \"672080\"}], \"segments\": {\"7242\": {\"from_node_id\": \"681519\", \"to_node_id\": \"681520\", \"b1\": null, \"b2\": null}, \"7243\": {\"from_node_id\": \"681521\", \"to_node_id\": \"681520\", \"b1\": null, \"b2\": null}, \"7244\": {\"from_node_id\": \"681519\", \"to_node_id\": \"681522\", \"b1\": {\"x\": 2683.05911796875, \"y\": 6373.84373828125}, \"b2\": {\"x\": 2665.05911796875, \"y\": 6379.09373828125}}, \"7245\": {\"from_node_id\": \"681519\", \"to_node_id\": \"672369\", \"b1\": {\"x\": 2689.206334765625, \"y\": 6783.74608203125}, \"b2\": {\"x\": 3047.7851921875, \"y\": 7118.71190234375}}, \"7246\": {\"from_node_id\": \"681519\", \"to_node_id\": \"681523\", \"b1\": {\"x\": 2672.81400078125, \"y\": 6418.9223515625}, \"b2\": {\"x\": 2670.32376640625, \"y\": 6461.0541875}}, \"7247\": {\"from_node_id\": \"681521\", \"to_node_id\": \"681524\", \"b1\": {\"x\": 2689.13773125, \"y\": 6185.5102421875}, \"b2\": {\"x\": 2666.245153125, \"y\": 6135.8481328125}}, \"7248\": {\"from_node_id\": \"681521\", \"to_node_id\": \"681525\", \"b1\": {\"x\": 2683.05911796875, \"y\": 6241.84373828125}, \"b2\": {\"x\": 2652.764928515625, \"y\": 6230.446765625}}, \"7249\": {\"from_node_id\": \"681521\", \"to_node_id\": \"672080\", \"b1\": {\"x\": 2711.745397265625, \"y\": 5903.75487109375}, \"b2\": {\"x\": 3385.29056328125, \"y\": 5843.765125}}}, \"compartment\": \"c\"}, \"681257\": {\"name\": \"rxn01388\", \"bigg_id\": \"ACONITATEHYDR__45__RXN__45__L2R__91__CCO__45__MIT__93__@iJDZ836\", \"reversibility\": false, \"label_x\": 4919.22591015625, \"label_y\": 8074.129359375, \"genes\": [], \"metabolites\": [{\"bigg_id\": \"M_THREO__45__DS__45__ISO__45__CITRATE__91__CCO__45__MIT__93__@iJDZ836\", \"coefficient\": -1, \"node_uid\": \"668426\"}, {\"bigg_id\": \"M_WATER__91__CCO__45__MIT__93__@iJDZ836\", \"coefficient\": 1, \"node_uid\": \"681535\"}, {\"bigg_id\": \"M_CIS__45__ACONITATE__91__CCO__45__MIT__93__@iJDZ836\", \"coefficient\": 1, \"node_uid\": \"681530\"}], \"segments\": {\"7250\": {\"from_node_id\": \"681526\", \"to_node_id\": \"681527\", \"b1\": null, \"b2\": null}, \"7251\": {\"from_node_id\": \"681528\", \"to_node_id\": \"681527\", \"b1\": null, \"b2\": null}, \"7252\": {\"from_node_id\": \"681526\", \"to_node_id\": \"668426\", \"b1\": {\"x\": 5016.55305859375, \"y\": 8073.3608046875}, \"b2\": {\"x\": 5091.5935859375, \"y\": 8140.1381484375}}, \"7253\": {\"from_node_id\": \"681528\", \"to_node_id\": \"681535\", \"b1\": {\"x\": 4902.9627265625, \"y\": 7967.5268203125}, \"b2\": {\"x\": 4855.6482734375, \"y\": 7958.85348046875}}, \"7254\": {\"from_node_id\": \"681528\", \"to_node_id\": \"681530\", \"b1\": {\"x\": 4895.49251171875, \"y\": 7953.64644921875}, \"b2\": {\"x\": 4888.50325390625, \"y\": 7940.85348046875}}}, \"compartment\": \"m\"}, \"681258\": {\"name\": \"rxn00974\", \"bigg_id\": \"ACONITATEDEHYDR__45__RXN__45__L2R__91__CCO__45__MIT__93__@iJDZ836\", \"reversibility\": false, \"label_x\": 4529.91731640625, \"label_y\": 7877.6693984375, \"genes\": [], \"metabolites\": [{\"bigg_id\": \"M_CIT__91__CCO__45__MIT__93__@iJDZ836\", \"coefficient\": -1, \"node_uid\": \"672399\"}, {\"bigg_id\": \"M_WATER__91__CCO__45__MIT__93__@iJDZ836\", \"coefficient\": 1, \"node_uid\": \"681535\"}, {\"bigg_id\": \"M_CIS__45__ACONITATE__91__CCO__45__MIT__93__@iJDZ836\", \"coefficient\": 1, \"node_uid\": \"681530\"}], \"segments\": {\"7255\": {\"from_node_id\": \"681531\", \"to_node_id\": \"681532\", \"b1\": null, \"b2\": null}, \"7256\": {\"from_node_id\": \"681533\", \"to_node_id\": \"681532\", \"b1\": null, \"b2\": null}, \"7257\": {\"from_node_id\": \"681531\", \"to_node_id\": \"672399\", \"b1\": {\"x\": 4619.4881171875, \"y\": 7811.1889296875}, \"b2\": {\"x\": 4525.3650703125, \"y\": 7764.359828125}}, \"7258\": {\"from_node_id\": \"681533\", \"to_node_id\": \"681535\", \"b1\": {\"x\": 4742.2830390625, \"y\": 7861.5033828125}, \"b2\": {\"x\": 4752.73860546875, \"y\": 7911.168421875}}, \"7259\": {\"from_node_id\": \"681533\", \"to_node_id\": \"681530\", \"b1\": {\"x\": 4762.573078125, \"y\": 7868.4428359375}, \"b2\": {\"x\": 4769.97786328125, \"y\": 7878.8529921875}}}, \"compartment\": \"m\"}, \"681262\": {\"name\": \"rxn01200\", \"bigg_id\": \"_1TRANSKETO__45__RXN__45__R2L@iJDZ836\", \"reversibility\": false, \"label_x\": 5444.98350874696, \"label_y\": 3546.963805479521, \"genes\": [], \"metabolites\": [{\"bigg_id\": \"M_GAP@iJDZ836\", \"coefficient\": -1, \"node_uid\": \"681162\"}, {\"bigg_id\": \"M_D__45__SEDOHEPTULOSE__45__7__45__P@iJDZ836\", \"coefficient\": -1, \"node_uid\": \"681557\"}, {\"bigg_id\": \"M_RIBOSE__45__5P@iJDZ836\", \"coefficient\": 1, \"node_uid\": \"681151\"}, {\"bigg_id\": \"M_XYLULOSE__45__5__45__PHOSPHATE@iJDZ836\", \"coefficient\": 1, \"node_uid\": \"681147\"}], \"segments\": {\"7277\": {\"from_node_id\": \"681553\", \"to_node_id\": \"681554\", \"b1\": null, \"b2\": null}, \"7278\": {\"from_node_id\": \"681555\", \"to_node_id\": \"681554\", \"b1\": null, \"b2\": null}, \"7279\": {\"from_node_id\": \"681553\", \"to_node_id\": \"681162\", \"b1\": {\"x\": 5444.65050093446, \"y\": 4232.296813292021}, \"b2\": {\"x\": 5761.98399702821, \"y\": 4421.214049620146}}, \"7280\": {\"from_node_id\": \"681553\", \"to_node_id\": \"681557\", \"b1\": {\"x\": 5419.31700484071, \"y\": 3605.630553526396}, \"b2\": {\"x\": 5406.65098921571, \"y\": 3692.213805479521}}, \"7281\": {\"from_node_id\": \"681555\", \"to_node_id\": \"681151\", \"b1\": {\"x\": 5429.98350874696, \"y\": 3474.963805479521}, \"b2\": {\"x\": 5423.31700484071, \"y\": 3402.047057432646}}, \"7282\": {\"from_node_id\": \"681555\", \"to_node_id\": \"681147\", \"b1\": {\"x\": 5429.98350874696, \"y\": 3470.963805479521}, \"b2\": {\"x\": 5437.31700484071, \"y\": 3343.047057432646}}}, \"compartment\": \"c\"}, \"681270\": {\"name\": \"rxn08094\", \"bigg_id\": \"_2OXOGLUTARATEDEH__45__RXN__45__L2R__91__CCO__45__MIT__93__@iJDZ836\", \"reversibility\": false, \"label_x\": 4210.446369140625, \"label_y\": 9202.43789453125, \"genes\": [], \"metabolites\": [{\"bigg_id\": \"M_NAD__91__CCO__45__MIT__93__@iJDZ836\", \"coefficient\": -1, \"node_uid\": \"681605\"}, {\"bigg_id\": \"M_CO__45__A__91__CCO__45__MIT__93__@iJDZ836\", \"coefficient\": -1, \"node_uid\": \"681606\"}, {\"bigg_id\": \"M_2__45__KETOGLUTARATE__91__CCO__45__MIT__93__@iJDZ836\", \"coefficient\": -1, \"node_uid\": \"668421\"}, {\"bigg_id\": \"M_NADH__91__CCO__45__MIT__93__@iJDZ836\", \"coefficient\": 1, \"node_uid\": \"681607\"}, {\"bigg_id\": \"M_CARBON__45__DIOXIDE__91__CCO__45__MIT__93__@iJDZ836\", \"coefficient\": 1, \"node_uid\": \"681608\"}, {\"bigg_id\": \"M_SUC__45__COA__91__CCO__45__MIT__93__@iJDZ836\", \"coefficient\": 1, \"node_uid\": \"669136\"}], \"segments\": {\"7326\": {\"from_node_id\": \"681602\", \"to_node_id\": \"681603\", \"b1\": null, \"b2\": null}, \"7327\": {\"from_node_id\": \"681604\", \"to_node_id\": \"681603\", \"b1\": null, \"b2\": null}, \"7328\": {\"from_node_id\": \"681602\", \"to_node_id\": \"681605\", \"b1\": {\"x\": 4385.053302734375, \"y\": 9106.26113671875}, \"b2\": {\"x\": 4393.751056640625, \"y\": 9081.16738671875}}, \"7329\": {\"from_node_id\": \"681602\", \"to_node_id\": \"681606\", \"b1\": {\"x\": 4386.776935546875, \"y\": 9109.70840234375}, \"b2\": {\"x\": 4435.120685546875, \"y\": 9076.19473046875}}, \"7330\": {\"from_node_id\": \"681602\", \"to_node_id\": \"668421\", \"b1\": {\"x\": 4541.362384765625, \"y\": 9045.93008203125}, \"b2\": {\"x\": 4898.993244140625, \"y\": 9075.23476953125}}, \"7331\": {\"from_node_id\": \"681604\", \"to_node_id\": \"681607\", \"b1\": {\"x\": 4095.0213203125004, \"y\": 9211.41055078125}, \"b2\": {\"x\": 4073.5222968750004, \"y\": 9187.27773828125}}, \"7332\": {\"from_node_id\": \"681604\", \"to_node_id\": \"681608\", \"b1\": {\"x\": 4094.4683417968754, \"y\": 9213.13418359375}, \"b2\": {\"x\": 4006.4783515625004, \"y\": 9227.68691796875}}, \"7333\": {\"from_node_id\": \"681604\", \"to_node_id\": \"669136\", \"b1\": {\"x\": 3949.6734199218754, \"y\": 9273.46621484375}, \"b2\": {\"x\": 3601.3968085937504, \"y\": 9379.57558984375}}}, \"compartment\": \"m\"}, \"681272\": {\"name\": \"rxn09271\", \"bigg_id\": \"TRANS__45__RXN2T__45__83__45__L2R__91__CCO__45__MIT__93__@iJDZ836\", \"reversibility\": true, \"label_x\": 2461.027587890625, \"label_y\": 9625.71158984375, \"gene_reaction_rule\": \"\", \"genes\": [], \"metabolites\": [{\"bigg_id\": \"M_SUC__91__CCO__45__MIT__93__@iJDZ836\", \"coefficient\": -1, \"node_uid\": \"671478\"}, {\"bigg_id\": \"M_SUC@iJDZ836\", \"coefficient\": 1, \"node_uid\": \"670688\"}], \"segments\": {\"7338\": {\"from_node_id\": \"681614\", \"to_node_id\": \"681615\", \"b1\": null, \"b2\": null}, \"7339\": {\"from_node_id\": \"681616\", \"to_node_id\": \"681615\", \"b1\": null, \"b2\": null}, \"7340\": {\"from_node_id\": \"681614\", \"to_node_id\": \"671478\", \"b1\": {\"x\": 2731.59912109375, \"y\": 9550.27018359375}, \"b2\": {\"x\": 2793.530517578125, \"y\": 9521.82584765625}}, \"7341\": {\"from_node_id\": \"681616\", \"to_node_id\": \"670688\", \"b1\": {\"x\": 2556.12744140625, \"y\": 9741.36295703125}, \"b2\": {\"x\": 2542.365234375, \"y\": 9778.40983203125}}}, \"compartment\": \"m\"}, \"681273\": {\"name\": \"rxn08868\", \"bigg_id\": \"RXN2T__45__68__45__R2L__91__CCO__45__MIT__93__@iJDZ836\", \"reversibility\": true, \"label_x\": 2526.421666796875, \"label_y\": 7793.55317578125, \"gene_reaction_rule\": \"\", \"genes\": [], \"metabolites\": [{\"bigg_id\": \"M_MAL__91__CCO__45__MIT__93__@iJDZ836\", \"coefficient\": -1, \"node_uid\": \"670644\"}, {\"bigg_id\": \"M_MAL@iJDZ836\", \"coefficient\": 1, \"node_uid\": \"668378\"}], \"segments\": {\"7342\": {\"from_node_id\": \"681618\", \"to_node_id\": \"681619\", \"b1\": null, \"b2\": null}, \"7343\": {\"from_node_id\": \"681620\", \"to_node_id\": \"681619\", \"b1\": null, \"b2\": null}, \"7344\": {\"from_node_id\": \"681618\", \"to_node_id\": \"670644\", \"b1\": {\"x\": 2817.3340203125, \"y\": 7900.6454609375}, \"b2\": {\"x\": 2852.66068046875, \"y\": 7947.093703125}}, \"7345\": {\"from_node_id\": \"681620\", \"to_node_id\": \"668378\", \"b1\": {\"x\": 2660.64798515625, \"y\": 7670.12348828125}, \"b2\": {\"x\": 2656.286901171875, \"y\": 7601.3114765625}}}, \"compartment\": \"m\"}, \"681275\": {\"name\": \"rxn09121\", \"bigg_id\": \"TRANS__45__RXN2T__45__157__45__L2R__91__CCO__45__MIT__93__@iJDZ836\", \"reversibility\": true, \"label_x\": 4538.98958203125, \"label_y\": 6948.7275390625, \"gene_reaction_rule\": \"\", \"genes\": [], \"metabolites\": [{\"bigg_id\": \"M_Pi__91__CCO__45__MIT__93__@iJDZ836\", \"coefficient\": -1, \"node_uid\": \"669146\"}, {\"bigg_id\": \"M_Pi@iJDZ836\", \"coefficient\": 1, \"node_uid\": \"671094\"}], \"segments\": {\"7350\": {\"from_node_id\": \"681626\", \"to_node_id\": \"681627\", \"b1\": null, \"b2\": null}, \"7351\": {\"from_node_id\": \"681628\", \"to_node_id\": \"681627\", \"b1\": null, \"b2\": null}, \"7352\": {\"from_node_id\": \"681626\", \"to_node_id\": \"669146\", \"b1\": {\"x\": 4731.1912421875, \"y\": 7042.015625}, \"b2\": {\"x\": 4741.89534375, \"y\": 7045.802734375}}, \"7353\": {\"from_node_id\": \"681628\", \"to_node_id\": \"671094\", \"b1\": {\"x\": 4729.66243359375, \"y\": 6855.3193359375}, \"b2\": {\"x\": 4735.77815625, \"y\": 6841.5927734375}}}, \"compartment\": \"m\"}, \"681276\": {\"name\": \"rxn08063\", \"bigg_id\": \"TRANS__45__RXN2T__45__233__45__R2L__91__CCO__45__EXTRACELLULAR__93__@iJDZ836\", \"reversibility\": true, \"label_x\": 5527.14013671875, \"label_y\": 6953.34440234375, \"gene_reaction_rule\": \"\", \"genes\": [], \"metabolites\": [{\"bigg_id\": \"M_ACET@iJDZ836\", \"coefficient\": -1, \"node_uid\": \"669886\"}, {\"bigg_id\": \"M_ACET__91__CCO__45__EXTRACELLULAR__93__@iJDZ836\", \"coefficient\": 1, \"node_uid\": \"672388\"}], \"segments\": {\"7354\": {\"from_node_id\": \"681630\", \"to_node_id\": \"681631\", \"b1\": null, \"b2\": null}, \"7355\": {\"from_node_id\": \"681632\", \"to_node_id\": \"681631\", \"b1\": null, \"b2\": null}, \"7356\": {\"from_node_id\": \"681630\", \"to_node_id\": \"669886\", \"b1\": {\"x\": 5574.0400390625, \"y\": 6819.44401171875}, \"b2\": {\"x\": 5529.33447265625, \"y\": 6785.82780078125}}, \"7357\": {\"from_node_id\": \"681632\", \"to_node_id\": \"672388\", \"b1\": {\"x\": 5713.88818359375, \"y\": 6949.1759453125}, \"b2\": {\"x\": 5745.98583984375, \"y\": 6977.06022265625}}}, \"compartment\": \"e\"}}, \"nodes\": {\"667072\": {\"node_type\": \"multimarker\", \"x\": 3872.875965625, \"y\": 5711.2001953125}, \"667073\": {\"node_type\": \"midmarker\", \"x\": 3872.875965625, \"y\": 5691.1996953125}, \"667095\": {\"node_type\": \"multimarker\", \"x\": 3760.9932, \"y\": 3506.249}, \"667096\": {\"node_type\": \"midmarker\", \"x\": 3761, \"y\": 3606.2568}, \"667097\": {\"node_type\": \"multimarker\", \"x\": 3761, \"y\": 3696.2568}, \"668368\": {\"node_type\": \"metabolite\", \"x\": 3951, \"y\": 6005.708471875, \"bigg_id\": \"M_ADP@iJDZ836\", \"name\": \"ADP\", \"label_x\": 3971, \"label_y\": 6005.708171875, \"node_is_primary\": false, \"compartment\": \"c\"}, \"668371\": {\"node_type\": \"metabolite\", \"x\": 3205.96536796875, \"y\": 7369.73728125, \"bigg_id\": \"M_PROTON@iJDZ836\", \"name\": \"H+\", \"label_x\": 3183.321325, \"label_y\": 7404.38963671875, \"node_is_primary\": false, \"compartment\": \"c\"}, \"668378\": {\"node_type\": \"metabolite\", \"x\": 2688.9765984375, \"y\": 7511.970703125, \"bigg_id\": \"M_MAL@iJDZ836\", \"name\": \"L-Malate\", \"label_x\": 2718.9833984375, \"label_y\": 7511.977703125, \"node_is_primary\": true, \"compartment\": \"c\"}, \"668379\": {\"node_type\": \"metabolite\", \"x\": 3872.713658984375, \"y\": 6707.099109375, \"bigg_id\": \"M_PYRUVATE__91__CCO__45__MIT__93__@iJDZ836\", \"name\": \"Pyruvate\", \"label_x\": 3902.564221484375, \"label_y\": 6690.3652109375, \"node_is_primary\": true, \"compartment\": \"m\"}, \"668381\": {\"node_type\": \"metabolite\", \"x\": 5837.60628125, \"y\": 7300.40478515625, \"bigg_id\": \"M_PROTON__91__CCO__45__MIT__93__@iJDZ836\", \"name\": \"H+\", \"label_x\": 5852.31184765625, \"label_y\": 7337.7197265625, \"node_is_primary\": false, \"compartment\": \"m\"}, \"668382\": {\"node_type\": \"metabolite\", \"x\": 3992.678014453125, \"y\": 7219.20120703125, \"bigg_id\": \"M_NADH__91__CCO__45__MIT__93__@iJDZ836\", \"name\": \"NADH\", \"label_x\": 3896.566365625, \"label_y\": 7180.552734375, \"node_is_primary\": false, \"compartment\": \"m\"}, \"668385\": {\"node_type\": \"metabolite\", \"x\": 3870.9932, \"y\": 6315.700171875, \"bigg_id\": \"M_PYRUVATE@iJDZ836\", \"name\": \"Pyruvate\", \"label_x\": 3896.3887078125, \"label_y\": 6358.01566015625, \"node_is_primary\": true, \"compartment\": \"c\"}, \"668386\": {\"node_type\": \"metabolite\", \"x\": 5607.3396796875, \"y\": 9484.30224609375, \"bigg_id\": \"M_CARBON__45__DIOXIDE@iJDZ836\", \"name\": \"CO2\", \"label_x\": 5637.3466796875, \"label_y\": 9474.31024609375, \"node_is_primary\": true, \"compartment\": \"c\"}, \"668387\": {\"node_type\": \"metabolite\", \"x\": 3870.9932, \"y\": 3349.316138671875, \"bigg_id\": \"M_FRUCTOSE__45__6P@iJDZ836\", \"name\": \"D-fructose-6-phosphate\", \"label_x\": 3926.901158984375, \"label_y\": 3325.868140625, \"node_is_primary\": true, \"compartment\": \"c\"}, \"668397\": {\"node_type\": \"metabolite\", \"x\": 4211, \"y\": 6004.703571875, \"bigg_id\": \"M_PYRUVATE__91__CCO__45__EXTRACELLULAR__93__@iJDZ836\", \"name\": \"Pyruvate\", \"label_x\": 4221, \"label_y\": 5974.703571875, \"node_is_primary\": true, \"compartment\": \"e\"}, \"668403\": {\"node_type\": \"metabolite\", \"x\": 3111.639404296875, \"y\": 9556.36981640625, \"bigg_id\": \"M_CO__45__A__91__CCO__45__MIT__93__@iJDZ836\", \"name\": \"CoA\", \"label_x\": 3121.639404296875, \"label_y\": 9546.36981640625, \"node_is_primary\": false, \"compartment\": \"m\"}, \"668407\": {\"node_type\": \"metabolite\", \"x\": 3445.68017578125, \"y\": 4321.21647265625, \"bigg_id\": \"M_GLYCERALD@iJDZ836\", \"name\": \"D-Glyceraldehyde\", \"label_x\": 3375.451171875, \"label_y\": 4364.657390625, \"node_is_primary\": true, \"compartment\": \"c\"}, \"668408\": {\"node_type\": \"metabolite\", \"x\": 2455.1555709331733, \"y\": 5921.763671613879, \"bigg_id\": \"M_ADP@iJDZ836\", \"name\": \"ADP\", \"label_x\": 2402.6772994487983, \"label_y\": 5895.166991926379, \"node_is_primary\": false, \"compartment\": \"c\"}, \"668409\": {\"node_type\": \"metabolite\", \"x\": 2800.00537109375, \"y\": 7635.946753125, \"bigg_id\": \"M_Pi__91__CCO__45__MIT__93__@iJDZ836\", \"name\": \"Phosphate\", \"label_x\": 2820.01217109375, \"label_y\": 7635.954053125, \"node_is_primary\": false, \"compartment\": \"m\"}, \"668411\": {\"node_type\": \"metabolite\", \"x\": 3870.9912, \"y\": 4911.52783203125, \"bigg_id\": \"M_DPG@iJDZ836\", \"name\": \"1,3-Bisphospho-D-glycerate\", \"label_x\": 3899.952893359375, \"label_y\": 4941.52683203125, \"node_is_primary\": true, \"compartment\": \"c\"}, \"668421\": {\"node_type\": \"metabolite\", \"x\": 5087.024494140625, \"y\": 9168.31680078125, \"bigg_id\": \"M_2__45__KETOGLUTARATE__91__CCO__45__MIT__93__@iJDZ836\", \"name\": \"2-Oxoglutarate\", \"label_x\": 5130.971923828125, \"label_y\": 9183.45868359375, \"node_is_primary\": true, \"compartment\": \"m\"}, \"668426\": {\"node_type\": \"metabolite\", \"x\": 5141.66878125, \"y\": 8225.152796875, \"bigg_id\": \"M_THREO__45__DS__45__ISO__45__CITRATE__91__CCO__45__MIT__93__@iJDZ836\", \"name\": \"Isocitrate\", \"label_x\": 5171.54915234375, \"label_y\": 8222.8735234375, \"node_is_primary\": true, \"compartment\": \"m\"}, \"668427\": {\"node_type\": \"metabolite\", \"x\": 3970.9932, \"y\": 6415.700671875, \"bigg_id\": \"M_PROTON@iJDZ836\", \"name\": \"H+\", \"label_x\": 3970.9932, \"label_y\": 6435.700671875, \"node_is_primary\": false, \"compartment\": \"c\"}, \"668429\": {\"node_type\": \"metabolite\", \"x\": 6328.27053203125, \"y\": 7221.80712890625, \"bigg_id\": \"M_NAD__91__CCO__45__MIT__93__@iJDZ836\", \"name\": \"NAD\", \"label_x\": 6338.27053203125, \"label_y\": 7201.80612890625, \"node_is_primary\": false, \"compartment\": \"m\"}, \"668431\": {\"node_type\": \"metabolite\", \"x\": 2646.23876953125, \"y\": 9799.52508984375, \"bigg_id\": \"M_Pi__91__CCO__45__MIT__93__@iJDZ836\", \"name\": \"Phosphate\", \"label_x\": 2646.23876953125, \"label_y\": 9819.52508984375, \"node_is_primary\": false, \"compartment\": \"m\"}, \"668437\": {\"node_type\": \"metabolite\", \"x\": 5275.5789375, \"y\": 8731.80565234375, \"bigg_id\": \"M_CARBON__45__DIOXIDE__91__CCO__45__MIT__93__@iJDZ836\", \"name\": \"CO2\", \"label_x\": 5180.2449296875, \"label_y\": 8771.80565234375, \"node_is_primary\": false, \"compartment\": \"m\"}, \"668440\": {\"node_type\": \"metabolite\", \"x\": 1987.27001953125, \"y\": 7506.9360109375, \"bigg_id\": \"M_PYRUVATE__91__CCO__45__MIT__93__@iJDZ836\", \"name\": \"Pyruvate\", \"label_x\": 1865.865966796875, \"label_y\": 7510.0880546875, \"node_is_primary\": true, \"compartment\": \"m\"}, \"668448\": {\"node_type\": \"metabolite\", \"x\": 3828.9258171875, \"y\": 9565.58154296875, \"bigg_id\": \"M_NAD__91__CCO__45__MIT__93__@iJDZ836\", \"name\": \"NAD\", \"label_x\": 3720.394323046875, \"label_y\": 9549.38134765625, \"node_is_primary\": false, \"compartment\": \"m\"}, \"668702\": {\"node_type\": \"multimarker\", \"x\": 5140.498859375, \"y\": 6556.1332890625}, \"668703\": {\"node_type\": \"midmarker\", \"x\": 5181.08821484375, \"y\": 6554.473609375}, \"668704\": {\"node_type\": \"multimarker\", \"x\": 5224.1541328125, \"y\": 6555.4418828125}, \"668705\": {\"node_type\": \"midmarker\", \"x\": 3870.9912, \"y\": 4711.52683203125}, \"668706\": {\"node_type\": \"multimarker\", \"x\": 3870.9912, \"y\": 4691.52783203125}, \"668707\": {\"node_type\": \"multimarker\", \"x\": 3870.9912, \"y\": 4731.52783203125}, \"668711\": {\"node_type\": \"multimarker\", \"x\": 4239.23076953125, \"y\": 7674.49904140625}, \"668712\": {\"node_type\": \"midmarker\", \"x\": 4063.4279910156256, \"y\": 7658.07718984375}, \"668713\": {\"node_type\": \"multimarker\", \"x\": 3900.99661796875, \"y\": 7651.01897265625}, \"668724\": {\"node_type\": \"midmarker\", \"x\": 3765.38916015625, \"y\": 4415.0929375}, \"668939\": {\"node_type\": \"multimarker\", \"x\": 6338.27783203125, \"y\": 6161.81442890625}, \"668940\": {\"node_type\": \"midmarker\", \"x\": 6148.27783203125, \"y\": 6160.7443046875}, \"668941\": {\"node_type\": \"multimarker\", \"x\": 5958.27783203125, \"y\": 6161.81442890625}, \"669108\": {\"node_type\": \"metabolite\", \"x\": 3083.392858203125, \"y\": 7883.296875, \"bigg_id\": \"M_NAD__91__CCO__45__MIT__93__@iJDZ836\", \"name\": \"NAD\", \"label_x\": 3031.55033046875, \"label_y\": 7925.79780859375, \"node_is_primary\": false, \"compartment\": \"m\"}, \"669111\": {\"node_type\": \"metabolite\", \"x\": 3994.886922265625, \"y\": 7280.4731796875, \"bigg_id\": \"M_CARBON__45__DIOXIDE__91__CCO__45__MIT__93__@iJDZ836\", \"name\": \"CO2\", \"label_x\": 3901.6660515625, \"label_y\": 7317.768078125, \"node_is_primary\": false, \"compartment\": \"m\"}, \"669119\": {\"node_type\": \"metabolite\", \"x\": 5468.27783203125, \"y\": 6581.81442890625, \"bigg_id\": \"M_NADPH@iJDZ836\", \"name\": \"NADPH\", \"label_x\": 5393.44140625, \"label_y\": 6552.5997734375, \"node_is_primary\": false, \"compartment\": \"c\"}, \"669122\": {\"node_type\": \"metabolite\", \"x\": 2257.4228875, \"y\": 8809.84130859375, \"bigg_id\": \"M_SUC@iJDZ836\", \"name\": \"Succinate\", \"label_x\": 2162.16162109375, \"label_y\": 8779.21256640625, \"node_is_primary\": true, \"compartment\": \"c\"}, \"669124\": {\"node_type\": \"metabolite\", \"x\": 2608.9833984375, \"y\": 7301.977703125, \"bigg_id\": \"M_PROTON@iJDZ836\", \"name\": \"H+\", \"label_x\": 2628.9833984375, \"label_y\": 7301.978003125, \"node_is_primary\": false, \"compartment\": \"c\"}, \"669125\": {\"node_type\": \"metabolite\", \"x\": 2680.016805078125, \"y\": 8550.553752343749, \"bigg_id\": \"M_FUM__91__CCO__45__MIT__93__@iJDZ836\", \"name\": \"Fumarate\", \"label_x\": 2503.495885546875, \"label_y\": 8525.22702734375, \"node_is_primary\": true, \"compartment\": \"m\"}, \"669126\": {\"node_type\": \"metabolite\", \"x\": 3273.392858203125, \"y\": 7763.295875, \"bigg_id\": \"M_NADH__91__CCO__45__MIT__93__@iJDZ836\", \"name\": \"NADH\", \"label_x\": 3293.919668359375, \"label_y\": 7796.35109609375, \"node_is_primary\": false, \"compartment\": \"m\"}, \"669127\": {\"node_type\": \"metabolite\", \"x\": 5464.8984375, \"y\": 7810.5195625, \"bigg_id\": \"M_PROTON__91__CCO__45__EXTRACELLULAR__93__@iJDZ836\", \"name\": \"H+\", \"label_x\": 5444.8984375, \"label_y\": 7777.2973625, \"node_is_primary\": false, \"compartment\": \"e\"}, \"669135\": {\"node_type\": \"metabolite\", \"x\": 3711, \"y\": 3756.2568, \"bigg_id\": \"M_WATER@iJDZ836\", \"name\": \"H2O\", \"label_x\": 3581.811767578125, \"label_y\": 3720.375696484375, \"node_is_primary\": false, \"compartment\": \"c\"}, \"669136\": {\"node_type\": \"metabolite\", \"x\": 3597.4218875, \"y\": 9851.18012890625, \"bigg_id\": \"M_SUC__45__COA__91__CCO__45__MIT__93__@iJDZ836\", \"name\": \"Succinyl-CoA\", \"label_x\": 3478.141393359375, \"label_y\": 9898.07666015625, \"node_is_primary\": true, \"compartment\": \"m\"}, \"669140\": {\"node_type\": \"metabolite\", \"x\": 5024.33740234375, \"y\": 6503.36588671875, \"bigg_id\": \"M_ACETYL__45__COA@iJDZ836\", \"name\": \"Acetyl-CoA\", \"label_x\": 4928.3095703125, \"label_y\": 6484.69401171875, \"node_is_primary\": false, \"compartment\": \"c\"}, \"669144\": {\"node_type\": \"metabolite\", \"x\": 3541, \"y\": 4831.53513203125, \"bigg_id\": \"M_PROTON@iJDZ836\", \"name\": \"H+\", \"label_x\": 3541, \"label_y\": 4811.53483203125, \"node_is_primary\": false, \"compartment\": \"c\"}, \"669145\": {\"node_type\": \"metabolite\", \"x\": 4310.3758125, \"y\": 7764.50144140625, \"bigg_id\": \"M_PROTON__91__CCO__45__MIT__93__@iJDZ836\", \"name\": \"H+\", \"label_x\": 4209.5349921875, \"label_y\": 7801.92967578125, \"node_is_primary\": false, \"compartment\": \"m\"}, \"669146\": {\"node_type\": \"metabolite\", \"x\": 4806.8846015625, \"y\": 7063.265625, \"bigg_id\": \"M_Pi__91__CCO__45__MIT__93__@iJDZ836\", \"name\": \"Phosphate\", \"label_x\": 4836.8846015625, \"label_y\": 7063.265125, \"node_is_primary\": true, \"compartment\": \"m\"}, \"669156\": {\"node_type\": \"midmarker\", \"x\": 4101.346883203125, \"y\": 7083.7621953125}, \"669157\": {\"node_type\": \"multimarker\", \"x\": 4101.346883203125, \"y\": 7010.48241015625}, \"669158\": {\"node_type\": \"multimarker\", \"x\": 4102.678914453125, \"y\": 7159.20070703125}, \"669165\": {\"node_type\": \"multimarker\", \"x\": 4918.36409375, \"y\": 7762.55124609375}, \"669166\": {\"node_type\": \"multimarker\", \"x\": 4973.9021796875, \"y\": 7816.5214609375}, \"669167\": {\"node_type\": \"midmarker\", \"x\": 4948.09700390625, \"y\": 7787.35693359375}, \"669272\": {\"node_type\": \"midmarker\", \"x\": 6733.12983203125, \"y\": 6216.66712890625}, \"669282\": {\"node_type\": \"midmarker\", \"x\": 2505.33157890625, \"y\": 6202.92969921875}, \"669283\": {\"node_type\": \"multimarker\", \"x\": 2499.33157890625, \"y\": 6336.92869921875}, \"669284\": {\"node_type\": \"multimarker\", \"x\": 2510.2236552718955, \"y\": 6079.83962646216}, \"669285\": {\"node_type\": \"multimarker\", \"x\": 2740.285924609375, \"y\": 8252.64887890625}, \"669286\": {\"node_type\": \"midmarker\", \"x\": 2756.306920703125, \"y\": 8212.61769375}, \"669287\": {\"node_type\": \"multimarker\", \"x\": 3870.9932, \"y\": 6495.701171875}, \"669288\": {\"node_type\": \"midmarker\", \"x\": 3870.9932, \"y\": 6515.700171875}, \"669289\": {\"node_type\": \"multimarker\", \"x\": 3870.9932, \"y\": 6535.700671875}, \"669536\": {\"node_type\": \"metabolite\", \"x\": 4762.8806953125, \"y\": 6688.39697265625, \"bigg_id\": \"M_PROTON@iJDZ836\", \"name\": \"H+\", \"label_x\": 4686.4138984375, \"label_y\": 6669.9838984375, \"node_is_primary\": false, \"compartment\": \"c\"}, \"669540\": {\"node_type\": \"metabolite\", \"x\": 2678.9833984375, \"y\": 7401.977703125, \"bigg_id\": \"M_NAD@iJDZ836\", \"name\": \"NAD\", \"label_x\": 2678.9833984375, \"label_y\": 7391.978003125, \"node_is_primary\": false, \"compartment\": \"c\"}, \"669554\": {\"node_type\": \"metabolite\", \"x\": 3577.936279296875, \"y\": 3854.492395703125, \"bigg_id\": \"M_ADP@iJDZ836\", \"name\": \"ADP\", \"label_x\": 3459.10400390625, \"label_y\": 3832.596887890625, \"node_is_primary\": false, \"compartment\": \"c\"}, \"669555\": {\"node_type\": \"metabolite\", \"x\": 3971, \"y\": 3696.2568, \"bigg_id\": \"M_PROTON@iJDZ836\", \"name\": \"H+\", \"label_x\": 3991, \"label_y\": 3696.2568, \"node_is_primary\": false, \"compartment\": \"c\"}, \"669557\": {\"node_type\": \"metabolite\", \"x\": 3866.3447625, \"y\": 7543.048828125, \"bigg_id\": \"M_ACETYL__45__COA__91__CCO__45__MIT__93__@iJDZ836\", \"name\": \"Acetyl-CoA\", \"label_x\": 3905.416760546875, \"label_y\": 7613.61426953125, \"node_is_primary\": true, \"compartment\": \"m\"}, \"669564\": {\"node_type\": \"metabolite\", \"x\": 5081.7869453125, \"y\": 6497.63866015625, \"bigg_id\": \"M_AMP@iJDZ836\", \"name\": \"AMP\", \"label_x\": 5085.73860546875, \"label_y\": 6472.153796875, \"node_is_primary\": false, \"compartment\": \"c\"}, \"669565\": {\"node_type\": \"metabolite\", \"x\": 2348.9833984375, \"y\": 7111.977703125, \"bigg_id\": \"M_MAL__91__CCO__45__EXTRACELLULAR__93__@iJDZ836\", \"name\": \"L-Malate\", \"label_x\": 2318.9833984375, \"label_y\": 7073.06608203125, \"node_is_primary\": true, \"compartment\": \"e\"}, \"669568\": {\"node_type\": \"metabolite\", \"x\": 5602.658203125, \"y\": 7871.5356203125, \"bigg_id\": \"M_CIT__91__CCO__45__EXTRACELLULAR__93__@iJDZ836\", \"name\": \"Citrate\", \"label_x\": 5583.7470703125, \"label_y\": 7832.55274296875, \"node_is_primary\": true, \"compartment\": \"e\"}, \"669875\": {\"node_type\": \"metabolite\", \"x\": 4840.88899609375, \"y\": 6604.85498046875, \"bigg_id\": \"M_WATER@iJDZ836\", \"name\": \"H2O\", \"label_x\": 4708.89094921875, \"label_y\": 6605.03614453125, \"node_is_primary\": false, \"compartment\": \"c\"}, \"669882\": {\"node_type\": \"metabolite\", \"x\": 5568.27083203125, \"y\": 7141.80662890625, \"bigg_id\": \"M_ACET__91__CCO__45__MIT__93__@iJDZ836\", \"name\": \"Acetate\", \"label_x\": 5588.27083203125, \"label_y\": 7121.80662890625, \"node_is_primary\": true, \"compartment\": \"m\"}, \"669884\": {\"node_type\": \"metabolite\", \"x\": 2064.570556640625, \"y\": 9585.02126171875, \"bigg_id\": \"M_PROTON__91__CCO__45__EXTRACELLULAR__93__@iJDZ836\", \"name\": \"H+\", \"label_x\": 2001.533203125, \"label_y\": 9605.02126171875, \"node_is_primary\": false, \"compartment\": \"e\"}, \"669886\": {\"node_type\": \"metabolite\", \"x\": 5498.27083203125, \"y\": 6691.80712890625, \"bigg_id\": \"M_ACET@iJDZ836\", \"name\": \"Acetate\", \"label_x\": 5528.27783203125, \"label_y\": 6691.81442890625, \"node_is_primary\": true, \"compartment\": \"c\"}, \"669887\": {\"node_type\": \"metabolite\", \"x\": 2836.23196953125, \"y\": 9609.51708984375, \"bigg_id\": \"M_Pi@iJDZ836\", \"name\": \"Phosphate\", \"label_x\": 2836.23196953125, \"label_y\": 9629.51508984375, \"node_is_primary\": false, \"compartment\": \"c\"}, \"669894\": {\"node_type\": \"midmarker\", \"x\": 3871, \"y\": 6095.707471875}, \"669895\": {\"node_type\": \"multimarker\", \"x\": 3871, \"y\": 6115.707171875}, \"669896\": {\"node_type\": \"multimarker\", \"x\": 3871, \"y\": 6075.708171875}, \"669900\": {\"node_type\": \"midmarker\", \"x\": 5537.3396796875, \"y\": 9384.30224609375}, \"669901\": {\"node_type\": \"multimarker\", \"x\": 3093.392858203125, \"y\": 7803.294875}, \"669902\": {\"node_type\": \"multimarker\", \"x\": 3173.392858203125, \"y\": 7743.294475}, \"669903\": {\"node_type\": \"midmarker\", \"x\": 3133.392858203125, \"y\": 7773.293875}, \"669904\": {\"node_type\": \"midmarker\", \"x\": 3870.9912, \"y\": 5111.52733203125}, \"669905\": {\"node_type\": \"multimarker\", \"x\": 3870.9912, \"y\": 5091.52733203125}, \"669906\": {\"node_type\": \"multimarker\", \"x\": 3870.9912, \"y\": 5131.52683203125}, \"669914\": {\"node_type\": \"midmarker\", \"x\": 3872.875965625, \"y\": 5439.0668828125}, \"669938\": {\"node_type\": \"multimarker\", \"x\": 2898.9765984375, \"y\": 7291.970703125}, \"669939\": {\"node_type\": \"multimarker\", \"x\": 2768.9833984375, \"y\": 7391.978003125}, \"669940\": {\"node_type\": \"midmarker\", \"x\": 2831.5840203125, \"y\": 7332.51513671875}, \"670364\": {\"node_type\": \"midmarker\", \"x\": 5500.24690625, \"y\": 6899.70994921875}, \"670597\": {\"node_type\": \"metabolite\", \"x\": 5420.201984375, \"y\": 7357.146484375, \"bigg_id\": \"M_ATP__91__CCO__45__MIT__93__@iJDZ836\", \"name\": \"ATP\", \"label_x\": 5406.446125, \"label_y\": 7393.1938359375, \"node_is_primary\": false, \"compartment\": \"m\"}, \"670601\": {\"node_type\": \"metabolite\", \"x\": 3226.984166796875, \"y\": 6450.0317265625, \"bigg_id\": \"M_PROTON@iJDZ836\", \"name\": \"H+\", \"label_x\": 3186.984166796875, \"label_y\": 6420.69921875, \"node_is_primary\": false, \"compartment\": \"c\"}, \"670604\": {\"node_type\": \"metabolite\", \"x\": 3930.9932, \"y\": 3516.249, \"bigg_id\": \"M_ATP@iJDZ836\", \"name\": \"ATP\", \"label_x\": 3930.9932, \"label_y\": 3496.25, \"node_is_primary\": false, \"compartment\": \"c\"}, \"670605\": {\"node_type\": \"metabolite\", \"x\": 2968.9765984375, \"y\": 7211.970203125, \"bigg_id\": \"M_NADH@iJDZ836\", \"name\": \"NADH\", \"label_x\": 2884.57571953125, \"label_y\": 7187.33494921875, \"node_is_primary\": false, \"compartment\": \"c\"}, \"670609\": {\"node_type\": \"metabolite\", \"x\": 3980.9961296875, \"y\": 2618.446021484375, \"bigg_id\": \"M_ADP@iJDZ836\", \"name\": \"ADP\", \"label_x\": 4001.0029296875, \"label_y\": 2608.453821484375, \"node_is_primary\": false, \"compartment\": \"c\"}, \"670611\": {\"node_type\": \"metabolite\", \"x\": 3008.9765984375, \"y\": 7321.970203125, \"bigg_id\": \"M_PROTON@iJDZ836\", \"name\": \"H+\", \"label_x\": 3008.9765984375, \"label_y\": 7331.970703125, \"node_is_primary\": false, \"compartment\": \"c\"}, \"670617\": {\"node_type\": \"metabolite\", \"x\": 3846.81790703125, \"y\": 7735.73095703125, \"bigg_id\": \"M_WATER__91__CCO__45__MIT__93__@iJDZ836\", \"name\": \"H2O\", \"label_x\": 3866.81790703125, \"label_y\": 7745.73145703125, \"node_is_primary\": false, \"compartment\": \"m\"}, \"670623\": {\"node_type\": \"metabolite\", \"x\": 3400.026123046875, \"y\": 4074.8300421875, \"bigg_id\": \"M_FRU1P@iJDZ836\", \"name\": \"D-fructose-1-phosphate\", \"label_x\": 3422.10986328125, \"label_y\": 4063.969690625, \"node_is_primary\": true, \"compartment\": \"c\"}, \"670626\": {\"node_type\": \"metabolite\", \"x\": 4150.993, \"y\": 6375.701171875, \"bigg_id\": \"M_PROTON@iJDZ836\", \"name\": \"H+\", \"label_x\": 4128.993, \"label_y\": 6421.700671875, \"node_is_primary\": false, \"compartment\": \"c\"}, \"670628\": {\"node_type\": \"metabolite\", \"x\": 2344.563756640625, \"y\": 9443.59326171875, \"bigg_id\": \"M_FUM@iJDZ836\", \"name\": \"Fumarate\", \"label_x\": 2344.563756640625, \"label_y\": 9473.59226171875, \"node_is_primary\": true, \"compartment\": \"c\"}, \"670629\": {\"node_type\": \"metabolite\", \"x\": 5580.89794921875, \"y\": 6611.27897265625, \"bigg_id\": \"M_PROTON@iJDZ836\", \"name\": \"H+\", \"label_x\": 5590.89794921875, \"label_y\": 6621.27897265625, \"node_is_primary\": false, \"compartment\": \"c\"}, \"670634\": {\"node_type\": \"metabolite\", \"x\": 3291.639404296875, \"y\": 9806.36981640625, \"bigg_id\": \"M_Pi__91__CCO__45__MIT__93__@iJDZ836\", \"name\": \"Phosphate\", \"label_x\": 3291.639404296875, \"label_y\": 9826.36881640625, \"node_is_primary\": false, \"compartment\": \"m\"}, \"670636\": {\"node_type\": \"metabolite\", \"x\": 3701, \"y\": 3436.2568, \"bigg_id\": \"M_Pi@iJDZ836\", \"name\": \"Phosphate\", \"label_x\": 3598.962646484375, \"label_y\": 3470.834704296875, \"node_is_primary\": false, \"compartment\": \"c\"}, \"670639\": {\"node_type\": \"metabolite\", \"x\": 5277.18001171875, \"y\": 8478.21775, \"bigg_id\": \"M_NAD__91__CCO__45__MIT__93__@iJDZ836\", \"name\": \"NAD\", \"label_x\": 5191.23272265625, \"label_y\": 8523.69871875, \"node_is_primary\": false, \"compartment\": \"m\"}, \"670641\": {\"node_type\": \"metabolite\", \"x\": 3970.9912, \"y\": 5211.52733203125, \"bigg_id\": \"M_ATP@iJDZ836\", \"name\": \"ATP\", \"label_x\": 3990.9922, \"label_y\": 5211.52733203125, \"node_is_primary\": false, \"compartment\": \"c\"}, \"670644\": {\"node_type\": \"metabolite\", \"x\": 2923.45267265625, \"y\": 7983.22016796875, \"bigg_id\": \"M_MAL__91__CCO__45__MIT__93__@iJDZ836\", \"name\": \"L-Malate\", \"label_x\": 2962.474368359375, \"label_y\": 8024.04549609375, \"node_is_primary\": true, \"compartment\": \"m\"}, \"670650\": {\"node_type\": \"metabolite\", \"x\": 4001.346883203125, \"y\": 6940.48191015625, \"bigg_id\": \"M_NAD__91__CCO__45__MIT__93__@iJDZ836\", \"name\": \"NAD\", \"label_x\": 3890.74954765625, \"label_y\": 6985.938953125, \"node_is_primary\": false, \"compartment\": \"m\"}, \"670663\": {\"node_type\": \"metabolite\", \"x\": 4864.71175, \"y\": 6986.50537109375, \"bigg_id\": \"M_PROTON__91__CCO__45__MIT__93__@iJDZ836\", \"name\": \"H+\", \"label_x\": 4881.65364453125, \"label_y\": 6987.97462109375, \"node_is_primary\": false, \"compartment\": \"m\"}, \"670666\": {\"node_type\": \"metabolite\", \"x\": 2621.096959765625, \"y\": 8288.95801953125, \"bigg_id\": \"M_WATER__91__CCO__45__MIT__93__@iJDZ836\", \"name\": \"H2O\", \"label_x\": 2599.65479765625, \"label_y\": 8337.5448984375, \"node_is_primary\": false, \"compartment\": \"m\"}, \"670677\": {\"node_type\": \"metabolite\", \"x\": 4004.210652734375, \"y\": 6872.54978125, \"bigg_id\": \"M_CO__45__A__91__CCO__45__MIT__93__@iJDZ836\", \"name\": \"CoA\", \"label_x\": 3900.33353203125, \"label_y\": 6854.55858203125, \"node_is_primary\": false, \"compartment\": \"m\"}, \"670678\": {\"node_type\": \"metabolite\", \"x\": 2448.9833984375, \"y\": 7141.978003125, \"bigg_id\": \"M_PROTON__91__CCO__45__EXTRACELLULAR__93__@iJDZ836\", \"name\": \"H+\", \"label_x\": 2458.9833984375, \"label_y\": 7131.977703125, \"node_is_primary\": false, \"compartment\": \"e\"}, \"670684\": {\"node_type\": \"metabolite\", \"x\": 4977.64925, \"y\": 7207.91407421875, \"bigg_id\": \"M_WATER__91__CCO__45__MIT__93__@iJDZ836\", \"name\": \"H2O\", \"label_x\": 4977.64925, \"label_y\": 7187.91407421875, \"node_is_primary\": false, \"compartment\": \"m\"}, \"670688\": {\"node_type\": \"metabolite\", \"x\": 2506.23876953125, \"y\": 9859.52408984375, \"bigg_id\": \"M_SUC@iJDZ836\", \"name\": \"Succinate\", \"label_x\": 2526.23876953125, \"label_y\": 9879.52408984375, \"node_is_primary\": true, \"compartment\": \"c\"}, \"670833\": {\"node_type\": \"metabolite\", \"x\": 3301.1543328125, \"y\": 6607.412109375, \"bigg_id\": \"M_Pi@iJDZ836\", \"name\": \"Phosphate\", \"label_x\": 3321.1543328125, \"label_y\": 6617.411109375, \"node_is_primary\": false, \"compartment\": \"c\"}, \"670836\": {\"node_type\": \"metabolite\", \"x\": 5285.5789375, \"y\": 8799.13866015625, \"bigg_id\": \"M_NADH__91__CCO__45__MIT__93__@iJDZ836\", \"name\": \"NADH\", \"label_x\": 5177.5799375, \"label_y\": 8839.13916015625, \"node_is_primary\": false, \"compartment\": \"m\"}, \"670840\": {\"node_type\": \"metabolite\", \"x\": 2218.282470703125, \"y\": 7554.7169609375, \"bigg_id\": \"M_NADH__91__CCO__45__MIT__93__@iJDZ836\", \"name\": \"NADH\", \"label_x\": 2218.282470703125, \"label_y\": 7544.7172609375, \"node_is_primary\": false, \"compartment\": \"m\"}, \"670842\": {\"node_type\": \"metabolite\", \"x\": 3371.639404296875, \"y\": 9656.36981640625, \"bigg_id\": \"M_ADP__91__CCO__45__MIT__93__@iJDZ836\", \"name\": \"ADP\", \"label_x\": 3387.25439453125, \"label_y\": 9637.33270703125, \"node_is_primary\": false, \"compartment\": \"m\"}, \"670845\": {\"node_type\": \"metabolite\", \"x\": 2118.282470703125, \"y\": 7494.7169609375, \"bigg_id\": \"M_CARBON__45__DIOXIDE__91__CCO__45__MIT__93__@iJDZ836\", \"name\": \"CO2\", \"label_x\": 2118.282470703125, \"label_y\": 7484.7169609375, \"node_is_primary\": false, \"compartment\": \"m\"}, \"670848\": {\"node_type\": \"metabolite\", \"x\": 5446.57161328125, \"y\": 9253.14987890625, \"bigg_id\": \"M_CARBON__45__DIOXIDE__91__CCO__45__MIT__93__@iJDZ836\", \"name\": \"CO2\", \"label_x\": 5499.83821484375, \"label_y\": 9267.38037109375, \"node_is_primary\": true, \"compartment\": \"m\"}, \"670851\": {\"node_type\": \"metabolite\", \"x\": 2007.27001953125, \"y\": 7606.9360109375, \"bigg_id\": \"M_CARBON__45__DIOXIDE__91__CCO__45__MIT__93__@iJDZ836\", \"name\": \"CO2\", \"label_x\": 1921.0810546875, \"label_y\": 7619.5431328125, \"node_is_primary\": false, \"compartment\": \"m\"}, \"670875\": {\"node_type\": \"multimarker\", \"x\": 3870.9932, \"y\": 3576.249}, \"670876\": {\"node_type\": \"multimarker\", \"x\": 3870.9932, \"y\": 3616.249}, \"670877\": {\"node_type\": \"midmarker\", \"x\": 3870.9932, \"y\": 3596.249}, \"670883\": {\"node_type\": \"midmarker\", \"x\": 3468.26123046875, \"y\": 4233.7970390625}, \"670884\": {\"node_type\": \"multimarker\", \"x\": 3485.68017578125, \"y\": 4251.21647265625}, \"670889\": {\"node_type\": \"multimarker\", \"x\": 4250.991, \"y\": 6315.701171875}, \"670890\": {\"node_type\": \"multimarker\", \"x\": 4420.993, \"y\": 6315.701171875}, \"670891\": {\"node_type\": \"midmarker\", \"x\": 4340.993, \"y\": 6315.701171875}, \"670893\": {\"node_type\": \"midmarker\", \"x\": 5667.3466796875, \"y\": 9574.31024609375}, \"670912\": {\"node_type\": \"multimarker\", \"x\": 3271.639404296875, \"y\": 9726.36881640625}, \"670913\": {\"node_type\": \"midmarker\", \"x\": 3171.639404296875, \"y\": 9676.36981640625}, \"670914\": {\"node_type\": \"multimarker\", \"x\": 3101.639404296875, \"y\": 9636.36881640625}, \"670915\": {\"node_type\": \"multimarker\", \"x\": 3870.9912, \"y\": 4215.25144140625}, \"670916\": {\"node_type\": \"midmarker\", \"x\": 3870.9932, \"y\": 4036.249}, \"671060\": {\"node_type\": \"metabolite\", \"x\": 5978.26983203125, \"y\": 7221.80712890625, \"bigg_id\": \"M_NADH__91__CCO__45__MIT__93__@iJDZ836\", \"name\": \"NADH\", \"label_x\": 5998.26983203125, \"label_y\": 7201.80612890625, \"node_is_primary\": false, \"compartment\": \"m\"}, \"671070\": {\"node_type\": \"metabolite\", \"x\": 6418.27783203125, \"y\": 6111.81412890625, \"bigg_id\": \"M_NAD@iJDZ836\", \"name\": \"NAD\", \"label_x\": 6438.27783203125, \"label_y\": 6111.81442890625, \"node_is_primary\": false, \"compartment\": \"c\"}, \"671073\": {\"node_type\": \"metabolite\", \"x\": 6648.27083203125, \"y\": 6301.80712890625, \"bigg_id\": \"M_ETOH@iJDZ836\", \"name\": \"Ethanol\", \"label_x\": 6691.9067859375, \"label_y\": 6312.87694140625, \"node_is_primary\": true, \"compartment\": \"c\"}, \"671079\": {\"node_type\": \"metabolite\", \"x\": 3668.07275390625, \"y\": 4307.14420703125, \"bigg_id\": \"M_DIHYDROXY__45__ACETONE__45__PHOSPHATE@iJDZ836\", \"name\": \"Glycerone-phosphate\", \"label_x\": 3571.25146484375, \"label_y\": 4271.85514453125, \"node_is_primary\": true, \"compartment\": \"c\"}, \"671082\": {\"node_type\": \"metabolite\", \"x\": 3940.9932, \"y\": 3766.249, \"bigg_id\": \"M_ADP@iJDZ836\", \"name\": \"ADP\", \"label_x\": 3937.753209765625, \"label_y\": 3797.67429296875, \"node_is_primary\": false, \"compartment\": \"c\"}, \"671086\": {\"node_type\": \"metabolite\", \"x\": 5289.5654296875, \"y\": 7808.51907421875, \"bigg_id\": \"M_PROTON@iJDZ836\", \"name\": \"H+\", \"label_x\": 5273.5654296875, \"label_y\": 7781.963078125, \"node_is_primary\": false, \"compartment\": \"c\"}, \"671094\": {\"node_type\": \"metabolite\", \"x\": 4796.12044140625, \"y\": 6814.91552734375, \"bigg_id\": \"M_Pi@iJDZ836\", \"name\": \"Phosphate\", \"label_x\": 4825.869953125, \"label_y\": 6822.69041796875, \"node_is_primary\": true, \"compartment\": \"c\"}, \"671095\": {\"node_type\": \"metabolite\", \"x\": 2025.9423828125, \"y\": 9743.58073046875, \"bigg_id\": \"M_FUM__91__CCO__45__EXTRACELLULAR__93__@iJDZ836\", \"name\": \"Fumarate\", \"label_x\": 1926.601318359375, \"label_y\": 9740.73773046875, \"node_is_primary\": true, \"compartment\": \"e\"}, \"671096\": {\"node_type\": \"metabolite\", \"x\": 3391.1543328125, \"y\": 6277.411109375, \"bigg_id\": \"M_ATP@iJDZ836\", \"name\": \"ATP\", \"label_x\": 3391.1543328125, \"label_y\": 6247.411109375, \"node_is_primary\": false, \"compartment\": \"c\"}, \"671104\": {\"node_type\": \"metabolite\", \"x\": 3972.875965625, \"y\": 5791.1996953125, \"bigg_id\": \"M_WATER@iJDZ836\", \"name\": \"H2O\", \"label_x\": 3992.876965625, \"label_y\": 5801.2006953125, \"node_is_primary\": false, \"compartment\": \"c\"}, \"671114\": {\"node_type\": \"metabolite\", \"x\": 2427.0676589511822, \"y\": 6001.832701923953, \"bigg_id\": \"M_CARBON__45__DIOXIDE@iJDZ836\", \"name\": \"CO2\", \"label_x\": 2361.0676589511822, \"label_y\": 5974.498705830203, \"node_is_primary\": false, \"compartment\": \"c\"}, \"671390\": {\"node_type\": \"metabolite\", \"x\": 2205.992456640625, \"y\": 9443.60126171875, \"bigg_id\": \"M_PROTON@iJDZ836\", \"name\": \"H+\", \"label_x\": 2199.688745703125, \"label_y\": 9413.17157421875, \"node_is_primary\": false, \"compartment\": \"c\"}, \"671394\": {\"node_type\": \"metabolite\", \"x\": 3970.9912, \"y\": 4611.52783203125, \"bigg_id\": \"M_Pi@iJDZ836\", \"name\": \"Phosphate\", \"label_x\": 3990.9922, \"label_y\": 4611.52683203125, \"node_is_primary\": false, \"compartment\": \"c\"}, \"671406\": {\"node_type\": \"metabolite\", \"x\": 3871, \"y\": 3906.2568, \"bigg_id\": \"M_FRUCTOSE__45__16__45__DIPHOSPHATE@iJDZ836\", \"name\": \"D-fructose-1,6-bisphosphate\", \"label_x\": 3903.2177734375, \"label_y\": 3915.395792578125, \"node_is_primary\": true, \"compartment\": \"c\"}, \"671408\": {\"node_type\": \"metabolite\", \"x\": 4070.2969550781254, \"y\": 9460.06103515625, \"bigg_id\": \"M_NADH__91__CCO__45__MIT__93__@iJDZ836\", \"name\": \"NADH\", \"label_x\": 4010.3272285156254, \"label_y\": 9438.74853515625, \"node_is_primary\": false, \"compartment\": \"m\"}, \"671411\": {\"node_type\": \"metabolite\", \"x\": 2359.359130859375, \"y\": 7677.6251640625, \"bigg_id\": \"M_NAD__91__CCO__45__MIT__93__@iJDZ836\", \"name\": \"NAD\", \"label_x\": 2371.4013671875, \"label_y\": 7720.95505390625, \"node_is_primary\": false, \"compartment\": \"m\"}, \"671412\": {\"node_type\": \"metabolite\", \"x\": 3491.1543328125, \"y\": 6287.411609375, \"bigg_id\": \"M_HCO3@iJDZ836\", \"name\": \"H2CO3\", \"label_x\": 3501.1543328125, \"label_y\": 6267.411609375, \"node_is_primary\": false, \"compartment\": \"c\"}, \"671413\": {\"node_type\": \"metabolite\", \"x\": 2904.58548515625, \"y\": 7834.9375, \"bigg_id\": \"M_Pi@iJDZ836\", \"name\": \"Phosphate\", \"label_x\": 2865.244908984375, \"label_y\": 7810.73096875, \"node_is_primary\": false, \"compartment\": \"c\"}, \"671415\": {\"node_type\": \"metabolite\", \"x\": 5161.69384765625, \"y\": 7872.86911640625, \"bigg_id\": \"M_CIT@iJDZ836\", \"name\": \"Citrate\", \"label_x\": 5161.70084765625, \"label_y\": 7842.87641640625, \"node_is_primary\": true, \"compartment\": \"c\"}, \"671437\": {\"node_type\": \"multimarker\", \"x\": 4089.2842, \"y\": 6105.708471875}, \"671438\": {\"node_type\": \"midmarker\", \"x\": 4075.1426, \"y\": 6119.850171875}, \"671439\": {\"node_type\": \"multimarker\", \"x\": 4061, \"y\": 6133.992671875}, \"671453\": {\"node_type\": \"multimarker\", \"x\": 5528.27783203125, \"y\": 6551.81412890625}, \"671454\": {\"node_type\": \"multimarker\", \"x\": 5588.27783203125, \"y\": 6401.81442890625}, \"671455\": {\"node_type\": \"midmarker\", \"x\": 5557.74267578125, \"y\": 6481.81412890625}, \"671461\": {\"node_type\": \"metabolite\", \"x\": 3439.443639453125, \"y\": 7664.5907734375, \"bigg_id\": \"M_OXALACETIC_ACID__91__CCO__45__MIT__93__@iJDZ836\", \"name\": \"Oxaloacetate\", \"label_x\": 3425.3594109375, \"label_y\": 7712.0068359375, \"node_is_primary\": true, \"compartment\": \"m\"}, \"671467\": {\"node_type\": \"metabolite\", \"x\": 3872.875965625, \"y\": 5319.0668828125, \"bigg_id\": \"M_G3P@iJDZ836\", \"name\": \"3-Phosphoglycerate\", \"label_x\": 3872.876965625, \"label_y\": 5289.0668828125, \"node_is_primary\": true, \"compartment\": \"c\"}, \"671468\": {\"node_type\": \"metabolite\", \"x\": 5538.27783203125, \"y\": 6361.81412890625, \"bigg_id\": \"M_NADP@iJDZ836\", \"name\": \"NADP\", \"label_x\": 5431.94580078125, \"label_y\": 6389.91501484375, \"node_is_primary\": false, \"compartment\": \"c\"}, \"671476\": {\"node_type\": \"metabolite\", \"x\": 3170.053014453125, \"y\": 7655.9609375, \"bigg_id\": \"M_PROTON__91__CCO__45__MIT__93__@iJDZ836\", \"name\": \"H+\", \"label_x\": 3109.05424296875, \"label_y\": 7631.1206015625, \"node_is_primary\": false, \"compartment\": \"m\"}, \"671478\": {\"node_type\": \"metabolite\", \"x\": 2870.179479296875, \"y\": 9476.60391015625, \"bigg_id\": \"M_SUC__91__CCO__45__MIT__93__@iJDZ836\", \"name\": \"Succinate\", \"label_x\": 2895.486340625, \"label_y\": 9490.62051171875, \"node_is_primary\": true, \"compartment\": \"m\"}, \"671480\": {\"node_type\": \"metabolite\", \"x\": 5669.54443359375, \"y\": 6764.4239921875, \"bigg_id\": \"M_PROTON@iJDZ836\", \"name\": \"H+\", \"label_x\": 5689.54443359375, \"label_y\": 6764.4242921875, \"node_is_primary\": false, \"compartment\": \"c\"}, \"671741\": {\"node_type\": \"multimarker\", \"x\": 4864.139484375, \"y\": 6671.82616015625}, \"671742\": {\"node_type\": \"multimarker\", \"x\": 4837.64876171875, \"y\": 6705.09666796875}, \"671743\": {\"node_type\": \"midmarker\", \"x\": 4850.7674140625, \"y\": 6688.03466796875}, \"672057\": {\"node_type\": \"metabolite\", \"x\": 3351.1543328125, \"y\": 6557.412109375, \"bigg_id\": \"M_ADP@iJDZ836\", \"name\": \"ADP\", \"label_x\": 3381.1543328125, \"label_y\": 6557.411609375, \"node_is_primary\": false, \"compartment\": \"c\"}, \"672064\": {\"node_type\": \"metabolite\", \"x\": 3872.875965625, \"y\": 5562.83592578125, \"bigg_id\": \"M_2__45__PG@iJDZ836\", \"name\": \"2-Phospho-D-glycerate\", \"label_x\": 3902.874965625, \"label_y\": 5562.83592578125, \"node_is_primary\": true, \"compartment\": \"c\"}, \"672069\": {\"node_type\": \"metabolite\", \"x\": 6817.98343203125, \"y\": 6131.81442890625, \"bigg_id\": \"M_ETOH__91__CCO__45__EXTRACELLULAR__93__@iJDZ836\", \"name\": \"Ethanol\", \"label_x\": 6838.27783203125, \"label_y\": 6151.81442890625, \"node_is_primary\": true, \"compartment\": \"e\"}, \"672080\": {\"node_type\": \"metabolite\", \"x\": 3870.9912, \"y\": 5915.701171875, \"bigg_id\": \"M_PHOSPHO__45__ENOL__45__PYRUVATE@iJDZ836\", \"name\": \"Phosphoenolpyruvate\", \"label_x\": 3919.866444140625, \"label_y\": 5905.701671875, \"node_is_primary\": true, \"compartment\": \"c\"}, \"672082\": {\"node_type\": \"metabolite\", \"x\": 4857.64925, \"y\": 6867.91407421875, \"bigg_id\": \"M_PROTON@iJDZ836\", \"name\": \"H+\", \"label_x\": 4877.64925, \"label_y\": 6867.91407421875, \"node_is_primary\": false, \"compartment\": \"c\"}, \"672084\": {\"node_type\": \"metabolite\", \"x\": 3970.9912, \"y\": 5011.52783203125, \"bigg_id\": \"M_ADP@iJDZ836\", \"name\": \"ADP\", \"label_x\": 3990.9922, \"label_y\": 5011.52733203125, \"node_is_primary\": false, \"compartment\": \"c\"}, \"672085\": {\"node_type\": \"metabolite\", \"x\": 5638.27083203125, \"y\": 6391.80612890625, \"bigg_id\": \"M_WATER@iJDZ836\", \"name\": \"H2O\", \"label_x\": 5658.27083203125, \"label_y\": 6391.80662890625, \"node_is_primary\": false, \"compartment\": \"c\"}, \"672100\": {\"node_type\": \"metabolite\", \"x\": 3970.9932, \"y\": 6615.701171875, \"bigg_id\": \"M_PROTON__91__CCO__45__MIT__93__@iJDZ836\", \"name\": \"H+\", \"label_x\": 3970.9932, \"label_y\": 6635.701171875, \"node_is_primary\": false, \"compartment\": \"m\"}, \"672101\": {\"node_type\": \"metabolite\", \"x\": 3367.74072265625, \"y\": 3987.9101203125, \"bigg_id\": \"M_ATP@iJDZ836\", \"name\": \"ATP\", \"label_x\": 3319.49658203125, \"label_y\": 3964.99459296875, \"node_is_primary\": false, \"compartment\": \"c\"}, \"672104\": {\"node_type\": \"metabolite\", \"x\": 5762.35009765625, \"y\": 6882.44821796875, \"bigg_id\": \"M_PROTON__91__CCO__45__EXTRACELLULAR__93__@iJDZ836\", \"name\": \"H+\", \"label_x\": 5782.35009765625, \"label_y\": 6882.44791796875, \"node_is_primary\": false, \"compartment\": \"e\"}, \"672110\": {\"node_type\": \"metabolite\", \"x\": 2439.33157890625, \"y\": 6426.92919921875, \"bigg_id\": \"M_ATP@iJDZ836\", \"name\": \"ATP\", \"label_x\": 2340.0996453125, \"label_y\": 6457.90575, \"node_is_primary\": false, \"compartment\": \"c\"}, \"672330\": {\"node_type\": \"metabolite\", \"x\": 4899.4236640625, \"y\": 7652.2734375, \"bigg_id\": \"M_THREO__45__DS__45__ISO__45__CITRATE@iJDZ836\", \"name\": \"Isocitrate\", \"label_x\": 4944.6385078125, \"label_y\": 7639.665515625, \"node_is_primary\": true, \"compartment\": \"c\"}, \"672332\": {\"node_type\": \"metabolite\", \"x\": 5374.0779609375, \"y\": 7228.171875, \"bigg_id\": \"M_CO__45__A__91__CCO__45__MIT__93__@iJDZ836\", \"name\": \"CoA\", \"label_x\": 5297.28271484375, \"label_y\": 7199.00876484375, \"node_is_primary\": false, \"compartment\": \"m\"}, \"672336\": {\"node_type\": \"metabolite\", \"x\": 5519.11653515625, \"y\": 8706.66015625, \"bigg_id\": \"M_CARBON__45__DIOXIDE__91__CCO__45__MIT__93__@iJDZ836\", \"name\": \"CO2\", \"label_x\": 5531.09846875, \"label_y\": 8750.6225234375, \"node_is_primary\": false, \"compartment\": \"m\"}, \"672337\": {\"node_type\": \"metabolite\", \"x\": 3771, \"y\": 4811.53513203125, \"bigg_id\": \"M_PROTON@iJDZ836\", \"name\": \"H+\", \"label_x\": 3713.9823984375, \"label_y\": 4830.17741015625, \"node_is_primary\": false, \"compartment\": \"c\"}, \"672339\": {\"node_type\": \"metabolite\", \"x\": 4410.3748125, \"y\": 7644.50004140625, \"bigg_id\": \"M_CO__45__A__91__CCO__45__MIT__93__@iJDZ836\", \"name\": \"CoA\", \"label_x\": 4420.3758125, \"label_y\": 7634.50294140625, \"node_is_primary\": false, \"compartment\": \"m\"}, \"672341\": {\"node_type\": \"metabolite\", \"x\": 3041.639404296875, \"y\": 9676.36881640625, \"bigg_id\": \"M_ATP__91__CCO__45__MIT__93__@iJDZ836\", \"name\": \"ATP\", \"label_x\": 3051.639404296875, \"label_y\": 9696.36881640625, \"node_is_primary\": false, \"compartment\": \"m\"}, \"672349\": {\"node_type\": \"metabolite\", \"x\": 6392.7729734375, \"y\": 7319.0034296875, \"bigg_id\": \"M_WATER__91__CCO__45__MIT__93__@iJDZ836\", \"name\": \"H2O\", \"label_x\": 6234.2635078125, \"label_y\": 7348.3666875, \"node_is_primary\": false, \"compartment\": \"m\"}, \"672350\": {\"node_type\": \"metabolite\", \"x\": 4221, \"y\": 6085.708471875, \"bigg_id\": \"M_PROTON__91__CCO__45__EXTRACELLULAR__93__@iJDZ836\", \"name\": \"H+\", \"label_x\": 4241, \"label_y\": 6095.708471875, \"node_is_primary\": false, \"compartment\": \"e\"}, \"672353\": {\"node_type\": \"metabolite\", \"x\": 3981.96048515625, \"y\": 2666.470435546875, \"bigg_id\": \"M_PROTON@iJDZ836\", \"name\": \"H+\", \"label_x\": 4005.17431640625, \"label_y\": 2662.16353828125, \"node_is_primary\": false, \"compartment\": \"c\"}, \"672355\": {\"node_type\": \"metabolite\", \"x\": 3791, \"y\": 6005.708471875, \"bigg_id\": \"M_PROTON@iJDZ836\", \"name\": \"H+\", \"label_x\": 3730.518775390625, \"label_y\": 6022.01923046875, \"node_is_primary\": false, \"compartment\": \"c\"}, \"672359\": {\"node_type\": \"metabolite\", \"x\": 5345.02815625, \"y\": 6509.665015625, \"bigg_id\": \"M_CO__45__A@iJDZ836\", \"name\": \"CoA\", \"label_x\": 5359.100421875, \"label_y\": 6499.34862109375, \"node_is_primary\": false, \"compartment\": \"c\"}, \"672361\": {\"node_type\": \"metabolite\", \"x\": 3970.9912, \"y\": 4811.52683203125, \"bigg_id\": \"M_NADH@iJDZ836\", \"name\": \"NADH\", \"label_x\": 3992.711658984375, \"label_y\": 4832.88475390625, \"node_is_primary\": false, \"compartment\": \"c\"}, \"672368\": {\"node_type\": \"metabolite\", \"x\": 4938.79524609375, \"y\": 6614.474609375, \"bigg_id\": \"M_PPI@iJDZ836\", \"name\": \"PPi\", \"label_x\": 4945.44075390625, \"label_y\": 6648.66698046875, \"node_is_primary\": true, \"compartment\": \"c\"}, \"672369\": {\"node_type\": \"metabolite\", \"x\": 3197.36380546875, \"y\": 7257.37401171875, \"bigg_id\": \"M_OXALACETIC_ACID@iJDZ836\", \"name\": \"Oxaloacetate\", \"label_x\": 3241.490026171875, \"label_y\": 7240.09569140625, \"node_is_primary\": true, \"compartment\": \"c\"}, \"672374\": {\"node_type\": \"metabolite\", \"x\": 5868.27783203125, \"y\": 6091.81442890625, \"bigg_id\": \"M_NADH@iJDZ836\", \"name\": \"NADH\", \"label_x\": 5888.27783203125, \"label_y\": 6081.81342890625, \"node_is_primary\": false, \"compartment\": \"c\"}, \"672378\": {\"node_type\": \"metabolite\", \"x\": 3610.026123046875, \"y\": 3954.8300421875, \"bigg_id\": \"M_PROTON@iJDZ836\", \"name\": \"H+\", \"label_x\": 3588.305419921875, \"label_y\": 3989.762903515625, \"node_is_primary\": false, \"compartment\": \"c\"}, \"672382\": {\"node_type\": \"metabolite\", \"x\": 3327.36380546875, \"y\": 7557.37401171875, \"bigg_id\": \"M_PROTON__91__CCO__45__MIT__93__@iJDZ836\", \"name\": \"H+\", \"label_x\": 3211.479772265625, \"label_y\": 7532.08592578125, \"node_is_primary\": false, \"compartment\": \"m\"}, \"672388\": {\"node_type\": \"metabolite\", \"x\": 5814.763671875, \"y\": 7000.2755546875, \"bigg_id\": \"M_ACET__91__CCO__45__EXTRACELLULAR__93__@iJDZ836\", \"name\": \"Acetate\", \"label_x\": 5844.763671875, \"label_y\": 7000.2758546875, \"node_is_primary\": true, \"compartment\": \"e\"}, \"672391\": {\"node_type\": \"metabolite\", \"x\": 3931, \"y\": 6165.708171875, \"bigg_id\": \"M_ATP@iJDZ836\", \"name\": \"ATP\", \"label_x\": 3941, \"label_y\": 6145.708171875, \"node_is_primary\": false, \"compartment\": \"c\"}, \"672394\": {\"node_type\": \"metabolite\", \"x\": 5280.83528515625, \"y\": 6499.90623828125, \"bigg_id\": \"M_ATP@iJDZ836\", \"name\": \"ATP\", \"label_x\": 5270.83528515625, \"label_y\": 6479.90623828125, \"node_is_primary\": false, \"compartment\": \"c\"}, \"672398\": {\"node_type\": \"metabolite\", \"x\": 3980.9961296875, \"y\": 2278.446021484375, \"bigg_id\": \"M_ATP@iJDZ836\", \"name\": \"ATP\", \"label_x\": 4000.9961296875, \"label_y\": 2288.446021484375, \"node_is_primary\": false, \"compartment\": \"c\"}, \"672399\": {\"node_type\": \"metabolite\", \"x\": 4471.522296875, \"y\": 7743.635671875, \"bigg_id\": \"M_CIT__91__CCO__45__MIT__93__@iJDZ836\", \"name\": \"Citrate\", \"label_x\": 4348.98128125, \"label_y\": 7778.4213984375, \"node_is_primary\": true, \"compartment\": \"m\"}, \"672401\": {\"node_type\": \"metabolite\", \"x\": 5798.27783203125, \"y\": 6141.81442890625, \"bigg_id\": \"M_PROTON@iJDZ836\", \"name\": \"H+\", \"label_x\": 5798.27783203125, \"label_y\": 6161.81442890625, \"node_is_primary\": false, \"compartment\": \"c\"}, \"672405\": {\"node_type\": \"metabolite\", \"x\": 4520.993, \"y\": 6385.701171875, \"bigg_id\": \"M_CARBON__45__DIOXIDE@iJDZ836\", \"name\": \"CO2\", \"label_x\": 4540.993, \"label_y\": 6405.701671875, \"node_is_primary\": false, \"compartment\": \"c\"}, \"672407\": {\"node_type\": \"metabolite\", \"x\": 4091, \"y\": 6225.708171875, \"bigg_id\": \"M_PROTON@iJDZ836\", \"name\": \"H+\", \"label_x\": 4113.01904296875, \"label_y\": 6235.708171875, \"node_is_primary\": false, \"compartment\": \"c\"}, \"672409\": {\"node_type\": \"metabolite\", \"x\": 4993.8289375, \"y\": 7385.83447265625, \"bigg_id\": \"M_AMP__91__CCO__45__MIT__93__@iJDZ836\", \"name\": \"AMP\", \"label_x\": 5007.4822578125, \"label_y\": 7406.8676640625, \"node_is_primary\": false, \"compartment\": \"m\"}, \"672410\": {\"node_type\": \"metabolite\", \"x\": 4762.18098828125, \"y\": 7131.0082890625, \"bigg_id\": \"M_PROTON__91__CCO__45__MIT__93__@iJDZ836\", \"name\": \"H+\", \"label_x\": 4643.40169140625, \"label_y\": 7163.70358984375, \"node_is_primary\": false, \"compartment\": \"m\"}, \"672412\": {\"node_type\": \"metabolite\", \"x\": 5737.3466796875, \"y\": 9684.30924609375, \"bigg_id\": \"M_CARBON__45__DIOXIDE__91__CCO__45__EXTRACELLULAR__93__@iJDZ836\", \"name\": \"CO2\", \"label_x\": 5757.6406796875, \"label_y\": 9664.60324609375, \"node_is_primary\": true, \"compartment\": \"e\"}, \"672418\": {\"node_type\": \"metabolite\", \"x\": 3770.9912, \"y\": 4611.52783203125, \"bigg_id\": \"M_NAD@iJDZ836\", \"name\": \"NAD\", \"label_x\": 3689.040737109375, \"label_y\": 4622.8857421875, \"node_is_primary\": false, \"compartment\": \"c\"}, \"672425\": {\"node_type\": \"metabolite\", \"x\": 5668.27083203125, \"y\": 6311.80612890625, \"bigg_id\": \"M_ACETALD@iJDZ836\", \"name\": \"Acetaldehyde\", \"label_x\": 5714.526203125, \"label_y\": 6325.97605078125, \"node_is_primary\": true, \"compartment\": \"c\"}, \"672426\": {\"node_type\": \"metabolite\", \"x\": 4163.643634765625, \"y\": 9493.37744140625, \"bigg_id\": \"M_PROTON__91__CCO__45__MIT__93__@iJDZ836\", \"name\": \"H+\", \"label_x\": 4161.639240234375, \"label_y\": 9544.68017578125, \"node_is_primary\": false, \"compartment\": \"m\"}, \"681123\": {\"node_type\": \"metabolite\", \"x\": 4325.1035515625, \"y\": 2837.69480078125, \"bigg_id\": \"M_D__45__6__45__P__45__GLUCONO__45__DELTA__45__LACTONE@iJDZ836\", \"name\": \"6-phospho-D-glucono-1-5-lactone\", \"label_x\": 4308.17923515625, \"label_y\": 2881.356177734375, \"node_is_primary\": true, \"compartment\": \"c\"}, \"681124\": {\"node_type\": \"metabolite\", \"x\": 4244.24564140625, \"y\": 2787.966529296875, \"bigg_id\": \"M_NADPH@iJDZ836\", \"name\": \"NADPH\", \"label_x\": 4122.16946953125, \"label_y\": 2773.78171484375, \"node_is_primary\": false, \"compartment\": \"c\"}, \"681125\": {\"node_type\": \"metabolite\", \"x\": 3995.061315234375, \"y\": 2776.2929453125, \"bigg_id\": \"M_NADP@iJDZ836\", \"name\": \"NADP\", \"label_x\": 3949.694371875, \"label_y\": 2750.036109375, \"node_is_primary\": false, \"compartment\": \"c\"}, \"681126\": {\"node_type\": \"metabolite\", \"x\": 4289.8682, \"y\": 2776.387916015625, \"bigg_id\": \"M_PROTON@iJDZ836\", \"name\": \"H+\", \"label_x\": 4195.48294609375, \"label_y\": 2749.032203125, \"node_is_primary\": false, \"compartment\": \"c\"}, \"681131\": {\"node_type\": \"multimarker\", \"x\": 4533.62845390625, \"y\": 2835.385962890625}, \"681132\": {\"node_type\": \"midmarker\", \"x\": 4553.62845390625, \"y\": 2835.385962890625}, \"681133\": {\"node_type\": \"multimarker\", \"x\": 4573.62845390625, \"y\": 2835.385962890625}, \"681134\": {\"node_type\": \"metabolite\", \"x\": 4759.23099296875, \"y\": 2835.385962890625, \"bigg_id\": \"M_CPD__45__2961@iJDZ836\", \"name\": \"6-Phospho-D-gluconate\", \"label_x\": 4720.90482109375, \"label_y\": 2877.101783203125, \"node_is_primary\": true, \"compartment\": \"c\"}, \"681135\": {\"node_type\": \"metabolite\", \"x\": 4443.62845390625, \"y\": 2795.385962890625, \"bigg_id\": \"M_WATER@iJDZ836\", \"name\": \"H2O\", \"label_x\": 4409.06497734375, \"label_y\": 2769.107154296875, \"node_is_primary\": false, \"compartment\": \"c\"}, \"681136\": {\"node_type\": \"metabolite\", \"x\": 4663.62845390625, \"y\": 2795.385962890625, \"bigg_id\": \"M_PROTON@iJDZ836\", \"name\": \"H+\", \"label_x\": 4622.2041375, \"label_y\": 2767.39206640625, \"node_is_primary\": false, \"compartment\": \"c\"}, \"681137\": {\"node_type\": \"multimarker\", \"x\": 4956.77200859375, \"y\": 2835.38620703125}, \"681138\": {\"node_type\": \"midmarker\", \"x\": 5005.9297234375, \"y\": 2835.38620703125}, \"681139\": {\"node_type\": \"multimarker\", \"x\": 5058.5176140625, \"y\": 2835.38620703125}, \"681140\": {\"node_type\": \"metabolite\", \"x\": 5196.542028125, \"y\": 2773.08933203125, \"bigg_id\": \"M_CARBON__45__DIOXIDE@iJDZ836\", \"name\": \"CO2\", \"label_x\": 5146.542028125, \"label_y\": 2733.08933203125, \"node_is_primary\": false, \"compartment\": \"c\"}, \"681141\": {\"node_type\": \"metabolite\", \"x\": 4866.77200859375, \"y\": 2795.38620703125, \"bigg_id\": \"M_NADP@iJDZ836\", \"name\": \"NADP\", \"label_x\": 4816.77200859375, \"label_y\": 2774.25290625, \"node_is_primary\": false, \"compartment\": \"c\"}, \"681142\": {\"node_type\": \"metabolite\", \"x\": 5140.36185234375, \"y\": 2784.83640234375, \"bigg_id\": \"M_NADPH@iJDZ836\", \"name\": \"NADPH\", \"label_x\": 5043.76907890625, \"label_y\": 2756.895484375, \"node_is_primary\": false, \"compartment\": \"c\"}, \"681143\": {\"node_type\": \"metabolite\", \"x\": 5279.36282890625, \"y\": 2837.9491953125, \"bigg_id\": \"M_RIBULOSE__45__5P@iJDZ836\", \"name\": \"D-Ribulose5-phosphate\", \"label_x\": 5313.02445, \"label_y\": 2809.622779296875, \"node_is_primary\": true, \"compartment\": \"c\"}, \"681147\": {\"node_type\": \"metabolite\", \"x\": 5120.71243828125, \"y\": 3345.09226171875, \"bigg_id\": \"M_XYLULOSE__45__5__45__PHOSPHATE@iJDZ836\", \"name\": \"D-Xylulose5-phosphate\", \"label_x\": 5074.2715203125, \"label_y\": 3398.425025390625, \"node_is_primary\": true, \"compartment\": \"c\"}, \"681151\": {\"node_type\": \"metabolite\", \"x\": 5423.31700484071, \"y\": 3343.297057432646, \"bigg_id\": \"M_RIBOSE__45__5P@iJDZ836\", \"name\": \"ribose-5-phosphate\", \"label_x\": 5453.31700484071, \"label_y\": 3353.297057432646, \"node_is_primary\": true, \"compartment\": \"c\"}, \"681158\": {\"node_type\": \"multimarker\", \"x\": 4641.964501641491, \"y\": 3346.9925126598264}, \"681159\": {\"node_type\": \"midmarker\", \"x\": 4621.967866171905, \"y\": 3346.6256749621466}, \"681160\": {\"node_type\": \"multimarker\", \"x\": 4601.971230702316, \"y\": 3346.2588372644705}, \"681161\": {\"node_type\": \"metabolite\", \"x\": 4767.266955390531, \"y\": 3531.284990738559, \"bigg_id\": \"M_ERYTHROSE__45__4P@iJDZ836\", \"name\": \"D-Erythrose4-phosphate\", \"label_x\": 4813.325060859281, \"label_y\": 3527.031572769809, \"node_is_primary\": true, \"compartment\": \"c\"}, \"681162\": {\"node_type\": \"metabolite\", \"x\": 3875.088658984375, \"y\": 4524.4687265625, \"bigg_id\": \"M_GAP@iJDZ836\", \"name\": \"Glyceraldehyde3-phosphate\", \"label_x\": 3714.300084765625, \"label_y\": 4556.01023046875, \"node_is_primary\": true, \"compartment\": \"c\"}, \"681164\": {\"node_type\": \"multimarker\", \"x\": 4942.049554298362, \"y\": 3675.7080380252555}, \"681165\": {\"node_type\": \"midmarker\", \"x\": 4922.053186543958, \"y\": 3675.3268863091853}, \"681166\": {\"node_type\": \"multimarker\", \"x\": 4902.056818789554, \"y\": 3674.945734593115}, \"681173\": {\"node_type\": \"metabolite\", \"x\": 5040.929878273369, \"y\": 3878.968794133345, \"bigg_id\": \"M_ATP@iJDZ836\", \"name\": \"ATP\", \"label_x\": 4985.596870460869, \"label_y\": 3856.96854999272, \"node_is_primary\": false, \"compartment\": \"c\"}, \"681175\": {\"node_type\": \"metabolite\", \"x\": 4870.34437397015, \"y\": 3986.2896125675525, \"bigg_id\": \"M_ADP@iJDZ836\", \"name\": \"ADP\", \"label_x\": 4786.62269428265, \"label_y\": 4022.8726203800525, \"node_is_primary\": false, \"compartment\": \"c\"}, \"681176\": {\"node_type\": \"metabolite\", \"x\": 4868.167165846347, \"y\": 3902.4281312442267, \"bigg_id\": \"M_PROTON@iJDZ836\", \"name\": \"H+\", \"label_x\": 4865.676931471347, \"label_y\": 3882.8915101504767, \"node_is_primary\": false, \"compartment\": \"c\"}, \"681185\": {\"node_type\": \"metabolite\", \"x\": 6870.873052628173, \"y\": 6887.190731609882, \"bigg_id\": \"M_NAD__91__CCO__45__MIT__93__@iJDZ836\", \"name\": \"NAD\", \"label_x\": 6900.873052628173, \"label_y\": 6897.190731609882, \"node_is_primary\": false, \"compartment\": \"m\"}, \"681186\": {\"node_type\": \"metabolite\", \"x\": 6815.922907926646, \"y\": 7100.217682011192, \"bigg_id\": \"M_PROTON__91__CCO__45__MIT__93__@iJDZ836\", \"name\": \"H+\", \"label_x\": 6845.922907926646, \"label_y\": 7110.217682011192, \"node_is_primary\": false, \"compartment\": \"m\"}, \"681187\": {\"node_type\": \"metabolite\", \"x\": 6738.458562326172, \"y\": 7080.235811210637, \"bigg_id\": \"M_NADH__91__CCO__45__MIT__93__@iJDZ836\", \"name\": \"NADH\", \"label_x\": 6613.862859201172, \"label_y\": 7090.235811210637, \"node_is_primary\": false, \"compartment\": \"m\"}, \"681198\": {\"node_type\": \"metabolite\", \"x\": 2807.434362109375, \"y\": 2841.290259765625, \"bigg_id\": \"M_GLC__45__6__45__P@iJDZ836\", \"name\": \"beta-D-Glucose 6-phosphate\", \"label_x\": 2625.2197625, \"label_y\": 2878.965796875, \"node_is_primary\": true, \"compartment\": \"c\"}, \"681199\": {\"node_type\": \"metabolite\", \"x\": 3286.5371453125, \"y\": 2652.66257421875, \"bigg_id\": \"M_PROTON@iJDZ836\", \"name\": \"H+\", \"label_x\": 3301.5371453125, \"label_y\": 2652.66257421875, \"node_is_primary\": false, \"compartment\": \"c\"}, \"681200\": {\"node_type\": \"metabolite\", \"x\": 3162.418248828125, \"y\": 2567.680884765625, \"bigg_id\": \"M_ADP@iJDZ836\", \"name\": \"ADP\", \"label_x\": 3077.76028984375, \"label_y\": 2529.695533203125, \"node_is_primary\": false, \"compartment\": \"c\"}, \"681201\": {\"node_type\": \"metabolite\", \"x\": 3349.378209765625, \"y\": 2416.22409765625, \"bigg_id\": \"M_ATP@iJDZ836\", \"name\": \"ATP\", \"label_x\": 3317.597448046875, \"label_y\": 2385.792701171875, \"node_is_primary\": false, \"compartment\": \"c\"}, \"681218\": {\"node_type\": \"multimarker\", \"x\": 5120.71243828125, \"y\": 3122.386939453125}, \"681219\": {\"node_type\": \"midmarker\", \"x\": 5120.71243828125, \"y\": 3142.386939453125}, \"681220\": {\"node_type\": \"multimarker\", \"x\": 5120.71243828125, \"y\": 3162.386939453125}, \"681226\": {\"node_type\": \"metabolite\", \"x\": 5774.736572265625, \"y\": 2053.734130859375, \"bigg_id\": \"M_PROTON__91__CCO__45__EXTRACELLULAR__93__@iJDZ836\", \"name\": \"H+\", \"label_x\": 5748.558837890625, \"label_y\": 2090.58251953125, \"node_is_primary\": false, \"compartment\": \"e\"}, \"681227\": {\"node_type\": \"multimarker\", \"x\": 5855.342041015625, \"y\": 2151.15869140625}, \"681228\": {\"node_type\": \"midmarker\", \"x\": 5855.342041015625, \"y\": 2171.15869140625}, \"681229\": {\"node_type\": \"multimarker\", \"x\": 5855.342041015625, \"y\": 2191.15869140625}, \"681230\": {\"node_type\": \"metabolite\", \"x\": 5854.318603515625, \"y\": 2428.043701171875, \"bigg_id\": \"M_Pi@iJDZ836\", \"name\": \"Phosphate\", \"label_x\": 5855.776611328125, \"label_y\": 2488.433837890625, \"node_is_primary\": true, \"compartment\": \"c\"}, \"681231\": {\"node_type\": \"metabolite\", \"x\": 5775.342041015625, \"y\": 2276.15869140625, \"bigg_id\": \"M_PROTON@iJDZ836\", \"name\": \"H+\", \"label_x\": 5746.289794921875, \"label_y\": 2304.1064453125, \"node_is_primary\": false, \"compartment\": \"c\"}, \"681232\": {\"node_type\": \"metabolite\", \"x\": 5854.668212890625, \"y\": 1910.577392578125, \"bigg_id\": \"M_Pi__91__CCO__45__EXTRACELLULAR__93__@iJDZ836\", \"name\": \"Phosphate\", \"label_x\": 5836.068603515625, \"label_y\": 1873.022216796875, \"node_is_primary\": true, \"compartment\": \"e\"}, \"681233\": {\"node_type\": \"metabolite\", \"x\": 6616.09716796875, \"y\": 3455.67822265625, \"bigg_id\": \"M_WATER@iJDZ836\", \"name\": \"H2O\", \"label_x\": 6589.09716796875, \"label_y\": 3495.67822265625, \"node_is_primary\": true, \"compartment\": \"c\"}, \"681234\": {\"node_type\": \"multimarker\", \"x\": 6735.73095703125, \"y\": 3346.5908203125}, \"681235\": {\"node_type\": \"midmarker\", \"x\": 6755.73095703125, \"y\": 3346.5908203125}, \"681236\": {\"node_type\": \"multimarker\", \"x\": 6775.73095703125, \"y\": 3346.5908203125}, \"681237\": {\"node_type\": \"metabolite\", \"x\": 6917.740234375, \"y\": 3047.797607421875, \"bigg_id\": \"M_PROTON__91__CCO__45__EXTRACELLULAR__93__@iJDZ836\", \"name\": \"H+\", \"label_x\": 6949.46845703125, \"label_y\": 3087.797607421875, \"node_is_primary\": true, \"compartment\": \"e\"}, \"681238\": {\"node_type\": \"metabolite\", \"x\": 6903.043212890625, \"y\": 3467.77392578125, \"bigg_id\": \"M_Pi@iJDZ836\", \"name\": \"Phosphate\", \"label_x\": 6894.428076171875, \"label_y\": 3511.329833984375, \"node_is_primary\": true, \"compartment\": \"c\"}, \"681239\": {\"node_type\": \"metabolite\", \"x\": 7065.40625, \"y\": 3348.599609375, \"bigg_id\": \"M_ADP@iJDZ836\", \"name\": \"ADP\", \"label_x\": 7038.40625, \"label_y\": 3388.599609375, \"node_is_primary\": true, \"compartment\": \"c\"}, \"681240\": {\"node_type\": \"metabolite\", \"x\": 6462.79638671875, \"y\": 3347.31640625, \"bigg_id\": \"M_ATP@iJDZ836\", \"name\": \"ATP\", \"label_x\": 6435.79638671875, \"label_y\": 3387.31640625, \"node_is_primary\": true, \"compartment\": \"c\"}, \"681278\": {\"node_type\": \"metabolite\", \"x\": 6331.9794921875, \"y\": 2850.957275390625, \"bigg_id\": \"M_Pi__91__CCO__45__MIT__93__@iJDZ836\", \"name\": \"Phosphate\", \"label_x\": 6310.3794921875, \"label_y\": 2890.957275390625, \"node_is_primary\": false, \"compartment\": \"m\"}, \"681282\": {\"node_type\": \"metabolite\", \"x\": 7167.9794921875, \"y\": 2728.957275390625, \"bigg_id\": \"M_ATP__91__CCO__45__MIT__93__@iJDZ836\", \"name\": \"ATP\", \"label_x\": 7140.9794921875, \"label_y\": 2768.957275390625, \"node_is_primary\": true, \"compartment\": \"m\"}, \"681284\": {\"node_type\": \"metabolite\", \"x\": 6179.9794921875, \"y\": 2726.957275390625, \"bigg_id\": \"M_ADP__91__CCO__45__MIT__93__@iJDZ836\", \"name\": \"ADP\", \"label_x\": 6144.9794921875, \"label_y\": 2772.957275390625, \"node_is_primary\": true, \"compartment\": \"m\"}, \"681285\": {\"node_type\": \"metabolite\", \"x\": 6488.98388671875, \"y\": 3016.990478515625, \"bigg_id\": \"M_PROTON__91__CCO__45__MIT__93__@iJDZ836\", \"name\": \"H+\", \"label_x\": 6472.78388671875, \"label_y\": 3056.990478515625, \"node_is_primary\": true, \"compartment\": \"m\"}, \"681286\": {\"node_type\": \"metabolite\", \"x\": 6520.9775390625, \"y\": 2491.910888671875, \"bigg_id\": \"M_PROTON@iJDZ836\", \"name\": \"H+\", \"label_x\": 6514.7775390625, \"label_y\": 2457.910888671875, \"node_is_primary\": true, \"compartment\": \"c\"}, \"681295\": {\"node_type\": \"metabolite\", \"x\": 6821.9794921875, \"y\": 1924.957275390625, \"bigg_id\": \"M_WATER__91__CCO__45__EXTRACELLULAR__93__@iJDZ836\", \"name\": \"H2O\", \"label_x\": 6768.441256507338, \"label_y\": 1885.4579285779273, \"node_is_primary\": true, \"compartment\": \"e\"}, \"681303\": {\"node_type\": \"multimarker\", \"x\": 6821.9794921875, \"y\": 2079.957275390625}, \"681304\": {\"node_type\": \"midmarker\", \"x\": 6821.9794921875, \"y\": 2099.957275390625}, \"681305\": {\"node_type\": \"multimarker\", \"x\": 6821.9794921875, \"y\": 2119.957275390625}, \"681306\": {\"node_type\": \"metabolite\", \"x\": 6821.9794921875, \"y\": 2274.957275390625, \"bigg_id\": \"M_WATER@iJDZ836\", \"name\": \"H2O\", \"label_x\": 6846.9794921875, \"label_y\": 2274.957275390625, \"node_is_primary\": true, \"compartment\": \"c\"}, \"681307\": {\"node_type\": \"multimarker\", \"x\": 6821.9794921875, \"y\": 2429.957275390625}, \"681308\": {\"node_type\": \"midmarker\", \"x\": 6821.9794921875, \"y\": 2449.957275390625}, \"681309\": {\"node_type\": \"multimarker\", \"x\": 6821.9794921875, \"y\": 2469.957275390625}, \"681310\": {\"node_type\": \"metabolite\", \"x\": 6821.9794921875, \"y\": 2624.957275390625, \"bigg_id\": \"M_WATER__91__CCO__45__MIT__93__@iJDZ836\", \"name\": \"H2O\", \"label_x\": 6846.9794921875, \"label_y\": 2624.957275390625, \"node_is_primary\": true, \"compartment\": \"m\"}, \"681311\": {\"node_type\": \"multimarker\", \"x\": 2808.06693046875, \"y\": 2461.565162109375}, \"681312\": {\"node_type\": \"midmarker\", \"x\": 2808.06693046875, \"y\": 2481.565162109375}, \"681313\": {\"node_type\": \"multimarker\", \"x\": 2808.06693046875, \"y\": 2501.565162109375}, \"681314\": {\"node_type\": \"metabolite\", \"x\": 2864.721471484375, \"y\": 2348.11228125, \"bigg_id\": \"M_ATP@iJDZ836\", \"name\": \"ATP\", \"label_x\": 2889.721471484375, \"label_y\": 2348.11228125, \"node_is_primary\": false, \"compartment\": \"c\"}, \"681315\": {\"node_type\": \"metabolite\", \"x\": 2806.862096484375, \"y\": 2178.274634765625, \"bigg_id\": \"M_GLC@iJDZ836\", \"name\": \"beta-D-Glucose\", \"label_x\": 2842.63528984375, \"label_y\": 2217.932837890625, \"node_is_primary\": true, \"compartment\": \"c\"}, \"681316\": {\"node_type\": \"metabolite\", \"x\": 2886.69974296875, \"y\": 2567.680396484375, \"bigg_id\": \"M_ADP@iJDZ836\", \"name\": \"ADP\", \"label_x\": 2913.78568046875, \"label_y\": 2552.35691015625, \"node_is_primary\": false, \"compartment\": \"c\"}, \"681317\": {\"node_type\": \"metabolite\", \"x\": 2859.739537890625, \"y\": 2609.22702734375, \"bigg_id\": \"M_PROTON@iJDZ836\", \"name\": \"H+\", \"label_x\": 2874.739537890625, \"label_y\": 2609.22702734375, \"node_is_primary\": false, \"compartment\": \"c\"}, \"681322\": {\"node_type\": \"multimarker\", \"x\": 2351.25150078125, \"y\": 2183.940162109375}, \"681323\": {\"node_type\": \"midmarker\", \"x\": 2371.25150078125, \"y\": 2183.940162109375}, \"681324\": {\"node_type\": \"multimarker\", \"x\": 2391.25150078125, \"y\": 2183.940162109375}, \"681325\": {\"node_type\": \"metabolite\", \"x\": 1967.744908984375, \"y\": 2185.82858984375, \"bigg_id\": \"M_ALPHA__45__GLUCOSE@iJDZ836\", \"name\": \"alpha-D-Glucose\", \"label_x\": 1995.3067986328124, \"label_y\": 2225.46384375, \"node_is_primary\": true, \"compartment\": \"c\"}, \"681326\": {\"node_type\": \"multimarker\", \"x\": 1967.744908984375, \"y\": 2473.0224375}, \"681327\": {\"node_type\": \"midmarker\", \"x\": 1967.744908984375, \"y\": 2493.0224375}, \"681328\": {\"node_type\": \"multimarker\", \"x\": 1967.744908984375, \"y\": 2513.0224375}, \"681329\": {\"node_type\": \"metabolite\", \"x\": 2025.604283984375, \"y\": 2361.58347265625, \"bigg_id\": \"M_ATP@iJDZ836\", \"name\": \"ATP\", \"label_x\": 2020.5859734375, \"label_y\": 2336.817603515625, \"node_is_primary\": false, \"compartment\": \"c\"}, \"681330\": {\"node_type\": \"metabolite\", \"x\": 2054.6152703125, \"y\": 2607.590796875, \"bigg_id\": \"M_ADP@iJDZ836\", \"name\": \"ADP\", \"label_x\": 2079.6151482421874, \"label_y\": 2598.148169921875, \"node_is_primary\": false, \"compartment\": \"c\"}, \"681331\": {\"node_type\": \"metabolite\", \"x\": 2032.63724296875, \"y\": 2649.011451171875, \"bigg_id\": \"M_PROTON@iJDZ836\", \"name\": \"H+\", \"label_x\": 2032.5293328125, \"label_y\": 2686.780982421875, \"node_is_primary\": false, \"compartment\": \"c\"}, \"681332\": {\"node_type\": \"metabolite\", \"x\": 1967.0611931640624, \"y\": 2843.872046875, \"bigg_id\": \"M_ALPHA__45__GLC__45__6__45__P@iJDZ836\", \"name\": \"alpha-D-Glucose 6-phosphate\", \"label_x\": 1818.5182244140624, \"label_y\": 2853.098609375, \"node_is_primary\": true, \"compartment\": \"c\"}, \"681345\": {\"node_type\": \"multimarker\", \"x\": 2808.066686328125, \"y\": 3023.075416015625}, \"681346\": {\"node_type\": \"midmarker\", \"x\": 2808.066686328125, \"y\": 3043.075416015625}, \"681347\": {\"node_type\": \"multimarker\", \"x\": 2808.066686328125, \"y\": 3063.075416015625}, \"681348\": {\"node_type\": \"metabolite\", \"x\": 2809.9551140625, \"y\": 3314.387916015625, \"bigg_id\": \"M_FRUCTOSE__45__6P@iJDZ836\", \"name\": \"beta-D-Fructose 6-phosphate\", \"label_x\": 2833.074987109375, \"label_y\": 3353.867896484375, \"node_is_primary\": true, \"compartment\": \"c\"}, \"681355\": {\"node_type\": \"metabolite\", \"x\": 2812.36478203125, \"y\": 3898.630103515625, \"bigg_id\": \"M_FRUCTOSE__45__16__45__DIPHOSPHATE@iJDZ836\", \"name\": \"beta-D-Fructose 1,6-bisphosphate\", \"label_x\": 2835.445104296875, \"label_y\": 3951.790259765625, \"node_is_primary\": true, \"compartment\": \"c\"}, \"681356\": {\"node_type\": \"multimarker\", \"x\": 2818.009557421875, \"y\": 4102.623267578125}, \"681357\": {\"node_type\": \"midmarker\", \"x\": 2818.009557421875, \"y\": 4122.623267578125}, \"681358\": {\"node_type\": \"multimarker\", \"x\": 2818.009557421875, \"y\": 4142.623267578125}, \"681361\": {\"node_type\": \"multimarker\", \"x\": 2814.2363640625, \"y\": 3599.7460703125}, \"681362\": {\"node_type\": \"midmarker\", \"x\": 2814.2363640625, \"y\": 3619.7460703125}, \"681363\": {\"node_type\": \"multimarker\", \"x\": 2814.2363640625, \"y\": 3639.7460703125}, \"681364\": {\"node_type\": \"metabolite\", \"x\": 2884.1103875, \"y\": 3486.292701171875, \"bigg_id\": \"M_ATP@iJDZ836\", \"name\": \"ATP\", \"label_x\": 2909.1103875, \"label_y\": 3486.292701171875, \"node_is_primary\": false, \"compartment\": \"c\"}, \"681366\": {\"node_type\": \"metabolite\", \"x\": 2904.19974296875, \"y\": 3720.968970703125, \"bigg_id\": \"M_ADP@iJDZ836\", \"name\": \"ADP\", \"label_x\": 2936.950963671875, \"label_y\": 3735.861060546875, \"node_is_primary\": false, \"compartment\": \"c\"}, \"681367\": {\"node_type\": \"metabolite\", \"x\": 2881.016881640625, \"y\": 3771.957984375, \"bigg_id\": \"M_PROTON@iJDZ836\", \"name\": \"H+\", \"label_x\": 2896.016881640625, \"label_y\": 3771.957984375, \"node_is_primary\": false, \"compartment\": \"c\"}, \"681368\": {\"node_type\": \"multimarker\", \"x\": 2962.291783984375, \"y\": 3125.053443359375}, \"681369\": {\"node_type\": \"midmarker\", \"x\": 3009.503698046875, \"y\": 3137.499732421875}, \"681370\": {\"node_type\": \"multimarker\", \"x\": 3068.0469109375, \"y\": 3151.834205078125}, \"681376\": {\"node_type\": \"multimarker\", \"x\": 2361.898717578125, \"y\": 2841.636939453125}, \"681377\": {\"node_type\": \"midmarker\", \"x\": 2381.898717578125, \"y\": 2841.636939453125}, \"681378\": {\"node_type\": \"multimarker\", \"x\": 2401.898717578125, \"y\": 2841.636939453125}, \"681397\": {\"node_type\": \"multimarker\", \"x\": 3453.47025078125, \"y\": 2998.60788671875}, \"681398\": {\"node_type\": \"midmarker\", \"x\": 3473.47025078125, \"y\": 2998.60788671875}, \"681399\": {\"node_type\": \"multimarker\", \"x\": 3493.47025078125, \"y\": 2998.60788671875}, \"681400\": {\"node_type\": \"metabolite\", \"x\": 3344.609166796875, \"y\": 2936.6972421875, \"bigg_id\": \"M_NADP@iJDZ836\", \"name\": \"NADP\", \"label_x\": 3281.818151171875, \"label_y\": 2905.113990234375, \"node_is_primary\": false, \"compartment\": \"c\"}, \"681401\": {\"node_type\": \"metabolite\", \"x\": 3566.84036796875, \"y\": 2940.839087890625, \"bigg_id\": \"M_NADPH@iJDZ836\", \"name\": \"NADPH\", \"label_x\": 3488.979283984375, \"label_y\": 2914.2792734375, \"node_is_primary\": false, \"compartment\": \"c\"}, \"681402\": {\"node_type\": \"metabolite\", \"x\": 3617.401403125, \"y\": 2924.887427734375, \"bigg_id\": \"M_PROTON@iJDZ836\", \"name\": \"H+\", \"label_x\": 3602.33255546875, \"label_y\": 2899.864234375, \"node_is_primary\": false, \"compartment\": \"c\"}, \"681411\": {\"node_type\": \"metabolite\", \"x\": 3280.80521171875, \"y\": 3891.110083984375, \"bigg_id\": \"M_ATP@iJDZ836\", \"name\": \"ATP\", \"label_x\": 3275.685338671875, \"label_y\": 3874.7099375, \"node_is_primary\": false, \"compartment\": \"c\"}, \"681413\": {\"node_type\": \"metabolite\", \"x\": 3017.725377734375, \"y\": 3828.03025, \"bigg_id\": \"M_ADP@iJDZ836\", \"name\": \"ADP\", \"label_x\": 3044.565709765625, \"label_y\": 3817.43015234375, \"node_is_primary\": false, \"compartment\": \"c\"}, \"681414\": {\"node_type\": \"metabolite\", \"x\": 2989.5254265625, \"y\": 3944.790015625, \"bigg_id\": \"M_PROTON@iJDZ836\", \"name\": \"H+\", \"label_x\": 2935.5254265625, \"label_y\": 3984.790015625, \"node_is_primary\": false, \"compartment\": \"c\"}, \"681415\": {\"node_type\": \"multimarker\", \"x\": 2673.244420703125, \"y\": 3732.35007421875}, \"681416\": {\"node_type\": \"midmarker\", \"x\": 2673.244420703125, \"y\": 3612.709693359375}, \"681417\": {\"node_type\": \"multimarker\", \"x\": 2675.124303515625, \"y\": 3447.9491953125}, \"681418\": {\"node_type\": \"metabolite\", \"x\": 2610.364049609375, \"y\": 3830.51023046875, \"bigg_id\": \"M_WATER@iJDZ836\", \"name\": \"H2O\", \"label_x\": 2491.883580859375, \"label_y\": 3800.43015234375, \"node_is_primary\": false, \"compartment\": \"c\"}, \"681419\": {\"node_type\": \"metabolite\", \"x\": 2613.084264453125, \"y\": 3381.309546875, \"bigg_id\": \"M_Pi@iJDZ836\", \"name\": \"Phosphate\", \"label_x\": 2517.763951953125, \"label_y\": 3422.669654296875, \"node_is_primary\": false, \"compartment\": \"c\"}, \"681441\": {\"node_type\": \"multimarker\", \"x\": 3172.31693046875, \"y\": 3247.496802734375}, \"681442\": {\"node_type\": \"midmarker\", \"x\": 3204.323033984375, \"y\": 3242.351294921875}, \"681443\": {\"node_type\": \"multimarker\", \"x\": 3244.90482109375, \"y\": 3235.49069921875}, \"681444\": {\"node_type\": \"metabolite\", \"x\": 3058.65384453125, \"y\": 3345.14304296875, \"bigg_id\": \"M_GAP@iJDZ836\", \"name\": \"Glyceraldehyde3-phosphate\", \"label_x\": 2994.696325, \"label_y\": 3394.048560546875, \"node_is_primary\": true, \"compartment\": \"c\"}, \"681446\": {\"node_type\": \"metabolite\", \"x\": 3366.4180046875, \"y\": 3336.567359375, \"bigg_id\": \"M_ERYTHROSE__45__4P@iJDZ836\", \"name\": \"D-Erythrose4-phosphate\", \"label_x\": 3318.05814140625, \"label_y\": 3406.6474375, \"node_is_primary\": true, \"compartment\": \"c\"}, \"681451\": {\"node_type\": \"metabolite\", \"x\": 4298.438000781251, \"y\": 8874.42915234375, \"bigg_id\": \"M_CO__45__A__91__CCO__45__MIT__93__@iJDZ836\", \"name\": \"CoA\", \"label_x\": 4153.079114062501, \"label_y\": 8866.49555859375, \"node_is_primary\": false, \"compartment\": \"m\"}, \"681454\": {\"node_type\": \"metabolite\", \"x\": 3933.4140750000006, \"y\": 9030.01508984375, \"bigg_id\": \"M_CARBON__45__DIOXIDE__91__CCO__45__MIT__93__@iJDZ836\", \"name\": \"CO2\", \"label_x\": 3842.3750125000006, \"label_y\": 9011.52094921875, \"node_is_primary\": false, \"compartment\": \"m\"}, \"681459\": {\"node_type\": \"metabolite\", \"x\": 5140.343830078125, \"y\": 9430.91250390625, \"bigg_id\": \"M_PROTON__91__CCO__45__MIT__93__@iJDZ836\", \"name\": \"H+\", \"label_x\": 5095.672443359375, \"label_y\": 9465.55117578125, \"node_is_primary\": false, \"compartment\": \"m\"}, \"681460\": {\"node_type\": \"metabolite\", \"x\": 5014.932697265625, \"y\": 9610.86172265625, \"bigg_id\": \"M_CARBON__45__DIOXIDE__91__CCO__45__MIT__93__@iJDZ836\", \"name\": \"CO2\", \"label_x\": 4960.932697265625, \"label_y\": 9650.86172265625, \"node_is_primary\": false, \"compartment\": \"m\"}, \"681473\": {\"node_type\": \"metabolite\", \"x\": 4000.5659980468754, \"y\": 9847.40469140625, \"bigg_id\": \"M_CO__45__A__91__CCO__45__MIT__93__@iJDZ836\", \"name\": \"CoA\", \"label_x\": 3946.5659980468754, \"label_y\": 9827.40469140625, \"node_is_primary\": false, \"compartment\": \"m\"}, \"681479\": {\"node_type\": \"metabolite\", \"x\": 4126.673884765625, \"y\": 10295.84316796875, \"bigg_id\": \"M_CO__45__A__91__CCO__45__MIT__93__@iJDZ836\", \"name\": \"CoA\", \"label_x\": 4079.330623046875, \"label_y\": 10345.07266015625, \"node_is_primary\": false, \"compartment\": \"m\"}, \"681484\": {\"node_type\": \"metabolite\", \"x\": 4745.169978515625, \"y\": 10263.79726953125, \"bigg_id\": \"M_PROTON__91__CCO__45__MIT__93__@iJDZ836\", \"name\": \"H+\", \"label_x\": 4728.447322265625, \"label_y\": 10302.37637109375, \"node_is_primary\": false, \"compartment\": \"m\"}, \"681486\": {\"node_type\": \"metabolite\", \"x\": 4495.230525390625, \"y\": 10282.67715234375, \"bigg_id\": \"M_CARBON__45__DIOXIDE__91__CCO__45__MIT__93__@iJDZ836\", \"name\": \"CO2\", \"label_x\": 4441.230525390625, \"label_y\": 10322.67715234375, \"node_is_primary\": false, \"compartment\": \"m\"}, \"681491\": {\"node_type\": \"metabolite\", \"x\": 4677.747638671875, \"y\": 9691.64394921875, \"bigg_id\": \"M_PROTON__91__CCO__45__MIT__93__@iJDZ836\", \"name\": \"H+\", \"label_x\": 4629.014240234375, \"label_y\": 9667.70644921875, \"node_is_primary\": false, \"compartment\": \"m\"}, \"681493\": {\"node_type\": \"metabolite\", \"x\": 4437.211505859375, \"y\": 9636.21621484375, \"bigg_id\": \"M_CARBON__45__DIOXIDE__91__CCO__45__MIT__93__@iJDZ836\", \"name\": \"CO2\", \"label_x\": 4393.787677734375, \"label_y\": 9614.97793359375, \"node_is_primary\": false, \"compartment\": \"m\"}, \"681497\": {\"node_type\": \"metabolite\", \"x\": 4208.782771484375, \"y\": 10122.91641015625, \"bigg_id\": \"M_NAD__91__CCO__45__MIT__93__@iJDZ836\", \"name\": \"NAD\", \"label_x\": 4122.831111328125, \"label_y\": 10153.59707421875, \"node_is_primary\": false, \"compartment\": \"m\"}, \"681499\": {\"node_type\": \"metabolite\", \"x\": 4466.150447265625, \"y\": 10120.37344140625, \"bigg_id\": \"M_NADH__91__CCO__45__MIT__93__@iJDZ836\", \"name\": \"NADH\", \"label_x\": 4426.794978515625, \"label_y\": 10147.06094140625, \"node_is_primary\": false, \"compartment\": \"m\"}, \"681500\": {\"node_type\": \"metabolite\", \"x\": 4430.204646484375, \"y\": 10005.64004296875, \"bigg_id\": \"M_PROTON__91__CCO__45__MIT__93__@iJDZ836\", \"name\": \"H+\", \"label_x\": 4396.174373046875, \"label_y\": 9980.31484765625, \"node_is_primary\": false, \"compartment\": \"m\"}, \"681512\": {\"node_type\": \"metabolite\", \"x\": 2936.673131640625, \"y\": 6200.69432421875, \"bigg_id\": \"M_WATER@iJDZ836\", \"name\": \"H2O\", \"label_x\": 2833.673131640625, \"label_y\": 6235.36131640625, \"node_is_primary\": false, \"compartment\": \"c\"}, \"681513\": {\"node_type\": \"metabolite\", \"x\": 2926.006627734375, \"y\": 6258.69432421875, \"bigg_id\": \"M_ATP@iJDZ836\", \"name\": \"ATP\", \"label_x\": 2836.006627734375, \"label_y\": 6288.69432421875, \"node_is_primary\": false, \"compartment\": \"c\"}, \"681514\": {\"node_type\": \"metabolite\", \"x\": 2969.9785515625, \"y\": 6138.07616015625, \"bigg_id\": \"M_CARBON__45__DIOXIDE@iJDZ836\", \"name\": \"CO2\", \"label_x\": 2859.645299609375, \"label_y\": 6163.40965625, \"node_is_primary\": false, \"compartment\": \"c\"}, \"681516\": {\"node_type\": \"metabolite\", \"x\": 2931.3398796875, \"y\": 6536.69432421875, \"bigg_id\": \"M_ADP@iJDZ836\", \"name\": \"ADP\", \"label_x\": 2841.3398796875, \"label_y\": 6566.69432421875, \"node_is_primary\": false, \"compartment\": \"c\"}, \"681517\": {\"node_type\": \"metabolite\", \"x\": 3042.00638359375, \"y\": 6571.360828125, \"bigg_id\": \"M_Pi@iJDZ836\", \"name\": \"Phosphate\", \"label_x\": 3002.339635546875, \"label_y\": 6607.360828125, \"node_is_primary\": false, \"compartment\": \"c\"}, \"681518\": {\"node_type\": \"metabolite\", \"x\": 3048.673131640625, \"y\": 6520.69432421875, \"bigg_id\": \"M_PROTON@iJDZ836\", \"name\": \"H+\", \"label_x\": 3037.00638359375, \"label_y\": 6550.02733203125, \"node_is_primary\": false, \"compartment\": \"c\"}, \"681519\": {\"node_type\": \"multimarker\", \"x\": 2683.05911796875, \"y\": 6327.84373828125}, \"681520\": {\"node_type\": \"midmarker\", \"x\": 2683.05911796875, \"y\": 6307.84373828125}, \"681521\": {\"node_type\": \"multimarker\", \"x\": 2683.05911796875, \"y\": 6287.84373828125}, \"681522\": {\"node_type\": \"metabolite\", \"x\": 2603.05911796875, \"y\": 6412.84373828125, \"bigg_id\": \"M_Pi@iJDZ836\", \"name\": \"Phosphate\", \"label_x\": 2513.05911796875, \"label_y\": 6442.84373828125, \"node_is_primary\": false, \"compartment\": \"c\"}, \"681523\": {\"node_type\": \"metabolite\", \"x\": 2599.13724296875, \"y\": 6517.34373828125, \"bigg_id\": \"M_PROTON@iJDZ836\", \"name\": \"H+\", \"label_x\": 2533.352819140625, \"label_y\": 6559.040515625, \"node_is_primary\": false, \"compartment\": \"c\"}, \"681524\": {\"node_type\": \"metabolite\", \"x\": 2586.75491875, \"y\": 6122.59862109375, \"bigg_id\": \"M_WATER@iJDZ836\", \"name\": \"H2O\", \"label_x\": 2581.0195671875, \"label_y\": 6087.76561328125, \"node_is_primary\": false, \"compartment\": \"c\"}, \"681525\": {\"node_type\": \"metabolite\", \"x\": 2590.764928515625, \"y\": 6196.696765625, \"bigg_id\": \"M_CARBON__45__DIOXIDE@iJDZ836\", \"name\": \"CO2\", \"label_x\": 2516.764928515625, \"label_y\": 6242.696765625, \"node_is_primary\": false, \"compartment\": \"c\"}, \"681526\": {\"node_type\": \"multimarker\", \"x\": 4978.0232734375, \"y\": 8033.45601953125}, \"681527\": {\"node_type\": \"midmarker\", \"x\": 4959.108234375, \"y\": 8013.7221328125}, \"681528\": {\"node_type\": \"multimarker\", \"x\": 4936.287921875, \"y\": 7991.81637109375}, \"681530\": {\"node_type\": \"metabolite\", \"x\": 4835.66829296875, \"y\": 7910.08297265625, \"bigg_id\": \"M_CIS__45__ACONITATE__91__CCO__45__MIT__93__@iJDZ836\", \"name\": \"cis-Aconitate\", \"label_x\": 4826.77815625, \"label_y\": 7888.348109375, \"node_is_primary\": true, \"compartment\": \"m\"}, \"681531\": {\"node_type\": \"multimarker\", \"x\": 4658.018390625, \"y\": 7823.3334609375}, \"681532\": {\"node_type\": \"midmarker\", \"x\": 4688.42805859375, \"y\": 7837.21334375}, \"681533\": {\"node_type\": \"multimarker\", \"x\": 4715.368, \"y\": 7849.35836328125}, \"681535\": {\"node_type\": \"metabolite\", \"x\": 4755.258625, \"y\": 7981.027796875, \"bigg_id\": \"M_WATER__91__CCO__45__MIT__93__@iJDZ836\", \"name\": \"H2O\", \"label_x\": 4687.92122265625, \"label_y\": 8015.89254296875, \"node_is_primary\": false, \"compartment\": \"m\"}, \"681540\": {\"node_type\": \"metabolite\", \"x\": 3759.16116875, \"y\": 7194.7568359375, \"bigg_id\": \"M_CO__45__A__91__CCO__45__MIT__93__@iJDZ836\", \"name\": \"CoA\", \"label_x\": 3695.98587578125, \"label_y\": 7170.5517578125, \"node_is_primary\": false, \"compartment\": \"m\"}, \"681546\": {\"node_type\": \"metabolite\", \"x\": 3788.55325859375, \"y\": 6818.779296875, \"bigg_id\": \"M_PROTON__91__CCO__45__MIT__93__@iJDZ836\", \"name\": \"H+\", \"label_x\": 3698.55325859375, \"label_y\": 6848.779296875, \"node_is_primary\": false, \"compartment\": \"m\"}, \"681548\": {\"node_type\": \"metabolite\", \"x\": 3770.065221484375, \"y\": 7016.79150390625, \"bigg_id\": \"M_CARBON__45__DIOXIDE__91__CCO__45__MIT__93__@iJDZ836\", \"name\": \"CO2\", \"label_x\": 3667.84915703125, \"label_y\": 7050.09130859375, \"node_is_primary\": false, \"compartment\": \"m\"}, \"681553\": {\"node_type\": \"multimarker\", \"x\": 5429.98350874696, \"y\": 3556.963805479521}, \"681554\": {\"node_type\": \"midmarker\", \"x\": 5429.98350874696, \"y\": 3536.963805479521}, \"681555\": {\"node_type\": \"multimarker\", \"x\": 5429.98350874696, \"y\": 3516.963805479521}, \"681557\": {\"node_type\": \"metabolite\", \"x\": 5133.98399702821, \"y\": 3679.297057432646, \"bigg_id\": \"M_D__45__SEDOHEPTULOSE__45__7__45__P@iJDZ836\", \"name\": \"Sedoheptulose7-phosphate\", \"label_x\": 5102.65050093446, \"label_y\": 3647.963805479521, \"node_is_primary\": true, \"compartment\": \"c\"}, \"681581\": {\"node_type\": \"metabolite\", \"x\": 3477.901158984375, \"y\": 7184.9560546875, \"bigg_id\": \"M_CO__45__A__91__CCO__45__MIT__93__@iJDZ836\", \"name\": \"CoA\", \"label_x\": 3393.073522265625, \"label_y\": 7168.77099609375, \"node_is_primary\": false, \"compartment\": \"m\"}, \"681587\": {\"node_type\": \"metabolite\", \"x\": 3472.12064140625, \"y\": 6813.1044921875, \"bigg_id\": \"M_PROTON__91__CCO__45__MIT__93__@iJDZ836\", \"name\": \"H+\", \"label_x\": 3382.12064140625, \"label_y\": 6843.1044921875, \"node_is_primary\": false, \"compartment\": \"m\"}, \"681589\": {\"node_type\": \"metabolite\", \"x\": 3474.893346484375, \"y\": 7033.50927734375, \"bigg_id\": \"M_CARBON__45__DIOXIDE__91__CCO__45__MIT__93__@iJDZ836\", \"name\": \"CO2\", \"label_x\": 3381.221715625, \"label_y\": 7068.19189453125, \"node_is_primary\": false, \"compartment\": \"m\"}, \"681602\": {\"node_type\": \"multimarker\", \"x\": 4339.053302734375, \"y\": 9126.94570703125}, \"681603\": {\"node_type\": \"midmarker\", \"x\": 4265.617267578125, \"y\": 9151.07851953125}, \"681604\": {\"node_type\": \"multimarker\", \"x\": 4173.219806640625, \"y\": 9183.83047265625}, \"681605\": {\"node_type\": \"metabolite\", \"x\": 4353.379474609375, \"y\": 9074.21621484375, \"bigg_id\": \"M_NAD__91__CCO__45__MIT__93__@iJDZ836\", \"name\": \"NAD\", \"label_x\": 4266.628009765625, \"label_y\": 9053.88516015625, \"node_is_primary\": false, \"compartment\": \"m\"}, \"681606\": {\"node_type\": \"metabolite\", \"x\": 4406.815509765625, \"y\": 9040.05117578125, \"bigg_id\": \"M_CO__45__A__91__CCO__45__MIT__93__@iJDZ836\", \"name\": \"CoA\", \"label_x\": 4352.815509765625, \"label_y\": 9020.05117578125, \"node_is_primary\": false, \"compartment\": \"m\"}, \"681607\": {\"node_type\": \"metabolite\", \"x\": 4097.51253125, \"y\": 9126.94668359375, \"bigg_id\": \"M_NADH__91__CCO__45__MIT__93__@iJDZ836\", \"name\": \"NADH\", \"label_x\": 4119.35774609375, \"label_y\": 9122.12930078125, \"node_is_primary\": false, \"compartment\": \"m\"}, \"681608\": {\"node_type\": \"metabolite\", \"x\": 4015.8221015625004, \"y\": 9163.85293359375, \"bigg_id\": \"M_CARBON__45__DIOXIDE__91__CCO__45__MIT__93__@iJDZ836\", \"name\": \"CO2\", \"label_x\": 3944.5845527343754, \"label_y\": 9145.24453515625, \"node_is_primary\": false, \"compartment\": \"m\"}, \"681614\": {\"node_type\": \"multimarker\", \"x\": 2700.633544921875, \"y\": 9588.82975390625}, \"681615\": {\"node_type\": \"midmarker\", \"x\": 2655.905517578125, \"y\": 9634.63444140625}, \"681616\": {\"node_type\": \"multimarker\", \"x\": 2607.736572265625, \"y\": 9685.60026171875}, \"681618\": {\"node_type\": \"multimarker\", \"x\": 2789.096471484375, \"y\": 7857.6376484375}, \"681619\": {\"node_type\": \"midmarker\", \"x\": 2743.291783984375, \"y\": 7790.54536328125}, \"681620\": {\"node_type\": \"multimarker\", \"x\": 2706.088658984375, \"y\": 7730.33442578125}, \"681626\": {\"node_type\": \"multimarker\", \"x\": 4731.1912421875, \"y\": 7000.015625}, \"681627\": {\"node_type\": \"midmarker\", \"x\": 4729.6619453125, \"y\": 6947.13818359375}, \"681628\": {\"node_type\": \"multimarker\", \"x\": 4729.66243359375, \"y\": 6897.3193359375}, \"681630\": {\"node_type\": \"multimarker\", \"x\": 5610.7216796875, \"y\": 6854.5665703125}, \"681631\": {\"node_type\": \"midmarker\", \"x\": 5646.2568359375, \"y\": 6888.32194140625}, \"681632\": {\"node_type\": \"multimarker\", \"x\": 5674.9140625, \"y\": 6916.34635546875}, \"681637\": {\"node_type\": \"metabolite\", \"x\": 1967.744908984375, \"y\": 1906.1774667968748, \"bigg_id\": \"M_ALPHA__45__GLUCOSE__91__CCO__45__EXTRACELLULAR__93__@iJDZ836\", \"name\": \"alpha-D-Glucose\", \"label_x\": 1949.866002734375, \"label_y\": 1875.3046640624998, \"node_is_primary\": true, \"compartment\": \"e\"}, \"681641\": {\"node_type\": \"metabolite\", \"x\": 2806.862096484375, \"y\": 1902.6301035156248, \"bigg_id\": \"M_GLC__91__CCO__45__EXTRACELLULAR__93__@iJDZ836\", \"name\": \"beta-D-Glucose\", \"label_x\": 2782.697545703125, \"label_y\": 1875.7723154296873, \"node_is_primary\": true, \"compartment\": \"e\"}, \"681675\": {\"node_type\": \"metabolite\", \"x\": 5125.51887890625, \"y\": 8733.3104765625, \"bigg_id\": \"M_CARBON__45__DIOXIDE__91__CCO__45__MIT__93__@iJDZ836\", \"name\": \"CO2\", \"label_x\": 5110.87825390625, \"label_y\": 8706.7108671875, \"node_is_primary\": false, \"compartment\": \"m\"}, \"681680\": {\"node_type\": \"metabolite\", \"x\": 4977.8689765625, \"y\": 8467.25871875, \"bigg_id\": \"M_NAD__91__CCO__45__MIT__93__@iJDZ836\", \"name\": \"NAD\", \"label_x\": 4855.94856640625, \"label_y\": 8504.0985625, \"node_is_primary\": false, \"compartment\": \"m\"}, \"681681\": {\"node_type\": \"metabolite\", \"x\": 4978.0681953125, \"y\": 8773.8593046875, \"bigg_id\": \"M_NADH__91__CCO__45__MIT__93__@iJDZ836\", \"name\": \"NADH\", \"label_x\": 4854.86653515625, \"label_y\": 8756.3788359375, \"node_is_primary\": false, \"compartment\": \"m\"}, \"681682\": {\"node_type\": \"metabolite\", \"x\": 4978.2674140625, \"y\": 8721.3397734375, \"bigg_id\": \"M_CARBON__45__DIOXIDE__91__CCO__45__MIT__93__@iJDZ836\", \"name\": \"CO2\", \"label_x\": 4873.18587109375, \"label_y\": 8703.0995390625, \"node_is_primary\": false, \"compartment\": \"m\"}, \"681705\": {\"node_type\": \"metabolite\", \"x\": 2499.729248046875, \"y\": 9949.58854296875, \"bigg_id\": \"M_PROTON__91__CCO__45__EXTRACELLULAR__93__@iJDZ836\", \"name\": \"H+\", \"label_x\": 2494.10302734375, \"label_y\": 9981.74088671875, \"node_is_primary\": false, \"compartment\": \"e\"}, \"681707\": {\"node_type\": \"metabolite\", \"x\": 2376.6513671875, \"y\": 10081.86100390625, \"bigg_id\": \"M_PROTON@iJDZ836\", \"name\": \"H+\", \"label_x\": 2349.861572265625, \"label_y\": 10114.01334765625, \"node_is_primary\": false, \"compartment\": \"c\"}}, \"text_labels\": {\"667999\": {\"x\": 3047.905517578125, \"y\": 4567.2794189453125, \"text\": \"Glycolysis\"}, \"668006\": {\"x\": 5939.77443203125, \"y\": 6637.1680625, \"text\": \"Ethanol Metabolism\"}, \"668016\": {\"x\": 3875.18603515625, \"y\": 8495.466284375001, \"text\": \"TCA Cycle\"}, \"668017\": {\"x\": 5666.59326171875, \"y\": 3683.739013671875, \"text\": \"Pentose Phosphate Pathway\"}, \"668018\": {\"x\": 2886.95166015625, \"y\": 8820.9521484375, \"text\": \"Q6\"}, \"668019\": {\"x\": 3013.549560546875, \"y\": 8780.6708984375, \"text\": \"Q8\"}, \"668020\": {\"x\": 3143.6005859375, \"y\": 8782.9736328125, \"text\": \"Q9\"}, \"668022\": {\"x\": 2702.808349609375, \"y\": 8768.01171875, \"text\": \"Q*\"}}, \"canvas\": {\"x\": 1623.366150195312, \"y\": 1850.3106803671876, \"width\": 5970.740337304691, \"height\": 8537.40766125781}}]'),\n",
       "               model_data: JSON.parse('null'),\n",
       "               static_site_index: JSON.parse('null'),\n",
       "           };\n",
       "       }\n",
       "   })();\n",
       "  </script>\n"
      ],
      "text/plain": [
       "<IPython.core.display.HTML object>"
      ]
     },
     "execution_count": 49,
     "metadata": {},
     "output_type": "execute_result"
    }
   ],
   "source": [
    "em.display_in_notebook()"
   ]
  },
  {
   "cell_type": "code",
   "execution_count": 82,
   "metadata": {},
   "outputs": [
    {
     "name": "stderr",
     "output_type": "stream",
     "text": [
      "WARNING:__main__:unmaped_cpd: 34\n",
      "WARNING:__main__:unmaped_rxn: 104\n"
     ]
    },
    {
     "name": "stdout",
     "output_type": "stream",
     "text": [
      "iAL1006 {'rxn08428_e': {'R_r1426'}, 'rxn00247_c': {'R_r0018'}, 'rxn00799_m': {'R_r0097'}, 'rxn00161_m': {'R_r0058'}, 'rxn00459_c': {'R_r0015'}, 'rxn08617_e': {'R_r1342'}, 'rxn09777_m': {'R_r1182'}, 'rxn00148_c': {'R_r0016'}, 'rxn05467_m': {'R_r1246'}, 'rxn00248_m': {'R_r0098'}, 'rxn01100_c': {'R_r0013'}, 'rxn00505_m': {'R_r0088'}, 'rxn01106_c': {'R_r0014'}, 'rxn00248_c': {'R_r0099'}, 'rxn00506_m': {'R_r0053'}, 'rxn00001_m': {'R_r0115'}, 'rxn00168_c': {'R_r0046'}, 'rxn05467_e': {'R_r1424'}, 'rxn00285_m': {'R_r0095'}, 'rxn00288_m': {'R_r0096'}, 'rxn00175_m': {'R_r0026'}, 'rxn00175_c': {'R_r0025'}, 'rxn00781_c': {'R_r0012'}, 'rxn00256_m': {'R_r0085'}, 'rxn00198_m': {'R_r0089'}, 'rxn00747_c': {'R_r0011'}, 'rxn09739_m': {'R_r1231'}, 'rxn09273_m': {'R_r1239'}, 'rxn08063_m': {'R_r1244'}, 'rxn09713_m': {'R_r1232'}, 'rxn00507_c': {'R_r0054'}, 'rxn00001_c': {'R_r0114'}, 'rxn08428_m': {'R_r1247'}, 'rxn00543_c': {'R_r0020'}, 'rxn01115_c': {'R_r0029'}, 'rxn00543_m': {'R_r0021'}, 'rxn01116_c': {'R_r0030'}, 'rxn05319_e': {'R_r1428'}, 'rxn05319_m': {'R_r1248'}, 'rxn01169_c': {'R_r0005'}, 'rxn27702_c': {'R_r0003'}, 'rxn20522_c': {'R_r0007'}, 'rxn01977_c': {'R_r0008'}, 'rxn15271_c': {'R_r0033'}, 'rxn11274_c': {'R_r0067'}, 'rxn01388_m': {'R_r0087'}, 'rxn00974_m': {'R_r0086'}, 'rxn00777_c': {'R_r0031'}, 'rxn01200_c': {'R_r0032'}, 'rxn06109_m': {'R_r0084'}, 'rxn09218_m': {'R_r1235'}, 'rxn09271_m': {'R_r1238'}, 'rxn08868_m': {'R_r1165'}, 'rxn13365_m': {'R_r1226'}, 'rxn09121_m': {'R_r1230'}, 'rxn08063_e': {'R_r1421'}, 'rxn28570_e': {'R_r1316'}, 'rxn28584_e': {'R_r1322'}, 'rxn08217_e': {'R_r1327'}, 'rxn09271_e': {'R_r1407'}}\n"
     ]
    }
   ],
   "source": [
    "escher_model_id = 'ModelSEED'\n",
    "escher_map_id = 'Fungi_Central_Temp'\n",
    "sbml_id = 'iAL1006'\n",
    "target_cmp = 'c'\n",
    "cmp_mapping = escher_factory.cmp_mapping[sbml_id]\n",
    "cpd_mapping = {}\n",
    "for model_cmp in cmp_mapping.values():\n",
    "    cpd_mapping[model_cmp] = escher_factory.get_cpd_mapping(sbml_id, model_cmp)\n",
    "rxn_mapping = escher_factory.get_rxn_mapping(sbml_id)\n",
    "\n",
    "em = escher_factory.translate_to_model2(escher_model_id, escher_map_id, sbml_id, target_cmp, \n",
    "                                        cpd_mapping, rxn_mapping, cmp_mapping)\n",
    "#WARNING:__main__:unmaped_cpd: 34\n",
    "#WARNING:__main__:unmaped_rxn: 104"
   ]
  },
  {
   "cell_type": "code",
   "execution_count": 12,
   "metadata": {},
   "outputs": [
    {
     "name": "stderr",
     "output_type": "stream",
     "text": [
      "translate_to_model: iMM904 [c > c]\n",
      "unmaped_cpd: 29\n",
      "unmaped_rxn: 86\n"
     ]
    },
    {
     "name": "stdout",
     "output_type": "stream",
     "text": [
      "Fungi_Central_Temp\n"
     ]
    },
    {
     "name": "stderr",
     "output_type": "stream",
     "text": [
      "R_PPCK@iMM904 incorrect reversiblity: False, model: [-1000.00, 1000.00]\n",
      "R_ME2m@iMM904 incorrect reversiblity: False, model: [-1000.00, 1000.00]\n",
      "R_ALDD2ym@iMM904 incorrect reversiblity: False, model: [-1000.00, 1000.00]\n",
      "R_PDHm@iMM904 incorrect reversiblity: False, model: [-1000.00, 1000.00]\n",
      "R_GLCt1@iMM904 incorrect reversiblity: False, model: [-1000.00, 1000.00]\n",
      "R_PYK@iMM904 incorrect reversiblity: False, model: [-1000.00, 1000.00]\n",
      "R_ICDHxm@iMM904 incorrect reversiblity: False, model: [-1000.00, 1000.00]\n",
      "R_ALDD2xm@iMM904 incorrect reversiblity: False, model: [-1000.00, 1000.00]\n",
      "R_PPAm@iMM904 incorrect reversiblity: False, model: [-1000.00, 1000.00]\n",
      "R_PFK@iMM904 incorrect reversiblity: False, model: [-1000.00, 1000.00]\n",
      "R_PYRDC@iMM904 incorrect reversiblity: False, model: [-1000.00, 1000.00]\n",
      "R_HEX1@iMM904 incorrect reversiblity: False, model: [-1000.00, 1000.00]\n",
      "R_FRUK@iMM904 incorrect reversiblity: False, model: [-1000.00, 1000.00]\n",
      "R_FRDm@iMM904 contains LR/RL direction\n",
      "R_ME1m@iMM904 incorrect reversiblity: False, model: [-1000.00, 1000.00]\n",
      "R_ACSm@iMM904 incorrect reversiblity: False, model: [-1000.00, 1000.00]\n",
      "R_ACS@iMM904 incorrect reversiblity: False, model: [-1000.00, 1000.00]\n",
      "R_CSm@iMM904 incorrect reversiblity: False, model: [-1000.00, 1000.00]\n",
      "R_ICDHym@iMM904 incorrect reversiblity: False, model: [-1000.00, 1000.00]\n",
      "R_FBP@iMM904 incorrect reversiblity: False, model: [-1000.00, 1000.00]\n",
      "R_SUCFUMtm@iMM904 incorrect reversiblity: False, model: [-1000.00, 1000.00]\n",
      "R_SUCCtm@iMM904 incorrect reversiblity: False, model: [-1000.00, 1000.00]\n",
      "R_PYRt2@iMM904 incorrect reversiblity: False, model: [-1000.00, 1000.00]\n",
      "R_ALDD2y@iMM904 incorrect reversiblity: False, model: [-1000.00, 1000.00]\n",
      "R_PPA@iMM904 incorrect reversiblity: False, model: [-1000.00, 1000.00]\n",
      "R_PC@iMM904 incorrect reversiblity: False, model: [-1000.00, 1000.00]\n",
      "R_ALCD2ir@iMM904 contains LR/RL direction\n",
      "R_G6PDH2r@iMM904 incorrect reversiblity: False, model: [-1000.00, 1000.00]\n",
      "R_PGL@iMM904 incorrect reversiblity: False, model: [-1000.00, 1000.00]\n",
      "R_GND@iMM904 incorrect reversiblity: False, model: [-1000.00, 1000.00]\n",
      "R_PFK_3@iMM904 incorrect reversiblity: False, model: [-1000.00, 1000.00]\n",
      "R_ALCD2irm@iMM904 incorrect reversiblity: False, model: [-1000.00, 1000.00]\n",
      "R_GLUK@iMM904 incorrect reversiblity: False, model: [-1000.00, 1000.00]\n",
      "R_ATPS@iMM904 incorrect reversiblity: False, model: [-1000.00, 1000.00]\n",
      "R_ATPS3m@iMM904 incorrect reversiblity: False, model: [-1000.00, 1000.00]\n",
      "R_G6PI@iMM904 incorrect reversiblity: False, model: [-1000.00, 1000.00]\n",
      "R_AKGDbm@iMM904 contains LR/RL direction\n",
      "R_AKGDam@iMM904 incorrect reversiblity: False, model: [-1000.00, 1000.00]\n",
      "R_RPI@iMM904 incorrect reversiblity: False, model: [-1000.00, 1000.00]\n",
      "R_TKT1@iMM904 contains LR/RL direction\n",
      "R_ACtr@iMM904 contains LR/RL direction\n",
      "cpd00001: [M_WATER] ! [['M_OH']]\n",
      "cpd01398: [M_CPD__45__18] ! [['M_CPD2T__45__27']]\n",
      "translate_to_model: iJDZ836 [c > c]\n",
      "unmaped_cpd: 78\n",
      "unmaped_rxn: 113\n"
     ]
    },
    {
     "name": "stdout",
     "output_type": "stream",
     "text": [
      "Fungi_Central_Temp\n"
     ]
    },
    {
     "name": "stderr",
     "output_type": "stream",
     "text": [
      "PEPCARBOXYKIN__45__RXN__45__L2R@iJDZ836 incorrect reversiblity: False, model: [-1000.00, 1000.00]\n",
      "PEPDEPHOS__45__RXN__45__R2L@iJDZ836 incorrect reversiblity: False, model: [-1000.00, 1000.00]\n",
      "RXN__45__8631__45__R2L@iJDZ836 contains LR/RL direction\n",
      "RXN__45__6161__45__L2R@iJDZ836 incorrect reversiblity: False, model: [-1000.00, 1000.00]\n",
      "ACETATE__45____45__COA__45__LIGASE__45__RXN__45__L2R@iJDZ836 incorrect reversiblity: False, model: [-1000.00, 1000.00]\n",
      "GAPOXNPHOSPHN__45__RXN__45__R2L@iJDZ836 contains LR/RL direction\n",
      "ALCOHOL__45__DEHYDROG__45__RXN__45__R2L@iJDZ836 contains LR/RL direction\n",
      "RXN__45__9952__45__L2R@iJDZ836 incorrect reversiblity: False, model: [-1000.00, 1000.00]\n",
      "GLUCOKIN__45__RXN__45__L2R@iJDZ836 incorrect reversiblity: False, model: [-1000.00, 1000.00]\n",
      "ALDOSE__45__1__45__EPIMERASE__45__RXN__45__R2L@iJDZ836 contains LR/RL direction\n",
      "RXN__45__1685__45__L2R@iJDZ836 incorrect reversiblity: False, model: [-1000.00, 1000.00]\n",
      "PGLUCISOM__45__RXN__45__L2R@iJDZ836 incorrect reversiblity: False, model: [-1000.00, 1000.00]\n",
      "F16ALDOLASE__45__RXN__45__R2L@iJDZ836 contains LR/RL direction\n",
      "_6PFRUCTPHOS__45__RXN__45__L2R@iJDZ836 incorrect reversiblity: False, model: [-1000.00, 1000.00]\n",
      "GLUCOSE__45__6__45__PHOSPHATE__45__1__45__EPIMERASE__45__RXN__45__R2L@iJDZ836 contains LR/RL direction\n",
      "GLU6PDEHYDROG__45__RXN__45__L2R@iJDZ836 incorrect reversiblity: False, model: [-1000.00, 1000.00]\n",
      "_2TRANSKETO__45__RXN__45__L2R@iJDZ836 contains LR/RL direction\n",
      "_1TRANSKETO__45__RXN__45__R2L@iJDZ836 contains LR/RL direction\n",
      "translate_to_model: iAL1006 [c > c]\n",
      "unmaped_cpd: 34\n",
      "unmaped_rxn: 104\n"
     ]
    },
    {
     "name": "stdout",
     "output_type": "stream",
     "text": [
      "Fungi_Central_Temp\n"
     ]
    },
    {
     "name": "stderr",
     "output_type": "stream",
     "text": [
      "R_r1426@iAL1006 contains LR/RL direction\n",
      "R_r0018@iAL1006 incorrect reversiblity: False, model: [-1000.00, 1000.00]\n",
      "R_r0058@iAL1006 incorrect reversiblity: False, model: [-1000.00, 1000.00]\n",
      "R_r1342@iAL1006 incorrect reversiblity: False, model: [-1000.00, 1000.00]\n",
      "R_r0013@iAL1006 contains LR/RL direction\n",
      "R_r0088@iAL1006 incorrect reversiblity: False, model: [-1000.00, 1000.00]\n",
      "R_r0014@iAL1006 contains LR/RL direction\n",
      "R_r1424@iAL1006 contains LR/RL direction\n",
      "R_r0095@iAL1006 contains LR/RL direction\n",
      "R_r0096@iAL1006 contains LR/RL direction\n",
      "R_r0026@iAL1006 incorrect reversiblity: False, model: [-1000.00, 1000.00]\n",
      "R_r0025@iAL1006 incorrect reversiblity: False, model: [-1000.00, 1000.00]\n",
      "R_r0089@iAL1006 incorrect reversiblity: False, model: [-1000.00, 1000.00]\n",
      "R_r0011@iAL1006 contains LR/RL direction\n",
      "R_r1239@iAL1006 incorrect reversiblity: False, model: [-1000.00, 1000.00]\n",
      "R_r1232@iAL1006 incorrect reversiblity: False, model: [-1000.00, 1000.00]\n",
      "R_r0029@iAL1006 incorrect reversiblity: False, model: [-1000.00, 1000.00]\n",
      "R_r1428@iAL1006 contains LR/RL direction\n",
      "R_r1248@iAL1006 contains LR/RL direction\n",
      "R_r0003@iAL1006 incorrect reversiblity: False, model: [-1000.00, 1000.00]\n",
      "R_r0007@iAL1006 contains LR/RL direction\n",
      "R_r0008@iAL1006 incorrect reversiblity: False, model: [-1000.00, 1000.00]\n",
      "R_r0033@iAL1006 contains LR/RL direction\n",
      "R_r0087@iAL1006 contains LR/RL direction\n",
      "R_r0086@iAL1006 contains LR/RL direction\n",
      "R_r0031@iAL1006 contains LR/RL direction\n",
      "R_r0032@iAL1006 contains LR/RL direction\n",
      "R_r0084@iAL1006 contains LR/RL direction\n",
      "R_r1235@iAL1006 contains LR/RL direction\n",
      "R_r1238@iAL1006 contains LR/RL direction\n",
      "R_r1165@iAL1006 contains LR/RL direction\n",
      "R_r1226@iAL1006 contains LR/RL direction\n",
      "R_r1230@iAL1006 contains LR/RL direction\n",
      "R_r1327@iAL1006 contains LR/RL direction\n",
      "R_r1407@iAL1006 contains LR/RL direction\n"
     ]
    },
    {
     "name": "stdout",
     "output_type": "stream",
     "text": [
      "R_r0016@iAL1006\n",
      "map  : {'cpd00067_c': -1, 'M_ATP@iAL1006': 1, 'M_PEP@iAL1006': -1, 'M_PYR@iAL1006': 1, 'M_ADP@iAL1006': -1}\n",
      "model: {'M_ATP@iAL1006': 1.0, 'M_PYR@iAL1006': 1.0, 'M_ADP@iAL1006': -1.0, 'M_PEP@iAL1006': -1.0}\n",
      "R_r0098@iAL1006\n",
      "map  : {'M_OAm@iAL1006': 1, 'M_NADHm@iAL1006': 1, 'M_H_POm@iAL1006': 1, 'M_MALm@iAL1006': -1, 'M_NADm@iAL1006': -1}\n",
      "model: {'M_NADHm@iAL1006': 1.0, 'M_OAm@iAL1006': 1.0, 'M_NADm@iAL1006': -1.0, 'M_MALm@iAL1006': -1.0}\n",
      "R_r0099@iAL1006\n",
      "map  : {'cpd00067_c': 1, 'M_NADH@iAL1006': 1, 'M_MAL@iAL1006': -1, 'M_NAD@iAL1006': -1, 'M_OA@iAL1006': 1}\n",
      "model: {'M_NADH@iAL1006': 1.0, 'M_OA@iAL1006': 1.0, 'M_MAL@iAL1006': -1.0, 'M_NAD@iAL1006': -1.0}\n",
      "R_r0053@iAL1006\n",
      "map  : {'M_ACALm@iAL1006': -1, 'M_H_POm@iAL1006': 2, 'M_H2Om@iAL1006': -1, 'M_NADm@iAL1006': -1, 'M_NADHm@iAL1006': 1, 'M_ACm@iAL1006': 1}\n",
      "model: {'M_NADHm@iAL1006': 1.0, 'M_ACm@iAL1006': 1.0, 'M_NADm@iAL1006': -1.0, 'M_H2Om@iAL1006': -1.0, 'M_ACALm@iAL1006': -1.0}\n",
      "R_r0115@iAL1006\n",
      "map  : {'M_H2Om@iAL1006': -1, 'M_PIm@iAL1006': 2, 'M_H_POm@iAL1006': 1, 'M_PPIm@iAL1006': -1}\n",
      "model: {'M_PIm@iAL1006': 2.0, 'M_H2Om@iAL1006': -1.0, 'M_PPIm@iAL1006': -1.0}\n",
      "R_r0046@iAL1006\n",
      "map  : {'cpd00067_c': -1, 'M_ACAL@iAL1006': 1, 'M_PYR@iAL1006': -1, 'M_CO2@iAL1006': 1}\n",
      "model: {'M_ACAL@iAL1006': 1.0, 'M_CO2@iAL1006': 1.0, 'M_PYR@iAL1006': -1.0}\n",
      "R_r0012@iAL1006\n",
      "map  : {'M_T3P1@iAL1006': -1, 'M_NAD@iAL1006': -1, 'cpd00067_c': 1, 'M_NADH@iAL1006': 1, 'M_13PDG@iAL1006': 1, 'M_PI@iAL1006': -1}\n",
      "model: {'M_13PDG@iAL1006': 1.0, 'M_NADH@iAL1006': 1.0, 'M_T3P1@iAL1006': -1.0, 'M_NAD@iAL1006': -1.0, 'M_PI@iAL1006': -1.0}\n",
      "R_r0085@iAL1006\n",
      "map  : {'M_H2Om@iAL1006': -1, 'M_H_POm@iAL1006': 1, 'M_OAm@iAL1006': -1, 'M_COAm@iAL1006': 1, 'M_ACCOAm@iAL1006': -1, 'M_CITm@iAL1006': 1}\n",
      "model: {'M_CITm@iAL1006': 1.0, 'M_COAm@iAL1006': 1.0, 'M_OAm@iAL1006': -1.0, 'M_H2Om@iAL1006': -1.0, 'M_ACCOAm@iAL1006': -1.0}\n",
      "R_r0054@iAL1006\n",
      "map  : {'M_ACAL@iAL1006': -1, 'M_NADP@iAL1006': -1, 'M_H2O@iAL1006': -1, 'cpd00067_c': 2, 'M_AC@iAL1006': 1, 'M_NADPH@iAL1006': 1}\n",
      "model: {'M_NADPH@iAL1006': 1.0, 'M_AC@iAL1006': 1.0, 'M_NADP@iAL1006': -1.0, 'M_H2O@iAL1006': -1.0, 'M_ACAL@iAL1006': -1.0}\n",
      "R_r0114@iAL1006\n",
      "map  : {'cpd00067_c': 1, 'M_PPI@iAL1006': -1, 'M_PI@iAL1006': 2, 'M_H2O@iAL1006': -1}\n",
      "model: {'M_PI@iAL1006': 2.0, 'M_H2O@iAL1006': -1.0, 'M_PPI@iAL1006': -1.0}\n",
      "R_r0020@iAL1006\n",
      "map  : {'cpd00067_c': 1, 'M_ACAL@iAL1006': 1, 'M_NADH@iAL1006': 1, 'M_NAD@iAL1006': -1, 'M_ETH@iAL1006': -1}\n",
      "model: {'M_ACAL@iAL1006': 1.0, 'M_NADH@iAL1006': 1.0, 'M_NAD@iAL1006': -1.0, 'M_ETH@iAL1006': -1.0}\n",
      "R_r0021@iAL1006\n",
      "map  : {'M_ACALm@iAL1006': -1, 'M_H_POm@iAL1006': -1, 'M_NADHm@iAL1006': -1, 'M_ETHm@iAL1006': 1, 'M_NADm@iAL1006': 1}\n",
      "model: {'M_ACALm@iAL1006': 1.0, 'M_NADHm@iAL1006': 1.0, 'M_ETHm@iAL1006': -1.0, 'M_NADm@iAL1006': -1.0}\n",
      "R_r0005@iAL1006\n",
      "map  : {'M_ATP@iAL1006': -1, 'M_bDGLC@iAL1006': -1, 'M_ADP@iAL1006': 1, 'cpd00067_c': 1, 'M_bDG6P@iAL1006': 1}\n",
      "model: {'M_ADP@iAL1006': 1.0, 'M_bDG6P@iAL1006': 1.0, 'M_ATP@iAL1006': -1.0, 'M_bDGLC@iAL1006': -1.0}\n",
      "R_r0067@iAL1006\n",
      "map  : {'M_H2O@iAL1006': -1, 'M_ATP@iAL1006': -1, 'M_CO2@iAL1006': -1, 'M_PYR@iAL1006': -1, 'M_ADP@iAL1006': 1, 'M_PI@iAL1006': 1, 'M_OA@iAL1006': 1, 'cpd00067_c': 2}\n",
      "model: {'M_OA@iAL1006': 1.0, 'M_PI@iAL1006': 1.0, 'M_ADP@iAL1006': 1.0, 'M_PYR@iAL1006': -1.0, 'M_CO2@iAL1006': -1.0, 'M_H2O@iAL1006': -1.0, 'M_ATP@iAL1006': -1.0}\n"
     ]
    }
   ],
   "source": [
    "build_data = {\"maps\":[\n",
    "    \"iMM904;c;c;ModelSEED.Fungi_Central_Temp\",\n",
    "    \"iJDZ836;c;c;ModelSEED.Fungi_Central_Temp\",\n",
    "    \"iAL1006;c;c;ModelSEED.Fungi_Central_Temp\",\n",
    "],\"x\":3,\"y\":1}\n",
    "map_assembly = process_build_data_input(build_data['maps'])\n",
    "grid_x = build_data['x']\n",
    "grid_y = build_data['y']\n",
    "em = escher_factory.build_grid(map_assembly, (grid_x,grid_y))"
   ]
  },
  {
   "cell_type": "code",
   "execution_count": null,
   "metadata": {},
   "outputs": [],
   "source": []
  },
  {
   "cell_type": "code",
   "execution_count": null,
   "metadata": {},
   "outputs": [],
   "source": []
  },
  {
   "cell_type": "code",
   "execution_count": null,
   "metadata": {},
   "outputs": [],
   "source": []
  },
  {
   "cell_type": "code",
   "execution_count": null,
   "metadata": {},
   "outputs": [],
   "source": []
  },
  {
   "cell_type": "code",
   "execution_count": null,
   "metadata": {},
   "outputs": [],
   "source": []
  },
  {
   "cell_type": "code",
   "execution_count": null,
   "metadata": {},
   "outputs": [],
   "source": []
  },
  {
   "cell_type": "code",
   "execution_count": null,
   "metadata": {},
   "outputs": [],
   "source": []
  },
  {
   "cell_type": "code",
   "execution_count": null,
   "metadata": {},
   "outputs": [],
   "source": []
  },
  {
   "cell_type": "code",
   "execution_count": null,
   "metadata": {},
   "outputs": [],
   "source": []
  }
 ],
 "metadata": {
  "kernelspec": {
   "display_name": "Python 3",
   "language": "python",
   "name": "python3"
  },
  "language_info": {
   "codemirror_mode": {
    "name": "ipython",
    "version": 3
   },
   "file_extension": ".py",
   "mimetype": "text/x-python",
   "name": "python",
   "nbconvert_exporter": "python",
   "pygments_lexer": "ipython3",
   "version": "3.7.4"
  }
 },
 "nbformat": 4,
 "nbformat_minor": 4
}
