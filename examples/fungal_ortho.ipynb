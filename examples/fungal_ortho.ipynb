{
 "cells": [
  {
   "cell_type": "code",
   "execution_count": 3,
   "metadata": {},
   "outputs": [],
   "source": [
    "import logging\n",
    "import os\n",
    "import pymongo\n",
    "import cobrakbase\n",
    "import time\n",
    "import biosapi\n",
    "\n",
    "logger = logging.getLogger(__name__)\n",
    "%run ../../scripts/bios_utils.py"
   ]
  },
  {
   "cell_type": "code",
   "execution_count": 2,
   "metadata": {},
   "outputs": [],
   "source": [
    "%run ../annotation_ortholog.py"
   ]
  },
  {
   "cell_type": "code",
   "execution_count": 8,
   "metadata": {},
   "outputs": [],
   "source": [
    "CACHE_BASE_FOLDER = '/Users/fliu/workspace/jupyter/python3/annotation-server/data/'\n",
    "kbase = cobrakbase.KBaseAPI(token='64XQ7SABQILQWSEW3CQKZXJA63DXZBGH')"
   ]
  },
  {
   "cell_type": "code",
   "execution_count": 9,
   "metadata": {
    "collapsed": true,
    "jupyter": {
     "outputs_hidden": true
    }
   },
   "outputs": [
    {
     "name": "stdout",
     "output_type": "stream",
     "text": [
      "Rhizophagus_irregularis janakakbase:narrative_1570052138482\n",
      "Rhodotorula_toruloides_NP11 janakakbase:narrative_1570052138482\n",
      "GCF_000002515.2 janakakbase:narrative_1570052138482\n",
      "Tuber_melanosporum_Mel28 janakakbase:narrative_1570052138482\n",
      "Ustilago_maydis_521 janakakbase:narrative_1570052138482\n",
      "GCF_000149615.1 janakakbase:narrative_1570052138482\n",
      "Cryptococcus_neoformans_var._grubii_H99 janakakbase:narrative_1570052138482\n",
      "Piromyces_finnis janakakbase:narrative_1570052138482\n",
      "GCF_000209165.1 janakakbase:narrative_1570052138482\n",
      "GCF_000002525.2 janakakbase:narrative_1570052138482\n",
      "Mucor_circinelloides_CBS277.49_v2.0 janakakbase:narrative_1570052138482\n",
      "Mucor_circinelloides_f_lusitanicus_CBS277_49 janakakbase:narrative_1570052138482\n",
      "GCF_000027005.1 janakakbase:narrative_1570052138482\n",
      "Aspergillus_nidulans janakakbase:narrative_1570052138482\n",
      "Laccaria_bicolor janakakbase:narrative_1570052138482\n",
      "GCF_000002545.3 janakakbase:narrative_1570052138482\n",
      "GCF_000091025.4 janakakbase:narrative_1570052138482\n",
      "Rhizoclosmatium_globosum janakakbase:narrative_1570052138482\n",
      "GCF_000006335.2 janakakbase:narrative_1570052138482\n",
      "Mortierella_elongata janakakbase:narrative_1570052138482\n",
      "GCF_000226395.1 janakakbase:narrative_1570052138482\n",
      "GCF_000184455.2 janakakbase:narrative_1570052138482\n",
      "Schizosaccharomyces_pombe janakakbase:narrative_1570052138482\n",
      "GCF_000182925.2 janakakbase:narrative_1570052138482\n"
     ]
    },
    {
     "name": "stderr",
     "output_type": "stream",
     "text": [
      "WARNING:__main__:load [iMM904_KBase3:jplfaria:narrative_1510597445008]\n"
     ]
    },
    {
     "name": "stdout",
     "output_type": "stream",
     "text": [
      "GCF_000146045.2 janakakbase:narrative_1570052138482\n",
      "49164/31/1 Gloin1 Rhizophagus irregularis\n",
      "49164/29/1 GCF_000320785.1 Rhodotorula toruloides NP11\n",
      "49164/18/1 GCF_000002515.2 Kluyveromyces lactis NRRL Y-1140\n",
      "49164/28/1 GCF_000151645.1 Tuber melanosporum Mel28\n",
      "49164/25/1 GCF_000328475.2 Ustilago maydis 521\n",
      "49164/9/1 GCF_000149615.1 Aspergillus terreus NIH2624\n",
      "49164/27/1 GCF_000149245.1 Cryptococcus neoformans var. grubii H99\n",
      "49164/34/1 Pirfi3 Piromyces finnis\n",
      "49164/14/1 GCF_000209165.1 Scheffersomyces stipitis CBS 6054\n",
      "49164/15/1 GCF_000002525.2 Yarrowia lipolytica CLIB122\n",
      "49164/16/1 Mucor_circinelloides_CBS277.49_v2.0 unknown_taxon\n",
      "49164/39/1 Mucor_circinelloides_f_lusitanicus_CBS277_49 Mucor circinelloides f. lusitanicus CBS 277.49\n",
      "49164/12/1 GCF_000027005.1 Komagataella phaffii GS115\n",
      "49164/36/1 Aspergillus_nidulans Aspergillus nidulans FGSC A4\n",
      "49164/26/1 Lacbi2 Laccaria bicolor\n",
      "49164/10/1 GCF_000002545.3 Candida glabrata CBS 138\n",
      "49164/13/1 GCF_000091025.4 Eremothecium gossypii ATCC 10895\n",
      "49164/33/1 Rhihy1 Rhizoclosmatium globosum\n",
      "49164/11/1 GCF_000006335.2 Candida tropicalis MYA-3404\n",
      "49164/32/1 Morel2 Mortierella elongata\n",
      "49164/6/2 GCF_000226395.1 Penicillium rubens Wisconsin 54-1255\n",
      "49164/17/1 GCF_000184455.2 Aspergillus oryzae RIB40\n",
      "49164/30/1 GCF_000002945.1 Schizosaccharomyces pombe\n",
      "49164/5/2 GCF_000182925.2 Neurospora crassa OR74A\n",
      "49164/4/3 GCF_000146045.2 Saccharomyces cerevisiae S288c\n"
     ]
    }
   ],
   "source": [
    "\n",
    "annotation_ortholog = build_annotation_ortholog(kbase, CACHE_BASE_FOLDER, bios)"
   ]
  },
  {
   "cell_type": "code",
   "execution_count": 21,
   "metadata": {},
   "outputs": [],
   "source": [
    "annotation_ortholog.model_rxn_mapping = model_rxn_mapping\n",
    "annotation_ortholog.model_cpd_mapping = model_cpd_mapping"
   ]
  },
  {
   "cell_type": "code",
   "execution_count": 27,
   "metadata": {},
   "outputs": [
    {
     "ename": "JSONDecodeError",
     "evalue": "Expecting value: line 1 column 1 (char 0)",
     "output_type": "error",
     "traceback": [
      "\u001b[0;31m---------------------------------------------------------------------------\u001b[0m",
      "\u001b[0;31mJSONDecodeError\u001b[0m                           Traceback (most recent call last)",
      "\u001b[0;32m<ipython-input-27-a9868b90696c>\u001b[0m in \u001b[0;36m<module>\u001b[0;34m\u001b[0m\n\u001b[1;32m      1\u001b[0m \u001b[0mbios\u001b[0m \u001b[0;34m=\u001b[0m \u001b[0mbiosapi\u001b[0m\u001b[0;34m.\u001b[0m\u001b[0mBIOS\u001b[0m\u001b[0;34m(\u001b[0m\u001b[0;34m)\u001b[0m\u001b[0;34m\u001b[0m\u001b[0;34m\u001b[0m\u001b[0m\n\u001b[0;32m----> 2\u001b[0;31m \u001b[0mbios\u001b[0m\u001b[0;34m.\u001b[0m\u001b[0mget_model_reaction\u001b[0m\u001b[0;34m(\u001b[0m\u001b[0;34m'iMM904'\u001b[0m\u001b[0;34m,\u001b[0m \u001b[0;34m'R_PYKs'\u001b[0m\u001b[0;34m)\u001b[0m\u001b[0;34m\u001b[0m\u001b[0;34m\u001b[0m\u001b[0m\n\u001b[0m",
      "\u001b[0;32m~/opt/anaconda3/lib/python3.7/site-packages/biosapi/api.py\u001b[0m in \u001b[0;36mget_model_reaction\u001b[0;34m(self, model_id, rxn_id)\u001b[0m\n\u001b[1;32m    246\u001b[0m         \u001b[0mrequest_url\u001b[0m \u001b[0;34m=\u001b[0m \u001b[0;34m'{}/api/model/{}/rxn/{}'\u001b[0m\u001b[0;34m.\u001b[0m\u001b[0mformat\u001b[0m\u001b[0;34m(\u001b[0m\u001b[0mself\u001b[0m\u001b[0;34m.\u001b[0m\u001b[0mbase_url\u001b[0m\u001b[0;34m,\u001b[0m \u001b[0mmodel_id\u001b[0m\u001b[0;34m,\u001b[0m \u001b[0mrxn_id\u001b[0m\u001b[0;34m)\u001b[0m\u001b[0;34m\u001b[0m\u001b[0;34m\u001b[0m\u001b[0m\n\u001b[1;32m    247\u001b[0m         \u001b[0mresp\u001b[0m \u001b[0;34m=\u001b[0m \u001b[0mrequests\u001b[0m\u001b[0;34m.\u001b[0m\u001b[0mget\u001b[0m\u001b[0;34m(\u001b[0m\u001b[0mrequest_url\u001b[0m\u001b[0;34m,\u001b[0m \u001b[0mheaders\u001b[0m\u001b[0;34m=\u001b[0m\u001b[0mself\u001b[0m\u001b[0;34m.\u001b[0m\u001b[0mheaders\u001b[0m\u001b[0;34m)\u001b[0m\u001b[0;34m\u001b[0m\u001b[0;34m\u001b[0m\u001b[0m\n\u001b[0;32m--> 248\u001b[0;31m         \u001b[0mdata\u001b[0m \u001b[0;34m=\u001b[0m \u001b[0mresp\u001b[0m\u001b[0;34m.\u001b[0m\u001b[0mjson\u001b[0m\u001b[0;34m(\u001b[0m\u001b[0;34m)\u001b[0m\u001b[0;34m\u001b[0m\u001b[0;34m\u001b[0m\u001b[0m\n\u001b[0m\u001b[1;32m    249\u001b[0m         \u001b[0mdata\u001b[0m\u001b[0;34m[\u001b[0m\u001b[0;34m'bios_id'\u001b[0m\u001b[0;34m]\u001b[0m \u001b[0;34m=\u001b[0m \u001b[0mdata\u001b[0m\u001b[0;34m[\u001b[0m\u001b[0;34m'id'\u001b[0m\u001b[0;34m]\u001b[0m\u001b[0;34m\u001b[0m\u001b[0;34m\u001b[0m\u001b[0m\n\u001b[1;32m    250\u001b[0m         \u001b[0;31m#data['id'] = data['properties']['id']\u001b[0m\u001b[0;34m\u001b[0m\u001b[0;34m\u001b[0m\u001b[0;34m\u001b[0m\u001b[0m\n",
      "\u001b[0;32m~/opt/anaconda3/lib/python3.7/site-packages/requests/models.py\u001b[0m in \u001b[0;36mjson\u001b[0;34m(self, **kwargs)\u001b[0m\n\u001b[1;32m    895\u001b[0m                     \u001b[0;31m# used.\u001b[0m\u001b[0;34m\u001b[0m\u001b[0;34m\u001b[0m\u001b[0;34m\u001b[0m\u001b[0m\n\u001b[1;32m    896\u001b[0m                     \u001b[0;32mpass\u001b[0m\u001b[0;34m\u001b[0m\u001b[0;34m\u001b[0m\u001b[0m\n\u001b[0;32m--> 897\u001b[0;31m         \u001b[0;32mreturn\u001b[0m \u001b[0mcomplexjson\u001b[0m\u001b[0;34m.\u001b[0m\u001b[0mloads\u001b[0m\u001b[0;34m(\u001b[0m\u001b[0mself\u001b[0m\u001b[0;34m.\u001b[0m\u001b[0mtext\u001b[0m\u001b[0;34m,\u001b[0m \u001b[0;34m**\u001b[0m\u001b[0mkwargs\u001b[0m\u001b[0;34m)\u001b[0m\u001b[0;34m\u001b[0m\u001b[0;34m\u001b[0m\u001b[0m\n\u001b[0m\u001b[1;32m    898\u001b[0m \u001b[0;34m\u001b[0m\u001b[0m\n\u001b[1;32m    899\u001b[0m     \u001b[0;34m@\u001b[0m\u001b[0mproperty\u001b[0m\u001b[0;34m\u001b[0m\u001b[0;34m\u001b[0m\u001b[0m\n",
      "\u001b[0;32m~/opt/anaconda3/lib/python3.7/json/__init__.py\u001b[0m in \u001b[0;36mloads\u001b[0;34m(s, encoding, cls, object_hook, parse_float, parse_int, parse_constant, object_pairs_hook, **kw)\u001b[0m\n\u001b[1;32m    346\u001b[0m             \u001b[0mparse_int\u001b[0m \u001b[0;32mis\u001b[0m \u001b[0;32mNone\u001b[0m \u001b[0;32mand\u001b[0m \u001b[0mparse_float\u001b[0m \u001b[0;32mis\u001b[0m \u001b[0;32mNone\u001b[0m \u001b[0;32mand\u001b[0m\u001b[0;34m\u001b[0m\u001b[0;34m\u001b[0m\u001b[0m\n\u001b[1;32m    347\u001b[0m             parse_constant is None and object_pairs_hook is None and not kw):\n\u001b[0;32m--> 348\u001b[0;31m         \u001b[0;32mreturn\u001b[0m \u001b[0m_default_decoder\u001b[0m\u001b[0;34m.\u001b[0m\u001b[0mdecode\u001b[0m\u001b[0;34m(\u001b[0m\u001b[0ms\u001b[0m\u001b[0;34m)\u001b[0m\u001b[0;34m\u001b[0m\u001b[0;34m\u001b[0m\u001b[0m\n\u001b[0m\u001b[1;32m    349\u001b[0m     \u001b[0;32mif\u001b[0m \u001b[0mcls\u001b[0m \u001b[0;32mis\u001b[0m \u001b[0;32mNone\u001b[0m\u001b[0;34m:\u001b[0m\u001b[0;34m\u001b[0m\u001b[0;34m\u001b[0m\u001b[0m\n\u001b[1;32m    350\u001b[0m         \u001b[0mcls\u001b[0m \u001b[0;34m=\u001b[0m \u001b[0mJSONDecoder\u001b[0m\u001b[0;34m\u001b[0m\u001b[0;34m\u001b[0m\u001b[0m\n",
      "\u001b[0;32m~/opt/anaconda3/lib/python3.7/json/decoder.py\u001b[0m in \u001b[0;36mdecode\u001b[0;34m(self, s, _w)\u001b[0m\n\u001b[1;32m    335\u001b[0m \u001b[0;34m\u001b[0m\u001b[0m\n\u001b[1;32m    336\u001b[0m         \"\"\"\n\u001b[0;32m--> 337\u001b[0;31m         \u001b[0mobj\u001b[0m\u001b[0;34m,\u001b[0m \u001b[0mend\u001b[0m \u001b[0;34m=\u001b[0m \u001b[0mself\u001b[0m\u001b[0;34m.\u001b[0m\u001b[0mraw_decode\u001b[0m\u001b[0;34m(\u001b[0m\u001b[0ms\u001b[0m\u001b[0;34m,\u001b[0m \u001b[0midx\u001b[0m\u001b[0;34m=\u001b[0m\u001b[0m_w\u001b[0m\u001b[0;34m(\u001b[0m\u001b[0ms\u001b[0m\u001b[0;34m,\u001b[0m \u001b[0;36m0\u001b[0m\u001b[0;34m)\u001b[0m\u001b[0;34m.\u001b[0m\u001b[0mend\u001b[0m\u001b[0;34m(\u001b[0m\u001b[0;34m)\u001b[0m\u001b[0;34m)\u001b[0m\u001b[0;34m\u001b[0m\u001b[0;34m\u001b[0m\u001b[0m\n\u001b[0m\u001b[1;32m    338\u001b[0m         \u001b[0mend\u001b[0m \u001b[0;34m=\u001b[0m \u001b[0m_w\u001b[0m\u001b[0;34m(\u001b[0m\u001b[0ms\u001b[0m\u001b[0;34m,\u001b[0m \u001b[0mend\u001b[0m\u001b[0;34m)\u001b[0m\u001b[0;34m.\u001b[0m\u001b[0mend\u001b[0m\u001b[0;34m(\u001b[0m\u001b[0;34m)\u001b[0m\u001b[0;34m\u001b[0m\u001b[0;34m\u001b[0m\u001b[0m\n\u001b[1;32m    339\u001b[0m         \u001b[0;32mif\u001b[0m \u001b[0mend\u001b[0m \u001b[0;34m!=\u001b[0m \u001b[0mlen\u001b[0m\u001b[0;34m(\u001b[0m\u001b[0ms\u001b[0m\u001b[0;34m)\u001b[0m\u001b[0;34m:\u001b[0m\u001b[0;34m\u001b[0m\u001b[0;34m\u001b[0m\u001b[0m\n",
      "\u001b[0;32m~/opt/anaconda3/lib/python3.7/json/decoder.py\u001b[0m in \u001b[0;36mraw_decode\u001b[0;34m(self, s, idx)\u001b[0m\n\u001b[1;32m    353\u001b[0m             \u001b[0mobj\u001b[0m\u001b[0;34m,\u001b[0m \u001b[0mend\u001b[0m \u001b[0;34m=\u001b[0m \u001b[0mself\u001b[0m\u001b[0;34m.\u001b[0m\u001b[0mscan_once\u001b[0m\u001b[0;34m(\u001b[0m\u001b[0ms\u001b[0m\u001b[0;34m,\u001b[0m \u001b[0midx\u001b[0m\u001b[0;34m)\u001b[0m\u001b[0;34m\u001b[0m\u001b[0;34m\u001b[0m\u001b[0m\n\u001b[1;32m    354\u001b[0m         \u001b[0;32mexcept\u001b[0m \u001b[0mStopIteration\u001b[0m \u001b[0;32mas\u001b[0m \u001b[0merr\u001b[0m\u001b[0;34m:\u001b[0m\u001b[0;34m\u001b[0m\u001b[0;34m\u001b[0m\u001b[0m\n\u001b[0;32m--> 355\u001b[0;31m             \u001b[0;32mraise\u001b[0m \u001b[0mJSONDecodeError\u001b[0m\u001b[0;34m(\u001b[0m\u001b[0;34m\"Expecting value\"\u001b[0m\u001b[0;34m,\u001b[0m \u001b[0ms\u001b[0m\u001b[0;34m,\u001b[0m \u001b[0merr\u001b[0m\u001b[0;34m.\u001b[0m\u001b[0mvalue\u001b[0m\u001b[0;34m)\u001b[0m \u001b[0;32mfrom\u001b[0m \u001b[0;32mNone\u001b[0m\u001b[0;34m\u001b[0m\u001b[0;34m\u001b[0m\u001b[0m\n\u001b[0m\u001b[1;32m    356\u001b[0m         \u001b[0;32mreturn\u001b[0m \u001b[0mobj\u001b[0m\u001b[0;34m,\u001b[0m \u001b[0mend\u001b[0m\u001b[0;34m\u001b[0m\u001b[0;34m\u001b[0m\u001b[0m\n",
      "\u001b[0;31mJSONDecodeError\u001b[0m: Expecting value: line 1 column 1 (char 0)"
     ]
    }
   ],
   "source": [
    "bios = biosapi.BIOS()\n",
    "bios.get_model_reaction('iMM904', 'R_PYKs')"
   ]
  },
  {
   "cell_type": "code",
   "execution_count": 23,
   "metadata": {},
   "outputs": [
    {
     "ename": "JSONDecodeError",
     "evalue": "Expecting value: line 1 column 1 (char 0)",
     "output_type": "error",
     "traceback": [
      "\u001b[0;31m---------------------------------------------------------------------------\u001b[0m",
      "\u001b[0;31mJSONDecodeError\u001b[0m                           Traceback (most recent call last)",
      "\u001b[0;32m<ipython-input-23-8e386c077905>\u001b[0m in \u001b[0;36m<module>\u001b[0;34m\u001b[0m\n\u001b[1;32m     42\u001b[0m                 \u001b[0;31m#print(rxn_id, get_rxn_compartment(rxn, model_id))\u001b[0m\u001b[0;34m\u001b[0m\u001b[0;34m\u001b[0m\u001b[0;34m\u001b[0m\u001b[0m\n\u001b[1;32m     43\u001b[0m     \u001b[0;32mreturn\u001b[0m \u001b[0mmodel_rxn_grp\u001b[0m\u001b[0;34m\u001b[0m\u001b[0;34m\u001b[0m\u001b[0m\n\u001b[0;32m---> 44\u001b[0;31m \u001b[0mget_model_rxn_grp2\u001b[0m\u001b[0;34m(\u001b[0m\u001b[0mannotation_ortholog\u001b[0m\u001b[0;34m,\u001b[0m \u001b[0;34m\"iMM904\"\u001b[0m\u001b[0;34m,\u001b[0m \u001b[0;34m\"rxn00024\"\u001b[0m\u001b[0;34m)\u001b[0m\u001b[0;34m\u001b[0m\u001b[0;34m\u001b[0m\u001b[0m\n\u001b[0m",
      "\u001b[0;32m<ipython-input-23-8e386c077905>\u001b[0m in \u001b[0;36mget_model_rxn_grp2\u001b[0;34m(annotation_ortholog, model_id, seed_rxn_id, compartment, standard_compartment)\u001b[0m\n\u001b[1;32m     28\u001b[0m             \u001b[0;32mfor\u001b[0m \u001b[0mrxn_id\u001b[0m \u001b[0;32min\u001b[0m \u001b[0mannotation_ortholog\u001b[0m\u001b[0;34m.\u001b[0m\u001b[0mmodel_rxn_mapping\u001b[0m\u001b[0;34m[\u001b[0m\u001b[0mmodel_id\u001b[0m\u001b[0;34m]\u001b[0m\u001b[0;34m:\u001b[0m\u001b[0;34m\u001b[0m\u001b[0;34m\u001b[0m\u001b[0m\n\u001b[1;32m     29\u001b[0m                 \u001b[0;32mif\u001b[0m \u001b[0mlen\u001b[0m\u001b[0;34m(\u001b[0m\u001b[0mannotation_ortholog\u001b[0m\u001b[0;34m.\u001b[0m\u001b[0mmodel_rxn_mapping\u001b[0m\u001b[0;34m[\u001b[0m\u001b[0mmodel_id\u001b[0m\u001b[0;34m]\u001b[0m\u001b[0;34m[\u001b[0m\u001b[0mrxn_id\u001b[0m\u001b[0;34m]\u001b[0m\u001b[0;34m)\u001b[0m \u001b[0;34m>\u001b[0m \u001b[0;36m0\u001b[0m\u001b[0;34m:\u001b[0m\u001b[0;34m\u001b[0m\u001b[0;34m\u001b[0m\u001b[0m\n\u001b[0;32m---> 30\u001b[0;31m                     \u001b[0mrxn\u001b[0m \u001b[0;34m=\u001b[0m \u001b[0mannotation_ortholog\u001b[0m\u001b[0;34m.\u001b[0m\u001b[0mbios_get_model_reaction\u001b[0m\u001b[0;34m(\u001b[0m\u001b[0mmodel_id\u001b[0m\u001b[0;34m,\u001b[0m \u001b[0mrxn_id\u001b[0m\u001b[0;34m)\u001b[0m\u001b[0;34m\u001b[0m\u001b[0;34m\u001b[0m\u001b[0m\n\u001b[0m\u001b[1;32m     31\u001b[0m                     \u001b[0mcmp\u001b[0m \u001b[0;34m=\u001b[0m \u001b[0mannotation_ortholog\u001b[0m\u001b[0;34m.\u001b[0m\u001b[0mget_rxn_compartment\u001b[0m\u001b[0;34m(\u001b[0m\u001b[0mrxn\u001b[0m\u001b[0;34m,\u001b[0m \u001b[0mmodel_id\u001b[0m\u001b[0;34m)\u001b[0m\u001b[0;34m\u001b[0m\u001b[0;34m\u001b[0m\u001b[0m\n\u001b[1;32m     32\u001b[0m                     \u001b[0mseed_id\u001b[0m \u001b[0;34m=\u001b[0m \u001b[0mannotation_ortholog\u001b[0m\u001b[0;34m.\u001b[0m\u001b[0mget_reaction_mapping\u001b[0m\u001b[0;34m(\u001b[0m\u001b[0mmodel_id\u001b[0m\u001b[0;34m,\u001b[0m \u001b[0mrxn\u001b[0m\u001b[0;34m.\u001b[0m\u001b[0mid\u001b[0m\u001b[0;34m)\u001b[0m\u001b[0;34m\u001b[0m\u001b[0;34m\u001b[0m\u001b[0m\n",
      "\u001b[0;32m~/workspace/jupyter/python3/annotation-server/annotation_ortholog.py\u001b[0m in \u001b[0;36mbios_get_model_reaction\u001b[0;34m(self, model_id, rxn_id)\u001b[0m\n\u001b[1;32m    223\u001b[0m \u001b[0;34m\u001b[0m\u001b[0m\n\u001b[1;32m    224\u001b[0m     \u001b[0;32mdef\u001b[0m \u001b[0mbios_get_model_reaction\u001b[0m\u001b[0;34m(\u001b[0m\u001b[0mself\u001b[0m\u001b[0;34m,\u001b[0m \u001b[0mmodel_id\u001b[0m\u001b[0;34m,\u001b[0m \u001b[0mrxn_id\u001b[0m\u001b[0;34m)\u001b[0m\u001b[0;34m:\u001b[0m\u001b[0;34m\u001b[0m\u001b[0;34m\u001b[0m\u001b[0m\n\u001b[0;32m--> 225\u001b[0;31m         \u001b[0;32mreturn\u001b[0m \u001b[0mself\u001b[0m\u001b[0;34m.\u001b[0m\u001b[0mbios\u001b[0m\u001b[0;34m.\u001b[0m\u001b[0mget_model_reaction\u001b[0m\u001b[0;34m(\u001b[0m\u001b[0mmodel_id\u001b[0m\u001b[0;34m,\u001b[0m \u001b[0mrxn_id\u001b[0m\u001b[0;34m)\u001b[0m\u001b[0;34m\u001b[0m\u001b[0;34m\u001b[0m\u001b[0m\n\u001b[0m\u001b[1;32m    226\u001b[0m \u001b[0;34m\u001b[0m\u001b[0m\n\u001b[1;32m    227\u001b[0m     \u001b[0;32mdef\u001b[0m \u001b[0mbios_get_model_species\u001b[0m\u001b[0;34m(\u001b[0m\u001b[0mself\u001b[0m\u001b[0;34m,\u001b[0m \u001b[0mmodel_id\u001b[0m\u001b[0;34m,\u001b[0m \u001b[0mspi_id\u001b[0m\u001b[0;34m)\u001b[0m\u001b[0;34m:\u001b[0m\u001b[0;34m\u001b[0m\u001b[0;34m\u001b[0m\u001b[0m\n",
      "\u001b[0;32m~/opt/anaconda3/lib/python3.7/site-packages/biosapi/api.py\u001b[0m in \u001b[0;36mget_model_reaction\u001b[0;34m(self, model_id, rxn_id)\u001b[0m\n\u001b[1;32m    246\u001b[0m         \u001b[0mrequest_url\u001b[0m \u001b[0;34m=\u001b[0m \u001b[0;34m'{}/api/model/{}/rxn/{}'\u001b[0m\u001b[0;34m.\u001b[0m\u001b[0mformat\u001b[0m\u001b[0;34m(\u001b[0m\u001b[0mself\u001b[0m\u001b[0;34m.\u001b[0m\u001b[0mbase_url\u001b[0m\u001b[0;34m,\u001b[0m \u001b[0mmodel_id\u001b[0m\u001b[0;34m,\u001b[0m \u001b[0mrxn_id\u001b[0m\u001b[0;34m)\u001b[0m\u001b[0;34m\u001b[0m\u001b[0;34m\u001b[0m\u001b[0m\n\u001b[1;32m    247\u001b[0m         \u001b[0mresp\u001b[0m \u001b[0;34m=\u001b[0m \u001b[0mrequests\u001b[0m\u001b[0;34m.\u001b[0m\u001b[0mget\u001b[0m\u001b[0;34m(\u001b[0m\u001b[0mrequest_url\u001b[0m\u001b[0;34m,\u001b[0m \u001b[0mheaders\u001b[0m\u001b[0;34m=\u001b[0m\u001b[0mself\u001b[0m\u001b[0;34m.\u001b[0m\u001b[0mheaders\u001b[0m\u001b[0;34m)\u001b[0m\u001b[0;34m\u001b[0m\u001b[0;34m\u001b[0m\u001b[0m\n\u001b[0;32m--> 248\u001b[0;31m         \u001b[0mdata\u001b[0m \u001b[0;34m=\u001b[0m \u001b[0mresp\u001b[0m\u001b[0;34m.\u001b[0m\u001b[0mjson\u001b[0m\u001b[0;34m(\u001b[0m\u001b[0;34m)\u001b[0m\u001b[0;34m\u001b[0m\u001b[0;34m\u001b[0m\u001b[0m\n\u001b[0m\u001b[1;32m    249\u001b[0m         \u001b[0mdata\u001b[0m\u001b[0;34m[\u001b[0m\u001b[0;34m'bios_id'\u001b[0m\u001b[0;34m]\u001b[0m \u001b[0;34m=\u001b[0m \u001b[0mdata\u001b[0m\u001b[0;34m[\u001b[0m\u001b[0;34m'id'\u001b[0m\u001b[0;34m]\u001b[0m\u001b[0;34m\u001b[0m\u001b[0;34m\u001b[0m\u001b[0m\n\u001b[1;32m    250\u001b[0m         \u001b[0;31m#data['id'] = data['properties']['id']\u001b[0m\u001b[0;34m\u001b[0m\u001b[0;34m\u001b[0m\u001b[0;34m\u001b[0m\u001b[0m\n",
      "\u001b[0;32m~/opt/anaconda3/lib/python3.7/site-packages/requests/models.py\u001b[0m in \u001b[0;36mjson\u001b[0;34m(self, **kwargs)\u001b[0m\n\u001b[1;32m    895\u001b[0m                     \u001b[0;31m# used.\u001b[0m\u001b[0;34m\u001b[0m\u001b[0;34m\u001b[0m\u001b[0;34m\u001b[0m\u001b[0m\n\u001b[1;32m    896\u001b[0m                     \u001b[0;32mpass\u001b[0m\u001b[0;34m\u001b[0m\u001b[0;34m\u001b[0m\u001b[0m\n\u001b[0;32m--> 897\u001b[0;31m         \u001b[0;32mreturn\u001b[0m \u001b[0mcomplexjson\u001b[0m\u001b[0;34m.\u001b[0m\u001b[0mloads\u001b[0m\u001b[0;34m(\u001b[0m\u001b[0mself\u001b[0m\u001b[0;34m.\u001b[0m\u001b[0mtext\u001b[0m\u001b[0;34m,\u001b[0m \u001b[0;34m**\u001b[0m\u001b[0mkwargs\u001b[0m\u001b[0;34m)\u001b[0m\u001b[0;34m\u001b[0m\u001b[0;34m\u001b[0m\u001b[0m\n\u001b[0m\u001b[1;32m    898\u001b[0m \u001b[0;34m\u001b[0m\u001b[0m\n\u001b[1;32m    899\u001b[0m     \u001b[0;34m@\u001b[0m\u001b[0mproperty\u001b[0m\u001b[0;34m\u001b[0m\u001b[0;34m\u001b[0m\u001b[0m\n",
      "\u001b[0;32m~/opt/anaconda3/lib/python3.7/json/__init__.py\u001b[0m in \u001b[0;36mloads\u001b[0;34m(s, encoding, cls, object_hook, parse_float, parse_int, parse_constant, object_pairs_hook, **kw)\u001b[0m\n\u001b[1;32m    346\u001b[0m             \u001b[0mparse_int\u001b[0m \u001b[0;32mis\u001b[0m \u001b[0;32mNone\u001b[0m \u001b[0;32mand\u001b[0m \u001b[0mparse_float\u001b[0m \u001b[0;32mis\u001b[0m \u001b[0;32mNone\u001b[0m \u001b[0;32mand\u001b[0m\u001b[0;34m\u001b[0m\u001b[0;34m\u001b[0m\u001b[0m\n\u001b[1;32m    347\u001b[0m             parse_constant is None and object_pairs_hook is None and not kw):\n\u001b[0;32m--> 348\u001b[0;31m         \u001b[0;32mreturn\u001b[0m \u001b[0m_default_decoder\u001b[0m\u001b[0;34m.\u001b[0m\u001b[0mdecode\u001b[0m\u001b[0;34m(\u001b[0m\u001b[0ms\u001b[0m\u001b[0;34m)\u001b[0m\u001b[0;34m\u001b[0m\u001b[0;34m\u001b[0m\u001b[0m\n\u001b[0m\u001b[1;32m    349\u001b[0m     \u001b[0;32mif\u001b[0m \u001b[0mcls\u001b[0m \u001b[0;32mis\u001b[0m \u001b[0;32mNone\u001b[0m\u001b[0;34m:\u001b[0m\u001b[0;34m\u001b[0m\u001b[0;34m\u001b[0m\u001b[0m\n\u001b[1;32m    350\u001b[0m         \u001b[0mcls\u001b[0m \u001b[0;34m=\u001b[0m \u001b[0mJSONDecoder\u001b[0m\u001b[0;34m\u001b[0m\u001b[0;34m\u001b[0m\u001b[0m\n",
      "\u001b[0;32m~/opt/anaconda3/lib/python3.7/json/decoder.py\u001b[0m in \u001b[0;36mdecode\u001b[0;34m(self, s, _w)\u001b[0m\n\u001b[1;32m    335\u001b[0m \u001b[0;34m\u001b[0m\u001b[0m\n\u001b[1;32m    336\u001b[0m         \"\"\"\n\u001b[0;32m--> 337\u001b[0;31m         \u001b[0mobj\u001b[0m\u001b[0;34m,\u001b[0m \u001b[0mend\u001b[0m \u001b[0;34m=\u001b[0m \u001b[0mself\u001b[0m\u001b[0;34m.\u001b[0m\u001b[0mraw_decode\u001b[0m\u001b[0;34m(\u001b[0m\u001b[0ms\u001b[0m\u001b[0;34m,\u001b[0m \u001b[0midx\u001b[0m\u001b[0;34m=\u001b[0m\u001b[0m_w\u001b[0m\u001b[0;34m(\u001b[0m\u001b[0ms\u001b[0m\u001b[0;34m,\u001b[0m \u001b[0;36m0\u001b[0m\u001b[0;34m)\u001b[0m\u001b[0;34m.\u001b[0m\u001b[0mend\u001b[0m\u001b[0;34m(\u001b[0m\u001b[0;34m)\u001b[0m\u001b[0;34m)\u001b[0m\u001b[0;34m\u001b[0m\u001b[0;34m\u001b[0m\u001b[0m\n\u001b[0m\u001b[1;32m    338\u001b[0m         \u001b[0mend\u001b[0m \u001b[0;34m=\u001b[0m \u001b[0m_w\u001b[0m\u001b[0;34m(\u001b[0m\u001b[0ms\u001b[0m\u001b[0;34m,\u001b[0m \u001b[0mend\u001b[0m\u001b[0;34m)\u001b[0m\u001b[0;34m.\u001b[0m\u001b[0mend\u001b[0m\u001b[0;34m(\u001b[0m\u001b[0;34m)\u001b[0m\u001b[0;34m\u001b[0m\u001b[0;34m\u001b[0m\u001b[0m\n\u001b[1;32m    339\u001b[0m         \u001b[0;32mif\u001b[0m \u001b[0mend\u001b[0m \u001b[0;34m!=\u001b[0m \u001b[0mlen\u001b[0m\u001b[0;34m(\u001b[0m\u001b[0ms\u001b[0m\u001b[0;34m)\u001b[0m\u001b[0;34m:\u001b[0m\u001b[0;34m\u001b[0m\u001b[0;34m\u001b[0m\u001b[0m\n",
      "\u001b[0;32m~/opt/anaconda3/lib/python3.7/json/decoder.py\u001b[0m in \u001b[0;36mraw_decode\u001b[0;34m(self, s, idx)\u001b[0m\n\u001b[1;32m    353\u001b[0m             \u001b[0mobj\u001b[0m\u001b[0;34m,\u001b[0m \u001b[0mend\u001b[0m \u001b[0;34m=\u001b[0m \u001b[0mself\u001b[0m\u001b[0;34m.\u001b[0m\u001b[0mscan_once\u001b[0m\u001b[0;34m(\u001b[0m\u001b[0ms\u001b[0m\u001b[0;34m,\u001b[0m \u001b[0midx\u001b[0m\u001b[0;34m)\u001b[0m\u001b[0;34m\u001b[0m\u001b[0;34m\u001b[0m\u001b[0m\n\u001b[1;32m    354\u001b[0m         \u001b[0;32mexcept\u001b[0m \u001b[0mStopIteration\u001b[0m \u001b[0;32mas\u001b[0m \u001b[0merr\u001b[0m\u001b[0;34m:\u001b[0m\u001b[0;34m\u001b[0m\u001b[0;34m\u001b[0m\u001b[0m\n\u001b[0;32m--> 355\u001b[0;31m             \u001b[0;32mraise\u001b[0m \u001b[0mJSONDecodeError\u001b[0m\u001b[0;34m(\u001b[0m\u001b[0;34m\"Expecting value\"\u001b[0m\u001b[0;34m,\u001b[0m \u001b[0ms\u001b[0m\u001b[0;34m,\u001b[0m \u001b[0merr\u001b[0m\u001b[0;34m.\u001b[0m\u001b[0mvalue\u001b[0m\u001b[0;34m)\u001b[0m \u001b[0;32mfrom\u001b[0m \u001b[0;32mNone\u001b[0m\u001b[0;34m\u001b[0m\u001b[0;34m\u001b[0m\u001b[0m\n\u001b[0m\u001b[1;32m    356\u001b[0m         \u001b[0;32mreturn\u001b[0m \u001b[0mobj\u001b[0m\u001b[0;34m,\u001b[0m \u001b[0mend\u001b[0m\u001b[0;34m\u001b[0m\u001b[0;34m\u001b[0m\u001b[0m\n",
      "\u001b[0;31mJSONDecodeError\u001b[0m: Expecting value: line 1 column 1 (char 0)"
     ]
    }
   ],
   "source": [
    "def get_model_rxn_grp(annotation_ortholog, seed_rxn_id, compartment = None, standard_compartment = True):\n",
    "    model_rxn_grp = {}\n",
    "    for model_id in annotation_ortholog.models:\n",
    "        model_rxn_grp[model_id] = {}\n",
    "        if model_id in annotation_ortholog.model_rxn_mapping:\n",
    "            for rxn_id in annotation_ortholog.model_rxn_mapping[model_id]:\n",
    "                if len(annotation_ortholog.model_rxn_mapping[model_id][rxn_id]) > 0:\n",
    "                    rxn = annotation_ortholog.bios_get_model_reaction(model_id, rxn_id)\n",
    "                    cmp = annotation_ortholog.get_rxn_compartment(rxn, model_id)\n",
    "                    seed_id = annotation_ortholog.get_reaction_mapping(model_id, rxn.id)\n",
    "                    if seed_rxn_id in seed_id:\n",
    "                        if compartment == None:\n",
    "                            kbase_rxn = annotation_ortholog.get_kbase_reaction(model_id, rxn.id)\n",
    "                            if not kbase_rxn == None:\n",
    "                                model_rxn_grp[model_id][rxn.id] = kbase_rxn\n",
    "                            else:\n",
    "                                print('!!!!')\n",
    "                        else:\n",
    "                            model_rxn_grp[model_id][rxn.id] = rxn\n",
    "                #print(rxn_id, get_rxn_compartment(rxn, model_id))\n",
    "    return model_rxn_grp\n",
    "\n",
    "def get_model_rxn_grp2(annotation_ortholog, model_id, seed_rxn_id, compartment = None, standard_compartment = True):\n",
    "    model_rxn_grp = {}\n",
    "    for model_id in annotation_ortholog.models:\n",
    "        model_rxn_grp[model_id] = {}\n",
    "        if model_id in annotation_ortholog.model_rxn_mapping:\n",
    "            for rxn_id in annotation_ortholog.model_rxn_mapping[model_id]:\n",
    "                if len(annotation_ortholog.model_rxn_mapping[model_id][rxn_id]) > 0:\n",
    "                    rxn = annotation_ortholog.bios_get_model_reaction(model_id, rxn_id)\n",
    "                    cmp = annotation_ortholog.get_rxn_compartment(rxn, model_id)\n",
    "                    seed_id = annotation_ortholog.get_reaction_mapping(model_id, rxn.id)\n",
    "                    if seed_rxn_id in seed_id:\n",
    "                        if compartment == None:\n",
    "                            kbase_rxn = annotation_ortholog.get_kbase_reaction(model_id, rxn.id)\n",
    "                            if not kbase_rxn == None:\n",
    "                                model_rxn_grp[model_id][rxn.id] = kbase_rxn\n",
    "                            else:\n",
    "                                print('!!!!')\n",
    "                        else:\n",
    "                            model_rxn_grp[model_id][rxn.id] = rxn\n",
    "                #print(rxn_id, get_rxn_compartment(rxn, model_id))\n",
    "    return model_rxn_grp\n",
    "get_model_rxn_grp2(annotation_ortholog, \"iMM904\", \"rxn00024\")"
   ]
  },
  {
   "cell_type": "code",
   "execution_count": 22,
   "metadata": {},
   "outputs": [
    {
     "name": "stderr",
     "output_type": "stream",
     "text": [
      "WARNING:__main__:[iWV1213] missing id\n",
      "WARNING:__main__:[iWV1213] missing id\n",
      "WARNING:__main__:[iWV1213] missing id\n",
      "WARNING:__main__:[iWV1213] missing id\n",
      "WARNING:__main__:[iWV1213] missing id\n",
      "WARNING:__main__:[iWV1213] missing id\n",
      "WARNING:__main__:[iWV1213] missing id\n"
     ]
    }
   ],
   "source": [
    "%run ../bios_mock.py\n",
    "bios = BIOS_MOCK(CACHE_BASE_FOLDER + '/bios_cache_fungi.json')"
   ]
  },
  {
   "cell_type": "code",
   "execution_count": 19,
   "metadata": {},
   "outputs": [],
   "source": [
    "model_rxn_mapping = None\n",
    "with open(CACHE_BASE_FOLDER + 'rxn_mapping_cache3.json', 'r') as f:\n",
    "    model_rxn_mapping = json.loads(f.read())\n",
    "model_cpd_mapping = None\n",
    "with open(CACHE_BASE_FOLDER + 'cpd_mapping_cache3.json', 'r') as f:\n",
    "    model_cpd_mapping = json.loads(f.read())"
   ]
  },
  {
   "cell_type": "code",
   "execution_count": 24,
   "metadata": {},
   "outputs": [
    {
     "name": "stdout",
     "output_type": "stream",
     "text": [
      "GCF_000226395.1 janakakbase:narrative_1570052138482\n",
      "GCF_000182925.2 janakakbase:narrative_1570052138482\n",
      "GCF_000146045.2 janakakbase:narrative_1570052138482\n",
      "Encephalitozoon_hellem_ATCC_50504 janakakbase:narrative_1570052138482\n"
     ]
    },
    {
     "name": "stderr",
     "output_type": "stream",
     "text": [
      "WARNING:__main__:load [iNL895_KBase2:jplfaria:narrative_1510597445008]\n"
     ]
    },
    {
     "name": "stdout",
     "output_type": "stream",
     "text": [
      "Schizophyllum_commune_H4-8 janakakbase:narrative_1570052138482\n",
      "49164/6/1 GCF_000226395.1 Penicillium rubens Wisconsin 54-1255\n",
      "49164/5/1 GCF_000182925.2 Neurospora crassa OR74A\n",
      "49164/4/1 GCF_000146045.2 Saccharomyces cerevisiae S288c\n",
      "49164/3/1 GCF_000277815.2 Encephalitozoon hellem ATCC 50504\n",
      "49164/2/1 GCF_000143185.1 Schizophyllum commune H4-8\n"
     ]
    },
    {
     "name": "stderr",
     "output_type": "stream",
     "text": [
      "WARNING:__main__:load [iCT646_KBase2:jplfaria:narrative_1510597445008]\n",
      "WARNING:__main__:load [iMM904_KBase3:jplfaria:narrative_1510597445008]\n",
      "WARNING:__main__:load [iTO977_KBase2:jplfaria:narrative_1510597445008]\n",
      "WARNING:__main__:load [iSS884_KBase2:jplfaria:narrative_1510597445008]\n",
      "WARNING:__main__:load [iLC915_KBase2:jplfaria:narrative_1510597445008]\n",
      "WARNING:__main__:load [iWV1213_KBase2:jplfaria:narrative_1510597445008]\n",
      "WARNING:__main__:load [iAL1006_KBase3:jplfaria:narrative_1510597445008]\n",
      "WARNING:__main__:load [iRL766_KBase2:jplfaria:narrative_1510597445008]\n",
      "WARNING:__main__:load [iMA871_KBase2:jplfaria:narrative_1510597445008]\n",
      "WARNING:__main__:load [iJDZ836_KBase3:jplfaria:narrative_1510597445008]\n",
      "WARNING:__main__:load [iWV1314_KBase2:jplfaria:narrative_1510597445008]\n",
      "WARNING:__main__:load [iOD907_KBase2:jplfaria:narrative_1510597445008]\n",
      "WARNING:__main__:load [iJL1454_KBase2:jplfaria:narrative_1510597445008]\n",
      "WARNING:__main__:load [iNX804_KBase2:jplfaria:narrative_1510597445008]\n",
      "WARNING:__main__:load [yeast_6.06_KBase2:jplfaria:narrative_1510597445008]\n",
      "WARNING:__main__:load [yeast_7.6_KBase2:jplfaria:narrative_1510597445008]\n",
      "WARNING:__main__:[iOD907] R_00511: ( 3.A.1.208.# )\n",
      "WARNING:__main__:[iOD907] R_01844: ( 3.A.1.208.# )\n",
      "WARNING:__main__:[iOD907] R_01313: ( 9.A.6.1.# )\n"
     ]
    }
   ],
   "source": [
    "annotation_ortholog = build_annotation_ortholog(kbase, CACHE_BASE_FOLDER, bios)"
   ]
  },
  {
   "cell_type": "code",
   "execution_count": 25,
   "metadata": {},
   "outputs": [],
   "source": [
    "annotation_ortholog.model_rxn_mapping = model_rxn_mapping\n",
    "annotation_ortholog.model_cpd_mapping = model_cpd_mapping"
   ]
  },
  {
   "cell_type": "code",
   "execution_count": null,
   "metadata": {},
   "outputs": [],
   "source": []
  },
  {
   "cell_type": "code",
   "execution_count": 34,
   "metadata": {},
   "outputs": [
    {
     "name": "stdout",
     "output_type": "stream",
     "text": [
      "YOR347C pyruvate kinase PYK2 cluster614\n",
      "YAL038W pyruvate kinase CDC19 cluster614\n",
      "YOR347C pyruvate kinase PYK2 cluster614\n",
      "YAL038W pyruvate kinase CDC19 cluster614\n",
      "Pc18g06000 hypothetical protein cluster614\n",
      "YOR347C pyruvate kinase PYK2 cluster614\n",
      "YAL038W pyruvate kinase CDC19 cluster614\n",
      "YOR347C pyruvate kinase PYK2 cluster614\n",
      "YAL038W pyruvate kinase CDC19 cluster614\n"
     ]
    }
   ],
   "source": [
    "all_orthologs, matched_orthologs, genome_match = annotation_ortholog.get_orthologs_from_seed_rxn_id2('rxn00148')"
   ]
  },
  {
   "cell_type": "code",
   "execution_count": null,
   "metadata": {},
   "outputs": [],
   "source": [
    "annotation_orth.process_data2"
   ]
  },
  {
   "cell_type": "code",
   "execution_count": null,
   "metadata": {},
   "outputs": [],
   "source": [
    "'' ''"
   ]
  },
  {
   "cell_type": "code",
   "execution_count": 52,
   "metadata": {},
   "outputs": [
    {
     "ename": "KeyError",
     "evalue": "'GCF_000146045.2l'",
     "output_type": "error",
     "traceback": [
      "\u001b[0;31m---------------------------------------------------------------------------\u001b[0m",
      "\u001b[0;31mKeyError\u001b[0m                                  Traceback (most recent call last)",
      "\u001b[0;32m<ipython-input-52-5bf061df3d88>\u001b[0m in \u001b[0;36m<module>\u001b[0;34m\u001b[0m\n\u001b[1;32m      3\u001b[0m     \u001b[0;32mreturn\u001b[0m \u001b[0mortholog\u001b[0m\u001b[0;34m\u001b[0m\u001b[0m\n\u001b[1;32m      4\u001b[0m \u001b[0;34m\u001b[0m\u001b[0m\n\u001b[0;32m----> 5\u001b[0;31m \u001b[0mgenome_ref\u001b[0m \u001b[0;34m=\u001b[0m \u001b[0mannotation_ortholog\u001b[0m\u001b[0;34m.\u001b[0m\u001b[0mgenome_id_to_ref\u001b[0m\u001b[0;34m[\u001b[0m\u001b[0mgenome_id\u001b[0m\u001b[0;34m]\u001b[0m\u001b[0;34m\u001b[0m\u001b[0m\n\u001b[0m",
      "\u001b[0;31mKeyError\u001b[0m: 'GCF_000146045.2l'"
     ]
    }
   ],
   "source": [
    "def get_ortholog_from_gene(annotation_ortholog, gene_id, genome_id):\n",
    "    ortholog = annotation_ortholog.get_ortholog(genome_id, gene_id)\n",
    "    return ortholog\n",
    "\n",
    "genome_ref = annotation_ortholog.genome_id_to_ref[genome_id]"
   ]
  },
  {
   "cell_type": "code",
   "execution_count": 53,
   "metadata": {},
   "outputs": [
    {
     "data": {
      "text/plain": [
       "{'gene_reaction': {'GCF_000226395.1': {'Pc18g03290': []},\n",
       "  'GCF_000182925.2': {'NCU05008': []},\n",
       "  'GCF_000146045.2': {'YKL192C': ['r_2143',\n",
       "    'r_2142',\n",
       "    'r_0721',\n",
       "    'r_2144',\n",
       "    'r_0099']},\n",
       "  'GCF_000143185.1': {'SCHCODRAFT_64587': []}},\n",
       " 'orthologs': {'cluster3465': {'GCF_000226395.1': {'Pc18g03290': 'hypothetical protein'},\n",
       "   'GCF_000182925.2': {'NCU05008': 'acp-1'},\n",
       "   'GCF_000146045.2': {'YKL192C': 'acyl carrier protein'},\n",
       "   'GCF_000143185.1': {'SCHCODRAFT_64587': '?'}}},\n",
       " 'genomes': {}}"
      ]
     },
     "execution_count": 53,
     "metadata": {},
     "output_type": "execute_result"
    }
   ],
   "source": [
    "gene_id = 'YKL192C'\n",
    "genome_id = 'GCF_000146045.2'\n",
    "res = annotation_ortholog.get_ortholog(genome_id, gene_id)\n",
    "column_data = {}\n",
    "if not res == None:\n",
    "    ortholog_id = res['id']\n",
    "    column_data = annotation_ortholog.process_data2({\n",
    "        (genome_id, gene_id, ortholog_id)\n",
    "    }, {})\n",
    "column_data"
   ]
  },
  {
   "cell_type": "code",
   "execution_count": 39,
   "metadata": {},
   "outputs": [
    {
     "data": {
      "text/plain": [
       "{('GCF_000146045.2', 'YAL038W', 'cluster614'),\n",
       " ('GCF_000146045.2', 'YOR347C', 'cluster614'),\n",
       " ('GCF_000182925.2', 'NCU06075', 'cluster614'),\n",
       " ('GCF_000226395.1', 'Pc18g06000', 'cluster614')}"
      ]
     },
     "execution_count": 39,
     "metadata": {},
     "output_type": "execute_result"
    }
   ],
   "source": [
    "all_orthologs"
   ]
  },
  {
   "cell_type": "code",
   "execution_count": 44,
   "metadata": {},
   "outputs": [
    {
     "data": {
      "text/plain": [
       "{'gene_reaction': {'GCF_000226395.1': {'Pc18g03290': []},\n",
       "  'GCF_000182925.2': {'NCU05008': []},\n",
       "  'GCF_000146045.2': {'YKL192C': ['r_2143',\n",
       "    'r_2142',\n",
       "    'r_0721',\n",
       "    'r_2144',\n",
       "    'r_0099']},\n",
       "  'GCF_000143185.1': {'SCHCODRAFT_64587': []}},\n",
       " 'orthologs': {'cluster3465': {'GCF_000226395.1': {'Pc18g03290': 'hypothetical protein'},\n",
       "   'GCF_000182925.2': {'NCU05008': 'acp-1'},\n",
       "   'GCF_000146045.2': {'YKL192C': 'acyl carrier protein'},\n",
       "   'GCF_000143185.1': {'SCHCODRAFT_64587': '?'}}},\n",
       " 'genomes': {}}"
      ]
     },
     "execution_count": 44,
     "metadata": {},
     "output_type": "execute_result"
    }
   ],
   "source": []
  },
  {
   "cell_type": "code",
   "execution_count": null,
   "metadata": {},
   "outputs": [],
   "source": []
  },
  {
   "cell_type": "code",
   "execution_count": null,
   "metadata": {},
   "outputs": [],
   "source": []
  },
  {
   "cell_type": "code",
   "execution_count": null,
   "metadata": {},
   "outputs": [],
   "source": []
  },
  {
   "cell_type": "code",
   "execution_count": null,
   "metadata": {},
   "outputs": [],
   "source": []
  },
  {
   "cell_type": "code",
   "execution_count": null,
   "metadata": {},
   "outputs": [],
   "source": []
  }
 ],
 "metadata": {
  "kernelspec": {
   "display_name": "Python 3",
   "language": "python",
   "name": "python3"
  },
  "language_info": {
   "codemirror_mode": {
    "name": "ipython",
    "version": 3
   },
   "file_extension": ".py",
   "mimetype": "text/x-python",
   "name": "python",
   "nbconvert_exporter": "python",
   "pygments_lexer": "ipython3",
   "version": "3.7.4"
  }
 },
 "nbformat": 4,
 "nbformat_minor": 4
}
