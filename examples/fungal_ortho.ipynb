{
 "cells": [
  {
   "cell_type": "code",
   "execution_count": 1,
   "metadata": {},
   "outputs": [
    {
     "name": "stdout",
     "output_type": "stream",
     "text": [
      "cobrakbase 0.2.2\n"
     ]
    }
   ],
   "source": [
    "import logging\n",
    "import os\n",
    "import pymongo\n",
    "import cobrakbase\n",
    "import time\n",
    "\n",
    "logger = logging.getLogger(__name__)\n",
    "%run ../../scripts/bios_utils.py"
   ]
  },
  {
   "cell_type": "code",
   "execution_count": 2,
   "metadata": {},
   "outputs": [],
   "source": [
    "kbase = cobrakbase.KBaseAPI(token='UGOG6KLAWTCYI2ASYECYHNIIFTEXGA2J')"
   ]
  },
  {
   "cell_type": "code",
   "execution_count": 15,
   "metadata": {},
   "outputs": [],
   "source": [
    "%run ../annotation_ortholog.py"
   ]
  },
  {
   "cell_type": "code",
   "execution_count": 12,
   "metadata": {},
   "outputs": [],
   "source": [
    "gpr_prefix = '_KBase3.json'\n",
    "model_id = 'iMM904'\n",
    "fbamodel_gpr = cobrakbase.core.model.KBaseFBAModel(read_json(CACHE_BASE_FOLDER + '/cache/models/' + model_id + gpr_prefix))"
   ]
  },
  {
   "cell_type": "code",
   "execution_count": 14,
   "metadata": {},
   "outputs": [
    {
     "data": {
      "text/plain": [
       "'40036/286/1'"
      ]
     },
     "execution_count": 14,
     "metadata": {},
     "output_type": "execute_result"
    }
   ],
   "source": [
    "fbamodel_gpr.data['genome_ref']"
   ]
  },
  {
   "cell_type": "code",
   "execution_count": 16,
   "metadata": {},
   "outputs": [
    {
     "name": "stdout",
     "output_type": "stream",
     "text": [
      "GCF_000146045.2 janakakbase:narrative_1570052138482\n",
      "GCF_000002545.3 janakakbase:narrative_1570052138482\n",
      "GCF_000091025.4 janakakbase:narrative_1570052138482\n",
      "GCF_000209165.1 janakakbase:narrative_1570052138482\n",
      "GCF_000149615.1 janakakbase:narrative_1570052138482\n",
      "GCF_000002515.2 janakakbase:narrative_1570052138482\n",
      "GCF_000006335.2 janakakbase:narrative_1570052138482\n",
      "GCF_000002525.2 janakakbase:narrative_1570052138482\n",
      "Mucor_circinelloides_CBS277.49_v2.0 janakakbase:narrative_1570052138482\n",
      "GCF_000226395.1 janakakbase:narrative_1570052138482\n",
      "GCF_000184455.2 janakakbase:narrative_1570052138482\n",
      "GCF_000027005.1 janakakbase:narrative_1570052138482\n",
      "GCF_000182925.2 janakakbase:narrative_1570052138482\n",
      "49164/4/3 GCF_000146045.2 Saccharomyces cerevisiae S288c\n",
      "49164/10/1 GCF_000002545.3 Candida glabrata CBS 138\n",
      "49164/13/1 GCF_000091025.4 Eremothecium gossypii ATCC 10895\n",
      "49164/14/1 GCF_000209165.1 Scheffersomyces stipitis CBS 6054\n",
      "49164/9/1 GCF_000149615.1 Aspergillus terreus NIH2624\n",
      "49164/18/1 GCF_000002515.2 Kluyveromyces lactis NRRL Y-1140\n",
      "49164/11/1 GCF_000006335.2 Candida tropicalis MYA-3404\n",
      "49164/15/1 GCF_000002525.2 Yarrowia lipolytica CLIB122\n",
      "49164/16/1 Mucor_circinelloides_CBS277.49_v2.0 unknown_taxon\n",
      "49164/6/2 GCF_000226395.1 Penicillium rubens Wisconsin 54-1255\n",
      "49164/17/1 GCF_000184455.2 Aspergillus oryzae RIB40\n",
      "49164/12/1 GCF_000027005.1 Komagataella phaffii GS115\n",
      "49164/5/2 GCF_000182925.2 Neurospora crassa OR74A\n",
      "iJDZ836 z0 vacuolar membrane\n",
      "iJDZ836 z1 periplasmic space (sensu Fungi)\n",
      "iJDZ836 z2 vacuolar lumen\n",
      "iJDZ836 z3 nuclear lumen\n",
      "iJDZ836 z4 glyoxysome\n",
      "iJDZ836 z5 mitochondrial lumen\n",
      "iJDZ836 z6 plasma membrane (sensu Fungi)\n",
      "iAL1006 z0 Peroxisome\n",
      "iAL1006 z1 Mitochondria\n"
     ]
    },
    {
     "data": {
      "text/plain": [
       "<__main__.AnnotationOrtholog at 0x7fe00b87c550>"
      ]
     },
     "execution_count": 16,
     "metadata": {},
     "output_type": "execute_result"
    }
   ],
   "source": [
    "CACHE_BASE_FOLDER = '/Users/fliu/workspace/jupyter/python3/annotation-server/data/'\n",
    "build_annotation_ortholog(kbase, CACHE_BASE_FOLDER)"
   ]
  },
  {
   "cell_type": "code",
   "execution_count": 31,
   "metadata": {},
   "outputs": [
    {
     "name": "stdout",
     "output_type": "stream",
     "text": [
      "49164/7/1 FungalOrthos janakakbase:narrative_1570052138482\n"
     ]
    }
   ],
   "source": [
    "ref_info = kbase.get_object_info_from_ref('49164/7/1')\n",
    "print(ref_info, ref_info.id, ref_info.workspace_id)"
   ]
  },
  {
   "cell_type": "code",
   "execution_count": 7,
   "metadata": {},
   "outputs": [],
   "source": [
    "fungal_orthos = kbase.get_object(ref_info.id, ref_info.workspace_id)"
   ]
  },
  {
   "cell_type": "code",
   "execution_count": null,
   "metadata": {},
   "outputs": [],
   "source": [
    "write_json(fungal_orthos, '../../../data/kbase_data/janakakbase_narrative_1570052138482/')"
   ]
  },
  {
   "cell_type": "code",
   "execution_count": 10,
   "metadata": {},
   "outputs": [
    {
     "name": "stdout",
     "output_type": "stream",
     "text": [
      "genome_refs <class 'list'>\n",
      "id <class 'str'>\n",
      "name <class 'str'>\n",
      "orthologs <class 'list'>\n",
      "type <class 'str'>\n"
     ]
    }
   ],
   "source": [
    "for k in fungal_orthos.keys():\n",
    "    print(k, type(fungal_orthos[k]))"
   ]
  },
  {
   "cell_type": "code",
   "execution_count": 20,
   "metadata": {},
   "outputs": [
    {
     "name": "stdout",
     "output_type": "stream",
     "text": [
      "GCF_000226395.1 49164/6/1 janakakbase:narrative_1570052138482\n",
      "GCF_000182925.2 49164/5/1 janakakbase:narrative_1570052138482\n",
      "GCF_000146045.2 49164/4/1 janakakbase:narrative_1570052138482\n",
      "Encephalitozoon_hellem_ATCC_50504 49164/3/1 janakakbase:narrative_1570052138482\n",
      "Schizophyllum_commune_H4-8 49164/2/1 janakakbase:narrative_1570052138482\n"
     ]
    }
   ],
   "source": [
    "#GCF_000277815.2 Encephalitozoon_hellem_ATCC_50504\n",
    "#GCF_000143185.1 Schizophyllum_commune_H4-8\n",
    "for genome_ref in fungal_orthos['genome_refs']:\n",
    "    ref_info = kbase.get_object_info_from_ref(genome_ref)\n",
    "    print(ref_info.id, genome_ref, ref_info.workspace_id)"
   ]
  },
  {
   "cell_type": "code",
   "execution_count": 28,
   "metadata": {},
   "outputs": [
    {
     "name": "stdout",
     "output_type": "stream",
     "text": [
      "cluster844 (R,R)-butanediol dehydrogenase\n",
      "['Pc23g00940', 13504, '49164/6/1']\n",
      "['Pc21g01400', 139, '49164/6/1']\n",
      "['Pc21g02320', 234, '49164/6/1']\n",
      "['YAL061W', 10, '49164/4/1']\n",
      "['YAL060W', 11, '49164/4/1']\n"
     ]
    }
   ],
   "source": [
    "for o in fungal_orthos['orthologs']:\n",
    "    if o['id'] == 'cluster844':\n",
    "        print(o['id'], o['function'])\n",
    "        for ortholog in o['orthologs']:\n",
    "            print(ortholog)\n",
    "        break"
   ]
  },
  {
   "cell_type": "code",
   "execution_count": 21,
   "metadata": {},
   "outputs": [],
   "source": [
    "genome_data = kbase.get_object('GCF_000146045.2', 'janakakbase:narrative_1570052138482')"
   ]
  },
  {
   "cell_type": "code",
   "execution_count": 27,
   "metadata": {},
   "outputs": [
    {
     "data": {
      "text/plain": [
       "'YNL284C-B'"
      ]
     },
     "execution_count": 27,
     "metadata": {},
     "output_type": "execute_result"
    }
   ],
   "source": [
    "genome_data['features'][4955]['id']"
   ]
  },
  {
   "cell_type": "code",
   "execution_count": null,
   "metadata": {},
   "outputs": [],
   "source": []
  }
 ],
 "metadata": {
  "kernelspec": {
   "display_name": "Python 3",
   "language": "python",
   "name": "python3"
  },
  "language_info": {
   "codemirror_mode": {
    "name": "ipython",
    "version": 3
   },
   "file_extension": ".py",
   "mimetype": "text/x-python",
   "name": "python",
   "nbconvert_exporter": "python",
   "pygments_lexer": "ipython3",
   "version": "3.6.5"
  }
 },
 "nbformat": 4,
 "nbformat_minor": 2
}
