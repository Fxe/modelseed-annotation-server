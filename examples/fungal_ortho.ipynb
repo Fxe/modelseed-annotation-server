{
 "cells": [
  {
   "cell_type": "code",
   "execution_count": 1,
   "metadata": {},
   "outputs": [
    {
     "name": "stdout",
     "output_type": "stream",
     "text": [
      "cobrakbase 0.2.2\n"
     ]
    }
   ],
   "source": [
    "import logging\n",
    "import os\n",
    "import pymongo\n",
    "import cobrakbase\n",
    "import time\n",
    "\n",
    "logger = logging.getLogger(__name__)\n",
    "%run ../../scripts/bios_utils.py"
   ]
  },
  {
   "cell_type": "code",
   "execution_count": 5,
   "metadata": {},
   "outputs": [],
   "source": [
    "CACHE_BASE_FOLDER = '/Users/fliu/workspace/jupyter/python3/annotation-server/data/'\n",
    "kbase = cobrakbase.KBaseAPI(token='UGOG6KLAWTCYI2ASYECYHNIIFTEXGA2J')"
   ]
  },
  {
   "cell_type": "code",
   "execution_count": 21,
   "metadata": {},
   "outputs": [],
   "source": [
    "%run ../annotation_ortholog.py\n"
   ]
  },
  {
   "cell_type": "code",
   "execution_count": 22,
   "metadata": {},
   "outputs": [
    {
     "name": "stderr",
     "output_type": "stream",
     "text": [
      "WARNING:__main__:[iWV1213] missing id\n",
      "WARNING:__main__:[iWV1213] missing id\n",
      "WARNING:__main__:[iWV1213] missing id\n",
      "WARNING:__main__:[iWV1213] missing id\n",
      "WARNING:__main__:[iWV1213] missing id\n",
      "WARNING:__main__:[iWV1213] missing id\n",
      "WARNING:__main__:[iWV1213] missing id\n"
     ]
    }
   ],
   "source": [
    "%run ../bios_mock.py\n",
    "bios = BIOS_MOCK(CACHE_BASE_FOLDER + '/bios_cache_fungi.json')"
   ]
  },
  {
   "cell_type": "code",
   "execution_count": 23,
   "metadata": {},
   "outputs": [],
   "source": [
    "model_rxn_mapping = None\n",
    "with open(CACHE_BASE_FOLDER + 'rxn_mapping_cache3.json', 'r') as f:\n",
    "    model_rxn_mapping = json.loads(f.read())\n",
    "model_cpd_mapping = None\n",
    "with open(CACHE_BASE_FOLDER + 'cpd_mapping_cache3.json', 'r') as f:\n",
    "    model_cpd_mapping = json.loads(f.read())"
   ]
  },
  {
   "cell_type": "code",
   "execution_count": 24,
   "metadata": {},
   "outputs": [
    {
     "name": "stdout",
     "output_type": "stream",
     "text": [
      "GCF_000226395.1 janakakbase:narrative_1570052138482\n",
      "GCF_000182925.2 janakakbase:narrative_1570052138482\n",
      "GCF_000146045.2 janakakbase:narrative_1570052138482\n",
      "Encephalitozoon_hellem_ATCC_50504 janakakbase:narrative_1570052138482\n"
     ]
    },
    {
     "name": "stderr",
     "output_type": "stream",
     "text": [
      "WARNING:__main__:load [iNL895_KBase2:jplfaria:narrative_1510597445008]\n"
     ]
    },
    {
     "name": "stdout",
     "output_type": "stream",
     "text": [
      "Schizophyllum_commune_H4-8 janakakbase:narrative_1570052138482\n",
      "49164/6/1 GCF_000226395.1 Penicillium rubens Wisconsin 54-1255\n",
      "49164/5/1 GCF_000182925.2 Neurospora crassa OR74A\n",
      "49164/4/1 GCF_000146045.2 Saccharomyces cerevisiae S288c\n",
      "49164/3/1 GCF_000277815.2 Encephalitozoon hellem ATCC 50504\n",
      "49164/2/1 GCF_000143185.1 Schizophyllum commune H4-8\n"
     ]
    },
    {
     "name": "stderr",
     "output_type": "stream",
     "text": [
      "WARNING:__main__:load [iCT646_KBase2:jplfaria:narrative_1510597445008]\n",
      "WARNING:__main__:load [iMM904_KBase3:jplfaria:narrative_1510597445008]\n",
      "WARNING:__main__:load [iTO977_KBase2:jplfaria:narrative_1510597445008]\n",
      "WARNING:__main__:load [iSS884_KBase2:jplfaria:narrative_1510597445008]\n",
      "WARNING:__main__:load [iLC915_KBase2:jplfaria:narrative_1510597445008]\n",
      "WARNING:__main__:load [iWV1213_KBase2:jplfaria:narrative_1510597445008]\n",
      "WARNING:__main__:load [iAL1006_KBase3:jplfaria:narrative_1510597445008]\n",
      "WARNING:__main__:load [iRL766_KBase2:jplfaria:narrative_1510597445008]\n",
      "WARNING:__main__:load [iMA871_KBase2:jplfaria:narrative_1510597445008]\n",
      "WARNING:__main__:load [iJDZ836_KBase3:jplfaria:narrative_1510597445008]\n",
      "WARNING:__main__:load [iWV1314_KBase2:jplfaria:narrative_1510597445008]\n",
      "WARNING:__main__:load [iOD907_KBase2:jplfaria:narrative_1510597445008]\n",
      "WARNING:__main__:load [iJL1454_KBase2:jplfaria:narrative_1510597445008]\n",
      "WARNING:__main__:load [iNX804_KBase2:jplfaria:narrative_1510597445008]\n",
      "WARNING:__main__:load [yeast_6.06_KBase2:jplfaria:narrative_1510597445008]\n",
      "WARNING:__main__:load [yeast_7.6_KBase2:jplfaria:narrative_1510597445008]\n",
      "WARNING:__main__:[iOD907] R_00511: ( 3.A.1.208.# )\n",
      "WARNING:__main__:[iOD907] R_01844: ( 3.A.1.208.# )\n",
      "WARNING:__main__:[iOD907] R_01313: ( 9.A.6.1.# )\n"
     ]
    }
   ],
   "source": [
    "annotation_ortholog = build_annotation_ortholog(kbase, CACHE_BASE_FOLDER, bios)"
   ]
  },
  {
   "cell_type": "code",
   "execution_count": 25,
   "metadata": {},
   "outputs": [],
   "source": [
    "annotation_ortholog.model_rxn_mapping = model_rxn_mapping\n",
    "annotation_ortholog.model_cpd_mapping = model_cpd_mapping"
   ]
  },
  {
   "cell_type": "code",
   "execution_count": null,
   "metadata": {},
   "outputs": [],
   "source": []
  },
  {
   "cell_type": "code",
   "execution_count": 34,
   "metadata": {},
   "outputs": [
    {
     "name": "stdout",
     "output_type": "stream",
     "text": [
      "YOR347C pyruvate kinase PYK2 cluster614\n",
      "YAL038W pyruvate kinase CDC19 cluster614\n",
      "YOR347C pyruvate kinase PYK2 cluster614\n",
      "YAL038W pyruvate kinase CDC19 cluster614\n",
      "Pc18g06000 hypothetical protein cluster614\n",
      "YOR347C pyruvate kinase PYK2 cluster614\n",
      "YAL038W pyruvate kinase CDC19 cluster614\n",
      "YOR347C pyruvate kinase PYK2 cluster614\n",
      "YAL038W pyruvate kinase CDC19 cluster614\n"
     ]
    }
   ],
   "source": [
    "all_orthologs, matched_orthologs, genome_match = annotation_ortholog.get_orthologs_from_seed_rxn_id2('rxn00148')"
   ]
  },
  {
   "cell_type": "code",
   "execution_count": null,
   "metadata": {},
   "outputs": [],
   "source": [
    "annotation_orth.process_data2"
   ]
  },
  {
   "cell_type": "code",
   "execution_count": null,
   "metadata": {},
   "outputs": [],
   "source": [
    "'' ''"
   ]
  },
  {
   "cell_type": "code",
   "execution_count": 52,
   "metadata": {},
   "outputs": [
    {
     "ename": "KeyError",
     "evalue": "'GCF_000146045.2l'",
     "output_type": "error",
     "traceback": [
      "\u001b[0;31m---------------------------------------------------------------------------\u001b[0m",
      "\u001b[0;31mKeyError\u001b[0m                                  Traceback (most recent call last)",
      "\u001b[0;32m<ipython-input-52-5bf061df3d88>\u001b[0m in \u001b[0;36m<module>\u001b[0;34m\u001b[0m\n\u001b[1;32m      3\u001b[0m     \u001b[0;32mreturn\u001b[0m \u001b[0mortholog\u001b[0m\u001b[0;34m\u001b[0m\u001b[0m\n\u001b[1;32m      4\u001b[0m \u001b[0;34m\u001b[0m\u001b[0m\n\u001b[0;32m----> 5\u001b[0;31m \u001b[0mgenome_ref\u001b[0m \u001b[0;34m=\u001b[0m \u001b[0mannotation_ortholog\u001b[0m\u001b[0;34m.\u001b[0m\u001b[0mgenome_id_to_ref\u001b[0m\u001b[0;34m[\u001b[0m\u001b[0mgenome_id\u001b[0m\u001b[0;34m]\u001b[0m\u001b[0;34m\u001b[0m\u001b[0m\n\u001b[0m",
      "\u001b[0;31mKeyError\u001b[0m: 'GCF_000146045.2l'"
     ]
    }
   ],
   "source": [
    "def get_ortholog_from_gene(annotation_ortholog, gene_id, genome_id):\n",
    "    ortholog = annotation_ortholog.get_ortholog(genome_id, gene_id)\n",
    "    return ortholog\n",
    "\n",
    "genome_ref = annotation_ortholog.genome_id_to_ref[genome_id]"
   ]
  },
  {
   "cell_type": "code",
   "execution_count": 53,
   "metadata": {},
   "outputs": [
    {
     "data": {
      "text/plain": [
       "{'gene_reaction': {'GCF_000226395.1': {'Pc18g03290': []},\n",
       "  'GCF_000182925.2': {'NCU05008': []},\n",
       "  'GCF_000146045.2': {'YKL192C': ['r_2143',\n",
       "    'r_2142',\n",
       "    'r_0721',\n",
       "    'r_2144',\n",
       "    'r_0099']},\n",
       "  'GCF_000143185.1': {'SCHCODRAFT_64587': []}},\n",
       " 'orthologs': {'cluster3465': {'GCF_000226395.1': {'Pc18g03290': 'hypothetical protein'},\n",
       "   'GCF_000182925.2': {'NCU05008': 'acp-1'},\n",
       "   'GCF_000146045.2': {'YKL192C': 'acyl carrier protein'},\n",
       "   'GCF_000143185.1': {'SCHCODRAFT_64587': '?'}}},\n",
       " 'genomes': {}}"
      ]
     },
     "execution_count": 53,
     "metadata": {},
     "output_type": "execute_result"
    }
   ],
   "source": [
    "gene_id = 'YKL192C'\n",
    "genome_id = 'GCF_000146045.2'\n",
    "res = annotation_ortholog.get_ortholog(genome_id, gene_id)\n",
    "column_data = {}\n",
    "if not res == None:\n",
    "    ortholog_id = res['id']\n",
    "    column_data = annotation_ortholog.process_data2({\n",
    "        (genome_id, gene_id, ortholog_id)\n",
    "    }, {})\n",
    "column_data"
   ]
  },
  {
   "cell_type": "code",
   "execution_count": 39,
   "metadata": {},
   "outputs": [
    {
     "data": {
      "text/plain": [
       "{('GCF_000146045.2', 'YAL038W', 'cluster614'),\n",
       " ('GCF_000146045.2', 'YOR347C', 'cluster614'),\n",
       " ('GCF_000182925.2', 'NCU06075', 'cluster614'),\n",
       " ('GCF_000226395.1', 'Pc18g06000', 'cluster614')}"
      ]
     },
     "execution_count": 39,
     "metadata": {},
     "output_type": "execute_result"
    }
   ],
   "source": [
    "all_orthologs"
   ]
  },
  {
   "cell_type": "code",
   "execution_count": 44,
   "metadata": {},
   "outputs": [
    {
     "data": {
      "text/plain": [
       "{'gene_reaction': {'GCF_000226395.1': {'Pc18g03290': []},\n",
       "  'GCF_000182925.2': {'NCU05008': []},\n",
       "  'GCF_000146045.2': {'YKL192C': ['r_2143',\n",
       "    'r_2142',\n",
       "    'r_0721',\n",
       "    'r_2144',\n",
       "    'r_0099']},\n",
       "  'GCF_000143185.1': {'SCHCODRAFT_64587': []}},\n",
       " 'orthologs': {'cluster3465': {'GCF_000226395.1': {'Pc18g03290': 'hypothetical protein'},\n",
       "   'GCF_000182925.2': {'NCU05008': 'acp-1'},\n",
       "   'GCF_000146045.2': {'YKL192C': 'acyl carrier protein'},\n",
       "   'GCF_000143185.1': {'SCHCODRAFT_64587': '?'}}},\n",
       " 'genomes': {}}"
      ]
     },
     "execution_count": 44,
     "metadata": {},
     "output_type": "execute_result"
    }
   ],
   "source": []
  },
  {
   "cell_type": "code",
   "execution_count": null,
   "metadata": {},
   "outputs": [],
   "source": []
  },
  {
   "cell_type": "code",
   "execution_count": null,
   "metadata": {},
   "outputs": [],
   "source": []
  },
  {
   "cell_type": "code",
   "execution_count": null,
   "metadata": {},
   "outputs": [],
   "source": []
  },
  {
   "cell_type": "code",
   "execution_count": null,
   "metadata": {},
   "outputs": [],
   "source": []
  },
  {
   "cell_type": "code",
   "execution_count": null,
   "metadata": {},
   "outputs": [],
   "source": []
  }
 ],
 "metadata": {
  "kernelspec": {
   "display_name": "Python 3",
   "language": "python",
   "name": "python3"
  },
  "language_info": {
   "codemirror_mode": {
    "name": "ipython",
    "version": 3
   },
   "file_extension": ".py",
   "mimetype": "text/x-python",
   "name": "python",
   "nbconvert_exporter": "python",
   "pygments_lexer": "ipython3",
   "version": "3.6.5"
  }
 },
 "nbformat": 4,
 "nbformat_minor": 2
}
