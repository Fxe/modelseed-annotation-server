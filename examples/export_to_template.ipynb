{
 "cells": [
  {
   "cell_type": "code",
   "execution_count": 1,
   "metadata": {},
   "outputs": [
    {
     "name": "stdout",
     "output_type": "stream",
     "text": [
      "cobrakbase 0.2.7\n"
     ]
    }
   ],
   "source": [
    "import logging\n",
    "import os\n",
    "import pymongo\n",
    "import cobra\n",
    "import cobrakbase\n",
    "import time\n",
    "import copy\n",
    "import json\n",
    "\n",
    "logger = logging.getLogger(__name__)"
   ]
  },
  {
   "cell_type": "code",
   "execution_count": 2,
   "metadata": {},
   "outputs": [],
   "source": [
    "kbase = cobrakbase.KBaseAPI()"
   ]
  },
  {
   "cell_type": "code",
   "execution_count": 74,
   "metadata": {},
   "outputs": [],
   "source": [
    "v1 = kbase.get_object('GCF_000005845.2_RELEASE_05_31_2020_v2.mdl', 'filipeliu:narrative_1582914694010')\n",
    "v2 = kbase.get_object('GCF_000005845.2_BETA_19_31_2020_v2.z.mdl', 'filipeliu:narrative_1582914694010')"
   ]
  },
  {
   "cell_type": "code",
   "execution_count": 75,
   "metadata": {},
   "outputs": [],
   "source": [
    "from cobrakbase.core.converters import KBaseFBAModelToCobraBuilder\n",
    "from cobrakbase.core import KBaseFBAModel\n",
    "v1 = KBaseFBAModelToCobraBuilder(KBaseFBAModel(v1)).build()\n",
    "v2 = KBaseFBAModelToCobraBuilder(KBaseFBAModel(v2)).build()"
   ]
  },
  {
   "cell_type": "code",
   "execution_count": 76,
   "metadata": {},
   "outputs": [],
   "source": [
    "v2_genes = set(map(lambda x : x.id, v2.genes))\n",
    "v1_genes = set(map(lambda x : x.id, v1.genes))"
   ]
  },
  {
   "cell_type": "code",
   "execution_count": 77,
   "metadata": {},
   "outputs": [
    {
     "data": {
      "text/plain": [
       "907"
      ]
     },
     "execution_count": 77,
     "metadata": {},
     "output_type": "execute_result"
    }
   ],
   "source": [
    "len(v2_genes & v1_genes)"
   ]
  },
  {
   "cell_type": "code",
   "execution_count": 55,
   "metadata": {},
   "outputs": [
    {
     "name": "stdout",
     "output_type": "stream",
     "text": [
      "None\n",
      "{'aliases': ['searchname:d-sedoheptulose7-phosphateisomerase(ec)', 'kegg:sedoheptulose-7-phosphate isomerase (EC 5.3.1.28)', 'kegg:phosphoheptose isomerase (EC 5.3.1.28)', 'kegg:gmhA (gene name) (EC 5.3.1.28)', 'kegg:lpcA (gene name) (EC 5.3.1.28)'], 'features': [], 'id': 'ftr33433', 'name': 'D-sedoheptulose 7-phosphate isomerase (EC 5.3.1.28)', 'source': 'KEGG'}\n"
     ]
    }
   ],
   "source": [
    "print(template.get_role_sources())\n",
    "for o in template.data['roles']:\n",
    "    if '5.3.1.28' in o['name']:\n",
    "        print(o)"
   ]
  },
  {
   "cell_type": "code",
   "execution_count": 66,
   "metadata": {},
   "outputs": [
    {
     "data": {
      "text/plain": [
       "'(O16 antigen)x2 undecaprenyl diphosphate_c0 + O16 antigen undecaprenyl diphosphate_c0 <=> Bactoprenyl diphosphate_c0 + (O16 antigen)x3 undecaprenyl diphosphate_c0'"
      ]
     },
     "execution_count": 66,
     "metadata": {},
     "output_type": "execute_result"
    }
   ],
   "source": [
    "D-sedoheptulose 7-phosphate isomerase (EC 5.3.1.28)"
   ]
  },
  {
   "cell_type": "code",
   "execution_count": 39,
   "metadata": {},
   "outputs": [
    {
     "ename": "NameError",
     "evalue": "name 'v1_genes' is not defined",
     "output_type": "error",
     "traceback": [
      "\u001b[0;31m---------------------------------------------------------------------------\u001b[0m",
      "\u001b[0;31mNameError\u001b[0m                                 Traceback (most recent call last)",
      "\u001b[0;32m<ipython-input-39-524b12b0d531>\u001b[0m in \u001b[0;36m<module>\u001b[0;34m\u001b[0m\n\u001b[0;32m----> 1\u001b[0;31m \u001b[0;32mfor\u001b[0m \u001b[0mgene_id\u001b[0m \u001b[0;32min\u001b[0m \u001b[0;34m(\u001b[0m\u001b[0mv1_genes\u001b[0m \u001b[0;34m-\u001b[0m \u001b[0mv2_genes\u001b[0m\u001b[0;34m)\u001b[0m\u001b[0;34m:\u001b[0m\u001b[0;34m\u001b[0m\u001b[0;34m\u001b[0m\u001b[0m\n\u001b[0m\u001b[1;32m      2\u001b[0m     \u001b[0mf2\u001b[0m \u001b[0;34m=\u001b[0m \u001b[0mget_gene_function\u001b[0m\u001b[0;34m(\u001b[0m\u001b[0mgene_id\u001b[0m\u001b[0;34m,\u001b[0m \u001b[0;34m'GCF_000005845.2'\u001b[0m\u001b[0;34m,\u001b[0m \u001b[0;34m'BETA_RAST'\u001b[0m\u001b[0;34m)\u001b[0m\u001b[0;34m\u001b[0m\u001b[0;34m\u001b[0m\u001b[0m\n\u001b[1;32m      3\u001b[0m     \u001b[0mf1\u001b[0m \u001b[0;34m=\u001b[0m \u001b[0mget_gene_function\u001b[0m\u001b[0;34m(\u001b[0m\u001b[0mgene_id\u001b[0m\u001b[0;34m,\u001b[0m \u001b[0;34m'GCF_000005845.2'\u001b[0m\u001b[0;34m,\u001b[0m \u001b[0;34m'KBASE_RAST'\u001b[0m\u001b[0;34m)\u001b[0m\u001b[0;34m\u001b[0m\u001b[0;34m\u001b[0m\u001b[0m\n\u001b[1;32m      4\u001b[0m     \u001b[0mprint\u001b[0m\u001b[0;34m(\u001b[0m\u001b[0mgene_id\u001b[0m\u001b[0;34m)\u001b[0m\u001b[0;34m\u001b[0m\u001b[0;34m\u001b[0m\u001b[0m\n\u001b[1;32m      5\u001b[0m     \u001b[0mprint\u001b[0m\u001b[0;34m(\u001b[0m\u001b[0;34m'\\tRELZ:'\u001b[0m\u001b[0;34m,\u001b[0m \u001b[0mf1\u001b[0m\u001b[0;34m)\u001b[0m\u001b[0;34m\u001b[0m\u001b[0;34m\u001b[0m\u001b[0m\n",
      "\u001b[0;31mNameError\u001b[0m: name 'v1_genes' is not defined"
     ]
    }
   ],
   "source": [
    "for gene_id in (v1_genes - v2_genes):\n",
    "    f2 = get_gene_function(gene_id, 'GCF_000005845.2', 'BETA_RAST')\n",
    "    f1 = get_gene_function(gene_id, 'GCF_000005845.2', 'KBASE_RAST')\n",
    "    print(gene_id)\n",
    "    print('\\tRELZ:', f1)\n",
    "    print('\\tBETA:', f2)\n",
    "    g = v1.genes.get_by_id(gene_id)\n",
    "    for r in g.reactions:\n",
    "        print('\\t', r)\n",
    "        print('\\t', r.id, r.build_reaction_string(True))\n",
    "    break"
   ]
  },
  {
   "cell_type": "code",
   "execution_count": 33,
   "metadata": {},
   "outputs": [],
   "source": [
    "for doc in templates_reactions.find():\n",
    "    rxn_id = doc['_id'].split('@')[0]\n",
    "    rxn = modelseed_local.get_seed_reaction(rxn_id)\n",
    "    cmp = set(map(lambda x : x[1], rxn.cstoichiometry))\n",
    "    if not 'cmp' in doc:\n",
    "        if len(cmp) > 1:\n",
    "            pass\n",
    "        else:\n",
    "            templates_reactions.update_one(\n",
    "                {'_id' : doc['_id']}, \n",
    "                {'$set' : {'cmp' : {'0' : 'c'}}})"
   ]
  },
  {
   "cell_type": "code",
   "execution_count": null,
   "metadata": {},
   "outputs": [],
   "source": []
  },
  {
   "cell_type": "code",
   "execution_count": null,
   "metadata": {},
   "outputs": [],
   "source": []
  },
  {
   "cell_type": "code",
   "execution_count": 7,
   "metadata": {},
   "outputs": [
    {
     "ename": "NameError",
     "evalue": "name 'modelseed_local' is not defined",
     "output_type": "error",
     "traceback": [
      "\u001b[0;31m---------------------------------------------------------------------------\u001b[0m",
      "\u001b[0;31mNameError\u001b[0m                                 Traceback (most recent call last)",
      "\u001b[0;32m<ipython-input-7-a3caecde32c9>\u001b[0m in \u001b[0;36m<module>\u001b[0;34m\u001b[0m\n\u001b[1;32m      1\u001b[0m \u001b[0mtemplate_o\u001b[0m \u001b[0;34m=\u001b[0m \u001b[0mkbase\u001b[0m\u001b[0;34m.\u001b[0m\u001b[0mget_object\u001b[0m\u001b[0;34m(\u001b[0m\u001b[0;34m'GramNegModelTemplateV2'\u001b[0m\u001b[0;34m,\u001b[0m \u001b[0;34m'NewKBaseModelTemplates'\u001b[0m\u001b[0;34m)\u001b[0m\u001b[0;34m\u001b[0m\u001b[0;34m\u001b[0m\u001b[0m\n\u001b[1;32m      2\u001b[0m \u001b[0mtemplate\u001b[0m \u001b[0;34m=\u001b[0m \u001b[0mNewModelTemplate\u001b[0m\u001b[0;34m(\u001b[0m\u001b[0mcopy\u001b[0m\u001b[0;34m.\u001b[0m\u001b[0mdeepcopy\u001b[0m\u001b[0;34m(\u001b[0m\u001b[0mtemplate_o\u001b[0m\u001b[0;34m)\u001b[0m\u001b[0;34m,\u001b[0m \u001b[0;34m'tftr'\u001b[0m\u001b[0;34m,\u001b[0m \u001b[0;34m'tcpx'\u001b[0m\u001b[0;34m)\u001b[0m\u001b[0;34m\u001b[0m\u001b[0;34m\u001b[0m\u001b[0m\n\u001b[0;32m----> 3\u001b[0;31m \u001b[0mtemplate_manipulator\u001b[0m \u001b[0;34m=\u001b[0m \u001b[0mTemplateManipulator\u001b[0m\u001b[0;34m(\u001b[0m\u001b[0mtemplate\u001b[0m\u001b[0;34m,\u001b[0m \u001b[0mmodelseed_local\u001b[0m\u001b[0;34m)\u001b[0m\u001b[0;34m\u001b[0m\u001b[0;34m\u001b[0m\u001b[0m\n\u001b[0m\u001b[1;32m      4\u001b[0m \u001b[0mtrxn\u001b[0m \u001b[0;34m=\u001b[0m \u001b[0mtemplate\u001b[0m\u001b[0;34m.\u001b[0m\u001b[0mget_reaction\u001b[0m\u001b[0;34m(\u001b[0m\u001b[0;34m'rxn16217_c'\u001b[0m\u001b[0;34m)\u001b[0m\u001b[0;34m\u001b[0m\u001b[0;34m\u001b[0m\u001b[0m\n\u001b[1;32m      5\u001b[0m \u001b[0mprint\u001b[0m\u001b[0;34m(\u001b[0m\u001b[0mtrxn\u001b[0m\u001b[0;34m)\u001b[0m\u001b[0;34m\u001b[0m\u001b[0;34m\u001b[0m\u001b[0m\n",
      "\u001b[0;31mNameError\u001b[0m: name 'modelseed_local' is not defined"
     ]
    }
   ],
   "source": [
    "template_o = kbase.get_object('GramNegModelTemplateV2', 'NewKBaseModelTemplates')\n",
    "template = NewModelTemplate(copy.deepcopy(template_o), 'tftr', 'tcpx')\n",
    "template_manipulator = TemplateManipulator(template, modelseed_local)\n",
    "trxn = template.get_reaction('rxn16217_c')\n",
    "print(trxn)\n",
    "template_manipulator.add_reaction('rxn16217', {'0' : 'c'})"
   ]
  },
  {
   "cell_type": "code",
   "execution_count": 6,
   "metadata": {},
   "outputs": [
    {
     "data": {
      "text/plain": [
       "<function __main__.add_complex_from_role_names(self, role_names, source='ModelSEED')>"
      ]
     },
     "execution_count": 6,
     "metadata": {},
     "output_type": "execute_result"
    }
   ],
   "source": [
    "#NewModelTemplate.add_complex_from_role_names = add_complex_from_role_names\n",
    "NewModelTemplate.add_complex_from_role_names"
   ]
  },
  {
   "cell_type": "code",
   "execution_count": 6,
   "metadata": {},
   "outputs": [],
   "source": [
    "template_o = None\n",
    "with open('/Users/fliu/workspace/jupyter/data/modelseed2/template.json', 'r') as fh:\n",
    "    template_o = json.loads(fh.read())\n",
    "template = NewModelTemplate(copy.deepcopy(template_o), 'tftr', 'tcpx')\n",
    "tc = TemplateCuration(template, database, annotation_api)\n",
    "tm = TemplateManipulator(template)"
   ]
  },
  {
   "cell_type": "code",
   "execution_count": 7,
   "metadata": {},
   "outputs": [],
   "source": [
    "search_name_to_role_id = tm.get_search_name_to_role_id()\n",
    "accept, remove = tc.get_curation_data('fungi')\n",
    "test_accept = dict(filter(lambda x : len(x[1]) > 0, accept.items()))\n",
    "test_remove = dict(filter(lambda x : len(x[1]) > 0, remove.items()))"
   ]
  },
  {
   "cell_type": "code",
   "execution_count": 30,
   "metadata": {},
   "outputs": [
    {
     "name": "stderr",
     "output_type": "stream",
     "text": [
      "WARNING:__main__:rxn00122_c function not in template [UDP-N-acetylglucosamine diphosphorylase (EC 2.7.7.23)] 5547178\n"
     ]
    },
    {
     "name": "stdout",
     "output_type": "stream",
     "text": [
      "6273 True\n",
      "6269 False\n",
      "315778 False\n"
     ]
    },
    {
     "data": {
      "text/plain": [
       "{'GapfillDirection': '>',\n",
       " 'base_cost': 2,\n",
       " 'direction': '>',\n",
       " 'forward_penalty': 0,\n",
       " 'id': 'rxn00122_c',\n",
       " 'maxforflux': 100,\n",
       " 'maxrevflux': -100,\n",
       " 'name': 'ATP:FMN adenylyltransferase',\n",
       " 'reaction_ref': '489/6/6/reactions/id/rxn00122',\n",
       " 'reverse_penalty': -0.323,\n",
       " 'templateReactionReagents': [{'coefficient': -1,\n",
       "   'templatecompcompound_ref': '~/compcompounds/id/cpd00002_c'},\n",
       "  {'coefficient': -1,\n",
       "   'templatecompcompound_ref': '~/compcompounds/id/cpd00050_c'},\n",
       "  {'coefficient': 1,\n",
       "   'templatecompcompound_ref': '~/compcompounds/id/cpd00012_c'},\n",
       "  {'coefficient': 1,\n",
       "   'templatecompcompound_ref': '~/compcompounds/id/cpd00015_c'}],\n",
       " 'templatecompartment_ref': '~/compartments/id/c',\n",
       " 'templatecomplex_refs': ['~/complexes/id/cpx00687'],\n",
       " 'type': 'conditional'}"
      ]
     },
     "execution_count": 30,
     "metadata": {},
     "output_type": "execute_result"
    }
   ],
   "source": [
    "rxn_role_change = role_change\n",
    "for function_id in rxn_role_change:\n",
    "    nfunction, role_id = tc.get_function(function_id, search_name_to_role_id)\n",
    "    #print(nfunction, role_id, type(role_id))\n",
    "    if type(role_id) == int or type(role_id) == str:\n",
    "        logger.warning('%s function not in template [%s] %s', trxn.id, nfunction, role_id)\n",
    "    elif len(nfunction.sub_functions) == 0:\n",
    "        if len(role_id) > 1 and rxn_role_change[function_id]:\n",
    "            logger.warning('%s multiple role ids %s %s', trxn.id, nfunction, role_id)\n",
    "            pass\n",
    "        else:\n",
    "            role_id = list(role_id)[0]\n",
    "            role = template.get_role(role_id)\n",
    "            if rxn_role_change[function_id]:\n",
    "                print(function_id, rxn_role_change[function_id])\n",
    "            else:\n",
    "                print(function_id, rxn_role_change[function_id])\n",
    "            #print(nfunction.sub_functions, role)\n",
    "    else:\n",
    "        pass\n",
    "trxn.data"
   ]
  },
  {
   "cell_type": "code",
   "execution_count": 9,
   "metadata": {},
   "outputs": [
    {
     "data": {
      "text/plain": [
       "{'GapfillDirection': '>',\n",
       " 'base_cost': 2,\n",
       " 'direction': '>',\n",
       " 'forward_penalty': 0,\n",
       " 'id': 'rxn00122_c',\n",
       " 'maxforflux': 100,\n",
       " 'maxrevflux': -100,\n",
       " 'name': 'ATP:FMN adenylyltransferase',\n",
       " 'reaction_ref': '489/6/6/reactions/id/rxn00122',\n",
       " 'reverse_penalty': -0.323,\n",
       " 'templateReactionReagents': [{'coefficient': -1,\n",
       "   'templatecompcompound_ref': '~/compcompounds/id/cpd00002_c'},\n",
       "  {'coefficient': -1,\n",
       "   'templatecompcompound_ref': '~/compcompounds/id/cpd00050_c'},\n",
       "  {'coefficient': 1,\n",
       "   'templatecompcompound_ref': '~/compcompounds/id/cpd00012_c'},\n",
       "  {'coefficient': 1,\n",
       "   'templatecompcompound_ref': '~/compcompounds/id/cpd00015_c'}],\n",
       " 'templatecompartment_ref': '~/compartments/id/c',\n",
       " 'templatecomplex_refs': ['~/complexes/id/cpx00687'],\n",
       " 'type': 'conditional'}"
      ]
     },
     "execution_count": 9,
     "metadata": {},
     "output_type": "execute_result"
    }
   ],
   "source": [
    "#template.add_complex_from_role_names(['FMN adenylyltransferase (EC 2.7.7.2)'])\n",
    "#template.get_complex('tcpx00001')\n",
    "rxn_id = 'rxn00122'\n",
    "trxn = template.get_reaction('rxn00122_c')\n",
    "role_change = tc.get_role_change(rxn_id, test_accept, test_remove)\n",
    "#nfunction = tc.update_roles(trxn, role_change, search_name_to_role_id, True)\n",
    "trxn.data"
   ]
  },
  {
   "cell_type": "code",
   "execution_count": null,
   "metadata": {},
   "outputs": [],
   "source": []
  },
  {
   "cell_type": "code",
   "execution_count": 6,
   "metadata": {},
   "outputs": [],
   "source": []
  },
  {
   "cell_type": "code",
   "execution_count": 7,
   "metadata": {},
   "outputs": [
    {
     "data": {
      "text/plain": [
       "{'infos': [[7,\n",
       "   'GramNegModelTemplateV2',\n",
       "   'KBaseFBA.NewModelTemplate-1.0',\n",
       "   '2018-10-12T20:49:28+0000',\n",
       "   4,\n",
       "   'chenry',\n",
       "   12998,\n",
       "   'NewKBaseModelTemplates',\n",
       "   'cbecac564ccbd2b9275ed3472453d914',\n",
       "   14618544,\n",
       "   None]],\n",
       " 'paths': [['12998/7/4']]}"
      ]
     },
     "execution_count": 7,
     "metadata": {},
     "output_type": "execute_result"
    }
   ],
   "source": [
    "kbase.ws_client.get_object_info3({'objects' : [{\n",
    "    'ref' : 'NewKBaseModelTemplates/GramNegModelTemplateV2'\n",
    "}]})"
   ]
  },
  {
   "cell_type": "code",
   "execution_count": 8,
   "metadata": {},
   "outputs": [
    {
     "data": {
      "text/plain": [
       "[33628,\n",
       " 'filipeliu:narrative_1529802940504',\n",
       " 'filipeliu',\n",
       " '2018-09-11T21:40:24+0000',\n",
       " 802,\n",
       " 'a',\n",
       " 'n',\n",
       " 'unlocked',\n",
       " {'narrative_nice_name': 'Genome Integration',\n",
       "  'is_temporary': 'false',\n",
       "  'narrative': '1'}]"
      ]
     },
     "execution_count": 8,
     "metadata": {},
     "output_type": "execute_result"
    }
   ],
   "source": [
    "kbase.ws_client.get_workspace_info({\n",
    "    'workspace' : 'filipeliu:narrative_1529802940504'\n",
    "})"
   ]
  },
  {
   "cell_type": "code",
   "execution_count": null,
   "metadata": {},
   "outputs": [],
   "source": []
  },
  {
   "cell_type": "code",
   "execution_count": null,
   "metadata": {},
   "outputs": [],
   "source": []
  },
  {
   "cell_type": "code",
   "execution_count": null,
   "metadata": {},
   "outputs": [],
   "source": []
  },
  {
   "cell_type": "code",
   "execution_count": 10,
   "metadata": {},
   "outputs": [],
   "source": [
    "search_name_to_role_id = template_manipulator.get_search_name_to_role_id()"
   ]
  },
  {
   "cell_type": "code",
   "execution_count": 11,
   "metadata": {},
   "outputs": [
    {
     "name": "stdout",
     "output_type": "stream",
     "text": [
      "      Phosphoenolpyruvate carboxylase (EC 4.1.1.31)\n",
      "alias:phosphoenolpyruvate carboxylase (EC 4.1.1.31)\n",
      "alias:Phosphoenolpyruvate carboxylase (EC 4.1.1.31)\n"
     ]
    }
   ],
   "source": [
    "for role_id in updated:\n",
    "    role = template.get_role(role_id)\n",
    "    print('      ' + role['name'])\n",
    "    for alias in role['aliases']:\n",
    "        if alias.startswith('alias:'):\n",
    "            print(alias)\n",
    "    break"
   ]
  },
  {
   "cell_type": "code",
   "execution_count": 7,
   "metadata": {},
   "outputs": [],
   "source": [
    "#role_to_rxn_ids = template_manipulator.get_role_to_rxn_ids()\n",
    "#used_roles = set(role_to_rxn_ids)\n"
   ]
  },
  {
   "cell_type": "code",
   "execution_count": 11,
   "metadata": {},
   "outputs": [
    {
     "data": {
      "text/plain": [
       "[[99,\n",
       "  'template_v2.0_06102020',\n",
       "  'KBaseFBA.NewModelTemplate-1.0',\n",
       "  '2020-06-16T08:51:42+0000',\n",
       "  2,\n",
       "  'filipeliu',\n",
       "  56739,\n",
       "  'filipeliu:narrative_1582914694010',\n",
       "  '91c2816b6540aec71c509f943dfb9fb6',\n",
       "  14181027,\n",
       "  {}]]"
      ]
     },
     "execution_count": 11,
     "metadata": {},
     "output_type": "execute_result"
    }
   ],
   "source": [
    "#filipeliu:narrative_1582914694010\n",
    "kbase.save_object('template_v2.0_06102020', 'filipeliu:narrative_1582914694010', 'KBaseFBA.NewModelTemplate', template.data)"
   ]
  },
  {
   "cell_type": "markdown",
   "metadata": {},
   "source": [
    "ftr11210\n",
    "dnadirectedrnapolymerasebetasubunitec2776\n",
    "\n",
    "ftr08516 ModelSEED DNA-directed RNA polymerase beta subunit (EC 2.7.7.6)\n",
    "rxn13784_c {('cpd17043', '0'): 1.0}\n",
    "\n",
    "ftr08517 ModelSEED DNA-directed RNA polymerase beta' subunit (EC 2.7.7.6)\n",
    "rxn13784_c {('cpd17043', '0'): 1.0}"
   ]
  },
  {
   "cell_type": "code",
   "execution_count": 44,
   "metadata": {},
   "outputs": [],
   "source": [
    "def merge_roles(role_primary, to_merge):\n",
    "    pass\n",
    "merge_roles('ftr08516', ['ftr08517'])"
   ]
  },
  {
   "cell_type": "code",
   "execution_count": 42,
   "metadata": {},
   "outputs": [],
   "source": [
    "template.get_complex_from_role('ftr02520')"
   ]
  },
  {
   "cell_type": "code",
   "execution_count": 40,
   "metadata": {},
   "outputs": [
    {
     "data": {
      "text/plain": [
       "{'GapfillDirection': '=',\n",
       " 'base_cost': 5,\n",
       " 'direction': '>',\n",
       " 'forward_penalty': 0,\n",
       " 'id': 'rxn13784_c',\n",
       " 'maxforflux': 100,\n",
       " 'maxrevflux': -100,\n",
       " 'name': 'RNA transcription',\n",
       " 'reaction_ref': '489/6/6/reactions/id/rxn13784',\n",
       " 'reverse_penalty': 2.5,\n",
       " 'templateReactionReagents': [{'coefficient': 1,\n",
       "   'templatecompcompound_ref': '~/compcompounds/id/cpd17043_c'}],\n",
       " 'templatecompartment_ref': '~/compartments/id/c',\n",
       " 'templatecomplex_refs': ['~/complexes/id/cpx01056'],\n",
       " 'type': 'conditional'}"
      ]
     },
     "execution_count": 40,
     "metadata": {},
     "output_type": "execute_result"
    }
   ],
   "source": [
    "trxn = template.get_reaction('rxn13784_c')\n",
    "trxn.data"
   ]
  },
  {
   "cell_type": "code",
   "execution_count": 12,
   "metadata": {},
   "outputs": [],
   "source": [
    "#template.get_complex('cpx01056')"
   ]
  },
  {
   "cell_type": "code",
   "execution_count": 11,
   "metadata": {},
   "outputs": [
    {
     "name": "stdout",
     "output_type": "stream",
     "text": [
      "malonylcoaacylcarrierproteintransacylaseec23139\n",
      "ftr02994 ModelSEED Malonyl CoA-acyl carrier protein transacylase (EC 2.3.1.39)\n",
      "rxn05455_c {('cpd00010', '0'): -1.0, ('cpd00067', '0'): -2.0, ('cpd11565', '0'): -1.0, ('cpd11435', '0'): 1.0, ('cpd11493', '0'): 1.0}\n",
      "rxn05408_c {('cpd00481', '0'): -1.0, ('cpd11493', '0'): -1.0, ('cpd00010', '0'): 1.0, ('cpd00067', '0'): 1.0, ('cpd11545', '0'): 1.0}\n",
      "rxn05454_c {('cpd00010', '0'): -1.0, ('cpd00067', '0'): -2.0, ('cpd11544', '0'): -1.0, ('cpd11432', '0'): 1.0, ('cpd11493', '0'): 1.0}\n",
      "rxn05452_c {('cpd00010', '0'): -1.0, ('cpd00067', '0'): -2.0, ('cpd11519', '0'): -1.0, ('cpd11434', '0'): 1.0, ('cpd11493', '0'): 1.0}\n",
      "rxn05358_c {('cpd00760', '0'): -1.0, ('cpd11493', '0'): -1.0, ('cpd00010', '0'): 1.0, ('cpd00067', '0'): 1.0, ('cpd11495', '0'): 1.0}\n",
      "rxn05458_c {('cpd00010', '0'): -1.0, ('cpd00067', '0'): -1.0, ('cpd11476', '0'): -1.0, ('cpd00134', '0'): 1.0, ('cpd11493', '0'): 1.0}\n",
      "rxn05465_c {('cpd00067', '0'): -1.0, ('cpd00070', '0'): -1.0, ('cpd11493', '0'): -1.0, ('cpd00010', '0'): 1.0, ('cpd11492', '0'): 1.0}\n",
      "rxn05451_c {('cpd00010', '0'): -1.0, ('cpd00067', '0'): -2.0, ('cpd11515', '0'): -1.0, ('cpd11439', '0'): 1.0, ('cpd11493', '0'): 1.0}\n",
      "rxn05383_c {('cpd01882', '0'): -1.0, ('cpd11493', '0'): -1.0, ('cpd00010', '0'): 1.0, ('cpd00067', '0'): 1.0, ('cpd11520', '0'): 1.0}\n",
      "rxn05453_c {('cpd00010', '0'): -1.0, ('cpd00067', '0'): -2.0, ('cpd11540', '0'): -1.0, ('cpd11437', '0'): 1.0, ('cpd11493', '0'): 1.0}\n",
      "rxn05459_c {('cpd00010', '0'): -1.0, ('cpd00067', '0'): -1.0, ('cpd11573', '0'): -1.0, ('cpd00327', '0'): 1.0, ('cpd11493', '0'): 1.0}\n",
      "rxn05456_c {('cpd00010', '0'): -1.0, ('cpd00067', '0'): -2.0, ('cpd11569', '0'): -1.0, ('cpd11441', '0'): 1.0, ('cpd11493', '0'): 1.0}\n",
      "rxn05457_c {('cpd00010', '0'): -1.0, ('cpd11466', '0'): -1.0, ('cpd01695', '0'): 1.0, ('cpd11493', '0'): 1.0}\n",
      "ftr10980 ModelSEED Malonyl CoA acyl carrier protein transacylase (EC 2.3.1.39)\n",
      "rxn12206_c {('cpd00067', '0'): -1.0, ('cpd00308', '0'): -1.0, ('cpd00011', '0'): 1.0, ('cpd00029', '0'): 1.0}\n",
      "\n",
      "sodiumalaninesymporterfamilyprotein\n",
      "ftr02520 ModelSEED sodium/alanine symporter family protein\n",
      "rxn05215_c {('cpd00035', '1'): -1.0, ('cpd00971', '1'): -1.0, ('cpd00035', '0'): 1.0, ('cpd00971', '0'): 1.0}\n",
      "ftr11210 ModelSEED Sodium:alanine symporter family protein\n",
      "rxn05494_c {('cpd00067', '1'): -1.0, ('cpd00117', '1'): -1.0, ('cpd00067', '0'): 1.0, ('cpd00117', '0'): 1.0}\n",
      "rxn05496_c {('cpd00035', '1'): -1.0, ('cpd00067', '1'): -1.0, ('cpd00035', '0'): 1.0, ('cpd00067', '0'): 1.0}\n",
      "\n",
      "dnadirectedrnapolymerasebetasubunitec2776\n",
      "ftr08516 ModelSEED DNA-directed RNA polymerase beta subunit (EC 2.7.7.6)\n",
      "rxn13784_c {('cpd17043', '0'): 1.0}\n",
      "ftr08517 ModelSEED DNA-directed RNA polymerase beta' subunit (EC 2.7.7.6)\n",
      "rxn13784_c {('cpd17043', '0'): 1.0}\n",
      "\n"
     ]
    }
   ],
   "source": [
    "#role_to_rxn_ids\n",
    "search_name_to_role_id = template_manipulator.get_search_name_to_role_id()\n",
    "for k in search_name_to_role_id:\n",
    "    if len(search_name_to_role_id[k]) > 1:\n",
    "        u = search_name_to_role_id[k] & used_roles\n",
    "        if len(u) == 0:\n",
    "            search_name_to_role_id[k] = set([list(sorted(search_name_to_role_id[k]))[0]])\n",
    "            #print(search_name_to_role_id[k], )\n",
    "        elif len(u) == 1:\n",
    "            search_name_to_role_id[k] = set(list(u))\n",
    "        else:\n",
    "            print(k)\n",
    "            for role_id in u:\n",
    "                name = template.get_role(role_id)['name']\n",
    "                source = template.get_role(role_id)['source']\n",
    "                print(role_id, source, name)\n",
    "                for trxn_id in role_to_rxn_ids[role_id]:\n",
    "                    trxn = template.get_reaction(trxn_id)\n",
    "                    rxn_id = trxn.data['reaction_ref'].split('/')[-1]\n",
    "                    rxn = modelseed_local.get_seed_reaction(rxn_id)\n",
    "                    print(trxn_id, rxn.cstoichiometry)\n",
    "            print()\n",
    "            #print(search_name_to_role_id[k], search_name_to_role_id[k] & used_roles)"
   ]
  },
  {
   "cell_type": "code",
   "execution_count": null,
   "metadata": {},
   "outputs": [],
   "source": [
    "kbase = cobrakbase.KBaseAPI(token, dev=True)"
   ]
  },
  {
   "cell_type": "code",
   "execution_count": null,
   "metadata": {},
   "outputs": [],
   "source": []
  },
  {
   "cell_type": "code",
   "execution_count": null,
   "metadata": {},
   "outputs": [],
   "source": []
  },
  {
   "cell_type": "code",
   "execution_count": null,
   "metadata": {},
   "outputs": [],
   "source": []
  },
  {
   "cell_type": "code",
   "execution_count": null,
   "metadata": {},
   "outputs": [],
   "source": []
  },
  {
   "cell_type": "code",
   "execution_count": 45,
   "metadata": {},
   "outputs": [],
   "source": []
  },
  {
   "cell_type": "code",
   "execution_count": 11,
   "metadata": {},
   "outputs": [
    {
     "data": {
      "text/plain": [
       "[]"
      ]
     },
     "execution_count": 11,
     "metadata": {},
     "output_type": "execute_result"
    }
   ],
   "source": [
    "list(filter(lambda x : 'rxn14422' in x['id'], template_o['reactions']))"
   ]
  },
  {
   "cell_type": "code",
   "execution_count": 32,
   "metadata": {},
   "outputs": [],
   "source": [
    "%run ../../cobrakbase/cobrakbase/core/kbasefba/newmodeltemplate.py\n",
    "template = NewModelTemplate(copy.deepcopy(template_o))"
   ]
  },
  {
   "cell_type": "code",
   "execution_count": 5,
   "metadata": {},
   "outputs": [
    {
     "name": "stdout",
     "output_type": "stream",
     "text": [
      "tftr00001\n",
      "tftr00002\n",
      "tftr00003\n",
      "tcpx00001\n"
     ]
    }
   ],
   "source": [
    "print(template.add_role('banana'))\n",
    "print(template.add_role('icecream'))\n",
    "print(template.add_role('chocolate'))\n",
    "print(template.add_complex_from_role_names(['banana', 'icecream', 'chocolate']))"
   ]
  },
  {
   "cell_type": "code",
   "execution_count": 14,
   "metadata": {},
   "outputs": [
    {
     "name": "stdout",
     "output_type": "stream",
     "text": [
      "{'GapfillDirection': '=', 'base_cost': 5, 'direction': '=', 'forward_penalty': 0, 'id': 'rxn05226_c', 'maxforflux': 100, 'maxrevflux': -100, 'name': 'D-glucose transport via PEP:Pyr PTS', 'reaction_ref': '489/6/6/reactions/id/rxn05226', 'reverse_penalty': 0, 'templateReactionReagents': [{'coefficient': -1, 'templatecompcompound_ref': '~/compcompounds/id/cpd00027_e'}, {'coefficient': -1, 'templatecompcompound_ref': '~/compcompounds/id/cpd00061_c'}, {'coefficient': 1, 'templatecompcompound_ref': '~/compcompounds/id/cpd00020_c'}, {'coefficient': 1, 'templatecompcompound_ref': '~/compcompounds/id/cpd00079_c'}], 'templatecompartment_ref': '~/compartments/id/c', 'templatecomplex_refs': ['~/complexes/id/cpx00663', '~/complexes/id/cpx00664', '~/complexes/id/cpx00665'], 'type': 'conditional'}\n"
     ]
    }
   ],
   "source": [
    "for o in template.data['reactions']:\n",
    "    id = o['id']\n",
    "    if id == 'rxn05226_c':\n",
    "        print(o)\n",
    "    else:\n",
    "        o"
   ]
  },
  {
   "cell_type": "code",
   "execution_count": 65,
   "metadata": {},
   "outputs": [],
   "source": [
    "#rxn05226_c glc__D pts\n",
    "#rxn05346_c\n",
    "trxn = template.get_reaction('rxn05346_c')"
   ]
  },
  {
   "cell_type": "code",
   "execution_count": 66,
   "metadata": {},
   "outputs": [
    {
     "data": {
      "text/plain": [
       "{'ftr01421',\n",
       " 'ftr03525',\n",
       " 'ftr04743',\n",
       " 'ftr30119',\n",
       " 'ftr30268',\n",
       " 'ftr31520',\n",
       " 'ftr33065',\n",
       " 'ftr33843'}"
      ]
     },
     "execution_count": 66,
     "metadata": {},
     "output_type": "execute_result"
    }
   ],
   "source": [
    "trxn.get_roles()"
   ]
  },
  {
   "cell_type": "code",
   "execution_count": 67,
   "metadata": {},
   "outputs": [
    {
     "name": "stdout",
     "output_type": "stream",
     "text": [
      "cpx00244\n",
      "3-oxoacyl-[acyl-carrier-protein] synthase, KASII (EC 2.3.1.41)\n",
      "3-oxoacyl-[acyl-carrier-protein] synthase, KASIII (EC 2.3.1.41)\n",
      "cpx00289\n",
      "3-oxoacyl-[acyl-carrier-protein] synthase, KASI (EC 2.3.1.41)\n",
      "cpx31988\n",
      "(R)-citramalate synthase (EC 2.3.1.182)\n",
      "cpx31990\n",
      "acyl-homoserine-lactone synthase (EC 2.3.1.184)\n",
      "cpx32036\n",
      "N-acetylneuraminate 7-O(or 9-O)-acetyltransferase (EC 2.3.1.45)\n",
      "cpx32084\n",
      "tetrahydrodipicolinate N-acetyltransferase (EC 2.3.1.89)\n",
      "cpx32085\n",
      "acetyl-CoA C-acetyltransferase (EC 2.3.1.9)\n"
     ]
    }
   ],
   "source": [
    "for complexes in trxn.data['templatecomplex_refs']:\n",
    "    complex_id = complexes.split('/')[-1]\n",
    "    \n",
    "    cpx = trxn.template.get_complex(complex_id)\n",
    "    print(complex_id)\n",
    "    #print(cpx)\n",
    "    for complexrole in cpx['complexroles']:\n",
    "        role_id = complexrole['templaterole_ref'].split('/')[-1]\n",
    "        role = trxn.template.get_role(role_id)\n",
    "        \n",
    "        print(role['name'])"
   ]
  },
  {
   "cell_type": "markdown",
   "metadata": {},
   "source": [
    "### Get all roles in template participating in reactions"
   ]
  },
  {
   "cell_type": "code",
   "execution_count": 21,
   "metadata": {},
   "outputs": [
    {
     "data": {
      "text/plain": [
       "['~/complexes/id/cpx00663',\n",
       " '~/complexes/id/cpx00664',\n",
       " '~/complexes/id/cpx00665']"
      ]
     },
     "execution_count": 21,
     "metadata": {},
     "output_type": "execute_result"
    }
   ],
   "source": [
    "b1095 or b2323"
   ]
  },
  {
   "cell_type": "code",
   "execution_count": 138,
   "metadata": {},
   "outputs": [],
   "source": [
    "genome_node = annotation_api.get_genome('GCF_000005845.2')\n",
    "genome_node = annotation_api.matcher.get(496405)\n",
    "\n",
    "#genome_node = annotation_api.get_genome('GCF_000005845.2')\n",
    "#genome_node = annotation_api.matcher.get(496405)\n",
    "#neo4j_genome = Neo4jGenome(genome_node)\n",
    "#neo4j_genome.properties"
   ]
  },
  {
   "cell_type": "code",
   "execution_count": null,
   "metadata": {},
   "outputs": [],
   "source": [
    "gene_node = annotation_api.get_node('KBaseGene', 'b1095@GCF_000005845.2')\n",
    "gene_node = annotation_api.matcher.get(gene_node.id)\n",
    "for r in gene_node.graph.match((gene_node, ), r_type=\"has_annotation\"):\n",
    "    print(r.end_node['key'])"
   ]
  },
  {
   "cell_type": "code",
   "execution_count": 12,
   "metadata": {},
   "outputs": [
    {
     "data": {
      "text/plain": [
       "['template_template_v3',\n",
       " 'templates_reactions_manual_ko',\n",
       " 'template_fungi',\n",
       " 'reaction_gene_annotation',\n",
       " 'templates_reactions']"
      ]
     },
     "execution_count": 12,
     "metadata": {},
     "output_type": "execute_result"
    }
   ],
   "source": [
    "database.list_collection_names()"
   ]
  },
  {
   "cell_type": "code",
   "execution_count": 11,
   "metadata": {},
   "outputs": [],
   "source": [
    "template_o = kbase.get_object('template_v2.0_06102020', 'filipeliu:narrative_1582914694010')\n",
    "template = NewModelTemplate(copy.deepcopy(template_o), 'tftr', 'tcpx')"
   ]
  },
  {
   "cell_type": "markdown",
   "metadata": {},
   "source": [
    "### Add roles validated in curation not in template"
   ]
  },
  {
   "cell_type": "code",
   "execution_count": 13,
   "metadata": {},
   "outputs": [
    {
     "ename": "NameError",
     "evalue": "name 'tc' is not defined",
     "output_type": "error",
     "traceback": [
      "\u001b[0;31m---------------------------------------------------------------------------\u001b[0m",
      "\u001b[0;31mNameError\u001b[0m                                 Traceback (most recent call last)",
      "\u001b[0;32m<ipython-input-13-87b244056792>\u001b[0m in \u001b[0;36m<module>\u001b[0;34m\u001b[0m\n\u001b[0;32m----> 1\u001b[0;31m \u001b[0mtc\u001b[0m\u001b[0;34m.\u001b[0m\u001b[0mget_function\u001b[0m\u001b[0;34m(\u001b[0m\u001b[0;36m5543813\u001b[0m\u001b[0;34m,\u001b[0m \u001b[0msearch_name_to_role_id\u001b[0m\u001b[0;34m)\u001b[0m\u001b[0;34m\u001b[0m\u001b[0;34m\u001b[0m\u001b[0m\n\u001b[0m",
      "\u001b[0;31mNameError\u001b[0m: name 'tc' is not defined"
     ]
    }
   ],
   "source": [
    "tc.get_function(5543813, search_name_to_role_id)"
   ]
  },
  {
   "cell_type": "code",
   "execution_count": null,
   "metadata": {},
   "outputs": [],
   "source": [
    "tc.get\n",
    "for rxn_id in set(test_accept):\n",
    "    trxn = template.get_reaction(rxn_id + '_' + cmp)"
   ]
  },
  {
   "cell_type": "code",
   "execution_count": null,
   "metadata": {},
   "outputs": [],
   "source": []
  },
  {
   "cell_type": "code",
   "execution_count": null,
   "metadata": {},
   "outputs": [],
   "source": []
  },
  {
   "cell_type": "code",
   "execution_count": 41,
   "metadata": {},
   "outputs": [],
   "source": [
    "with open('/Users/fliu/workspace/jupyter/data/modelseed2/template.json', 'w') as fh:\n",
    "    fh.write(json.dumps(template.data))"
   ]
  },
  {
   "cell_type": "code",
   "execution_count": null,
   "metadata": {},
   "outputs": [],
   "source": []
  },
  {
   "cell_type": "code",
   "execution_count": null,
   "metadata": {},
   "outputs": [],
   "source": []
  },
  {
   "cell_type": "code",
   "execution_count": null,
   "metadata": {},
   "outputs": [],
   "source": []
  },
  {
   "cell_type": "code",
   "execution_count": null,
   "metadata": {},
   "outputs": [],
   "source": []
  },
  {
   "cell_type": "markdown",
   "metadata": {},
   "source": []
  },
  {
   "cell_type": "code",
   "execution_count": 72,
   "metadata": {},
   "outputs": [
    {
     "data": {
      "text/plain": [
       "[[116,\n",
       "  'template_v2.z_06102020',\n",
       "  'KBaseFBA.NewModelTemplate-1.0',\n",
       "  '2020-07-03T12:01:25+0000',\n",
       "  1,\n",
       "  'filipeliu',\n",
       "  56739,\n",
       "  'filipeliu:narrative_1582914694010',\n",
       "  '7a3ecdd76cd474f526ff138ae3aae86b',\n",
       "  14417197,\n",
       "  {}]]"
      ]
     },
     "execution_count": 72,
     "metadata": {},
     "output_type": "execute_result"
    }
   ],
   "source": []
  },
  {
   "cell_type": "code",
   "execution_count": 33,
   "metadata": {},
   "outputs": [],
   "source": [
    "for r in template.data['roles']:\n",
    "    if not r['source'] == 'ModelSEED':\n",
    "        r['source'] = 'ModelSEED'"
   ]
  },
  {
   "cell_type": "code",
   "execution_count": null,
   "metadata": {},
   "outputs": [],
   "source": []
  },
  {
   "cell_type": "code",
   "execution_count": null,
   "metadata": {},
   "outputs": [],
   "source": []
  },
  {
   "cell_type": "code",
   "execution_count": 25,
   "metadata": {},
   "outputs": [
    {
     "data": {
      "text/plain": [
       "{'6273': True, '6269': False, '315778': False, '5547178': False}"
      ]
     },
     "execution_count": 25,
     "metadata": {},
     "output_type": "execute_result"
    }
   ],
   "source": [
    "role_change"
   ]
  },
  {
   "cell_type": "code",
   "execution_count": 28,
   "metadata": {},
   "outputs": [
    {
     "data": {
      "text/plain": [
       "{'cpx00687': {'ftr06374', 'ftr06375'}}"
      ]
     },
     "execution_count": 28,
     "metadata": {},
     "output_type": "execute_result"
    }
   ],
   "source": [
    "trxn.get_complex_roles()\n"
   ]
  },
  {
   "cell_type": "code",
   "execution_count": 27,
   "metadata": {},
   "outputs": [
    {
     "name": "stdout",
     "output_type": "stream",
     "text": [
      "True FMN adenylyltransferase (EC 2.7.7.2)\n",
      "{'ftr06375'}\n",
      "False Riboflavin kinase (EC 2.7.1.26)\n",
      "{'ftr06374'}\n",
      "False hypothetical protein\n",
      "{'ftr03739'}\n",
      "False UDP-N-acetylglucosamine diphosphorylase (EC 2.7.7.23)\n",
      "?\n"
     ]
    }
   ],
   "source": [
    "for uid in role_change:\n",
    "    nfunction = annotation_api.get_function_by_uid(uid)\n",
    "    print(role_change[uid], nfunction, )\n",
    "    if nfunction.search_value in search_name_to_role_id:\n",
    "        print(search_name_to_role_id[nfunction.search_value])\n",
    "    else:\n",
    "        print('?')"
   ]
  },
  {
   "cell_type": "code",
   "execution_count": null,
   "metadata": {},
   "outputs": [],
   "source": []
  },
  {
   "cell_type": "code",
   "execution_count": null,
   "metadata": {},
   "outputs": [],
   "source": []
  },
  {
   "cell_type": "code",
   "execution_count": null,
   "metadata": {},
   "outputs": [],
   "source": []
  },
  {
   "cell_type": "code",
   "execution_count": null,
   "metadata": {},
   "outputs": [],
   "source": []
  },
  {
   "cell_type": "code",
   "execution_count": null,
   "metadata": {},
   "outputs": [],
   "source": []
  },
  {
   "cell_type": "code",
   "execution_count": 166,
   "metadata": {},
   "outputs": [],
   "source": [
    "role_change = tc.get_role_change('rxn00851', test_accept, test_remove)\n",
    "nfunction = tc.update_roles(trxn, role_change)"
   ]
  },
  {
   "cell_type": "code",
   "execution_count": 208,
   "metadata": {},
   "outputs": [],
   "source": [
    "trxn = template.get_reaction('rxn02380_c')\n",
    "trxn.data['templatecomplex_refs'] = ['~/complexes/id/cpx00299',\n",
    "  '~/complexes/id/cpx00298',\n",
    "  '~/complexes/id/cpx35438']"
   ]
  },
  {
   "cell_type": "code",
   "execution_count": 188,
   "metadata": {},
   "outputs": [],
   "source": [
    "complex_id = 'tcpx00001'\n",
    "complex_data = {\n",
    "                'complexroles': [],\n",
    "                'confidence': 0,\n",
    "                'id': complex_id,\n",
    "                'name': complex_id,\n",
    "                'reference': 'null',\n",
    "                'source': 'Manual'\n",
    "}\n",
    "role_ids = ['ftr07467']\n",
    "for role_id in role_ids:\n",
    "                complex_data['complexroles'].append({\n",
    "                    'optional_role': 0,\n",
    "                    'templaterole_ref': '~/roles/id/' + role_id,\n",
    "                    'triggering': 1\n",
    "                })\n",
    "complex_data\n",
    "#template.data['complexes'].append(complex_data)"
   ]
  },
  {
   "cell_type": "code",
   "execution_count": 199,
   "metadata": {},
   "outputs": [],
   "source": [
    "%run ../../cobrakbase/cobrakbase/core/kbasefba/newmodeltemplate.py\n",
    "template = NewModelTemplate(template.data, template.role_suf, template.complex_suf)"
   ]
  },
  {
   "cell_type": "code",
   "execution_count": 200,
   "metadata": {},
   "outputs": [
    {
     "name": "stdout",
     "output_type": "stream",
     "text": [
      "tftr00164\n",
      "tftr00165\n"
     ]
    },
    {
     "data": {
      "text/plain": [
       "'tcpx00002'"
      ]
     },
     "execution_count": 200,
     "metadata": {},
     "output_type": "execute_result"
    }
   ],
   "source": [
    "print(template.add_role('Apple'))\n",
    "print(template.add_role('Banana'))\n",
    "template.add_complex_from_role_names(['Apple', 'Banana'])"
   ]
  },
  {
   "cell_type": "code",
   "execution_count": 203,
   "metadata": {},
   "outputs": [
    {
     "data": {
      "text/plain": [
       "{'aliases': ['msfr.10256'],\n",
       " 'features': [],\n",
       " 'id': 'ftr10256',\n",
       " 'name': 'Glucose-6-phosphate isomerase, archaeal (EC 5.3.1.9)',\n",
       " 'source': 'ModelSEED'}"
      ]
     },
     "execution_count": 203,
     "metadata": {},
     "output_type": "execute_result"
    }
   ],
   "source": [
    "template.get_role('ftr10256')"
   ]
  },
  {
   "cell_type": "code",
   "execution_count": 224,
   "metadata": {},
   "outputs": [
    {
     "data": {
      "text/plain": [
       "{'complexroles': [{'optional_role': 0,\n",
       "   'templaterole_ref': '~/roles/id/ftr10256',\n",
       "   'triggering': 1}],\n",
       " 'confidence': 0,\n",
       " 'id': 'tcpx00004',\n",
       " 'name': 'tcpx00004',\n",
       " 'reference': 'null',\n",
       " 'source': 'ModelSEED'}"
      ]
     },
     "execution_count": 224,
     "metadata": {},
     "output_type": "execute_result"
    }
   ],
   "source": [
    "template.get_complex('tcpx00004')"
   ]
  },
  {
   "cell_type": "code",
   "execution_count": 218,
   "metadata": {},
   "outputs": [],
   "source": [
    "for o in template.data['complexes']:\n",
    "    if o['source'] == 'Manual':\n",
    "        o['source'] = 'ModelSEED'"
   ]
  },
  {
   "cell_type": "code",
   "execution_count": 30,
   "metadata": {},
   "outputs": [],
   "source": [
    "a, b = tc.get_function(5550532)"
   ]
  },
  {
   "cell_type": "code",
   "execution_count": 60,
   "metadata": {},
   "outputs": [],
   "source": [
    "template_o = kbase.get_object('template_v2.x_06102020', 'filipeliu:narrative_1582914694010')\n",
    "template = NewModelTemplate(copy.deepcopy(template_o), 'tftr', 'tcpx')\n",
    "tc = TemplateCuration(template, database, annotation_api)\n",
    "tm = TemplateManipulator(template)"
   ]
  },
  {
   "cell_type": "code",
   "execution_count": null,
   "metadata": {},
   "outputs": [],
   "source": []
  },
  {
   "cell_type": "code",
   "execution_count": null,
   "metadata": {},
   "outputs": [],
   "source": []
  },
  {
   "cell_type": "code",
   "execution_count": null,
   "metadata": {},
   "outputs": [],
   "source": []
  },
  {
   "cell_type": "code",
   "execution_count": null,
   "metadata": {},
   "outputs": [],
   "source": []
  },
  {
   "cell_type": "code",
   "execution_count": null,
   "metadata": {},
   "outputs": [],
   "source": []
  },
  {
   "cell_type": "code",
   "execution_count": 59,
   "metadata": {},
   "outputs": [
    {
     "data": {
      "text/plain": [
       "[[106,\n",
       "  'template_v2.x_06102020',\n",
       "  'KBaseFBA.NewModelTemplate-1.0',\n",
       "  '2020-06-16T09:50:26+0000',\n",
       "  1,\n",
       "  'filipeliu',\n",
       "  56739,\n",
       "  'filipeliu:narrative_1582914694010',\n",
       "  'b464436d640dd42d0c79cc0b1ccc306b',\n",
       "  14221754,\n",
       "  {}]]"
      ]
     },
     "execution_count": 59,
     "metadata": {},
     "output_type": "execute_result"
    }
   ],
   "source": [
    "kbase.save_object('template_v2.x_06102020', 'filipeliu:narrative_1582914694010', 'KBaseFBA.NewModelTemplate', template.data)"
   ]
  },
  {
   "cell_type": "markdown",
   "metadata": {},
   "source": [
    "### Print Curation Report (actions by user)"
   ]
  },
  {
   "cell_type": "code",
   "execution_count": 44,
   "metadata": {},
   "outputs": [
    {
     "name": "stdout",
     "output_type": "stream",
     "text": [
      "newmodeltemplate.py     template_manipulator.py\n"
     ]
    }
   ],
   "source": [
    "!ls ../../cobrakbase/cobrakbase/core/kbasefba/\n",
    "%run ../../cobrakbase/cobrakbase/core/kbasefba/template_manipulator.py\n",
    "#report(annotation_api, 'fliu')"
   ]
  },
  {
   "cell_type": "code",
   "execution_count": 86,
   "metadata": {},
   "outputs": [],
   "source": [
    "%run ../../cobrakbase/cobrakbase/core/kbasefba/template_manipulator.py\n"
   ]
  },
  {
   "cell_type": "code",
   "execution_count": 87,
   "metadata": {},
   "outputs": [],
   "source": []
  },
  {
   "cell_type": "code",
   "execution_count": 88,
   "metadata": {},
   "outputs": [],
   "source": [
    "template = NewModelTemplate(copy.deepcopy(template_o), 'tftr', 'tcpx')"
   ]
  },
  {
   "cell_type": "code",
   "execution_count": 458,
   "metadata": {},
   "outputs": [
    {
     "name": "stdout",
     "output_type": "stream",
     "text": [
      "ftr33995\n",
      "{'aliases': ['searchname:4-hydroxybenzoyl-coathioesterase(ec)'], 'features': [], 'id': 'ftr33995', 'name': '4-hydroxybenzoyl-CoA thioesterase (EC 3.1.2.23)', 'source': 'KEGG'}\n",
      "ftr50229\n",
      "{'aliases': ['psfr.229'], 'features': ['AT1G01710', 'AT4G00520'], 'id': 'ftr50229', 'name': 'Acyl-CoA thioesterase II (EC 3.1.2.-)', 'source': 'PlantSEED'}\n"
     ]
    }
   ],
   "source": [
    "trxn = template.get_reaction('rxn08444_c')\n",
    "trxn_cpx = trxn.get_complex_roles()\n",
    "for complex_id in trxn_cpx:\n",
    "    for role_id in trxn_cpx[complex_id]:\n",
    "        print(role_id)\n",
    "        print(template.get_role(role_id))"
   ]
  },
  {
   "cell_type": "code",
   "execution_count": null,
   "metadata": {},
   "outputs": [],
   "source": []
  },
  {
   "cell_type": "code",
   "execution_count": 370,
   "metadata": {},
   "outputs": [],
   "source": [
    "cpx52489\n",
    "rxn08444_c0\n",
    "[{'complex_ref': '~/template/complexes/name/cpx52489', 'modelReactionProteinSubunits': [{'feature_refs': ['~/genome/features/id/b0452'], 'note': '', 'optionalSubunit': 0, 'role': 'ftr50229', 'triggering': 1}], 'note': '', 'source': ''}]\n",
    "unique v1 rxn02929_c0"
   ]
  },
  {
   "cell_type": "code",
   "execution_count": null,
   "metadata": {},
   "outputs": [],
   "source": [
    "template"
   ]
  },
  {
   "cell_type": "code",
   "execution_count": null,
   "metadata": {},
   "outputs": [],
   "source": []
  },
  {
   "cell_type": "code",
   "execution_count": 187,
   "metadata": {},
   "outputs": [],
   "source": [
    "\n",
    "nfunction, role_id = get_function(function_id)"
   ]
  },
  {
   "cell_type": "code",
   "execution_count": null,
   "metadata": {},
   "outputs": [],
   "source": []
  },
  {
   "cell_type": "code",
   "execution_count": 440,
   "metadata": {},
   "outputs": [],
   "source": []
  },
  {
   "cell_type": "code",
   "execution_count": 432,
   "metadata": {},
   "outputs": [],
   "source": [
    "template.data['reactions'] = template_reactions_filter"
   ]
  },
  {
   "cell_type": "code",
   "execution_count": null,
   "metadata": {},
   "outputs": [],
   "source": [
    "#GCF_000005845.2_RELEASE_05_31_2020_v2.mdl\n",
    "#GCF_000005845.2_RELEASE_05_31_2020_v3.mdl"
   ]
  },
  {
   "cell_type": "code",
   "execution_count": 441,
   "metadata": {},
   "outputs": [],
   "source": [
    "v1 = kbase.get_object('GCF_000005845.2_RELEASE_05_31_2020_v2.mdl', 'filipeliu:narrative_1582914694010')\n",
    "v2 = kbase.get_object('GCF_000005845.2_RELEASE_05_31_2020_v3.mdl', 'filipeliu:narrative_1582914694010')"
   ]
  },
  {
   "cell_type": "code",
   "execution_count": 18,
   "metadata": {},
   "outputs": [],
   "source": [
    "def diff(v1, v2):\n",
    "    v1_rxns = dict(map(lambda x : (x['id'], x), v1['modelreactions']))\n",
    "    v2_rxns = dict(map(lambda x : (x['id'], x), v2['modelreactions']))\n",
    "    for rxn_id in set(v1_rxns) & set(v2_rxns):\n",
    "        pass\n",
    "    for rxn_id in set(v1_rxns) - set(v2_rxns):\n",
    "        print('unique v1', rxn_id)\n",
    "        print(v1_rxns[rxn_id]['modelReactionProteins'])\n",
    "        pass\n",
    "    for rxn_id in set(v2_rxns) - set(v1_rxns):\n",
    "        print('unique v2', rxn_id)\n",
    "        pass\n",
    "#diff(v1, v2)"
   ]
  },
  {
   "cell_type": "code",
   "execution_count": 433,
   "metadata": {},
   "outputs": [
    {
     "name": "stdout",
     "output_type": "stream",
     "text": [
      "{'GapfillDirection': '=', 'base_cost': 5, 'direction': '=', 'forward_penalty': 6.03, 'id': 'rxn00068_c', 'maxforflux': 100, 'maxrevflux': -100, 'name': 'Fe2+:NAD+ oxidoreductase', 'reaction_ref': '489/6/6/reactions/id/rxn00068', 'reverse_penalty': 0, 'templateReactionReagents': [{'coefficient': -1, 'templatecompcompound_ref': '~/compcompounds/id/cpd00003_c'}, {'coefficient': -1, 'templatecompcompound_ref': '~/compcompounds/id/cpd00067_c'}, {'coefficient': -2, 'templatecompcompound_ref': '~/compcompounds/id/cpd10515_c'}, {'coefficient': 1, 'templatecompcompound_ref': '~/compcompounds/id/cpd00004_c'}, {'coefficient': 2, 'templatecompcompound_ref': '~/compcompounds/id/cpd10516_c'}], 'templatecompartment_ref': '~/compartments/id/c', 'templatecomplex_refs': ['~/complexes/id/cpx30947'], 'type': 'conditional'}\n"
     ]
    }
   ],
   "source": [
    "for reaction_o in template.data['reactions']:\n",
    "    if 'rxn00068' in reaction_o['id']:\n",
    "        print(reaction_o)"
   ]
  },
  {
   "cell_type": "code",
   "execution_count": 48,
   "metadata": {},
   "outputs": [],
   "source": []
  },
  {
   "cell_type": "code",
   "execution_count": null,
   "metadata": {},
   "outputs": [],
   "source": []
  },
  {
   "cell_type": "markdown",
   "metadata": {},
   "source": [
    "### Get all roles validated in curation"
   ]
  },
  {
   "cell_type": "code",
   "execution_count": null,
   "metadata": {},
   "outputs": [],
   "source": []
  },
  {
   "cell_type": "code",
   "execution_count": null,
   "metadata": {},
   "outputs": [],
   "source": []
  },
  {
   "cell_type": "code",
   "execution_count": 51,
   "metadata": {},
   "outputs": [],
   "source": []
  },
  {
   "cell_type": "code",
   "execution_count": 355,
   "metadata": {},
   "outputs": [],
   "source": []
  },
  {
   "cell_type": "code",
   "execution_count": 102,
   "metadata": {},
   "outputs": [],
   "source": []
  },
  {
   "cell_type": "code",
   "execution_count": 101,
   "metadata": {},
   "outputs": [
    {
     "data": {
      "text/plain": [
       "3987"
      ]
     },
     "execution_count": 101,
     "metadata": {},
     "output_type": "execute_result"
    }
   ],
   "source": []
  },
  {
   "cell_type": "code",
   "execution_count": 118,
   "metadata": {},
   "outputs": [],
   "source": [
    "for k in test_accept_sn_to_roles:\n",
    "    if not k in search_name_to_role_id:\n",
    "        role_name = list(sn_to_roles[k])[0]\n",
    "        role_id = template.add_role(role_name)\n",
    "        role = template.get_role(role_id)"
   ]
  },
  {
   "cell_type": "code",
   "execution_count": 232,
   "metadata": {},
   "outputs": [
    {
     "data": {
      "text/plain": [
       "['~/complexes/id/cpx00505', '~/complexes/id/cpx31181']"
      ]
     },
     "execution_count": 232,
     "metadata": {},
     "output_type": "execute_result"
    }
   ],
   "source": [
    "\n",
    "\n",
    "rxn_id = 'rxn05226'\n",
    "trxn = template.get_reaction(rxn_id + '_' + cmp)\n",
    "remove_role(trxn, 'ftr03739')\n",
    "\n",
    "rxn_id = 'rxn00525'\n",
    "trxn = template.get_reaction(rxn_id + '_' + cmp)\n",
    "remove_role(trxn, 'ftr30164')"
   ]
  },
  {
   "cell_type": "code",
   "execution_count": 266,
   "metadata": {},
   "outputs": [
    {
     "name": "stderr",
     "output_type": "stream",
     "text": [
      "WARNING:__main__:ignore ['ftr02203'] all present in atleast 1 complex\n"
     ]
    }
   ],
   "source": [
    "\n",
    "\n",
    "rxn_id = 'rxn00525'\n",
    "trxn = template.get_reaction(rxn_id + '_' + cmp)\n",
    "add_role(trxn, ['ftr00383'])\n",
    "\n",
    "rxn_id = 'rxn05226'\n",
    "trxn = template.get_reaction(rxn_id + '_' + cmp)\n",
    "add_role(trxn, ['ftr02203'])"
   ]
  },
  {
   "cell_type": "code",
   "execution_count": 273,
   "metadata": {},
   "outputs": [],
   "source": []
  },
  {
   "cell_type": "code",
   "execution_count": 60,
   "metadata": {},
   "outputs": [],
   "source": [
    "for o in template.data['roles']:\n",
    "    if o['source'] == 'Manual':\n",
    "        print(o['source'])"
   ]
  },
  {
   "cell_type": "code",
   "execution_count": 58,
   "metadata": {},
   "outputs": [
    {
     "data": {
      "text/plain": [
       "{'aliases': [],\n",
       " 'features': [],\n",
       " 'id': 'tftr00163',\n",
       " 'name': 'L,L-diaminopimelate aminotransferase (EC 2.6.1.83), DapL2 type',\n",
       " 'source': 'ModelSEED'}"
      ]
     },
     "execution_count": 58,
     "metadata": {},
     "output_type": "execute_result"
    }
   ],
   "source": [
    "o"
   ]
  },
  {
   "cell_type": "code",
   "execution_count": 284,
   "metadata": {},
   "outputs": [],
   "source": []
  },
  {
   "cell_type": "code",
   "execution_count": 341,
   "metadata": {},
   "outputs": [
    {
     "name": "stderr",
     "output_type": "stream",
     "text": [
      "WARNING:__main__:rxn00247 multiple role ids Phosphoenolpyruvate carboxykinase [ATP] (EC 4.1.1.49) {'ftr30922', 'ftr50081', 'ftr00745'}\n"
     ]
    }
   ],
   "source": [
    "\n",
    "#rxn_id = 'rxn00525'\n",
    "rxn_id = 'rxn05226'\n",
    "rxn_id = 'rxn00770'\n",
    "rxn_id = 'rxn00247'\n",
    "trxn = template.get_reaction(rxn_id + '_' + cmp)\n",
    "nfunction = update_roles(trxn, get_role_change(rxn_id, test_accept, test_remove))"
   ]
  },
  {
   "cell_type": "code",
   "execution_count": 39,
   "metadata": {},
   "outputs": [
    {
     "ename": "NameError",
     "evalue": "name 'get_role_change' is not defined",
     "output_type": "error",
     "traceback": [
      "\u001b[0;31m---------------------------------------------------------------------------\u001b[0m",
      "\u001b[0;31mNameError\u001b[0m                                 Traceback (most recent call last)",
      "\u001b[0;32m<ipython-input-39-1e9617aeb671>\u001b[0m in \u001b[0;36m<module>\u001b[0;34m\u001b[0m\n\u001b[1;32m      5\u001b[0m         \u001b[0mlogger\u001b[0m\u001b[0;34m.\u001b[0m\u001b[0mwarning\u001b[0m\u001b[0;34m(\u001b[0m\u001b[0;34m'%s'\u001b[0m\u001b[0;34m,\u001b[0m \u001b[0mrxn_id\u001b[0m\u001b[0;34m)\u001b[0m\u001b[0;34m\u001b[0m\u001b[0;34m\u001b[0m\u001b[0m\n\u001b[1;32m      6\u001b[0m     \u001b[0;32melse\u001b[0m\u001b[0;34m:\u001b[0m\u001b[0;34m\u001b[0m\u001b[0;34m\u001b[0m\u001b[0m\n\u001b[0;32m----> 7\u001b[0;31m         \u001b[0mrole_change\u001b[0m \u001b[0;34m=\u001b[0m \u001b[0mget_role_change\u001b[0m\u001b[0;34m(\u001b[0m\u001b[0mrxn_id\u001b[0m\u001b[0;34m,\u001b[0m \u001b[0mtest_accept\u001b[0m\u001b[0;34m,\u001b[0m \u001b[0mtest_remove\u001b[0m\u001b[0;34m)\u001b[0m\u001b[0;34m\u001b[0m\u001b[0;34m\u001b[0m\u001b[0m\n\u001b[0m\u001b[1;32m      8\u001b[0m         \u001b[0mnfunction\u001b[0m \u001b[0;34m=\u001b[0m \u001b[0mupdate_roles\u001b[0m\u001b[0;34m(\u001b[0m\u001b[0mtrxn\u001b[0m\u001b[0;34m,\u001b[0m \u001b[0mrole_change\u001b[0m\u001b[0;34m)\u001b[0m\u001b[0;34m\u001b[0m\u001b[0;34m\u001b[0m\u001b[0m\n",
      "\u001b[0;31mNameError\u001b[0m: name 'get_role_change' is not defined"
     ]
    }
   ],
   "source": [
    "\n",
    "cmp = 'c'\n",
    "for rxn_id in set(test_accept) & set(test_remove):\n",
    "    trxn = template.get_reaction(rxn_id + '_' + cmp)\n",
    "    if trxn == None:\n",
    "        logger.warning('%s', rxn_id)\n",
    "    else:\n",
    "        role_change = get_role_change(rxn_id, test_accept, test_remove)\n",
    "        nfunction = update_roles(trxn, role_change)"
   ]
  },
  {
   "cell_type": "code",
   "execution_count": 7,
   "metadata": {},
   "outputs": [
    {
     "ename": "SyntaxError",
     "evalue": "invalid syntax (<ipython-input-7-57cc8947489d>, line 2)",
     "output_type": "error",
     "traceback": [
      "\u001b[0;36m  File \u001b[0;32m\"<ipython-input-7-57cc8947489d>\"\u001b[0;36m, line \u001b[0;32m2\u001b[0m\n\u001b[0;31m    for user\u001b[0m\n\u001b[0m            ^\u001b[0m\n\u001b[0;31mSyntaxError\u001b[0m\u001b[0;31m:\u001b[0m invalid syntax\n"
     ]
    }
   ],
   "source": [
    "def get_last(o):\n",
    "    for user\n",
    "get_last(a['fungi'][rxn_id]['user'][int(function_id)])"
   ]
  },
  {
   "cell_type": "code",
   "execution_count": 14,
   "metadata": {},
   "outputs": [
    {
     "data": {
      "text/plain": [
       "{'chenry': {'opt_score1': 102,\n",
       "  'opt_rej': 184,\n",
       "  'opt_score2': 24,\n",
       "  'opt_score3': 21,\n",
       "  'opt_null': 4},\n",
       " 'vcrecy': {'opt_rej': 14,\n",
       "  'opt_score3': 2,\n",
       "  'opt_score2': 1,\n",
       "  'opt_score1': 4,\n",
       "  'opt_null': 10},\n",
       " 'curator_1': {'opt_rej': 1},\n",
       " 'system': {'opt_score1': 9715},\n",
       " 'jne': {'opt_score1': 31, 'opt_rej': 63, 'opt_score2': 28, 'opt_score3': 11},\n",
       " 'fliu': {'opt_null': 4,\n",
       "  'opt_rej': 66,\n",
       "  'opt_score1': 83,\n",
       "  'opt_score2': 32,\n",
       "  'opt_score3': 18},\n",
       " 'jplfaria': {'opt_score2': 94,\n",
       "  'opt_score1': 341,\n",
       "  'opt_rej': 387,\n",
       "  'opt_score3': 18,\n",
       "  'opt_null': 7},\n",
       " 'claudia_lerma_ortiz': {'opt_score2': 15,\n",
       "  'opt_rej': 67,\n",
       "  'opt_null': 14,\n",
       "  'opt_score3': 18,\n",
       "  'opt_score1': 3}}"
      ]
     },
     "execution_count": 14,
     "metadata": {},
     "output_type": "execute_result"
    }
   ],
   "source": [
    "user_count = {}\n",
    "for rxn_id in a['fungi']:\n",
    "    user_functions = a['fungi'][rxn_id]['user']\n",
    "    \n",
    "    for function_id in user_functions:\n",
    "        for user in user_functions[function_id]:\n",
    "            target = user_functions[function_id][user][0]\n",
    "            if not user in user_count:\n",
    "                user_count[user] = {}\n",
    "            if not target in user_count[user]:\n",
    "                user_count[user][target] = 0\n",
    "            user_count[user][target] += 1\n",
    "user_count"
   ]
  },
  {
   "cell_type": "code",
   "execution_count": null,
   "metadata": {},
   "outputs": [],
   "source": [
    "{'curator_1': {'opt_score1': 1},\n",
    " 'fliu': {'opt_rej': 3, 'opt_score1': 4},\n",
    " 'jplfaria': {'opt_score1': 2, 'opt_rej': 3, 'opt_score3': 1},\n",
    " 'Fatima': {'opt_score3': 9,\n",
    "  'opt_score1': 23,\n",
    "  'opt_score2': 14,\n",
    "  'opt_rej': 12},\n",
    " 'Nidhi': {'opt_score1': 15, 'opt_null': 2, 'opt_score3': 4, 'opt_score2': 1},\n",
    " 'claudia_lerma_ortiz': {'opt_score1': 7, 'opt_null': 1}}"
   ]
  },
  {
   "cell_type": "code",
   "execution_count": 23,
   "metadata": {},
   "outputs": [],
   "source": []
  },
  {
   "cell_type": "code",
   "execution_count": null,
   "metadata": {},
   "outputs": [],
   "source": []
  },
  {
   "cell_type": "code",
   "execution_count": 25,
   "metadata": {},
   "outputs": [],
   "source": []
  },
  {
   "cell_type": "code",
   "execution_count": 275,
   "metadata": {},
   "outputs": [],
   "source": [
    "rxn_id = 'rxn12512'\n",
    "trxn = template.get_reaction(rxn_id + '_' + cmp)"
   ]
  },
  {
   "cell_type": "code",
   "execution_count": 316,
   "metadata": {},
   "outputs": [
    {
     "name": "stdout",
     "output_type": "stream",
     "text": [
      "{'cpx00402': {'ftr01071', 'ftr01072'}, 'cpx34768': {'ftr33087'}, 'tcpx00009': {'tftr00010'}, 'tcpx09811': {'tftr09812'}, 'tcpx10704': {'tftr10705'}}\n"
     ]
    }
   ],
   "source": [
    "trxn = template.get_reaction('rxn02341_c')\n",
    "print(trxn.get_complex_roles())"
   ]
  },
  {
   "cell_type": "code",
   "execution_count": 348,
   "metadata": {},
   "outputs": [],
   "source": [
    "cmp = 'c'\n",
    "for rxn_id in test_accept:\n",
    "    trxn = template.get_reaction(rxn_id + '_' + cmp)\n",
    "    if trxn == None:\n",
    "        print(rxn_id, '!')\n",
    "    else:\n",
    "        add_role_rxn(trxn, test_accept[rxn_id])"
   ]
  },
  {
   "cell_type": "code",
   "execution_count": 287,
   "metadata": {},
   "outputs": [],
   "source": [
    "for rxn_id in test_accept:\n",
    "    trxn = template.get_reaction(rxn_id + '_' + cmp)\n",
    "    "
   ]
  },
  {
   "cell_type": "code",
   "execution_count": 197,
   "metadata": {},
   "outputs": [
    {
     "name": "stdout",
     "output_type": "stream",
     "text": [
      "rxn12512_c ftr30360 UDP-N-acetylmuramoyl-L-alanine---D-glutamate ligase (EC 6.3.2.9)\n",
      "rxn12512_c ftr01071 Phosphopantothenoylcysteine synthetase (EC 6.3.2.5)\n"
     ]
    }
   ],
   "source": [
    "\n",
    "\n",
    "for role_id in trxn.get_roles():\n",
    "    role = template.get_role(role_id)\n",
    "    print(trxn.id, role_id, role['name'])"
   ]
  },
  {
   "cell_type": "code",
   "execution_count": 28,
   "metadata": {},
   "outputs": [],
   "source": []
  },
  {
   "cell_type": "code",
   "execution_count": 285,
   "metadata": {},
   "outputs": [
    {
     "name": "stdout",
     "output_type": "stream",
     "text": [
      "- rxn12512 ftr30360 UDP-N-acetylmuramoyl-L-alanine---D-glutamate ligase (EC 6.3.2.9)\n"
     ]
    }
   ],
   "source": [
    "remove_complexes = set()\n",
    "accept_complexes = set()\n",
    "\n",
    "search_name_to_role_id\n",
    "\n",
    "if rxn_id in test_remove:\n",
    "    for function_id in test_remove[rxn_id]:\n",
    "        n = annotation_api.neo4j_graph.nodes[int(function_id)]\n",
    "        nfunction = Neo4jAnnotationFunction(n)\n",
    "        sn = normalize_role(nfunction.value)\n",
    "        role_id = search_name_to_role_id[sn]\n",
    "        if len(nfunction.sub_functions) == 0:\n",
    "            print('-', rxn_id, role_id, nfunction.value)\n",
    "            #check if role in rxn"
   ]
  },
  {
   "cell_type": "code",
   "execution_count": 66,
   "metadata": {},
   "outputs": [],
   "source": [
    "\n",
    "m = kbase.get_object('GCF_000005845.2_BETA_19_31_2020_v3.z.mdl', 'filipeliu:narrative_1582914694010')\n"
   ]
  },
  {
   "cell_type": "code",
   "execution_count": 71,
   "metadata": {},
   "outputs": [],
   "source": [
    "template_o = kbase.get_object('template_v3.z_06102020', 'filipeliu:narrative_1582914694010')\n",
    "template = NewModelTemplate(copy.deepcopy(template_o), 'tftr', 'tcpx')"
   ]
  },
  {
   "cell_type": "code",
   "execution_count": 302,
   "metadata": {},
   "outputs": [],
   "source": [
    "role_set_to_cpx = {}\n",
    "for cpx in template.data['complexes']:\n",
    "    roles = set()\n",
    "    for complexrole in cpx['complexroles']:\n",
    "        role_id = complexrole['templaterole_ref'].split('/')[-1]\n",
    "        roles.add(role_id)\n",
    "    #print(cpx, roles)\n",
    "    role_set_to_cpx[';'.join(sorted(roles))] = cpx['id']\n",
    "#role_set_to_cpx"
   ]
  },
  {
   "cell_type": "code",
   "execution_count": null,
   "metadata": {},
   "outputs": [],
   "source": [
    "\n",
    "    \n",
    "def direction_consensus(directions):\n",
    "    d = set(directions)\n",
    "    if '=' in d:\n",
    "        return '='\n",
    "    \n",
    "    if len(d) == 1:\n",
    "        return d.pop()\n",
    "    \n",
    "    return '='"
   ]
  },
  {
   "cell_type": "code",
   "execution_count": null,
   "metadata": {},
   "outputs": [],
   "source": []
  },
  {
   "cell_type": "code",
   "execution_count": null,
   "metadata": {},
   "outputs": [],
   "source": []
  },
  {
   "cell_type": "code",
   "execution_count": 521,
   "metadata": {},
   "outputs": [],
   "source": []
  },
  {
   "cell_type": "code",
   "execution_count": null,
   "metadata": {},
   "outputs": [],
   "source": []
  },
  {
   "cell_type": "code",
   "execution_count": 491,
   "metadata": {},
   "outputs": [
    {
     "data": {
      "text/plain": [
       "[47131,\n",
       " 'filipeliu:narrative_1565594820475',\n",
       " 'filipeliu',\n",
       " '2020-06-30T20:15:56+0000',\n",
       " 1631,\n",
       " 'a',\n",
       " 'n',\n",
       " 'unlocked',\n",
       " {'cell_count': '1',\n",
       "  'narrative_nice_name': 'TEST !!!!!!!!!',\n",
       "  'searchtags': 'narrative',\n",
       "  'is_temporary': 'false',\n",
       "  'narrative': '1'}]"
      ]
     },
     "execution_count": 491,
     "metadata": {},
     "output_type": "execute_result"
    }
   ],
   "source": [
    "kbase.ws_client.get_workspace_info({'id' : 47131})"
   ]
  },
  {
   "cell_type": "code",
   "execution_count": null,
   "metadata": {},
   "outputs": [],
   "source": [
    "def configure_reaction(seed_reaction, direction, compartment_config, model_reaction_proteins):\n",
    "    maxforflux = 1000\n",
    "    maxrevflux = 1000\n",
    "    if direction == '>':\n",
    "        maxrevflux = 0\n",
    "    elif direction == '<':\n",
    "        maxforflux = 0\n",
    "\n",
    "    if not seed_reaction['is_obsolete'] == 0:\n",
    "        print('warning obsolete reaction', seed_id)\n",
    "        \n",
    "    model_reaction_reagents = configure_stoichiometry(\n",
    "        seed_reaction, \n",
    "        compartment_config)\n",
    "    \n",
    "    compartment = cobrakbase.core.utils.get_reaction_compartment2(compartment_config)\n",
    "    \n",
    "    if len(compartment) > 1:\n",
    "        compartment = compartment[0]\n",
    "    \n",
    "    modelreaction = {\n",
    "        'aliases': [], \n",
    "        'dblinks': {}, \n",
    "        'direction': direction, \n",
    "        'edits': {}, \n",
    "        'gapfill_data': {}, \n",
    "        'id': \"{}_{}\".format(seed_reaction['id'], compartment),\n",
    "        'maxforflux': maxforflux, \n",
    "        'maxrevflux': maxrevflux, \n",
    "        'modelReactionProteins': model_reaction_proteins, \n",
    "        'modelReactionReagents': model_reaction_reagents, \n",
    "        'modelcompartment_ref': '~/modelcompartments/id/c0', \n",
    "        'name': seed_reaction['name'], \n",
    "        'numerical_attributes': {}, \n",
    "        'probability': 0, \n",
    "        'protons': 0, \n",
    "        'reaction_ref': '~/template/reactions/id/{}_{}'.format(seed_reaction['id'], compartment), \n",
    "        'string_attributes': {}\n",
    "    }\n",
    "    return modelreaction\n",
    "    #fbamodel.add_reaction(modelreaction)"
   ]
  },
  {
   "cell_type": "code",
   "execution_count": null,
   "metadata": {},
   "outputs": [],
   "source": []
  },
  {
   "cell_type": "code",
   "execution_count": null,
   "metadata": {},
   "outputs": [],
   "source": []
  },
  {
   "cell_type": "code",
   "execution_count": null,
   "metadata": {},
   "outputs": [],
   "source": []
  },
  {
   "cell_type": "code",
   "execution_count": null,
   "metadata": {},
   "outputs": [],
   "source": []
  },
  {
   "cell_type": "code",
   "execution_count": 158,
   "metadata": {},
   "outputs": [],
   "source": [
    "annotation_api.get_function(807239)"
   ]
  },
  {
   "cell_type": "code",
   "execution_count": 169,
   "metadata": {},
   "outputs": [],
   "source": [
    "n= annotation_api.neo4j_graph.nodes[int(function_id)]"
   ]
  },
  {
   "cell_type": "code",
   "execution_count": 171,
   "metadata": {},
   "outputs": [
    {
     "data": {
      "text/plain": [
       "'Enoyl-CoA hydratase (EC 4.2.1.17) / 3-hydroxyacyl-CoA dehydrogenase (EC 1.1.1.35) / 3-hydroxybutyryl-CoA epimerase (EC 5.1.2.3)'"
      ]
     },
     "execution_count": 171,
     "metadata": {},
     "output_type": "execute_result"
    }
   ],
   "source": [
    "n['key']"
   ]
  },
  {
   "cell_type": "code",
   "execution_count": 172,
   "metadata": {},
   "outputs": [
    {
     "data": {
      "text/plain": [
       "(_320824:Function {created_at: 1570268301788, key: 'Enoyl-CoA hydratase (EC 4.2.1.17) / 3-hydroxyacyl-CoA dehydrogenase (EC 1.1.1.35) / 3-hydroxybutyryl-CoA epimerase (EC 5.1.2.3)', updated_at: 1570268301788})"
      ]
     },
     "execution_count": 172,
     "metadata": {},
     "output_type": "execute_result"
    }
   ],
   "source": [
    "n"
   ]
  },
  {
   "cell_type": "code",
   "execution_count": null,
   "metadata": {},
   "outputs": [],
   "source": []
  },
  {
   "cell_type": "code",
   "execution_count": null,
   "metadata": {},
   "outputs": [],
   "source": []
  },
  {
   "cell_type": "code",
   "execution_count": 135,
   "metadata": {},
   "outputs": [
    {
     "name": "stdout",
     "output_type": "stream",
     "text": [
      "Agmatine/putrescine antiporter, associated with agmatine catabolism\n",
      "Aminoglycosides efflux system AcrAD-TolC, inner-membrane proton/drug antiporter AcrD (RND type)\n",
      "Arginine/agmatine antiporter\n",
      "Arginine/ornithine antiporter\n",
      "Arginine/ornithine antiporter ArcD\n",
      "Arsenite/antimonite:H+ antiporter ArsB\n",
      "COG1757: Na+/H+ antiporter\n",
      "Ca(2+)-binding ATP:ADP antiporter SAL1\n",
      "Ca(2+)/H(+) antiporter\n",
      "Ca2+/H+ antiporter\n"
     ]
    }
   ],
   "source": [
    "a, b = annotation_api.page_nodes2('Function', 0, 10, \"WHERE n.key CONTAINS 'antiporter'\")\n",
    "for o in a:\n",
    "    nfunction = annotation_api.get_function_by_uid(o['n'].id)\n",
    "    role_str = o['n']['key']\n",
    "    role_sn = normalize_role(role_str)\n",
    "    print(role_str)\n",
    "    for subfunction in nfunction.sub_functions:\n",
    "        print('\\t', subfunction)"
   ]
  },
  {
   "cell_type": "code",
   "execution_count": 134,
   "metadata": {},
   "outputs": [
    {
     "name": "stdout",
     "output_type": "stream",
     "text": [
      "Amino acid-proton symporter YbeC\n",
      "Amino acid-proton symporter related protein\n",
      "Amino acid-proton symporter related protein SSO1069\n",
      "Arabinose-proton symporter\n",
      "Arabinose-proton symporter (Arabinose transporter)\n",
      "Aspartate-proton symporter\n",
      "Citrate-proton symporter\n",
      "D-threonate, proton symporter\n",
      "D-xylose-proton symporter\n",
      "D-xylose-proton symporter (D-xylose transporter)\n"
     ]
    }
   ],
   "source": [
    "a, b = annotation_api.page_nodes2('Function', 0, 10, \"WHERE n.key CONTAINS 'proton symporter'\")\n",
    "for o in a:\n",
    "    nfunction = annotation_api.get_function_by_uid(o['n'].id)\n",
    "    role_str = o['n']['key']\n",
    "    role_sn = normalize_role(role_str)\n",
    "    print(role_str)\n",
    "    for subfunction in nfunction.sub_functions:\n",
    "        print('\\t', subfunction)"
   ]
  },
  {
   "cell_type": "code",
   "execution_count": 144,
   "metadata": {},
   "outputs": [],
   "source": [
    "\n",
    "# \"WHERE n.key CONTAINS 'PTS'\"\n",
    "croles = collect_roles(\"WHERE n.key CONTAINS 'symporter'\")"
   ]
  },
  {
   "cell_type": "code",
   "execution_count": 151,
   "metadata": {},
   "outputs": [
    {
     "name": "stdout",
     "output_type": "stream",
     "text": [
      "2-aminoethylphosphonate uptake and metabolism regulator\n",
      "A component of zinc uptake system\n",
      "ABC amino acid transporter, substrate-binding component CamA (uptake of 1-beta(2'-propanoate)-3a-alpha-H-4-alpha(3''(R)-hydroxy-3''-propanoate)-7a-beta-methylhexahydro-5-indanone)\n",
      "ABC transporter, quaternary amine uptake transporter (QAT) family, permease/periplasmic amine-binding protein\n",
      "ABC-type Na+ efflux pump not coupled with H+ or K+ uptake, permease component NatB\n",
      "ABC-type Na+ transport system not coupled with H+ or K+ uptake, ATPase component NatA\n",
      "Glycerol uptake facilitator protein\n",
      "Aquaporin\n",
      "COG1555: DNA uptake protein and related DNA-binding proteins\n",
      "Conserved membrane protein in copper uptake, YcnI\n",
      "Conserved membrane protein in copper uptake, YcnI\n",
      "Copper metallochaperone PCu(A)C, inserts Cu(I) into cytochrome oxidase subunit II\n",
      "hypothetical domain\n",
      "Conserved membrane protein in copper uptake, YcnI\n",
      "Copper metallochaperone, bacterial analog of Cox17 protein\n",
      "Conserved membrane protein in copper uptake, YcnI\n",
      "DNA uptake lipoprotein\n",
      "DNA uptake lipoprotein ComL\n",
      "DNA uptake lipoprotein-like\n",
      "DNA uptake lipoprotein-like protein\n",
      "DNA uptake protein\n",
      "DNA uptake protein and related DNA-binding proteins\n",
      "DNA uptake protein, DNA-binding\n",
      "Enterochelin uptake ATP-binding protein\n"
     ]
    }
   ],
   "source": [
    "a, b = annotation_api.page_nodes2('Function', 0, 20, \"WHERE n.key CONTAINS 'uptake'\")\n",
    "for o in a:\n",
    "    nfunction = annotation_api.get_function_by_uid(o['n'].id)\n",
    "    role_str = o['n']['key']\n",
    "    role_sn = normalize_role(role_str)\n",
    "    subfunctions = nfunction.sub_functions\n",
    "    if len(subfunctions) > 0:\n",
    "        for subfunction in subfunctions:\n",
    "            role_str = subfunction.value\n",
    "            role_sn = normalize_role(role_str)\n",
    "            print(role_str)        \n",
    "    else:\n",
    "        print(role_str)\n",
    "\n",
    "    "
   ]
  },
  {
   "cell_type": "code",
   "execution_count": null,
   "metadata": {},
   "outputs": [],
   "source": []
  },
  {
   "cell_type": "code",
   "execution_count": null,
   "metadata": {},
   "outputs": [],
   "source": []
  },
  {
   "cell_type": "code",
   "execution_count": 37,
   "metadata": {},
   "outputs": [
    {
     "ename": "NameError",
     "evalue": "name 'permeases' is not defined",
     "output_type": "error",
     "traceback": [
      "\u001b[0;31m---------------------------------------------------------------------------\u001b[0m",
      "\u001b[0;31mNameError\u001b[0m                                 Traceback (most recent call last)",
      "\u001b[0;32m<ipython-input-37-cd136c70c9a4>\u001b[0m in \u001b[0;36m<module>\u001b[0;34m\u001b[0m\n\u001b[0;32m----> 1\u001b[0;31m \u001b[0;32mfor\u001b[0m \u001b[0mk\u001b[0m \u001b[0;32min\u001b[0m \u001b[0mpermeases\u001b[0m\u001b[0;34m:\u001b[0m\u001b[0;34m\u001b[0m\u001b[0;34m\u001b[0m\u001b[0m\n\u001b[0m\u001b[1;32m      2\u001b[0m     \u001b[0mrxn\u001b[0m \u001b[0;34m=\u001b[0m \u001b[0mpermeases\u001b[0m\u001b[0;34m[\u001b[0m\u001b[0mk\u001b[0m\u001b[0;34m]\u001b[0m\u001b[0;34m\u001b[0m\u001b[0;34m\u001b[0m\u001b[0m\n\u001b[1;32m      3\u001b[0m     \u001b[0mdefinition\u001b[0m \u001b[0;34m=\u001b[0m \u001b[0mrxn\u001b[0m\u001b[0;34m.\u001b[0m\u001b[0mdata\u001b[0m\u001b[0;34m[\u001b[0m\u001b[0;34m'definition'\u001b[0m\u001b[0;34m]\u001b[0m\u001b[0;34m\u001b[0m\u001b[0;34m\u001b[0m\u001b[0m\n\u001b[1;32m      4\u001b[0m     \u001b[0mprint\u001b[0m\u001b[0;34m(\u001b[0m\u001b[0mk\u001b[0m\u001b[0;34m,\u001b[0m \u001b[0mdefinition\u001b[0m\u001b[0;34m)\u001b[0m\u001b[0;34m\u001b[0m\u001b[0;34m\u001b[0m\u001b[0m\n\u001b[1;32m      5\u001b[0m     \u001b[0;32mbreak\u001b[0m\u001b[0;34m\u001b[0m\u001b[0;34m\u001b[0m\u001b[0m\n",
      "\u001b[0;31mNameError\u001b[0m: name 'permeases' is not defined"
     ]
    }
   ],
   "source": [
    "for k in permeases:\n",
    "    rxn = permeases[k]\n",
    "    definition = rxn.data['definition']\n",
    "    print(k, definition)\n",
    "    break"
   ]
  },
  {
   "cell_type": "code",
   "execution_count": null,
   "metadata": {},
   "outputs": [],
   "source": []
  },
  {
   "cell_type": "code",
   "execution_count": null,
   "metadata": {},
   "outputs": [],
   "source": []
  },
  {
   "cell_type": "code",
   "execution_count": 56,
   "metadata": {},
   "outputs": [],
   "source": []
  },
  {
   "cell_type": "code",
   "execution_count": 61,
   "metadata": {},
   "outputs": [],
   "source": [
    "#df = pd.DataFrame(data)\n",
    "#df.to_csv('/Users/fliu/workspace/jupyter/genes.tsv', sep='\\t')"
   ]
  },
  {
   "cell_type": "code",
   "execution_count": 58,
   "metadata": {},
   "outputs": [],
   "source": []
  },
  {
   "cell_type": "code",
   "execution_count": 339,
   "metadata": {},
   "outputs": [],
   "source": [
    "ban = ['rxn29239'] #rxn29239 == rxn05153\n",
    "compounds_to_reaction = {}\n",
    "for rxn_id in t_abc:\n",
    "    if not rxn_id in ban:\n",
    "        rxn = t_abc[rxn_id]\n",
    "        b, inside, outside, t, cpd_id = is_transport_abc(rxn)\n",
    "        #print(rxn_id, b, inside, outside, t, cpd_id)\n",
    "        if b and t == 'import':\n",
    "            if not cpd_id in compounds_to_reaction:\n",
    "                compounds_to_reaction[cpd_id] = (rxn, inside, outside)\n",
    "            else:\n",
    "                print('!', rxn_id, cpd_id, compounds_to_reaction[cpd_id][0].id)"
   ]
  },
  {
   "cell_type": "code",
   "execution_count": null,
   "metadata": {},
   "outputs": [],
   "source": []
  },
  {
   "cell_type": "code",
   "execution_count": 443,
   "metadata": {},
   "outputs": [
    {
     "name": "stdout",
     "output_type": "stream",
     "text": [
      "! rxn08535 cpd00082 rxn05560\n",
      "! rxn25991 cpd01757 rxn08048\n",
      "! rxn29066 cpd19102 rxn29064\n",
      "! rxn37578 cpd30321 rxn37577\n"
     ]
    }
   ],
   "source": [
    "ban = [] #rxn29239 == rxn05153\n",
    "compounds_to_reaction = {}\n",
    "for rxn_id in t_pts:\n",
    "    if not rxn_id in ban:\n",
    "        rxn = t_pts[rxn_id]\n",
    "        b, inside, outside, t, cpd_id = is_transport_pts(rxn)\n",
    "        #print(rxn_id, b, inside, outside, t, cpd_id)\n",
    "        if b and t == 'export':\n",
    "            if not cpd_id in compounds_to_reaction:\n",
    "                compounds_to_reaction[cpd_id] = (rxn, inside, outside)\n",
    "            else:\n",
    "                print('!', rxn_id, cpd_id, compounds_to_reaction[cpd_id][0].id)"
   ]
  },
  {
   "cell_type": "code",
   "execution_count": 429,
   "metadata": {},
   "outputs": [
    {
     "data": {
      "text/plain": [
       "(False, None, None, None, None)"
      ]
     },
     "execution_count": 429,
     "metadata": {},
     "output_type": "execute_result"
    }
   ],
   "source": []
  },
  {
   "cell_type": "code",
   "execution_count": null,
   "metadata": {},
   "outputs": [],
   "source": []
  },
  {
   "cell_type": "code",
   "execution_count": null,
   "metadata": {},
   "outputs": [],
   "source": []
  },
  {
   "cell_type": "code",
   "execution_count": null,
   "metadata": {},
   "outputs": [],
   "source": []
  },
  {
   "cell_type": "code",
   "execution_count": null,
   "metadata": {},
   "outputs": [],
   "source": []
  },
  {
   "cell_type": "code",
   "execution_count": null,
   "metadata": {},
   "outputs": [],
   "source": []
  },
  {
   "cell_type": "code",
   "execution_count": null,
   "metadata": {},
   "outputs": [],
   "source": []
  },
  {
   "cell_type": "code",
   "execution_count": null,
   "metadata": {},
   "outputs": [],
   "source": []
  },
  {
   "cell_type": "code",
   "execution_count": null,
   "metadata": {},
   "outputs": [],
   "source": [
    "rxn05490 cpd00361 rxn05489"
   ]
  },
  {
   "cell_type": "code",
   "execution_count": 288,
   "metadata": {},
   "outputs": [
    {
     "name": "stdout",
     "output_type": "stream",
     "text": [
      "acetoin efflux  via ABC system\n",
      "acetoin transport via ABC system\n"
     ]
    }
   ],
   "source": [
    "print(modelseed_local.get_seed_reaction('rxn05490').data['name'])\n",
    "print(modelseed_local.get_seed_reaction('rxn05489').data['name'])"
   ]
  },
  {
   "cell_type": "code",
   "execution_count": null,
   "metadata": {},
   "outputs": [],
   "source": []
  },
  {
   "cell_type": "code",
   "execution_count": null,
   "metadata": {},
   "outputs": [],
   "source": []
  },
  {
   "cell_type": "code",
   "execution_count": 447,
   "metadata": {},
   "outputs": [
    {
     "data": {
      "text/plain": [
       "'Phosphoenolpyruvate [in] + beta-D-Fructose [out] <=> Pyruvate [in] + beta-D-Fructose 6-phosphate [in]'"
      ]
     },
     "execution_count": 447,
     "metadata": {},
     "output_type": "execute_result"
    }
   ],
   "source": [
    "#modelseed.py\n",
    "to_str2(rxn, {'0' : 'in', '1' : 'out'}, cpd_alias)\n"
   ]
  }
 ],
 "metadata": {
  "kernelspec": {
   "display_name": "Python 3",
   "language": "python",
   "name": "python3"
  },
  "language_info": {
   "codemirror_mode": {
    "name": "ipython",
    "version": 3
   },
   "file_extension": ".py",
   "mimetype": "text/x-python",
   "name": "python",
   "nbconvert_exporter": "python",
   "pygments_lexer": "ipython3",
   "version": "3.7.4"
  }
 },
 "nbformat": 4,
 "nbformat_minor": 4
}
