{
 "cells": [
  {
   "cell_type": "code",
   "execution_count": 1,
   "metadata": {},
   "outputs": [],
   "source": [
    "import pymongo"
   ]
  },
  {
   "cell_type": "code",
   "execution_count": 2,
   "metadata": {},
   "outputs": [],
   "source": [
    "mclient = pymongo.MongoClient('mongodb://192.168.1.21:27017/')"
   ]
  },
  {
   "cell_type": "code",
   "execution_count": 3,
   "metadata": {},
   "outputs": [],
   "source": [
    "%run ../curation_api.py"
   ]
  },
  {
   "cell_type": "code",
   "execution_count": 4,
   "metadata": {},
   "outputs": [
    {
     "data": {
      "text/plain": [
       "{'version': '4.0.9',\n",
       " 'gitVersion': 'fc525e2d9b0e4bceff5c2201457e564362909765',\n",
       " 'targetMinOS': 'Windows 7/Windows Server 2008 R2',\n",
       " 'modules': [],\n",
       " 'allocator': 'tcmalloc',\n",
       " 'javascriptEngine': 'mozjs',\n",
       " 'sysInfo': 'deprecated',\n",
       " 'versionArray': [4, 0, 9, 0],\n",
       " 'openssl': {'running': 'Windows SChannel'},\n",
       " 'buildEnvironment': {'distmod': '2008plus-ssl',\n",
       "  'distarch': 'x86_64',\n",
       "  'cc': 'cl: Microsoft (R) C/C++ Optimizing Compiler Version 19.00.24223 for x64',\n",
       "  'ccflags': '/nologo /EHsc /W3 /wd4355 /wd4800 /wd4267 /wd4244 /wd4290 /wd4068 /wd4351 /wd4373 /we4013 /we4099 /we4930 /WX /errorReport:none /MD /O2 /Oy- /bigobj /utf-8 /Zc:rvalueCast /Zc:strictStrings /volatile:iso /Gw /Gy /Zc:inline',\n",
       "  'cxx': 'cl: Microsoft (R) C/C++ Optimizing Compiler Version 19.00.24223 for x64',\n",
       "  'cxxflags': '/TP',\n",
       "  'linkflags': '/nologo /DEBUG /INCREMENTAL:NO /LARGEADDRESSAWARE /OPT:REF',\n",
       "  'target_arch': 'x86_64',\n",
       "  'target_os': 'windows'},\n",
       " 'bits': 64,\n",
       " 'debug': False,\n",
       " 'maxBsonObjectSize': 16777216,\n",
       " 'storageEngines': ['devnull', 'ephemeralForTest', 'mmapv1', 'wiredTiger'],\n",
       " 'ok': 1.0}"
      ]
     },
     "execution_count": 4,
     "metadata": {},
     "output_type": "execute_result"
    }
   ],
   "source": [
    "curation_api = CurationApi(mclient, 'test')\n",
    "curation_api.server_info()"
   ]
  },
  {
   "cell_type": "code",
   "execution_count": 5,
   "metadata": {},
   "outputs": [],
   "source": [
    "curation_api.add_function_to_template_rxn(343445, 'rxn00001', 'test_user', 'test_template', 'very_good')"
   ]
  },
  {
   "cell_type": "code",
   "execution_count": 6,
   "metadata": {},
   "outputs": [
    {
     "name": "stdout",
     "output_type": "stream",
     "text": [
      "{'_id': 'rxn00001@test_template', 'functions': {'343445': 'very_good'}, 'log': [{'timestamp': 1575602993, 'user_id': 'test_user', 'action': 'very_good', 'target': 343445}, {'timestamp': 1575617960, 'user_id': 'test_user', 'action': 'very_good', 'target': 343445}]}\n"
     ]
    }
   ],
   "source": [
    "for o in curation_api.collection_templates_reactions.find():\n",
    "    print(o)"
   ]
  },
  {
   "cell_type": "code",
   "execution_count": 7,
   "metadata": {},
   "outputs": [
    {
     "data": {
      "text/plain": [
       "{'_id': 'rxn00001@test_template',\n",
       " 'functions': {'343445': 'very_good'},\n",
       " 'log': [{'timestamp': 1575602993,\n",
       "   'user_id': 'test_user',\n",
       "   'action': 'very_good',\n",
       "   'target': 343445},\n",
       "  {'timestamp': 1575617960,\n",
       "   'user_id': 'test_user',\n",
       "   'action': 'very_good',\n",
       "   'target': 343445}]}"
      ]
     },
     "execution_count": 7,
     "metadata": {},
     "output_type": "execute_result"
    }
   ],
   "source": [
    "o"
   ]
  },
  {
   "cell_type": "code",
   "execution_count": 8,
   "metadata": {},
   "outputs": [],
   "source": [
    "mock = {\n",
    "    '_id': 'rxn00001@test_template',\n",
    "    'functions': {\n",
    "        '343445': 'very_good'\n",
    "    },\n",
    "    'log': [\n",
    "        {\n",
    "            'timestamp': 1575587329,\n",
    "            'user_id': 'test_user',\n",
    "            'action': 'very_good',\n",
    "            'target': 343445\n",
    "        }\n",
    "    ]\n",
    "}"
   ]
  },
  {
   "cell_type": "code",
   "execution_count": 7,
   "metadata": {},
   "outputs": [],
   "source": [
    "curation_api.set_annotation_to_gene('GCF_000146045.2', 'YAL038W', 'rxn00148', 'sbml', 'fungi', 'opt_score2')\n",
    "curation_api.set_annotation_to_gene('GCF_000146045.2', 'YAL038W', 'rxn00148', 'sbml', 'fungi', 'opt_score1', 'yep')"
   ]
  },
  {
   "cell_type": "code",
   "execution_count": 13,
   "metadata": {},
   "outputs": [],
   "source": [
    "for o in curation_api.collection_reaction_gene_annotation.find():\n",
    "    pass"
   ]
  },
  {
   "cell_type": "code",
   "execution_count": 11,
   "metadata": {},
   "outputs": [],
   "source": [
    "curation_api.set_reference_to_model_compound('seed.compound', 'cpd00001', 'M_h2o_c@iMM904', 'fliu', 'fungi', 'gold')\n",
    "curation_api.set_reference_to_model_reaction('seed.reaction', 'rxn00148', 'R_PYK@iMM904', 'fliu', 'fungi', 'gold')"
   ]
  },
  {
   "cell_type": "code",
   "execution_count": 6,
   "metadata": {},
   "outputs": [],
   "source": [
    "curation_api.get_reaction_gene_annotation('rxn00148', 'fungi')"
   ]
  },
  {
   "cell_type": "code",
   "execution_count": 44,
   "metadata": {},
   "outputs": [
    {
     "data": {
      "text/plain": [
       "{'_id': 'M_h2o_c@iMM904@fungi',\n",
       " 'mapping': {'cpd00001@seed.compound': 'gold'},\n",
       " 'log': [{'timestamp': 1575617885,\n",
       "   'user_id': 'fliu',\n",
       "   'action': 'gold',\n",
       "   'comment': '',\n",
       "   'target': 'cpd00001@seed#compound'},\n",
       "  {'timestamp': 1575617990,\n",
       "   'user_id': 'fliu',\n",
       "   'action': 'gold',\n",
       "   'comment': '',\n",
       "   'target': 'cpd00001@seed#compound'}]}"
      ]
     },
     "execution_count": 44,
     "metadata": {},
     "output_type": "execute_result"
    }
   ],
   "source": [
    "curation_api.get_model_compound_mapping('M_h2o_c@iMM904', 'fungi')"
   ]
  },
  {
   "cell_type": "code",
   "execution_count": 43,
   "metadata": {},
   "outputs": [
    {
     "data": {
      "text/plain": [
       "{'_id': 'R_PYK@iMM904@fungi',\n",
       " 'mapping': {'rxn00148@seed.reaction': 'gold'},\n",
       " 'log': [{'timestamp': 1575617885,\n",
       "   'user_id': 'fliu',\n",
       "   'action': 'gold',\n",
       "   'comment': '',\n",
       "   'target': 'rxn00148@seed#reaction'},\n",
       "  {'timestamp': 1575617990,\n",
       "   'user_id': 'fliu',\n",
       "   'action': 'gold',\n",
       "   'comment': '',\n",
       "   'target': 'rxn00148@seed#reaction'}]}"
      ]
     },
     "execution_count": 43,
     "metadata": {},
     "output_type": "execute_result"
    }
   ],
   "source": [
    "curation_api.get_model_reaction_mapping('R_PYK@iMM904', 'fungi')"
   ]
  },
  {
   "cell_type": "code",
   "execution_count": null,
   "metadata": {},
   "outputs": [],
   "source": []
  }
 ],
 "metadata": {
  "kernelspec": {
   "display_name": "Python 3",
   "language": "python",
   "name": "python3"
  },
  "language_info": {
   "codemirror_mode": {
    "name": "ipython",
    "version": 3
   },
   "file_extension": ".py",
   "mimetype": "text/x-python",
   "name": "python",
   "nbconvert_exporter": "python",
   "pygments_lexer": "ipython3",
   "version": "3.6.5"
  }
 },
 "nbformat": 4,
 "nbformat_minor": 2
}
