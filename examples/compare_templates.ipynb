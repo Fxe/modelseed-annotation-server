{
 "cells": [
  {
   "cell_type": "code",
   "execution_count": 30,
   "metadata": {},
   "outputs": [],
   "source": [
    "import cobrakbase\n",
    "import cobra\n",
    "import copy\n",
    "import json"
   ]
  },
  {
   "cell_type": "code",
   "execution_count": 10,
   "metadata": {},
   "outputs": [],
   "source": [
    "token = \"DGXHUU34PUCT2V5JGUYA23P6TMQJM3FK\"\n",
    "kbase = cobrakbase.KBaseAPI(token)"
   ]
  },
  {
   "cell_type": "code",
   "execution_count": 18,
   "metadata": {},
   "outputs": [],
   "source": [
    "model_json = None\n",
    "with open('/Users/fliu/workspace/jupyter/data/sbml/awful_models/6.json', 'r') as fh:\n",
    "    model_json = json.loads(fh.read())"
   ]
  },
  {
   "cell_type": "code",
   "execution_count": 19,
   "metadata": {},
   "outputs": [
    {
     "data": {
      "text/plain": [
       "dict_keys(['__VERSION__', 'biomasses', 'delete_biomasses', 'deleted_reactions', 'gapfilledcandidates', 'gapfillings', 'gapgens', 'genome_ref', 'id', 'model_edits', 'modelcompartments', 'modelcompounds', 'modelreactions', 'name', 'quantopts', 'source', 'source_id', 'template_ref', 'template_refs', 'type'])"
      ]
     },
     "execution_count": 19,
     "metadata": {},
     "output_type": "execute_result"
    }
   ],
   "source": [
    "model_json.keys()"
   ]
  },
  {
   "cell_type": "code",
   "execution_count": 41,
   "metadata": {},
   "outputs": [],
   "source": [
    "fva = cobra.flux_analysis.flux_variability_analysis(model, fraction_of_optimum=0.5, )"
   ]
  },
  {
   "cell_type": "code",
   "execution_count": 21,
   "metadata": {},
   "outputs": [
    {
     "data": {
      "text/html": [
       "\n",
       "        <table>\n",
       "            <tr>\n",
       "                <td><strong>Name</strong></td>\n",
       "                <td>FBA_test_model</td>\n",
       "            </tr><tr>\n",
       "                <td><strong>Memory address</strong></td>\n",
       "                <td>0x07ffe545dd890</td>\n",
       "            </tr><tr>\n",
       "                <td><strong>Number of metabolites</strong></td>\n",
       "                <td>1287</td>\n",
       "            </tr><tr>\n",
       "                <td><strong>Number of reactions</strong></td>\n",
       "                <td>1563</td>\n",
       "            </tr><tr>\n",
       "                <td><strong>Number of groups</strong></td>\n",
       "                <td>0</td>\n",
       "            </tr><tr>\n",
       "                <td><strong>Objective expression</strong></td>\n",
       "                <td>1.0*bio1_biomass - 1.0*bio1_biomass_reverse_6e711</td>\n",
       "            </tr><tr>\n",
       "                <td><strong>Compartments</strong></td>\n",
       "                <td>c0, e0</td>\n",
       "            </tr>\n",
       "          </table>"
      ],
      "text/plain": [
       "<Model FBA_test_model at 0x7ffe545dd890>"
      ]
     },
     "execution_count": 21,
     "metadata": {},
     "output_type": "execute_result"
    }
   ],
   "source": [
    "media = kbase.get_object('Carbon-D-Glucose', 'filipeliu:narrative_1582914694010')\n",
    "model = cobrakbase.core.converters.KBaseFBAModelToCobraBuilder(cobrakbase.core.KBaseFBAModel(model_json)).with_media(cobrakbase.core.KBaseBiochemMedia(media)).build()\n",
    "model"
   ]
  },
  {
   "cell_type": "code",
   "execution_count": 42,
   "metadata": {},
   "outputs": [],
   "source": [
    "fva_min_max = {}\n",
    "for row_id, d in fva.iterrows():\n",
    "    fva_min_max[row_id] = (d['minimum'], d['maximum'])"
   ]
  },
  {
   "cell_type": "code",
   "execution_count": 45,
   "metadata": {},
   "outputs": [
    {
     "name": "stdout",
     "output_type": "stream",
     "text": [
      "rxn02201_c0\t0\t1000\t0.6978327749368387\t0.0\t1000.0\n"
     ]
    }
   ],
   "source": [
    "for r in model.reactions:\n",
    "    lb = r.lower_bound\n",
    "    ub = r.upper_bound\n",
    "    r.lower_bound = 0 \n",
    "    r.upper_bound = 0\n",
    "    solution = model.optimize()\n",
    "    r.lower_bound = lb \n",
    "    r.upper_bound = ub\n",
    "    print(\"{}\\t{}\\t{}\\t{}\\t{}\\t{}\".format(r.id, r.lower_bound , r.upper_bound, solution.objective_value, fva_min_max[r.id][0], fva_min_max[r.id][1]))\n",
    "    break"
   ]
  },
  {
   "cell_type": "code",
   "execution_count": 100,
   "metadata": {},
   "outputs": [
    {
     "name": "stdout",
     "output_type": "stream",
     "text": [
      "A_Ap: A --> Ap\n",
      "Ap_App: Ap <=> App\n",
      "App_Appp: App --> Appp\n",
      "AB_AppB: AB --> App + B\n",
      "AppB_AB: Ap + B --> ApB\n",
      "!\n",
      "A_Ap: A --> Ap 5.0\n",
      "Ap_App: Ap <=> App 5.0\n",
      "App_Appp: App --> Appp 5.0\n",
      "AB_AppB: AB --> App + B 0.0\n",
      "AppB_AB: Ap + B --> ApB 0.0\n",
      "ApB_Appp: ApB --> Appp + Bp 0.0\n",
      "OUT_Bp: Bp -->  -0.0\n",
      "IN_AB: AB <--  0.0\n",
      "IN_A: A <--  -5.0\n",
      "OUT_Appp: Appp -->  5.0\n"
     ]
    }
   ],
   "source": [
    "from cobra.core import Reaction, Metabolite, Model\n",
    "a = Metabolite('A', \"A\", 'A')\n",
    "ap = Metabolite('Ap', \"A'\", 'A')\n",
    "app = Metabolite('App', \"A''\", 'A')\n",
    "appp = Metabolite('Appp', \"A'''\", 'A')\n",
    "b = Metabolite('B', \"B\", 'B')\n",
    "bp = Metabolite('Bp', \"B'\", 'B')\n",
    "ab = Metabolite('AB', \"AB\", 'AB')\n",
    "apb = Metabolite('ApB', \"A'B\", 'AB')\n",
    "a_ap = Reaction('A_Ap', \"A -> A'\", \"\", 0, 10)\n",
    "a_ap.add_metabolites({a : -1, ap : 1})\n",
    "print(a_ap)\n",
    "ap_app = Reaction('Ap_App', \"A' <-> A''\", \"\", -10, 10)\n",
    "ap_app.add_metabolites({ap : -1, app : 1})\n",
    "print(ap_app)\n",
    "app_appp = Reaction('App_Appp', \"A'' -> A'''\", \"\", 0, 10)\n",
    "app_appp.add_metabolites({app : -1, appp : 1})\n",
    "print(app_appp)\n",
    "ab_app = Reaction('AB_AppB', \"AB -> A'' + B\", \"\", 0, 10)\n",
    "ab_app.add_metabolites({ab : -1, b : 1, app : 1})\n",
    "print(ab_app)\n",
    "app_ab = Reaction('AppB_AB', \"A' + B -> A'B\", \"\", 0, 10)\n",
    "app_ab.add_metabolites({b : -1, ap : -1, apb : 1})\n",
    "print(app_ab)\n",
    "apb_appp = Reaction('ApB_Appp', \"A'B -> A'' + B'\", \"\", 0, 10)\n",
    "apb_appp.add_metabolites({apb : -1, appp : 1, bp : 1})\n",
    "\n",
    "IN_A = Reaction('IN_A', \"-> A\", \"\", -5, 0)\n",
    "IN_A.add_metabolites({a : -1})\n",
    "IN_AB = Reaction('IN_AB', \"-> AB\", \"\", -5, 0)\n",
    "IN_AB.add_metabolites({ab : -1})\n",
    "OUT_Appp = Reaction('OUT_Appp', \"-> A'''\", \"\", 0, 5)\n",
    "OUT_Appp.add_metabolites({appp : -1})\n",
    "OUT_Bp = Reaction('OUT_Bp', \"-> A'''\", \"\", 0, 5)\n",
    "OUT_Bp.add_metabolites({bp : -1})\n",
    "\n",
    "print('!')\n",
    "model = Model()\n",
    "model.add_reactions([a_ap, ap_app, app_appp, ab_app, app_ab, apb_appp, OUT_Bp, IN_AB, IN_A, OUT_Appp])\n",
    "model.objective = 'OUT_Appp'\n",
    "solution = model.optimize()\n",
    "fva = cobra.flux_analysis.flux_variability_analysis(model, fraction_of_optimum=1)\n",
    "for r in model.reactions:\n",
    "    print(r, solution.fluxes[r.id])"
   ]
  },
  {
   "cell_type": "code",
   "execution_count": null,
   "metadata": {},
   "outputs": [],
   "source": []
  },
  {
   "cell_type": "code",
   "execution_count": 101,
   "metadata": {},
   "outputs": [
    {
     "data": {
      "text/html": [
       "<div>\n",
       "<style scoped>\n",
       "    .dataframe tbody tr th:only-of-type {\n",
       "        vertical-align: middle;\n",
       "    }\n",
       "\n",
       "    .dataframe tbody tr th {\n",
       "        vertical-align: top;\n",
       "    }\n",
       "\n",
       "    .dataframe thead th {\n",
       "        text-align: right;\n",
       "    }\n",
       "</style>\n",
       "<table border=\"1\" class=\"dataframe\">\n",
       "  <thead>\n",
       "    <tr style=\"text-align: right;\">\n",
       "      <th></th>\n",
       "      <th>minimum</th>\n",
       "      <th>maximum</th>\n",
       "    </tr>\n",
       "  </thead>\n",
       "  <tbody>\n",
       "    <tr>\n",
       "      <td>A_Ap</td>\n",
       "      <td>0.0</td>\n",
       "      <td>5.0</td>\n",
       "    </tr>\n",
       "    <tr>\n",
       "      <td>Ap_App</td>\n",
       "      <td>-5.0</td>\n",
       "      <td>5.0</td>\n",
       "    </tr>\n",
       "    <tr>\n",
       "      <td>App_Appp</td>\n",
       "      <td>0.0</td>\n",
       "      <td>5.0</td>\n",
       "    </tr>\n",
       "    <tr>\n",
       "      <td>AB_AppB</td>\n",
       "      <td>0.0</td>\n",
       "      <td>5.0</td>\n",
       "    </tr>\n",
       "    <tr>\n",
       "      <td>AppB_AB</td>\n",
       "      <td>0.0</td>\n",
       "      <td>5.0</td>\n",
       "    </tr>\n",
       "    <tr>\n",
       "      <td>ApB_Appp</td>\n",
       "      <td>0.0</td>\n",
       "      <td>5.0</td>\n",
       "    </tr>\n",
       "    <tr>\n",
       "      <td>OUT_Bp</td>\n",
       "      <td>0.0</td>\n",
       "      <td>5.0</td>\n",
       "    </tr>\n",
       "    <tr>\n",
       "      <td>IN_AB</td>\n",
       "      <td>-5.0</td>\n",
       "      <td>0.0</td>\n",
       "    </tr>\n",
       "    <tr>\n",
       "      <td>IN_A</td>\n",
       "      <td>-5.0</td>\n",
       "      <td>0.0</td>\n",
       "    </tr>\n",
       "    <tr>\n",
       "      <td>OUT_Appp</td>\n",
       "      <td>5.0</td>\n",
       "      <td>5.0</td>\n",
       "    </tr>\n",
       "  </tbody>\n",
       "</table>\n",
       "</div>"
      ],
      "text/plain": [
       "          minimum  maximum\n",
       "A_Ap          0.0      5.0\n",
       "Ap_App       -5.0      5.0\n",
       "App_Appp      0.0      5.0\n",
       "AB_AppB       0.0      5.0\n",
       "AppB_AB       0.0      5.0\n",
       "ApB_Appp      0.0      5.0\n",
       "OUT_Bp        0.0      5.0\n",
       "IN_AB        -5.0      0.0\n",
       "IN_A         -5.0      0.0\n",
       "OUT_Appp      5.0      5.0"
      ]
     },
     "execution_count": 101,
     "metadata": {},
     "output_type": "execute_result"
    }
   ],
   "source": [
    "fva"
   ]
  },
  {
   "cell_type": "code",
   "execution_count": 88,
   "metadata": {},
   "outputs": [
    {
     "data": {
      "text/html": [
       "<div>\n",
       "<style scoped>\n",
       "    .dataframe tbody tr th:only-of-type {\n",
       "        vertical-align: middle;\n",
       "    }\n",
       "\n",
       "    .dataframe tbody tr th {\n",
       "        vertical-align: top;\n",
       "    }\n",
       "\n",
       "    .dataframe thead th {\n",
       "        text-align: right;\n",
       "    }\n",
       "</style>\n",
       "<table border=\"1\" class=\"dataframe\">\n",
       "  <thead>\n",
       "    <tr style=\"text-align: right;\">\n",
       "      <th></th>\n",
       "      <th>minimum</th>\n",
       "      <th>maximum</th>\n",
       "    </tr>\n",
       "  </thead>\n",
       "  <tbody>\n",
       "    <tr>\n",
       "      <td>A_Ap</td>\n",
       "      <td>5.0</td>\n",
       "      <td>5.0</td>\n",
       "    </tr>\n",
       "    <tr>\n",
       "      <td>Ap_App</td>\n",
       "      <td>5.0</td>\n",
       "      <td>5.0</td>\n",
       "    </tr>\n",
       "    <tr>\n",
       "      <td>App_Appp</td>\n",
       "      <td>5.0</td>\n",
       "      <td>5.0</td>\n",
       "    </tr>\n",
       "    <tr>\n",
       "      <td>IN_A</td>\n",
       "      <td>-5.0</td>\n",
       "      <td>-5.0</td>\n",
       "    </tr>\n",
       "    <tr>\n",
       "      <td>OUT_Appp</td>\n",
       "      <td>5.0</td>\n",
       "      <td>5.0</td>\n",
       "    </tr>\n",
       "  </tbody>\n",
       "</table>\n",
       "</div>"
      ],
      "text/plain": [
       "          minimum  maximum\n",
       "A_Ap          5.0      5.0\n",
       "Ap_App        5.0      5.0\n",
       "App_Appp      5.0      5.0\n",
       "IN_A         -5.0     -5.0\n",
       "OUT_Appp      5.0      5.0"
      ]
     },
     "execution_count": 88,
     "metadata": {},
     "output_type": "execute_result"
    }
   ],
   "source": [
    "fva"
   ]
  },
  {
   "cell_type": "code",
   "execution_count": null,
   "metadata": {},
   "outputs": [],
   "source": [
    "model.summary"
   ]
  },
  {
   "cell_type": "code",
   "execution_count": 27,
   "metadata": {},
   "outputs": [
    {
     "data": {
      "text/plain": [
       "0.6978327749368377"
      ]
     },
     "execution_count": 27,
     "metadata": {},
     "output_type": "execute_result"
    }
   ],
   "source": []
  },
  {
   "cell_type": "code",
   "execution_count": 3,
   "metadata": {},
   "outputs": [],
   "source": [
    "# Active KBase Template\n",
    "template_v2 = kbase.get_object('GramNegModelTemplateV2', 'NewKBaseModelTemplates')\n",
    "# Updated KBase Template\n",
    "template_v2z = kbase.get_object('template_v2.z_06102020', 'filipeliu:narrative_1582914694010')\n",
    "# Updated Git version Template\n",
    "#template_v3 = kbase.get_object('GramNegative', 'chenry:narrative_1591451745118')\n",
    "# Updated Git version Template Clean\n",
    "#template_v3x = kbase.get_object('template_v3.x_06102020', 'filipeliu:narrative_1582914694010')\n",
    "# Updated Git version Template Clean\n",
    "#template_v3z = kbase.get_object('template_v3.z_06102020', 'filipeliu:narrative_1582914694010')"
   ]
  },
  {
   "cell_type": "code",
   "execution_count": 4,
   "metadata": {},
   "outputs": [],
   "source": [
    "%run ../../cobrakbase/cobrakbase/core/kbasefba/newmodeltemplate.py\n",
    "t2  = NewModelTemplate(copy.deepcopy(template_v2), 'tftr', 'tcpx')\n",
    "t2z = NewModelTemplate(copy.deepcopy(template_v2z), 'tftr', 'tcpx')\n",
    "#t3  = NewModelTemplate(copy.deepcopy(template_v3), 'tftr', 'tcpx')\n",
    "#t3x = NewModelTemplate(copy.deepcopy(template_v3x), 'tftr', 'tcpx')\n",
    "#t3z = NewModelTemplate(copy.deepcopy(template_v3z), 'tftr', 'tcpx')\n",
    "#t3z = NewModelTemplate(copy.deepcopy(template_v3z), 'tftr', 'tcpx')\n"
   ]
  },
  {
   "cell_type": "code",
   "execution_count": null,
   "metadata": {},
   "outputs": [],
   "source": [
    "o['formula'] = \"\"\n",
    "for o in template.data['compounds']:\n",
    "    if not type(o['mass']) == float:\n",
    "        o['mass'] = float(o['mass'])\n",
    "        print(o['id'], float(o['mass']))"
   ]
  },
  {
   "cell_type": "code",
   "execution_count": null,
   "metadata": {},
   "outputs": [],
   "source": [
    "for o in template.data['compounds']:\n",
    "    for k in o:\n",
    "        if type(o[k]) == type(None):\n",
    "            print(k)\n",
    "        elif type(o[k]) == float and not o[k] == o[k]:\n",
    "            print(o)\n",
    "        elif o[k] == float('nan'):\n",
    "            print(k)\n",
    "for o in template.data['reactions']:\n",
    "    for k in o:\n",
    "        if type(o[k]) == type(None):\n",
    "            print(k)\n",
    "        elif o[k] == float('nan'):\n",
    "            print(k)"
   ]
  },
  {
   "cell_type": "code",
   "execution_count": 104,
   "metadata": {},
   "outputs": [
    {
     "name": "stdout",
     "output_type": "stream",
     "text": [
      "{'complexroles': [{'optional_role': 0, 'templaterole_ref': '~/roles/id/ftr50048', 'triggering': 1}], 'confidence': 0, 'id': 'cpx50160', 'name': 'pscpx.160', 'reference': 'null', 'source': 'PlantSEED'}\n",
      "ftr50048\n"
     ]
    }
   ],
   "source": [
    "o = t2z.data['complexes'][0]\n"
   ]
  },
  {
   "cell_type": "code",
   "execution_count": 7,
   "metadata": {},
   "outputs": [
    {
     "name": "stdout",
     "output_type": "stream",
     "text": [
      "t2z\n",
      "1131\n",
      "0\n"
     ]
    }
   ],
   "source": [
    "from cobrakbase.core.kbasefba.newmodeltemplate_validator import NewModelTemplateValidator\n",
    "print('t2z')\n",
    "t2z_db = NewModelTemplateValidator(t2z)\n",
    "t2z_db.validate_compounds()\n",
    "t2z_db.validate()\n",
    "print(len(t2z_db.undec_roles))\n",
    "print(len(t2z_db.undec_compounds))"
   ]
  },
  {
   "cell_type": "code",
   "execution_count": null,
   "metadata": {},
   "outputs": [],
   "source": [
    "rxn07977_c0"
   ]
  },
  {
   "cell_type": "code",
   "execution_count": 68,
   "metadata": {},
   "outputs": [
    {
     "name": "stdout",
     "output_type": "stream",
     "text": [
      "cpx52598 ftr12940 ModelSEED Lipopolysaccharide core biosynthesis protein RfaS\n",
      "['~/complexes/id/cpx00250', '~/complexes/id/cpx52598']\n",
      "['~/complexes/id/cpx00250']\n",
      "['~/complexes/id/cpx00250']\n",
      "['~/complexes/id/cpx00250']\n"
     ]
    }
   ],
   "source": [
    "tt = [t2_db, t3_db, t3x_db, t3z_db]\n",
    "rxn_id = 'rxn07977_c'\n",
    "rxn_id = 'rxn00851_c'\n",
    "rxn_id = 'rxn09225_c'\n",
    "for tdb in tt:\n",
    "    if rxn_id in tdb.reactions:\n",
    "        trxn = tdb.template.get_reaction(rxn_id)\n",
    "        cpx_roles = trxn.get_complex_roles()\n",
    "        for cpx_id in cpx_roles:\n",
    "\n",
    "            for role_id in cpx_roles[cpx_id]:\n",
    "                role = tdb.template.get_role(role_id)\n",
    "                print(cpx_id, role_id, role['source'], role['name'])\n",
    "        print(tdb.reactions[rxn_id]['templatecomplex_refs'])"
   ]
  },
  {
   "cell_type": "code",
   "execution_count": 76,
   "metadata": {},
   "outputs": [
    {
     "data": {
      "text/plain": [
       "{'complexroles': [{'optional_role': 0,\n",
       "   'templaterole_ref': '~/roles/id/ftr12940',\n",
       "   'triggering': 1}],\n",
       " 'confidence': 1,\n",
       " 'id': 'cpx52598',\n",
       " 'name': 'Lipopolysaccharide core biosynthesis protein RfaS',\n",
       " 'reference': 'Unknown',\n",
       " 'source': 'SEED'}"
      ]
     },
     "execution_count": 76,
     "metadata": {},
     "output_type": "execute_result"
    }
   ],
   "source": [
    "t2_db.template.get_complex('cpx52598')"
   ]
  },
  {
   "cell_type": "code",
   "execution_count": null,
   "metadata": {},
   "outputs": [],
   "source": []
  },
  {
   "cell_type": "code",
   "execution_count": null,
   "metadata": {},
   "outputs": [],
   "source": []
  }
 ],
 "metadata": {
  "kernelspec": {
   "display_name": "Python 3",
   "language": "python",
   "name": "python3"
  },
  "language_info": {
   "codemirror_mode": {
    "name": "ipython",
    "version": 3
   },
   "file_extension": ".py",
   "mimetype": "text/x-python",
   "name": "python",
   "nbconvert_exporter": "python",
   "pygments_lexer": "ipython3",
   "version": "3.7.4"
  }
 },
 "nbformat": 4,
 "nbformat_minor": 4
}
