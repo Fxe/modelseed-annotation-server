{
 "cells": [
  {
   "cell_type": "code",
   "execution_count": 3,
   "metadata": {},
   "outputs": [
    {
     "name": "stdout",
     "output_type": "stream",
     "text": [
      "cobrakbase 0.2.7\n"
     ]
    }
   ],
   "source": [
    "import logging\n",
    "import os\n",
    "import pymongo\n",
    "import cobra\n",
    "import cobrakbase\n",
    "import time\n",
    "import copy\n",
    "import json\n",
    "import pandas as pd\n",
    "logger = logging.getLogger(__name__)"
   ]
  },
  {
   "cell_type": "code",
   "execution_count": 2,
   "metadata": {},
   "outputs": [
    {
     "name": "stdout",
     "output_type": "stream",
     "text": [
      "cobrakbase 0.2.5\n"
     ]
    }
   ],
   "source": [
    "%run ../../../annotation-server/annotation_api_neo4j.py\n",
    "host, port, user, pwd = (\"0.0.0.0\", 7687, \"neo4j\", \"123585\")\n",
    "def init_annotation_api(host, port, user, pwd):\n",
    "    annotation_api = AnnotationApiNeo4j(user=user, pwd=pwd, port=port, host=host)\n",
    "    annotation_api.neo4j_graph = Graph(\"http://neo4j:\" + pwd + \"@\" + host + \":7474\")\n",
    "    annotation_api.matcher = NodeMatcher(annotation_api.neo4j_graph)\n",
    "    annotation_api.r_matcher = RelationshipMatcher(annotation_api.neo4j_graph)\n",
    "    annotation_api.init_constraints()\n",
    "    return annotation_api\n",
    "\n",
    "annotation_api = init_annotation_api(host, port, user, pwd)"
   ]
  },
  {
   "cell_type": "code",
   "execution_count": 14,
   "metadata": {},
   "outputs": [],
   "source": [
    "token = \"DGXHUU34PUCT2V5JGUYA23P6TMQJM3FK\"\n",
    "kbase = cobrakbase.KBaseAPI(token)"
   ]
  },
  {
   "cell_type": "code",
   "execution_count": 5,
   "metadata": {},
   "outputs": [],
   "source": [
    "genome_ids = annotation_api.get_genome_set('ModelSEED2')"
   ]
  },
  {
   "cell_type": "code",
   "execution_count": 51,
   "metadata": {},
   "outputs": [],
   "source": [
    "for genome_id in genome_ids:\n",
    "    genome_node = annotation_api.get_genome(genome_id)\n",
    "    taxon_ref = genome_node['taxon_ref']\n",
    "    ref = kbase.get_object_info_from_ref(taxon_ref)\n",
    "    taxon = kbase.get_object(ref.id, ref.workspace_id)\n",
    "    annotation_api.update_node('RefSeqGenome', genome_id, {'taxonomy_id' : str(taxon['taxonomy_id'])})"
   ]
  },
  {
   "cell_type": "code",
   "execution_count": 9,
   "metadata": {},
   "outputs": [],
   "source": [
    "kegg_genomes = None\n",
    "with open('/Users/fliu/workspace/jupyter/python3/data/kegg_genomes.json', 'r') as fh:\n",
    "    kegg_genomes = json.loads(fh.read())"
   ]
  },
  {
   "cell_type": "code",
   "execution_count": 20,
   "metadata": {},
   "outputs": [],
   "source": [
    "tax_to_kegg_genome = {}\n",
    "for genome_id in kegg_genomes:\n",
    "    gn = kegg_genomes[genome_id]\n",
    "    t = gn['taxonomy'].split()[0]\n",
    "    if t.startswith('TAX:'):\n",
    "        tax_to_kegg_genome[gn['taxonomy'].split()[0][4:]] = genome_id\n",
    "    else:\n",
    "        print('!')"
   ]
  },
  {
   "cell_type": "code",
   "execution_count": 19,
   "metadata": {},
   "outputs": [
    {
     "ename": "NameError",
     "evalue": "name 'genome_ids' is not defined",
     "output_type": "error",
     "traceback": [
      "\u001b[0;31m---------------------------------------------------------------------------\u001b[0m",
      "\u001b[0;31mNameError\u001b[0m                                 Traceback (most recent call last)",
      "\u001b[0;32m<ipython-input-19-71e71bee86c5>\u001b[0m in \u001b[0;36m<module>\u001b[0;34m\u001b[0m\n\u001b[1;32m      1\u001b[0m \u001b[0mgcf_to_kegg\u001b[0m \u001b[0;34m=\u001b[0m \u001b[0;34m{\u001b[0m\u001b[0;34m}\u001b[0m\u001b[0;34m\u001b[0m\u001b[0;34m\u001b[0m\u001b[0m\n\u001b[1;32m      2\u001b[0m \u001b[0mkegg_to_gcf\u001b[0m \u001b[0;34m=\u001b[0m \u001b[0;34m{\u001b[0m\u001b[0;34m}\u001b[0m\u001b[0;34m\u001b[0m\u001b[0;34m\u001b[0m\u001b[0m\n\u001b[0;32m----> 3\u001b[0;31m \u001b[0;32mfor\u001b[0m \u001b[0mgenome_id\u001b[0m \u001b[0;32min\u001b[0m \u001b[0mgenome_ids\u001b[0m\u001b[0;34m:\u001b[0m\u001b[0;34m\u001b[0m\u001b[0;34m\u001b[0m\u001b[0m\n\u001b[0m\u001b[1;32m      4\u001b[0m     \u001b[0mgenome_node\u001b[0m \u001b[0;34m=\u001b[0m \u001b[0mannotation_api\u001b[0m\u001b[0;34m.\u001b[0m\u001b[0mget_genome\u001b[0m\u001b[0;34m(\u001b[0m\u001b[0mgenome_id\u001b[0m\u001b[0;34m)\u001b[0m\u001b[0;34m\u001b[0m\u001b[0;34m\u001b[0m\u001b[0m\n\u001b[1;32m      5\u001b[0m     \u001b[0;32mif\u001b[0m \u001b[0mgenome_node\u001b[0m\u001b[0;34m[\u001b[0m\u001b[0;34m'taxonomy_id'\u001b[0m\u001b[0;34m]\u001b[0m \u001b[0;32min\u001b[0m \u001b[0mtax_to_kegg_genome\u001b[0m\u001b[0;34m:\u001b[0m\u001b[0;34m\u001b[0m\u001b[0;34m\u001b[0m\u001b[0m\n",
      "\u001b[0;31mNameError\u001b[0m: name 'genome_ids' is not defined"
     ]
    }
   ],
   "source": [
    "gcf_to_kegg = {}\n",
    "kegg_to_gcf = {}\n",
    "for genome_id in genome_ids:\n",
    "    genome_node = annotation_api.get_genome(genome_id)\n",
    "    if genome_node['taxonomy_id'] in tax_to_kegg_genome:\n",
    "        kegg_gn_id = tax_to_kegg_genome[genome_node['taxonomy_id']]\n",
    "        gcf_to_kegg[genome_id] = kegg_gn_id\n",
    "        kegg_to_gcf[kegg_gn_id] = genome_id"
   ]
  },
  {
   "cell_type": "code",
   "execution_count": 108,
   "metadata": {},
   "outputs": [
    {
     "data": {
      "text/plain": [
       "<Node id=507764 labels={'RefSeqGenome'} properties={'genetic_code': 11, 'notes': '', 'release': '1', 'created_at': 1570317559501, 'scientific_name': '[Clostridium] clariflavum DSM 19732', 'taxonomy': 'cellular organisms; Bacteria; Terrabacteria group; Firmicutes; Clostridia; Clostridiales; Ruminococcaceae; Ruminiclostridium; [Clostridium] clariflavum', 'source': 'refseq', 'type': 'Representative', 'external_source_origination_date': '18-AUG-2015', 'dna_size': 4897678, 'reference_annotation': 0, 'taxonomy_id': '720554', 'original_source_file_name': 'GCF_000237085.1_ASM23708v1_genomic.gbff', 'updated_at': 1570317559501, 'num_contigs': 1, 'assembly_ref': '19217/203793/1', 'domain': 'Bacteria', 'taxon_ref': '12570/600800/1', 'id': 'GCF_000237085.1.RAST', 'source_id': 'NC_016627', 'gc_content': 0.357, 'genbank_handle_ref': 'KBH_1247671', 'key': 'GCF_000237085.1', 'md5': '836005f5afe9a7dc3b2397722e999ecc'}>"
      ]
     },
     "execution_count": 108,
     "metadata": {},
     "output_type": "execute_result"
    }
   ],
   "source": [
    "genome_node = annotation_api.get_genome(genome_id)\n",
    "genome_node"
   ]
  },
  {
   "cell_type": "code",
   "execution_count": null,
   "metadata": {},
   "outputs": [],
   "source": []
  },
  {
   "cell_type": "code",
   "execution_count": 109,
   "metadata": {},
   "outputs": [],
   "source": [
    "assembly_ref = genome_node['assembly_ref']\n",
    "ref = kbase.get_object_info_from_ref(assembly_ref)\n",
    "assembly = kbase.get_object(ref.id, ref.workspace_id)"
   ]
  },
  {
   "cell_type": "code",
   "execution_count": 4,
   "metadata": {},
   "outputs": [],
   "source": [
    "refseq_assembly = None\n",
    "with open('/Users/fliu/workspace/jupyter/python3/data/refseq_assembly.json', 'r') as fh:\n",
    "    refseq_assembly = json.loads(fh.read())"
   ]
  },
  {
   "cell_type": "code",
   "execution_count": 7,
   "metadata": {},
   "outputs": [],
   "source": [
    "for k in refseq_assembly:\n",
    "    a = refseq_assembly[k]"
   ]
  },
  {
   "cell_type": "code",
   "execution_count": 29,
   "metadata": {},
   "outputs": [
    {
     "data": {
      "text/plain": [
       "{'Bacteria': 5772, 'Archaea': 325, 'Eukaryota': 541, 'Viruses': 341}"
      ]
     },
     "execution_count": 29,
     "metadata": {},
     "output_type": "execute_result"
    }
   ],
   "source": [
    "count = {}\n",
    "assembly_ids = set()\n",
    "for gn_id in kegg_genomes:\n",
    "    gn = kegg_genomes[gn_id]    \n",
    "    lineage = gn['lineage'].split(';')[0]\n",
    "    if lineage == 'Bacteria' or lineage == 'Archaea':\n",
    "        assembly_id = get_assembly_id(gn)\n",
    "        assembly_ids.add(assembly_id)\n",
    "    if lineage not in count:\n",
    "        count[lineage] = 0\n",
    "    count[lineage] += 1\n",
    "count"
   ]
  },
  {
   "cell_type": "code",
   "execution_count": null,
   "metadata": {},
   "outputs": [],
   "source": []
  },
  {
   "cell_type": "code",
   "execution_count": 27,
   "metadata": {},
   "outputs": [
    {
     "name": "stdout",
     "output_type": "stream",
     "text": [
      "GCA_000751035.1\n"
     ]
    },
    {
     "data": {
      "text/plain": [
       "{'id': None,\n",
       " 'entry': 'T03289',\n",
       " 'name': 'sepp, 1449752',\n",
       " 'source': None,\n",
       " 'version': None,\n",
       " 'description': '',\n",
       " 'names': None,\n",
       " 'definition': 'Staphylococcus epidermidis PM221',\n",
       " 'properties': {},\n",
       " 'dataSource': 'GenBank (Assembly:GCA_000751035.1)\\n            BioProject:258266',\n",
       " 'annotation': 'yes',\n",
       " 'lineage': 'Bacteria; Firmicutes; Bacilli; Bacillales; Staphylococcaceae; Staphylococcus',\n",
       " 'taxonomy': 'TAX:1449752\\n  LINEAGE   Bacteria; Firmicutes; Bacilli; Bacillales; Staphylococcaceae; Staphylococcus'}"
      ]
     },
     "execution_count": 27,
     "metadata": {},
     "output_type": "execute_result"
    }
   ],
   "source": [
    "print(get_assembly_id(gn))\n",
    "gn"
   ]
  },
  {
   "cell_type": "code",
   "execution_count": 25,
   "metadata": {},
   "outputs": [],
   "source": [
    "def get_assembly_id(gn):\n",
    "    assembly_id = gn['dataSource'].split()[1].split(':')[1]\n",
    "    if assembly_id.endswith(')'):\n",
    "        assembly_id = assembly_id[:len(assembly_id) - 1]\n",
    "    return assembly_id"
   ]
  },
  {
   "cell_type": "code",
   "execution_count": 26,
   "metadata": {},
   "outputs": [],
   "source": [
    "for i in refseq_assembly:\n",
    "    if i.startswith('GCA'):\n",
    "        genbank_assembly = refseq_assembly[i]\n",
    "        break"
   ]
  },
  {
   "cell_type": "code",
   "execution_count": 145,
   "metadata": {},
   "outputs": [
    {
     "data": {
      "text/plain": [
       "{'genbank': 'GCA_000177535.2',\n",
       " 'refseq': 'GCF_000177535.2',\n",
       " 'similarity': 'identical'}"
      ]
     },
     "execution_count": 145,
     "metadata": {},
     "output_type": "execute_result"
    }
   ],
   "source": [
    "genbank_assembly['submitterorganization']\n",
    "genbank_assembly['synonym']['genbank']\n",
    "genbank_assembly['synonym']['refseq']\n",
    "genbank_assembly['synonym']['similarity']"
   ]
  },
  {
   "cell_type": "code",
   "execution_count": 18,
   "metadata": {},
   "outputs": [
    {
     "ename": "NameError",
     "evalue": "name 'gcf_to_kegg' is not defined",
     "output_type": "error",
     "traceback": [
      "\u001b[0;31m---------------------------------------------------------------------------\u001b[0m",
      "\u001b[0;31mNameError\u001b[0m                                 Traceback (most recent call last)",
      "\u001b[0;32m<ipython-input-18-deef6db973e9>\u001b[0m in \u001b[0;36m<module>\u001b[0;34m\u001b[0m\n\u001b[0;32m----> 1\u001b[0;31m \u001b[0;32mfor\u001b[0m \u001b[0mgcf_id\u001b[0m \u001b[0;32min\u001b[0m \u001b[0mgcf_to_kegg\u001b[0m\u001b[0;34m:\u001b[0m\u001b[0;34m\u001b[0m\u001b[0;34m\u001b[0m\u001b[0m\n\u001b[0m\u001b[1;32m      2\u001b[0m     \u001b[0mgenome_id\u001b[0m \u001b[0;34m=\u001b[0m \u001b[0mgcf_to_kegg\u001b[0m\u001b[0;34m[\u001b[0m\u001b[0mgcf_id\u001b[0m\u001b[0;34m]\u001b[0m\u001b[0;34m\u001b[0m\u001b[0;34m\u001b[0m\u001b[0m\n\u001b[1;32m      3\u001b[0m     \u001b[0;32mtry\u001b[0m\u001b[0;34m:\u001b[0m\u001b[0;34m\u001b[0m\u001b[0;34m\u001b[0m\u001b[0m\n\u001b[1;32m      4\u001b[0m         \u001b[0mgenome\u001b[0m \u001b[0;34m=\u001b[0m \u001b[0mkegg_genomes\u001b[0m\u001b[0;34m[\u001b[0m\u001b[0mgenome_id\u001b[0m\u001b[0;34m]\u001b[0m\u001b[0;34m\u001b[0m\u001b[0;34m\u001b[0m\u001b[0m\n\u001b[1;32m      5\u001b[0m         \u001b[0mgenome_token\u001b[0m \u001b[0;34m=\u001b[0m \u001b[0mgenome\u001b[0m\u001b[0;34m[\u001b[0m\u001b[0;34m'name'\u001b[0m\u001b[0;34m]\u001b[0m\u001b[0;34m.\u001b[0m\u001b[0msplit\u001b[0m\u001b[0;34m(\u001b[0m\u001b[0;34m','\u001b[0m\u001b[0;34m)\u001b[0m\u001b[0;34m[\u001b[0m\u001b[0;36m0\u001b[0m\u001b[0;34m]\u001b[0m\u001b[0;34m\u001b[0m\u001b[0;34m\u001b[0m\u001b[0m\n",
      "\u001b[0;31mNameError\u001b[0m: name 'gcf_to_kegg' is not defined"
     ]
    }
   ],
   "source": [
    "for gcf_id in gcf_to_kegg:\n",
    "    genome_id = gcf_to_kegg[gcf_id]\n",
    "    try:\n",
    "        genome = kegg_genomes[genome_id]\n",
    "        genome_token = genome['name'].split(',')[0]\n",
    "        assembly_id = genome['dataSource'].split()[1].split(':')[1]\n",
    "        if assembly_id.endswith(')'):\n",
    "\n",
    "            assembly_id = assembly_id[:len(assembly_id) - 1]\n",
    "        if assembly_id.startswith('GCA'):\n",
    "            print(assembly_id)\n",
    "            pass\n",
    "    except Exception:\n",
    "        print(genome_id)\n",
    "        break"
   ]
  },
  {
   "cell_type": "code",
   "execution_count": 125,
   "metadata": {},
   "outputs": [
    {
     "data": {
      "text/plain": [
       "'GCA_009734465.1)'"
      ]
     },
     "execution_count": 125,
     "metadata": {},
     "output_type": "execute_result"
    }
   ],
   "source": []
  },
  {
   "cell_type": "code",
   "execution_count": 149,
   "metadata": {},
   "outputs": [
    {
     "name": "stdout",
     "output_type": "stream",
     "text": [
      "GCA_000146065.1\n"
     ]
    }
   ],
   "source": [
    "def report_genomes(gcf_to_kegg):\n",
    "    data = {\n",
    "        'gcf' : [],\n",
    "        'kegg' : [],\n",
    "        'gcf_name' : [],\n",
    "        'kegg_name' : [],\n",
    "        'gcf_l' : [],\n",
    "        'kegg_l' : [],\n",
    "        'kegg_data_source' : [],\n",
    "        'submitterorganization' : [],\n",
    "        'genbank' : [],\n",
    "        'refseq' : [],\n",
    "        'genbank/refseq' : [],\n",
    "    }\n",
    "    for gcf_id in gcf_to_kegg:\n",
    "        kegg_gn_id = gcf_to_kegg[gcf_id]\n",
    "        data['gcf'].append(gcf_id)\n",
    "        data['kegg'].append(kegg_gn_id)\n",
    "        \n",
    "        genome_node = annotation_api.get_genome(gcf_id)\n",
    "        kegg_genome = kegg_genomes[kegg_gn_id]\n",
    "        kegg_data_source = kegg_genomes[kegg_gn_id]['dataSource'].split()[1]\n",
    "        kegg_lineage = kegg_genome['taxonomy'].split('\\n')[1][12:]\n",
    "        data['gcf_name'].append(genome_node['scientific_name'])\n",
    "        data['kegg_name'].append(kegg_genome['definition'])\n",
    "        data['gcf_l'].append(genome_node['taxonomy'])\n",
    "        data['kegg_l'].append(kegg_lineage)\n",
    "        data['kegg_data_source'].append(kegg_data_source)\n",
    "        \n",
    "        submitterorganization = None\n",
    "        genbank = None\n",
    "        refseq = None\n",
    "        genbank_refseq = None\n",
    "        \n",
    "        assembly_id = kegg_data_source.split(':')[1]\n",
    "        if assembly_id.endswith(')'):\n",
    "            assembly_id = assembly_id[:len(assembly_id) - 1]\n",
    "        if assembly_id in refseq_assembly:\n",
    "            assembly = refseq_assembly[assembly_id]\n",
    "            if assembly is not None:\n",
    "                submitterorganization = assembly['submitterorganization']\n",
    "                genbank = assembly['synonym']['genbank']\n",
    "                refseq = assembly['synonym']['refseq']\n",
    "                genbank_refseq = assembly['synonym']['similarity']\n",
    "            else:\n",
    "                print(assembly_id)\n",
    "        data['submitterorganization'].append(submitterorganization)\n",
    "        data['genbank'].append(genbank)\n",
    "        data['refseq'].append(refseq)\n",
    "        data['genbank/refseq'].append(genbank_refseq)\n",
    "    df = pd.DataFrame(data)\n",
    "    df = df.set_index('gcf')\n",
    "    return df\n",
    "df = report_genomes(gcf_to_kegg)\n"
   ]
  },
  {
   "cell_type": "code",
   "execution_count": null,
   "metadata": {},
   "outputs": [],
   "source": []
  },
  {
   "cell_type": "code",
   "execution_count": 151,
   "metadata": {},
   "outputs": [],
   "source": [
    "df.to_csv('/Users/fliu/workspace/jupyter/python3/data/report_annotation_genomes_with_kegg.tsv', sep='\\t')"
   ]
  },
  {
   "cell_type": "code",
   "execution_count": null,
   "metadata": {},
   "outputs": [],
   "source": [
    "def get_gene_function(gene_id, genome_id, source = 'BETA_RAST'):\n",
    "    node_gene = annotation_api.get_node('KBaseGene', gene_id + '@' + genome_id)\n",
    "    if node_gene == None:\n",
    "        logger.warning('gene not found %s %s', gene_id, genome_id)\n",
    "        return None\n",
    "    node_gene = annotation_api.matcher.get(node_gene.id)\n",
    "    gfunctions = set()\n",
    "    for rel in annotation_api.neo4j_graph.match((node_gene, ), r_type=\"has_annotation\", ):\n",
    "        if source in rel['function_source']:\n",
    "            function = Neo4jAnnotationFunction(rel.end_node)\n",
    "            gfunctions.add(function.value)\n",
    "    return gfunctions"
   ]
  },
  {
   "cell_type": "code",
   "execution_count": null,
   "metadata": {},
   "outputs": [],
   "source": []
  },
  {
   "cell_type": "code",
   "execution_count": 38,
   "metadata": {},
   "outputs": [],
   "source": [
    "#annotation_api.matcher.match\n",
    "n = annotation_api.matcher.get(genome_node.id)\n",
    "for r in annotation_api.neo4j_graph.match((n, None), r_type=None,limit=None):\n",
    "    if 'has_gene' not in r.types():\n",
    "        print(r)"
   ]
  },
  {
   "cell_type": "code",
   "execution_count": 42,
   "metadata": {},
   "outputs": [
    {
     "data": {
      "text/plain": [
       "True"
      ]
     },
     "execution_count": 42,
     "metadata": {},
     "output_type": "execute_result"
    }
   ],
   "source": []
  },
  {
   "cell_type": "code",
   "execution_count": null,
   "metadata": {},
   "outputs": [],
   "source": []
  }
 ],
 "metadata": {
  "kernelspec": {
   "display_name": "Python 3",
   "language": "python",
   "name": "python3"
  },
  "language_info": {
   "codemirror_mode": {
    "name": "ipython",
    "version": 3
   },
   "file_extension": ".py",
   "mimetype": "text/x-python",
   "name": "python",
   "nbconvert_exporter": "python",
   "pygments_lexer": "ipython3",
   "version": "3.7.4"
  }
 },
 "nbformat": 4,
 "nbformat_minor": 4
}
