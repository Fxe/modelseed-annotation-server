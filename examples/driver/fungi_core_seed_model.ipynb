{
 "cells": [
  {
   "cell_type": "code",
   "execution_count": 1,
   "metadata": {},
   "outputs": [
    {
     "name": "stdout",
     "output_type": "stream",
     "text": [
      "cobrakbase 0.2.5\n"
     ]
    }
   ],
   "source": [
    "import cobra\n",
    "import cobrakbase\n",
    "import pandas as pd"
   ]
  },
  {
   "cell_type": "code",
   "execution_count": 2,
   "metadata": {},
   "outputs": [],
   "source": [
    "df = pd.read_excel('fungi_central_metab.xlsx')"
   ]
  },
  {
   "cell_type": "code",
   "execution_count": 5,
   "metadata": {},
   "outputs": [
    {
     "name": "stdout",
     "output_type": "stream",
     "text": [
      "load: ../../../../ModelSEEDDatabase/Biochemistry/reactions.tsv\n",
      "load: ../../../../ModelSEEDDatabase/Biochemistry/compounds.tsv\n",
      "load: ../../../../ModelSEEDDatabase/Biochemistry/Structures/Unique_ModelSEED_Structures.txt\n",
      "load: ../../../../ModelSEEDDatabase/Biochemistry/Aliases/Unique_ModelSEED_Compound_Aliases.txt\n",
      "load: ../../../../ModelSEEDDatabase/Biochemistry/Aliases/Unique_ModelSEED_Reaction_Aliases.txt\n",
      "load: ../../../../ModelSEEDDatabase/Biochemistry/Aliases/Unique_ModelSEED_Reaction_ECs.txt\n"
     ]
    }
   ],
   "source": [
    "modelseed_local = cobrakbase.modelseed.from_local('../../../../ModelSEEDDatabase')"
   ]
  },
  {
   "cell_type": "code",
   "execution_count": 29,
   "metadata": {},
   "outputs": [],
   "source": [
    "%run ../../../scripts/alot_of_tools_for_flux.py"
   ]
  },
  {
   "cell_type": "code",
   "execution_count": 208,
   "metadata": {},
   "outputs": [],
   "source": [
    "df_rxn_cmp_def = pd.read_csv('fungi_core_rxns.tsv', sep='\\t')\n",
    "df_rxn_cmp_def = df_rxn_cmp_def.set_index('seed_id')\n",
    "rxn_build_template = {}\n",
    "for seed_id, d in df_rxn_cmp_def.iterrows():\n",
    "    if seed_id not in rxn_build_template:\n",
    "        rxn_build_template[seed_id] = []\n",
    "    config = {}\n",
    "    for k in d.keys():\n",
    "        config[k] = d[k]\n",
    "    rxn_build_template[seed_id].append(config)"
   ]
  },
  {
   "cell_type": "code",
   "execution_count": null,
   "metadata": {},
   "outputs": [],
   "source": []
  },
  {
   "cell_type": "code",
   "execution_count": null,
   "metadata": {},
   "outputs": [],
   "source": []
  },
  {
   "cell_type": "code",
   "execution_count": 209,
   "metadata": {},
   "outputs": [],
   "source": [
    "bad = set()\n",
    "def get_b_from_dir(d):\n",
    "    lb = -1000\n",
    "    ub = 1000\n",
    "    if d == '=':\n",
    "        pass\n",
    "    elif d == '>':\n",
    "        lb = 0\n",
    "    elif d == '<':\n",
    "        ub = 0\n",
    "    else:\n",
    "        print('???', d)\n",
    "    return lb, ub\n",
    "\n",
    "map_compounds = {}\n",
    "map_reactions = {}\n",
    "for row_id, d in df.iterrows():\n",
    "    rxn_id = d['rxn id']\n",
    "    rxn = modelseed_local.get_seed_reaction(rxn_id)\n",
    "    direction = d['directionality ']\n",
    "    cmp = d['Compartment']\n",
    "    if pd.isna(cmp):\n",
    "        cmp = 'c'\n",
    "    if pd.isna(direction):\n",
    "        direction = rxn.data['direction']\n",
    "    \n",
    "    rxn_cmp_slots = set(map(lambda x : x[1], rxn.cstoichiometry))\n",
    "    if len(rxn_cmp_slots) == 1 and len(cmp) == 1:\n",
    "        cmp_config = {list(rxn_cmp_slots)[0] : cmp}\n",
    "        #print(rxn_id, cmp_config)\n",
    "        #print(rxn)\n",
    "        crxn, cpd_cmp = modelseed_to_cobra_reaction(rxn, cmp_config, cmp)\n",
    "        crxn['lower_bound'], crxn['upper_bound'] = get_b_from_dir(direction)\n",
    "        for cpd_id in cpd_cmp:\n",
    "            if cpd_id not in map_compounds:\n",
    "                map_compounds[cpd_id] = set()\n",
    "            map_compounds[cpd_id] |= cpd_cmp[cpd_id]\n",
    "        map_reactions[crxn['id']] = crxn\n",
    "    elif rxn_id in rxn_build_template:\n",
    "        for cmp_config in rxn_build_template[rxn_id]:\n",
    "            crxn, cpd_cmp = modelseed_to_cobra_reaction(rxn, cmp_config, cmp)\n",
    "            crxn['lower_bound'], crxn['upper_bound'] = get_b_from_dir(direction)\n",
    "            for cpd_id in cpd_cmp:\n",
    "                if cpd_id not in map_compounds:\n",
    "                    map_compounds[cpd_id] = set()\n",
    "                map_compounds[cpd_id] |= cpd_cmp[cpd_id]\n",
    "            map_reactions[crxn['id']] = crxn\n",
    "    else:\n",
    "        bad.add(rxn_id)\n",
    "        #print(rxn_id, rxn_cmp_slots, cmp)\n",
    "        #print(rxn)\n",
    "        #print(rxn.build_reaction_string(True))\n",
    "        pass"
   ]
  },
  {
   "cell_type": "code",
   "execution_count": null,
   "metadata": {},
   "outputs": [],
   "source": []
  },
  {
   "cell_type": "code",
   "execution_count": 210,
   "metadata": {},
   "outputs": [
    {
     "name": "stdout",
     "output_type": "stream",
     "text": [
      "rxn02527\t(1) cpd00004[0] + (1) cpd00067[0] + (1) cpd01011[0] <=> (1) cpd00003[0] + (1) cpd03662[0]\t(1) NADH[0] + (1) H+[0] + (1) Butanal[0] <=> (1) NAD[0] + (1) n-Butanol[0]\n",
      "rxn00251\t(1) cpd00009[0] + (1) cpd00032[0] + (1) cpd00067[0] => (1) cpd00001[0] + (1) cpd00011[0] + (1) cpd00061[0]\t(1) Phosphate[0] + (1) Oxaloacetate[0] + (1) H+[0] => (1) H2O[0] + (1) CO2[0] + (1) Phosphoenolpyruvate[0]\n",
      "rxn00250\t(1) cpd00002[0] + (1) cpd00020[0] + (1) cpd00242[0] <=> (1) cpd00008[0] + (1) cpd00009[0] + (1) cpd00032[0] + (1) cpd00067[0]\t(1) ATP[0] + (1) Pyruvate[0] + (1) H2CO3[0] <=> (1) ADP[0] + (1) Phosphate[0] + (1) Oxaloacetate[0] + (1) H+[0]\n",
      "rxn00305\t(1) cpd00032[0] + (1) cpd00038[0] => (1) cpd00011[0] + (1) cpd00031[0] + (1) cpd00061[0]\t(1) Oxaloacetate[0] + (1) GTP[0] => (1) CO2[0] + (1) GDP[0] + (1) Phosphoenolpyruvate[0]\n",
      "rxn00336\t(1) cpd00260[0] <=> (1) cpd00036[0] + (1) cpd00040[0]\t(1) Isocitrate[0] <=> (1) Succinate[0] + (1) Glyoxalate[0]\n",
      "rxn00154\t(1) cpd00003[0] + (1) cpd00010[0] + (1) cpd00020[0] => (1) cpd00004[0] + (1) cpd00011[0] + (1) cpd00022[0]\t(1) NAD[0] + (1) CoA[0] + (1) Pyruvate[0] => (1) NADH[0] + (1) CO2[0] + (1) Acetyl-CoA[0]\n",
      "rxn11274\t(1) cpd00001[0] + (1) cpd00002[0] + (1) cpd00011[0] + (1) cpd00020[0] <=> (1) cpd00008[0] + (1) cpd00009[0] + (1) cpd00032[0] + (2) cpd00067[0]\t(1) H2O[0] + (1) ATP[0] + (1) CO2[0] + (1) Pyruvate[0] <=> (1) ADP[0] + (1) Phosphate[0] + (1) Oxaloacetate[0] + (2) H+[0]\n",
      "rxn00330\t(1) cpd00010[0] + (1) cpd00067[0] + (1) cpd00130[0] <= (1) cpd00001[0] + (1) cpd00022[0] + (1) cpd00040[0]\t(1) CoA[0] + (1) H+[0] + (1) L-Malate[0] <= (1) H2O[0] + (1) Acetyl-CoA[0] + (1) Glyoxalate[0]\n",
      "rxn00162\t(1) cpd00032[0] + (1) cpd00067[0] => (1) cpd00011[0] + (1) cpd00020[0]\t(1) Oxaloacetate[0] + (1) H+[0] => (1) CO2[0] + (1) Pyruvate[0]\n",
      "rxn00247\t(1) cpd00002[0] + (1) cpd00032[0] => (1) cpd00008[0] + (1) cpd00011[0] + (1) cpd00061[0]\t(1) ATP[0] + (1) Oxaloacetate[0] => (1) ADP[0] + (1) CO2[0] + (1) Phosphoenolpyruvate[0]\n"
     ]
    }
   ],
   "source": [
    "for rxn_id in bad:\n",
    "    rxn = modelseed_local.get_seed_reaction(rxn_id)\n",
    "    ss = \"{}\\t{}\\t{}\".format(rxn_id, rxn.data['equation'], rxn.data['definition'])\n",
    "    print(ss)"
   ]
  },
  {
   "cell_type": "code",
   "execution_count": 211,
   "metadata": {},
   "outputs": [],
   "source": [
    "all_compounds = []\n",
    "all_reactions = []\n",
    "for rxn_id in map_reactions:\n",
    "    all_reactions.append(map_reactions[rxn_id])\n",
    "for cpd_id in map_compounds:\n",
    "    cpd = modelseed_local.get_seed_compound(cpd_id)\n",
    "    for cmp in map_compounds[cpd_id]:\n",
    "        cobra_cpd = modelseed_to_cobra_compound(cpd, cmp)\n",
    "        cobra_cpd['name'] += \" [{}]\".format(cmp)\n",
    "        all_compounds.append(cobra_cpd)"
   ]
  },
  {
   "cell_type": "code",
   "execution_count": null,
   "metadata": {},
   "outputs": [],
   "source": []
  },
  {
   "cell_type": "code",
   "execution_count": 212,
   "metadata": {},
   "outputs": [],
   "source": [
    "base_model = {\n",
    "        'id' : 'core_fungi',\n",
    "        'version' : '1',\n",
    "        'compartments' : {'c' : 'cytosol', 'e' : 'extra'},\n",
    "        'metabolites' : all_compounds,\n",
    "        'reactions' : all_reactions,\n",
    "        'genes' : [],\n",
    "        'annotation' : {}\n",
    "}"
   ]
  },
  {
   "cell_type": "code",
   "execution_count": 213,
   "metadata": {},
   "outputs": [],
   "source": [
    "import json\n",
    "with open('/Users/fliu/workspace/jupyter/core_fungi.json', 'w') as fh:\n",
    "    fh.write(json.dumps(base_model))"
   ]
  },
  {
   "cell_type": "code",
   "execution_count": 144,
   "metadata": {},
   "outputs": [],
   "source": [
    "seed_reaction = modelseed_local.get_seed_reaction('rxn00162')"
   ]
  },
  {
   "cell_type": "code",
   "execution_count": 156,
   "metadata": {},
   "outputs": [
    {
     "name": "stdout",
     "output_type": "stream",
     "text": [
      "rxn00162 Oxaloacetate [0] + H+ [0] --> CO2 [0] + Pyruvate [0]\n"
     ]
    }
   ],
   "source": [
    "print(seed_reaction.id, seed_reaction.build_reaction_string(True))"
   ]
  },
  {
   "cell_type": "code",
   "execution_count": 153,
   "metadata": {},
   "outputs": [
    {
     "data": {
      "text/plain": [
       "{'id': 'rxn00162_c',\n",
       " 'name': 'rxn00162 [c]',\n",
       " 'metabolites': {'cpd00032_c': -1.0,\n",
       "  'cpd00067_c': -1.0,\n",
       "  'cpd00011_c': 1.0,\n",
       "  'cpd00020_c': 1.0},\n",
       " 'lower_bound': 0,\n",
       " 'upper_bound': 1000,\n",
       " 'gene_reaction_rule': '',\n",
       " 'annotation': {}}"
      ]
     },
     "execution_count": 153,
     "metadata": {},
     "output_type": "execute_result"
    }
   ],
   "source": [
    "model_rxn, x = modelseed_to_cobra_reaction(seed_reaction, {'0' : 'c'}, 'c')\n",
    "model_rxn"
   ]
  },
  {
   "cell_type": "code",
   "execution_count": 30,
   "metadata": {},
   "outputs": [
    {
     "data": {
      "text/plain": [
       "{'id': 'rxn14428_k',\n",
       " 'name': 'rxn14428 [k]',\n",
       " 'metabolites': {'cpd00001_k': -1.0,\n",
       "  'cpd00418_k': -1.0,\n",
       "  'cpd18074_k': -1.0,\n",
       "  'cpd00067_k': 1.0,\n",
       "  'cpd00075_k': 1.0,\n",
       "  'cpd18072_k': 1.0},\n",
       " 'lower_bound': -1000,\n",
       " 'upper_bound': 1000,\n",
       " 'gene_reaction_rule': '',\n",
       " 'annotation': {}}"
      ]
     },
     "execution_count": 30,
     "metadata": {},
     "output_type": "execute_result"
    }
   ],
   "source": [
    "crxn"
   ]
  },
  {
   "cell_type": "code",
   "execution_count": 21,
   "metadata": {},
   "outputs": [
    {
     "name": "stdout",
     "output_type": "stream",
     "text": [
      "rxn14428: cpd00001 [0] + cpd00418 [0] + cpd18074 [0] <=> cpd00067 [0] + cpd00075 [0] + cpd18072 [0]\n"
     ]
    }
   ],
   "source": [
    "print(rxn)"
   ]
  },
  {
   "cell_type": "code",
   "execution_count": 56,
   "metadata": {},
   "outputs": [],
   "source": [
    "import cobrakbase\n",
    "import copy"
   ]
  },
  {
   "cell_type": "code",
   "execution_count": 57,
   "metadata": {},
   "outputs": [],
   "source": [
    "token = \"DGXHUU34PUCT2V5JGUYA23P6TMQJM3FK\"\n",
    "kbase = cobrakbase.KBaseAPI(token)"
   ]
  },
  {
   "cell_type": "code",
   "execution_count": 58,
   "metadata": {},
   "outputs": [],
   "source": [
    "template_v2 = kbase.get_object('GramNegModelTemplateV2', 'NewKBaseModelTemplates')\n"
   ]
  },
  {
   "cell_type": "code",
   "execution_count": 60,
   "metadata": {},
   "outputs": [
    {
     "data": {
      "text/plain": [
       "dict_keys(['__VERSION__', 'biochemistry_ref', 'biomasses', 'compartments', 'compcompounds', 'complexes', 'compounds', 'domain', 'id', 'name', 'pathways', 'reactions', 'roles', 'subsystems', 'type'])"
      ]
     },
     "execution_count": 60,
     "metadata": {},
     "output_type": "execute_result"
    }
   ],
   "source": [
    "template_v2.keys()"
   ]
  },
  {
   "cell_type": "code",
   "execution_count": 61,
   "metadata": {},
   "outputs": [],
   "source": [
    "from cobrakbase.core.kbasefba import NewModelTemplate"
   ]
  },
  {
   "cell_type": "code",
   "execution_count": 62,
   "metadata": {},
   "outputs": [],
   "source": [
    "template = NewModelTemplate(template_v2)"
   ]
  },
  {
   "cell_type": "code",
   "execution_count": 64,
   "metadata": {},
   "outputs": [],
   "source": [
    "trxn = template.get_reaction('rxn00001_c')"
   ]
  },
  {
   "cell_type": "code",
   "execution_count": 66,
   "metadata": {},
   "outputs": [
    {
     "data": {
      "text/plain": [
       "{'GapfillDirection': '>',\n",
       " 'base_cost': 3,\n",
       " 'direction': '>',\n",
       " 'forward_penalty': 0,\n",
       " 'id': 'rxn00001_c',\n",
       " 'maxforflux': 100,\n",
       " 'maxrevflux': -100,\n",
       " 'name': 'diphosphate phosphohydrolase',\n",
       " 'reaction_ref': '489/6/6/reactions/id/rxn00001',\n",
       " 'reverse_penalty': 0.4609,\n",
       " 'templateReactionReagents': [{'coefficient': -1,\n",
       "   'templatecompcompound_ref': '~/compcompounds/id/cpd00001_c'},\n",
       "  {'coefficient': -1,\n",
       "   'templatecompcompound_ref': '~/compcompounds/id/cpd00012_c'},\n",
       "  {'coefficient': 2,\n",
       "   'templatecompcompound_ref': '~/compcompounds/id/cpd00009_c'},\n",
       "  {'coefficient': 1,\n",
       "   'templatecompcompound_ref': '~/compcompounds/id/cpd00067_c'}],\n",
       " 'templatecompartment_ref': '~/compartments/id/c',\n",
       " 'templatecomplex_refs': ['~/complexes/id/cpx01833',\n",
       "  '~/complexes/id/cpx01834',\n",
       "  '~/complexes/id/cpx01835',\n",
       "  '~/complexes/id/cpx34574',\n",
       "  '~/complexes/id/cpx52693'],\n",
       " 'type': 'conditional'}"
      ]
     },
     "execution_count": 66,
     "metadata": {},
     "output_type": "execute_result"
    }
   ],
   "source": [
    "trxn.data"
   ]
  },
  {
   "cell_type": "code",
   "execution_count": 84,
   "metadata": {},
   "outputs": [],
   "source": [
    "def metabolites(trxn, template):\n",
    "    metabolites = {}\n",
    "    for o in trxn.data['templateReactionReagents']:\n",
    "        templatecompcompound_ref = o['templatecompcompound_ref']\n",
    "        compcompound_id = templatecompcompound_ref.split('/')[-1]\n",
    "        compcompound = list(filter(lambda x : x['id'] == compcompound_id, template.data['compcompounds']))[0]\n",
    "        metabolites[compcompound_id] = o['coefficient']\n",
    "    return metabolites\n",
    "metab = metabolites(trxn, template)"
   ]
  },
  {
   "cell_type": "code",
   "execution_count": 77,
   "metadata": {},
   "outputs": [],
   "source": [
    "rxn = modelseed_local.get_seed_reaction('rxn00001')"
   ]
  },
  {
   "cell_type": "code",
   "execution_count": 94,
   "metadata": {},
   "outputs": [
    {
     "name": "stdout",
     "output_type": "stream",
     "text": [
      "{('cpd00001', '0'): -1.0, ('cpd00012', '0'): -1.0, ('cpd00009', '0'): 2.0, ('cpd00067', '0'): 1.0}\n",
      "{('cpd00001', 'c'): -1, ('cpd00012', 'c'): -1, ('cpd00009', 'c'): 2, ('cpd00067', 'c'): 1}\n"
     ]
    }
   ],
   "source": [
    "def extract_comp_config(rxn, trxn):\n",
    "    comp_config = {}\n",
    "    metab = metabolites(trxn, template)\n",
    "    metab_c = dict(map(lambda x : ((x[0].split('_')[0], x[0].split('_')[1]), x[1]), metab.items()))\n",
    "    print(rxn.cstoichiometry)\n",
    "    print(metab_c)\n",
    "    return metab_c, rxn.cstoichiometry\n",
    "a, b = extract_comp_config(rxn, trxn)"
   ]
  },
  {
   "cell_type": "code",
   "execution_count": 118,
   "metadata": {},
   "outputs": [
    {
     "name": "stdout",
     "output_type": "stream",
     "text": [
      "('c', '0')\n"
     ]
    },
    {
     "data": {
      "text/plain": [
       "True"
      ]
     },
     "execution_count": 118,
     "metadata": {},
     "output_type": "execute_result"
    }
   ],
   "source": [
    "def aaaa(a, b):\n",
    "    a_c = get_compart(a)\n",
    "    b_c = get_compart(b)\n",
    "    if not len(a_c) == len(b_c):\n",
    "        return None\n",
    "    \n",
    "    tt = list(itertools.product(get_compart(a), get_compart(b)))\n",
    "    for t in tt:\n",
    "        print(t)\n",
    "    return True\n",
    "aaaa(a, b)"
   ]
  },
  {
   "cell_type": "code",
   "execution_count": 95,
   "metadata": {},
   "outputs": [
    {
     "data": {
      "text/plain": [
       "{('cpd00001', 'c'): -1,\n",
       " ('cpd00012', 'c'): -1,\n",
       " ('cpd00009', 'c'): 2,\n",
       " ('cpd00067', 'c'): 1}"
      ]
     },
     "execution_count": 95,
     "metadata": {},
     "output_type": "execute_result"
    }
   ],
   "source": [
    "a"
   ]
  },
  {
   "cell_type": "code",
   "execution_count": 96,
   "metadata": {},
   "outputs": [
    {
     "data": {
      "text/plain": [
       "{('cpd00001', '0'): -1.0,\n",
       " ('cpd00012', '0'): -1.0,\n",
       " ('cpd00009', '0'): 2.0,\n",
       " ('cpd00067', '0'): 1.0}"
      ]
     },
     "execution_count": 96,
     "metadata": {},
     "output_type": "execute_result"
    }
   ],
   "source": [
    "b"
   ]
  },
  {
   "cell_type": "code",
   "execution_count": 106,
   "metadata": {},
   "outputs": [
    {
     "data": {
      "text/plain": [
       "[('c', '0')]"
      ]
     },
     "execution_count": 106,
     "metadata": {},
     "output_type": "execute_result"
    }
   ],
   "source": []
  },
  {
   "cell_type": "code",
   "execution_count": 97,
   "metadata": {},
   "outputs": [
    {
     "name": "stdout",
     "output_type": "stream",
     "text": [
      "('cpd00001', 'c')\n",
      "('cpd00012', 'c')\n",
      "('cpd00009', 'c')\n",
      "('cpd00067', 'c')\n"
     ]
    }
   ],
   "source": [
    "for p in a:\n",
    "    print(p)"
   ]
  },
  {
   "cell_type": "code",
   "execution_count": 98,
   "metadata": {},
   "outputs": [],
   "source": [
    "def get_compart(o):\n",
    "    return set(map(lambda x : x[1], o))"
   ]
  },
  {
   "cell_type": "code",
   "execution_count": 100,
   "metadata": {},
   "outputs": [
    {
     "data": {
      "text/plain": [
       "{'0'}"
      ]
     },
     "execution_count": 100,
     "metadata": {},
     "output_type": "execute_result"
    }
   ],
   "source": []
  },
  {
   "cell_type": "code",
   "execution_count": 101,
   "metadata": {},
   "outputs": [],
   "source": [
    "import itertools"
   ]
  },
  {
   "cell_type": "code",
   "execution_count": 133,
   "metadata": {},
   "outputs": [
    {
     "data": {
      "text/plain": [
       "[(0, 1), (0, 2), (1, 2)]"
      ]
     },
     "execution_count": 133,
     "metadata": {},
     "output_type": "execute_result"
    }
   ],
   "source": [
    "list(itertools.combinations([0, 1, 2], 2))"
   ]
  },
  {
   "cell_type": "code",
   "execution_count": 127,
   "metadata": {},
   "outputs": [
    {
     "name": "stdout",
     "output_type": "stream",
     "text": [
      "a 0\n",
      "a 2\n",
      "b 0\n",
      "b 2\n"
     ]
    }
   ],
   "source": [
    "l1 = ['a', 'b']\n",
    "l2 = [0, 2]\n",
    "for p1 in l1:\n",
    "    for p2 in l2:\n",
    "        print(p1, p2)"
   ]
  },
  {
   "cell_type": "code",
   "execution_count": 143,
   "metadata": {},
   "outputs": [
    {
     "data": {
      "text/plain": [
       "[('0', 'a'), ('0', 'b'), ('1', 'a'), ('1', 'b')]"
      ]
     },
     "execution_count": 143,
     "metadata": {},
     "output_type": "execute_result"
    }
   ],
   "source": [
    "list(itertools.product(*[['0', '1'], ['a', 'b']]))"
   ]
  },
  {
   "cell_type": "code",
   "execution_count": null,
   "metadata": {},
   "outputs": [],
   "source": [
    "('0', 'a')('1', 'b')  ('0', 'b')('1', 'a')"
   ]
  },
  {
   "cell_type": "code",
   "execution_count": null,
   "metadata": {},
   "outputs": [],
   "source": []
  }
 ],
 "metadata": {
  "kernelspec": {
   "display_name": "Python 3",
   "language": "python",
   "name": "python3"
  },
  "language_info": {
   "codemirror_mode": {
    "name": "ipython",
    "version": 3
   },
   "file_extension": ".py",
   "mimetype": "text/x-python",
   "name": "python",
   "nbconvert_exporter": "python",
   "pygments_lexer": "ipython3",
   "version": "3.7.4"
  }
 },
 "nbformat": 4,
 "nbformat_minor": 4
}
