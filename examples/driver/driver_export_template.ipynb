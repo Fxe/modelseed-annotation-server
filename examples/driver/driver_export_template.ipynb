{
 "cells": [
  {
   "cell_type": "code",
   "execution_count": 7,
   "metadata": {},
   "outputs": [],
   "source": [
    "import logging\n",
    "import pymongo\n",
    "import cobrakbase\n",
    "logger = logging.getLogger(__name__)"
   ]
  },
  {
   "cell_type": "code",
   "execution_count": 2,
   "metadata": {},
   "outputs": [],
   "source": [
    "kbase = cobrakbase.KBaseAPI()"
   ]
  },
  {
   "cell_type": "code",
   "execution_count": 3,
   "metadata": {},
   "outputs": [],
   "source": [
    "modelseed_local = cobrakbase.modelseed.from_local('../../../../ModelSEEDDatabase')"
   ]
  },
  {
   "cell_type": "code",
   "execution_count": 5,
   "metadata": {},
   "outputs": [],
   "source": [
    "%run ../../../annotation-server/annotation_api_neo4j.py\n",
    "host, port, user, pwd = (\"0.0.0.0\", 7687, \"neo4j\", \"123585\")\n",
    "def init_annotation_api(host, port, user, pwd):\n",
    "    annotation_api = AnnotationApiNeo4j(user=user, pwd=pwd, port=port, host=host)\n",
    "    annotation_api.neo4j_graph = Graph(\"http://neo4j:\" + pwd + \"@\" + host + \":7474\")\n",
    "    annotation_api.matcher = NodeMatcher(annotation_api.neo4j_graph)\n",
    "    annotation_api.r_matcher = RelationshipMatcher(annotation_api.neo4j_graph)\n",
    "    annotation_api.init_constraints()\n",
    "    return annotation_api\n",
    "\n",
    "annotation_api = init_annotation_api(host, port, user, pwd)"
   ]
  },
  {
   "cell_type": "code",
   "execution_count": 8,
   "metadata": {},
   "outputs": [],
   "source": [
    "aclient = pymongo.MongoClient('mongodb://192.168.1.15:27017/')\n",
    "database = aclient['annotation']"
   ]
  },
  {
   "cell_type": "code",
   "execution_count": 144,
   "metadata": {},
   "outputs": [],
   "source": [
    "template_o = kbase.get_from_ws('GramNegModelTemplateV2', 'NewKBaseModelTemplates')"
   ]
  },
  {
   "cell_type": "code",
   "execution_count": 143,
   "metadata": {},
   "outputs": [],
   "source": [
    "%run ../../export_template_to_kbase.py"
   ]
  },
  {
   "cell_type": "code",
   "execution_count": 145,
   "metadata": {},
   "outputs": [
    {
     "name": "stderr",
     "output_type": "stream",
     "text": [
      "WARNING:cobrakbase.core.kbasefba.template_manipulator:unable to select role ['ftr02994', 'ftr10980', 'ftr50057']\n",
      "WARNING:cobrakbase.core.kbasefba.template_manipulator:unable to select role ['ftr02520', 'ftr11210']\n",
      "WARNING:cobrakbase.core.kbasefba.template_manipulator:unable to select role ['ftr08516', 'ftr08517']\n"
     ]
    },
    {
     "name": "stdout",
     "output_type": "stream",
     "text": [
      "2119\n",
      "updated 1042\n",
      "removed 1219\n",
      "undeclared compounds 0\n",
      "undeclared roles 0\n",
      "undeclared complexes 0\n",
      "dict_keys(['fungi', 'template_v3', 'test'])\n",
      "6373\n"
     ]
    },
    {
     "name": "stderr",
     "output_type": "stream",
     "text": [
      "WARNING:cobrakbase.core.kbasefba.template_curation:unable to find complex for ['tftr00004']\n",
      "WARNING:cobrakbase.core.kbasefba.template_curation:build complex for {'Manganese-dependent inorganic pyrophosphatase (EC 3.6.1.1)'}\n",
      "WARNING:cobrakbase.core.kbasefba.template_curation:unable to find complex for ['tftr00001']\n",
      "WARNING:cobrakbase.core.kbasefba.template_curation:build complex for {'exopolyphosphatase (EC 3.6.1.11)'}\n",
      "WARNING:cobrakbase.core.kbasefba.template_curation:unable to find complex for ['tftr00002']\n",
      "WARNING:cobrakbase.core.kbasefba.template_curation:build complex for {'Inorganic pyrophospatase PpaX'}\n",
      "WARNING:cobrakbase.core.kbasefba.template_curation:unable to find complex for ['tftr00003']\n",
      "WARNING:cobrakbase.core.kbasefba.template_curation:build complex for {'Inorganic pyrophosphatase (EC 3.6.1.1)'}\n"
     ]
    },
    {
     "name": "stdout",
     "output_type": "stream",
     "text": [
      "0\n"
     ]
    }
   ],
   "source": [
    "output = export_template(template_o, modelseed_local, annotation_api, database, \n",
    "                         'fungi', clear_roles=True, clear_reactions=True, reaction_list=['rxn00001_c'])"
   ]
  },
  {
   "cell_type": "code",
   "execution_count": 146,
   "metadata": {},
   "outputs": [],
   "source": [
    "result = kbase.save_object('template_reaction_list', 'filipeliu:narrative_1582914694010', 'KBaseFBA.NewModelTemplate', output.get_data())"
   ]
  },
  {
   "cell_type": "code",
   "execution_count": 114,
   "metadata": {},
   "outputs": [],
   "source": [
    "template_o = kbase.get_from_ws('GramNegModelTemplateV2', 'NewKBaseModelTemplates')"
   ]
  },
  {
   "cell_type": "code",
   "execution_count": 115,
   "metadata": {},
   "outputs": [],
   "source": [
    "clear_reactions = True\n",
    "reaction_list = ['rxn00001_c']\n",
    "clear_roles = True\n",
    "clear_complexes = False\n",
    "mongo_database = database\n",
    "modelseed = modelseed_local\n",
    "annotation_namespace = 'fungi'"
   ]
  },
  {
   "cell_type": "code",
   "execution_count": 116,
   "metadata": {},
   "outputs": [],
   "source": [
    "data_copy = copy.deepcopy(template_o.get_data())\n",
    "template = NewModelTemplate(data_copy, template_o.info, None, 'tftr', 'tcpx')"
   ]
  },
  {
   "cell_type": "code",
   "execution_count": 117,
   "metadata": {},
   "outputs": [
    {
     "name": "stderr",
     "output_type": "stream",
     "text": [
      "WARNING:cobrakbase.core.kbasefba.template_manipulator:unable to select role ['ftr02994', 'ftr10980', 'ftr50057']\n",
      "WARNING:cobrakbase.core.kbasefba.template_manipulator:unable to select role ['ftr02520', 'ftr11210']\n",
      "WARNING:cobrakbase.core.kbasefba.template_manipulator:unable to select role ['ftr08516', 'ftr08517']\n"
     ]
    },
    {
     "name": "stdout",
     "output_type": "stream",
     "text": [
      "2119\n",
      "updated 1042\n",
      "removed 1219\n",
      "undeclared compounds 0\n",
      "undeclared roles 0\n",
      "undeclared complexes 0\n"
     ]
    }
   ],
   "source": [
    "tm = TemplateManipulator(template, None)\n",
    "template_reactions_filter = tm.clean_template('ModelSEED')\n",
    "print(len(template_reactions_filter))\n",
    "updated, removed = tm.clear_orphan_roles()\n",
    "print('updated', len(updated))\n",
    "print('removed', len(removed))\n",
    "\n",
    "validator = NewModelTemplateValidator(template)\n",
    "validator.validate_compounds()\n",
    "validator.validate()\n",
    "print('undeclared compounds', len(validator.undec_compounds))\n",
    "print('undeclared roles', len(validator.undec_roles))\n",
    "print('undeclared complexes', len(validator.undec_complexes))\n",
    "\n",
    "if clear_reactions or reaction_list is not None:\n",
    "    template.reactions.clear()\n",
    "    template.reactions._dict.clear()\n",
    "if clear_roles:\n",
    "    template.complexes.clear()\n",
    "    template.complexes._dict.clear()\n",
    "    template.roles.clear()\n",
    "    template.roles._dict.clear()\n",
    "    template.role_set_to_cpx.clear()\n",
    "    template.search_name_to_role_id.clear()\n",
    "    template.role_last_id = 0\n",
    "    template.complex_last_id = 0\n",
    "if clear_complexes:\n",
    "    template.complexes.clear()\n",
    "    template.complexes._dict.clear()\n",
    "    template.role_set_to_cpx.clear()\n",
    "    template.complex_last_id = 0\n",
    "# if roles or complexes were removed clear from reactions\n",
    "if clear_roles or clear_complexes:\n",
    "    for trxn in template_o.reactions:\n",
    "        trxn.templatecomplex_refs.clear()"
   ]
  },
  {
   "cell_type": "code",
   "execution_count": 118,
   "metadata": {},
   "outputs": [
    {
     "name": "stdout",
     "output_type": "stream",
     "text": [
      "dict_keys(['fungi', 'template_v3', 'test'])\n"
     ]
    }
   ],
   "source": [
    "tc = TemplateCuration(template, mongo_database, annotation_api)\n",
    "tm = TemplateManipulator(template, modelseed)\n",
    "a = tc.get_reaction_annotation()\n",
    "print(a.keys())"
   ]
  },
  {
   "cell_type": "code",
   "execution_count": 124,
   "metadata": {},
   "outputs": [],
   "source": [
    "search_name_to_role_id = tm.get_search_name_to_role_id()\n",
    "for k in search_name_to_role_id:\n",
    "    if len(search_name_to_role_id[k]) > 1:\n",
    "        print(k)\n",
    "accept, remove = tc.get_curation_data(annotation_namespace)\n",
    "if reaction_list is not None:\n",
    "    accept = dict(filter(lambda x: x[0] in reaction_list, accept.items()))\n",
    "    remove = dict(filter(lambda x: x[0] in reaction_list, remove.items()))\n",
    "test_accept = dict(filter(lambda x: len(x[1]) > 0, accept.items()))\n",
    "test_remove = dict(filter(lambda x: len(x[1]) > 0, remove.items()))"
   ]
  },
  {
   "cell_type": "code",
   "execution_count": 126,
   "metadata": {},
   "outputs": [
    {
     "data": {
      "text/plain": [
       "{'rxn00001_c': {'352447', '416681', '5544039'}}"
      ]
     },
     "execution_count": 126,
     "metadata": {},
     "output_type": "execute_result"
    }
   ],
   "source": [
    "test_remove"
   ]
  },
  {
   "cell_type": "code",
   "execution_count": 127,
   "metadata": {},
   "outputs": [],
   "source": [
    "test_accept_sn_to_roles = tc.get_roles_to_add(test_accept, search_name_to_role_id)\n",
    "for role_sn in test_accept_sn_to_roles:\n",
    "    role_name = list(test_accept_sn_to_roles[role_sn])[0]\n",
    "    template.add_role(role_name)\n",
    "search_name_to_role_id = tm.get_search_name_to_role_id()"
   ]
  },
  {
   "cell_type": "code",
   "execution_count": 128,
   "metadata": {},
   "outputs": [
    {
     "name": "stdout",
     "output_type": "stream",
     "text": [
      "[]\n"
     ]
    }
   ],
   "source": [
    "print(template.reactions)"
   ]
  },
  {
   "cell_type": "code",
   "execution_count": 129,
   "metadata": {},
   "outputs": [],
   "source": [
    "# remove all reactions exclude from template\n",
    "remove_reactions = tc.get_disabled_reactions(annotation_namespace)"
   ]
  },
  {
   "cell_type": "code",
   "execution_count": 130,
   "metadata": {},
   "outputs": [],
   "source": [
    "reactions_in_template = set(map(lambda x: x.id, template.reactions))\n",
    "\n",
    "# strip complexes from reactions in remove set\n",
    "for trxn_id in remove_reactions:\n",
    "    if trxn_id in reactions_in_template:\n",
    "        trxn = template.get_reaction(trxn_id)\n",
    "        trxn.templatecomplex_refs.clear()"
   ]
  },
  {
   "cell_type": "code",
   "execution_count": 131,
   "metadata": {},
   "outputs": [],
   "source": [
    "# add new reactions\n",
    "reactions_to_add = []\n",
    "for doc in tc.curation_api['templates_reactions'].find():\n",
    "    template_rxn_id, template_id = doc['_id'].split('@')\n",
    "    if template_id == annotation_namespace and template_rxn_id not in remove_reactions and \\\n",
    "            (reaction_list is None or template_rxn_id in reaction_list):\n",
    "        if 'cmp' in doc:\n",
    "            if template_rxn_id not in reactions_in_template and \\\n",
    "                    'annotation' in doc and \\\n",
    "                    'seed__DOT__reaction' in doc['annotation']:\n",
    "                seed_id = doc['annotation']['seed__DOT__reaction']\n",
    "                trxn_b = tm.build_template_reaction_from_modelseed(seed_id, doc['cmp'])\n",
    "                reactions_to_add.append(NewModelTemplateReaction(trxn_b))"
   ]
  },
  {
   "cell_type": "code",
   "execution_count": null,
   "metadata": {},
   "outputs": [],
   "source": []
  },
  {
   "cell_type": "code",
   "execution_count": null,
   "metadata": {},
   "outputs": [],
   "source": []
  },
  {
   "cell_type": "code",
   "execution_count": null,
   "metadata": {},
   "outputs": [],
   "source": []
  },
  {
   "cell_type": "code",
   "execution_count": null,
   "metadata": {},
   "outputs": [],
   "source": []
  },
  {
   "cell_type": "code",
   "execution_count": null,
   "metadata": {},
   "outputs": [],
   "source": []
  },
  {
   "cell_type": "code",
   "execution_count": null,
   "metadata": {},
   "outputs": [],
   "source": []
  },
  {
   "cell_type": "code",
   "execution_count": null,
   "metadata": {},
   "outputs": [],
   "source": []
  },
  {
   "cell_type": "code",
   "execution_count": 82,
   "metadata": {},
   "outputs": [
    {
     "name": "stdout",
     "output_type": "stream",
     "text": [
      "rxn11811_c\n"
     ]
    }
   ],
   "source": [
    "oo = set()\n",
    "for o in reactions_to_add:\n",
    "    if o.id == 'rxn11811_c':\n",
    "        print(o.id)\n",
    "    if o.id not in oo:\n",
    "        oo.add(o.id)\n",
    "    else:\n",
    "        print(o.id)"
   ]
  },
  {
   "cell_type": "code",
   "execution_count": 132,
   "metadata": {},
   "outputs": [],
   "source": [
    "template.reactions += reactions_to_add\n",
    "reactions_in_template = set(map(lambda x: x.id, template.reactions))"
   ]
  },
  {
   "cell_type": "code",
   "execution_count": 133,
   "metadata": {},
   "outputs": [],
   "source": [
    "for trxn_id in set(test_remove):\n",
    "    if trxn_id in reactions_in_template and trxn_id not in remove_reactions:\n",
    "        template_rxn = template.get_reaction(trxn_id)\n",
    "        role_change = tc.get_role_change(trxn_id, {}, test_remove)\n",
    "        # role_change = get_role_change2(tc, rxn_id, {}, test_remove)\n",
    "        # print(trxn.id)\n",
    "        nfunction = tc.update_roles(template_rxn, role_change, search_name_to_role_id, True)\n",
    "    else:\n",
    "        logger.warning('%s', trxn_id)\n",
    "\n",
    "\n",
    "def refresh(template):\n",
    "    template.role_set_to_cpx = {}\n",
    "    template.search_name_to_role_id = {}\n",
    "    for role in template.data['roles']:\n",
    "        template.search_name_to_role_id[normalize_role(role['name'])] = role['id']\n",
    "    for cpx in template.data['complexes']:\n",
    "        roles = set()\n",
    "        for complexrole in cpx['complexroles']:\n",
    "            role_id = complexrole['templaterole_ref'].split('/')[-1]\n",
    "            roles.add(role_id)\n",
    "        # print(cpx, roles)\n",
    "        template.role_set_to_cpx[';'.join(sorted(roles))] = cpx['id']\n",
    "\n",
    "refresh(template)"
   ]
  },
  {
   "cell_type": "code",
   "execution_count": null,
   "metadata": {},
   "outputs": [],
   "source": []
  },
  {
   "cell_type": "code",
   "execution_count": 134,
   "metadata": {},
   "outputs": [
    {
     "name": "stderr",
     "output_type": "stream",
     "text": [
      "WARNING:cobrakbase.core.kbasefba.template_curation:unable to find complex for ['tftr00004']\n",
      "WARNING:cobrakbase.core.kbasefba.template_curation:build complex for {'Manganese-dependent inorganic pyrophosphatase (EC 3.6.1.1)'}\n",
      "WARNING:cobrakbase.core.kbasefba.template_curation:unable to find complex for ['tftr00001']\n",
      "WARNING:cobrakbase.core.kbasefba.template_curation:build complex for {'exopolyphosphatase (EC 3.6.1.11)'}\n",
      "WARNING:cobrakbase.core.kbasefba.template_curation:unable to find complex for ['tftr00002']\n",
      "WARNING:cobrakbase.core.kbasefba.template_curation:build complex for {'Inorganic pyrophospatase PpaX'}\n",
      "WARNING:cobrakbase.core.kbasefba.template_curation:unable to find complex for ['tftr00003']\n",
      "WARNING:cobrakbase.core.kbasefba.template_curation:build complex for {'Inorganic pyrophosphatase (EC 3.6.1.1)'}\n"
     ]
    }
   ],
   "source": [
    "for trxn_id in set(test_accept):\n",
    "    if trxn_id in reactions_in_template and trxn_id not in remove_reactions  and \\\n",
    "            (reaction_list is None or trxn_id in reaction_list):\n",
    "        template_rxn = template.get_reaction(trxn_id)\n",
    "        try:\n",
    "            role_change = tc.get_role_change(trxn_id, test_accept, {})\n",
    "            # role_change = get_role_change2(tc, rxn_id, test_accept, {})\n",
    "            nfunction = tc.update_roles(template_rxn, role_change, search_name_to_role_id, True)\n",
    "        except Exception as e:\n",
    "            print(template_rxn.id, e)\n",
    "    else:\n",
    "        logger.warning('%s', trxn_id)"
   ]
  },
  {
   "cell_type": "code",
   "execution_count": 142,
   "metadata": {},
   "outputs": [
    {
     "name": "stdout",
     "output_type": "stream",
     "text": [
      "rxn00001_c\n",
      "0\n"
     ]
    }
   ],
   "source": [
    "reaction_annotation = tc.get_reaction_annotation()\n",
    "role_uids = set()\n",
    "system_accept_role_uids = set()\n",
    "for rxn_id in reaction_annotation[annotation_namespace]:\n",
    "    if reaction_list is None or rxn_id in reaction_list:\n",
    "        for role_id in reaction_annotation[annotation_namespace][rxn_id]['user']:\n",
    "            score = reaction_annotation[annotation_namespace][rxn_id]['current'][str(role_id)]\n",
    "            if score == 'opt_score1':\n",
    "                user_log = reaction_annotation[annotation_namespace][rxn_id]['user'][role_id]\n",
    "                if len(user_log) > 1 or 'system' not in user_log:\n",
    "                    role_uids.add(role_id)\n",
    "                    # print(rxn_id, role_id, user_log, score)\n",
    "                else:\n",
    "                    system_accept_role_uids.add(role_id)\n",
    "\n",
    "print(len(role_uids))\n",
    "for role_uid in role_uids:\n",
    "    a, role_ids = tc.get_function(role_uid, search_name_to_role_id)\n",
    "    for role_id in role_ids:\n",
    "        role = template.get_role(role_id)\n",
    "        if role:\n",
    "            # print(role_uid, role['id'], role['source'])\n",
    "            role['source'] = 'ModelSEED'"
   ]
  },
  {
   "cell_type": "code",
   "execution_count": 61,
   "metadata": {},
   "outputs": [],
   "source": [
    "result = kbase.save_object('template_clear_roles', 'filipeliu:narrative_1582914694010', 'KBaseFBA.NewModelTemplate', template.get_data())"
   ]
  },
  {
   "cell_type": "code",
   "execution_count": 147,
   "metadata": {},
   "outputs": [
    {
     "name": "stdout",
     "output_type": "stream",
     "text": [
      "rxn10121\n"
     ]
    }
   ],
   "source": [
    "for rxn_id in reaction_annotation[annotation_namespace]:\n",
    "    print(rxn_id)\n",
    "    break"
   ]
  },
  {
   "cell_type": "code",
   "execution_count": 148,
   "metadata": {},
   "outputs": [],
   "source": [
    "%run ../../curation_api.py"
   ]
  },
  {
   "cell_type": "code",
   "execution_count": 149,
   "metadata": {},
   "outputs": [],
   "source": [
    "curation_api = CurationApi(aclient)"
   ]
  },
  {
   "cell_type": "code",
   "execution_count": 150,
   "metadata": {},
   "outputs": [],
   "source": [
    "rxn_annotation_manual_function = curation_api.get_manual_function('rxn15046_c', 'fungi')"
   ]
  },
  {
   "cell_type": "code",
   "execution_count": 151,
   "metadata": {},
   "outputs": [
    {
     "data": {
      "text/plain": [
       "{'_id': 'rxn15046_c@fungi',\n",
       " 'functions': {'502156': True},\n",
       " 'log': [{'timestamp': 1601536929,\n",
       "   'user_id': 'fliu',\n",
       "   'action': True,\n",
       "   'target': '502156'}]}"
      ]
     },
     "execution_count": 151,
     "metadata": {},
     "output_type": "execute_result"
    }
   ],
   "source": [
    "rxn_annotation_manual_function"
   ]
  },
  {
   "cell_type": "code",
   "execution_count": 153,
   "metadata": {},
   "outputs": [],
   "source": [
    "f = annotation_api.get_function_by_uid(502156)"
   ]
  },
  {
   "cell_type": "code",
   "execution_count": 154,
   "metadata": {},
   "outputs": [
    {
     "data": {
      "text/plain": [
       "'\"DNA-binding protein, CopG family\"'"
      ]
     },
     "execution_count": 154,
     "metadata": {},
     "output_type": "execute_result"
    }
   ],
   "source": [
    "f.value"
   ]
  },
  {
   "cell_type": "code",
   "execution_count": null,
   "metadata": {},
   "outputs": [],
   "source": []
  }
 ],
 "metadata": {
  "kernelspec": {
   "display_name": "Python 3",
   "language": "python",
   "name": "python3"
  },
  "language_info": {
   "codemirror_mode": {
    "name": "ipython",
    "version": 3
   },
   "file_extension": ".py",
   "mimetype": "text/x-python",
   "name": "python",
   "nbconvert_exporter": "python",
   "pygments_lexer": "ipython3",
   "version": "3.7.4"
  }
 },
 "nbformat": 4,
 "nbformat_minor": 4
}
